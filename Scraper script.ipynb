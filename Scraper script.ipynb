{
 "cells": [
  {
   "cell_type": "markdown",
   "metadata": {},
   "source": [
    "# Scraper, 10K Preparing, GICS df preparing\n",
    "\n",
    "- All non-scrapy scrappers are here"
   ]
  },
  {
   "cell_type": "code",
   "execution_count": 1,
   "metadata": {},
   "outputs": [],
   "source": [
    "import os\n",
    "from lxml import etree\n",
    "import bs4 as bs\n",
    "import requests\n",
    "import time\n",
    "import sys\n",
    "from selenium import webdriver\n",
    "import numpy as np\n",
    "import pandas as pd\n",
    "from datetime import datetime"
   ]
  },
  {
   "cell_type": "markdown",
   "metadata": {},
   "source": [
    "# Scrape Tickers\n",
    "\n",
    "- This section is just to get a sets of tickers (the other info collected are not that necessary)"
   ]
  },
  {
   "cell_type": "markdown",
   "metadata": {},
   "source": [
    "### SnP500"
   ]
  },
  {
   "cell_type": "code",
   "execution_count": null,
   "metadata": {},
   "outputs": [],
   "source": [
    "snp_tickers_df = pd.read_html('http://en.wikipedia.org/wiki/List_of_S%26P_500_companies', match= 'GICS')[0]"
   ]
  },
  {
   "cell_type": "code",
   "execution_count": null,
   "metadata": {},
   "outputs": [],
   "source": [
    "snp_tickers_df.Symbol = snp_tickers_df.Symbol.str.replace('.', '-')\n",
    "snp_tickers_df = snp_tickers_df[['Symbol', 'Security', 'GICS Sector', 'GICS Sub Industry', 'CIK']]\n",
    "snp_tickers_df.head()"
   ]
  },
  {
   "cell_type": "code",
   "execution_count": null,
   "metadata": {},
   "outputs": [],
   "source": [
    "# if not df not saved yet, do this\n",
    "# snp_tickers_df.to_csv('data_out/snp_tickers_df.csv')\n",
    "# snp_tickers_df.to_csv('yahoo_spiders/data_in/snp_tickers_df.csv')"
   ]
  },
  {
   "cell_type": "code",
   "execution_count": null,
   "metadata": {},
   "outputs": [],
   "source": [
    "snp_tickers_df = pd.read_csv('data_in/snp_tickers_df.csv', index_col=0)\n",
    "snp_tickers_df.head()"
   ]
  },
  {
   "cell_type": "code",
   "execution_count": null,
   "metadata": {},
   "outputs": [],
   "source": [
    "'''\n",
    "Long winded method using BS4\n",
    "\n",
    "def get_sp500_tickers():\n",
    "    resp = requests.get('http://en.wikipedia.org/wiki/List_of_S%26P_500_companies')\n",
    "    soup = bs.BeautifulSoup(resp.text, 'lxml')\n",
    "    table = soup.find('table', {'class': 'wikitable sortable'})\n",
    "    tickers = []\n",
    "    for row in table.findAll('tr')[1:]:\n",
    "        ticker = row.findAll('td')[0].text\n",
    "        if ticker[-1:]=='\\n':\n",
    "            ticker=ticker[:-1]\n",
    "        ticker=ticker.replace('.','')\n",
    "        tickers.append(ticker)\n",
    "    return tickers\n",
    "'''\n",
    "pass"
   ]
  },
  {
   "cell_type": "markdown",
   "metadata": {},
   "source": [
    "### Russell 3000\n",
    "\n",
    "- could not find reliable source with tickers and companies"
   ]
  },
  {
   "cell_type": "markdown",
   "metadata": {},
   "source": [
    "##### Source 1\n",
    "\n",
    " - this shd be better, but it is from a 3rd party source"
   ]
  },
  {
   "cell_type": "code",
   "execution_count": 2,
   "metadata": {},
   "outputs": [],
   "source": [
    "russell_tickers_df = pd.read_html('http://www.kibot.com/Historical_Data/Russell_3000_Historical_Intraday_Data.aspx')[1]"
   ]
  },
  {
   "cell_type": "code",
   "execution_count": 3,
   "metadata": {},
   "outputs": [
    {
     "data": {
      "text/html": [
       "<div>\n",
       "<style scoped>\n",
       "    .dataframe tbody tr th:only-of-type {\n",
       "        vertical-align: middle;\n",
       "    }\n",
       "\n",
       "    .dataframe tbody tr th {\n",
       "        vertical-align: top;\n",
       "    }\n",
       "\n",
       "    .dataframe thead th {\n",
       "        text-align: right;\n",
       "    }\n",
       "</style>\n",
       "<table border=\"1\" class=\"dataframe\">\n",
       "  <thead>\n",
       "    <tr style=\"text-align: right;\">\n",
       "      <th></th>\n",
       "      <th>Symbol</th>\n",
       "      <th>Description</th>\n",
       "      <th>Industry</th>\n",
       "      <th>Sector</th>\n",
       "    </tr>\n",
       "  </thead>\n",
       "  <tbody>\n",
       "    <tr>\n",
       "      <th>0</th>\n",
       "      <td>A</td>\n",
       "      <td>AGILENT TECHNOLOGIES, INC.</td>\n",
       "      <td>Biotechnology: Laboratory Analytical Instruments</td>\n",
       "      <td>Capital Goods</td>\n",
       "    </tr>\n",
       "    <tr>\n",
       "      <th>1</th>\n",
       "      <td>AA</td>\n",
       "      <td>ALCOA CORPORATION</td>\n",
       "      <td>Aluminum</td>\n",
       "      <td>Basic Industries</td>\n",
       "    </tr>\n",
       "    <tr>\n",
       "      <th>2</th>\n",
       "      <td>AAL</td>\n",
       "      <td>AMERICAN AIRLINES GROUP, INC.</td>\n",
       "      <td>Air Freight/Delivery Services</td>\n",
       "      <td>Transportation</td>\n",
       "    </tr>\n",
       "    <tr>\n",
       "      <th>3</th>\n",
       "      <td>AAN</td>\n",
       "      <td>AARON'S, INC.</td>\n",
       "      <td>Diversified Commercial Services</td>\n",
       "      <td>Technology</td>\n",
       "    </tr>\n",
       "    <tr>\n",
       "      <th>4</th>\n",
       "      <td>AAOI</td>\n",
       "      <td>APPLIED OPTOELECTRONICS, INC.</td>\n",
       "      <td>Semiconductors</td>\n",
       "      <td>Technology</td>\n",
       "    </tr>\n",
       "  </tbody>\n",
       "</table>\n",
       "</div>"
      ],
      "text/plain": [
       "  Symbol                    Description  \\\n",
       "0      A     AGILENT TECHNOLOGIES, INC.   \n",
       "1     AA              ALCOA CORPORATION   \n",
       "2    AAL  AMERICAN AIRLINES GROUP, INC.   \n",
       "3    AAN                  AARON'S, INC.   \n",
       "4   AAOI  APPLIED OPTOELECTRONICS, INC.   \n",
       "\n",
       "                                           Industry            Sector  \n",
       "0  Biotechnology: Laboratory Analytical Instruments     Capital Goods  \n",
       "1                                          Aluminum  Basic Industries  \n",
       "2                     Air Freight/Delivery Services    Transportation  \n",
       "3                   Diversified Commercial Services        Technology  \n",
       "4                                    Semiconductors        Technology  "
      ]
     },
     "execution_count": 3,
     "metadata": {},
     "output_type": "execute_result"
    }
   ],
   "source": [
    "russell_tickers_df = russell_tickers_df.rename(columns=russell_tickers_df.iloc[0]).drop(0)[\n",
    "                        ['Symbol', 'Description', 'Industry', 'Sector']].reset_index(drop=True)\n",
    "russell_tickers_df.Symbol = russell_tickers_df.Symbol.str.replace('.', '-')\n",
    "russell_tickers_df.head()"
   ]
  },
  {
   "cell_type": "code",
   "execution_count": 4,
   "metadata": {},
   "outputs": [],
   "source": [
    "# if not df not saved yet, do this\n",
    "# russell_tickers_df.to_csv('data_out/russell_tickers_df.csv')\n",
    "# russell_tickers_df.to_csv('yahoo_spiders/data_in/russell_tickers_df.csv')"
   ]
  },
  {
   "cell_type": "code",
   "execution_count": 5,
   "metadata": {
    "scrolled": true
   },
   "outputs": [
    {
     "data": {
      "text/html": [
       "<div>\n",
       "<style scoped>\n",
       "    .dataframe tbody tr th:only-of-type {\n",
       "        vertical-align: middle;\n",
       "    }\n",
       "\n",
       "    .dataframe tbody tr th {\n",
       "        vertical-align: top;\n",
       "    }\n",
       "\n",
       "    .dataframe thead th {\n",
       "        text-align: right;\n",
       "    }\n",
       "</style>\n",
       "<table border=\"1\" class=\"dataframe\">\n",
       "  <thead>\n",
       "    <tr style=\"text-align: right;\">\n",
       "      <th></th>\n",
       "      <th>Symbol</th>\n",
       "      <th>Description</th>\n",
       "      <th>Industry</th>\n",
       "      <th>Sector</th>\n",
       "    </tr>\n",
       "  </thead>\n",
       "  <tbody>\n",
       "    <tr>\n",
       "      <th>0</th>\n",
       "      <td>A</td>\n",
       "      <td>AGILENT TECHNOLOGIES, INC.</td>\n",
       "      <td>Biotechnology: Laboratory Analytical Instruments</td>\n",
       "      <td>Capital Goods</td>\n",
       "    </tr>\n",
       "    <tr>\n",
       "      <th>1</th>\n",
       "      <td>AA</td>\n",
       "      <td>ALCOA CORPORATION</td>\n",
       "      <td>Aluminum</td>\n",
       "      <td>Basic Industries</td>\n",
       "    </tr>\n",
       "    <tr>\n",
       "      <th>2</th>\n",
       "      <td>AAL</td>\n",
       "      <td>AMERICAN AIRLINES GROUP, INC.</td>\n",
       "      <td>Air Freight/Delivery Services</td>\n",
       "      <td>Transportation</td>\n",
       "    </tr>\n",
       "    <tr>\n",
       "      <th>3</th>\n",
       "      <td>AAN</td>\n",
       "      <td>AARON'S, INC.</td>\n",
       "      <td>Diversified Commercial Services</td>\n",
       "      <td>Technology</td>\n",
       "    </tr>\n",
       "    <tr>\n",
       "      <th>4</th>\n",
       "      <td>AAOI</td>\n",
       "      <td>APPLIED OPTOELECTRONICS, INC.</td>\n",
       "      <td>Semiconductors</td>\n",
       "      <td>Technology</td>\n",
       "    </tr>\n",
       "  </tbody>\n",
       "</table>\n",
       "</div>"
      ],
      "text/plain": [
       "  Symbol                    Description  \\\n",
       "0      A     AGILENT TECHNOLOGIES, INC.   \n",
       "1     AA              ALCOA CORPORATION   \n",
       "2    AAL  AMERICAN AIRLINES GROUP, INC.   \n",
       "3    AAN                  AARON'S, INC.   \n",
       "4   AAOI  APPLIED OPTOELECTRONICS, INC.   \n",
       "\n",
       "                                           Industry            Sector  \n",
       "0  Biotechnology: Laboratory Analytical Instruments     Capital Goods  \n",
       "1                                          Aluminum  Basic Industries  \n",
       "2                     Air Freight/Delivery Services    Transportation  \n",
       "3                   Diversified Commercial Services        Technology  \n",
       "4                                    Semiconductors        Technology  "
      ]
     },
     "execution_count": 5,
     "metadata": {},
     "output_type": "execute_result"
    }
   ],
   "source": [
    "russell_tickers_df = pd.read_csv('data_out/russell_tickers_df.csv', index_col=0)\n",
    "russell_tickers_df.head()"
   ]
  },
  {
   "cell_type": "markdown",
   "metadata": {},
   "source": [
    "##### Source 2\n",
    "- problem with this method is need to get tickers"
   ]
  },
  {
   "cell_type": "code",
   "execution_count": null,
   "metadata": {},
   "outputs": [],
   "source": [
    "import tabula"
   ]
  },
  {
   "cell_type": "code",
   "execution_count": null,
   "metadata": {},
   "outputs": [],
   "source": [
    "all_ticker_tables_df_list = tabula.read_pdf('data_in/russell3000.pdf', pages=\"all\")"
   ]
  },
  {
   "cell_type": "code",
   "execution_count": null,
   "metadata": {},
   "outputs": [],
   "source": [
    "russell_tickers_df2 = pd.concat(all_ticker_tables_df_list).reset_index(drop=True)\n",
    "russell_tickers_df2.head()"
   ]
  },
  {
   "cell_type": "code",
   "execution_count": null,
   "metadata": {},
   "outputs": [],
   "source": [
    "russell_tickers_df2[russell_tickers_df2.Symbol.str.contains(\".\", regex=False)]"
   ]
  },
  {
   "cell_type": "markdown",
   "metadata": {},
   "source": [
    "### STI"
   ]
  },
  {
   "cell_type": "code",
   "execution_count": null,
   "metadata": {},
   "outputs": [],
   "source": [
    "sti_ticker_df = pd.read_html('https://en.wikipedia.org/wiki/Straits_Times_Index', match= 'Stock Symbol')[0]"
   ]
  },
  {
   "cell_type": "code",
   "execution_count": null,
   "metadata": {},
   "outputs": [],
   "source": [
    "sti_ticker_df.head()"
   ]
  },
  {
   "cell_type": "code",
   "execution_count": null,
   "metadata": {},
   "outputs": [],
   "source": [
    "sti_ticker_df.to_csv('data_out/sti_ticker_df.csv')"
   ]
  },
  {
   "cell_type": "markdown",
   "metadata": {},
   "source": [
    "# Description, Sector, Industry scraping\n",
    "\n",
    "- can try selenium grid for multiprocessing"
   ]
  },
  {
   "cell_type": "code",
   "execution_count": 6,
   "metadata": {},
   "outputs": [],
   "source": [
    "tickers_df = russell_tickers_df"
   ]
  },
  {
   "cell_type": "markdown",
   "metadata": {},
   "source": [
    "### Selenium"
   ]
  },
  {
   "cell_type": "code",
   "execution_count": 7,
   "metadata": {},
   "outputs": [],
   "source": [
    "import time\n",
    "from selenium import webdriver\n",
    "from tqdm import tqdm # If ur using Jupyter Lab\n",
    "from tqdm.notebook import tqdm # If you are using Jupyter Notebook\n",
    "from multiprocessing import Pool\n",
    "from IPython.display import display, HTML\n",
    "\n",
    "from selenium.webdriver.support.ui import WebDriverWait\n",
    "from selenium.webdriver.support import expected_conditions as EC\n",
    "from selenium.webdriver.common.by import By"
   ]
  },
  {
   "cell_type": "markdown",
   "metadata": {},
   "source": [
    "##### Desc Scraping"
   ]
  },
  {
   "cell_type": "code",
   "execution_count": null,
   "metadata": {
    "scrolled": false
   },
   "outputs": [],
   "source": [
    "# %%time\n",
    "ticker_list = tickers_df.Symbol[:2]\n",
    "# ticker_list = ['GOOG', 'GOOGL']\n",
    "ticker_desc_df = pd.DataFrame(columns = ['Ticker', 'Description', 'Sector', 'Industry'])\n",
    "wrong_ticker_list = []\n",
    "\n",
    "options = webdriver.ChromeOptions()\n",
    "options.add_argument('--ignore-certificate-errors')\n",
    "options.add_argument('--headless')\n",
    "options.add_argument('--no-sandbox') # Bypass OS security model\n",
    "\n",
    "# If you print, tqdm bar will not work\n",
    "for ticker in tqdm(ticker_list):\n",
    "    url = 'https://finance.yahoo.com/quote/'+ticker+'/profile?p='+ticker\n",
    "    print(url)    \n",
    "    \n",
    "    driver = webdriver.Chrome(options=options)\n",
    "    driver.get(url)\n",
    "    \n",
    "    desc_xpath = '//*[@id=\"Col1-0-Profile-Proxy\"]/section/section[2]/p'\n",
    "    element_present = EC.presence_of_element_located(\n",
    "                (By.XPATH, desc_xpath))\n",
    "    try:\n",
    "        WebDriverWait(driver, 10).until(element_present)\n",
    "    except:\n",
    "        print(ticker)\n",
    "        wrong_ticker_list.append(ticker)\n",
    "        continue\n",
    "    \n",
    "    desc = driver.find_element_by_xpath(desc_xpath).text\n",
    "    sector = driver.find_element_by_xpath('//*[@id=\"Col1-0-Profile-Proxy\"]/section/div[1]/div/div/p[2]/span[2]').text\n",
    "    industry = driver.find_element_by_xpath('//*[@id=\"Col1-0-Profile-Proxy\"]/section/div[1]/div/div/p[2]/span[4]').text\n",
    "    \n",
    "    ticker_desc_df.loc[len(ticker_desc_df)] = [ticker, desc, sector, industry]\n",
    "    driver.close() #need?\n",
    "display(ticker_desc_df)\n",
    "wrong_ticker_list"
   ]
  },
  {
   "cell_type": "code",
   "execution_count": null,
   "metadata": {},
   "outputs": [],
   "source": [
    "ticker_desc_df.to_csv('data_out/russell_desc_df.csv', encoding='utf-8-sig')"
   ]
  },
  {
   "cell_type": "markdown",
   "metadata": {},
   "source": [
    "Comparison to Scrapy\n",
    "- Sometime when running scrapy spider, it causes some links to stop be able to be accessed by this computer, which is a odd phenomenon\n",
    "- after a while it is okay\n",
    "\n",
    "Timing\n",
    "- Scrapy: 78s\n",
    "- Selenium: 1hr ++\n",
    "    - Running headless makes it about 30% faster\n",
    "    - Rruns faster than the original code (profs code) as well"
   ]
  },
  {
   "cell_type": "markdown",
   "metadata": {},
   "source": [
    "##### Try using multithreading with Selenium"
   ]
  },
  {
   "cell_type": "code",
   "execution_count": null,
   "metadata": {},
   "outputs": [],
   "source": [
    "'''%%time\n",
    "\n",
    "import multithreading_test\n",
    "\n",
    "ticker_list = tickers_df.Symbol.head(5)\n",
    "ticker_desc = pd.DataFrame(columns = ['Ticker', 'Description', 'Sector', 'Industry'])\n",
    "\n",
    "p = Pool(processes = 4)\n",
    "results = p.map_async(multithreading_test.get_ticker_desc_3, ticker_list)\n",
    "output = results.get()\n",
    "\n",
    "ticker_desc_df = pd.DataFrame(output, columns = ['Ticker', 'Description', 'Sector', 'Industry'])\n",
    "display(ticker_desc_df)\n",
    "'''\n",
    "pass"
   ]
  },
  {
   "cell_type": "markdown",
   "metadata": {},
   "source": [
    "##### Price Scraping (Method 1 : by clicking Downloads)\n",
    "\n",
    "- Have to use selenium (and not scrapy) for price scraping as you need to interact with the webpage to extract the prices (i.e. clicking button or scrolling)\n",
    "    - even if use pd.read_HTML(), it only outputs 100 elements (no interactivity)"
   ]
  },
  {
   "cell_type": "code",
   "execution_count": null,
   "metadata": {
    "scrolled": true
   },
   "outputs": [
    {
     "data": {
      "application/vnd.jupyter.widget-view+json": {
       "model_id": "82fc4d97d667415c8b0a91c6575b8bbc",
       "version_major": 2,
       "version_minor": 0
      },
      "text/plain": [
       "HBox(children=(FloatProgress(value=0.0, max=2720.0), HTML(value='')))"
      ]
     },
     "metadata": {},
     "output_type": "display_data"
    },
    {
     "name": "stdout",
     "output_type": "stream",
     "text": [
      "Processing: A\n",
      "Processing: AA\n",
      "Processing: AAL\n",
      "https://finance.yahoo.com/quote/AAL/history?period1=1546272000&period2=1577808000&interval=1d&filter=history&frequency=1d\n"
     ]
    },
    {
     "name": "stderr",
     "output_type": "stream",
     "text": [
      "c:\\users\\sival\\appdata\\local\\programs\\python\\python36\\lib\\site-packages\\ipykernel_launcher.py:32: DeprecationWarning: use options instead of chrome_options\n"
     ]
    },
    {
     "name": "stdout",
     "output_type": "stream",
     "text": [
      "Processing: AAN\n",
      "https://finance.yahoo.com/quote/AAN/history?period1=1546272000&period2=1577808000&interval=1d&filter=history&frequency=1d\n",
      "Processing: AAOI\n",
      "https://finance.yahoo.com/quote/AAOI/history?period1=1546272000&period2=1577808000&interval=1d&filter=history&frequency=1d\n",
      "Processing: AAON\n",
      "https://finance.yahoo.com/quote/AAON/history?period1=1546272000&period2=1577808000&interval=1d&filter=history&frequency=1d\n",
      "Processing: AAP\n",
      "https://finance.yahoo.com/quote/AAP/history?period1=1546272000&period2=1577808000&interval=1d&filter=history&frequency=1d\n",
      "Processing: AAPL\n",
      "https://finance.yahoo.com/quote/AAPL/history?period1=1546272000&period2=1577808000&interval=1d&filter=history&frequency=1d\n",
      "Processing: AAT\n",
      "https://finance.yahoo.com/quote/AAT/history?period1=1546272000&period2=1577808000&interval=1d&filter=history&frequency=1d\n",
      "Processing: AAWW\n",
      "https://finance.yahoo.com/quote/AAWW/history?period1=1546272000&period2=1577808000&interval=1d&filter=history&frequency=1d\n",
      "Processing: AAXN\n",
      "https://finance.yahoo.com/quote/AAXN/history?period1=1546272000&period2=1577808000&interval=1d&filter=history&frequency=1d\n",
      "Processing: ABBV\n",
      "https://finance.yahoo.com/quote/ABBV/history?period1=1546272000&period2=1577808000&interval=1d&filter=history&frequency=1d\n",
      "Processing: ABC\n",
      "https://finance.yahoo.com/quote/ABC/history?period1=1546272000&period2=1577808000&interval=1d&filter=history&frequency=1d\n",
      "Processing: ABCB\n",
      "https://finance.yahoo.com/quote/ABCB/history?period1=1546272000&period2=1577808000&interval=1d&filter=history&frequency=1d\n",
      "Processing: ABEO\n",
      "https://finance.yahoo.com/quote/ABEO/history?period1=1546272000&period2=1577808000&interval=1d&filter=history&frequency=1d\n",
      "Processing: ABG\n",
      "https://finance.yahoo.com/quote/ABG/history?period1=1546272000&period2=1577808000&interval=1d&filter=history&frequency=1d\n",
      "Processing: ABM\n",
      "https://finance.yahoo.com/quote/ABM/history?period1=1546272000&period2=1577808000&interval=1d&filter=history&frequency=1d\n",
      "Processing: ABMD\n",
      "https://finance.yahoo.com/quote/ABMD/history?period1=1546272000&period2=1577808000&interval=1d&filter=history&frequency=1d\n",
      "Processing: ABR\n",
      "https://finance.yahoo.com/quote/ABR/history?period1=1546272000&period2=1577808000&interval=1d&filter=history&frequency=1d\n",
      "Processing: ABT\n",
      "https://finance.yahoo.com/quote/ABT/history?period1=1546272000&period2=1577808000&interval=1d&filter=history&frequency=1d\n",
      "Processing: ABTX\n",
      "https://finance.yahoo.com/quote/ABTX/history?period1=1546272000&period2=1577808000&interval=1d&filter=history&frequency=1d\n",
      "Processing: AC\n",
      "https://finance.yahoo.com/quote/AC/history?period1=1546272000&period2=1577808000&interval=1d&filter=history&frequency=1d\n",
      "Processing: ACAD\n",
      "https://finance.yahoo.com/quote/ACAD/history?period1=1546272000&period2=1577808000&interval=1d&filter=history&frequency=1d\n",
      "Processing: ACBI\n",
      "https://finance.yahoo.com/quote/ACBI/history?period1=1546272000&period2=1577808000&interval=1d&filter=history&frequency=1d\n",
      "Processing: ACC\n",
      "https://finance.yahoo.com/quote/ACC/history?period1=1546272000&period2=1577808000&interval=1d&filter=history&frequency=1d\n",
      "Processing: ACCO\n",
      "https://finance.yahoo.com/quote/ACCO/history?period1=1546272000&period2=1577808000&interval=1d&filter=history&frequency=1d\n",
      "Processing: ACGL\n",
      "https://finance.yahoo.com/quote/ACGL/history?period1=1546272000&period2=1577808000&interval=1d&filter=history&frequency=1d\n",
      "Processing: ACHC\n",
      "https://finance.yahoo.com/quote/ACHC/history?period1=1546272000&period2=1577808000&interval=1d&filter=history&frequency=1d\n",
      "Processing: ACI\n",
      "https://finance.yahoo.com/quote/ACI/history?period1=1546272000&period2=1577808000&interval=1d&filter=history&frequency=1d\n",
      "Ticker Error: ACI, 400 Bad Request: Data doesn't exist for startDate = 1546272000, endDate = 1577808000\n",
      "Processing: ACIA\n",
      "https://finance.yahoo.com/quote/ACIA/history?period1=1546272000&period2=1577808000&interval=1d&filter=history&frequency=1d\n",
      "Processing: ACIW\n",
      "https://finance.yahoo.com/quote/ACIW/history?period1=1546272000&period2=1577808000&interval=1d&filter=history&frequency=1d\n",
      "Processing: ACLS\n",
      "https://finance.yahoo.com/quote/ACLS/history?period1=1546272000&period2=1577808000&interval=1d&filter=history&frequency=1d\n",
      "Processing: ACM\n",
      "https://finance.yahoo.com/quote/ACM/history?period1=1546272000&period2=1577808000&interval=1d&filter=history&frequency=1d\n",
      "Processing: ACN\n",
      "https://finance.yahoo.com/quote/ACN/history?period1=1546272000&period2=1577808000&interval=1d&filter=history&frequency=1d\n",
      "Processing: ACNB\n",
      "https://finance.yahoo.com/quote/ACNB/history?period1=1546272000&period2=1577808000&interval=1d&filter=history&frequency=1d\n",
      "Processing: ACOR\n",
      "https://finance.yahoo.com/quote/ACOR/history?period1=1546272000&period2=1577808000&interval=1d&filter=history&frequency=1d\n",
      "Processing: ACRE\n",
      "https://finance.yahoo.com/quote/ACRE/history?period1=1546272000&period2=1577808000&interval=1d&filter=history&frequency=1d\n",
      "Processing: ACRS\n",
      "https://finance.yahoo.com/quote/ACRS/history?period1=1546272000&period2=1577808000&interval=1d&filter=history&frequency=1d\n",
      "Processing: ACRX\n",
      "https://finance.yahoo.com/quote/ACRX/history?period1=1546272000&period2=1577808000&interval=1d&filter=history&frequency=1d\n",
      "Processing: ACT\n",
      "https://finance.yahoo.com/quote/ACT/history?period1=1546272000&period2=1577808000&interval=1d&filter=history&frequency=1d\n",
      "Processing: ACTG\n",
      "https://finance.yahoo.com/quote/ACTG/history?period1=1546272000&period2=1577808000&interval=1d&filter=history&frequency=1d\n",
      "Processing: ACV\n",
      "https://finance.yahoo.com/quote/ACV/history?period1=1546272000&period2=1577808000&interval=1d&filter=history&frequency=1d\n",
      "Processing: ADBE\n",
      "https://finance.yahoo.com/quote/ADBE/history?period1=1546272000&period2=1577808000&interval=1d&filter=history&frequency=1d\n",
      "Processing: ADC\n",
      "https://finance.yahoo.com/quote/ADC/history?period1=1546272000&period2=1577808000&interval=1d&filter=history&frequency=1d\n",
      "Processing: ADCT\n",
      "https://finance.yahoo.com/quote/ADCT/history?period1=1546272000&period2=1577808000&interval=1d&filter=history&frequency=1d\n",
      "Ticker Error: ADCT, 400 Bad Request: Data doesn't exist for startDate = 1546272000, endDate = 1577808000\n",
      "Processing: ADES\n",
      "https://finance.yahoo.com/quote/ADES/history?period1=1546272000&period2=1577808000&interval=1d&filter=history&frequency=1d\n",
      "Processing: ADI\n",
      "https://finance.yahoo.com/quote/ADI/history?period1=1546272000&period2=1577808000&interval=1d&filter=history&frequency=1d\n",
      "Processing: ADM\n",
      "https://finance.yahoo.com/quote/ADM/history?period1=1546272000&period2=1577808000&interval=1d&filter=history&frequency=1d\n",
      "Processing: ADMS\n",
      "https://finance.yahoo.com/quote/ADMS/history?period1=1546272000&period2=1577808000&interval=1d&filter=history&frequency=1d\n",
      "Processing: ADNT\n",
      "https://finance.yahoo.com/quote/ADNT/history?period1=1546272000&period2=1577808000&interval=1d&filter=history&frequency=1d\n",
      "Processing: ADP\n",
      "https://finance.yahoo.com/quote/ADP/history?period1=1546272000&period2=1577808000&interval=1d&filter=history&frequency=1d\n",
      "Processing: ADPT\n",
      "https://finance.yahoo.com/quote/ADPT/history?period1=1546272000&period2=1577808000&interval=1d&filter=history&frequency=1d\n",
      "Processing: ADRO\n",
      "https://finance.yahoo.com/quote/ADRO/history?period1=1546272000&period2=1577808000&interval=1d&filter=history&frequency=1d\n",
      "Processing: ADS\n",
      "https://finance.yahoo.com/quote/ADS/history?period1=1546272000&period2=1577808000&interval=1d&filter=history&frequency=1d\n",
      "Processing: ADSK\n",
      "https://finance.yahoo.com/quote/ADSK/history?period1=1546272000&period2=1577808000&interval=1d&filter=history&frequency=1d\n",
      "Processing: ADSW\n",
      "https://finance.yahoo.com/quote/ADSW/history?period1=1546272000&period2=1577808000&interval=1d&filter=history&frequency=1d\n",
      "Processing: ADT\n",
      "https://finance.yahoo.com/quote/ADT/history?period1=1546272000&period2=1577808000&interval=1d&filter=history&frequency=1d\n",
      "Processing: ADTN\n",
      "https://finance.yahoo.com/quote/ADTN/history?period1=1546272000&period2=1577808000&interval=1d&filter=history&frequency=1d\n",
      "Processing: ADUS\n",
      "https://finance.yahoo.com/quote/ADUS/history?period1=1546272000&period2=1577808000&interval=1d&filter=history&frequency=1d\n",
      "Processing: ADXS\n",
      "https://finance.yahoo.com/quote/ADXS/history?period1=1546272000&period2=1577808000&interval=1d&filter=history&frequency=1d\n",
      "Processing: AE\n",
      "https://finance.yahoo.com/quote/AE/history?period1=1546272000&period2=1577808000&interval=1d&filter=history&frequency=1d\n"
     ]
    },
    {
     "name": "stdout",
     "output_type": "stream",
     "text": [
      "Processing: AEE\n",
      "https://finance.yahoo.com/quote/AEE/history?period1=1546272000&period2=1577808000&interval=1d&filter=history&frequency=1d\n",
      "Processing: AEGN\n",
      "https://finance.yahoo.com/quote/AEGN/history?period1=1546272000&period2=1577808000&interval=1d&filter=history&frequency=1d\n",
      "Processing: AEIS\n",
      "https://finance.yahoo.com/quote/AEIS/history?period1=1546272000&period2=1577808000&interval=1d&filter=history&frequency=1d\n",
      "Processing: AEL\n",
      "https://finance.yahoo.com/quote/AEL/history?period1=1546272000&period2=1577808000&interval=1d&filter=history&frequency=1d\n",
      "Processing: AEO\n",
      "https://finance.yahoo.com/quote/AEO/history?period1=1546272000&period2=1577808000&interval=1d&filter=history&frequency=1d\n",
      "Processing: AEP\n",
      "https://finance.yahoo.com/quote/AEP/history?period1=1546272000&period2=1577808000&interval=1d&filter=history&frequency=1d\n",
      "Processing: AERI\n",
      "https://finance.yahoo.com/quote/AERI/history?period1=1546272000&period2=1577808000&interval=1d&filter=history&frequency=1d\n",
      "Processing: AES\n",
      "https://finance.yahoo.com/quote/AES/history?period1=1546272000&period2=1577808000&interval=1d&filter=history&frequency=1d\n",
      "Processing: AFG\n",
      "https://finance.yahoo.com/quote/AFG/history?period1=1546272000&period2=1577808000&interval=1d&filter=history&frequency=1d\n",
      "Processing: AFH\n",
      "https://finance.yahoo.com/quote/AFH/history?period1=1546272000&period2=1577808000&interval=1d&filter=history&frequency=1d\n",
      "Processing: AFI\n",
      "https://finance.yahoo.com/quote/AFI/history?period1=1546272000&period2=1577808000&interval=1d&filter=history&frequency=1d\n",
      "Processing: AFL\n",
      "https://finance.yahoo.com/quote/AFL/history?period1=1546272000&period2=1577808000&interval=1d&filter=history&frequency=1d\n",
      "Processing: AG\n",
      "https://finance.yahoo.com/quote/AG/history?period1=1546272000&period2=1577808000&interval=1d&filter=history&frequency=1d\n",
      "Processing: AGCO\n",
      "https://finance.yahoo.com/quote/AGCO/history?period1=1546272000&period2=1577808000&interval=1d&filter=history&frequency=1d\n",
      "Processing: AGEN\n",
      "https://finance.yahoo.com/quote/AGEN/history?period1=1546272000&period2=1577808000&interval=1d&filter=history&frequency=1d\n",
      "Processing: AGFS\n",
      "https://finance.yahoo.com/quote/AGFS/history?period1=1546272000&period2=1577808000&interval=1d&filter=history&frequency=1d\n",
      "Processing: AGIO\n",
      "https://finance.yahoo.com/quote/AGIO/history?period1=1546272000&period2=1577808000&interval=1d&filter=history&frequency=1d\n",
      "Processing: AGM\n",
      "https://finance.yahoo.com/quote/AGM/history?period1=1546272000&period2=1577808000&interval=1d&filter=history&frequency=1d\n",
      "Processing: AGNC\n",
      "https://finance.yahoo.com/quote/AGNC/history?period1=1546272000&period2=1577808000&interval=1d&filter=history&frequency=1d\n",
      "Processing: AGO\n",
      "https://finance.yahoo.com/quote/AGO/history?period1=1546272000&period2=1577808000&interval=1d&filter=history&frequency=1d\n",
      "Processing: AGR\n",
      "https://finance.yahoo.com/quote/AGR/history?period1=1546272000&period2=1577808000&interval=1d&filter=history&frequency=1d\n",
      "Processing: AGX\n",
      "https://finance.yahoo.com/quote/AGX/history?period1=1546272000&period2=1577808000&interval=1d&filter=history&frequency=1d\n",
      "Processing: AGYS\n",
      "https://finance.yahoo.com/quote/AGYS/history?period1=1546272000&period2=1577808000&interval=1d&filter=history&frequency=1d\n",
      "Processing: AHC\n",
      "https://finance.yahoo.com/quote/AHC/history?period1=1546272000&period2=1577808000&interval=1d&filter=history&frequency=1d\n",
      "Processing: AHH\n",
      "https://finance.yahoo.com/quote/AHH/history?period1=1546272000&period2=1577808000&interval=1d&filter=history&frequency=1d\n",
      "Processing: AHT\n",
      "https://finance.yahoo.com/quote/AHT/history?period1=1546272000&period2=1577808000&interval=1d&filter=history&frequency=1d\n",
      "Processing: AI\n",
      "https://finance.yahoo.com/quote/AI/history?period1=1546272000&period2=1577808000&interval=1d&filter=history&frequency=1d\n",
      "Processing: AIG\n",
      "https://finance.yahoo.com/quote/AIG/history?period1=1546272000&period2=1577808000&interval=1d&filter=history&frequency=1d\n",
      "Processing: AIMC\n",
      "https://finance.yahoo.com/quote/AIMC/history?period1=1546272000&period2=1577808000&interval=1d&filter=history&frequency=1d\n",
      "Processing: AIMT\n",
      "https://finance.yahoo.com/quote/AIMT/history?period1=1546272000&period2=1577808000&interval=1d&filter=history&frequency=1d\n",
      "Processing: AIN\n",
      "https://finance.yahoo.com/quote/AIN/history?period1=1546272000&period2=1577808000&interval=1d&filter=history&frequency=1d\n",
      "Processing: AINV\n",
      "https://finance.yahoo.com/quote/AINV/history?period1=1546272000&period2=1577808000&interval=1d&filter=history&frequency=1d\n",
      "Processing: AIQ\n",
      "https://finance.yahoo.com/quote/AIQ/history?period1=1546272000&period2=1577808000&interval=1d&filter=history&frequency=1d\n",
      "Processing: AIR\n",
      "https://finance.yahoo.com/quote/AIR/history?period1=1546272000&period2=1577808000&interval=1d&filter=history&frequency=1d\n",
      "Processing: AIT\n",
      "https://finance.yahoo.com/quote/AIT/history?period1=1546272000&period2=1577808000&interval=1d&filter=history&frequency=1d\n",
      "Processing: AIV\n",
      "https://finance.yahoo.com/quote/AIV/history?period1=1546272000&period2=1577808000&interval=1d&filter=history&frequency=1d\n",
      "Processing: AIZ\n",
      "https://finance.yahoo.com/quote/AIZ/history?period1=1546272000&period2=1577808000&interval=1d&filter=history&frequency=1d\n",
      "Processing: AJG\n",
      "https://finance.yahoo.com/quote/AJG/history?period1=1546272000&period2=1577808000&interval=1d&filter=history&frequency=1d\n",
      "Processing: AJRD\n",
      "https://finance.yahoo.com/quote/AJRD/history?period1=1546272000&period2=1577808000&interval=1d&filter=history&frequency=1d\n",
      "Processing: AJX\n",
      "https://finance.yahoo.com/quote/AJX/history?period1=1546272000&period2=1577808000&interval=1d&filter=history&frequency=1d\n",
      "Processing: AKAM\n",
      "https://finance.yahoo.com/quote/AKAM/history?period1=1546272000&period2=1577808000&interval=1d&filter=history&frequency=1d\n",
      "Processing: AKBA\n",
      "https://finance.yahoo.com/quote/AKBA/history?period1=1546272000&period2=1577808000&interval=1d&filter=history&frequency=1d\n",
      "Processing: AKR\n",
      "https://finance.yahoo.com/quote/AKR/history?period1=1546272000&period2=1577808000&interval=1d&filter=history&frequency=1d\n",
      "Processing: AKTS\n",
      "https://finance.yahoo.com/quote/AKTS/history?period1=1546272000&period2=1577808000&interval=1d&filter=history&frequency=1d\n",
      "Processing: AL\n",
      "https://finance.yahoo.com/quote/AL/history?period1=1546272000&period2=1577808000&interval=1d&filter=history&frequency=1d\n",
      "Processing: ALB\n",
      "https://finance.yahoo.com/quote/ALB/history?period1=1546272000&period2=1577808000&interval=1d&filter=history&frequency=1d\n",
      "Processing: ALC\n",
      "https://finance.yahoo.com/quote/ALC/history?period1=1546272000&period2=1577808000&interval=1d&filter=history&frequency=1d\n",
      "Processing: ALCO\n",
      "https://finance.yahoo.com/quote/ALCO/history?period1=1546272000&period2=1577808000&interval=1d&filter=history&frequency=1d\n",
      "Processing: ALE\n",
      "https://finance.yahoo.com/quote/ALE/history?period1=1546272000&period2=1577808000&interval=1d&filter=history&frequency=1d\n",
      "Processing: ALEX\n",
      "https://finance.yahoo.com/quote/ALEX/history?period1=1546272000&period2=1577808000&interval=1d&filter=history&frequency=1d\n",
      "Processing: ALG\n",
      "https://finance.yahoo.com/quote/ALG/history?period1=1546272000&period2=1577808000&interval=1d&filter=history&frequency=1d\n",
      "Processing: ALGN\n",
      "https://finance.yahoo.com/quote/ALGN/history?period1=1546272000&period2=1577808000&interval=1d&filter=history&frequency=1d\n",
      "Processing: ALGT\n",
      "https://finance.yahoo.com/quote/ALGT/history?period1=1546272000&period2=1577808000&interval=1d&filter=history&frequency=1d\n",
      "Processing: ALIM\n",
      "https://finance.yahoo.com/quote/ALIM/history?period1=1546272000&period2=1577808000&interval=1d&filter=history&frequency=1d\n",
      "Processing: ALK\n",
      "https://finance.yahoo.com/quote/ALK/history?period1=1546272000&period2=1577808000&interval=1d&filter=history&frequency=1d\n",
      "Processing: ALKS\n",
      "https://finance.yahoo.com/quote/ALKS/history?period1=1546272000&period2=1577808000&interval=1d&filter=history&frequency=1d\n",
      "Processing: ALL\n",
      "https://finance.yahoo.com/quote/ALL/history?period1=1546272000&period2=1577808000&interval=1d&filter=history&frequency=1d\n",
      "Processing: ALLE\n",
      "https://finance.yahoo.com/quote/ALLE/history?period1=1546272000&period2=1577808000&interval=1d&filter=history&frequency=1d\n",
      "Processing: ALLY\n",
      "https://finance.yahoo.com/quote/ALLY/history?period1=1546272000&period2=1577808000&interval=1d&filter=history&frequency=1d\n",
      "Processing: ALNY\n",
      "https://finance.yahoo.com/quote/ALNY/history?period1=1546272000&period2=1577808000&interval=1d&filter=history&frequency=1d\n"
     ]
    },
    {
     "name": "stdout",
     "output_type": "stream",
     "text": [
      "Processing: ALRM\n",
      "https://finance.yahoo.com/quote/ALRM/history?period1=1546272000&period2=1577808000&interval=1d&filter=history&frequency=1d\n",
      "Processing: ALSK\n",
      "https://finance.yahoo.com/quote/ALSK/history?period1=1546272000&period2=1577808000&interval=1d&filter=history&frequency=1d\n",
      "Processing: ALSN\n",
      "https://finance.yahoo.com/quote/ALSN/history?period1=1546272000&period2=1577808000&interval=1d&filter=history&frequency=1d\n",
      "Processing: ALTR\n",
      "https://finance.yahoo.com/quote/ALTR/history?period1=1546272000&period2=1577808000&interval=1d&filter=history&frequency=1d\n",
      "Processing: ALV\n",
      "https://finance.yahoo.com/quote/ALV/history?period1=1546272000&period2=1577808000&interval=1d&filter=history&frequency=1d\n",
      "Processing: ALX\n",
      "https://finance.yahoo.com/quote/ALX/history?period1=1546272000&period2=1577808000&interval=1d&filter=history&frequency=1d\n",
      "Processing: ALXN\n",
      "https://finance.yahoo.com/quote/ALXN/history?period1=1546272000&period2=1577808000&interval=1d&filter=history&frequency=1d\n",
      "Processing: AM\n",
      "https://finance.yahoo.com/quote/AM/history?period1=1546272000&period2=1577808000&interval=1d&filter=history&frequency=1d\n",
      "Processing: AMAG\n",
      "https://finance.yahoo.com/quote/AMAG/history?period1=1546272000&period2=1577808000&interval=1d&filter=history&frequency=1d\n",
      "Processing: AMAT\n",
      "https://finance.yahoo.com/quote/AMAT/history?period1=1546272000&period2=1577808000&interval=1d&filter=history&frequency=1d\n",
      "Processing: AMBA\n",
      "https://finance.yahoo.com/quote/AMBA/history?period1=1546272000&period2=1577808000&interval=1d&filter=history&frequency=1d\n",
      "Processing: AMBC\n",
      "https://finance.yahoo.com/quote/AMBC/history?period1=1546272000&period2=1577808000&interval=1d&filter=history&frequency=1d\n",
      "Processing: AMC\n",
      "https://finance.yahoo.com/quote/AMC/history?period1=1546272000&period2=1577808000&interval=1d&filter=history&frequency=1d\n",
      "Processing: AMCX\n",
      "https://finance.yahoo.com/quote/AMCX/history?period1=1546272000&period2=1577808000&interval=1d&filter=history&frequency=1d\n",
      "Processing: AMD\n",
      "https://finance.yahoo.com/quote/AMD/history?period1=1546272000&period2=1577808000&interval=1d&filter=history&frequency=1d\n",
      "Processing: AME\n",
      "https://finance.yahoo.com/quote/AME/history?period1=1546272000&period2=1577808000&interval=1d&filter=history&frequency=1d\n",
      "Processing: AMED\n",
      "https://finance.yahoo.com/quote/AMED/history?period1=1546272000&period2=1577808000&interval=1d&filter=history&frequency=1d\n",
      "Processing: AMG\n",
      "https://finance.yahoo.com/quote/AMG/history?period1=1546272000&period2=1577808000&interval=1d&filter=history&frequency=1d\n",
      "Processing: AMGN\n",
      "https://finance.yahoo.com/quote/AMGN/history?period1=1546272000&period2=1577808000&interval=1d&filter=history&frequency=1d\n",
      "Processing: AMH\n",
      "https://finance.yahoo.com/quote/AMH/history?period1=1546272000&period2=1577808000&interval=1d&filter=history&frequency=1d\n",
      "Processing: AMKR\n",
      "https://finance.yahoo.com/quote/AMKR/history?period1=1546272000&period2=1577808000&interval=1d&filter=history&frequency=1d\n",
      "Processing: AMN\n",
      "https://finance.yahoo.com/quote/AMN/history?period1=1546272000&period2=1577808000&interval=1d&filter=history&frequency=1d\n",
      "Processing: AMNB\n",
      "https://finance.yahoo.com/quote/AMNB/history?period1=1546272000&period2=1577808000&interval=1d&filter=history&frequency=1d\n",
      "Processing: AMOT\n",
      "https://finance.yahoo.com/quote/AMOT/history?period1=1546272000&period2=1577808000&interval=1d&filter=history&frequency=1d\n",
      "Processing: AMP\n",
      "https://finance.yahoo.com/quote/AMP/history?period1=1546272000&period2=1577808000&interval=1d&filter=history&frequency=1d\n",
      "Processing: AMPE\n",
      "https://finance.yahoo.com/quote/AMPE/history?period1=1546272000&period2=1577808000&interval=1d&filter=history&frequency=1d\n",
      "Processing: AMPH\n",
      "https://finance.yahoo.com/quote/AMPH/history?period1=1546272000&period2=1577808000&interval=1d&filter=history&frequency=1d\n",
      "Processing: AMRC\n",
      "https://finance.yahoo.com/quote/AMRC/history?period1=1546272000&period2=1577808000&interval=1d&filter=history&frequency=1d\n",
      "Processing: AMRS\n",
      "https://finance.yahoo.com/quote/AMRS/history?period1=1546272000&period2=1577808000&interval=1d&filter=history&frequency=1d\n",
      "Processing: AMSC\n",
      "https://finance.yahoo.com/quote/AMSC/history?period1=1546272000&period2=1577808000&interval=1d&filter=history&frequency=1d\n",
      "Processing: AMSF\n",
      "https://finance.yahoo.com/quote/AMSF/history?period1=1546272000&period2=1577808000&interval=1d&filter=history&frequency=1d\n"
     ]
    }
   ],
   "source": [
    "ticker_list = tickers_df.Symbol\n",
    "DOWNLOAD_FOLDER = os.getcwd() + os.path.sep + 'data_out\\\\russell_price_csv_files\\\\'\n",
    "wrong_ticker_list = []\n",
    "\n",
    "date1 = datetime.strptime('20190101', \"%Y%m%d\")\n",
    "date2 = datetime.strptime('20200101', \"%Y%m%d\")\n",
    "\n",
    "time_str1 = str(int(datetime.timestamp(date1)))\n",
    "time_str2 = str(int(datetime.timestamp(date2)))\n",
    "\n",
    "options = webdriver.ChromeOptions()\n",
    "options.add_argument('--ignore-certificate-errors')\n",
    "prefs = {\n",
    "            \"profile.default_content_settings.popups\": 0,\n",
    "            \"download.default_directory\": DOWNLOAD_FOLDER,\n",
    "            \"directory_upgrade\": True\n",
    "        }\n",
    "options.add_experimental_option('prefs', prefs)\n",
    "options.add_argument('--headless')\n",
    "options.add_argument('--no-sandbox') # Bypass OS security model\n",
    "\n",
    "for ticker in tqdm(ticker_list):\n",
    "    print('Processing: %s' %ticker)\n",
    "    \n",
    "    # Skip counters which have already been downloaded\n",
    "    if '%s.csv' %ticker in os.listdir(DOWNLOAD_FOLDER):\n",
    "        continue \n",
    "    \n",
    "    url= 'https://finance.yahoo.com/quote/%s/history?' \\\n",
    "         'period1=%s&period2=%s&interval=1d&filter=history&frequency=1d' %(ticker, time_str1, time_str2)\n",
    "    print(url)\n",
    "    \n",
    "    driver = webdriver.Chrome(chrome_options=options)\n",
    "    driver.get(url)\n",
    "    \n",
    "    dload_button_xpath = '//*[@id=\"Col1-1-HistoricalDataTable-Proxy\"]/section/div[1]/div[2]/span[2]/a'\n",
    "    element_present = EC.presence_of_element_located(\n",
    "                (By.XPATH, dload_button_xpath))\n",
    "    try:\n",
    "        WebDriverWait(driver, 10).until(element_present)\n",
    "    except:\n",
    "        print(ticker)\n",
    "        wrong_ticker_list.append([ticker, \"Driver Wait too long\"])\n",
    "        continue\n",
    "        \n",
    "    dload_button = driver.find_element_by_xpath(dload_button_xpath)\n",
    "    dload_button.click()\n",
    "    \n",
    "    try:\n",
    "        error_msg = driver.find_element_by_xpath('/html/body/pre').text\n",
    "        print('Ticker Error: %s, %s' %(ticker, error_msg))\n",
    "        wrong_ticker_list.append([ticker, error_msg])\n",
    "        continue\n",
    "    except Exception as e:\n",
    "        pass\n",
    "        \n",
    "    # Wait for download to complete by checking for csv file locally\n",
    "    # Note that repeated files not downloaded\n",
    "    while ('%s.csv' %ticker not in os.listdir(DOWNLOAD_FOLDER)):\n",
    "        time.sleep(0.1)\n",
    "    driver.close()\n",
    "wrong_ticker_list"
   ]
  },
  {
   "cell_type": "markdown",
   "metadata": {},
   "source": [
    "- To run faster, restart the kernel and run again\n",
    "- Sometime might get this error, just retry and it should be okay\n",
    "    - WebDriverException: Message: unknown error: unable to discover open pages (FIXED)\n",
    "    - SessionNotCreatedException: Message: session not created from tab crashed (Session info: headless chrome=84.0.4147.135)\n",
    "\n",
    "- Error examples for wrong tickers\n",
    "    - 404 Not Found: No data found, symbol may be delisted\n",
    "    - 404 Not Found: Timestamp data missing\n",
    "    - 400 Bad Request: Data doesn't exist for startDate = 1546272000, endDate = 1577808000\n",
    "\n",
    "- Sometimes a valid symbol may not retrieve the data (if is in the bad_ticker list, with label \"Driver Wait too long\", but just rerun the code above and it should dload the data properly\n",
    "\n",
    "- Bad Ticker Data (from above)\n",
    "    - [['BRK.B', '404 Not Found: No data found, symbol may be delisted'],\n",
    "    - ['BF.B', '404 Not Found: Timestamp data missing.'],\n",
    "    - ['CARR', \"400 Bad Request: Data doesn't exist for startDate = 1546272000, endDate = 1577808000\"],\n",
    "    - ['OTIS', \"400 Bad Request: Data doesn't exist for startDate = 1546272000, endDate = 1577808000\"]]"
   ]
  },
  {
   "cell_type": "code",
   "execution_count": null,
   "metadata": {},
   "outputs": [],
   "source": [
    "# Concat all dfs to form list of all prices\n",
    "list_of_dfs = []\n",
    "for filename in os.listdir(DOWNLOAD_FOLDER):\n",
    "    df = pd.read_csv(DOWNLOAD_FOLDER + filename, index_col=0)[['Adj Close']]\n",
    "    ticker = filename.split('.')[0]\n",
    "    df.rename({'Adj Close':ticker}, axis=1, inplace=True)\n",
    "    list_of_dfs.append(df)\n",
    "ticker_price_df = pd.concat(list_of_dfs, axis=1)\n",
    "ticker_price_df.to_csv('data_out/russell_price_df.csv')\n",
    "ticker_price_df"
   ]
  },
  {
   "cell_type": "code",
   "execution_count": null,
   "metadata": {},
   "outputs": [],
   "source": [
    "# OPTIONAL: Remove all downloaded files\n",
    "\n",
    "# for filename in os.listdir(DOWNLOAD_FOLDER):\n",
    "#     os.remove(DOWNLOAD_FOLDER + filename)"
   ]
  },
  {
   "cell_type": "markdown",
   "metadata": {},
   "source": [
    "##### Price Scraping (Method 2: By scrolling down the page and scraping all values)\n",
    "\n",
    "- Method 1 is better\n",
    "- will take longer for longer pages \n",
    "- difficult to scrape dates, as some dates are for dividends (not scraped in this case)\n",
    "- other than dates, output should be the same as Method 1\n"
   ]
  },
  {
   "cell_type": "code",
   "execution_count": null,
   "metadata": {
    "scrolled": true
   },
   "outputs": [],
   "source": [
    "ticker_list = tickers_df.Symbol[:2]\n",
    "all_prices_dict = {}\n",
    "\n",
    "date1 = datetime.strptime('20190101', \"%Y%m%d\")\n",
    "date2 = datetime.strptime('20200101', \"%Y%m%d\")\n",
    "\n",
    "# Yahoo webpage only shows 100 prices at a time\n",
    "NUM_TIMES_TO_SCROLL = (date2 - date1).days//100 + 1\n",
    "\n",
    "time_str1 = str(int(datetime.timestamp(date1)))\n",
    "time_str2 = str(int(datetime.timestamp(date2)))\n",
    "\n",
    "options = webdriver.ChromeOptions()\n",
    "options.add_argument('--ignore-certificate-errors')\n",
    "options.add_argument('--no-sandbox') # Bypass OS security model\n",
    "options.add_argument('--headless')\n",
    "\n",
    "for ticker in tqdm(ticker_list):\n",
    "    print('Processing: %s' %ticker)\n",
    "    \n",
    "    url= 'https://finance.yahoo.com/quote/%s/history?' \\\n",
    "         'period1=%s&period2=%s&interval=1d&filter=history&frequency=1d' %(ticker, time_str1, time_str2)\n",
    "    print(url)\n",
    "    \n",
    "    driver = webdriver.Chrome(chrome_options=options)\n",
    "    driver.get(url)\n",
    "\n",
    "    SCROLL_PAUSE_TIME = 0.1\n",
    "\n",
    "    # getting scrollHeight using javascript dosent work for YahooFinance pg\n",
    "    for _ in range(NUM_TIMES_TO_SCROLL):\n",
    "        driver.execute_script(\"window.scrollTo(0, 100000);\")\n",
    "        time.sleep(SCROLL_PAUSE_TIME)\n",
    "    \n",
    "    items = driver.find_elements_by_xpath(\n",
    "        '//*[@id=\"Col1-1-HistoricalDataTable-Proxy\"]/section/div[2]/table/tbody/tr/td[6]/span')\n",
    "    prices = list(reversed(list(map(lambda x: x.text, items))))\n",
    "    all_prices_dict[ticker] = prices\n",
    "    driver.close()\n",
    "print(pd.DataFrame(all_prices_dict))\n",
    "ticker_price_df2 = pd.DataFrame(all_prices_dict)\n",
    "ticker_price_df2.to_csv('data_out/ticker_price_df2.csv')\n",
    "display(ticker_price_df2)"
   ]
  },
  {
   "cell_type": "code",
   "execution_count": null,
   "metadata": {},
   "outputs": [],
   "source": [
    "filter_prices_dict = {k:v for k,v in all_prices_dict.items() if len(v)==253}\n",
    "ticker_price_df2 = pd.DataFrame(filter_prices_dict)\n",
    "ticker_price_df2.to_csv('data_out/snp_price_scrolling_df.csv')\n",
    "display(ticker_price_df2)"
   ]
  },
  {
   "cell_type": "code",
   "execution_count": null,
   "metadata": {},
   "outputs": [],
   "source": [
    "# Tickers with errors (incomplete data)\n",
    "{k:len(v) for k,v in all_prices_dict.items() if len(v)!=253}"
   ]
  },
  {
   "cell_type": "markdown",
   "metadata": {},
   "source": [
    "- Runtime\n",
    "    - 2:45:42 (505/505 [2:45:42<00:00, 19.69s/it]"
   ]
  },
  {
   "cell_type": "code",
   "execution_count": null,
   "metadata": {},
   "outputs": [],
   "source": [
    "from playsound import playsound\n",
    "def ALARM():\n",
    "    for i in range(10):\n",
    "        playsound('data_in/bell.mp3')\n",
    "\n",
    "ALARM()"
   ]
  },
  {
   "cell_type": "markdown",
   "metadata": {},
   "source": [
    "##### Ratio Scraping "
   ]
  },
  {
   "cell_type": "code",
   "execution_count": null,
   "metadata": {},
   "outputs": [],
   "source": [
    "ticker_list = tickers_df.Symbol[:2]\n",
    "# ticker_list = ['BRK.B']\n",
    "ticker_ratios_df = pd.DataFrame(columns = ['Ticker', 'mkt_cap', 'pb_ratio', 'beta', 'profit_margin', 'ROA', 'ROE'])\n",
    "wrong_ticker_ratio_list = []\n",
    "\n",
    "options = webdriver.ChromeOptions()\n",
    "options.add_argument('--ignore-certificate-errors')\n",
    "options.add_argument('--headless')\n",
    "options.add_argument('--no-sandbox') # Bypass OS security model\n",
    "\n",
    "for ticker in tqdm(ticker_list):\n",
    "    url = 'https://finance.yahoo.com/quote/'+ticker+'/key-statistics?p='+ticker\n",
    "    print(url)    \n",
    "    \n",
    "    driver = webdriver.Chrome(options=options)\n",
    "    driver.get(url)\n",
    "    \n",
    "    mkt_cap_xpath = '//*[@id=\"Col1-0-KeyStatistics-Proxy\"]/section/div[3]/div[1]/div[2]/div/div[1]/div[1]/table/tbody/tr[1]/td[3]'\n",
    "    element_present = EC.presence_of_element_located(\n",
    "                (By.XPATH, mkt_cap_xpath))\n",
    "    try:\n",
    "        WebDriverWait(driver, 10).until(element_present)\n",
    "    except:\n",
    "        print(ticker)\n",
    "        wrong_ticker_ratio_list.append(ticker)\n",
    "        continue\n",
    "        \n",
    "    mkt_cap = driver.find_element_by_xpath('//*[@id=\"Col1-0-KeyStatistics-Proxy\"]/section/div[3]/div[1]/div[2]/div/div[1]/div[1]/table/tbody/tr[1]/td[3]').text\n",
    "    pb_ratio = driver.find_element_by_xpath('//*[@id=\"Col1-0-KeyStatistics-Proxy\"]/section/div[3]/div[1]/div[2]/div/div[1]/div[1]/table/tbody/tr[7]/td[3]').text\n",
    "    beta = driver.find_element_by_xpath('//*[@id=\"Col1-0-KeyStatistics-Proxy\"]/section/div[3]/div[2]/div/div[1]/div/div/table/tbody/tr[1]/td[2]').text\n",
    "    profit_margin = driver.find_element_by_xpath('//*[@id=\"Col1-0-KeyStatistics-Proxy\"]/section/div[3]/div[3]/div/div[2]/div/div/table/tbody/tr[1]/td[2]').text\n",
    "    roa = driver.find_element_by_xpath('//*[@id=\"Col1-0-KeyStatistics-Proxy\"]/section/div[3]/div[3]/div/div[3]/div/div/table/tbody/tr[1]/td[2]').text\n",
    "    roe = driver.find_element_by_xpath('//*[@id=\"Col1-0-KeyStatistics-Proxy\"]/section/div[3]/div[3]/div/div[3]/div/div/table/tbody/tr[2]/td[2]').text\n",
    "\n",
    "    ticker_ratios_df.loc[len(ticker_ratios_df)] = [ticker, mkt_cap, pb_ratio, beta, profit_margin, roa, roe]\n",
    "    driver.close()\n",
    "display(ticker_ratios_df)\n",
    "wrong_ticker_ratio_list"
   ]
  },
  {
   "cell_type": "code",
   "execution_count": null,
   "metadata": {},
   "outputs": [],
   "source": [
    "def percentage_to_float(s):\n",
    "    if s =='N/A':\n",
    "        return np.NaN\n",
    "    return float(s.strip('%').replace(',',''))/100\n",
    "\n",
    "def mkt_cap_converter(s):\n",
    "    multiplier = s[-1]\n",
    "    if multiplier == 'B':\n",
    "        return float(s[:-1]) # * 1000000000\n",
    "    if multiplier == 'T':\n",
    "        return float(s[:-1]) * 1000\n",
    "    else:\n",
    "        raise Exception(s)\n",
    "        \n",
    "def pb_ratio_converter(s):\n",
    "    if s == 'N/A':\n",
    "        return np.NaN\n",
    "    multiplier = s[-1]\n",
    "    if multiplier == 'k':\n",
    "        return float(s[:-1]) * 1000\n",
    "    else:\n",
    "        return float(s)"
   ]
  },
  {
   "cell_type": "code",
   "execution_count": null,
   "metadata": {},
   "outputs": [],
   "source": [
    "ticker_ratios_clean_df = ticker_ratios_df.copy()\n",
    "ticker_ratios_clean_df.ROA = ticker_ratios_df.ROA.apply(percentage_to_float)\n",
    "ticker_ratios_clean_df.ROE = ticker_ratios_df.ROE.apply(percentage_to_float)\n",
    "ticker_ratios_clean_df.profit_margin = ticker_ratios_df.profit_margin.apply(percentage_to_float)\n",
    "ticker_ratios_clean_df.mkt_cap = ticker_ratios_df.mkt_cap.apply(mkt_cap_converter)\n",
    "ticker_ratios_clean_df.pb_ratio = ticker_ratios_df.pb_ratio.apply(pb_ratio_converter)\n",
    "ticker_ratios_clean_df.beta = ticker_ratios_clean_df.beta.replace('N/A', np.NaN).astype(float)\n",
    "\n",
    "ticker_ratios_clean_df"
   ]
  },
  {
   "cell_type": "code",
   "execution_count": null,
   "metadata": {},
   "outputs": [],
   "source": [
    "ticker_ratios_clean_df.to_csv('data_out/russell_ratios_df.csv')"
   ]
  },
  {
   "cell_type": "code",
   "execution_count": null,
   "metadata": {},
   "outputs": [],
   "source": []
  },
  {
   "cell_type": "markdown",
   "metadata": {},
   "source": [
    "### 10K report merging"
   ]
  },
  {
   "cell_type": "code",
   "execution_count": null,
   "metadata": {},
   "outputs": [],
   "source": [
    "DOWNLOAD_FOLDER_10K = os.getcwd() + os.path.sep + 'data_in\\\\10K intros\\\\'\n",
    "desc_list = []\n",
    "\n",
    "for filename in os.listdir(DOWNLOAD_FOLDER_10K):\n",
    "    ticker = filename.split('_')[0]\n",
    "    cik = filename.split('_')[1]\n",
    "    with open(DOWNLOAD_FOLDER_10K + filename,  'r', encoding='utf-8') as f:\n",
    "        desc = f.read()\n",
    "    desc_list.append([ticker,cik,desc])\n",
    "\n",
    "snp_desc_10K_df = pd.DataFrame(desc_list, columns=['Ticker','CIK', 'Description'])\n",
    "snp_desc_10K_df.Description = snp_desc_10K_df.Description.str.replace('\\n', ' ').str.replace(',', ' ')\n",
    "snp_desc_10K_df.to_pickle('data_out/snp_desc_10K.pkl')\n",
    "snp_desc_10K_df"
   ]
  },
  {
   "cell_type": "markdown",
   "metadata": {},
   "source": [
    "### GICS classification\n",
    "\n",
    "- The GICS hierarchy begins with 11 sectors and is followed by 24 industry groups, 68 industries, and 157 sub-industries."
   ]
  },
  {
   "cell_type": "code",
   "execution_count": null,
   "metadata": {},
   "outputs": [],
   "source": [
    "gics_df = pd.read_csv('data_in/snp_GICS_classification_bloomberg.csv', names=['Ticker', 'GICS', 'NAICS'], dtype=str)"
   ]
  },
  {
   "cell_type": "code",
   "execution_count": null,
   "metadata": {},
   "outputs": [],
   "source": [
    "gics_filter_df = gics_df[~gics_df.GICS.isna()].reset_index(drop=True).iloc[:,:-1]"
   ]
  },
  {
   "cell_type": "code",
   "execution_count": null,
   "metadata": {},
   "outputs": [],
   "source": [
    "len(gics_filter_df.GICS.value_counts())"
   ]
  },
  {
   "cell_type": "code",
   "execution_count": null,
   "metadata": {},
   "outputs": [],
   "source": [
    "gics_filter_df['GICS'] = gics_filter_df.GICS.apply(lambda s: s[:6])\n",
    "gics_filter_df"
   ]
  },
  {
   "cell_type": "code",
   "execution_count": null,
   "metadata": {},
   "outputs": [],
   "source": [
    "len(gics_filter_df.GICS.value_counts())"
   ]
  },
  {
   "cell_type": "code",
   "execution_count": null,
   "metadata": {},
   "outputs": [],
   "source": [
    "gics_filter_df.to_csv('data_out/ticker_to_gics.csv')"
   ]
  },
  {
   "cell_type": "markdown",
   "metadata": {},
   "source": [
    "# Extra"
   ]
  },
  {
   "cell_type": "markdown",
   "metadata": {},
   "source": [
    "##### Implicit wait, selenium (google.com)"
   ]
  },
  {
   "cell_type": "code",
   "execution_count": null,
   "metadata": {},
   "outputs": [],
   "source": [
    "from selenium import webdriver\n",
    "from selenium.webdriver.common.keys import Keys\n",
    "\n",
    "driver = webdriver.Chrome()\n",
    "# driver.implicitly_wait(10)\n",
    "\n",
    "driver.get(\"http://google.com\")\n",
    "driver.maximize_window()\n",
    "\n",
    "print(\"Implicit Wait Example\")\n",
    "\n",
    "inputElement = driver.find_element_by_xpath('//*[@id=\"tsf\"]/div[2]/div[1]/div[1]/div/div[2]/input')  # .find_element_by_id(\"lst-ib\")\n",
    "inputElement.send_keys(\"Techbeamers\")\n",
    "inputElement.submit()\n",
    "\n",
    "driver.close()"
   ]
  },
  {
   "cell_type": "markdown",
   "metadata": {},
   "source": [
    "##### Multiprocessing test\n",
    "\n",
    "- for pool to work on jupyter notebook need to import function\n",
    "- with muti processing cannot change global variables (there is a fix for this)\n",
    "- printing is not trivial in multiprocessing\n",
    "\n",
    "- still need to figure out if multiprocessing or multithreading is more suitable for scraping"
   ]
  },
  {
   "cell_type": "code",
   "execution_count": null,
   "metadata": {
    "scrolled": true
   },
   "outputs": [],
   "source": [
    "%%timeit\n",
    "p=Pool(processes = 4)\n",
    "output = p.map(multithreading_test.worker,range(3000000))\n",
    "print(output[-3:])"
   ]
  },
  {
   "cell_type": "code",
   "execution_count": null,
   "metadata": {},
   "outputs": [],
   "source": [
    "%%timeit\n",
    "p = Pool(processes=4)\n",
    "results = p.map_async(multithreading_test.worker, range(3000000))\n",
    "output = results.get()\n",
    "print(output[-3:])"
   ]
  },
  {
   "cell_type": "code",
   "execution_count": null,
   "metadata": {},
   "outputs": [],
   "source": [
    "%%timeit\n",
    "output = list(map(multithreading_test.worker, range(3000000)))\n",
    "print(output[-3:])"
   ]
  },
  {
   "cell_type": "markdown",
   "metadata": {},
   "source": [
    "- I think in this case using ordinary functions is faster than using Pool due to the high over head\n",
    "- only use pool when there is high CPU requirement, high iterations"
   ]
  },
  {
   "cell_type": "code",
   "execution_count": null,
   "metadata": {},
   "outputs": [],
   "source": [
    "# Number of cores for multiprocessing\n",
    "import multiprocessing\n",
    "multiprocessing.cpu_count()"
   ]
  },
  {
   "cell_type": "markdown",
   "metadata": {},
   "source": [
    "##### Check Chrome Driver Version"
   ]
  },
  {
   "cell_type": "code",
   "execution_count": null,
   "metadata": {},
   "outputs": [],
   "source": [
    "driver = webdriver.Chrome()\n",
    "str1 = driver.capabilities['browserVersion']\n",
    "str2 = driver.capabilities['chrome']['chromedriverVersion'].split(' ')[0]\n",
    "print(str1)\n",
    "print(str2)\n",
    "print(str1[0:2])\n",
    "print(str2[0:2])\n",
    "if str1[0:2] != str2[0:2]: \n",
    "    print(\"please download correct chromedriver version\")"
   ]
  },
  {
   "cell_type": "markdown",
   "metadata": {},
   "source": [
    "##### Running other scripts"
   ]
  },
  {
   "cell_type": "code",
   "execution_count": null,
   "metadata": {},
   "outputs": [],
   "source": [
    "%run "
   ]
  },
  {
   "cell_type": "markdown",
   "metadata": {},
   "source": [
    "##### Yield"
   ]
  },
  {
   "cell_type": "code",
   "execution_count": null,
   "metadata": {},
   "outputs": [],
   "source": [
    "def f():\n",
    "    yield 1\n",
    "    yield 2\n",
    "    yield 3\n",
    "[i for i in f()]"
   ]
  },
  {
   "cell_type": "code",
   "execution_count": null,
   "metadata": {},
   "outputs": [],
   "source": [
    "print(f())"
   ]
  },
  {
   "cell_type": "markdown",
   "metadata": {},
   "source": [
    "##### Scrapy Tutorial"
   ]
  },
  {
   "cell_type": "code",
   "execution_count": null,
   "metadata": {},
   "outputs": [],
   "source": [
    "# Settings for notebook\n",
    "from IPython.core.interactiveshell import InteractiveShell\n",
    "InteractiveShell.ast_node_interactivity = \"all\""
   ]
  },
  {
   "cell_type": "code",
   "execution_count": null,
   "metadata": {},
   "outputs": [],
   "source": [
    "import scrapy\n",
    "from scrapy.crawler import CrawlerProcess"
   ]
  },
  {
   "cell_type": "code",
   "execution_count": null,
   "metadata": {},
   "outputs": [],
   "source": [
    "import json\n",
    "\n",
    "class JsonWriterPipeline(object):\n",
    "    def open_spider(self, spider):\n",
    "        self.file = open('quoteresult.jl', 'w')\n",
    "\n",
    "    def close_spider(self, spider):\n",
    "        self.file.close()\n",
    "\n",
    "    def process_item(self, item, spider):\n",
    "        line = json.dumps(dict(item)) + \"\\n\"\n",
    "        self.file.write(line)\n",
    "        return item"
   ]
  },
  {
   "cell_type": "code",
   "execution_count": null,
   "metadata": {},
   "outputs": [],
   "source": [
    "import logging\n",
    "\n",
    "class QuotesSpider(scrapy.Spider):\n",
    "    name = \"quotes\"\n",
    "    start_urls = [\n",
    "        'http://quotes.toscrape.com/page/1/',\n",
    "        'http://quotes.toscrape.com/page/2/',\n",
    "    ]\n",
    "    custom_settings = {\n",
    "        'LOG_LEVEL': logging.WARNING,\n",
    "        'ITEM_PIPELINES': {'__main__.JsonWriterPipeline': 1}, # Used for pipeline 1\n",
    "        'FEED_FORMAT':'json',                                 # Used for pipeline 2\n",
    "        'FEED_URI': 'quoteresult.json'                        # Used for pipeline 2\n",
    "    }\n",
    "    \n",
    "    def parse(self, response):\n",
    "        for quote in response.css('div.quote'):\n",
    "            yield {\n",
    "                'text': quote.css('span.text::text').extract_first(),\n",
    "                'author': quote.css('span small::text').extract_first(),\n",
    "                'tags': quote.css('div.tags a.tag::text').extract(),\n",
    "            }"
   ]
  },
  {
   "cell_type": "code",
   "execution_count": null,
   "metadata": {},
   "outputs": [],
   "source": [
    "process = CrawlerProcess({\n",
    "    'USER_AGENT': 'Mozilla/4.0 (compatible; MSIE 7.0; Windows NT 5.1)'\n",
    "})\n",
    "\n",
    "process.crawl(QuotesSpider)\n",
    "process.start()"
   ]
  },
  {
   "cell_type": "code",
   "execution_count": null,
   "metadata": {},
   "outputs": [],
   "source": [
    "import pandas as pd\n",
    "dfjson = pd.read_json('quoteresult.json')\n",
    "dfjson"
   ]
  },
  {
   "cell_type": "code",
   "execution_count": null,
   "metadata": {},
   "outputs": [],
   "source": [
    "dfjl = pd.read_json('quoteresult.jl', lines=True)\n",
    "dfjl"
   ]
  },
  {
   "cell_type": "code",
   "execution_count": null,
   "metadata": {},
   "outputs": [],
   "source": [
    "dfjson.to_pickle('quotejson.pickle')\n",
    "dfjl.to_pickle('quotejl.pickle')"
   ]
  },
  {
   "cell_type": "markdown",
   "metadata": {},
   "source": [
    "##### tqdm"
   ]
  },
  {
   "cell_type": "code",
   "execution_count": null,
   "metadata": {},
   "outputs": [],
   "source": [
    "from tqdm import tqdm\n",
    "\n",
    "j=0\n",
    "for i in tqdm(range(1000000), ):\n",
    "    j+=i\n",
    "    \n",
    "print(j)"
   ]
  },
  {
   "cell_type": "code",
   "execution_count": null,
   "metadata": {},
   "outputs": [],
   "source": [
    "import time\n",
    "import sys\n",
    "from tqdm import trange\n",
    "\n",
    "\n",
    "def do_something():\n",
    "    time.sleep(1)\n",
    "\n",
    "def do_another_something():\n",
    "    time.sleep(1)\n",
    "\n",
    "\n",
    "for i in trange(10):\n",
    "    do_something()\n",
    "\n",
    "#     for j in trange(2):\n",
    "#         do_another_something()"
   ]
  },
  {
   "cell_type": "code",
   "execution_count": null,
   "metadata": {
    "jupyter": {
     "outputs_hidden": true
    }
   },
   "outputs": [],
   "source": [
    "from tqdm.notebook import trange, tqdm\n",
    "import time\n",
    "\n",
    "for i in trange(6):\n",
    "    do_something()\n",
    "\n",
    "    for j in trange(2):\n",
    "        do_another_something()\n"
   ]
  },
  {
   "cell_type": "markdown",
   "metadata": {},
   "source": [
    "##### Test Scraping 10K reports"
   ]
  },
  {
   "cell_type": "code",
   "execution_count": null,
   "metadata": {},
   "outputs": [],
   "source": [
    "\n",
    "for file in os.listdir(\"data_in\"):\n",
    "    if file.endswith(\".txt\") and \"Item1_excerpt\" in file:\n",
    "        print(file)\n",
    "        with open(\"data_in/\" + file, \"rt\",encoding='utf-8') as f:\n",
    "            line_num = 1\n",
    "            for line in f:\n",
    "                line = line.lower()\n",
    "                if (\"part i\" in line) or (\"item 1\" in line) or (\"business\" in line and len(line) < 20) or (\"introduction\" in line):\n",
    "                    print(line_num, line)                    \n",
    "                if (\"item 1a\" in line) or (\"risk factors\" in line):\n",
    "                    print(line_num, line)                    \n",
    "                line_num += 1\n",
    "        break"
   ]
  },
  {
   "cell_type": "code",
   "execution_count": null,
   "metadata": {},
   "outputs": [],
   "source": [
    "import glob\n",
    "\n",
    "path = 'data_in'\n",
    "\n",
    "files = [f for f in glob.glob(path + \"*/*.txt\", recursive=True)]\n",
    "\n",
    "for f in files:\n",
    "    print(f)"
   ]
  },
  {
   "cell_type": "code",
   "execution_count": null,
   "metadata": {},
   "outputs": [],
   "source": [
    "glob.glob(path + \"*/*.txt\", recursive=True)"
   ]
  },
  {
   "cell_type": "markdown",
   "metadata": {},
   "source": [
    "###### Test if df contains ."
   ]
  },
  {
   "cell_type": "code",
   "execution_count": null,
   "metadata": {},
   "outputs": [],
   "source": [
    "snp_tickers_df[snp_tickers_df.Symbol.str.contains(\".\", regex=False)]"
   ]
  }
 ],
 "metadata": {
  "kernelspec": {
   "display_name": "Python 3",
   "language": "python",
   "name": "python3"
  },
  "language_info": {
   "codemirror_mode": {
    "name": "ipython",
    "version": 3
   },
   "file_extension": ".py",
   "mimetype": "text/x-python",
   "name": "python",
   "nbconvert_exporter": "python",
   "pygments_lexer": "ipython3",
   "version": "3.6.2"
  }
 },
 "nbformat": 4,
 "nbformat_minor": 4
}

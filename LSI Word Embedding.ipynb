{
 "cells": [
  {
   "cell_type": "markdown",
   "metadata": {},
   "source": [
    "# LSI Word Embedding using K-means, Gaussian Mixture and Cosine Similarity as Clustering"
   ]
  },
  {
   "cell_type": "code",
   "execution_count": 2,
   "metadata": {},
   "outputs": [],
   "source": [
    "import os.path\n",
    "\n",
    "from gensim import corpora\n",
    "from gensim.models import LsiModel\n",
    "from gensim.models.coherencemodel import CoherenceModel\n",
    "\n",
    "import nltk\n",
    "from nltk.tokenize import RegexpTokenizer\n",
    "from nltk.tokenize import word_tokenize\n",
    "from nltk.corpus import stopwords\n",
    "from nltk.stem.porter import PorterStemmer\n",
    "from nltk.stem.snowball import SnowballStemmer\n",
    "from nltk.stem import LancasterStemmer\n",
    "from nltk.stem import WordNetLemmatizer \n",
    "from nltk.corpus import wordnet\n",
    "import re\n",
    "\n",
    "from sklearn.decomposition import TruncatedSVD\n",
    "from sklearn.decomposition import PCA\n",
    "from sklearn.preprocessing import Normalizer\n",
    "from sklearn.feature_extraction.text import TfidfVectorizer\n",
    "from sklearn.cluster import KMeans\n",
    "from sklearn.cluster import AgglomerativeClustering\n",
    "from sklearn.mixture import GaussianMixture\n",
    "from sklearn.metrics import silhouette_score\n",
    "from sklearn.metrics.cluster import adjusted_rand_score\n",
    "\n",
    "from pyclustering.cluster.kmedoids import kmedoids\n",
    "from pyclustering.cluster.kmedians import kmedians\n",
    "from pyclustering.utils.metric import distance_metric\n",
    "from pyclustering.utils.metric import type_metric\n",
    "from scipy.spatial import distance\n",
    "\n",
    "from tqdm.notebook import tqdm, tnrange\n",
    "import numpy as np\n",
    "import matplotlib.pyplot as plt\n",
    "import pandas as pd\n",
    "import seaborn as sns\n",
    "import math\n",
    "import functools\n",
    "from scipy import stats"
   ]
  },
  {
   "cell_type": "code",
   "execution_count": 3,
   "metadata": {},
   "outputs": [],
   "source": [
    "# Download if not downloaded\n",
    "# nltk.download('wordnet')\n",
    "# nltk.download('averaged_perceptron_tagger')\n",
    "# nltk.download('punkt')"
   ]
  },
  {
   "cell_type": "code",
   "execution_count": 4,
   "metadata": {},
   "outputs": [],
   "source": [
    "pd.set_option('display.max_rows', 200)\n",
    "plt.rcParams['figure.figsize'] = [17, 6]\n",
    "plt.rcParams.update({'font.size': 12})"
   ]
  },
  {
   "cell_type": "code",
   "execution_count": 5,
   "metadata": {},
   "outputs": [
    {
     "data": {
      "text/html": [
       "<style>\n",
       "table {float:center}\n",
       "</style>"
      ],
      "text/plain": [
       "<IPython.core.display.HTML object>"
      ]
     },
     "metadata": {},
     "output_type": "display_data"
    }
   ],
   "source": [
    "%%html\n",
    "<style>\n",
    "table {float:center}\n",
    "</style>"
   ]
  },
  {
   "cell_type": "code",
   "execution_count": 10,
   "metadata": {},
   "outputs": [
    {
     "data": {
      "text/html": [
       "<div>\n",
       "<style scoped>\n",
       "    .dataframe tbody tr th:only-of-type {\n",
       "        vertical-align: middle;\n",
       "    }\n",
       "\n",
       "    .dataframe tbody tr th {\n",
       "        vertical-align: top;\n",
       "    }\n",
       "\n",
       "    .dataframe thead th {\n",
       "        text-align: right;\n",
       "    }\n",
       "</style>\n",
       "<table border=\"1\" class=\"dataframe\">\n",
       "  <thead>\n",
       "    <tr style=\"text-align: right;\">\n",
       "      <th></th>\n",
       "      <th>Ticker</th>\n",
       "      <th>Name</th>\n",
       "    </tr>\n",
       "  </thead>\n",
       "  <tbody>\n",
       "    <tr>\n",
       "      <th>0</th>\n",
       "      <td>A</td>\n",
       "      <td>Agilent Technologies, Inc.</td>\n",
       "    </tr>\n",
       "    <tr>\n",
       "      <th>1</th>\n",
       "      <td>AA</td>\n",
       "      <td>Alcoa Corporation</td>\n",
       "    </tr>\n",
       "    <tr>\n",
       "      <th>2</th>\n",
       "      <td>AAL</td>\n",
       "      <td>American Airlines Group Inc.</td>\n",
       "    </tr>\n",
       "    <tr>\n",
       "      <th>3</th>\n",
       "      <td>AAN</td>\n",
       "      <td>Aaron's Holdings Company, Inc.</td>\n",
       "    </tr>\n",
       "    <tr>\n",
       "      <th>4</th>\n",
       "      <td>AAOI</td>\n",
       "      <td>Applied Optoelectronics, Inc.</td>\n",
       "    </tr>\n",
       "    <tr>\n",
       "      <th>5</th>\n",
       "      <td>AAON</td>\n",
       "      <td>AAON, Inc.</td>\n",
       "    </tr>\n",
       "    <tr>\n",
       "      <th>6</th>\n",
       "      <td>AAP</td>\n",
       "      <td>Advance Auto Parts, Inc.</td>\n",
       "    </tr>\n",
       "    <tr>\n",
       "      <th>7</th>\n",
       "      <td>AAPL</td>\n",
       "      <td>Apple Inc.</td>\n",
       "    </tr>\n",
       "    <tr>\n",
       "      <th>8</th>\n",
       "      <td>AAT</td>\n",
       "      <td>American Assets Trust, Inc.</td>\n",
       "    </tr>\n",
       "    <tr>\n",
       "      <th>9</th>\n",
       "      <td>AAWW</td>\n",
       "      <td>Atlas Air Worldwide Holdings, Inc.</td>\n",
       "    </tr>\n",
       "    <tr>\n",
       "      <th>10</th>\n",
       "      <td>AAXN</td>\n",
       "      <td>Axon Enterprise, Inc.</td>\n",
       "    </tr>\n",
       "    <tr>\n",
       "      <th>11</th>\n",
       "      <td>ABBV</td>\n",
       "      <td>AbbVie Inc.</td>\n",
       "    </tr>\n",
       "    <tr>\n",
       "      <th>12</th>\n",
       "      <td>ABC</td>\n",
       "      <td>AmerisourceBergen Corporation</td>\n",
       "    </tr>\n",
       "    <tr>\n",
       "      <th>13</th>\n",
       "      <td>ABCB</td>\n",
       "      <td>Ameris Bancorp</td>\n",
       "    </tr>\n",
       "    <tr>\n",
       "      <th>14</th>\n",
       "      <td>ABEO</td>\n",
       "      <td>Abeona Therapeutics Inc.</td>\n",
       "    </tr>\n",
       "    <tr>\n",
       "      <th>15</th>\n",
       "      <td>ABG</td>\n",
       "      <td>Asbury Automotive Group, Inc.</td>\n",
       "    </tr>\n",
       "    <tr>\n",
       "      <th>16</th>\n",
       "      <td>ABM</td>\n",
       "      <td>ABM Industries Incorporated</td>\n",
       "    </tr>\n",
       "    <tr>\n",
       "      <th>17</th>\n",
       "      <td>ABMD</td>\n",
       "      <td>Abiomed, Inc.</td>\n",
       "    </tr>\n",
       "    <tr>\n",
       "      <th>18</th>\n",
       "      <td>ABT</td>\n",
       "      <td>Abbott Laboratories</td>\n",
       "    </tr>\n",
       "    <tr>\n",
       "      <th>19</th>\n",
       "      <td>ABTX</td>\n",
       "      <td>Allegiance Bancshares, Inc.</td>\n",
       "    </tr>\n",
       "    <tr>\n",
       "      <th>20</th>\n",
       "      <td>AC</td>\n",
       "      <td>Associated Capital Group, Inc.</td>\n",
       "    </tr>\n",
       "    <tr>\n",
       "      <th>21</th>\n",
       "      <td>ACA</td>\n",
       "      <td>Arcosa, Inc.</td>\n",
       "    </tr>\n",
       "    <tr>\n",
       "      <th>22</th>\n",
       "      <td>ACAD</td>\n",
       "      <td>ACADIA Pharmaceuticals Inc.</td>\n",
       "    </tr>\n",
       "    <tr>\n",
       "      <th>23</th>\n",
       "      <td>ACBI</td>\n",
       "      <td>Atlantic Capital Bancshares, Inc.</td>\n",
       "    </tr>\n",
       "    <tr>\n",
       "      <th>24</th>\n",
       "      <td>ACC</td>\n",
       "      <td>American Campus Communities, Inc.</td>\n",
       "    </tr>\n",
       "    <tr>\n",
       "      <th>25</th>\n",
       "      <td>ACCO</td>\n",
       "      <td>ACCO Brands Corporation</td>\n",
       "    </tr>\n",
       "    <tr>\n",
       "      <th>26</th>\n",
       "      <td>ACER</td>\n",
       "      <td>Acer Therapeutics Inc.</td>\n",
       "    </tr>\n",
       "    <tr>\n",
       "      <th>27</th>\n",
       "      <td>ACGL</td>\n",
       "      <td>Arch Capital Group Ltd.</td>\n",
       "    </tr>\n",
       "    <tr>\n",
       "      <th>28</th>\n",
       "      <td>ACHC</td>\n",
       "      <td>Acadia Healthcare Company, Inc.</td>\n",
       "    </tr>\n",
       "    <tr>\n",
       "      <th>29</th>\n",
       "      <td>ACIA</td>\n",
       "      <td>Acacia Communications, Inc.</td>\n",
       "    </tr>\n",
       "    <tr>\n",
       "      <th>30</th>\n",
       "      <td>ACIW</td>\n",
       "      <td>ACI Worldwide, Inc.</td>\n",
       "    </tr>\n",
       "    <tr>\n",
       "      <th>31</th>\n",
       "      <td>ACLS</td>\n",
       "      <td>Axcelis Technologies, Inc.</td>\n",
       "    </tr>\n",
       "    <tr>\n",
       "      <th>32</th>\n",
       "      <td>ACM</td>\n",
       "      <td>AECOM</td>\n",
       "    </tr>\n",
       "    <tr>\n",
       "      <th>33</th>\n",
       "      <td>ACN</td>\n",
       "      <td>Accenture plc</td>\n",
       "    </tr>\n",
       "    <tr>\n",
       "      <th>34</th>\n",
       "      <td>ACNB</td>\n",
       "      <td>ACNB Corporation</td>\n",
       "    </tr>\n",
       "    <tr>\n",
       "      <th>35</th>\n",
       "      <td>ACOR</td>\n",
       "      <td>Acorda Therapeutics, Inc.</td>\n",
       "    </tr>\n",
       "    <tr>\n",
       "      <th>36</th>\n",
       "      <td>ACRE</td>\n",
       "      <td>Ares Commercial Real Estate Corporation</td>\n",
       "    </tr>\n",
       "    <tr>\n",
       "      <th>37</th>\n",
       "      <td>ACRS</td>\n",
       "      <td>Aclaris Therapeutics, Inc.</td>\n",
       "    </tr>\n",
       "    <tr>\n",
       "      <th>38</th>\n",
       "      <td>ACRX</td>\n",
       "      <td>AcelRx Pharmaceuticals, Inc.</td>\n",
       "    </tr>\n",
       "    <tr>\n",
       "      <th>39</th>\n",
       "      <td>ACTG</td>\n",
       "      <td>Acacia Research Corporation</td>\n",
       "    </tr>\n",
       "    <tr>\n",
       "      <th>40</th>\n",
       "      <td>ADBE</td>\n",
       "      <td>Adobe Inc.</td>\n",
       "    </tr>\n",
       "    <tr>\n",
       "      <th>41</th>\n",
       "      <td>ADC</td>\n",
       "      <td>Agree Realty Corporation</td>\n",
       "    </tr>\n",
       "    <tr>\n",
       "      <th>42</th>\n",
       "      <td>ADES</td>\n",
       "      <td>Advanced Emissions Solutions, Inc.</td>\n",
       "    </tr>\n",
       "    <tr>\n",
       "      <th>43</th>\n",
       "      <td>ADI</td>\n",
       "      <td>Analog Devices, Inc.</td>\n",
       "    </tr>\n",
       "    <tr>\n",
       "      <th>44</th>\n",
       "      <td>ADM</td>\n",
       "      <td>Archer-Daniels-Midland Company</td>\n",
       "    </tr>\n",
       "    <tr>\n",
       "      <th>45</th>\n",
       "      <td>ADMA</td>\n",
       "      <td>ADMA Biologics, Inc.</td>\n",
       "    </tr>\n",
       "    <tr>\n",
       "      <th>46</th>\n",
       "      <td>ADMS</td>\n",
       "      <td>Adamas Pharmaceuticals, Inc.</td>\n",
       "    </tr>\n",
       "    <tr>\n",
       "      <th>47</th>\n",
       "      <td>ADNT</td>\n",
       "      <td>Adient plc</td>\n",
       "    </tr>\n",
       "    <tr>\n",
       "      <th>48</th>\n",
       "      <td>ADP</td>\n",
       "      <td>Automatic Data Processing, Inc.</td>\n",
       "    </tr>\n",
       "    <tr>\n",
       "      <th>49</th>\n",
       "      <td>ADPT</td>\n",
       "      <td>Adaptive Biotechnologies Corporation</td>\n",
       "    </tr>\n",
       "    <tr>\n",
       "      <th>50</th>\n",
       "      <td>ADRO</td>\n",
       "      <td>Aduro Biotech, Inc.</td>\n",
       "    </tr>\n",
       "    <tr>\n",
       "      <th>51</th>\n",
       "      <td>ADS</td>\n",
       "      <td>Alliance Data Systems Corporation</td>\n",
       "    </tr>\n",
       "    <tr>\n",
       "      <th>52</th>\n",
       "      <td>ADSK</td>\n",
       "      <td>Autodesk, Inc.</td>\n",
       "    </tr>\n",
       "    <tr>\n",
       "      <th>53</th>\n",
       "      <td>ADSW</td>\n",
       "      <td>Advanced Disposal Services, Inc.</td>\n",
       "    </tr>\n",
       "    <tr>\n",
       "      <th>54</th>\n",
       "      <td>ADT</td>\n",
       "      <td>ADT Inc.</td>\n",
       "    </tr>\n",
       "    <tr>\n",
       "      <th>55</th>\n",
       "      <td>ADTN</td>\n",
       "      <td>ADTRAN, Inc.</td>\n",
       "    </tr>\n",
       "    <tr>\n",
       "      <th>56</th>\n",
       "      <td>ADUS</td>\n",
       "      <td>Addus HomeCare Corporation</td>\n",
       "    </tr>\n",
       "    <tr>\n",
       "      <th>57</th>\n",
       "      <td>ADVM</td>\n",
       "      <td>Adverum Biotechnologies, Inc.</td>\n",
       "    </tr>\n",
       "    <tr>\n",
       "      <th>58</th>\n",
       "      <td>AEE</td>\n",
       "      <td>Ameren Corporation</td>\n",
       "    </tr>\n",
       "    <tr>\n",
       "      <th>59</th>\n",
       "      <td>AEGN</td>\n",
       "      <td>Aegion Corporation</td>\n",
       "    </tr>\n",
       "    <tr>\n",
       "      <th>60</th>\n",
       "      <td>AEIS</td>\n",
       "      <td>Advanced Energy Industries, Inc.</td>\n",
       "    </tr>\n",
       "    <tr>\n",
       "      <th>61</th>\n",
       "      <td>AEL</td>\n",
       "      <td>American Equity Investment Life Holding Company</td>\n",
       "    </tr>\n",
       "    <tr>\n",
       "      <th>62</th>\n",
       "      <td>AEO</td>\n",
       "      <td>American Eagle Outfitters, Inc.</td>\n",
       "    </tr>\n",
       "    <tr>\n",
       "      <th>63</th>\n",
       "      <td>AEP</td>\n",
       "      <td>American Electric Power Company, Inc.</td>\n",
       "    </tr>\n",
       "    <tr>\n",
       "      <th>64</th>\n",
       "      <td>AERI</td>\n",
       "      <td>Aerie Pharmaceuticals, Inc.</td>\n",
       "    </tr>\n",
       "    <tr>\n",
       "      <th>65</th>\n",
       "      <td>AES</td>\n",
       "      <td>The AES Corporation</td>\n",
       "    </tr>\n",
       "    <tr>\n",
       "      <th>66</th>\n",
       "      <td>AFG</td>\n",
       "      <td>American Financial Group, Inc.</td>\n",
       "    </tr>\n",
       "    <tr>\n",
       "      <th>67</th>\n",
       "      <td>AFI</td>\n",
       "      <td>Armstrong Flooring, Inc.</td>\n",
       "    </tr>\n",
       "    <tr>\n",
       "      <th>68</th>\n",
       "      <td>AFIN</td>\n",
       "      <td>American Finance Trust, Inc.</td>\n",
       "    </tr>\n",
       "    <tr>\n",
       "      <th>69</th>\n",
       "      <td>AFL</td>\n",
       "      <td>Aflac Incorporated</td>\n",
       "    </tr>\n",
       "    <tr>\n",
       "      <th>70</th>\n",
       "      <td>AFMD</td>\n",
       "      <td>Affimed N.V.</td>\n",
       "    </tr>\n",
       "    <tr>\n",
       "      <th>71</th>\n",
       "      <td>AGCO</td>\n",
       "      <td>AGCO Corporation</td>\n",
       "    </tr>\n",
       "    <tr>\n",
       "      <th>72</th>\n",
       "      <td>AGE</td>\n",
       "      <td>AgeX Therapeutics, Inc.</td>\n",
       "    </tr>\n",
       "    <tr>\n",
       "      <th>73</th>\n",
       "      <td>AGEN</td>\n",
       "      <td>Agenus Inc.</td>\n",
       "    </tr>\n",
       "    <tr>\n",
       "      <th>74</th>\n",
       "      <td>AGIO</td>\n",
       "      <td>Agios Pharmaceuticals, Inc.</td>\n",
       "    </tr>\n",
       "    <tr>\n",
       "      <th>75</th>\n",
       "      <td>AGLE</td>\n",
       "      <td>Aeglea BioTherapeutics, Inc.</td>\n",
       "    </tr>\n",
       "    <tr>\n",
       "      <th>76</th>\n",
       "      <td>AGM</td>\n",
       "      <td>Federal Agricultural Mortgage Corporation</td>\n",
       "    </tr>\n",
       "    <tr>\n",
       "      <th>77</th>\n",
       "      <td>AGNC</td>\n",
       "      <td>AGNC Investment Corp.</td>\n",
       "    </tr>\n",
       "    <tr>\n",
       "      <th>78</th>\n",
       "      <td>AGO</td>\n",
       "      <td>Assured Guaranty Ltd.</td>\n",
       "    </tr>\n",
       "    <tr>\n",
       "      <th>79</th>\n",
       "      <td>AGR</td>\n",
       "      <td>Avangrid, Inc.</td>\n",
       "    </tr>\n",
       "    <tr>\n",
       "      <th>80</th>\n",
       "      <td>AGS</td>\n",
       "      <td>PlayAGS, Inc.</td>\n",
       "    </tr>\n",
       "    <tr>\n",
       "      <th>81</th>\n",
       "      <td>AGX</td>\n",
       "      <td>Argan, Inc.</td>\n",
       "    </tr>\n",
       "    <tr>\n",
       "      <th>82</th>\n",
       "      <td>AGYS</td>\n",
       "      <td>Agilysys, Inc.</td>\n",
       "    </tr>\n",
       "    <tr>\n",
       "      <th>83</th>\n",
       "      <td>AHH</td>\n",
       "      <td>Armada Hoffler Properties, Inc.</td>\n",
       "    </tr>\n",
       "    <tr>\n",
       "      <th>84</th>\n",
       "      <td>AHT</td>\n",
       "      <td>Ashford Hospitality Trust, Inc.</td>\n",
       "    </tr>\n",
       "    <tr>\n",
       "      <th>85</th>\n",
       "      <td>AI</td>\n",
       "      <td>Arlington Asset Investment Corp.</td>\n",
       "    </tr>\n",
       "    <tr>\n",
       "      <th>86</th>\n",
       "      <td>AIG</td>\n",
       "      <td>American International Group, Inc.</td>\n",
       "    </tr>\n",
       "    <tr>\n",
       "      <th>87</th>\n",
       "      <td>AIMC</td>\n",
       "      <td>Altra Industrial Motion Corp.</td>\n",
       "    </tr>\n",
       "    <tr>\n",
       "      <th>88</th>\n",
       "      <td>AIMT</td>\n",
       "      <td>Aimmune Therapeutics, Inc.</td>\n",
       "    </tr>\n",
       "    <tr>\n",
       "      <th>89</th>\n",
       "      <td>AIN</td>\n",
       "      <td>Albany International Corp.</td>\n",
       "    </tr>\n",
       "    <tr>\n",
       "      <th>90</th>\n",
       "      <td>AIR</td>\n",
       "      <td>AAR Corp.</td>\n",
       "    </tr>\n",
       "    <tr>\n",
       "      <th>91</th>\n",
       "      <td>AIRG</td>\n",
       "      <td>Airgain, Inc.</td>\n",
       "    </tr>\n",
       "    <tr>\n",
       "      <th>92</th>\n",
       "      <td>AIT</td>\n",
       "      <td>Applied Industrial Technologies, Inc.</td>\n",
       "    </tr>\n",
       "    <tr>\n",
       "      <th>93</th>\n",
       "      <td>AIV</td>\n",
       "      <td>Apartment Investment and Management Company</td>\n",
       "    </tr>\n",
       "    <tr>\n",
       "      <th>94</th>\n",
       "      <td>AIZ</td>\n",
       "      <td>Assurant, Inc.</td>\n",
       "    </tr>\n",
       "    <tr>\n",
       "      <th>95</th>\n",
       "      <td>AJG</td>\n",
       "      <td>Arthur J. Gallagher &amp; Co.</td>\n",
       "    </tr>\n",
       "    <tr>\n",
       "      <th>96</th>\n",
       "      <td>AJRD</td>\n",
       "      <td>Aerojet Rocketdyne Holdings, Inc.</td>\n",
       "    </tr>\n",
       "    <tr>\n",
       "      <th>97</th>\n",
       "      <td>AJX</td>\n",
       "      <td>Great Ajax Corp.</td>\n",
       "    </tr>\n",
       "    <tr>\n",
       "      <th>98</th>\n",
       "      <td>AKAM</td>\n",
       "      <td>Akamai Technologies, Inc.</td>\n",
       "    </tr>\n",
       "    <tr>\n",
       "      <th>99</th>\n",
       "      <td>AKBA</td>\n",
       "      <td>Akebia Therapeutics, Inc.</td>\n",
       "    </tr>\n",
       "  </tbody>\n",
       "</table>\n",
       "</div>"
      ],
      "text/plain": [
       "   Ticker                                             Name\n",
       "0       A                       Agilent Technologies, Inc.\n",
       "1      AA                                Alcoa Corporation\n",
       "2     AAL                     American Airlines Group Inc.\n",
       "3     AAN                   Aaron's Holdings Company, Inc.\n",
       "4    AAOI                    Applied Optoelectronics, Inc.\n",
       "5    AAON                                       AAON, Inc.\n",
       "6     AAP                         Advance Auto Parts, Inc.\n",
       "7    AAPL                                       Apple Inc.\n",
       "8     AAT                      American Assets Trust, Inc.\n",
       "9    AAWW               Atlas Air Worldwide Holdings, Inc.\n",
       "10   AAXN                            Axon Enterprise, Inc.\n",
       "11   ABBV                                      AbbVie Inc.\n",
       "12    ABC                    AmerisourceBergen Corporation\n",
       "13   ABCB                                   Ameris Bancorp\n",
       "14   ABEO                         Abeona Therapeutics Inc.\n",
       "15    ABG                    Asbury Automotive Group, Inc.\n",
       "16    ABM                      ABM Industries Incorporated\n",
       "17   ABMD                                    Abiomed, Inc.\n",
       "18    ABT                              Abbott Laboratories\n",
       "19   ABTX                      Allegiance Bancshares, Inc.\n",
       "20     AC                   Associated Capital Group, Inc.\n",
       "21    ACA                                     Arcosa, Inc.\n",
       "22   ACAD                      ACADIA Pharmaceuticals Inc.\n",
       "23   ACBI                Atlantic Capital Bancshares, Inc.\n",
       "24    ACC                American Campus Communities, Inc.\n",
       "25   ACCO                          ACCO Brands Corporation\n",
       "26   ACER                           Acer Therapeutics Inc.\n",
       "27   ACGL                          Arch Capital Group Ltd.\n",
       "28   ACHC                  Acadia Healthcare Company, Inc.\n",
       "29   ACIA                      Acacia Communications, Inc.\n",
       "30   ACIW                              ACI Worldwide, Inc.\n",
       "31   ACLS                       Axcelis Technologies, Inc.\n",
       "32    ACM                                            AECOM\n",
       "33    ACN                                    Accenture plc\n",
       "34   ACNB                                 ACNB Corporation\n",
       "35   ACOR                        Acorda Therapeutics, Inc.\n",
       "36   ACRE          Ares Commercial Real Estate Corporation\n",
       "37   ACRS                       Aclaris Therapeutics, Inc.\n",
       "38   ACRX                     AcelRx Pharmaceuticals, Inc.\n",
       "39   ACTG                      Acacia Research Corporation\n",
       "40   ADBE                                       Adobe Inc.\n",
       "41    ADC                         Agree Realty Corporation\n",
       "42   ADES               Advanced Emissions Solutions, Inc.\n",
       "43    ADI                             Analog Devices, Inc.\n",
       "44    ADM                   Archer-Daniels-Midland Company\n",
       "45   ADMA                             ADMA Biologics, Inc.\n",
       "46   ADMS                     Adamas Pharmaceuticals, Inc.\n",
       "47   ADNT                                       Adient plc\n",
       "48    ADP                  Automatic Data Processing, Inc.\n",
       "49   ADPT             Adaptive Biotechnologies Corporation\n",
       "50   ADRO                              Aduro Biotech, Inc.\n",
       "51    ADS                Alliance Data Systems Corporation\n",
       "52   ADSK                                   Autodesk, Inc.\n",
       "53   ADSW                 Advanced Disposal Services, Inc.\n",
       "54    ADT                                         ADT Inc.\n",
       "55   ADTN                                     ADTRAN, Inc.\n",
       "56   ADUS                       Addus HomeCare Corporation\n",
       "57   ADVM                    Adverum Biotechnologies, Inc.\n",
       "58    AEE                               Ameren Corporation\n",
       "59   AEGN                               Aegion Corporation\n",
       "60   AEIS                 Advanced Energy Industries, Inc.\n",
       "61    AEL  American Equity Investment Life Holding Company\n",
       "62    AEO                  American Eagle Outfitters, Inc.\n",
       "63    AEP            American Electric Power Company, Inc.\n",
       "64   AERI                      Aerie Pharmaceuticals, Inc.\n",
       "65    AES                              The AES Corporation\n",
       "66    AFG                   American Financial Group, Inc.\n",
       "67    AFI                         Armstrong Flooring, Inc.\n",
       "68   AFIN                     American Finance Trust, Inc.\n",
       "69    AFL                               Aflac Incorporated\n",
       "70   AFMD                                     Affimed N.V.\n",
       "71   AGCO                                 AGCO Corporation\n",
       "72    AGE                          AgeX Therapeutics, Inc.\n",
       "73   AGEN                                      Agenus Inc.\n",
       "74   AGIO                      Agios Pharmaceuticals, Inc.\n",
       "75   AGLE                     Aeglea BioTherapeutics, Inc.\n",
       "76    AGM        Federal Agricultural Mortgage Corporation\n",
       "77   AGNC                            AGNC Investment Corp.\n",
       "78    AGO                            Assured Guaranty Ltd.\n",
       "79    AGR                                   Avangrid, Inc.\n",
       "80    AGS                                    PlayAGS, Inc.\n",
       "81    AGX                                      Argan, Inc.\n",
       "82   AGYS                                   Agilysys, Inc.\n",
       "83    AHH                  Armada Hoffler Properties, Inc.\n",
       "84    AHT                  Ashford Hospitality Trust, Inc.\n",
       "85     AI                 Arlington Asset Investment Corp.\n",
       "86    AIG               American International Group, Inc.\n",
       "87   AIMC                    Altra Industrial Motion Corp.\n",
       "88   AIMT                       Aimmune Therapeutics, Inc.\n",
       "89    AIN                       Albany International Corp.\n",
       "90    AIR                                        AAR Corp.\n",
       "91   AIRG                                    Airgain, Inc.\n",
       "92    AIT            Applied Industrial Technologies, Inc.\n",
       "93    AIV      Apartment Investment and Management Company\n",
       "94    AIZ                                   Assurant, Inc.\n",
       "95    AJG                        Arthur J. Gallagher & Co.\n",
       "96   AJRD                Aerojet Rocketdyne Holdings, Inc.\n",
       "97    AJX                                 Great Ajax Corp.\n",
       "98   AKAM                        Akamai Technologies, Inc.\n",
       "99   AKBA                        Akebia Therapeutics, Inc."
      ]
     },
     "execution_count": 10,
     "metadata": {},
     "output_type": "execute_result"
    }
   ],
   "source": [
    "russell_tickers_df = pd.read_csv('data_out/russell_tickers_df.csv')\n",
    "russell_tickers_df.head(100)"
   ]
  },
  {
   "cell_type": "code",
   "execution_count": 7,
   "metadata": {},
   "outputs": [
    {
     "data": {
      "text/plain": [
       "(2964, 2)"
      ]
     },
     "execution_count": 7,
     "metadata": {},
     "output_type": "execute_result"
    }
   ],
   "source": [
    "russell_tickers_df.shape"
   ]
  },
  {
   "cell_type": "code",
   "execution_count": 9,
   "metadata": {},
   "outputs": [
    {
     "data": {
      "text/plain": [
       "2924"
      ]
     },
     "execution_count": 9,
     "metadata": {},
     "output_type": "execute_result"
    }
   ],
   "source": [
    "russell_tickers_df.Name.count()"
   ]
  },
  {
   "cell_type": "markdown",
   "metadata": {},
   "source": [
    "# Read and Merge Data"
   ]
  },
  {
   "cell_type": "markdown",
   "metadata": {},
   "source": [
    "##### Ticker to GICS (version 1)\n",
    "\n",
    "- data from prof (bloomberg)"
   ]
  },
  {
   "cell_type": "code",
   "execution_count": 5,
   "metadata": {},
   "outputs": [],
   "source": [
    "# ticker_to_gics_df = pd.read_csv('data_out/ticker_to_gics_bloomberg.csv')\n",
    "# ticker_to_gics_df.Ticker = ticker_to_gics_df.Ticker.str.replace('/','-')\n",
    "# ticker_to_gics_df"
   ]
  },
  {
   "cell_type": "markdown",
   "metadata": {},
   "source": [
    "##### Ticker to GICS (version 2 - better)\n",
    "\n",
    "- data from previous code (not sure where origin)\n",
    "- more data"
   ]
  },
  {
   "cell_type": "code",
   "execution_count": 6,
   "metadata": {},
   "outputs": [],
   "source": [
    "ticker_to_gics_df = pd.read_csv('data_in/ticker_to_gics.csv', names=['Ticker', 'GICS'])\n",
    "ticker_to_gics_df.Ticker = ticker_to_gics_df.Ticker.str.replace('/','-')\n",
    "ticker_to_gics_df.GICS = ticker_to_gics_df.GICS.apply(lambda x: int(str(x)[:6]))"
   ]
  },
  {
   "cell_type": "markdown",
   "metadata": {},
   "source": [
    "##### Map GICS code to name"
   ]
  },
  {
   "cell_type": "code",
   "execution_count": 7,
   "metadata": {},
   "outputs": [
    {
     "data": {
      "text/html": [
       "<div>\n",
       "<style scoped>\n",
       "    .dataframe tbody tr th:only-of-type {\n",
       "        vertical-align: middle;\n",
       "    }\n",
       "\n",
       "    .dataframe tbody tr th {\n",
       "        vertical-align: top;\n",
       "    }\n",
       "\n",
       "    .dataframe thead th {\n",
       "        text-align: right;\n",
       "    }\n",
       "</style>\n",
       "<table border=\"1\" class=\"dataframe\">\n",
       "  <thead>\n",
       "    <tr style=\"text-align: right;\">\n",
       "      <th></th>\n",
       "      <th>Ticker</th>\n",
       "      <th>GICS</th>\n",
       "    </tr>\n",
       "  </thead>\n",
       "  <tbody>\n",
       "    <tr>\n",
       "      <th>0</th>\n",
       "      <td>A</td>\n",
       "      <td>Life Sciences Tools &amp; Services</td>\n",
       "    </tr>\n",
       "    <tr>\n",
       "      <th>1</th>\n",
       "      <td>ADPT</td>\n",
       "      <td>Life Sciences Tools &amp; Services</td>\n",
       "    </tr>\n",
       "    <tr>\n",
       "      <th>2</th>\n",
       "      <td>AVTR</td>\n",
       "      <td>Life Sciences Tools &amp; Services</td>\n",
       "    </tr>\n",
       "    <tr>\n",
       "      <th>3</th>\n",
       "      <td>BIO</td>\n",
       "      <td>Life Sciences Tools &amp; Services</td>\n",
       "    </tr>\n",
       "    <tr>\n",
       "      <th>4</th>\n",
       "      <td>BRKR</td>\n",
       "      <td>Life Sciences Tools &amp; Services</td>\n",
       "    </tr>\n",
       "    <tr>\n",
       "      <th>...</th>\n",
       "      <td>...</td>\n",
       "      <td>...</td>\n",
       "    </tr>\n",
       "    <tr>\n",
       "      <th>2959</th>\n",
       "      <td>PYX</td>\n",
       "      <td>Tobacco</td>\n",
       "    </tr>\n",
       "    <tr>\n",
       "      <th>2960</th>\n",
       "      <td>TPB</td>\n",
       "      <td>Tobacco</td>\n",
       "    </tr>\n",
       "    <tr>\n",
       "      <th>2961</th>\n",
       "      <td>UVV</td>\n",
       "      <td>Tobacco</td>\n",
       "    </tr>\n",
       "    <tr>\n",
       "      <th>2962</th>\n",
       "      <td>VGR</td>\n",
       "      <td>Tobacco</td>\n",
       "    </tr>\n",
       "    <tr>\n",
       "      <th>2963</th>\n",
       "      <td>XXII</td>\n",
       "      <td>Tobacco</td>\n",
       "    </tr>\n",
       "  </tbody>\n",
       "</table>\n",
       "<p>2964 rows × 2 columns</p>\n",
       "</div>"
      ],
      "text/plain": [
       "     Ticker                            GICS\n",
       "0         A  Life Sciences Tools & Services\n",
       "1      ADPT  Life Sciences Tools & Services\n",
       "2      AVTR  Life Sciences Tools & Services\n",
       "3       BIO  Life Sciences Tools & Services\n",
       "4      BRKR  Life Sciences Tools & Services\n",
       "...     ...                             ...\n",
       "2959    PYX                         Tobacco\n",
       "2960    TPB                         Tobacco\n",
       "2961    UVV                         Tobacco\n",
       "2962    VGR                         Tobacco\n",
       "2963   XXII                         Tobacco\n",
       "\n",
       "[2964 rows x 2 columns]"
      ]
     },
     "execution_count": 7,
     "metadata": {},
     "output_type": "execute_result"
    }
   ],
   "source": [
    "gics_code_to_industry_df = pd.read_csv('data_out/gics_code_to_industry.csv')\n",
    "ticker_to_gics_df = pd.merge(ticker_to_gics_df, gics_code_to_industry_df, on='GICS')[['Ticker', 'GICS Industry']]\n",
    "ticker_to_gics_df.rename({'GICS Industry':'GICS'}, axis=1, inplace=True)\n",
    "ticker_to_gics_df"
   ]
  },
  {
   "cell_type": "markdown",
   "metadata": {},
   "source": [
    "### Helper functions"
   ]
  },
  {
   "cell_type": "code",
   "execution_count": 8,
   "metadata": {},
   "outputs": [],
   "source": [
    "# For testing purposes\n",
    "def longest_and_shortest_description(df):\n",
    "    desc_len = df.Description.map(lambda s: len(s))\n",
    "    max_i, max_n = desc_len.idxmax(), desc_len.max()\n",
    "    min_i, min_n = desc_len.idxmin(), desc_len.min()\n",
    "    print(\"LONGEST DESCRIPTION:\")\n",
    "    print(df.iloc[max_i].Description)\n",
    "    print(\"SHORTEST DESCRIPTION:\")\n",
    "    print(df.iloc[min_i].Description)\n",
    "    \n",
    "def description_length_stats(df):\n",
    "    desc_len = df.Description.map(lambda s: len(s))\n",
    "    print('MEAN: %d'%desc_len.mean())\n",
    "    print('MEDIAN: %d'%desc_len.median())\n",
    "    print('MIN: %d'%desc_len.min())\n",
    "    print('MAX: %d'%desc_len.max())\n",
    "    "
   ]
  },
  {
   "cell_type": "markdown",
   "metadata": {},
   "source": [
    "### AIM of Project\n",
    "\n",
    "- offer a classification scheme which can classify more frequently as existing schemes are updated infrequently even as products offered by companies change\n",
    "- offer a classificatoin scheme which classifies by products than production process"
   ]
  },
  {
   "cell_type": "markdown",
   "metadata": {},
   "source": [
    "### Background info of Data\n",
    "\n",
    "- Indexes\n",
    "    - SnP 500\n",
    "        - market-capitalization-weighted index of the 500 largest U.S. publicly traded companies\n",
    "    - Russell 3000\n",
    "        - market-capitalization-weighted equity index that provides exposure to entire U.S. stock market\n",
    "        - more than 98% of total stock market capitalization\n",
    "    - Both considered large-cap stock indices, with stocks of companies valued at more than USD 10 billion\n",
    "    - Russell 3000 includes the S&P 500\n",
    "\n",
    "\n",
    "- Classification schemes\n",
    "    - NAICS (updated, modern version of SIC), GICS, ICB\n",
    "    - We try to use 10K reports to classify (specifically the business desc section which details company products), to see if it is different from the existing schemes which classify by production processes"
   ]
  },
  {
   "cell_type": "markdown",
   "metadata": {},
   "source": [
    "### SnP Data"
   ]
  },
  {
   "cell_type": "markdown",
   "metadata": {},
   "source": [
    "##### SnP Descriptions (from 10K)\n",
    "\n",
    "- not used, as we will be filtering from the russell_desc_10K_df, which contains the tickers for snp\n",
    "    - actually the russell_desc_10K_df is not russell ticker but all the tickers we have GICS clssification for"
   ]
  },
  {
   "cell_type": "code",
   "execution_count": 9,
   "metadata": {},
   "outputs": [],
   "source": [
    "snp_desc_10K_df = pd.read_pickle('data_out/snp_desc_10K.pkl')"
   ]
  },
  {
   "cell_type": "code",
   "execution_count": 10,
   "metadata": {},
   "outputs": [],
   "source": [
    "snp_desc_10K_df = pd.merge(snp_desc_10K_df, ticker_to_gics_df, on='Ticker')\n",
    "snp_desc_10K_df = snp_desc_10K_df[['Ticker', 'Description', 'GICS']]"
   ]
  },
  {
   "cell_type": "code",
   "execution_count": 11,
   "metadata": {
    "scrolled": false
   },
   "outputs": [
    {
     "data": {
      "text/html": [
       "<div>\n",
       "<style scoped>\n",
       "    .dataframe tbody tr th:only-of-type {\n",
       "        vertical-align: middle;\n",
       "    }\n",
       "\n",
       "    .dataframe tbody tr th {\n",
       "        vertical-align: top;\n",
       "    }\n",
       "\n",
       "    .dataframe thead th {\n",
       "        text-align: right;\n",
       "    }\n",
       "</style>\n",
       "<table border=\"1\" class=\"dataframe\">\n",
       "  <thead>\n",
       "    <tr style=\"text-align: right;\">\n",
       "      <th></th>\n",
       "      <th>Ticker</th>\n",
       "      <th>Description</th>\n",
       "      <th>GICS</th>\n",
       "    </tr>\n",
       "  </thead>\n",
       "  <tbody>\n",
       "    <tr>\n",
       "      <th>0</th>\n",
       "      <td>AAL</td>\n",
       "      <td>PART I   ITEM 1. BUSINESS  Overview  American ...</td>\n",
       "      <td>Airlines</td>\n",
       "    </tr>\n",
       "    <tr>\n",
       "      <th>1</th>\n",
       "      <td>AAPL</td>\n",
       "      <td>PART I  Item 1.Business  Company Background  T...</td>\n",
       "      <td>Technology Hardware, Storage &amp; Peripherals</td>\n",
       "    </tr>\n",
       "    <tr>\n",
       "      <th>2</th>\n",
       "      <td>AAP</td>\n",
       "      <td>PART I  Item 1. Business.  Unless the context ...</td>\n",
       "      <td>Specialty Retail</td>\n",
       "    </tr>\n",
       "    <tr>\n",
       "      <th>3</th>\n",
       "      <td>ABBV</td>\n",
       "      <td>PART I  ITEM 1. BUSINESS  Overview  AbbVie(1) ...</td>\n",
       "      <td>Biotechnology</td>\n",
       "    </tr>\n",
       "    <tr>\n",
       "      <th>4</th>\n",
       "      <td>ABC</td>\n",
       "      <td>PART I  ITEM 1. BUSINESS  As used herein  the ...</td>\n",
       "      <td>Health Care Providers &amp; Services</td>\n",
       "    </tr>\n",
       "  </tbody>\n",
       "</table>\n",
       "</div>"
      ],
      "text/plain": [
       "  Ticker                                        Description  \\\n",
       "0    AAL  PART I   ITEM 1. BUSINESS  Overview  American ...   \n",
       "1   AAPL  PART I  Item 1.Business  Company Background  T...   \n",
       "2    AAP  PART I  Item 1. Business.  Unless the context ...   \n",
       "3   ABBV  PART I  ITEM 1. BUSINESS  Overview  AbbVie(1) ...   \n",
       "4    ABC  PART I  ITEM 1. BUSINESS  As used herein  the ...   \n",
       "\n",
       "                                         GICS  \n",
       "0                                    Airlines  \n",
       "1  Technology Hardware, Storage & Peripherals  \n",
       "2                            Specialty Retail  \n",
       "3                               Biotechnology  \n",
       "4            Health Care Providers & Services  "
      ]
     },
     "execution_count": 11,
     "metadata": {},
     "output_type": "execute_result"
    }
   ],
   "source": [
    "snp_desc_10K_df.head()"
   ]
  },
  {
   "cell_type": "code",
   "execution_count": 12,
   "metadata": {},
   "outputs": [
    {
     "data": {
      "text/plain": [
       "(411, 3)"
      ]
     },
     "execution_count": 12,
     "metadata": {},
     "output_type": "execute_result"
    }
   ],
   "source": [
    "snp_desc_10K_df.shape"
   ]
  },
  {
   "cell_type": "code",
   "execution_count": 13,
   "metadata": {},
   "outputs": [
    {
     "name": "stdout",
     "output_type": "stream",
     "text": [
      "60\n"
     ]
    }
   ],
   "source": [
    "print(len(set(snp_desc_10K_df.GICS)))"
   ]
  },
  {
   "cell_type": "code",
   "execution_count": 14,
   "metadata": {},
   "outputs": [
    {
     "name": "stdout",
     "output_type": "stream",
     "text": [
      "MEAN: 46021\n",
      "MEDIAN: 38593\n",
      "MIN: 5278\n",
      "MAX: 169539\n"
     ]
    }
   ],
   "source": [
    "description_length_stats(snp_desc_10K_df)"
   ]
  },
  {
   "cell_type": "markdown",
   "metadata": {},
   "source": [
    "##### SnP Descriptions (from yahoo)"
   ]
  },
  {
   "cell_type": "code",
   "execution_count": 15,
   "metadata": {},
   "outputs": [],
   "source": [
    "snp_desc_yahoo_df = pd.read_csv('scrapy_spiders/data_out/snp_desc_yahoo.csv').dropna().reset_index(drop=True)\n",
    "snp_desc_yahoo_df = pd.merge(snp_desc_yahoo_df, ticker_to_gics_df, on='Ticker')\n",
    "snp_desc_yahoo_df.Industry = pd.Categorical(snp_desc_yahoo_df.Industry)\n",
    "snp_desc_yahoo_df.Sector = pd.Categorical(snp_desc_yahoo_df.Sector)"
   ]
  },
  {
   "cell_type": "code",
   "execution_count": 16,
   "metadata": {},
   "outputs": [
    {
     "data": {
      "text/html": [
       "<div>\n",
       "<style scoped>\n",
       "    .dataframe tbody tr th:only-of-type {\n",
       "        vertical-align: middle;\n",
       "    }\n",
       "\n",
       "    .dataframe tbody tr th {\n",
       "        vertical-align: top;\n",
       "    }\n",
       "\n",
       "    .dataframe thead th {\n",
       "        text-align: right;\n",
       "    }\n",
       "</style>\n",
       "<table border=\"1\" class=\"dataframe\">\n",
       "  <thead>\n",
       "    <tr style=\"text-align: right;\">\n",
       "      <th></th>\n",
       "      <th>Ticker</th>\n",
       "      <th>Description</th>\n",
       "      <th>Sector</th>\n",
       "      <th>Industry</th>\n",
       "      <th>GICS</th>\n",
       "    </tr>\n",
       "  </thead>\n",
       "  <tbody>\n",
       "    <tr>\n",
       "      <th>0</th>\n",
       "      <td>ABT</td>\n",
       "      <td>Abbott Laboratories discovers, develops, manuf...</td>\n",
       "      <td>Healthcare</td>\n",
       "      <td>Medical Devices</td>\n",
       "      <td>Health Care Equipment &amp; Supplies</td>\n",
       "    </tr>\n",
       "    <tr>\n",
       "      <th>1</th>\n",
       "      <td>ABBV</td>\n",
       "      <td>AbbVie Inc. discovers, develops, manufactures,...</td>\n",
       "      <td>Healthcare</td>\n",
       "      <td>Drug Manufacturers—General</td>\n",
       "      <td>Biotechnology</td>\n",
       "    </tr>\n",
       "    <tr>\n",
       "      <th>2</th>\n",
       "      <td>ADBE</td>\n",
       "      <td>Adobe Inc. operates as a diversified software ...</td>\n",
       "      <td>Technology</td>\n",
       "      <td>Software—Infrastructure</td>\n",
       "      <td>Software</td>\n",
       "    </tr>\n",
       "    <tr>\n",
       "      <th>3</th>\n",
       "      <td>MMM</td>\n",
       "      <td>3M Company develops, manufactures, and markets...</td>\n",
       "      <td>Industrials</td>\n",
       "      <td>Specialty Industrial Machinery</td>\n",
       "      <td>Industrial Conglomerates</td>\n",
       "    </tr>\n",
       "    <tr>\n",
       "      <th>4</th>\n",
       "      <td>AMD</td>\n",
       "      <td>Advanced Micro Devices, Inc. operates as a sem...</td>\n",
       "      <td>Technology</td>\n",
       "      <td>Semiconductors</td>\n",
       "      <td>Semiconductors &amp; Semiconductor Equipment</td>\n",
       "    </tr>\n",
       "  </tbody>\n",
       "</table>\n",
       "</div>"
      ],
      "text/plain": [
       "  Ticker                                        Description       Sector  \\\n",
       "0    ABT  Abbott Laboratories discovers, develops, manuf...   Healthcare   \n",
       "1   ABBV  AbbVie Inc. discovers, develops, manufactures,...   Healthcare   \n",
       "2   ADBE  Adobe Inc. operates as a diversified software ...   Technology   \n",
       "3    MMM  3M Company develops, manufactures, and markets...  Industrials   \n",
       "4    AMD  Advanced Micro Devices, Inc. operates as a sem...   Technology   \n",
       "\n",
       "                         Industry                                      GICS  \n",
       "0                 Medical Devices          Health Care Equipment & Supplies  \n",
       "1      Drug Manufacturers—General                             Biotechnology  \n",
       "2         Software—Infrastructure                                  Software  \n",
       "3  Specialty Industrial Machinery                  Industrial Conglomerates  \n",
       "4                  Semiconductors  Semiconductors & Semiconductor Equipment  "
      ]
     },
     "execution_count": 16,
     "metadata": {},
     "output_type": "execute_result"
    }
   ],
   "source": [
    "snp_desc_yahoo_df.head()"
   ]
  },
  {
   "cell_type": "code",
   "execution_count": 17,
   "metadata": {
    "scrolled": false
   },
   "outputs": [
    {
     "data": {
      "text/plain": [
       "(499, 5)"
      ]
     },
     "execution_count": 17,
     "metadata": {},
     "output_type": "execute_result"
    }
   ],
   "source": [
    "snp_desc_yahoo_df.shape"
   ]
  },
  {
   "cell_type": "code",
   "execution_count": 18,
   "metadata": {
    "scrolled": true
   },
   "outputs": [
    {
     "name": "stdout",
     "output_type": "stream",
     "text": [
      "63\n",
      "11\n",
      "113\n"
     ]
    }
   ],
   "source": [
    "print(len(set(snp_desc_yahoo_df.GICS)))\n",
    "print(len(set(snp_desc_yahoo_df.Sector)))\n",
    "print(len(set(snp_desc_yahoo_df.Industry)))"
   ]
  },
  {
   "cell_type": "code",
   "execution_count": 19,
   "metadata": {},
   "outputs": [
    {
     "name": "stdout",
     "output_type": "stream",
     "text": [
      "MEAN: 1459\n",
      "MEDIAN: 1584\n",
      "MIN: 209\n",
      "MAX: 2386\n"
     ]
    }
   ],
   "source": [
    "description_length_stats(snp_desc_yahoo_df)\n",
    "# longest_and_shortest_description(snp_desc_yahoo_df)"
   ]
  },
  {
   "cell_type": "code",
   "execution_count": 20,
   "metadata": {
    "scrolled": true
   },
   "outputs": [
    {
     "data": {
      "text/plain": [
       "129"
      ]
     },
     "execution_count": 20,
     "metadata": {},
     "output_type": "execute_result"
    }
   ],
   "source": [
    "len([t for t in snp_desc_yahoo_df.Ticker if t not in list(snp_desc_10K_df.Ticker)])"
   ]
  },
  {
   "cell_type": "markdown",
   "metadata": {},
   "source": [
    "- There seems to be alot of non-overlapping tickers in both snp data, so later we use the russell tickers for the 10K data and filter out the common ones"
   ]
  },
  {
   "cell_type": "markdown",
   "metadata": {},
   "source": [
    "##### SnP Descriptions (from Wiki)"
   ]
  },
  {
   "cell_type": "code",
   "execution_count": 21,
   "metadata": {},
   "outputs": [],
   "source": [
    "snp_desc_wiki_df = pd.read_csv('data_out/snp_desc_wiki_df.csv')"
   ]
  },
  {
   "cell_type": "code",
   "execution_count": 22,
   "metadata": {},
   "outputs": [],
   "source": [
    "snp_desc_wiki_df = pd.merge(snp_desc_wiki_df, ticker_to_gics_df, on='Ticker')\n",
    "snp_desc_wiki_df = snp_desc_wiki_df[['Ticker', 'Description', 'GICS']]"
   ]
  },
  {
   "cell_type": "code",
   "execution_count": 23,
   "metadata": {
    "scrolled": false
   },
   "outputs": [
    {
     "data": {
      "text/html": [
       "<div>\n",
       "<style scoped>\n",
       "    .dataframe tbody tr th:only-of-type {\n",
       "        vertical-align: middle;\n",
       "    }\n",
       "\n",
       "    .dataframe tbody tr th {\n",
       "        vertical-align: top;\n",
       "    }\n",
       "\n",
       "    .dataframe thead th {\n",
       "        text-align: right;\n",
       "    }\n",
       "</style>\n",
       "<table border=\"1\" class=\"dataframe\">\n",
       "  <thead>\n",
       "    <tr style=\"text-align: right;\">\n",
       "      <th></th>\n",
       "      <th>Ticker</th>\n",
       "      <th>Description</th>\n",
       "      <th>GICS</th>\n",
       "    </tr>\n",
       "  </thead>\n",
       "  <tbody>\n",
       "    <tr>\n",
       "      <th>0</th>\n",
       "      <td>MMM</td>\n",
       "      <td>The 3M Company is an American multinational co...</td>\n",
       "      <td>Industrial Conglomerates</td>\n",
       "    </tr>\n",
       "    <tr>\n",
       "      <th>1</th>\n",
       "      <td>ABT</td>\n",
       "      <td>Abbott Laboratories is an American multination...</td>\n",
       "      <td>Health Care Equipment &amp; Supplies</td>\n",
       "    </tr>\n",
       "    <tr>\n",
       "      <th>2</th>\n",
       "      <td>ABBV</td>\n",
       "      <td>AbbVie is an American publicly traded biopharm...</td>\n",
       "      <td>Biotechnology</td>\n",
       "    </tr>\n",
       "    <tr>\n",
       "      <th>3</th>\n",
       "      <td>ABMD</td>\n",
       "      <td>Abiomed is a publicly-traded medical devices c...</td>\n",
       "      <td>Health Care Equipment &amp; Supplies</td>\n",
       "    </tr>\n",
       "    <tr>\n",
       "      <th>4</th>\n",
       "      <td>ACN</td>\n",
       "      <td>Accenture plc is a multinational professional ...</td>\n",
       "      <td>IT Services</td>\n",
       "    </tr>\n",
       "  </tbody>\n",
       "</table>\n",
       "</div>"
      ],
      "text/plain": [
       "  Ticker                                        Description  \\\n",
       "0    MMM  The 3M Company is an American multinational co...   \n",
       "1    ABT  Abbott Laboratories is an American multination...   \n",
       "2   ABBV  AbbVie is an American publicly traded biopharm...   \n",
       "3   ABMD  Abiomed is a publicly-traded medical devices c...   \n",
       "4    ACN  Accenture plc is a multinational professional ...   \n",
       "\n",
       "                               GICS  \n",
       "0          Industrial Conglomerates  \n",
       "1  Health Care Equipment & Supplies  \n",
       "2                     Biotechnology  \n",
       "3  Health Care Equipment & Supplies  \n",
       "4                       IT Services  "
      ]
     },
     "execution_count": 23,
     "metadata": {},
     "output_type": "execute_result"
    }
   ],
   "source": [
    "snp_desc_wiki_df.head()"
   ]
  },
  {
   "cell_type": "code",
   "execution_count": 24,
   "metadata": {},
   "outputs": [
    {
     "data": {
      "text/plain": [
       "(500, 3)"
      ]
     },
     "execution_count": 24,
     "metadata": {},
     "output_type": "execute_result"
    }
   ],
   "source": [
    "snp_desc_wiki_df.shape"
   ]
  },
  {
   "cell_type": "code",
   "execution_count": 25,
   "metadata": {},
   "outputs": [
    {
     "name": "stdout",
     "output_type": "stream",
     "text": [
      "63\n"
     ]
    }
   ],
   "source": [
    "print(len(set(snp_desc_wiki_df.GICS)))"
   ]
  },
  {
   "cell_type": "code",
   "execution_count": 26,
   "metadata": {
    "scrolled": true
   },
   "outputs": [
    {
     "name": "stdout",
     "output_type": "stream",
     "text": [
      "MEAN: 858\n",
      "MEDIAN: 707\n",
      "MIN: 69\n",
      "MAX: 4427\n"
     ]
    }
   ],
   "source": [
    "description_length_stats(snp_desc_wiki_df)\n",
    "# longest_and_shortest_description(snp_desc_wiki_df)"
   ]
  },
  {
   "cell_type": "code",
   "execution_count": 27,
   "metadata": {},
   "outputs": [
    {
     "data": {
      "text/html": [
       "<div>\n",
       "<style scoped>\n",
       "    .dataframe tbody tr th:only-of-type {\n",
       "        vertical-align: middle;\n",
       "    }\n",
       "\n",
       "    .dataframe tbody tr th {\n",
       "        vertical-align: top;\n",
       "    }\n",
       "\n",
       "    .dataframe thead th {\n",
       "        text-align: right;\n",
       "    }\n",
       "</style>\n",
       "<table border=\"1\" class=\"dataframe\">\n",
       "  <thead>\n",
       "    <tr style=\"text-align: right;\">\n",
       "      <th></th>\n",
       "      <th>Ticker</th>\n",
       "      <th>Description</th>\n",
       "      <th>Sector</th>\n",
       "      <th>Industry</th>\n",
       "      <th>GICS</th>\n",
       "    </tr>\n",
       "  </thead>\n",
       "  <tbody>\n",
       "  </tbody>\n",
       "</table>\n",
       "</div>"
      ],
      "text/plain": [
       "Empty DataFrame\n",
       "Columns: [Ticker, Description, Sector, Industry, GICS]\n",
       "Index: []"
      ]
     },
     "execution_count": 27,
     "metadata": {},
     "output_type": "execute_result"
    }
   ],
   "source": [
    "# Should be empty\n",
    "snp_desc_yahoo_df[~snp_desc_yahoo_df.Ticker.isin(snp_desc_wiki_df.Ticker)]"
   ]
  },
  {
   "cell_type": "markdown",
   "metadata": {},
   "source": [
    "##### SnP Descriptions (from business insider)"
   ]
  },
  {
   "cell_type": "code",
   "execution_count": 28,
   "metadata": {},
   "outputs": [],
   "source": [
    "snp_desc_bi_df = pd.read_csv('scrapy_spiders/data_out/snp_desc_business_insider.csv').dropna().reset_index(drop=True)\n",
    "snp_desc_bi_df = pd.merge(snp_desc_bi_df, ticker_to_gics_df, on='Ticker')"
   ]
  },
  {
   "cell_type": "code",
   "execution_count": 29,
   "metadata": {
    "scrolled": true
   },
   "outputs": [
    {
     "data": {
      "text/html": [
       "<div>\n",
       "<style scoped>\n",
       "    .dataframe tbody tr th:only-of-type {\n",
       "        vertical-align: middle;\n",
       "    }\n",
       "\n",
       "    .dataframe tbody tr th {\n",
       "        vertical-align: top;\n",
       "    }\n",
       "\n",
       "    .dataframe thead th {\n",
       "        text-align: right;\n",
       "    }\n",
       "</style>\n",
       "<table border=\"1\" class=\"dataframe\">\n",
       "  <thead>\n",
       "    <tr style=\"text-align: right;\">\n",
       "      <th></th>\n",
       "      <th>Ticker</th>\n",
       "      <th>Description</th>\n",
       "      <th>GICS</th>\n",
       "    </tr>\n",
       "  </thead>\n",
       "  <tbody>\n",
       "    <tr>\n",
       "      <th>0</th>\n",
       "      <td>MMM</td>\n",
       "      <td>3M Co. is a technology company, which manufact...</td>\n",
       "      <td>Industrial Conglomerates</td>\n",
       "    </tr>\n",
       "    <tr>\n",
       "      <th>1</th>\n",
       "      <td>AFL</td>\n",
       "      <td>Aflac, Inc. is a holding company, which engage...</td>\n",
       "      <td>Insurance</td>\n",
       "    </tr>\n",
       "    <tr>\n",
       "      <th>2</th>\n",
       "      <td>AMD</td>\n",
       "      <td>Advanced Micro Devices, Inc. engages in the pr...</td>\n",
       "      <td>Semiconductors &amp; Semiconductor Equipment</td>\n",
       "    </tr>\n",
       "    <tr>\n",
       "      <th>3</th>\n",
       "      <td>ABT</td>\n",
       "      <td>Abbott Laboratories engages in the discovery, ...</td>\n",
       "      <td>Health Care Equipment &amp; Supplies</td>\n",
       "    </tr>\n",
       "    <tr>\n",
       "      <th>4</th>\n",
       "      <td>AAP</td>\n",
       "      <td>Advance Auto Parts, Inc. engages in the supply...</td>\n",
       "      <td>Specialty Retail</td>\n",
       "    </tr>\n",
       "  </tbody>\n",
       "</table>\n",
       "</div>"
      ],
      "text/plain": [
       "  Ticker                                        Description  \\\n",
       "0    MMM  3M Co. is a technology company, which manufact...   \n",
       "1    AFL  Aflac, Inc. is a holding company, which engage...   \n",
       "2    AMD  Advanced Micro Devices, Inc. engages in the pr...   \n",
       "3    ABT  Abbott Laboratories engages in the discovery, ...   \n",
       "4    AAP  Advance Auto Parts, Inc. engages in the supply...   \n",
       "\n",
       "                                       GICS  \n",
       "0                  Industrial Conglomerates  \n",
       "1                                 Insurance  \n",
       "2  Semiconductors & Semiconductor Equipment  \n",
       "3          Health Care Equipment & Supplies  \n",
       "4                          Specialty Retail  "
      ]
     },
     "execution_count": 29,
     "metadata": {},
     "output_type": "execute_result"
    }
   ],
   "source": [
    "snp_desc_bi_df.head()"
   ]
  },
  {
   "cell_type": "code",
   "execution_count": 30,
   "metadata": {
    "scrolled": true
   },
   "outputs": [
    {
     "data": {
      "text/plain": [
       "(498, 3)"
      ]
     },
     "execution_count": 30,
     "metadata": {},
     "output_type": "execute_result"
    }
   ],
   "source": [
    "snp_desc_bi_df.shape"
   ]
  },
  {
   "cell_type": "code",
   "execution_count": 31,
   "metadata": {
    "scrolled": true
   },
   "outputs": [
    {
     "name": "stdout",
     "output_type": "stream",
     "text": [
      "63\n"
     ]
    }
   ],
   "source": [
    "print(len(set(snp_desc_bi_df.GICS)))"
   ]
  },
  {
   "cell_type": "code",
   "execution_count": 32,
   "metadata": {
    "scrolled": true
   },
   "outputs": [
    {
     "name": "stdout",
     "output_type": "stream",
     "text": [
      "MEAN: 747\n",
      "MEDIAN: 724\n",
      "MIN: 146\n",
      "MAX: 2677\n"
     ]
    }
   ],
   "source": [
    "description_length_stats(snp_desc_bi_df)\n",
    "# longest_and_shortest_description(snp_desc_bi_df)"
   ]
  },
  {
   "cell_type": "markdown",
   "metadata": {},
   "source": [
    "##### SnP Descriptions (from morning star)"
   ]
  },
  {
   "cell_type": "code",
   "execution_count": 33,
   "metadata": {},
   "outputs": [],
   "source": [
    "snp_desc_ms_df = pd.read_csv('scrapy_spiders/data_out/snp_desc_morning_star.csv').dropna().reset_index(drop=True)\n",
    "snp_desc_ms_df = pd.merge(snp_desc_ms_df, ticker_to_gics_df, on='Ticker')"
   ]
  },
  {
   "cell_type": "code",
   "execution_count": 34,
   "metadata": {},
   "outputs": [
    {
     "data": {
      "text/html": [
       "<div>\n",
       "<style scoped>\n",
       "    .dataframe tbody tr th:only-of-type {\n",
       "        vertical-align: middle;\n",
       "    }\n",
       "\n",
       "    .dataframe tbody tr th {\n",
       "        vertical-align: top;\n",
       "    }\n",
       "\n",
       "    .dataframe thead th {\n",
       "        text-align: right;\n",
       "    }\n",
       "</style>\n",
       "<table border=\"1\" class=\"dataframe\">\n",
       "  <thead>\n",
       "    <tr style=\"text-align: right;\">\n",
       "      <th></th>\n",
       "      <th>Ticker</th>\n",
       "      <th>Description</th>\n",
       "      <th>GICS</th>\n",
       "    </tr>\n",
       "  </thead>\n",
       "  <tbody>\n",
       "    <tr>\n",
       "      <th>0</th>\n",
       "      <td>ABMD</td>\n",
       "      <td>Abiomed Inc provides temporary mechanical circ...</td>\n",
       "      <td>Health Care Equipment &amp; Supplies</td>\n",
       "    </tr>\n",
       "    <tr>\n",
       "      <th>1</th>\n",
       "      <td>ATVI</td>\n",
       "      <td>Activision Blizzard was formed in 2008 by the ...</td>\n",
       "      <td>Entertainment</td>\n",
       "    </tr>\n",
       "    <tr>\n",
       "      <th>2</th>\n",
       "      <td>AKAM</td>\n",
       "      <td>Akamai operates a content delivery network, or...</td>\n",
       "      <td>IT Services</td>\n",
       "    </tr>\n",
       "    <tr>\n",
       "      <th>3</th>\n",
       "      <td>ACN</td>\n",
       "      <td>Accenture is a leading global IT services firm...</td>\n",
       "      <td>IT Services</td>\n",
       "    </tr>\n",
       "    <tr>\n",
       "      <th>4</th>\n",
       "      <td>ABT</td>\n",
       "      <td>Abbott manufactures and markets medical device...</td>\n",
       "      <td>Health Care Equipment &amp; Supplies</td>\n",
       "    </tr>\n",
       "  </tbody>\n",
       "</table>\n",
       "</div>"
      ],
      "text/plain": [
       "  Ticker                                        Description  \\\n",
       "0   ABMD  Abiomed Inc provides temporary mechanical circ...   \n",
       "1   ATVI  Activision Blizzard was formed in 2008 by the ...   \n",
       "2   AKAM  Akamai operates a content delivery network, or...   \n",
       "3    ACN  Accenture is a leading global IT services firm...   \n",
       "4    ABT  Abbott manufactures and markets medical device...   \n",
       "\n",
       "                               GICS  \n",
       "0  Health Care Equipment & Supplies  \n",
       "1                     Entertainment  \n",
       "2                       IT Services  \n",
       "3                       IT Services  \n",
       "4  Health Care Equipment & Supplies  "
      ]
     },
     "execution_count": 34,
     "metadata": {},
     "output_type": "execute_result"
    }
   ],
   "source": [
    "snp_desc_ms_df.head()"
   ]
  },
  {
   "cell_type": "code",
   "execution_count": 38,
   "metadata": {
    "scrolled": true
   },
   "outputs": [
    {
     "data": {
      "text/plain": [
       "(497, 3)"
      ]
     },
     "execution_count": 38,
     "metadata": {},
     "output_type": "execute_result"
    }
   ],
   "source": [
    "snp_desc_ms_df.shape"
   ]
  },
  {
   "cell_type": "code",
   "execution_count": 39,
   "metadata": {
    "scrolled": true
   },
   "outputs": [
    {
     "name": "stdout",
     "output_type": "stream",
     "text": [
      "62\n"
     ]
    }
   ],
   "source": [
    "print(len(set(snp_desc_ms_df.GICS)))"
   ]
  },
  {
   "cell_type": "code",
   "execution_count": 40,
   "metadata": {
    "scrolled": true
   },
   "outputs": [
    {
     "name": "stdout",
     "output_type": "stream",
     "text": [
      "MEAN: 526\n",
      "MEDIAN: 519\n",
      "MIN: 145\n",
      "MAX: 800\n",
      "LONGEST DESCRIPTION:\n",
      "Cisco Systems, Inc. is the world's largest hardware and software supplier within the networking solutions sector. The infrastructure platforms group includes hardware and software products for switching, routing, data center, and wireless applications. Its applications portfolio contains collaboration, analytics, and Internet of Things products. The security segment contains Cisco's firewall and software-defined security products. Services are Cisco's technical support and advanced services offerings. The company’s wide array of hardware is complemented with solutions for software-defined networking, analytics, and intent-based networking. In collaboration with Cisco's initiative on growing software and services, its revenue model is focused on increasing subscriptions and recurring sales.\n",
      "SHORTEST DESCRIPTION:\n",
      "Capital One is a diversified financial-services holding company, primarily involved in credit card lending, auto lending, and commercial lending.\n"
     ]
    }
   ],
   "source": [
    "description_length_stats(snp_desc_ms_df)\n",
    "longest_and_shortest_description(snp_desc_ms_df)"
   ]
  },
  {
   "cell_type": "markdown",
   "metadata": {},
   "source": [
    "##### SnP Descriptions (from reuters)"
   ]
  },
  {
   "cell_type": "code",
   "execution_count": 41,
   "metadata": {},
   "outputs": [],
   "source": [
    "snp_desc_reuters_df = pd.read_csv('scrapy_spiders/data_out/snp_desc_reuters.csv').dropna().reset_index(drop=True)\n",
    "snp_desc_reuters_df = pd.merge(snp_desc_reuters_df, ticker_to_gics_df, on='Ticker')"
   ]
  },
  {
   "cell_type": "code",
   "execution_count": 42,
   "metadata": {},
   "outputs": [
    {
     "data": {
      "text/html": [
       "<div>\n",
       "<style scoped>\n",
       "    .dataframe tbody tr th:only-of-type {\n",
       "        vertical-align: middle;\n",
       "    }\n",
       "\n",
       "    .dataframe tbody tr th {\n",
       "        vertical-align: top;\n",
       "    }\n",
       "\n",
       "    .dataframe thead th {\n",
       "        text-align: right;\n",
       "    }\n",
       "</style>\n",
       "<table border=\"1\" class=\"dataframe\">\n",
       "  <thead>\n",
       "    <tr style=\"text-align: right;\">\n",
       "      <th></th>\n",
       "      <th>Ticker</th>\n",
       "      <th>Description</th>\n",
       "      <th>GICS</th>\n",
       "    </tr>\n",
       "  </thead>\n",
       "  <tbody>\n",
       "    <tr>\n",
       "      <th>0</th>\n",
       "      <td>ABT</td>\n",
       "      <td>Abbott Laboratories is engaged in the discover...</td>\n",
       "      <td>Health Care Equipment &amp; Supplies</td>\n",
       "    </tr>\n",
       "    <tr>\n",
       "      <th>1</th>\n",
       "      <td>MMM</td>\n",
       "      <td>3M Co is a technology company. The Company ope...</td>\n",
       "      <td>Industrial Conglomerates</td>\n",
       "    </tr>\n",
       "    <tr>\n",
       "      <th>2</th>\n",
       "      <td>ACN</td>\n",
       "      <td>Accenture plc is a professional services compa...</td>\n",
       "      <td>IT Services</td>\n",
       "    </tr>\n",
       "    <tr>\n",
       "      <th>3</th>\n",
       "      <td>AAP</td>\n",
       "      <td>Advance Auto Parts, Inc. provides automotive a...</td>\n",
       "      <td>Specialty Retail</td>\n",
       "    </tr>\n",
       "    <tr>\n",
       "      <th>4</th>\n",
       "      <td>AES</td>\n",
       "      <td>The AES Corporation is a holding company. The ...</td>\n",
       "      <td>Independent Power and Renewable Electricity Pr...</td>\n",
       "    </tr>\n",
       "  </tbody>\n",
       "</table>\n",
       "</div>"
      ],
      "text/plain": [
       "  Ticker                                        Description  \\\n",
       "0    ABT  Abbott Laboratories is engaged in the discover...   \n",
       "1    MMM  3M Co is a technology company. The Company ope...   \n",
       "2    ACN  Accenture plc is a professional services compa...   \n",
       "3    AAP  Advance Auto Parts, Inc. provides automotive a...   \n",
       "4    AES  The AES Corporation is a holding company. The ...   \n",
       "\n",
       "                                                GICS  \n",
       "0                   Health Care Equipment & Supplies  \n",
       "1                           Industrial Conglomerates  \n",
       "2                                        IT Services  \n",
       "3                                   Specialty Retail  \n",
       "4  Independent Power and Renewable Electricity Pr...  "
      ]
     },
     "execution_count": 42,
     "metadata": {},
     "output_type": "execute_result"
    }
   ],
   "source": [
    "snp_desc_reuters_df.head()"
   ]
  },
  {
   "cell_type": "code",
   "execution_count": 43,
   "metadata": {
    "scrolled": true
   },
   "outputs": [
    {
     "data": {
      "text/plain": [
       "(496, 3)"
      ]
     },
     "execution_count": 43,
     "metadata": {},
     "output_type": "execute_result"
    }
   ],
   "source": [
    "snp_desc_reuters_df.shape"
   ]
  },
  {
   "cell_type": "code",
   "execution_count": 49,
   "metadata": {
    "scrolled": true
   },
   "outputs": [
    {
     "name": "stdout",
     "output_type": "stream",
     "text": [
      "62\n"
     ]
    }
   ],
   "source": [
    "print(len(set(snp_desc_reuters_df.GICS)))"
   ]
  },
  {
   "cell_type": "code",
   "execution_count": 50,
   "metadata": {
    "scrolled": true
   },
   "outputs": [
    {
     "name": "stdout",
     "output_type": "stream",
     "text": [
      "MEAN: 939\n",
      "MEDIAN: 971\n",
      "MIN: 384\n",
      "MAX: 1000\n",
      "LONGEST DESCRIPTION:\n",
      "AvalonBay Communities, Inc. is a real estate investment trust (REIT). The Company is focused on the development, redevelopment, acquisition, ownership and operation of multifamily communities primarily in New England, the New York/New Jersey metro area, the Mid-Atlantic, the Pacific Northwest, and Northern and Southern California. Its segments include Established Communities, Other Stabilized Communities and Development/Redevelopment Communities. As of June 30, 2017, the Company owned or held a direct or indirect ownership interest in 287 apartment communities containing 83,123 apartment homes in 10 states and the District of Columbia, of which 23 communities were under development and nine communities were under redevelopment. It operates its apartment communities under three core brands: Avalon, AVA and Eaves by Avalon. Its real estate investments consist of operating apartment communities, communities in various stages of development (Development Communities) and Development Rights.\n",
      "SHORTEST DESCRIPTION:\n",
      "Evergy, Inc., is an energy company. The Company provides electricity generation, transmission and distribution services. It serves the customers under Westar and KCP&L brand names. It owns, operates and maintains more than 51,000 miles of distribution lines and 13,000 megawatts of generation. Its subsidiaries include Kansas City Power & Light Company (KCP&L) and Westar Energy, Inc.\n"
     ]
    }
   ],
   "source": [
    "description_length_stats(snp_desc_reuters_df)\n",
    "longest_and_shortest_description(snp_desc_reuters_df)"
   ]
  },
  {
   "cell_type": "markdown",
   "metadata": {},
   "source": [
    "##### SnP Descriptions (from reuters india)"
   ]
  },
  {
   "cell_type": "code",
   "execution_count": 54,
   "metadata": {},
   "outputs": [],
   "source": [
    "snp_desc_ri_df = pd.read_csv('scrapy_spiders/data_out/snp_desc_reuters_india.csv').dropna().reset_index(drop=True)\n",
    "snp_desc_ri_df = pd.merge(snp_desc_ri_df, ticker_to_gics_df, on='Ticker')"
   ]
  },
  {
   "cell_type": "code",
   "execution_count": 55,
   "metadata": {},
   "outputs": [
    {
     "data": {
      "text/html": [
       "<div>\n",
       "<style scoped>\n",
       "    .dataframe tbody tr th:only-of-type {\n",
       "        vertical-align: middle;\n",
       "    }\n",
       "\n",
       "    .dataframe tbody tr th {\n",
       "        vertical-align: top;\n",
       "    }\n",
       "\n",
       "    .dataframe thead th {\n",
       "        text-align: right;\n",
       "    }\n",
       "</style>\n",
       "<table border=\"1\" class=\"dataframe\">\n",
       "  <thead>\n",
       "    <tr style=\"text-align: right;\">\n",
       "      <th></th>\n",
       "      <th>Ticker</th>\n",
       "      <th>Description</th>\n",
       "      <th>GICS</th>\n",
       "    </tr>\n",
       "  </thead>\n",
       "  <tbody>\n",
       "    <tr>\n",
       "      <th>0</th>\n",
       "      <td>MMM</td>\n",
       "      <td>3M Co, incorporated on June 25, 1929, is a tec...</td>\n",
       "      <td>Industrial Conglomerates</td>\n",
       "    </tr>\n",
       "    <tr>\n",
       "      <th>1</th>\n",
       "      <td>ABT</td>\n",
       "      <td>Abbott Laboratories, incorporated on March 6, ...</td>\n",
       "      <td>Health Care Equipment &amp; Supplies</td>\n",
       "    </tr>\n",
       "    <tr>\n",
       "      <th>2</th>\n",
       "      <td>AAP</td>\n",
       "      <td>Advance Auto Parts, Inc., incorporated on Augu...</td>\n",
       "      <td>Specialty Retail</td>\n",
       "    </tr>\n",
       "    <tr>\n",
       "      <th>3</th>\n",
       "      <td>ACN</td>\n",
       "      <td>Accenture plc, incorporated on June 10, 2009, ...</td>\n",
       "      <td>IT Services</td>\n",
       "    </tr>\n",
       "    <tr>\n",
       "      <th>4</th>\n",
       "      <td>AES</td>\n",
       "      <td>The AES Corporation, incorporated on January 2...</td>\n",
       "      <td>Independent Power and Renewable Electricity Pr...</td>\n",
       "    </tr>\n",
       "  </tbody>\n",
       "</table>\n",
       "</div>"
      ],
      "text/plain": [
       "  Ticker                                        Description  \\\n",
       "0    MMM  3M Co, incorporated on June 25, 1929, is a tec...   \n",
       "1    ABT  Abbott Laboratories, incorporated on March 6, ...   \n",
       "2    AAP  Advance Auto Parts, Inc., incorporated on Augu...   \n",
       "3    ACN  Accenture plc, incorporated on June 10, 2009, ...   \n",
       "4    AES  The AES Corporation, incorporated on January 2...   \n",
       "\n",
       "                                                GICS  \n",
       "0                           Industrial Conglomerates  \n",
       "1                   Health Care Equipment & Supplies  \n",
       "2                                   Specialty Retail  \n",
       "3                                        IT Services  \n",
       "4  Independent Power and Renewable Electricity Pr...  "
      ]
     },
     "execution_count": 55,
     "metadata": {},
     "output_type": "execute_result"
    }
   ],
   "source": [
    "snp_desc_ri_df.head()"
   ]
  },
  {
   "cell_type": "code",
   "execution_count": 56,
   "metadata": {
    "scrolled": true
   },
   "outputs": [
    {
     "data": {
      "text/plain": [
       "(486, 3)"
      ]
     },
     "execution_count": 56,
     "metadata": {},
     "output_type": "execute_result"
    }
   ],
   "source": [
    "snp_desc_ri_df.shape"
   ]
  },
  {
   "cell_type": "code",
   "execution_count": 57,
   "metadata": {
    "scrolled": true
   },
   "outputs": [
    {
     "name": "stdout",
     "output_type": "stream",
     "text": [
      "62\n"
     ]
    }
   ],
   "source": [
    "print(len(set(snp_desc_ri_df.GICS)))"
   ]
  },
  {
   "cell_type": "code",
   "execution_count": 58,
   "metadata": {
    "scrolled": true
   },
   "outputs": [
    {
     "name": "stdout",
     "output_type": "stream",
     "text": [
      "MEAN: 4932\n",
      "MEDIAN: 4196\n",
      "MIN: 393\n",
      "MAX: 15920\n"
     ]
    }
   ],
   "source": [
    "description_length_stats(snp_desc_ri_df)\n",
    "# longest_and_shortest_description(snp_desc_ri_df)"
   ]
  },
  {
   "cell_type": "markdown",
   "metadata": {},
   "source": [
    "###### SnP Descriptions (from Bloomberg)\n",
    "\n",
    "- we use russell data, but we will filter this to snp tickers in the next step"
   ]
  },
  {
   "cell_type": "code",
   "execution_count": 59,
   "metadata": {},
   "outputs": [],
   "source": [
    "snp_desc_bloomberg_df = pd.read_csv('data_in/russell_desc_bloomberg.csv', names=['Ticker', 'Company', 'Description'])\n",
    "snp_desc_bloomberg_df = snp_desc_bloomberg_df[['Ticker', 'Description']]\n",
    "snp_desc_bloomberg_df = pd.merge(snp_desc_bloomberg_df, ticker_to_gics_df, on='Ticker')"
   ]
  },
  {
   "cell_type": "code",
   "execution_count": 60,
   "metadata": {},
   "outputs": [
    {
     "data": {
      "text/html": [
       "<div>\n",
       "<style scoped>\n",
       "    .dataframe tbody tr th:only-of-type {\n",
       "        vertical-align: middle;\n",
       "    }\n",
       "\n",
       "    .dataframe tbody tr th {\n",
       "        vertical-align: top;\n",
       "    }\n",
       "\n",
       "    .dataframe thead th {\n",
       "        text-align: right;\n",
       "    }\n",
       "</style>\n",
       "<table border=\"1\" class=\"dataframe\">\n",
       "  <thead>\n",
       "    <tr style=\"text-align: right;\">\n",
       "      <th></th>\n",
       "      <th>Ticker</th>\n",
       "      <th>Description</th>\n",
       "      <th>GICS</th>\n",
       "    </tr>\n",
       "  </thead>\n",
       "  <tbody>\n",
       "    <tr>\n",
       "      <th>0</th>\n",
       "      <td>A</td>\n",
       "      <td>Agilent Technologies, Inc. provides core bio-a...</td>\n",
       "      <td>Life Sciences Tools &amp; Services</td>\n",
       "    </tr>\n",
       "    <tr>\n",
       "      <th>1</th>\n",
       "      <td>AA</td>\n",
       "      <td>Alcoa Corporation manufactures metal products....</td>\n",
       "      <td>Metals &amp; Mining</td>\n",
       "    </tr>\n",
       "    <tr>\n",
       "      <th>2</th>\n",
       "      <td>AAL</td>\n",
       "      <td>American Airlines Group Inc. operates an airli...</td>\n",
       "      <td>Airlines</td>\n",
       "    </tr>\n",
       "    <tr>\n",
       "      <th>3</th>\n",
       "      <td>AAN</td>\n",
       "      <td>Aaron's, Inc. rents and sells office and resid...</td>\n",
       "      <td>Specialty Retail</td>\n",
       "    </tr>\n",
       "    <tr>\n",
       "      <th>4</th>\n",
       "      <td>AAOI</td>\n",
       "      <td>Applied Optoelectronics, Inc. manufactures and...</td>\n",
       "      <td>Communications Equipment</td>\n",
       "    </tr>\n",
       "  </tbody>\n",
       "</table>\n",
       "</div>"
      ],
      "text/plain": [
       "  Ticker                                        Description  \\\n",
       "0      A  Agilent Technologies, Inc. provides core bio-a...   \n",
       "1     AA  Alcoa Corporation manufactures metal products....   \n",
       "2    AAL  American Airlines Group Inc. operates an airli...   \n",
       "3    AAN  Aaron's, Inc. rents and sells office and resid...   \n",
       "4   AAOI  Applied Optoelectronics, Inc. manufactures and...   \n",
       "\n",
       "                             GICS  \n",
       "0  Life Sciences Tools & Services  \n",
       "1                 Metals & Mining  \n",
       "2                        Airlines  \n",
       "3                Specialty Retail  \n",
       "4        Communications Equipment  "
      ]
     },
     "execution_count": 60,
     "metadata": {},
     "output_type": "execute_result"
    }
   ],
   "source": [
    "snp_desc_bloomberg_df.head()"
   ]
  },
  {
   "cell_type": "code",
   "execution_count": 61,
   "metadata": {},
   "outputs": [
    {
     "data": {
      "text/plain": [
       "(2757, 3)"
      ]
     },
     "execution_count": 61,
     "metadata": {},
     "output_type": "execute_result"
    }
   ],
   "source": [
    "snp_desc_bloomberg_df.shape"
   ]
  },
  {
   "cell_type": "code",
   "execution_count": 62,
   "metadata": {
    "scrolled": true
   },
   "outputs": [
    {
     "name": "stdout",
     "output_type": "stream",
     "text": [
      "69\n"
     ]
    }
   ],
   "source": [
    "print(len(set(snp_desc_bloomberg_df.GICS)))"
   ]
  },
  {
   "cell_type": "code",
   "execution_count": 63,
   "metadata": {
    "scrolled": true
   },
   "outputs": [
    {
     "name": "stdout",
     "output_type": "stream",
     "text": [
      "MEAN: 280\n",
      "MEDIAN: 281\n",
      "MIN: 41\n",
      "MAX: 395\n",
      "LONGEST DESCRIPTION:\n",
      "Cornerstone OnDemand, Inc. develops and markets on demand employee development computer software. The Company offers software includes learning development, enterprise social networking, performance management, and succession planning. Cornerstone markets to multi-national corporations, large domestic enterprises, midmarket companies, state and local public sector organizations, and colleges.\n",
      "SHORTEST DESCRIPTION:\n",
      "Cimpress PLC serves customers in Ireland.\n"
     ]
    }
   ],
   "source": [
    "description_length_stats(snp_desc_bloomberg_df)\n",
    "longest_and_shortest_description(snp_desc_bloomberg_df)"
   ]
  },
  {
   "cell_type": "markdown",
   "metadata": {},
   "source": [
    "### Russell Data"
   ]
  },
  {
   "cell_type": "markdown",
   "metadata": {},
   "source": [
    "##### Russell Descriptions (from 10K)"
   ]
  },
  {
   "cell_type": "code",
   "execution_count": 64,
   "metadata": {},
   "outputs": [],
   "source": [
    "russell_desc_10K_df = pd.read_pickle('data_out/russell_desc_10K.pkl')"
   ]
  },
  {
   "cell_type": "code",
   "execution_count": 65,
   "metadata": {},
   "outputs": [],
   "source": [
    "russell_desc_10K_df = pd.merge(russell_desc_10K_df, ticker_to_gics_df, on='Ticker')\n",
    "russell_desc_10K_df = russell_desc_10K_df[['Ticker', 'Description', 'GICS']]"
   ]
  },
  {
   "cell_type": "code",
   "execution_count": 66,
   "metadata": {},
   "outputs": [
    {
     "data": {
      "text/html": [
       "<div>\n",
       "<style scoped>\n",
       "    .dataframe tbody tr th:only-of-type {\n",
       "        vertical-align: middle;\n",
       "    }\n",
       "\n",
       "    .dataframe tbody tr th {\n",
       "        vertical-align: top;\n",
       "    }\n",
       "\n",
       "    .dataframe thead th {\n",
       "        text-align: right;\n",
       "    }\n",
       "</style>\n",
       "<table border=\"1\" class=\"dataframe\">\n",
       "  <thead>\n",
       "    <tr style=\"text-align: right;\">\n",
       "      <th></th>\n",
       "      <th>Ticker</th>\n",
       "      <th>Description</th>\n",
       "      <th>GICS</th>\n",
       "    </tr>\n",
       "  </thead>\n",
       "  <tbody>\n",
       "    <tr>\n",
       "      <th>0</th>\n",
       "      <td>A</td>\n",
       "      <td>PART I  Item 1. Business   Overview  Agilent T...</td>\n",
       "      <td>Life Sciences Tools &amp; Services</td>\n",
       "    </tr>\n",
       "    <tr>\n",
       "      <th>1</th>\n",
       "      <td>AA</td>\n",
       "      <td>PART I   Item 1. Business.   (dollars in milli...</td>\n",
       "      <td>Metals &amp; Mining</td>\n",
       "    </tr>\n",
       "    <tr>\n",
       "      <th>2</th>\n",
       "      <td>AAL</td>\n",
       "      <td>PART I   ITEM 1. BUSINESS  Overview  American ...</td>\n",
       "      <td>Airlines</td>\n",
       "    </tr>\n",
       "    <tr>\n",
       "      <th>3</th>\n",
       "      <td>AAN</td>\n",
       "      <td>PART I  ITEM 1. BUSINESS  Unless otherwise ind...</td>\n",
       "      <td>Specialty Retail</td>\n",
       "    </tr>\n",
       "    <tr>\n",
       "      <th>4</th>\n",
       "      <td>AAOI</td>\n",
       "      <td>PART I    Item 1. Business   BUSINESS    Overv...</td>\n",
       "      <td>Communications Equipment</td>\n",
       "    </tr>\n",
       "  </tbody>\n",
       "</table>\n",
       "</div>"
      ],
      "text/plain": [
       "  Ticker                                        Description  \\\n",
       "0      A  PART I  Item 1. Business   Overview  Agilent T...   \n",
       "1     AA  PART I   Item 1. Business.   (dollars in milli...   \n",
       "2    AAL  PART I   ITEM 1. BUSINESS  Overview  American ...   \n",
       "3    AAN  PART I  ITEM 1. BUSINESS  Unless otherwise ind...   \n",
       "4   AAOI  PART I    Item 1. Business   BUSINESS    Overv...   \n",
       "\n",
       "                             GICS  \n",
       "0  Life Sciences Tools & Services  \n",
       "1                 Metals & Mining  \n",
       "2                        Airlines  \n",
       "3                Specialty Retail  \n",
       "4        Communications Equipment  "
      ]
     },
     "execution_count": 66,
     "metadata": {},
     "output_type": "execute_result"
    }
   ],
   "source": [
    "russell_desc_10K_df.head()"
   ]
  },
  {
   "cell_type": "code",
   "execution_count": 67,
   "metadata": {
    "scrolled": true
   },
   "outputs": [
    {
     "data": {
      "text/plain": [
       "(2807, 3)"
      ]
     },
     "execution_count": 67,
     "metadata": {},
     "output_type": "execute_result"
    }
   ],
   "source": [
    "russell_desc_10K_df.shape"
   ]
  },
  {
   "cell_type": "code",
   "execution_count": 68,
   "metadata": {},
   "outputs": [
    {
     "name": "stdout",
     "output_type": "stream",
     "text": [
      "69\n"
     ]
    }
   ],
   "source": [
    "print(len(set(russell_desc_10K_df.GICS)))"
   ]
  },
  {
   "cell_type": "markdown",
   "metadata": {},
   "source": [
    "##### Russell Descriptions (from yahoo)"
   ]
  },
  {
   "cell_type": "code",
   "execution_count": 69,
   "metadata": {},
   "outputs": [],
   "source": [
    "russell_desc_yahoo_df = pd.read_csv('scrapy_spiders/data_out/russell_desc_yahoo.csv').dropna().reset_index(drop=True)\n",
    "russell_desc_yahoo_df = pd.merge(russell_desc_yahoo_df, ticker_to_gics_df, on='Ticker')\n",
    "\n",
    "russell_desc_yahoo_df.Industry = pd.Categorical(russell_desc_yahoo_df.Industry)\n",
    "russell_desc_yahoo_df.Sector = pd.Categorical(russell_desc_yahoo_df.Sector)"
   ]
  },
  {
   "cell_type": "code",
   "execution_count": 70,
   "metadata": {
    "scrolled": false
   },
   "outputs": [
    {
     "data": {
      "text/html": [
       "<div>\n",
       "<style scoped>\n",
       "    .dataframe tbody tr th:only-of-type {\n",
       "        vertical-align: middle;\n",
       "    }\n",
       "\n",
       "    .dataframe tbody tr th {\n",
       "        vertical-align: top;\n",
       "    }\n",
       "\n",
       "    .dataframe thead th {\n",
       "        text-align: right;\n",
       "    }\n",
       "</style>\n",
       "<table border=\"1\" class=\"dataframe\">\n",
       "  <thead>\n",
       "    <tr style=\"text-align: right;\">\n",
       "      <th></th>\n",
       "      <th>Ticker</th>\n",
       "      <th>Description</th>\n",
       "      <th>Sector</th>\n",
       "      <th>Industry</th>\n",
       "      <th>GICS</th>\n",
       "    </tr>\n",
       "  </thead>\n",
       "  <tbody>\n",
       "    <tr>\n",
       "      <th>0</th>\n",
       "      <td>AAOI</td>\n",
       "      <td>Applied Optoelectronics, Inc. designs, manufac...</td>\n",
       "      <td>Technology</td>\n",
       "      <td>Semiconductors</td>\n",
       "      <td>Communications Equipment</td>\n",
       "    </tr>\n",
       "    <tr>\n",
       "      <th>1</th>\n",
       "      <td>A</td>\n",
       "      <td>Agilent Technologies, Inc. provides applicatio...</td>\n",
       "      <td>Healthcare</td>\n",
       "      <td>Diagnostics &amp; Research</td>\n",
       "      <td>Life Sciences Tools &amp; Services</td>\n",
       "    </tr>\n",
       "    <tr>\n",
       "      <th>2</th>\n",
       "      <td>AAL</td>\n",
       "      <td>American Airlines Group Inc., through its subs...</td>\n",
       "      <td>Industrials</td>\n",
       "      <td>Airlines</td>\n",
       "      <td>Airlines</td>\n",
       "    </tr>\n",
       "    <tr>\n",
       "      <th>3</th>\n",
       "      <td>AAON</td>\n",
       "      <td>AAON, Inc., together with its subsidiaries, en...</td>\n",
       "      <td>Industrials</td>\n",
       "      <td>Building Products &amp; Equipment</td>\n",
       "      <td>Building Products</td>\n",
       "    </tr>\n",
       "    <tr>\n",
       "      <th>4</th>\n",
       "      <td>AA</td>\n",
       "      <td>Alcoa Corporation, together with its subsidiar...</td>\n",
       "      <td>Basic Materials</td>\n",
       "      <td>Aluminum</td>\n",
       "      <td>Metals &amp; Mining</td>\n",
       "    </tr>\n",
       "  </tbody>\n",
       "</table>\n",
       "</div>"
      ],
      "text/plain": [
       "  Ticker                                        Description           Sector  \\\n",
       "0   AAOI  Applied Optoelectronics, Inc. designs, manufac...       Technology   \n",
       "1      A  Agilent Technologies, Inc. provides applicatio...       Healthcare   \n",
       "2    AAL  American Airlines Group Inc., through its subs...      Industrials   \n",
       "3   AAON  AAON, Inc., together with its subsidiaries, en...      Industrials   \n",
       "4     AA  Alcoa Corporation, together with its subsidiar...  Basic Materials   \n",
       "\n",
       "                        Industry                            GICS  \n",
       "0                 Semiconductors        Communications Equipment  \n",
       "1         Diagnostics & Research  Life Sciences Tools & Services  \n",
       "2                       Airlines                        Airlines  \n",
       "3  Building Products & Equipment               Building Products  \n",
       "4                       Aluminum                 Metals & Mining  "
      ]
     },
     "execution_count": 70,
     "metadata": {},
     "output_type": "execute_result"
    }
   ],
   "source": [
    "russell_desc_yahoo_df.head()"
   ]
  },
  {
   "cell_type": "code",
   "execution_count": 71,
   "metadata": {},
   "outputs": [
    {
     "data": {
      "text/plain": [
       "(2357, 5)"
      ]
     },
     "execution_count": 71,
     "metadata": {},
     "output_type": "execute_result"
    }
   ],
   "source": [
    "russell_desc_yahoo_df.shape"
   ]
  },
  {
   "cell_type": "code",
   "execution_count": 72,
   "metadata": {},
   "outputs": [
    {
     "name": "stdout",
     "output_type": "stream",
     "text": [
      "69\n",
      "11\n",
      "142\n"
     ]
    }
   ],
   "source": [
    "print(len(set(russell_desc_yahoo_df.GICS)))\n",
    "print(len(set(russell_desc_yahoo_df.Sector)))\n",
    "print(len(set(russell_desc_yahoo_df.Industry)))"
   ]
  },
  {
   "cell_type": "markdown",
   "metadata": {},
   "source": [
    "##### Russell Descriptions (from Wiki)"
   ]
  },
  {
   "cell_type": "code",
   "execution_count": 73,
   "metadata": {},
   "outputs": [],
   "source": [
    "russell_desc_wiki_df = pd.read_csv('data_out/russell_desc_wiki_df.csv').dropna().reset_index(drop=True)"
   ]
  },
  {
   "cell_type": "code",
   "execution_count": 74,
   "metadata": {},
   "outputs": [],
   "source": [
    "russell_desc_wiki_df = pd.merge(russell_desc_wiki_df, ticker_to_gics_df, on='Ticker')\n",
    "russell_desc_wiki_df = russell_desc_wiki_df[['Ticker', 'Description', 'GICS']]"
   ]
  },
  {
   "cell_type": "code",
   "execution_count": 75,
   "metadata": {
    "scrolled": false
   },
   "outputs": [
    {
     "data": {
      "text/html": [
       "<div>\n",
       "<style scoped>\n",
       "    .dataframe tbody tr th:only-of-type {\n",
       "        vertical-align: middle;\n",
       "    }\n",
       "\n",
       "    .dataframe tbody tr th {\n",
       "        vertical-align: top;\n",
       "    }\n",
       "\n",
       "    .dataframe thead th {\n",
       "        text-align: right;\n",
       "    }\n",
       "</style>\n",
       "<table border=\"1\" class=\"dataframe\">\n",
       "  <thead>\n",
       "    <tr style=\"text-align: right;\">\n",
       "      <th></th>\n",
       "      <th>Ticker</th>\n",
       "      <th>Description</th>\n",
       "      <th>GICS</th>\n",
       "    </tr>\n",
       "  </thead>\n",
       "  <tbody>\n",
       "    <tr>\n",
       "      <th>0</th>\n",
       "      <td>A</td>\n",
       "      <td>Agilent Technologies, Inc. is a global analyti...</td>\n",
       "      <td>Life Sciences Tools &amp; Services</td>\n",
       "    </tr>\n",
       "    <tr>\n",
       "      <th>1</th>\n",
       "      <td>AA</td>\n",
       "      <td>Alcoa Corporation (a portmanteau of Aluminum C...</td>\n",
       "      <td>Metals &amp; Mining</td>\n",
       "    </tr>\n",
       "    <tr>\n",
       "      <th>2</th>\n",
       "      <td>AAL</td>\n",
       "      <td>American Airlines Group Inc. is an American pu...</td>\n",
       "      <td>Airlines</td>\n",
       "    </tr>\n",
       "    <tr>\n",
       "      <th>3</th>\n",
       "      <td>AAN</td>\n",
       "      <td>Aaron's, Inc. is a lease-to-own retailer. The ...</td>\n",
       "      <td>Specialty Retail</td>\n",
       "    </tr>\n",
       "    <tr>\n",
       "      <th>4</th>\n",
       "      <td>AAON</td>\n",
       "      <td>AAON Inc. (NASDAQ: AAON) designs, manufactures...</td>\n",
       "      <td>Building Products</td>\n",
       "    </tr>\n",
       "    <tr>\n",
       "      <th>...</th>\n",
       "      <td>...</td>\n",
       "      <td>...</td>\n",
       "      <td>...</td>\n",
       "    </tr>\n",
       "    <tr>\n",
       "      <th>1951</th>\n",
       "      <td>ZIOP</td>\n",
       "      <td>Randal J. Kirk (born March 1, 1954) is an Amer...</td>\n",
       "      <td>Biotechnology</td>\n",
       "    </tr>\n",
       "    <tr>\n",
       "      <th>1952</th>\n",
       "      <td>ZIXI</td>\n",
       "      <td>Zix Corporation (ZixCorp) (NASDAQ: ZIXI) is a ...</td>\n",
       "      <td>Software</td>\n",
       "    </tr>\n",
       "    <tr>\n",
       "      <th>1953</th>\n",
       "      <td>ZNGA</td>\n",
       "      <td>Zynga Inc.  is an American social game develop...</td>\n",
       "      <td>Entertainment</td>\n",
       "    </tr>\n",
       "    <tr>\n",
       "      <th>1954</th>\n",
       "      <td>ZTS</td>\n",
       "      <td>Zoetis Inc. (/zō-EH-tis/) is the world's large...</td>\n",
       "      <td>Pharmaceuticals</td>\n",
       "    </tr>\n",
       "    <tr>\n",
       "      <th>1955</th>\n",
       "      <td>ZUMZ</td>\n",
       "      <td>Zumiez Inc. () is an American multinational sp...</td>\n",
       "      <td>Specialty Retail</td>\n",
       "    </tr>\n",
       "  </tbody>\n",
       "</table>\n",
       "<p>1956 rows × 3 columns</p>\n",
       "</div>"
      ],
      "text/plain": [
       "     Ticker                                        Description  \\\n",
       "0         A  Agilent Technologies, Inc. is a global analyti...   \n",
       "1        AA  Alcoa Corporation (a portmanteau of Aluminum C...   \n",
       "2       AAL  American Airlines Group Inc. is an American pu...   \n",
       "3       AAN  Aaron's, Inc. is a lease-to-own retailer. The ...   \n",
       "4      AAON  AAON Inc. (NASDAQ: AAON) designs, manufactures...   \n",
       "...     ...                                                ...   \n",
       "1951   ZIOP  Randal J. Kirk (born March 1, 1954) is an Amer...   \n",
       "1952   ZIXI  Zix Corporation (ZixCorp) (NASDAQ: ZIXI) is a ...   \n",
       "1953   ZNGA  Zynga Inc.  is an American social game develop...   \n",
       "1954    ZTS  Zoetis Inc. (/zō-EH-tis/) is the world's large...   \n",
       "1955   ZUMZ  Zumiez Inc. () is an American multinational sp...   \n",
       "\n",
       "                                GICS  \n",
       "0     Life Sciences Tools & Services  \n",
       "1                    Metals & Mining  \n",
       "2                           Airlines  \n",
       "3                   Specialty Retail  \n",
       "4                  Building Products  \n",
       "...                              ...  \n",
       "1951                   Biotechnology  \n",
       "1952                        Software  \n",
       "1953                   Entertainment  \n",
       "1954                 Pharmaceuticals  \n",
       "1955                Specialty Retail  \n",
       "\n",
       "[1956 rows x 3 columns]"
      ]
     },
     "execution_count": 75,
     "metadata": {},
     "output_type": "execute_result"
    }
   ],
   "source": [
    "russell_desc_wiki_df"
   ]
  },
  {
   "cell_type": "code",
   "execution_count": 76,
   "metadata": {},
   "outputs": [
    {
     "name": "stdout",
     "output_type": "stream",
     "text": [
      "69\n"
     ]
    }
   ],
   "source": [
    "print(len(set(russell_desc_wiki_df.GICS)))"
   ]
  },
  {
   "cell_type": "code",
   "execution_count": 77,
   "metadata": {},
   "outputs": [
    {
     "data": {
      "text/plain": [
       "'PNC Financial Services Group, Inc. (stylized as PNC) is an American bank holding company and financial services corporation based in Pittsburgh, Pennsylvania. Its banking subsidiary, PNC Bank, operates in 21 states and the District of Columbia with 2,459 branches and 9,051 ATMs. The company also provides financial services such as asset management, wealth management, estate planning, loan servicing, and information processing.PNC is ranked 7th on the list of largest banks in the United States by assets. It is the 5th largest bank by number of branches, 6th largest by deposits, and 4th largest in number of ATMs.The name \"PNC\" is derived from the initials of both of the bank\\'s two predecessor companies: Pittsburgh National Corporation and Provident National Corporation, which merged in 1983.\\n\\n'"
      ]
     },
     "execution_count": 77,
     "metadata": {},
     "output_type": "execute_result"
    }
   ],
   "source": [
    "russell_desc_wiki_df.Description.iloc[100]"
   ]
  },
  {
   "cell_type": "markdown",
   "metadata": {},
   "source": [
    "##### Russell Descriptions (from business insider)"
   ]
  },
  {
   "cell_type": "code",
   "execution_count": 78,
   "metadata": {},
   "outputs": [],
   "source": [
    "russell_desc_bi_df = pd.read_csv('scrapy_spiders/data_out/russell_desc_business_insider.csv').dropna().reset_index(drop=True)\n",
    "russell_desc_bi_df = pd.merge(russell_desc_bi_df, ticker_to_gics_df, on='Ticker')"
   ]
  },
  {
   "cell_type": "code",
   "execution_count": 79,
   "metadata": {
    "scrolled": true
   },
   "outputs": [
    {
     "data": {
      "text/html": [
       "<div>\n",
       "<style scoped>\n",
       "    .dataframe tbody tr th:only-of-type {\n",
       "        vertical-align: middle;\n",
       "    }\n",
       "\n",
       "    .dataframe tbody tr th {\n",
       "        vertical-align: top;\n",
       "    }\n",
       "\n",
       "    .dataframe thead th {\n",
       "        text-align: right;\n",
       "    }\n",
       "</style>\n",
       "<table border=\"1\" class=\"dataframe\">\n",
       "  <thead>\n",
       "    <tr style=\"text-align: right;\">\n",
       "      <th></th>\n",
       "      <th>Ticker</th>\n",
       "      <th>Description</th>\n",
       "      <th>GICS</th>\n",
       "    </tr>\n",
       "  </thead>\n",
       "  <tbody>\n",
       "    <tr>\n",
       "      <th>0</th>\n",
       "      <td>AAP</td>\n",
       "      <td>Advance Auto Parts, Inc. engages in the supply...</td>\n",
       "      <td>Specialty Retail</td>\n",
       "    </tr>\n",
       "    <tr>\n",
       "      <th>1</th>\n",
       "      <td>AAOI</td>\n",
       "      <td>Applied Optoelectronics, Inc. engages in the d...</td>\n",
       "      <td>Communications Equipment</td>\n",
       "    </tr>\n",
       "    <tr>\n",
       "      <th>2</th>\n",
       "      <td>AAWW</td>\n",
       "      <td>Atlas Air Worldwide Holdings, Inc. engages in ...</td>\n",
       "      <td>Air Freight &amp; Logistics</td>\n",
       "    </tr>\n",
       "    <tr>\n",
       "      <th>3</th>\n",
       "      <td>AAT</td>\n",
       "      <td>American Assets Trust, Inc. is a real estate i...</td>\n",
       "      <td>Equity Real Estate Investment Trusts (REITs)</td>\n",
       "    </tr>\n",
       "    <tr>\n",
       "      <th>4</th>\n",
       "      <td>AAPL</td>\n",
       "      <td>Apple, Inc. engages in the design, manufacture...</td>\n",
       "      <td>Technology Hardware, Storage &amp; Peripherals</td>\n",
       "    </tr>\n",
       "  </tbody>\n",
       "</table>\n",
       "</div>"
      ],
      "text/plain": [
       "  Ticker                                        Description  \\\n",
       "0    AAP  Advance Auto Parts, Inc. engages in the supply...   \n",
       "1   AAOI  Applied Optoelectronics, Inc. engages in the d...   \n",
       "2   AAWW  Atlas Air Worldwide Holdings, Inc. engages in ...   \n",
       "3    AAT  American Assets Trust, Inc. is a real estate i...   \n",
       "4   AAPL  Apple, Inc. engages in the design, manufacture...   \n",
       "\n",
       "                                           GICS  \n",
       "0                              Specialty Retail  \n",
       "1                      Communications Equipment  \n",
       "2                       Air Freight & Logistics  \n",
       "3  Equity Real Estate Investment Trusts (REITs)  \n",
       "4    Technology Hardware, Storage & Peripherals  "
      ]
     },
     "execution_count": 79,
     "metadata": {},
     "output_type": "execute_result"
    }
   ],
   "source": [
    "russell_desc_bi_df.head()"
   ]
  },
  {
   "cell_type": "code",
   "execution_count": 80,
   "metadata": {
    "scrolled": true
   },
   "outputs": [
    {
     "data": {
      "text/plain": [
       "(2364, 3)"
      ]
     },
     "execution_count": 80,
     "metadata": {},
     "output_type": "execute_result"
    }
   ],
   "source": [
    "russell_desc_bi_df.shape"
   ]
  },
  {
   "cell_type": "code",
   "execution_count": 81,
   "metadata": {
    "scrolled": true
   },
   "outputs": [
    {
     "name": "stdout",
     "output_type": "stream",
     "text": [
      "69\n"
     ]
    }
   ],
   "source": [
    "print(len(set(russell_desc_bi_df.GICS)))"
   ]
  },
  {
   "cell_type": "code",
   "execution_count": 82,
   "metadata": {
    "scrolled": true
   },
   "outputs": [
    {
     "name": "stdout",
     "output_type": "stream",
     "text": [
      "MEAN: 628\n",
      "MEDIAN: 573\n",
      "MIN: 120\n",
      "MAX: 2677\n"
     ]
    }
   ],
   "source": [
    "description_length_stats(russell_desc_bi_df)\n",
    "# longest_and_shortest_description(russell_desc_bi_df)"
   ]
  },
  {
   "cell_type": "markdown",
   "metadata": {},
   "source": [
    "##### Russell Descriptions (from morning star)"
   ]
  },
  {
   "cell_type": "code",
   "execution_count": 83,
   "metadata": {},
   "outputs": [],
   "source": [
    "russell_desc_ms_df = pd.read_csv('scrapy_spiders/data_out/russell_desc_morning_star.csv').dropna().reset_index(drop=True)\n",
    "russell_desc_ms_df = pd.merge(russell_desc_ms_df, ticker_to_gics_df, on='Ticker')"
   ]
  },
  {
   "cell_type": "code",
   "execution_count": 84,
   "metadata": {},
   "outputs": [
    {
     "data": {
      "text/html": [
       "<div>\n",
       "<style scoped>\n",
       "    .dataframe tbody tr th:only-of-type {\n",
       "        vertical-align: middle;\n",
       "    }\n",
       "\n",
       "    .dataframe tbody tr th {\n",
       "        vertical-align: top;\n",
       "    }\n",
       "\n",
       "    .dataframe thead th {\n",
       "        text-align: right;\n",
       "    }\n",
       "</style>\n",
       "<table border=\"1\" class=\"dataframe\">\n",
       "  <thead>\n",
       "    <tr style=\"text-align: right;\">\n",
       "      <th></th>\n",
       "      <th>Ticker</th>\n",
       "      <th>Description</th>\n",
       "      <th>GICS</th>\n",
       "    </tr>\n",
       "  </thead>\n",
       "  <tbody>\n",
       "    <tr>\n",
       "      <th>0</th>\n",
       "      <td>AAL</td>\n",
       "      <td>American Airlines is the world's largest airli...</td>\n",
       "      <td>Airlines</td>\n",
       "    </tr>\n",
       "    <tr>\n",
       "      <th>1</th>\n",
       "      <td>AAOI</td>\n",
       "      <td>Applied Optoelectronics Inc is a provider of f...</td>\n",
       "      <td>Communications Equipment</td>\n",
       "    </tr>\n",
       "    <tr>\n",
       "      <th>2</th>\n",
       "      <td>AAON</td>\n",
       "      <td>AAON is a manufacturer of air-conditioning and...</td>\n",
       "      <td>Building Products</td>\n",
       "    </tr>\n",
       "    <tr>\n",
       "      <th>3</th>\n",
       "      <td>AAPL</td>\n",
       "      <td>Apple designs a wide variety of consumer elect...</td>\n",
       "      <td>Technology Hardware, Storage &amp; Peripherals</td>\n",
       "    </tr>\n",
       "    <tr>\n",
       "      <th>4</th>\n",
       "      <td>AAWW</td>\n",
       "      <td>Atlas Air Worldwide Holdings Inc, together wit...</td>\n",
       "      <td>Air Freight &amp; Logistics</td>\n",
       "    </tr>\n",
       "  </tbody>\n",
       "</table>\n",
       "</div>"
      ],
      "text/plain": [
       "  Ticker                                        Description  \\\n",
       "0    AAL  American Airlines is the world's largest airli...   \n",
       "1   AAOI  Applied Optoelectronics Inc is a provider of f...   \n",
       "2   AAON  AAON is a manufacturer of air-conditioning and...   \n",
       "3   AAPL  Apple designs a wide variety of consumer elect...   \n",
       "4   AAWW  Atlas Air Worldwide Holdings Inc, together wit...   \n",
       "\n",
       "                                         GICS  \n",
       "0                                    Airlines  \n",
       "1                    Communications Equipment  \n",
       "2                           Building Products  \n",
       "3  Technology Hardware, Storage & Peripherals  \n",
       "4                     Air Freight & Logistics  "
      ]
     },
     "execution_count": 84,
     "metadata": {},
     "output_type": "execute_result"
    }
   ],
   "source": [
    "russell_desc_ms_df.head()"
   ]
  },
  {
   "cell_type": "code",
   "execution_count": 85,
   "metadata": {
    "scrolled": true
   },
   "outputs": [
    {
     "data": {
      "text/plain": [
       "(2330, 3)"
      ]
     },
     "execution_count": 85,
     "metadata": {},
     "output_type": "execute_result"
    }
   ],
   "source": [
    "russell_desc_ms_df.shape"
   ]
  },
  {
   "cell_type": "code",
   "execution_count": 86,
   "metadata": {
    "scrolled": true
   },
   "outputs": [
    {
     "name": "stdout",
     "output_type": "stream",
     "text": [
      "69\n"
     ]
    }
   ],
   "source": [
    "print(len(set(russell_desc_ms_df.GICS)))"
   ]
  },
  {
   "cell_type": "code",
   "execution_count": 87,
   "metadata": {
    "scrolled": true
   },
   "outputs": [
    {
     "name": "stdout",
     "output_type": "stream",
     "text": [
      "MEAN: 574\n",
      "MEDIAN: 582\n",
      "MIN: 132\n",
      "MAX: 800\n",
      "LONGEST DESCRIPTION:\n",
      "Cisco Systems, Inc. is the world's largest hardware and software supplier within the networking solutions sector. The infrastructure platforms group includes hardware and software products for switching, routing, data center, and wireless applications. Its applications portfolio contains collaboration, analytics, and Internet of Things products. The security segment contains Cisco's firewall and software-defined security products. Services are Cisco's technical support and advanced services offerings. The company’s wide array of hardware is complemented with solutions for software-defined networking, analytics, and intent-based networking. In collaboration with Cisco's initiative on growing software and services, its revenue model is focused on increasing subscriptions and recurring sales.\n",
      "SHORTEST DESCRIPTION:\n",
      "Berkshire Hills Bancorp Inc is a holding company. It offers deposit, lending, investment, wealth management, and insurance services.\n"
     ]
    }
   ],
   "source": [
    "description_length_stats(russell_desc_ms_df)\n",
    "longest_and_shortest_description(russell_desc_ms_df)"
   ]
  },
  {
   "cell_type": "markdown",
   "metadata": {},
   "source": [
    "##### Russell Descriptions (from reuters)"
   ]
  },
  {
   "cell_type": "code",
   "execution_count": 88,
   "metadata": {},
   "outputs": [],
   "source": [
    "russell_desc_reuters_df = pd.read_csv('scrapy_spiders/data_out/russell_desc_reuters.csv').dropna().reset_index(drop=True)\n",
    "russell_desc_reuters_df = pd.merge(russell_desc_reuters_df, ticker_to_gics_df, on='Ticker')"
   ]
  },
  {
   "cell_type": "code",
   "execution_count": 89,
   "metadata": {},
   "outputs": [
    {
     "data": {
      "text/html": [
       "<div>\n",
       "<style scoped>\n",
       "    .dataframe tbody tr th:only-of-type {\n",
       "        vertical-align: middle;\n",
       "    }\n",
       "\n",
       "    .dataframe tbody tr th {\n",
       "        vertical-align: top;\n",
       "    }\n",
       "\n",
       "    .dataframe thead th {\n",
       "        text-align: right;\n",
       "    }\n",
       "</style>\n",
       "<table border=\"1\" class=\"dataframe\">\n",
       "  <thead>\n",
       "    <tr style=\"text-align: right;\">\n",
       "      <th></th>\n",
       "      <th>Ticker</th>\n",
       "      <th>Description</th>\n",
       "      <th>GICS</th>\n",
       "    </tr>\n",
       "  </thead>\n",
       "  <tbody>\n",
       "    <tr>\n",
       "      <th>0</th>\n",
       "      <td>AA</td>\n",
       "      <td>Alcoa Corporation (Alcoa) is engaged in the pr...</td>\n",
       "      <td>Metals &amp; Mining</td>\n",
       "    </tr>\n",
       "    <tr>\n",
       "      <th>1</th>\n",
       "      <td>AAP</td>\n",
       "      <td>Advance Auto Parts, Inc. provides automotive a...</td>\n",
       "      <td>Specialty Retail</td>\n",
       "    </tr>\n",
       "    <tr>\n",
       "      <th>2</th>\n",
       "      <td>A</td>\n",
       "      <td>Agilent Technologies, Inc. provides applicatio...</td>\n",
       "      <td>Life Sciences Tools &amp; Services</td>\n",
       "    </tr>\n",
       "    <tr>\n",
       "      <th>3</th>\n",
       "      <td>AAN</td>\n",
       "      <td>Aaron's, Inc. (Aaron's) is an omnichannel prov...</td>\n",
       "      <td>Specialty Retail</td>\n",
       "    </tr>\n",
       "    <tr>\n",
       "      <th>4</th>\n",
       "      <td>AAT</td>\n",
       "      <td>American Assets Trust, Inc. is a full service,...</td>\n",
       "      <td>Equity Real Estate Investment Trusts (REITs)</td>\n",
       "    </tr>\n",
       "  </tbody>\n",
       "</table>\n",
       "</div>"
      ],
      "text/plain": [
       "  Ticker                                        Description  \\\n",
       "0     AA  Alcoa Corporation (Alcoa) is engaged in the pr...   \n",
       "1    AAP  Advance Auto Parts, Inc. provides automotive a...   \n",
       "2      A  Agilent Technologies, Inc. provides applicatio...   \n",
       "3    AAN  Aaron's, Inc. (Aaron's) is an omnichannel prov...   \n",
       "4    AAT  American Assets Trust, Inc. is a full service,...   \n",
       "\n",
       "                                           GICS  \n",
       "0                               Metals & Mining  \n",
       "1                              Specialty Retail  \n",
       "2                Life Sciences Tools & Services  \n",
       "3                              Specialty Retail  \n",
       "4  Equity Real Estate Investment Trusts (REITs)  "
      ]
     },
     "execution_count": 89,
     "metadata": {},
     "output_type": "execute_result"
    }
   ],
   "source": [
    "russell_desc_reuters_df.head()"
   ]
  },
  {
   "cell_type": "code",
   "execution_count": 90,
   "metadata": {
    "scrolled": true
   },
   "outputs": [
    {
     "data": {
      "text/plain": [
       "(2349, 3)"
      ]
     },
     "execution_count": 90,
     "metadata": {},
     "output_type": "execute_result"
    }
   ],
   "source": [
    "russell_desc_reuters_df.shape"
   ]
  },
  {
   "cell_type": "code",
   "execution_count": 91,
   "metadata": {
    "scrolled": true
   },
   "outputs": [
    {
     "name": "stdout",
     "output_type": "stream",
     "text": [
      "69\n"
     ]
    }
   ],
   "source": [
    "print(len(set(russell_desc_reuters_df.GICS)))"
   ]
  },
  {
   "cell_type": "code",
   "execution_count": 92,
   "metadata": {
    "scrolled": true
   },
   "outputs": [
    {
     "name": "stdout",
     "output_type": "stream",
     "text": [
      "MEAN: 933\n",
      "MEDIAN: 967\n",
      "MIN: 321\n",
      "MAX: 1000\n",
      "LONGEST DESCRIPTION:\n",
      "AvalonBay Communities, Inc. is a real estate investment trust (REIT). The Company is focused on the development, redevelopment, acquisition, ownership and operation of multifamily communities primarily in New England, the New York/New Jersey metro area, the Mid-Atlantic, the Pacific Northwest, and Northern and Southern California. Its segments include Established Communities, Other Stabilized Communities and Development/Redevelopment Communities. As of June 30, 2017, the Company owned or held a direct or indirect ownership interest in 287 apartment communities containing 83,123 apartment homes in 10 states and the District of Columbia, of which 23 communities were under development and nine communities were under redevelopment. It operates its apartment communities under three core brands: Avalon, AVA and Eaves by Avalon. Its real estate investments consist of operating apartment communities, communities in various stages of development (Development Communities) and Development Rights.\n",
      "SHORTEST DESCRIPTION:\n",
      "DHT Holdings, Inc. is an independent crude oil tanker company. The Company’s fleet trades internationally and consists of 27 crude oil tankers in the very large crude carrier (VLCC) segment. The Company has all functions in-house and operates through integrated management companies in Monaco, Singapore and Oslo, Norway.\n"
     ]
    }
   ],
   "source": [
    "description_length_stats(russell_desc_reuters_df)\n",
    "longest_and_shortest_description(russell_desc_reuters_df)"
   ]
  },
  {
   "cell_type": "markdown",
   "metadata": {},
   "source": [
    "##### Russell Descriptions (from reuters india)"
   ]
  },
  {
   "cell_type": "code",
   "execution_count": 93,
   "metadata": {},
   "outputs": [],
   "source": [
    "russell_desc_ri_df = pd.read_csv('scrapy_spiders/data_out/russell_desc_reuters_india.csv').dropna().reset_index(drop=True)\n",
    "russell_desc_ri_df = pd.merge(russell_desc_ri_df, ticker_to_gics_df, on='Ticker')"
   ]
  },
  {
   "cell_type": "code",
   "execution_count": 94,
   "metadata": {},
   "outputs": [
    {
     "data": {
      "text/html": [
       "<div>\n",
       "<style scoped>\n",
       "    .dataframe tbody tr th:only-of-type {\n",
       "        vertical-align: middle;\n",
       "    }\n",
       "\n",
       "    .dataframe tbody tr th {\n",
       "        vertical-align: top;\n",
       "    }\n",
       "\n",
       "    .dataframe thead th {\n",
       "        text-align: right;\n",
       "    }\n",
       "</style>\n",
       "<table border=\"1\" class=\"dataframe\">\n",
       "  <thead>\n",
       "    <tr style=\"text-align: right;\">\n",
       "      <th></th>\n",
       "      <th>Ticker</th>\n",
       "      <th>Description</th>\n",
       "      <th>GICS</th>\n",
       "    </tr>\n",
       "  </thead>\n",
       "  <tbody>\n",
       "    <tr>\n",
       "      <th>0</th>\n",
       "      <td>A</td>\n",
       "      <td>Agilent Technologies, Inc., incorporated on Ma...</td>\n",
       "      <td>Life Sciences Tools &amp; Services</td>\n",
       "    </tr>\n",
       "    <tr>\n",
       "      <th>1</th>\n",
       "      <td>AA</td>\n",
       "      <td>\\n\\t\\t\\n            NA\\n</td>\n",
       "      <td>Metals &amp; Mining</td>\n",
       "    </tr>\n",
       "    <tr>\n",
       "      <th>2</th>\n",
       "      <td>AAT</td>\n",
       "      <td>American Assets Trust, Inc., incorporated on J...</td>\n",
       "      <td>Equity Real Estate Investment Trusts (REITs)</td>\n",
       "    </tr>\n",
       "    <tr>\n",
       "      <th>3</th>\n",
       "      <td>AAN</td>\n",
       "      <td>Aaron's Holdings Company, Inc. is a holding co...</td>\n",
       "      <td>Specialty Retail</td>\n",
       "    </tr>\n",
       "    <tr>\n",
       "      <th>4</th>\n",
       "      <td>AAP</td>\n",
       "      <td>Advance Auto Parts, Inc., incorporated on Augu...</td>\n",
       "      <td>Specialty Retail</td>\n",
       "    </tr>\n",
       "  </tbody>\n",
       "</table>\n",
       "</div>"
      ],
      "text/plain": [
       "  Ticker                                        Description  \\\n",
       "0      A  Agilent Technologies, Inc., incorporated on Ma...   \n",
       "1     AA                    \\n\\t\\t\\n            NA\\n          \n",
       "2    AAT  American Assets Trust, Inc., incorporated on J...   \n",
       "3    AAN  Aaron's Holdings Company, Inc. is a holding co...   \n",
       "4    AAP  Advance Auto Parts, Inc., incorporated on Augu...   \n",
       "\n",
       "                                           GICS  \n",
       "0                Life Sciences Tools & Services  \n",
       "1                               Metals & Mining  \n",
       "2  Equity Real Estate Investment Trusts (REITs)  \n",
       "3                              Specialty Retail  \n",
       "4                              Specialty Retail  "
      ]
     },
     "execution_count": 94,
     "metadata": {},
     "output_type": "execute_result"
    }
   ],
   "source": [
    "russell_desc_ri_df.head()"
   ]
  },
  {
   "cell_type": "code",
   "execution_count": 95,
   "metadata": {},
   "outputs": [
    {
     "data": {
      "text/plain": [
       "GDEN    1\n",
       "PETS    1\n",
       "MTSI    1\n",
       "TCO     1\n",
       "IP      1\n",
       "       ..\n",
       "PEG     1\n",
       "UVSP    1\n",
       "SLAB    1\n",
       "NATR    1\n",
       "CACC    1\n",
       "Name: Ticker, Length: 2360, dtype: int64"
      ]
     },
     "execution_count": 95,
     "metadata": {},
     "output_type": "execute_result"
    }
   ],
   "source": [
    "russell_desc_ri_df.Ticker.value_counts()"
   ]
  },
  {
   "cell_type": "code",
   "execution_count": 96,
   "metadata": {},
   "outputs": [
    {
     "data": {
      "text/plain": [
       "Ticker                                                      ACIA\n",
       "Description    Acacia Communications, Inc., incorporated on J...\n",
       "GICS                                    Communications Equipment\n",
       "Name: 27, dtype: object"
      ]
     },
     "execution_count": 96,
     "metadata": {},
     "output_type": "execute_result"
    }
   ],
   "source": [
    "russell_desc_ri_df.iloc[27]"
   ]
  },
  {
   "cell_type": "code",
   "execution_count": 97,
   "metadata": {},
   "outputs": [],
   "source": [
    "russell_desc_ri_df.drop_duplicates(inplace=True)"
   ]
  },
  {
   "cell_type": "code",
   "execution_count": 98,
   "metadata": {
    "scrolled": true
   },
   "outputs": [
    {
     "data": {
      "text/plain": [
       "(2360, 3)"
      ]
     },
     "execution_count": 98,
     "metadata": {},
     "output_type": "execute_result"
    }
   ],
   "source": [
    "russell_desc_ri_df.shape"
   ]
  },
  {
   "cell_type": "code",
   "execution_count": 99,
   "metadata": {
    "scrolled": true
   },
   "outputs": [
    {
     "name": "stdout",
     "output_type": "stream",
     "text": [
      "69\n"
     ]
    }
   ],
   "source": [
    "print(len(set(russell_desc_ri_df.GICS)))"
   ]
  },
  {
   "cell_type": "code",
   "execution_count": 100,
   "metadata": {
    "scrolled": true
   },
   "outputs": [
    {
     "name": "stdout",
     "output_type": "stream",
     "text": [
      "MEAN: 3926\n",
      "MEDIAN: 3361\n",
      "MIN: 26\n",
      "MAX: 16352\n"
     ]
    }
   ],
   "source": [
    "description_length_stats(russell_desc_ri_df)\n",
    "# longest_and_shortest_description(russell_desc_ri_df)"
   ]
  },
  {
   "cell_type": "markdown",
   "metadata": {},
   "source": [
    "###### Russell Descriptions (from Bloomberg)\n",
    "\n",
    "- we use russell data, but we will filter this to snp tickers in the next step"
   ]
  },
  {
   "cell_type": "code",
   "execution_count": 101,
   "metadata": {},
   "outputs": [],
   "source": [
    "snp_desc_bloomberg_df = pd.read_csv('data_in/russell_desc_bloomberg.csv', names=['Ticker', 'Company', 'Description'])\n",
    "snp_desc_bloomberg_df = snp_desc_bloomberg_df[['Ticker', 'Description']]\n",
    "snp_desc_bloomberg_df = pd.merge(snp_desc_bloomberg_df, ticker_to_gics_df, on='Ticker')"
   ]
  },
  {
   "cell_type": "code",
   "execution_count": 102,
   "metadata": {},
   "outputs": [
    {
     "data": {
      "text/html": [
       "<div>\n",
       "<style scoped>\n",
       "    .dataframe tbody tr th:only-of-type {\n",
       "        vertical-align: middle;\n",
       "    }\n",
       "\n",
       "    .dataframe tbody tr th {\n",
       "        vertical-align: top;\n",
       "    }\n",
       "\n",
       "    .dataframe thead th {\n",
       "        text-align: right;\n",
       "    }\n",
       "</style>\n",
       "<table border=\"1\" class=\"dataframe\">\n",
       "  <thead>\n",
       "    <tr style=\"text-align: right;\">\n",
       "      <th></th>\n",
       "      <th>Ticker</th>\n",
       "      <th>Description</th>\n",
       "      <th>GICS</th>\n",
       "    </tr>\n",
       "  </thead>\n",
       "  <tbody>\n",
       "    <tr>\n",
       "      <th>0</th>\n",
       "      <td>A</td>\n",
       "      <td>Agilent Technologies, Inc. provides core bio-a...</td>\n",
       "      <td>Life Sciences Tools &amp; Services</td>\n",
       "    </tr>\n",
       "    <tr>\n",
       "      <th>1</th>\n",
       "      <td>AA</td>\n",
       "      <td>Alcoa Corporation manufactures metal products....</td>\n",
       "      <td>Metals &amp; Mining</td>\n",
       "    </tr>\n",
       "    <tr>\n",
       "      <th>2</th>\n",
       "      <td>AAL</td>\n",
       "      <td>American Airlines Group Inc. operates an airli...</td>\n",
       "      <td>Airlines</td>\n",
       "    </tr>\n",
       "    <tr>\n",
       "      <th>3</th>\n",
       "      <td>AAN</td>\n",
       "      <td>Aaron's, Inc. rents and sells office and resid...</td>\n",
       "      <td>Specialty Retail</td>\n",
       "    </tr>\n",
       "    <tr>\n",
       "      <th>4</th>\n",
       "      <td>AAOI</td>\n",
       "      <td>Applied Optoelectronics, Inc. manufactures and...</td>\n",
       "      <td>Communications Equipment</td>\n",
       "    </tr>\n",
       "  </tbody>\n",
       "</table>\n",
       "</div>"
      ],
      "text/plain": [
       "  Ticker                                        Description  \\\n",
       "0      A  Agilent Technologies, Inc. provides core bio-a...   \n",
       "1     AA  Alcoa Corporation manufactures metal products....   \n",
       "2    AAL  American Airlines Group Inc. operates an airli...   \n",
       "3    AAN  Aaron's, Inc. rents and sells office and resid...   \n",
       "4   AAOI  Applied Optoelectronics, Inc. manufactures and...   \n",
       "\n",
       "                             GICS  \n",
       "0  Life Sciences Tools & Services  \n",
       "1                 Metals & Mining  \n",
       "2                        Airlines  \n",
       "3                Specialty Retail  \n",
       "4        Communications Equipment  "
      ]
     },
     "execution_count": 102,
     "metadata": {},
     "output_type": "execute_result"
    }
   ],
   "source": [
    "snp_desc_bloomberg_df.head()"
   ]
  },
  {
   "cell_type": "code",
   "execution_count": 103,
   "metadata": {},
   "outputs": [
    {
     "data": {
      "text/plain": [
       "(2757, 3)"
      ]
     },
     "execution_count": 103,
     "metadata": {},
     "output_type": "execute_result"
    }
   ],
   "source": [
    "snp_desc_bloomberg_df.shape"
   ]
  },
  {
   "cell_type": "code",
   "execution_count": 104,
   "metadata": {
    "scrolled": true
   },
   "outputs": [
    {
     "name": "stdout",
     "output_type": "stream",
     "text": [
      "69\n"
     ]
    }
   ],
   "source": [
    "print(len(set(snp_desc_bloomberg_df.GICS)))"
   ]
  },
  {
   "cell_type": "code",
   "execution_count": 105,
   "metadata": {
    "scrolled": true
   },
   "outputs": [
    {
     "name": "stdout",
     "output_type": "stream",
     "text": [
      "MEAN: 280\n",
      "MEDIAN: 281\n",
      "MIN: 41\n",
      "MAX: 395\n",
      "LONGEST DESCRIPTION:\n",
      "Cornerstone OnDemand, Inc. develops and markets on demand employee development computer software. The Company offers software includes learning development, enterprise social networking, performance management, and succession planning. Cornerstone markets to multi-national corporations, large domestic enterprises, midmarket companies, state and local public sector organizations, and colleges.\n",
      "SHORTEST DESCRIPTION:\n",
      "Cimpress PLC serves customers in Ireland.\n"
     ]
    }
   ],
   "source": [
    "description_length_stats(snp_desc_bloomberg_df)\n",
    "longest_and_shortest_description(snp_desc_bloomberg_df)"
   ]
  },
  {
   "cell_type": "markdown",
   "metadata": {},
   "source": [
    "###### Russell Descriptions (from Bloomberg)"
   ]
  },
  {
   "cell_type": "code",
   "execution_count": 121,
   "metadata": {},
   "outputs": [],
   "source": [
    "russell_desc_bloomberg_df = pd.read_csv('data_in/russell_desc_bloomberg.csv', names=['Ticker', 'Company', 'Description'])\n",
    "russell_desc_bloomberg_df = russell_desc_bloomberg_df[['Ticker', 'Description']]\n",
    "russell_desc_bloomberg_df = pd.merge(russell_desc_bloomberg_df, ticker_to_gics_df, on='Ticker')"
   ]
  },
  {
   "cell_type": "code",
   "execution_count": 122,
   "metadata": {},
   "outputs": [
    {
     "data": {
      "text/plain": [
       "(2757, 3)"
      ]
     },
     "execution_count": 122,
     "metadata": {},
     "output_type": "execute_result"
    }
   ],
   "source": [
    "russell_desc_bloomberg_df.shape"
   ]
  },
  {
   "cell_type": "code",
   "execution_count": 107,
   "metadata": {},
   "outputs": [
    {
     "data": {
      "text/html": [
       "<div>\n",
       "<style scoped>\n",
       "    .dataframe tbody tr th:only-of-type {\n",
       "        vertical-align: middle;\n",
       "    }\n",
       "\n",
       "    .dataframe tbody tr th {\n",
       "        vertical-align: top;\n",
       "    }\n",
       "\n",
       "    .dataframe thead th {\n",
       "        text-align: right;\n",
       "    }\n",
       "</style>\n",
       "<table border=\"1\" class=\"dataframe\">\n",
       "  <thead>\n",
       "    <tr style=\"text-align: right;\">\n",
       "      <th></th>\n",
       "      <th>Ticker</th>\n",
       "      <th>Description</th>\n",
       "      <th>GICS</th>\n",
       "    </tr>\n",
       "  </thead>\n",
       "  <tbody>\n",
       "    <tr>\n",
       "      <th>0</th>\n",
       "      <td>A</td>\n",
       "      <td>Agilent Technologies, Inc. provides core bio-a...</td>\n",
       "      <td>Life Sciences Tools &amp; Services</td>\n",
       "    </tr>\n",
       "    <tr>\n",
       "      <th>1</th>\n",
       "      <td>AA</td>\n",
       "      <td>Alcoa Corporation manufactures metal products....</td>\n",
       "      <td>Metals &amp; Mining</td>\n",
       "    </tr>\n",
       "    <tr>\n",
       "      <th>2</th>\n",
       "      <td>AAL</td>\n",
       "      <td>American Airlines Group Inc. operates an airli...</td>\n",
       "      <td>Airlines</td>\n",
       "    </tr>\n",
       "    <tr>\n",
       "      <th>3</th>\n",
       "      <td>AAN</td>\n",
       "      <td>Aaron's, Inc. rents and sells office and resid...</td>\n",
       "      <td>Specialty Retail</td>\n",
       "    </tr>\n",
       "    <tr>\n",
       "      <th>4</th>\n",
       "      <td>AAOI</td>\n",
       "      <td>Applied Optoelectronics, Inc. manufactures and...</td>\n",
       "      <td>Communications Equipment</td>\n",
       "    </tr>\n",
       "  </tbody>\n",
       "</table>\n",
       "</div>"
      ],
      "text/plain": [
       "  Ticker                                        Description  \\\n",
       "0      A  Agilent Technologies, Inc. provides core bio-a...   \n",
       "1     AA  Alcoa Corporation manufactures metal products....   \n",
       "2    AAL  American Airlines Group Inc. operates an airli...   \n",
       "3    AAN  Aaron's, Inc. rents and sells office and resid...   \n",
       "4   AAOI  Applied Optoelectronics, Inc. manufactures and...   \n",
       "\n",
       "                             GICS  \n",
       "0  Life Sciences Tools & Services  \n",
       "1                 Metals & Mining  \n",
       "2                        Airlines  \n",
       "3                Specialty Retail  \n",
       "4        Communications Equipment  "
      ]
     },
     "execution_count": 107,
     "metadata": {},
     "output_type": "execute_result"
    }
   ],
   "source": [
    "russell_desc_bloomberg_df.head()"
   ]
  },
  {
   "cell_type": "code",
   "execution_count": 108,
   "metadata": {},
   "outputs": [
    {
     "data": {
      "text/plain": [
       "(2757, 3)"
      ]
     },
     "execution_count": 108,
     "metadata": {},
     "output_type": "execute_result"
    }
   ],
   "source": [
    "russell_desc_bloomberg_df.shape"
   ]
  },
  {
   "cell_type": "code",
   "execution_count": 109,
   "metadata": {
    "scrolled": true
   },
   "outputs": [
    {
     "name": "stdout",
     "output_type": "stream",
     "text": [
      "69\n"
     ]
    }
   ],
   "source": [
    "print(len(set(russell_desc_bloomberg_df.GICS)))"
   ]
  },
  {
   "cell_type": "code",
   "execution_count": 110,
   "metadata": {
    "scrolled": false
   },
   "outputs": [
    {
     "name": "stdout",
     "output_type": "stream",
     "text": [
      "MEAN: 280\n",
      "MEDIAN: 281\n",
      "MIN: 41\n",
      "MAX: 395\n",
      "LONGEST DESCRIPTION:\n",
      "Cornerstone OnDemand, Inc. develops and markets on demand employee development computer software. The Company offers software includes learning development, enterprise social networking, performance management, and succession planning. Cornerstone markets to multi-national corporations, large domestic enterprises, midmarket companies, state and local public sector organizations, and colleges.\n",
      "SHORTEST DESCRIPTION:\n",
      "Cimpress PLC serves customers in Ireland.\n"
     ]
    }
   ],
   "source": [
    "description_length_stats(russell_desc_bloomberg_df)\n",
    "longest_and_shortest_description(russell_desc_bloomberg_df)"
   ]
  },
  {
   "cell_type": "markdown",
   "metadata": {},
   "source": [
    "## Filter descriptions to contain same tickers for each index from all data sources (ie 10K, yahoo, wiki etc.)"
   ]
  },
  {
   "cell_type": "code",
   "execution_count": 111,
   "metadata": {},
   "outputs": [],
   "source": [
    "def filter_common_tickers(df_list):\n",
    "    '''\n",
    "    input: list of dfs with Ticker column\n",
    "    output: list of filtered dfs (index reseted and sorted by ticker) in same order\n",
    "    Note this wont change the original dfs in the df_list\n",
    "    '''\n",
    "    df_0 = df_list[0]\n",
    "    df_filter_list = [df_0.Ticker.isin(df_1.Ticker) for df_1 in df_list[1:]]\n",
    "    df_filter = functools.reduce(lambda x,y: x & y, df_filter_list)\n",
    "    df_0 = df_0[df_filter].sort_values('Ticker').reset_index(drop=True)\n",
    "    result_list = [df_0]\n",
    "    \n",
    "    for df_1 in df_list[1:]:\n",
    "        df_1 = df_1[df_1.Ticker.isin(df_0.Ticker)].sort_values('Ticker').reset_index(drop=True)\n",
    "        result_list.append(df_1)\n",
    "    return result_list"
   ]
  },
  {
   "cell_type": "markdown",
   "metadata": {},
   "source": [
    "### Russell Filtering"
   ]
  },
  {
   "cell_type": "code",
   "execution_count": 112,
   "metadata": {},
   "outputs": [],
   "source": [
    "RUSSELL_DATA_SRCS = ['Yahoo', '10K', 'Wiki', 'Morning Star', 'Reuters', 'Reuters India', 'Bloomberg']\n",
    "RUSSELL_DESC_DFS = [russell_desc_yahoo_df, russell_desc_10K_df, russell_desc_wiki_df, russell_desc_ms_df,\n",
    "                    russell_desc_reuters_df, russell_desc_ri_df, russell_desc_bloomberg_df]\n",
    "RUSSELL_DESC_DFS = filter_common_tickers(RUSSELL_DESC_DFS)"
   ]
  },
  {
   "cell_type": "markdown",
   "metadata": {},
   "source": [
    "### Snp Filtering\n",
    "\n",
    "- note that we take russell_desc_10K_df as snp_desc_10K_df  (as it is the scraped descriptions of all tickers which have GICS classification)\n",
    "- filter with russell data as well"
   ]
  },
  {
   "cell_type": "code",
   "execution_count": 113,
   "metadata": {},
   "outputs": [],
   "source": [
    "SNP_DATA_SRCS = ['Yahoo', '10K', 'Wiki', 'Morning Star', 'Reuters', 'Reuters India', 'Bloomberg']\n",
    "SNP_DESC_DFS = [snp_desc_yahoo_df, russell_desc_10K_df, snp_desc_wiki_df, snp_desc_ms_df, snp_desc_reuters_df,\n",
    "                 snp_desc_ri_df, snp_desc_bloomberg_df, RUSSELL_DESC_DFS[0]]\n",
    "SNP_DESC_DFS = filter_common_tickers(SNP_DESC_DFS)[:-1]"
   ]
  },
  {
   "cell_type": "markdown",
   "metadata": {},
   "source": [
    "### Russell_filter"
   ]
  },
  {
   "cell_type": "code",
   "execution_count": null,
   "metadata": {},
   "outputs": [],
   "source": [
    "RUSSELLFILTER_DATA_SRCS = ['Yahoo', '10K', 'Wiki', 'Morning Star', 'Reuters', 'Reuters India', 'Bloomberg']\n",
    "RUSSELLFILTER_DESC_DFS = [df[~df.Ticker.isin(SNP_DESC_DFS[0].Ticker)].reset_index(drop=True) for df in RUSSELL_DESC_DFS]"
   ]
  },
  {
   "cell_type": "markdown",
   "metadata": {},
   "source": [
    "##### Test"
   ]
  },
  {
   "cell_type": "code",
   "execution_count": null,
   "metadata": {},
   "outputs": [],
   "source": [
    "print([df.shape for df in SNP_DESC_DFS])\n",
    "print([df.shape for df in RUSSELL_DESC_DFS])\n",
    "print([df.shape for df in RUSSELLFILTER_DESC_DFS])"
   ]
  },
  {
   "cell_type": "markdown",
   "metadata": {},
   "source": [
    "# Data Src Analytics"
   ]
  },
  {
   "cell_type": "code",
   "execution_count": null,
   "metadata": {},
   "outputs": [],
   "source": [
    "desc_lens = [df.Description.apply(len) for df in SNP_DESC_DFS]\n",
    "len_df = pd.concat(desc_lens, axis=1)\n",
    "len_df.columns = SNP_DATA_SRCS\n",
    "len_df.drop('10K', axis=1, inplace=True)\n",
    "ax = sns.boxplot(data=len_df)\n",
    "ax.set(ylabel=\"Num Characters\", xlabel='Data Source')"
   ]
  },
  {
   "cell_type": "code",
   "execution_count": null,
   "metadata": {},
   "outputs": [],
   "source": [
    "desc_lens = [df.Description.apply(len) for df in RUSSELL_DESC_DFS]\n",
    "len_df = pd.concat(desc_lens, axis=1)\n",
    "len_df.columns = RUSSELL_DATA_SRCS\n",
    "len_df.drop('10K', axis=1, inplace=True)\n",
    "ax = sns.boxplot(data=len_df)\n",
    "ax.set(ylabel=\"Num Characters\", xlabel='Data Source')"
   ]
  },
  {
   "cell_type": "markdown",
   "metadata": {},
   "source": [
    "# -----------------------------------------------------------------------------------------------------------------"
   ]
  },
  {
   "cell_type": "markdown",
   "metadata": {},
   "source": [
    "# Global Vars: Tickers, Description, Classifier to be used\n",
    "\n",
    "- put yahoo as 1st data_src as it also has sector and sub-industry classification (cos the STANDARD CLASSIFIER  will be used from the first element of DESC_DFS)\n",
    "- if you just change the STANDARD_CLASSIFIER variable you can go jump to the 'Run all Clustering algos' header to continue running"
   ]
  },
  {
   "cell_type": "code",
   "execution_count": null,
   "metadata": {},
   "outputs": [],
   "source": [
    "# To Set\n",
    "INDEX = 'russell'\n",
    "DATA_SRCS = RUSSELL_DATA_SRCS\n",
    "DESC_DFS = RUSSELL_DESC_DFS\n",
    "STANDARD_CLASSIFIER = 'GICS' #GICS, Sector, Industry\n",
    "\n",
    "desc_lists = [desc_df['Description'] for desc_df in DESC_DFS]\n",
    "NUM_INDUSTRIES =  len(set(DESC_DFS[0][STANDARD_CLASSIFIER])) #69 for GICS\n",
    "\n",
    "print(NUM_INDUSTRIES)"
   ]
  },
  {
   "cell_type": "markdown",
   "metadata": {},
   "source": [
    "##### Pre Processing\n",
    "\n",
    "- Used Snowball stemmer as it is a slightly improved version of Porter stemmer\n",
    "- lemmatization takes longer, and increases feature size"
   ]
  },
  {
   "cell_type": "code",
   "execution_count": null,
   "metadata": {
    "scrolled": true
   },
   "outputs": [],
   "source": [
    "STOP_FILES = ['StopWords_GenericLong.txt', 'StopWords_DatesandNumbers.txt', 'StopWords_Geographic.txt', \n",
    "              'StopWords_Currencies.txt', 'StopWords_Names.txt']\n",
    "STOP_WORDS = []\n",
    "\n",
    "for file in STOP_FILES:\n",
    "    df = pd.read_csv('data_in/Stop Words/%s'%file, sep='|',header=None,encoding='latin1')\n",
    "    file_stop_words = list(df[0].str.lower().str.strip())\n",
    "    STOP_WORDS.extend(file_stop_words)\n",
    "\n",
    "STOP_WORDS.extend(stopwords.words('english'))\n",
    "STOP_WORDS = set(STOP_WORDS)\n",
    "len(STOP_WORDS)"
   ]
  },
  {
   "cell_type": "markdown",
   "metadata": {},
   "source": [
    "- Note for finance jargon we dont have much apostrophes (we can use the TweetTokeniser for that)"
   ]
  },
  {
   "cell_type": "code",
   "execution_count": null,
   "metadata": {},
   "outputs": [],
   "source": [
    "def get_wordnet_pos(nltk_pos):\n",
    "    \"\"\"Map POS tag to so lemmatize() accepts input\"\"\"\n",
    "    tag = nltk_pos[0]\n",
    "    NLTK_TO_WORDNET_POS = {\"J\": wordnet.ADJ,\n",
    "                            \"N\": wordnet.NOUN,\n",
    "                            \"V\": wordnet.VERB,\n",
    "                            \"R\": wordnet.ADV}\n",
    "    return NLTK_TO_WORDNET_POS.get(tag, wordnet.NOUN)\n",
    "\n",
    "def preprocess_data(doc_list):\n",
    "    \"\"\"\n",
    "    Input  : docuemnt list\n",
    "    Purpose: preprocess text (tokenize, removing stopwords, and stemming)\n",
    "    Output : preprocessed text\n",
    "    \"\"\"\n",
    "    tokenizer = RegexpTokenizer(r'\\w+')\n",
    "    p_stemmer = PorterStemmer()\n",
    "    s_stemmer = SnowballStemmer(language='english')\n",
    "    lemmatizer = WordNetLemmatizer()\n",
    "    processed_doc_list = []\n",
    "\n",
    "    for doc in tqdm(doc_list):\n",
    "        lower_doc = doc.lower()\n",
    "        clean_doc = lower_doc.replace(\"_\", \"\").replace('\\n', ' ').replace(',', ' ')\n",
    "        rem_num_doc = re.sub('[0-9]+', '', clean_doc)\n",
    "        \n",
    "        token_list = tokenizer.tokenize(rem_num_doc) # tokeniser removes special characters (except _)\n",
    "        token_list = [i for i in token_list if len(i)>=3]\n",
    "        stopped_token_list = [i for i in token_list if not i in STOP_WORDS]\n",
    "#         word_reduced_token_list = [p_stemmer.stem(i) for i in stopped_token_list]\n",
    "#         word_reduced_token_list = [s_stemmer.stem(i) for i in stopped_token_list]\n",
    "        word_reduced_token_list = [lemmatizer.lemmatize(w, get_wordnet_pos(pos)) \n",
    "                                     for w, pos in nltk.pos_tag(stopped_token_list)]\n",
    "        processed_doc = ' '.join(word_reduced_token_list) # Untokenize\n",
    "        processed_doc_list.append(processed_doc)\n",
    "    \n",
    "    return processed_doc_list"
   ]
  },
  {
   "cell_type": "code",
   "execution_count": null,
   "metadata": {
    "scrolled": true
   },
   "outputs": [],
   "source": [
    "preped_desc_lists = [preprocess_data(desc_list) for desc_list in desc_lists]"
   ]
  },
  {
   "cell_type": "code",
   "execution_count": null,
   "metadata": {},
   "outputs": [],
   "source": [
    "#Test\n",
    "print(len(preped_desc_lists[0]))\n",
    "preped_desc_lists[2][0]"
   ]
  },
  {
   "cell_type": "markdown",
   "metadata": {},
   "source": [
    "##### Tdidf vectorization\n",
    "\n",
    "- using max_df and min_df significantly reduced feature size\n",
    "- using lemmatization increased feature size\n",
    "\n",
    "<font size=\"5\">\n",
    "$$\n",
    "idf(t,D) = log(\\frac{|D|}{1 + \\mid d \\in D: t \\in d \\mid})\n",
    "$$\n",
    "</font>"
   ]
  },
  {
   "cell_type": "code",
   "execution_count": null,
   "metadata": {},
   "outputs": [],
   "source": [
    "vectorizer = TfidfVectorizer(stop_words='english', max_features= None, max_df = 0.5, min_df=2, smooth_idf=True,\n",
    "                             ngram_range=(1,1))\n",
    "# Note attributes of vectorizer will be from the last prepped_desc_only\n",
    "# dtm - Document Matrix (sparse matrix)\n",
    "dtms = [vectorizer.fit_transform(preped_desc_list) for preped_desc_list in preped_desc_lists]"
   ]
  },
  {
   "cell_type": "code",
   "execution_count": null,
   "metadata": {},
   "outputs": [],
   "source": [
    "shapes = [dtm.shape for dtm in dtms]\n",
    "pd.DataFrame(shapes, index=DATA_SRCS, columns=['num_row', 'num_col (vector length)'])"
   ]
  },
  {
   "cell_type": "markdown",
   "metadata": {},
   "source": [
    "| Descriptions | Unique Words (features)\n",
    "| :- | -: | \n",
    "| SnP (10K) | 25834 |\n",
    "| SnP (yahoo) | 7263 |\n",
    "| Russell (10K) | 78546 |\n",
    "| Russell (yahoo) | 16855 |\n",
    "| Russell (10K, from previous project) | 20025 |\n",
    "\n",
    "\n",
    "- df = (0.5.2)\n",
    "    - p_stem = 10870\n",
    "    - s_stem = 10877\n",
    "    - lemma = 14315"
   ]
  },
  {
   "cell_type": "markdown",
   "metadata": {},
   "source": [
    "###### Check if words used in tdidf model are meaningful by looking at most infrequent and frequent words"
   ]
  },
  {
   "cell_type": "code",
   "execution_count": null,
   "metadata": {
    "scrolled": true
   },
   "outputs": [],
   "source": [
    "features = vectorizer.get_feature_names()\n",
    "features_df = pd.DataFrame(vectorizer.idf_, columns=['IDF'], index=features)\n",
    "features_df.sort_values('IDF', inplace=True)\n",
    "display(features_df.head(100))\n",
    "display(features_df.tail(100))\n",
    "display(features_df)"
   ]
  },
  {
   "cell_type": "markdown",
   "metadata": {},
   "source": [
    "# DTM Visualisation\n",
    "\n",
    "- visualise data in 2d using PCA and LSI to see which clustering approach will work best\n",
    "- look at GICS Sector classification (for easier visualisation as there are only 11 classes)"
   ]
  },
  {
   "cell_type": "code",
   "execution_count": null,
   "metadata": {
    "scrolled": true
   },
   "outputs": [],
   "source": [
    "dtm = dtms[0].toarray()\n",
    "pca = PCA(n_components=2, random_state=0)\n",
    "dtm_pca = pca.fit_transform(dtm)"
   ]
  },
  {
   "cell_type": "code",
   "execution_count": null,
   "metadata": {},
   "outputs": [],
   "source": [
    "#not used\n",
    "from sklearn.preprocessing import StandardScaler\n",
    "X = StandardScaler().fit_transform(dtm)\n",
    "X.mean(axis=0)"
   ]
  },
  {
   "cell_type": "markdown",
   "metadata": {},
   "source": [
    "- You use MinMaxScaler when you do not assume that the shape of all your features follows a normal distribution"
   ]
  },
  {
   "cell_type": "code",
   "execution_count": null,
   "metadata": {},
   "outputs": [],
   "source": [
    "lsa = TruncatedSVD(2, algorithm = 'arpack', random_state=0)\n",
    "dtm_lsa = lsa.fit_transform(dtm)\n",
    "dtm_lsa_normalised = Normalizer(copy=True).fit_transform(dtm_lsa) # normalisae so each vector is len 1"
   ]
  },
  {
   "cell_type": "code",
   "execution_count": null,
   "metadata": {},
   "outputs": [],
   "source": [
    "pca2 = PCA(n_components=0.5, random_state=0) #Choose components to explain 50% of the variance\n",
    "dtm_pca2 = pca2.fit_transform(dtm)\n",
    "len(pca2.explained_variance_ratio_)"
   ]
  },
  {
   "cell_type": "markdown",
   "metadata": {},
   "source": [
    "- 85 components required to explain 50% of variance in data"
   ]
  },
  {
   "cell_type": "code",
   "execution_count": null,
   "metadata": {},
   "outputs": [],
   "source": [
    "df = pd.DataFrame(dtm_pca, columns=['x', 'y'])\n",
    "df['cluster'] = DESC_DFS[0].Sector\n",
    "# plt.figure(figsize=(14,10))\n",
    "sns.scatterplot(x='x', y='y', hue='cluster', size='cluster', data=df)"
   ]
  },
  {
   "cell_type": "code",
   "execution_count": null,
   "metadata": {},
   "outputs": [],
   "source": [
    "df = pd.DataFrame(dtm_lsa, columns=['x', 'y'])\n",
    "df['cluster'] = DESC_DFS[0].Sector\n",
    "# plt.figure(figsize=(14,10))\n",
    "sns.scatterplot(x='x', y='y', hue='cluster', size='cluster', data=df)"
   ]
  },
  {
   "cell_type": "code",
   "execution_count": null,
   "metadata": {},
   "outputs": [],
   "source": [
    "df = pd.DataFrame(dtm_lsa_normalised, columns=['x', 'y'])\n",
    "df['cluster'] = DESC_DFS[0].Sector\n",
    "# plt.figure(figsize=(14,10))\n",
    "sns.scatterplot(x='x', y='y', hue='cluster', size='cluster', data=df)"
   ]
  },
  {
   "cell_type": "markdown",
   "metadata": {},
   "source": [
    "- the way the clustering is occuring seems to suggest that cosine similarity is a better measure\n",
    "- clearly normalising takes away some information\n",
    "- and that you should not normalise after (hmm not sure, bcos this should not affect cosine similarity)"
   ]
  },
  {
   "cell_type": "markdown",
   "metadata": {},
   "source": [
    "# Clustering Algos"
   ]
  },
  {
   "cell_type": "markdown",
   "metadata": {},
   "source": [
    "### K-Means\n",
    "\n",
    "- sum of squared Euclidean distances"
   ]
  },
  {
   "cell_type": "code",
   "execution_count": null,
   "metadata": {},
   "outputs": [],
   "source": [
    "def kmeans_cluster(dtm, n_clusters=NUM_INDUSTRIES):\n",
    "    '''\n",
    "    input: Document Matrix\n",
    "    output: list indicating clusters\n",
    "    '''\n",
    "    kmeans = KMeans(n_clusters=n_clusters, init='k-means++', n_init=10, max_iter=300, random_state=0)\n",
    "    kmeans.fit(dtm)\n",
    "    return kmeans.labels_\n",
    "#     pred = kmeans.predict(dtm)\n",
    "#     return pred"
   ]
  },
  {
   "cell_type": "markdown",
   "metadata": {},
   "source": [
    "### K-medioids\n",
    "\n",
    "- aka partitioning around medoids (PAM)\n",
    "- K-means choses point average as cluster center while k-medoids chooses data points as centers (medoids)\n",
    "    - thus k-medioids works with arbitraty distances while k-means only works with euclidean dist\n",
    "    - A medoid is an element in a cluster whose average dissimilarity to all objects in cluster is minimal (i.e most centrally located point in cluster)\n",
    "- more robust to noise and outliers as compared to k-means because it minimizes a sum of pairwise dissimilarities instead of a sum of squared Euclidean distances"
   ]
  },
  {
   "cell_type": "code",
   "execution_count": null,
   "metadata": {},
   "outputs": [],
   "source": [
    "def get_cluster_allocation_from_clusters(clusters):\n",
    "    num_elemts = max(functools.reduce(lambda x,y: x+y, clusters)) + 1\n",
    "    idx_clusters = np.zeros(num_elemts).astype(int)\n",
    "    i = 0\n",
    "    for cluster in clusters:\n",
    "        idx_clusters[cluster] = i\n",
    "        i +=1\n",
    "    return idx_clusters"
   ]
  },
  {
   "cell_type": "code",
   "execution_count": null,
   "metadata": {},
   "outputs": [],
   "source": [
    "def kmedioids_cluster(dtm, n_clusters=NUM_INDUSTRIES):\n",
    "    '''\n",
    "    input: Document Matrix, return str()\n",
    "    output: list indicating clusters\n",
    "    '''\n",
    "    cosine_distance = lambda x, y: distance.cosine(x,y)\n",
    "    metric = distance_metric(type_metric.USER_DEFINED, func=cosine_distance) # type_metric.EUCLIDEAN\n",
    "    initial_medoids = list(range(n_clusters))\n",
    "    \n",
    "    kmedoids_instance = kmedoids(dtm, initial_medoids, metric=metric)\n",
    "    kmedoids_instance.process()\n",
    "    clusters = kmedoids_instance.get_clusters()\n",
    "    cluster_allocation = get_cluster_allocation_from_clusters(clusters)\n",
    "    return cluster_allocation"
   ]
  },
  {
   "cell_type": "markdown",
   "metadata": {},
   "source": [
    "### K-medians"
   ]
  },
  {
   "cell_type": "code",
   "execution_count": null,
   "metadata": {},
   "outputs": [],
   "source": [
    "def kmedians_cluster(dtm):\n",
    "    initial_medians = dtm[:NUM_INDUSTRIES]\n",
    "    kmedians_instance = kmedians(dtm, initial_medians)\n",
    "    kmedians_instance.process()\n",
    "    clusters = kmedians_instance.get_clusters()\n",
    "    medians = kmedians_instance.get_medians()\n",
    "    cluster_allocation = get_cluster_allocation_from_clusters(clusters)\n",
    "    return cluster_allocation"
   ]
  },
  {
   "cell_type": "markdown",
   "metadata": {},
   "source": [
    "### DBSCAN\n",
    "\n",
    "- Usecase: Non-flat geometry, uneven cluster sizes"
   ]
  },
  {
   "cell_type": "code",
   "execution_count": null,
   "metadata": {},
   "outputs": [],
   "source": [
    "# from sklearn.cluster import DBSCAN\n",
    "# from sklearn.preprocessing import StandardScaler\n",
    "\n",
    "# X = StandardScaler().fit_transform(dtm)\n",
    "\n",
    "# db = DBSCAN(eps=0.3, min_samples=10).fit(X)\n",
    "# core_samples_mask = np.zeros_like(db.labels_, dtype=bool)\n",
    "# core_samples_mask[db.core_sample_indices_] = True\n",
    "# labels = db.labels_"
   ]
  },
  {
   "cell_type": "markdown",
   "metadata": {},
   "source": [
    "### Gaussian Mixture\n",
    "\n",
    "- kmeans is a distance based model, while gmm is a distribution based model"
   ]
  },
  {
   "cell_type": "code",
   "execution_count": null,
   "metadata": {},
   "outputs": [],
   "source": [
    "def gmm_cluster(dtm, n_clusters=NUM_INDUSTRIES):\n",
    "    '''\n",
    "    input: Document Matrix\n",
    "    output: list indicating clusters\n",
    "    '''\n",
    "    gmm = GaussianMixture(n_components=n_clusters, random_state=0)\n",
    "    gmm.fit(dtm)\n",
    "    pred = gmm.predict(dtm)\n",
    "    return pred"
   ]
  },
  {
   "cell_type": "markdown",
   "metadata": {},
   "source": [
    "### Agglomerative Clustering\n",
    "\n",
    "- before applying Hierarchical Clustering, normalize data so that scale of variable are same. (If variable scale not same, model might be biased to variables with a higher magnitude)\n",
    "    - not sure if this is important if you are using cosine distance"
   ]
  },
  {
   "cell_type": "code",
   "execution_count": null,
   "metadata": {},
   "outputs": [],
   "source": [
    "def agglomerative_cluster(dtm, n_clusters=NUM_INDUSTRIES):\n",
    "    ac = AgglomerativeClustering(n_clusters=n_clusters, affinity='euclidean', linkage='ward')\n",
    "    ac.fit(dtm)\n",
    "    return ac.labels_"
   ]
  },
  {
   "cell_type": "markdown",
   "metadata": {},
   "source": [
    "### Test Cluster Allocation"
   ]
  },
  {
   "cell_type": "code",
   "execution_count": null,
   "metadata": {},
   "outputs": [],
   "source": [
    "def perp_cluster_names(cluster_allocation):\n",
    "    return list(map(lambda j: 'Cluster ' + str(j), cluster_allocation))\n",
    "\n",
    "dtm = dtms[0].toarray()\n",
    "cluster_allocation = kmeans_cluster(dtm, n_clusters=11)\n",
    "# cluster_allocation = kmedioids_cluster(dtm, n_clusters=11)\n",
    "# cluster_allocation = gmm_cluster(dtm, n_clusters=11)\n",
    "# cluster_allocation = agglomerative_cluster(dtm, n_clusters=11)\n",
    "cluster_allocation = perp_cluster_names(cluster_allocation)\n",
    "\n",
    "# cluster_allocation = DESC_DFS[0].Sector\n",
    "\n",
    "pca = PCA(n_components=2, random_state=0)\n",
    "dtm_pca = pca.fit_transform(dtm)"
   ]
  },
  {
   "cell_type": "code",
   "execution_count": null,
   "metadata": {
    "scrolled": false
   },
   "outputs": [],
   "source": [
    "df = pd.DataFrame(dtm_pca, columns=['x', 'y'])\n",
    "df['cluster'] = cluster_allocation\n",
    "# plt.figure(figsize=(14,10))\n",
    "sns.scatterplot(x='x', y='y', hue='cluster', size='cluster',palette=\"husl\", data=df)"
   ]
  },
  {
   "cell_type": "code",
   "execution_count": null,
   "metadata": {
    "scrolled": false
   },
   "outputs": [],
   "source": [
    "df = pd.DataFrame(dtm_pca, columns=['x', 'y'])\n",
    "df['cluster'] = cluster_allocation\n",
    "# plt.figure(figsize=(14,10))\n",
    "sns.scatterplot(x='x', y='y', hue='cluster', size='cluster',palette=\"husl\", data=df)"
   ]
  },
  {
   "cell_type": "code",
   "execution_count": null,
   "metadata": {
    "scrolled": false
   },
   "outputs": [],
   "source": [
    "df = pd.DataFrame(dtm_pca, columns=['x', 'y'])\n",
    "df['cluster'] = cluster_allocation\n",
    "# plt.figure(figsize=(14,10))\n",
    "sns.scatterplot(x='x', y='y', hue='cluster', size='cluster',palette=\"husl\", data=df)"
   ]
  },
  {
   "cell_type": "markdown",
   "metadata": {},
   "source": [
    "# Determine Optimal Number of Topics"
   ]
  },
  {
   "cell_type": "markdown",
   "metadata": {},
   "source": [
    "##### Coherence Score\n",
    "\n",
    "- coherence score will distinguish between good and bad topics\n",
    "- Choosing a ‘k’ that marks the end of a rapid growth of topic coherence usually offers meaningful and interpretable topics"
   ]
  },
  {
   "cell_type": "code",
   "execution_count": null,
   "metadata": {},
   "outputs": [],
   "source": [
    "num_topics = 11\n",
    "words = 5"
   ]
  },
  {
   "cell_type": "code",
   "execution_count": null,
   "metadata": {},
   "outputs": [],
   "source": [
    "tokenized_desc_list = [word_tokenize(doc) for doc in preped_desc_lists[0]]\n",
    "dictionary = corpora.Dictionary(tokenized_desc_list)\n",
    "dtm_gensim = [dictionary.doc2bow(doc) for doc in tokenized_desc_list] #this dtm has a unique structure\n",
    "lsamodel = LsiModel(dtm_gensim, num_topics=num_topics, id2word = dictionary)\n",
    "lsamodel.print_topics(num_topics=num_topics, num_words=words)"
   ]
  },
  {
   "cell_type": "code",
   "execution_count": null,
   "metadata": {},
   "outputs": [],
   "source": [
    "coherence_values = []\n",
    "model_list = []\n",
    "NUM_TOPICS_RNG = range(2, 150, 1)\n",
    "for num_topics in tqdm(NUM_TOPICS_RNG):\n",
    "    model = LsiModel(dtm_gensim, num_topics=num_topics, id2word = dictionary)\n",
    "    model_list.append(model)\n",
    "    coherencemodel = CoherenceModel(model=model, texts=tokenized_desc_list, dictionary=dictionary, coherence='c_v')\n",
    "    coherence_values.append(coherencemodel.get_coherence())"
   ]
  },
  {
   "cell_type": "code",
   "execution_count": null,
   "metadata": {},
   "outputs": [],
   "source": [
    "model.print_topics(num_topics=num_topics, num_words=words)\n",
    "# coherence_values"
   ]
  },
  {
   "cell_type": "code",
   "execution_count": null,
   "metadata": {},
   "outputs": [],
   "source": [
    "plt.plot(NUM_TOPICS_RNG, coherence_values, label='Coherence score')\n",
    "plt.xlabel(\"Number of Topics\")\n",
    "plt.ylabel(\"Coherence score\")\n",
    "plt.xticks(RNG[::5])\n",
    "plt.legend()\n",
    "plt.grid()\n",
    "plt.show()"
   ]
  },
  {
   "cell_type": "markdown",
   "metadata": {},
   "source": [
    "- 0.55 and above are good values for coherence scores\n",
    "- 2,7 topics seems to be best"
   ]
  },
  {
   "cell_type": "markdown",
   "metadata": {},
   "source": [
    "##### Optimal number of clusters\n",
    "\n",
    "- Elbow method\n",
    "- sihoulette value\n",
    "    - measure of how similar an object is to its own cluster (cohesion) compared to other clusters (separation)\n",
    "    - [-1,1]"
   ]
  },
  {
   "cell_type": "code",
   "execution_count": null,
   "metadata": {},
   "outputs": [],
   "source": [
    "lsa_test = TruncatedSVD(n_components=200, algorithm = 'arpack')\n",
    "dtm_lsa_test = lsa_test.fit_transform(dtm)\n",
    "dtm_lsa_test = Normalizer(copy=False).fit_transform(dtm_lsa_test) # normalisae so each vector is len 1"
   ]
  },
  {
   "cell_type": "markdown",
   "metadata": {},
   "source": [
    "##### Important words for each Topic"
   ]
  },
  {
   "cell_type": "code",
   "execution_count": null,
   "metadata": {},
   "outputs": [],
   "source": [
    "features = vectorizer.get_feature_names()\n",
    "topic_words = []\n",
    "for i, comp in enumerate(lsa_test.components_):\n",
    "    terms_comp = zip(features, comp)\n",
    "    sorted_words = sorted(terms_comp, key= lambda x:x[1], reverse=True)[:7]\n",
    "    sorted_words_clean = [tup[0] for tup in sorted_words]\n",
    "    topic_words.append(sorted_words_clean)\n",
    "topic_df = pd.DataFrame(topic_words, index=['Topic '+str(i) for i in range(lsa_test.components_.shape[0])])"
   ]
  },
  {
   "cell_type": "code",
   "execution_count": null,
   "metadata": {
    "scrolled": true
   },
   "outputs": [],
   "source": [
    "topic_df.head(50)"
   ]
  },
  {
   "cell_type": "markdown",
   "metadata": {},
   "source": [
    "- words seem pretty sensible\n",
    "- n_components is the number of topics to be extracted, so you shd use 64"
   ]
  },
  {
   "cell_type": "markdown",
   "metadata": {},
   "source": [
    "# Determine Optimal Number of Clusters\n",
    "\n",
    "- using kmeans"
   ]
  },
  {
   "cell_type": "code",
   "execution_count": null,
   "metadata": {
    "scrolled": true
   },
   "outputs": [],
   "source": [
    "kmeans_kwargs = {\n",
    "    \"init\": \"random\",\n",
    "    \"n_init\": 10,\n",
    "    \"max_iter\": 300,\n",
    "    \"random_state\": 42,\n",
    "}\n",
    "\n",
    "gics_sil_score = silhouette_score(dtm_lsa_test, desc_df.GICS)\n",
    "\n",
    "silhouette_coefficients = []\n",
    "sse = []\n",
    "iters = []\n",
    "a,b = 2,200\n",
    "for k in tnrange(a,b):\n",
    "    kmeans = KMeans(n_clusters=k, **kmeans_kwargs)\n",
    "    kmeans.fit(dtm_lsa_test)\n",
    "    score = silhouette_score(dtm_lsa_test, kmeans.labels_)\n",
    "    silhouette_coefficients.append(score)\n",
    "    sse.append(kmeans.inertia_)\n",
    "    iters.append(kmeans.n_iter_) # dosent give much information usu from [4,20]\n"
   ]
  },
  {
   "cell_type": "code",
   "execution_count": null,
   "metadata": {},
   "outputs": [],
   "source": [
    "plt.plot(range(a, b), sse)\n",
    "plt.xticks(range(a, b,10))\n",
    "plt.xlabel(\"Number of Clusters\")\n",
    "plt.ylabel(\"Sum of Squared Errors (SSE)\")\n",
    "plt.grid()\n",
    "plt.show()"
   ]
  },
  {
   "cell_type": "markdown",
   "metadata": {},
   "source": [
    "- can see there is a slight elbow at 11"
   ]
  },
  {
   "cell_type": "code",
   "execution_count": null,
   "metadata": {},
   "outputs": [],
   "source": [
    "plt.plot(range(a,b), silhouette_coefficients, label='k-means')\n",
    "plt.axhline(gics_sil_score, label='GICS', color='r')\n",
    "plt.xticks(range(a,b,10))\n",
    "plt.xlabel(\"Number of Clusters\")\n",
    "plt.ylabel(\"Silhouette Coefficient\")\n",
    "plt.legend()\n",
    "plt.grid()\n",
    "plt.show()"
   ]
  },
  {
   "cell_type": "markdown",
   "metadata": {},
   "source": [
    "- best score at 112, which is the number of subindustries\n",
    "- k-means easily outperforms GICS for silhouette coefficient, which makes sense as k-means is clustering wrt to the given vectors so it should in a sense optimise the silhouette coefficient"
   ]
  },
  {
   "cell_type": "markdown",
   "metadata": {},
   "source": [
    "# Run all Clustering algos"
   ]
  },
  {
   "cell_type": "markdown",
   "metadata": {},
   "source": [
    "##### Abit about LSI\n",
    "\n",
    "- leveraging the idea that meaning can be extracted from context (ie words from the same document should have some similarity)\n",
    "\n",
    "- Why not PCA\n",
    "    - both use SVD and leverage the idea that meaning can be extracted from context\n",
    "    - but PCA does SVD on the covariance matrix\n",
    "    - PCA is more general and can be used on high dimentional datasets  while LSI is more specific to text corpora\n",
    "    \n",
    "- not sure if i should do the normalising before LSI or after (note we are doing samplewise normalisation not feature wise normalisation)\n",
    "    - some suggest normalising before and after"
   ]
  },
  {
   "cell_type": "code",
   "execution_count": null,
   "metadata": {
    "scrolled": false
   },
   "outputs": [],
   "source": [
    "#Test\n",
    "dtms[0].shape"
   ]
  },
  {
   "cell_type": "code",
   "execution_count": null,
   "metadata": {
    "scrolled": true
   },
   "outputs": [],
   "source": [
    "std_class_df = pd.DataFrame(DESC_DFS[0][STANDARD_CLASSIFIER].cat.codes, columns=[STANDARD_CLASSIFIER])\n",
    "cluster_dfs_list = [DESC_DFS[0][['Ticker']], std_class_df]\n",
    "for i in tnrange(len(DATA_SRCS)):\n",
    "    data_src = DATA_SRCS[i]\n",
    "    for k in tnrange(25, 301, 50):\n",
    "        # LSI Embedding\n",
    "        lsa_k = TruncatedSVD(k, algorithm = 'arpack', random_state=0)\n",
    "        dtm_lsa_k = lsa_k.fit_transform(dtms[i])\n",
    "        dtm_lsa_k = Normalizer(copy=False).fit_transform(dtm_lsa_k)\n",
    "        # K-Means\n",
    "        clusters_k = kmeans_cluster(dtm_lsa_k)\n",
    "        cluster_dfs_list.append(pd.DataFrame(clusters_k, columns=['{}_lsi_{}_kmeans'.format(data_src, str(k))]))\n",
    "        # K-Medioids\n",
    "        clusters_k = kmedioids_cluster(dtm_lsa_k)\n",
    "        cluster_dfs_list.append(pd.DataFrame(clusters_k, columns=['{}_lsi_{}_kmediods'.format(data_src, str(k))]))\n",
    "        # K-Medians\n",
    "        pass\n",
    "        # GMM\n",
    "        clusters_k = gmm_cluster(dtm_lsa_k)\n",
    "        cluster_dfs_list.append(pd.DataFrame(clusters_k, columns=['{}_lsi_{}_gmm'.format(data_src, str(k))]))\n",
    "        # Cosine_similarity\n",
    "        pass\n",
    "    \n",
    "all_cluster = pd.concat(cluster_dfs_list, axis=1)"
   ]
  },
  {
   "cell_type": "code",
   "execution_count": null,
   "metadata": {
    "scrolled": true
   },
   "outputs": [],
   "source": [
    "all_cluster.head()"
   ]
  },
  {
   "cell_type": "markdown",
   "metadata": {},
   "source": [
    "###### Save clustering to the next available file by index"
   ]
  },
  {
   "cell_type": "code",
   "execution_count": null,
   "metadata": {},
   "outputs": [],
   "source": [
    "def smart_save(df, folder, start_word, data_name):\n",
    "    file_list = os.listdir(folder)\n",
    "    max_idx = -1\n",
    "    for file in file_list:\n",
    "        split_list = file.split('_')\n",
    "        if split_list[0] == start_word:\n",
    "            idx = int(split_list[-1][:-4])\n",
    "            max_idx = max(max_idx, idx)\n",
    "\n",
    "    savepath = '%s/%s_%s_%d.csv'%(folder, start_word, data_name, max_idx + 1)\n",
    "    df.to_csv(savepath, index=False)\n",
    "    print('Saved to: %s'%savepath)"
   ]
  },
  {
   "cell_type": "code",
   "execution_count": null,
   "metadata": {},
   "outputs": [],
   "source": [
    "smart_save(all_cluster, 'data_out/all_clusters', INDEX, 'clusters')"
   ]
  },
  {
   "cell_type": "markdown",
   "metadata": {},
   "source": [
    "# Evaluation"
   ]
  },
  {
   "cell_type": "code",
   "execution_count": null,
   "metadata": {},
   "outputs": [],
   "source": [
    "# all_cluster = pd.read_csv('data_out/all_clusters/snp_clusters_2.csv')\n",
    "# all_cluster.head()"
   ]
  },
  {
   "cell_type": "markdown",
   "metadata": {},
   "source": [
    "### Method 1 - Ticker returns correlations\n",
    "\n",
    "- regression of the daily return series of each stock with the return of the industry that the stock belongs to\n",
    "- criterion is the the average of all R2s from the universe\n",
    "- 5 years of daily returns used (same as previous project)"
   ]
  },
  {
   "cell_type": "code",
   "execution_count": null,
   "metadata": {},
   "outputs": [],
   "source": [
    "ticker_price_df = pd.read_csv('data_in/russell_price.csv', index_col=0) \n",
    "# Can use this path for SnP: 'data_out/ticker_price_df.csv'"
   ]
  },
  {
   "cell_type": "code",
   "execution_count": null,
   "metadata": {},
   "outputs": [],
   "source": [
    "ticker_price_df.columns = ticker_price_df.columns.str.replace('/', '-')\n",
    "ticker_return_df = ticker_price_df.pct_change()\n",
    "ticker_return_df"
   ]
  },
  {
   "cell_type": "code",
   "execution_count": null,
   "metadata": {
    "scrolled": true
   },
   "outputs": [],
   "source": [
    "# Tickers to remove if no ticker data\n",
    "tickers_with_no_data = [ticker for ticker in all_cluster.Ticker if ticker not in ticker_return_df.columns]\n",
    "print(tickers_with_no_data)"
   ]
  },
  {
   "cell_type": "code",
   "execution_count": null,
   "metadata": {},
   "outputs": [],
   "source": [
    "all_cluster_filtered = all_cluster[~all_cluster.Ticker.isin(tickers_with_no_data)].reset_index(drop=True)\n",
    "print(all_cluster_filtered.shape)\n",
    "all_cluster_filtered.head()"
   ]
  },
  {
   "cell_type": "code",
   "execution_count": null,
   "metadata": {
    "scrolled": true
   },
   "outputs": [],
   "source": [
    "mtds_R2_list = []\n",
    "\n",
    "for cluster_mtd in tqdm(all_cluster_filtered.columns):\n",
    "    if cluster_mtd == 'Ticker':\n",
    "        continue\n",
    "    \n",
    "    R2_list = []\n",
    "    for i in range(NUM_INDUSTRIES):\n",
    "        cluster_tickers = all_cluster_filtered[all_cluster_filtered[cluster_mtd] == i].Ticker\n",
    "        cluster_ticker_returns = ticker_return_df[cluster_tickers]\n",
    "        mean_return = cluster_ticker_returns.mean(axis=1)\n",
    "        cluster_R2 = [mean_return.corr(ticker_returns) for _, ticker_returns in cluster_ticker_returns.iteritems()]\n",
    "        R2_list.extend(cluster_R2)\n",
    "    avg_R2 = sum(R2_list)/len(R2_list)\n",
    "    if cluster_mtd == STANDARD_CLASSIFIER:\n",
    "        STANDARD_CLASSIFIER_R2 = avg_R2\n",
    "    else:\n",
    "        data_src, _, k, clustering_mtd = cluster_mtd.split('_')\n",
    "        mtds_R2_list.append([data_src, int(k), clustering_mtd, avg_R2])\n",
    "\n",
    "avg_R2_df = pd.DataFrame(mtds_R2_list, columns=['Data_src', 'k', 'Clustering mtd', 'Average R2'])"
   ]
  },
  {
   "cell_type": "code",
   "execution_count": null,
   "metadata": {
    "scrolled": true
   },
   "outputs": [],
   "source": [
    "avg_R2_df.head()"
   ]
  },
  {
   "cell_type": "code",
   "execution_count": null,
   "metadata": {},
   "outputs": [],
   "source": [
    "folder = 'data_out/results'\n",
    "os.listdir(folder)"
   ]
  },
  {
   "cell_type": "code",
   "execution_count": null,
   "metadata": {},
   "outputs": [],
   "source": [
    "smart_save(avg_R2_df, 'data_out/results', INDEX, 'R2')"
   ]
  },
  {
   "cell_type": "code",
   "execution_count": null,
   "metadata": {},
   "outputs": [],
   "source": [
    "grp_df = avg_R2_df.groupby('Data_src')\n",
    "best_R2_df = grp_df.apply(lambda df: df[df['Average R2'] == df['Average R2'].max()])\n",
    "best_R2_df = best_R2_df.droplevel(level=1).drop('Data_src', axis=1)\n",
    "best_R2_df['pct_cng'] = (best_R2_df['Average R2'] - STANDARD_CLASSIFIER_R2)/STANDARD_CLASSIFIER_R2 * 100\n",
    "best_R2_df['abs_cng'] = best_R2_df['Average R2'] - STANDARD_CLASSIFIER_R2\n",
    "best_R2_df.sort_values('pct_cng', inplace=True, ascending=False)\n",
    "best_R2_df"
   ]
  },
  {
   "cell_type": "markdown",
   "metadata": {},
   "source": [
    "- best values occur at low k values, and usually k means"
   ]
  },
  {
   "cell_type": "code",
   "execution_count": null,
   "metadata": {},
   "outputs": [],
   "source": [
    "TITLE = 'R2 results - Clustering SnP (by GICS)'\n",
    "print('GICS R2: %.3f'%STANDARD_CLASSIFIER_R2)\n",
    "plt.figure(figsize=(16,10))\n",
    "ax = sns.lineplot(data=avg_R2_df, x='k', y='Average R2', hue='Data_src', style='Clustering mtd')\n",
    "ax.axhline(STANDARD_CLASSIFIER_R2, color=\"black\", linestyle=\"--\", label=STANDARD_CLASSIFIER+' R2')\n",
    "ax.set(xlabel='k, LSI Embedding Parameter', ylabel='R2 (Average Correlation)', title=TITLE)\n",
    "plt.legend()\n",
    "# plt.savefig(TITLE)"
   ]
  },
  {
   "cell_type": "code",
   "execution_count": null,
   "metadata": {},
   "outputs": [],
   "source": []
  },
  {
   "cell_type": "code",
   "execution_count": null,
   "metadata": {},
   "outputs": [],
   "source": [
    "grp_df = avg_R2_df.groupby('Data_src')\n",
    "best_R2_df = grp_df.apply(lambda df: df[df['Average R2'] == df['Average R2'].max()])\n",
    "best_R2_df = best_R2_df.droplevel(level=1).drop('Data_src', axis=1)\n",
    "best_R2_df['pct_cng'] = (best_R2_df['Average R2'] - STANDARD_CLASSIFIER_R2)/STANDARD_CLASSIFIER_R2 * 100\n",
    "best_R2_df['abs_cng'] = best_R2_df['Average R2'] - STANDARD_CLASSIFIER_R2\n",
    "best_R2_df.sort_values('pct_cng', inplace=True, ascending=False)\n",
    "best_R2_df"
   ]
  },
  {
   "cell_type": "code",
   "execution_count": null,
   "metadata": {},
   "outputs": [],
   "source": [
    "TITLE = 'R2 results - Clustering SnP (by GICS)'\n",
    "print('GICS R2: %.3f'%STANDARD_CLASSIFIER_R2)\n",
    "plt.figure(figsize=(16,10))\n",
    "ax = sns.lineplot(data=avg_R2_df, x='k', y='Average R2', hue='Data_src', style='Clustering mtd')\n",
    "ax.axhline(STANDARD_CLASSIFIER_R2, color=\"black\", linestyle=\"--\", label=STANDARD_CLASSIFIER+' R2')\n",
    "ax.set(xlabel='k, LSI Embedding Parameter', ylabel='R2 (Average Correlation)', title=TITLE)\n",
    "plt.legend()\n",
    "# plt.savefig(TITLE)"
   ]
  },
  {
   "cell_type": "code",
   "execution_count": null,
   "metadata": {},
   "outputs": [],
   "source": []
  },
  {
   "cell_type": "code",
   "execution_count": null,
   "metadata": {},
   "outputs": [],
   "source": [
    "grp_df = avg_R2_df.groupby('Data_src')\n",
    "best_R2_df = grp_df.apply(lambda df: df[df['Average R2'] == df['Average R2'].max()])\n",
    "best_R2_df = best_R2_df.droplevel(level=1).drop('Data_src', axis=1)\n",
    "best_R2_df['pct_cng'] = (best_R2_df['Average R2'] - STANDARD_CLASSIFIER_R2)/STANDARD_CLASSIFIER_R2 * 100\n",
    "best_R2_df.sort_values('pct_cng', inplace=True, ascending=False)\n",
    "best_R2_df"
   ]
  },
  {
   "cell_type": "code",
   "execution_count": null,
   "metadata": {},
   "outputs": [],
   "source": [
    "TITLE = 'R2 results - Clustering SnP (by GICS)'\n",
    "print('GICS R2: %.3f'%STANDARD_CLASSIFIER_R2)\n",
    "plt.figure(figsize=(16,10))\n",
    "ax = sns.lineplot(data=avg_R2_df, x='k', y='Average R2', hue='Data_src', style='Clustering mtd')\n",
    "ax.axhline(STANDARD_CLASSIFIER_R2, color=\"black\", linestyle=\"--\", label=STANDARD_CLASSIFIER+' R2')\n",
    "ax.set(xlabel='k, LSI Embedding Parameter', ylabel='R2 (Average Correlation)', title=TITLE)\n",
    "plt.legend()\n",
    "# plt.savefig(TITLE)"
   ]
  },
  {
   "cell_type": "code",
   "execution_count": null,
   "metadata": {},
   "outputs": [],
   "source": []
  },
  {
   "cell_type": "code",
   "execution_count": null,
   "metadata": {},
   "outputs": [],
   "source": []
  },
  {
   "cell_type": "code",
   "execution_count": null,
   "metadata": {},
   "outputs": [],
   "source": []
  },
  {
   "cell_type": "code",
   "execution_count": null,
   "metadata": {},
   "outputs": [],
   "source": []
  },
  {
   "cell_type": "code",
   "execution_count": null,
   "metadata": {},
   "outputs": [],
   "source": []
  },
  {
   "cell_type": "code",
   "execution_count": null,
   "metadata": {},
   "outputs": [],
   "source": [
    "TITLE = 'R2 results - Clustering SnP (by Sector)'\n",
    "plt.figure(figsize=(16,10))\n",
    "ax = sns.lineplot(data=avg_R2_df, x='k', y='Average R2', hue='Data_src', style='Clustering mtd', sort=False)\n",
    "ax.axhline(STANDARD_CLASSIFIER_R2, color=\"red\", linestyle=\"--\", label=STANDARD_CLASSIFIER+' R2')\n",
    "ax.set(xlabel='k, LSI Embedding Parameter', ylabel='R2 (Average Correlation)', title=TITLE)\n",
    "plt.legend()\n",
    "# plt.savefig(TITLE)"
   ]
  },
  {
   "cell_type": "code",
   "execution_count": null,
   "metadata": {},
   "outputs": [],
   "source": [
    "TITLE = 'R2 results - Clustering SnP (by Industry)'\n",
    "plt.figure(figsize=(16,10))\n",
    "ax = sns.lineplot(data=avg_R2_df, x='k', y='Average R2', hue='Data_src', style='Clustering mtd', sort=False)\n",
    "ax.axhline(STANDARD_CLASSIFIER_R2, color=\"red\", linestyle=\"--\", label=STANDARD_CLASSIFIER+' R2')\n",
    "ax.set(xlabel='k, LSI Embedding Parameter', ylabel='R2 (Average Correlation)', title=TITLE)\n",
    "plt.legend()\n",
    "# plt.savefig(TITLE)"
   ]
  },
  {
   "cell_type": "code",
   "execution_count": null,
   "metadata": {},
   "outputs": [],
   "source": [
    "ax = sns.lineplot(data=avg_R2_df, x='k', y='Average R2', hue='Clustering mtd', style='Data_src', sort=False)\n",
    "ax.axhline(STANDARD_CLASSIFIER_R2, color=\"red\", linestyle=\"--\", label='GICS R2')\n",
    "ax.set(xlabel='k, LSI Embedding Parameter', ylabel='R2 (Average Correlation)', title='R2 results - Clustering Russell')"
   ]
  },
  {
   "cell_type": "markdown",
   "metadata": {},
   "source": [
    "### Method 2a - Inter Industry Variation of firm ratios\n",
    "\n",
    "- The second criterion used is the across-industry variation (Hoberg and Phillips)\n",
    "- Need to handle missing values of ratios\n",
    "- in previous paper they removed outlier so higher score\n",
    "- The higher the score the better"
   ]
  },
  {
   "cell_type": "code",
   "execution_count": null,
   "metadata": {},
   "outputs": [],
   "source": [
    "ticker_ratios_df = pd.read_csv('data_out/russell_ratios_clean.csv') #'data_out/snp_ratios_df.csv'\n",
    "print(ticker_ratios_df.shape)\n",
    "ticker_ratios_df.head()"
   ]
  },
  {
   "cell_type": "code",
   "execution_count": null,
   "metadata": {
    "scrolled": true
   },
   "outputs": [],
   "source": [
    "df2 = pd.merge(ticker_ratios_df, russell_desc_yahoo_df, on='Ticker').iloc[:,[1,2,3,4,5,6,8]]\n",
    "df2.pb_ratio = np.log(df2.pb_ratio)\n",
    "df2.mkt_cap = np.log(df2.mkt_cap)\n",
    "df2.dropna(inplace=True)\n",
    "\n",
    "df2 = df2[(np.abs(stats.zscore(df2.iloc[:,:-1])) < 1.5).all(axis=1)]\n",
    "\n",
    "# s = StandardScaler()\n",
    "# df2.iloc[:,:-1] = s.fit_transform(df2.iloc[:,:-1])\n",
    "\n",
    "# sns.pairplot(df2.iloc[:,:-1])\n",
    "\n",
    "# for i in range(1,7):\n",
    "#     sns.boxplot(x='Sector', y=ticker_ratios_df.columns[i], data=df2)\n",
    "#     plt.show()"
   ]
  },
  {
   "cell_type": "code",
   "execution_count": null,
   "metadata": {
    "scrolled": false
   },
   "outputs": [],
   "source": [
    "sns.boxplot(data=df2.iloc[:,:-1])"
   ]
  },
  {
   "cell_type": "code",
   "execution_count": null,
   "metadata": {},
   "outputs": [],
   "source": [
    "# Normalise values\n",
    "ticker_ratios_normalised_df = ticker_ratios_df.copy()\n",
    "# for header in ticker_ratios_df.columns[1:]:\n",
    "#     col = ticker_ratios_df[header]\n",
    "#     ticker_ratios_normalised_df[header] = (col - col.mean())/col.std()\n",
    "ticker_ratios_normalised_df"
   ]
  },
  {
   "cell_type": "code",
   "execution_count": null,
   "metadata": {
    "scrolled": true
   },
   "outputs": [],
   "source": [
    "# Tickers to remove if no ratio data\n",
    "tickers_with_no_data = [ticker for ticker in all_cluster.Ticker if ticker not in list(ticker_ratios_df.Ticker)]\n",
    "print(tickers_with_no_data)\n",
    "all_cluster_filtered = all_cluster[~all_cluster.Ticker.isin(tickers_with_no_data)].reset_index(drop=True)"
   ]
  },
  {
   "cell_type": "code",
   "execution_count": null,
   "metadata": {},
   "outputs": [],
   "source": [
    "all_cluster_filtered = all_cluster[~all_cluster.Ticker.isin(tickers_with_no_data)].reset_index(drop=True)\n",
    "print(all_cluster_filtered.shape)\n",
    "all_cluster_filtered.head()"
   ]
  },
  {
   "cell_type": "markdown",
   "metadata": {},
   "source": [
    "<font size=\"5\">\n",
    "$$\n",
    "\\sigma_v = \\frac\n",
    "                {\\sqrt{\\sum_{i=0}^{K} n_i \\frac{(v_m - v_i)^2}{N}}}\n",
    "                {\\sqrt{\\sum_{j=0}^{N} \\frac{(v_m - f_j)^2}{N}}            }\n",
    "$$\n",
    "</font>\n",
    "\n",
    "- $K$ - num industries\n",
    "- $N$ - num firms\n",
    "- $n_i$ - num firms in industry i\n",
    "- $v_m$ - overall mean value of characteristic\n",
    "- $v_i$ - mean value of characteristic in industry i\n",
    "- $f_j$ - value of characteristic for firm j\n",
    "\n",
    "\n",
    "- numerator is weighted average, while denomenator is simple average\n",
    "- N will cancel out eventually\n",
    "- the larger this number the more will spread out the avg industry ratios are from the mean ratio\n",
    "- larger the better\n",
    "- should be lesser than 1 (as avg industry ratio shd vary less)\n",
    "- actually normalisation not required, as now the updated method does not combines the 5 ratios together\n"
   ]
  },
  {
   "cell_type": "markdown",
   "metadata": {},
   "source": [
    "- recheck method for Na values"
   ]
  },
  {
   "cell_type": "code",
   "execution_count": null,
   "metadata": {},
   "outputs": [],
   "source": [
    "def cluster_variation(s):\n",
    "    '''\n",
    "    input: series of values from a cluster\n",
    "    output: sum(x - x_bar), sum of absolute distances to cluster center\n",
    "    '''\n",
    "    mean = s.mean() # ignores NaN values\n",
    "    n  = s.count() # count non-NaN values\n",
    "    variation = n * (v_m[s.name] - mean)**2\n",
    "    return variation"
   ]
  },
  {
   "cell_type": "code",
   "execution_count": null,
   "metadata": {},
   "outputs": [],
   "source": [
    "RATIO_NAMES_LIST = list(ticker_ratios_df.columns[1:])\n",
    "all_cluster_with_ratio = pd.merge(all_cluster_filtered, ticker_ratios_normalised_df, on='Ticker')\n",
    "ratio_variation_list = []\n",
    "\n",
    "for cluster_mtd in tqdm(all_cluster_filtered.columns):\n",
    "    if cluster_mtd == 'Ticker':\n",
    "        continue\n",
    "        \n",
    "    filter_df = all_cluster_with_ratio[[cluster_mtd] + RATIO_NAMES_LIST]\n",
    "    v_m = all_cluster_with_ratio[RATIO_NAMES_LIST].mean()\n",
    "    variation_df = filter_df.groupby(cluster_mtd).aggregate(cluster_variation)\n",
    "    variation_series = variation_df.sum()\n",
    "    N_ratios = ticker_ratios_normalised_df[RATIO_NAMES_LIST].count() # count non-NaN values\n",
    "    weighted_deviation_series = np.sqrt(variation_series/N_ratios)\n",
    "\n",
    "    normaliser_series = ticker_ratios_normalised_df[RATIO_NAMES_LIST].std()\n",
    "\n",
    "    sigma_v = list(weighted_deviation_series/normaliser_series)\n",
    "    avg_sigma_v = sum(sigma_v)/len(sigma_v) # mean\n",
    "    if cluster_mtd == STANDARD_CLASSIFIER:\n",
    "        STANDARD_CLASSIFIER_RV = pd.Series(STANDARD_CLASSIFIER_RV, index=RATIO_NAMES_LIST)\n",
    "        STANDARD_CLASSIFIER_AVG_RV = avg_sigma_v\n",
    "    else:\n",
    "        data_src, _, k, clustering_mtd = cluster_mtd.split('_')\n",
    "        row = [data_src, int(k), clustering_mtd] + sigma_v + [avg_sigma_v]\n",
    "        ratio_variation_list.append(row)\n",
    "\n",
    "cols = ['Data_src', 'k', 'Clustering mtd'] + RATIO_NAMES_LIST + ['Average Ratio Variation']\n",
    "ratio_variation_df = pd.DataFrame(ratio_variation_list, columns= cols)"
   ]
  },
  {
   "cell_type": "code",
   "execution_count": null,
   "metadata": {
    "scrolled": true
   },
   "outputs": [],
   "source": [
    "ratio_variation_df.head()"
   ]
  },
  {
   "cell_type": "code",
   "execution_count": null,
   "metadata": {},
   "outputs": [],
   "source": [
    "smart_save(ratio_variation_df, 'data_out/results', INDEX, 'RV')"
   ]
  },
  {
   "cell_type": "code",
   "execution_count": null,
   "metadata": {
    "scrolled": true
   },
   "outputs": [],
   "source": [
    "SELECTED_RATIOS = ['beta', 'profit_margin', 'ROA', 'ROE']\n",
    "for ratio in RATIO_NAMES_LIST:\n",
    "    print(ratio)\n",
    "    grp_df = ratio_variation_df.groupby('Data_src')\n",
    "    best_ratio_df = grp_df.apply(lambda df: df[df[ratio] == df[ratio].max()])\n",
    "    best_ratio_df = best_ratio_df.droplevel(level=1).drop('Data_src', axis=1)\n",
    "    std_ratio = STANDARD_CLASSIFIER_RV[ratio]\n",
    "    print('%.2g'%std_ratio)\n",
    "    best_ratio_df['abs_cng'] = best_ratio_df[ratio] - std_ratio\n",
    "    best_ratio_df['pct_cng'] = (best_ratio_df[ratio] - std_ratio)/std_ratio * 100\n",
    "    best_ratio_df.sort_values('pct_cng', inplace=True, ascending=False)\n",
    "    display(best_ratio_df[:3])\n",
    "    \n",
    "    plt.figure(figsize=(16,10))\n",
    "    ax = sns.lineplot(data=ratio_variation_df, x='k', y=ratio, hue='Data_src', style='Clustering mtd')\n",
    "    ax.axhline(STANDARD_CLASSIFIER_RV[ratio], color=\"black\", linestyle=\"--\", label=STANDARD_CLASSIFIER+' RV')\n",
    "    ax.set(xlabel='k, LSI Embedding Parameter', ylabel='RV', title=TITLE)\n",
    "    plt.legend()\n",
    "    plt.plot()"
   ]
  },
  {
   "cell_type": "code",
   "execution_count": null,
   "metadata": {},
   "outputs": [],
   "source": [
    "corr = ratio_variation_df.iloc[:,3:-1].corr()\n",
    "sns.heatmap(corr)"
   ]
  },
  {
   "cell_type": "code",
   "execution_count": null,
   "metadata": {},
   "outputs": [],
   "source": [
    "TITLE = 'Avg Ratio Variation results - Clustering SnP (by GICS)'\n",
    "print('GICS Ratio Variation (beta): %.2g'%STANDARD_CLASSIFIER_RV[5])\n",
    "plt.figure(figsize=(16,10))\n",
    "ax = sns.lineplot(data=ratio_variation_df, x='k', y='ROE', hue='Data_src', style='Clustering mtd')\n",
    "ax.axhline(STANDARD_CLASSIFIER_RV[5], color=\"black\", linestyle=\"--\", label=STANDARD_CLASSIFIER+' RV')\n",
    "ax.set(xlabel='k, LSI Embedding Parameter', ylabel='RV', title=TITLE)\n",
    "plt.legend()\n",
    "# plt.savefig(TITLE)"
   ]
  },
  {
   "cell_type": "code",
   "execution_count": null,
   "metadata": {},
   "outputs": [],
   "source": [
    "TITLE = 'Avg Ratio Variation results - Clustering Russell (by Sector)'\n",
    "plt.figure(figsize=(16,10))\n",
    "ax = sns.lineplot(data=ratio_variation_df, x='k', y='Average Ratio Variation', hue='Data_src', style='Clustering mtd', sort=False)\n",
    "ax.axhline(STANDARD_CLASSIFIER_AVG_RV, color=\"red\", linestyle=\"--\", label=STANDARD_CLASSIFIER+' RV')\n",
    "ax.set(xlabel='k, LSI Embedding Parameter', ylabel='RV', title=TITLE)\n",
    "plt.legend()\n",
    "# plt.savefig(TITLE)"
   ]
  },
  {
   "cell_type": "code",
   "execution_count": null,
   "metadata": {},
   "outputs": [],
   "source": [
    "TITLE = 'Avg Ratio Variation results - Clustering Russell (by Industry)'\n",
    "plt.figure(figsize=(16,10))\n",
    "ax = sns.lineplot(data=ratio_variation_df, x='k', y='Average Ratio Variation', hue='Data_src', style='Clustering mtd', sort=False)\n",
    "ax.axhline(STANDARD_CLASSIFIER_AVG_RV, color=\"red\", linestyle=\"--\", label=STANDARD_CLASSIFIER+' RV')\n",
    "ax.set(xlabel='k, LSI Embedding Parameter', ylabel='RV', title=TITLE)\n",
    "plt.legend()\n",
    "# plt.savefig(TITLE)"
   ]
  },
  {
   "cell_type": "code",
   "execution_count": null,
   "metadata": {},
   "outputs": [],
   "source": [
    "ax = sns.lineplot(data=avg_ratio_pivot_df, sort=False)\n",
    "ax.axhline(GICS_RATIO, color=\"red\", linestyle=\"--\")\n",
    "ax.set(xlabel='k, LSI Embedding Parameter', ylabel='Average Ratio', title='Variation results - Clustering Russell using yahoo desc')\n",
    "plt.savefig('data_out/images/2_4.png')"
   ]
  },
  {
   "cell_type": "markdown",
   "metadata": {},
   "source": [
    "### Method 3a - Similarity to GICS by probability (among ticker with same GICS classification)\n",
    "\n",
    "- probability that given GICS classifies 2 elements in the same industry, they are in the same categorisation in the clustering method\n",
    "- Note that if you classify all the items in the same class, you will get a score of 1\n",
    "- if you include same or different industry similarity, the similarity scores will be very high because most of the time the classifications will be different\n",
    "- in this case you can do the first method because the number of classes is fixed, so you cant put all as the same class"
   ]
  },
  {
   "cell_type": "code",
   "execution_count": null,
   "metadata": {},
   "outputs": [],
   "source": [
    "all_cluster.head()"
   ]
  },
  {
   "cell_type": "code",
   "execution_count": null,
   "metadata": {
    "scrolled": true
   },
   "outputs": [],
   "source": [
    "temp_df = pd.merge(all_cluster, all_cluster, on=STANDARD_CLASSIFIER)\n",
    "cross_df = temp_df[temp_df.Ticker_x != temp_df.Ticker_y]\n",
    "similarity_list = []\n",
    "\n",
    "for mtd in tqdm(all_cluster.columns):\n",
    "    if mtd not in ['Ticker', 'GICS']:\n",
    "        mtd_x = mtd + '_x'\n",
    "        mtd_y = mtd + '_y'\n",
    "        similarity_score = sum(cross_df[mtd_x] == cross_df[mtd_y])/len(cross_df)\n",
    "        data_src, _, k, clustering_mtd = mtd.split('_')\n",
    "        similarity_list.append([data_src, int(k), clustering_mtd, similarity_score])\n",
    "\n",
    "cols = ['Data_src', 'k', 'Clustering mtd', 'Similarity Probability']\n",
    "similarity_df = pd.DataFrame(similarity_list, columns= cols)"
   ]
  },
  {
   "cell_type": "code",
   "execution_count": null,
   "metadata": {},
   "outputs": [],
   "source": [
    "similarity_df.head()"
   ]
  },
  {
   "cell_type": "code",
   "execution_count": null,
   "metadata": {},
   "outputs": [],
   "source": [
    "grp_df = similarity_df.groupby('Data_src')\n",
    "best_similarity_df = grp_df.apply(lambda df: df[df['Similarity Probability'] == df['Similarity Probability'].max()])\n",
    "best_similarity_df = best_similarity_df.droplevel(level=1).drop('Data_src', axis=1)\n",
    "best_similarity_df.sort_values('Similarity Probability', inplace=True, ascending=False)\n",
    "display(best_similarity_df)"
   ]
  },
  {
   "cell_type": "code",
   "execution_count": null,
   "metadata": {
    "scrolled": false
   },
   "outputs": [],
   "source": [
    "TITLE = 'Similarity Probability'\n",
    "plt.figure(figsize=(16,10))\n",
    "ax = sns.lineplot(data=similarity_df, x='k', y='Similarity Probability', hue='Data_src', style='Clustering mtd')\n",
    "ax.set(xlabel='k, LSI Embedding Parameter', ylabel='Similarity Probability', title=TITLE)\n",
    "plt.legend()\n",
    "# plt.savefig(TITLE)"
   ]
  },
  {
   "cell_type": "markdown",
   "metadata": {},
   "source": [
    "### Method 3b - Adjusted random index\n",
    "\n",
    "- comparing similarity between clusterings\n",
    "- can plot heatmap\n",
    "\n",
    "<font size=\"5\">\n",
    "$$\n",
    "Rand Index, R = \\frac\n",
    "                {a + b}\n",
    "                {n \\choose 2}\n",
    "$$\n",
    "</font>\n",
    "\n",
    "- $a$ - no. of pairs of elements in  same subset in both partitions\n",
    "- $b$ - no. of pairs of elements in  diff subset in both partitions"
   ]
  },
  {
   "cell_type": "code",
   "execution_count": null,
   "metadata": {},
   "outputs": [],
   "source": [
    "mtds_clustering_similarity_list = []\n",
    "\n",
    "for cluster_mtd in tqdm(all_cluster.columns):\n",
    "    if cluster_mtd in ('Ticker', STANDARD_CLASSIFIER):\n",
    "        continue\n",
    "    \n",
    "    similarity_score = adjusted_rand_score(all_cluster[STANDARD_CLASSIFIER], all_cluster[cluster_mtd])\n",
    "    data_src, _, k, clustering_mtd = cluster_mtd.split('_')\n",
    "    mtds_clustering_similarity_list.append([data_src, int(k), clustering_mtd, similarity_score])\n",
    "\n",
    "clustering_similarity_df = pd.DataFrame(mtds_clustering_similarity_list, columns=['Data_src', 'k', 'Clustering mtd', 'Clustering Similarity'])"
   ]
  },
  {
   "cell_type": "code",
   "execution_count": null,
   "metadata": {},
   "outputs": [],
   "source": [
    "clustering_similarity_df.head()"
   ]
  },
  {
   "cell_type": "code",
   "execution_count": null,
   "metadata": {},
   "outputs": [],
   "source": [
    "grp_df = clustering_similarity_df.groupby('Data_src')\n",
    "best_similarity_df = grp_df.apply(lambda df: df[df['Clustering Similarity'] == df['Clustering Similarity'].max()])\n",
    "best_similarity_df = best_similarity_df.droplevel(level=1).drop('Data_src', axis=1)\n",
    "best_similarity_df.sort_values('Clustering Similarity', inplace=True, ascending=False)\n",
    "best_similarity_df"
   ]
  },
  {
   "cell_type": "code",
   "execution_count": null,
   "metadata": {},
   "outputs": [],
   "source": [
    "TITLE = 'Similarity results - Clustering SnP (by GICS)'\n",
    "plt.figure(figsize=(16,10))\n",
    "ax = sns.lineplot(data=clustering_similarity_df, x='k', y='Clustering Similarity', hue='Data_src', style='Clustering mtd')\n",
    "ax.set(xlabel='k, LSI Embedding Parameter', ylabel='Clustering Similarity to GICS', title=TITLE)\n",
    "plt.legend()\n",
    "# plt.savefig(TITLE)"
   ]
  },
  {
   "cell_type": "code",
   "execution_count": null,
   "metadata": {},
   "outputs": [],
   "source": []
  },
  {
   "cell_type": "code",
   "execution_count": null,
   "metadata": {},
   "outputs": [],
   "source": [
    "grp_df = clustering_similarity_df.groupby('Data_src')\n",
    "best_similarity_df = grp_df.apply(lambda df: df[df['Clustering Similarity'] == df['Clustering Similarity'].max()])\n",
    "best_similarity_df = best_similarity_df.droplevel(level=1).drop('Data_src', axis=1)\n",
    "best_similarity_df.sort_values('Clustering Similarity', inplace=True, ascending=False)\n",
    "best_similarity_df"
   ]
  },
  {
   "cell_type": "code",
   "execution_count": null,
   "metadata": {},
   "outputs": [],
   "source": [
    "TITLE = 'Similarity results - Clustering SnP (by GICS)'\n",
    "plt.figure(figsize=(16,10))\n",
    "ax = sns.lineplot(data=clustering_similarity_df, x='k', y='Clustering Similarity', hue='Data_src', style='Clustering mtd')\n",
    "ax.set(xlabel='k, LSI Embedding Parameter', ylabel='Clustering Similarity to GICS', title=TITLE)\n",
    "plt.legend()\n",
    "# plt.savefig(TITLE)"
   ]
  },
  {
   "cell_type": "code",
   "execution_count": null,
   "metadata": {},
   "outputs": [],
   "source": []
  },
  {
   "cell_type": "code",
   "execution_count": null,
   "metadata": {},
   "outputs": [],
   "source": [
    "grp_df = clustering_similarity_df.groupby('Data_src')\n",
    "best_similarity_df = grp_df.apply(lambda df: df[df['Clustering Similarity'] == df['Clustering Similarity'].max()])\n",
    "best_similarity_df = best_similarity_df.droplevel(level=1).drop('Data_src', axis=1)\n",
    "best_similarity_df.sort_values('Clustering Similarity', inplace=True, ascending=False)\n",
    "best_similarity_df"
   ]
  },
  {
   "cell_type": "code",
   "execution_count": null,
   "metadata": {},
   "outputs": [],
   "source": [
    "TITLE = 'Similarity results - Clustering SnP (by GICS)'\n",
    "plt.figure(figsize=(16,10))\n",
    "ax = sns.lineplot(data=clustering_similarity_df, x='k', y='Clustering Similarity', hue='Data_src', style='Clustering mtd')\n",
    "ax.set(xlabel='k, LSI Embedding Parameter', ylabel='Clustering Similarity to GICS', title=TITLE)\n",
    "plt.legend()\n",
    "# plt.savefig(TITLE)"
   ]
  },
  {
   "cell_type": "markdown",
   "metadata": {},
   "source": [
    "### Method 3c - Similarity to GICS by probability of similar classification type among ANY 2 tickers\n",
    "\n",
    "- might be better than Adjusted random index as the number of clusters is fixed so we are not facing cases where we have a clustering assigning all to one cluster\n",
    "- takes much longer\n",
    "\n",
    "<font size=\"5\">\n",
    "$$\n",
    "Similarity Probablity, S = \\frac\n",
    "                {a}\n",
    "                {n \\choose 2}\n",
    "$$\n",
    "</font>"
   ]
  },
  {
   "cell_type": "code",
   "execution_count": null,
   "metadata": {},
   "outputs": [],
   "source": [
    "L = len(all_cluster)\n",
    "similarity_series = pd.Series(0, all_cluster.columns)\n",
    "\n",
    "for i in tnrange(L):\n",
    "    for j in range(L):\n",
    "        if i != j:\n",
    "            similarity = (all_cluster.iloc[i] == all_cluster.iloc[j])\n",
    "            if not similarity.GICS:\n",
    "                similarity = ~similarity\n",
    "            similarity_series += similarity.astype(int)"
   ]
  },
  {
   "cell_type": "code",
   "execution_count": null,
   "metadata": {},
   "outputs": [],
   "source": [
    "similarity_df = pd.DataFrame((similarity_series/similarity_series.GICS)[2:], columns=['Similarity Probability'])"
   ]
  },
  {
   "cell_type": "code",
   "execution_count": null,
   "metadata": {},
   "outputs": [],
   "source": [
    "MTDS = ['kmeans', 'gmm']\n",
    "list_of_dfs = []\n",
    "\n",
    "for mtd in MTDS:\n",
    "    mtd_df = similarity_df.filter(regex=mtd, axis=0)\n",
    "    mtd_df.index = mtd_df.index.map(lambda s: s.split('_')[1])\n",
    "    mtd_df.columns = [mtd] \n",
    "    list_of_dfs.append(mtd_df)\n",
    "\n",
    "similarity_pivot_df = pd.concat(list_of_dfs, axis=1)\n",
    "similarity_pivot_df"
   ]
  },
  {
   "cell_type": "code",
   "execution_count": null,
   "metadata": {},
   "outputs": [],
   "source": [
    "ax = sns.lineplot(data=similarity_pivot_df, sort=False)\n",
    "ax.set(xlabel='k, LSI Embedding Parameter', ylabel='Similarity probability with GICS')"
   ]
  },
  {
   "cell_type": "markdown",
   "metadata": {},
   "source": [
    "## Removed evaluation methods"
   ]
  },
  {
   "cell_type": "markdown",
   "metadata": {},
   "source": [
    "### Method 4 - Majority element ratios (my method)"
   ]
  },
  {
   "cell_type": "code",
   "execution_count": null,
   "metadata": {
    "scrolled": true
   },
   "outputs": [],
   "source": [
    "all_cluster.head()"
   ]
  },
  {
   "cell_type": "code",
   "execution_count": null,
   "metadata": {},
   "outputs": [],
   "source": [
    "# Test\n",
    "all_cluster[all_cluster.GICS == 3]"
   ]
  },
  {
   "cell_type": "code",
   "execution_count": null,
   "metadata": {},
   "outputs": [],
   "source": [
    "def majority_element_proportion(s):\n",
    "    '''\n",
    "    input: series\n",
    "    output: proportion of majority element in series\n",
    "    '''\n",
    "    l = len(s)\n",
    "    n = s.value_counts().iloc[0]\n",
    "    return n/l"
   ]
  },
  {
   "cell_type": "code",
   "execution_count": null,
   "metadata": {},
   "outputs": [],
   "source": [
    "correctness_ratios_df = all_cluster.iloc[:,1:].groupby('GICS').aggregate(majority_element_proportion)"
   ]
  },
  {
   "cell_type": "code",
   "execution_count": null,
   "metadata": {},
   "outputs": [],
   "source": [
    "correctness_ratios_df.plot.bar()\n",
    "# sns.barplot(correctness_ratios_df)"
   ]
  },
  {
   "cell_type": "code",
   "execution_count": null,
   "metadata": {
    "scrolled": false
   },
   "outputs": [],
   "source": [
    "sns.distplot(correctness_ratios_df.iloc[:,0], bins=15)"
   ]
  },
  {
   "cell_type": "markdown",
   "metadata": {},
   "source": [
    "- Since most of the ratios seem to be above the 0.5 ratio, the clustring seems to have clustered pretty closely to GICS standard"
   ]
  },
  {
   "cell_type": "code",
   "execution_count": null,
   "metadata": {},
   "outputs": [],
   "source": []
  },
  {
   "cell_type": "markdown",
   "metadata": {},
   "source": [
    "### Method 2b - Ratio Spread (Absolute distance of to cluster average) (my method)\n",
    "\n",
    "- its like the R2 method applied to ratios, look at each firms ratios absolute distance to its cluster center's ratio\n",
    "- want to see how spread ratios in each cluster are, so the bigger this value the worse\n",
    "- not a good guage i think"
   ]
  },
  {
   "cell_type": "code",
   "execution_count": null,
   "metadata": {},
   "outputs": [],
   "source": [
    "def cluster_distance(s):\n",
    "    '''\n",
    "    input: series\n",
    "    output: sum(x - x_bar), sum of absolute distances to cluster center\n",
    "    '''\n",
    "    mean = s.mean() #ignores NaN values\n",
    "    abs_dist = abs(s-mean).sum()\n",
    "    return abs_dist"
   ]
  },
  {
   "cell_type": "code",
   "execution_count": null,
   "metadata": {},
   "outputs": [],
   "source": [
    "RATIO_NAMES_LIST = list(ticker_ratios_df.columns[1:])\n",
    "all_cluster_with_ratio = pd.merge(all_cluster_filtered, ticker_ratios_normalised_df, on='Ticker')\n",
    "ratio_distances_dict = {}\n",
    "\n",
    "for cluster_mtd in tqdm(all_cluster_filtered.columns):\n",
    "    if cluster_mtd == 'Ticker':\n",
    "        continue\n",
    "    \n",
    "    filter_df = all_cluster_with_ratio[[cluster_mtd] + RATIO_NAMES_LIST]\n",
    "    ratio_distance_sum = filter_df.groupby(cluster_mtd).aggregate(cluster_distance).sum()\n",
    "    non_na_count_series = filter_df.count()[1:]\n",
    "    ratio_distance_avg_list = list(ratio_distance_sum/non_na_count_series)\n",
    "    ratio_distances_dict[cluster_mtd] = ratio_distance_avg_list\n",
    "    \n",
    "ratio_distances_df = pd.DataFrame.from_dict(ratio_distances_dict, orient='index', columns=RATIO_NAMES_LIST)"
   ]
  },
  {
   "cell_type": "code",
   "execution_count": null,
   "metadata": {
    "scrolled": true
   },
   "outputs": [],
   "source": [
    "ratio_distances_df['Average Ratio Cluster Spread'] = ratio_distances_df.mean(axis=1)\n",
    "ratio_distances_df"
   ]
  },
  {
   "cell_type": "code",
   "execution_count": null,
   "metadata": {},
   "outputs": [],
   "source": []
  },
  {
   "cell_type": "markdown",
   "metadata": {},
   "source": [
    "# Extra"
   ]
  },
  {
   "cell_type": "markdown",
   "metadata": {},
   "source": [
    "### Cosine Similarity\n",
    "\n",
    "- taking too long to run"
   ]
  },
  {
   "cell_type": "code",
   "execution_count": null,
   "metadata": {},
   "outputs": [],
   "source": [
    "x = [((1,),(2,),3), ((4,),(1458,),6)]\n",
    "\n",
    "mcorr = ((1458,), (1830,), 1.0000000000000004)\n",
    "list(filter(lambda tup: (tup[0] not in mcorr) and (tup[1] not in mcorr), x))"
   ]
  },
  {
   "cell_type": "code",
   "execution_count": null,
   "metadata": {},
   "outputs": [],
   "source": [
    "((1,2), (4,)) in (1,)"
   ]
  },
  {
   "cell_type": "code",
   "execution_count": null,
   "metadata": {},
   "outputs": [],
   "source": [
    "def cosine_similarity(dtm):\n",
    "    '''\n",
    "    input: Doc Matrix\n",
    "    output: list of lists indicating clusters\n",
    "    '''\n",
    "    corr = np.asarray(np.asmatrix(dtm) * np.asmatrix(dtm).T)\n",
    "    L = corr.shape[0]\n",
    "    \n",
    "    cluster_corrs = []\n",
    "    for i in range(L):\n",
    "        for j in range(i+1,L):\n",
    "            corr_tuple = ((i,), (j,), corr[i][j])\n",
    "            cluster_corrs.append(corr_tuple)\n",
    "            \n",
    "    cluster_list = [(i,) for i in range(L)]\n",
    "    \n",
    "    num_iter = L - NUM_INDUSTRIES\n",
    "    for x in range(num_iter):\n",
    "        max_corr_tup = max(cluster_corrs, key = lambda tup: tup[2])\n",
    "        # filters ur max_corr_tup also\n",
    "        print(max_corr_tup)\n",
    "        cluster_corrs = list(filter(lambda tup: (tup[0] not in max_corr_tup) and (tup[1] not in max_corr_tup),cluster_corrs))\n",
    "        new_cluster = max_corr_tup[0] + max_corr_tup[1] # concatenate tups\n",
    "        cluster_list.remove(max_corr_tup[0])\n",
    "        cluster_list.remove(max_corr_tup[1])\n",
    "        for cluster in cluster_list:\n",
    "            # Similarity\n",
    "            n = len(new_cluster) * len(cluster)\n",
    "            total_similarity = 0\n",
    "            for cpy_1 in new_cluster:\n",
    "                for cpy_2 in cluster:\n",
    "                    total_similarity += corr[cpy_1][cpy_2]\n",
    "            similarity = total_similarity / n\n",
    "            corr_tuple = (new_cluster, cluster, similarity)\n",
    "            cluster_corrs.append(corr_tuple)\n",
    "        cluster_list.append(new_cluster)\n",
    "    \n",
    "    if len(cluster_list) != NUM_INDUSTRIES:\n",
    "        raise Exception()\n",
    "        \n",
    "    pred = np.full(N, -1)\n",
    "    for i in range(NUM_INDUSTRIES):\n",
    "        cluster = list(cluster_list[i])\n",
    "        pred[cluster] = [i] * len(cluster)\n",
    "    return pred"
   ]
  },
  {
   "cell_type": "code",
   "execution_count": null,
   "metadata": {},
   "outputs": [],
   "source": [
    "cosine_similarity(dtm_lsa)"
   ]
  },
  {
   "cell_type": "code",
   "execution_count": null,
   "metadata": {},
   "outputs": [],
   "source": [
    "dtmx = dtm_lsa\n",
    "corr = np.asarray(np.asmatrix(dtmx) * np.asmatrix(dtmx).T)\n",
    "L = corr.shape[0]\n",
    "\n",
    "cluster_corrs = []\n",
    "for i in range(L):\n",
    "    for j in range(i+1,L):\n",
    "        corr_tuple = ((i,), (j,), corr[i][j])\n",
    "        cluster_corrs.append(corr_tuple)\n",
    "\n",
    "cluster_list = [(i,) for i in range(L)]\n",
    "\n",
    "num_iter = L - NUM_INDUSTRIES\n",
    "for x in range(num_iter):\n",
    "    max_corr_tup = max(cluster_corrs, key = lambda tup: tup[2])\n",
    "    # filters ur max_corr_tup also\n",
    "    print(max_corr_tup)\n",
    "    cluster_corrs = list(filter(lambda tup: (tup[0] not in max_corr_tup) and (tup[1] not in max_corr_tup),cluster_corrs))\n",
    "    new_cluster = max_corr_tup[0] + max_corr_tup[1] # concatenate tups\n",
    "    cluster_list.remove(max_corr_tup[0])\n",
    "    cluster_list.remove(max_corr_tup[1])\n",
    "    for cluster in cluster_list:\n",
    "        # Similarity\n",
    "        n = len(new_cluster) * len(cluster)\n",
    "        total_similarity = 0\n",
    "        for cpy_1 in new_cluster:\n",
    "            for cpy_2 in cluster:\n",
    "                total_similarity += corr[cpy_1][cpy_2]\n",
    "        similarity = total_similarity / n\n",
    "        corr_tuple = (new_cluster, cluster, similarity)\n",
    "        cluster_corrs.append(corr_tuple)\n",
    "    cluster_list.append(new_cluster)\n",
    "\n",
    "if len(cluster_list) != NUM_INDUSTRIES:\n",
    "    raise Exception()\n",
    "\n",
    "pred = np.full(N, -1)\n",
    "for i in range(NUM_INDUSTRIES):\n",
    "    cluster = list(cluster_list[i])\n",
    "    pred[cluster] = [i] * len(cluster)"
   ]
  },
  {
   "cell_type": "code",
   "execution_count": null,
   "metadata": {},
   "outputs": [],
   "source": [
    "def t(tup):\n",
    "    print((tup[0] not in max_corr_tup), (tup[1] not in max_corr_tup))\n",
    "    return (tup[0] not in max_corr_tup) and (tup[1] not in max_corr_tup)\n",
    "list(filter(t,cluster_corrs))"
   ]
  },
  {
   "cell_type": "markdown",
   "metadata": {},
   "source": [
    "### Testing"
   ]
  },
  {
   "cell_type": "markdown",
   "metadata": {},
   "source": [
    "##### LSA Word Embedding (Test)"
   ]
  },
  {
   "cell_type": "code",
   "execution_count": null,
   "metadata": {},
   "outputs": [],
   "source": [
    "lsa = TruncatedSVD(200, algorithm = 'arpack')\n",
    "dtm_lsa = lsa.fit_transform(dtms[0])\n",
    "dtm_lsa = Normalizer(copy=False).fit_transform(dtm_lsa) # normalisae so each vector is len 1"
   ]
  },
  {
   "cell_type": "code",
   "execution_count": null,
   "metadata": {
    "scrolled": true
   },
   "outputs": [],
   "source": [
    "pd.DataFrame(dtm_lsa).head()"
   ]
  },
  {
   "cell_type": "markdown",
   "metadata": {},
   "source": [
    "##### K - Means"
   ]
  },
  {
   "cell_type": "code",
   "execution_count": null,
   "metadata": {
    "scrolled": true
   },
   "outputs": [],
   "source": [
    "# defining the kmeans function with initialization as k-means++\n",
    "kmeans = KMeans(n_clusters=NUM_INDUSTRIES, init='k-means++')\n",
    "# fitting the k means algorithm on scaled data\n",
    "kmeans.fit(dtm_lsa)\n",
    "pred = kmeans.predict(dtm_lsa)\n",
    "# pd.concat([df[['company']], pd.DataFrame(pred)], axis=1).head()\n",
    "pred"
   ]
  },
  {
   "cell_type": "markdown",
   "metadata": {},
   "source": [
    "##### #d Visualisation"
   ]
  },
  {
   "cell_type": "code",
   "execution_count": null,
   "metadata": {},
   "outputs": [],
   "source": [
    "ax = plt.axes(projection='3d')\n",
    "ax.scatter(dtm_lsa[:,0], dtm_lsa[:,1], dtm_lsa[:,2], c=DESC_DFS[0].GICS, cmap='viridis')"
   ]
  },
  {
   "cell_type": "markdown",
   "metadata": {},
   "source": [
    "### Old Code"
   ]
  },
  {
   "cell_type": "markdown",
   "metadata": {},
   "source": [
    "##### R2 Evaluation (longer code)"
   ]
  },
  {
   "cell_type": "code",
   "execution_count": null,
   "metadata": {
    "scrolled": true
   },
   "outputs": [],
   "source": [
    "# R2_dict = {}\n",
    "\n",
    "# for cluster_mtd in tqdm(all_cluster_filtered.columns):\n",
    "#     if cluster_mtd == 'Ticker':\n",
    "#         continue\n",
    "    \n",
    "#     R2_list = []\n",
    "#     for i in range(NUM_INDUSTRIES):\n",
    "#         cluster_tickers = all_cluster_filtered[all_cluster_filtered[cluster_mtd] == i].Ticker\n",
    "#         cluster_ticker_returns = ticker_return_df[cluster_tickers]\n",
    "#         mean_return = cluster_ticker_returns.mean(axis=1)\n",
    "#         cluster_R2 = [mean_return.corr(ticker_returns) for _, ticker_returns in cluster_ticker_returns.iteritems()]\n",
    "#         R2_list.extend(cluster_R2)\n",
    "#     avg_R2 = sum(R2_list)/len(R2_list)\n",
    "#     R2_dict[cluster_mtd] = avg_R2\n",
    "\n",
    "# avg_R2_df = pd.DataFrame.from_dict(R2_dict, orient='index', columns=['Average R2'])"
   ]
  },
  {
   "cell_type": "code",
   "execution_count": null,
   "metadata": {},
   "outputs": [],
   "source": [
    "# GICS_R2 = R2_dict['GICS']\n",
    "# MTDS = ['kmeans', 'gmm']\n",
    "# list_of_dfs = []\n",
    "\n",
    "# for mtd in MTDS:\n",
    "#     mtd_df = avg_R2_df.filter(regex=mtd, axis=0)\n",
    "#     mtd_df.index = mtd_df.index.map(lambda s: s.split('_')[1])\n",
    "#     mtd_df.columns = [mtd]  #(columns = {'test':'TEST'}, inplace = True) \n",
    "#     list_of_dfs.append(mtd_df)\n",
    "\n",
    "# avg_R2_pivot_df = pd.concat(list_of_dfs, axis=1)\n",
    "# print(GICS_R2)\n",
    "# avg_R2_pivot_df"
   ]
  },
  {
   "cell_type": "markdown",
   "metadata": {},
   "source": [
    "##### RV Evaluation (longer code)"
   ]
  },
  {
   "cell_type": "code",
   "execution_count": null,
   "metadata": {},
   "outputs": [],
   "source": [
    "# RATIO_NAMES_LIST = list(ticker_ratios_df.columns[1:])\n",
    "# all_cluster_with_ratio = pd.merge(all_cluster_filtered, ticker_ratios_normalised_df, on='Ticker')\n",
    "# ratio_variation_dict = {}\n",
    "\n",
    "# for cluster_mtd in tqdm(all_cluster_filtered.columns):\n",
    "#     if cluster_mtd == 'Ticker':\n",
    "#         continue\n",
    "        \n",
    "#     filter_df = all_cluster_with_ratio[[cluster_mtd] + RATIO_NAMES_LIST]\n",
    "#     v_m = all_cluster_with_ratio[RATIO_NAMES_LIST].mean()\n",
    "#     variation_df = filter_df.groupby(cluster_mtd).aggregate(cluster_variation)\n",
    "#     variation_series = variation_df.sum()\n",
    "#     N_ratios = ticker_ratios_normalised_df[RATIO_NAMES_LIST].count() # count non-NaN values\n",
    "\n",
    "#     normaliser_series = ticker_ratios_normalised_df[RATIO_NAMES_LIST].std()\n",
    "\n",
    "#     sigma_v = list(np.sqrt(variation_series/N_ratios) / normaliser_series)\n",
    "#     ratio_variation_dict[cluster_mtd] = sigma_v\n",
    "\n",
    "# ratio_variation_df = pd.DataFrame.from_dict(ratio_variation_dict, orient='index', columns=RATIO_NAMES_LIST)\n",
    "# ratio_variation_df['Average Ratio Variation'] = ratio_variation_df.mean(axis=1)"
   ]
  },
  {
   "cell_type": "code",
   "execution_count": null,
   "metadata": {},
   "outputs": [],
   "source": [
    "# avg_ratio_df = ratio_variation_df[['Average Ratio Variation']]\n",
    "# GICS_RATIO = ratio_variation_df.loc['GICS', 'Average Ratio Variation']\n",
    "# MTDS = ['kmeans', 'gmm']\n",
    "# list_of_dfs = []\n",
    "\n",
    "# for mtd in MTDS:\n",
    "#     mtd_df = avg_ratio_df.filter(regex=mtd, axis=0)\n",
    "#     mtd_df.index = mtd_df.index.map(lambda s: s.split('_')[1])\n",
    "#     mtd_df.columns = [mtd]  #(columns = {'test':'TEST'}, inplace = True) \n",
    "#     list_of_dfs.append(mtd_df)\n",
    "\n",
    "# avg_ratio_pivot_df = pd.concat(list_of_dfs, axis=1)\n",
    "# print(GICS_RATIO)\n",
    "# avg_ratio_pivot_df"
   ]
  },
  {
   "cell_type": "markdown",
   "metadata": {},
   "source": [
    "### Random"
   ]
  },
  {
   "cell_type": "markdown",
   "metadata": {},
   "source": [
    "##### Cosine Similarity"
   ]
  },
  {
   "cell_type": "code",
   "execution_count": null,
   "metadata": {
    "scrolled": true
   },
   "outputs": [],
   "source": [
    "# Plotting for 2D\n",
    "%pylab inline\n",
    "\n",
    "xs = [w[0] for w in dtm_lsa]\n",
    "ys = [w[1] for w in dtm_lsa]\n",
    "xs, ys\n",
    "\n",
    "figure()\n",
    "plt.scatter(xs,ys)\n",
    "xlabel('First principal component')\n",
    "ylabel('Second principal component')\n",
    "title('Plot of points against LSA principal components')"
   ]
  },
  {
   "cell_type": "code",
   "execution_count": null,
   "metadata": {},
   "outputs": [],
   "source": [
    "def cosine_similarity(dtm):\n",
    "    '''\n",
    "    input: Doc Matrix\n",
    "    output: list of lists indicating clusters\n",
    "    '''\n",
    "    corr = np.asarray(numpy.asmatrix(dtm_lsa) * numpy.asmatrix(dtm_lsa).T)\n",
    "    \n",
    "    L = dtm.shape[0]\n",
    "    clusters = [[i] for i in range(L)]\n",
    "    \n",
    "    while (len(clusters) != NUM_INDUSTRIES):\n",
    "        L = len(clusters)\n",
    "        max_similarity = -1\n",
    "        max_similarity_clusters = (None, None)\n",
    "        for i in range(L):\n",
    "            for j in range(i+1,L):\n",
    "                cluster_1 = clusters[i]\n",
    "                cluster_2 = clusters[j]\n",
    "                n = len(cluster_1) * len(cluster_2)\n",
    "                \n",
    "                # Similarity\n",
    "                total_similarity = 0\n",
    "                for cpy_1 in cluster_1:\n",
    "                    for cpy_2 in cluster_2:\n",
    "                        print(cpy_1, cpy_2)\n",
    "                        total_similarity += corr[cpy_1][cpy_2]\n",
    "                similarity = total_similarity / n\n",
    "                \n",
    "                if similarity > max_similarity:\n",
    "                    max_similarity = similarity \n",
    "                    max_similarity_clusters = (i, j)\n",
    "        \n",
    "        # Merge max_similarity clusters\n",
    "        cluster_merge = clusters.pop(max_similarity_clusters[1])\n",
    "        clusters[max_similarity_clusters[0]].append(cluster_merge)\n",
    "        print(L)\n",
    "    return clusters"
   ]
  },
  {
   "cell_type": "markdown",
   "metadata": {},
   "source": [
    "|Embedding model|R2|proportion of right classification|\n",
    "|----------------|--------|--------|\n",
    "| LSI length 200 | 0.4537 | 0.4962 |\n",
    "| LSI length 300 | 0.4459 | 0.4768 |\n",
    "| LSI length 400 | 0.4421 | 0.4072 |\n",
    "| LSI length 500 | 0.4554 | 0.4244 |\n",
    "| LSI length 600 | 0.4362 | 0.4409 |\n",
    "| LSI length 700 | 0.4407 | 0.3842 |\n",
    "| LSI length 800 | 0.4417 | 0.4921 |\n",
    "| LSI length 900 | 0.4478 | 0.4005 |\n",
    "| LSI length 1000 | 0.4403 | 0.4068 |\n",
    "| LSI length 1100 | 0.4380 | 0.3933 |"
   ]
  },
  {
   "cell_type": "code",
   "execution_count": null,
   "metadata": {},
   "outputs": [],
   "source": []
  }
 ],
 "metadata": {
  "kernelspec": {
   "display_name": "Python 3",
   "language": "python",
   "name": "python3"
  },
  "language_info": {
   "codemirror_mode": {
    "name": "ipython",
    "version": 3
   },
   "file_extension": ".py",
   "mimetype": "text/x-python",
   "name": "python",
   "nbconvert_exporter": "python",
   "pygments_lexer": "ipython3",
   "version": "3.6.2"
  }
 },
 "nbformat": 4,
 "nbformat_minor": 2
}

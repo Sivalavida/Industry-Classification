{
 "cells": [
  {
   "cell_type": "markdown",
   "metadata": {},
   "source": [
    "# LSI Word Embedding using K-means, Gaussian Mixture and Cosine Similarity as Clustering"
   ]
  },
  {
   "cell_type": "code",
   "execution_count": 1,
   "metadata": {},
   "outputs": [],
   "source": [
    "import os.path\n",
    "\n",
    "from gensim import corpora\n",
    "from gensim.models import LsiModel\n",
    "from gensim.models.coherencemodel import CoherenceModel\n",
    "\n",
    "from nltk.tokenize import RegexpTokenizer\n",
    "from nltk.corpus import stopwords\n",
    "from nltk.stem.porter import PorterStemmer\n",
    "\n",
    "from sklearn.decomposition import TruncatedSVD\n",
    "from sklearn.preprocessing import Normalizer\n",
    "from sklearn.feature_extraction.text import TfidfVectorizer\n",
    "from sklearn.cluster import KMeans\n",
    "from sklearn.mixture import GaussianMixture\n",
    "\n",
    "# from clustering_class import *\n",
    "# from new_combine_models import *\n",
    "# from DEC import *\n",
    "# from generate_word_vector import *\n",
    "\n",
    "from tqdm.notebook import tqdm, tnrange\n",
    "import numpy as np\n",
    "import matplotlib.pyplot as plt\n",
    "import pandas as pd\n",
    "import seaborn as sns\n",
    "import math"
   ]
  },
  {
   "cell_type": "code",
   "execution_count": 2,
   "metadata": {},
   "outputs": [],
   "source": [
    "pd.set_option('display.max_rows', 50)\n",
    "plt.rcParams['figure.figsize'] = [17, 6]\n",
    "plt.rcParams.update({'font.size': 12})"
   ]
  },
  {
   "cell_type": "code",
   "execution_count": 3,
   "metadata": {},
   "outputs": [
    {
     "data": {
      "text/html": [
       "<style>\n",
       "table {float:center}\n",
       "</style>"
      ],
      "text/plain": [
       "<IPython.core.display.HTML object>"
      ]
     },
     "metadata": {},
     "output_type": "display_data"
    }
   ],
   "source": [
    "%%html\n",
    "<style>\n",
    "table {float:center}\n",
    "</style>"
   ]
  },
  {
   "cell_type": "markdown",
   "metadata": {},
   "source": [
    "# Read and Merge files"
   ]
  },
  {
   "cell_type": "markdown",
   "metadata": {},
   "source": [
    "##### Ticker to GICS (version 1)\n",
    "\n",
    "- data from prof (bloomberg)"
   ]
  },
  {
   "cell_type": "code",
   "execution_count": null,
   "metadata": {},
   "outputs": [],
   "source": [
    "ticker_to_gics_df = pd.read_csv('data_out/ticker_to_gics_bloomberg.csv', index_col=0)\n",
    "ticker_to_gics_df.Ticker = ticker_to_gics_df.Ticker.str.replace('/','-')\n",
    "ticker_to_gics_df"
   ]
  },
  {
   "cell_type": "markdown",
   "metadata": {},
   "source": [
    "##### Ticker to GICS (version 2)\n",
    "\n",
    "- data from previous code (not sure where origin)\n",
    "- more data"
   ]
  },
  {
   "cell_type": "code",
   "execution_count": 4,
   "metadata": {},
   "outputs": [
    {
     "data": {
      "text/html": [
       "<div>\n",
       "<style scoped>\n",
       "    .dataframe tbody tr th:only-of-type {\n",
       "        vertical-align: middle;\n",
       "    }\n",
       "\n",
       "    .dataframe tbody tr th {\n",
       "        vertical-align: top;\n",
       "    }\n",
       "\n",
       "    .dataframe thead th {\n",
       "        text-align: right;\n",
       "    }\n",
       "</style>\n",
       "<table border=\"1\" class=\"dataframe\">\n",
       "  <thead>\n",
       "    <tr style=\"text-align: right;\">\n",
       "      <th></th>\n",
       "      <th>Ticker</th>\n",
       "      <th>GICS</th>\n",
       "    </tr>\n",
       "  </thead>\n",
       "  <tbody>\n",
       "    <tr>\n",
       "      <th>0</th>\n",
       "      <td>A</td>\n",
       "      <td>352030</td>\n",
       "    </tr>\n",
       "    <tr>\n",
       "      <th>1</th>\n",
       "      <td>AA</td>\n",
       "      <td>151040</td>\n",
       "    </tr>\n",
       "    <tr>\n",
       "      <th>2</th>\n",
       "      <td>AAL</td>\n",
       "      <td>203020</td>\n",
       "    </tr>\n",
       "    <tr>\n",
       "      <th>3</th>\n",
       "      <td>AAN</td>\n",
       "      <td>255040</td>\n",
       "    </tr>\n",
       "    <tr>\n",
       "      <th>4</th>\n",
       "      <td>AAOI</td>\n",
       "      <td>452010</td>\n",
       "    </tr>\n",
       "    <tr>\n",
       "      <th>...</th>\n",
       "      <td>...</td>\n",
       "      <td>...</td>\n",
       "    </tr>\n",
       "    <tr>\n",
       "      <th>2959</th>\n",
       "      <td>ZTS</td>\n",
       "      <td>352020</td>\n",
       "    </tr>\n",
       "    <tr>\n",
       "      <th>2960</th>\n",
       "      <td>ZUMZ</td>\n",
       "      <td>255040</td>\n",
       "    </tr>\n",
       "    <tr>\n",
       "      <th>2961</th>\n",
       "      <td>ZUO</td>\n",
       "      <td>451030</td>\n",
       "    </tr>\n",
       "    <tr>\n",
       "      <th>2962</th>\n",
       "      <td>ZYNE</td>\n",
       "      <td>352020</td>\n",
       "    </tr>\n",
       "    <tr>\n",
       "      <th>2963</th>\n",
       "      <td>ZYXI</td>\n",
       "      <td>351010</td>\n",
       "    </tr>\n",
       "  </tbody>\n",
       "</table>\n",
       "<p>2964 rows × 2 columns</p>\n",
       "</div>"
      ],
      "text/plain": [
       "     Ticker    GICS\n",
       "0         A  352030\n",
       "1        AA  151040\n",
       "2       AAL  203020\n",
       "3       AAN  255040\n",
       "4      AAOI  452010\n",
       "...     ...     ...\n",
       "2959    ZTS  352020\n",
       "2960   ZUMZ  255040\n",
       "2961    ZUO  451030\n",
       "2962   ZYNE  352020\n",
       "2963   ZYXI  351010\n",
       "\n",
       "[2964 rows x 2 columns]"
      ]
     },
     "execution_count": 4,
     "metadata": {},
     "output_type": "execute_result"
    }
   ],
   "source": [
    "ticker_to_gics_df = pd.read_csv('data_in/ticker_to_gics.csv', names=['Ticker', 'GICS'])\n",
    "ticker_to_gics_df.Ticker = ticker_to_gics_df.Ticker.str.replace('/','-')\n",
    "ticker_to_gics_df.GICS = ticker_to_gics_df.GICS.apply(lambda x: str(x)[:6])\n",
    "ticker_to_gics_df"
   ]
  },
  {
   "cell_type": "markdown",
   "metadata": {},
   "source": [
    "##### SnP Descriptions (from 10K)"
   ]
  },
  {
   "cell_type": "code",
   "execution_count": 5,
   "metadata": {},
   "outputs": [],
   "source": [
    "snp_desc_10K_df = pd.read_pickle('data_out/snp_desc_10K.pkl')"
   ]
  },
  {
   "cell_type": "code",
   "execution_count": 6,
   "metadata": {
    "scrolled": true
   },
   "outputs": [],
   "source": [
    "# [ticker for ticker in snp_desc_10K_df.Ticker if ticker not in list(ticker_to_gics_df.Ticker)]"
   ]
  },
  {
   "cell_type": "code",
   "execution_count": 7,
   "metadata": {},
   "outputs": [],
   "source": [
    "snp_desc_10K_df = pd.merge(snp_desc_10K_df, ticker_to_gics_df, on='Ticker')\n",
    "snp_desc_10K_df = snp_desc_10K_df[['Ticker', 'Description', 'GICS']]\n",
    "snp_desc_10K_df.GICS = pd.Categorical(snp_desc_10K_df.GICS)"
   ]
  },
  {
   "cell_type": "code",
   "execution_count": 8,
   "metadata": {},
   "outputs": [
    {
     "data": {
      "text/html": [
       "<div>\n",
       "<style scoped>\n",
       "    .dataframe tbody tr th:only-of-type {\n",
       "        vertical-align: middle;\n",
       "    }\n",
       "\n",
       "    .dataframe tbody tr th {\n",
       "        vertical-align: top;\n",
       "    }\n",
       "\n",
       "    .dataframe thead th {\n",
       "        text-align: right;\n",
       "    }\n",
       "</style>\n",
       "<table border=\"1\" class=\"dataframe\">\n",
       "  <thead>\n",
       "    <tr style=\"text-align: right;\">\n",
       "      <th></th>\n",
       "      <th>Ticker</th>\n",
       "      <th>Description</th>\n",
       "      <th>GICS</th>\n",
       "    </tr>\n",
       "  </thead>\n",
       "  <tbody>\n",
       "    <tr>\n",
       "      <th>0</th>\n",
       "      <td>AAL</td>\n",
       "      <td>PART I   ITEM 1. BUSINESS  Overview  American ...</td>\n",
       "      <td>203020</td>\n",
       "    </tr>\n",
       "    <tr>\n",
       "      <th>1</th>\n",
       "      <td>AAPL</td>\n",
       "      <td>PART I  Item 1.Business  Company Background  T...</td>\n",
       "      <td>452020</td>\n",
       "    </tr>\n",
       "    <tr>\n",
       "      <th>2</th>\n",
       "      <td>AAP</td>\n",
       "      <td>PART I  Item 1. Business.  Unless the context ...</td>\n",
       "      <td>255040</td>\n",
       "    </tr>\n",
       "    <tr>\n",
       "      <th>3</th>\n",
       "      <td>ABBV</td>\n",
       "      <td>PART I  ITEM 1. BUSINESS  Overview  AbbVie(1) ...</td>\n",
       "      <td>352010</td>\n",
       "    </tr>\n",
       "    <tr>\n",
       "      <th>4</th>\n",
       "      <td>ABC</td>\n",
       "      <td>PART I  ITEM 1. BUSINESS  As used herein  the ...</td>\n",
       "      <td>351020</td>\n",
       "    </tr>\n",
       "    <tr>\n",
       "      <th>...</th>\n",
       "      <td>...</td>\n",
       "      <td>...</td>\n",
       "      <td>...</td>\n",
       "    </tr>\n",
       "    <tr>\n",
       "      <th>406</th>\n",
       "      <td>XYL</td>\n",
       "      <td>ITEM 1. BUSINESS  Business Overview  Xylem  wi...</td>\n",
       "      <td>201060</td>\n",
       "    </tr>\n",
       "    <tr>\n",
       "      <th>407</th>\n",
       "      <td>YUM</td>\n",
       "      <td>PART I  Item 1.Business.  Yum! Brands  Inc. (r...</td>\n",
       "      <td>253010</td>\n",
       "    </tr>\n",
       "    <tr>\n",
       "      <th>408</th>\n",
       "      <td>ZBH</td>\n",
       "      <td>PART I   Item 1.    Business   Overview   Zimm...</td>\n",
       "      <td>351010</td>\n",
       "    </tr>\n",
       "    <tr>\n",
       "      <th>409</th>\n",
       "      <td>ZION</td>\n",
       "      <td>ITEM 1. BUSINESS  DESCRIPTION OF BUSINESS  Zio...</td>\n",
       "      <td>401010</td>\n",
       "    </tr>\n",
       "    <tr>\n",
       "      <th>410</th>\n",
       "      <td>ZTS</td>\n",
       "      <td>PART I  Item 1. Business.  Overview   Zoetis I...</td>\n",
       "      <td>352020</td>\n",
       "    </tr>\n",
       "  </tbody>\n",
       "</table>\n",
       "<p>411 rows × 3 columns</p>\n",
       "</div>"
      ],
      "text/plain": [
       "    Ticker                                        Description    GICS\n",
       "0      AAL  PART I   ITEM 1. BUSINESS  Overview  American ...  203020\n",
       "1     AAPL  PART I  Item 1.Business  Company Background  T...  452020\n",
       "2      AAP  PART I  Item 1. Business.  Unless the context ...  255040\n",
       "3     ABBV  PART I  ITEM 1. BUSINESS  Overview  AbbVie(1) ...  352010\n",
       "4      ABC  PART I  ITEM 1. BUSINESS  As used herein  the ...  351020\n",
       "..     ...                                                ...     ...\n",
       "406    XYL  ITEM 1. BUSINESS  Business Overview  Xylem  wi...  201060\n",
       "407    YUM  PART I  Item 1.Business.  Yum! Brands  Inc. (r...  253010\n",
       "408    ZBH  PART I   Item 1.    Business   Overview   Zimm...  351010\n",
       "409   ZION  ITEM 1. BUSINESS  DESCRIPTION OF BUSINESS  Zio...  401010\n",
       "410    ZTS  PART I  Item 1. Business.  Overview   Zoetis I...  352020\n",
       "\n",
       "[411 rows x 3 columns]"
      ]
     },
     "execution_count": 8,
     "metadata": {},
     "output_type": "execute_result"
    }
   ],
   "source": [
    "snp_desc_10K_df"
   ]
  },
  {
   "cell_type": "code",
   "execution_count": 9,
   "metadata": {},
   "outputs": [
    {
     "name": "stdout",
     "output_type": "stream",
     "text": [
      "60\n"
     ]
    }
   ],
   "source": [
    "print(len(set(snp_desc_10K_df.GICS)))"
   ]
  },
  {
   "cell_type": "code",
   "execution_count": null,
   "metadata": {
    "scrolled": true
   },
   "outputs": [],
   "source": [
    "[t for t in snp_desc_10K_df.Ticker if t not in list(snp_desc_yahoo_df.Ticker)]"
   ]
  },
  {
   "cell_type": "code",
   "execution_count": null,
   "metadata": {
    "scrolled": true
   },
   "outputs": [],
   "source": [
    "[t for t in snp_desc_yahoo_df.Ticker if t not in list(snp_desc_10K_df.Ticker)]"
   ]
  },
  {
   "cell_type": "markdown",
   "metadata": {},
   "source": [
    "- There seems to be alot of non-overlapping tickers in both snp data"
   ]
  },
  {
   "cell_type": "markdown",
   "metadata": {},
   "source": [
    "##### SnP Descriptions (from yahoo)"
   ]
  },
  {
   "cell_type": "code",
   "execution_count": 46,
   "metadata": {},
   "outputs": [],
   "source": [
    "snp_desc_yahoo_df = pd.read_csv('yahoo_spiders/data_out/snp_desc_yahoo.csv', ).dropna().reset_index(drop=True)\n",
    "\n",
    "snp_desc_yahoo_df = pd.merge(snp_desc_yahoo_df, ticker_to_gics_df, on='Ticker')\n",
    "\n",
    "snp_desc_yahoo_df.GICS = pd.Categorical(snp_desc_yahoo_df.GICS)\n",
    "snp_desc_yahoo_df.Industry = pd.Categorical(snp_desc_yahoo_df.Industry)\n",
    "snp_desc_yahoo_df.Sector = pd.Categorical(snp_desc_yahoo_df.Sector)"
   ]
  },
  {
   "cell_type": "code",
   "execution_count": 47,
   "metadata": {},
   "outputs": [
    {
     "data": {
      "text/html": [
       "<div>\n",
       "<style scoped>\n",
       "    .dataframe tbody tr th:only-of-type {\n",
       "        vertical-align: middle;\n",
       "    }\n",
       "\n",
       "    .dataframe tbody tr th {\n",
       "        vertical-align: top;\n",
       "    }\n",
       "\n",
       "    .dataframe thead th {\n",
       "        text-align: right;\n",
       "    }\n",
       "</style>\n",
       "<table border=\"1\" class=\"dataframe\">\n",
       "  <thead>\n",
       "    <tr style=\"text-align: right;\">\n",
       "      <th></th>\n",
       "      <th>Ticker</th>\n",
       "      <th>Description</th>\n",
       "      <th>Sector</th>\n",
       "      <th>Industry</th>\n",
       "      <th>GICS</th>\n",
       "    </tr>\n",
       "  </thead>\n",
       "  <tbody>\n",
       "    <tr>\n",
       "      <th>0</th>\n",
       "      <td>ABBV</td>\n",
       "      <td>AbbVie Inc. discovers, develops, manufactures,...</td>\n",
       "      <td>Healthcare</td>\n",
       "      <td>Drug Manufacturers—General</td>\n",
       "      <td>352010</td>\n",
       "    </tr>\n",
       "    <tr>\n",
       "      <th>1</th>\n",
       "      <td>MMM</td>\n",
       "      <td>3M Company develops, manufactures, and markets...</td>\n",
       "      <td>Industrials</td>\n",
       "      <td>Specialty Industrial Machinery</td>\n",
       "      <td>201050</td>\n",
       "    </tr>\n",
       "    <tr>\n",
       "      <th>2</th>\n",
       "      <td>AMD</td>\n",
       "      <td>Advanced Micro Devices, Inc. operates as a sem...</td>\n",
       "      <td>Technology</td>\n",
       "      <td>Semiconductors</td>\n",
       "      <td>453010</td>\n",
       "    </tr>\n",
       "    <tr>\n",
       "      <th>3</th>\n",
       "      <td>ABMD</td>\n",
       "      <td>Abiomed, Inc. engages in the research, develop...</td>\n",
       "      <td>Healthcare</td>\n",
       "      <td>Medical Devices</td>\n",
       "      <td>351010</td>\n",
       "    </tr>\n",
       "    <tr>\n",
       "      <th>4</th>\n",
       "      <td>ABT</td>\n",
       "      <td>Abbott Laboratories discovers, develops, manuf...</td>\n",
       "      <td>Healthcare</td>\n",
       "      <td>Medical Devices</td>\n",
       "      <td>351010</td>\n",
       "    </tr>\n",
       "  </tbody>\n",
       "</table>\n",
       "</div>"
      ],
      "text/plain": [
       "  Ticker                                        Description       Sector  \\\n",
       "0   ABBV  AbbVie Inc. discovers, develops, manufactures,...   Healthcare   \n",
       "1    MMM  3M Company develops, manufactures, and markets...  Industrials   \n",
       "2    AMD  Advanced Micro Devices, Inc. operates as a sem...   Technology   \n",
       "3   ABMD  Abiomed, Inc. engages in the research, develop...   Healthcare   \n",
       "4    ABT  Abbott Laboratories discovers, develops, manuf...   Healthcare   \n",
       "\n",
       "                         Industry    GICS  \n",
       "0      Drug Manufacturers—General  352010  \n",
       "1  Specialty Industrial Machinery  201050  \n",
       "2                  Semiconductors  453010  \n",
       "3                 Medical Devices  351010  \n",
       "4                 Medical Devices  351010  "
      ]
     },
     "execution_count": 47,
     "metadata": {},
     "output_type": "execute_result"
    }
   ],
   "source": [
    "snp_desc_yahoo_df.head()"
   ]
  },
  {
   "cell_type": "code",
   "execution_count": 48,
   "metadata": {},
   "outputs": [
    {
     "data": {
      "text/plain": [
       "(439, 5)"
      ]
     },
     "execution_count": 48,
     "metadata": {},
     "output_type": "execute_result"
    }
   ],
   "source": [
    "snp_desc_yahoo_df.shape"
   ]
  },
  {
   "cell_type": "code",
   "execution_count": 49,
   "metadata": {},
   "outputs": [
    {
     "name": "stdout",
     "output_type": "stream",
     "text": [
      "63\n",
      "11\n",
      "109\n"
     ]
    }
   ],
   "source": [
    "print(len(set(snp_desc_yahoo_df.GICS)))\n",
    "print(len(set(snp_desc_yahoo_df.Sector)))\n",
    "print(len(set(snp_desc_yahoo_df.Industry)))"
   ]
  },
  {
   "cell_type": "code",
   "execution_count": 50,
   "metadata": {
    "scrolled": false
   },
   "outputs": [
    {
     "data": {
      "text/plain": [
       "'3M Company develops, manufactures, and markets various products worldwide. It operates through four business segments: Safety and Industrial, Transportation and Electronics, Health Care, and Consumer. The Safety and Industrial segment offers personal safety products, industrial adhesives and tapes, abrasives, closure and masking systems, electrical markets, automotive aftermarket, and roofing granules to industrial, electrical, and safety markets. The Transportation and Electronics provides electronics, such as display materials and systems, electronic materials solutions; automotive and aerospace, and commercial solutions; advanced materials; and transportation safety products to transportation and electronic original equipment manufacturer customers. The Health Care segment offers medical and surgical supplies, skin health and infection prevention products, oral care, separation and purification sciences, health information systems, drug delivery systems, and food safety products to healthcare industry. The Consumer segment provides home improvement, home care, and consumer health care products, as well as stationery and office supplies to various consumers. This segment is also involved in the retail auto care business. It offers its products through various e-commerce and traditional wholesalers, retailers, jobbers, distributors, and dealers, as well as directly to users. 3M Company has a strategic collaboration with Merry Maids in residential cleaning sector. The company was founded in 1902 and is headquartered in St. Paul, Minnesota.'"
      ]
     },
     "execution_count": 50,
     "metadata": {},
     "output_type": "execute_result"
    }
   ],
   "source": [
    "snp_desc_yahoo_df.iloc[1].Description"
   ]
  },
  {
   "cell_type": "markdown",
   "metadata": {},
   "source": [
    "##### Russell Descriptions (from 10K)"
   ]
  },
  {
   "cell_type": "code",
   "execution_count": 81,
   "metadata": {},
   "outputs": [],
   "source": [
    "russell_desc_10K_df = pd.read_pickle('data_out/russell_desc_10K.pkl')"
   ]
  },
  {
   "cell_type": "code",
   "execution_count": 82,
   "metadata": {},
   "outputs": [],
   "source": [
    "russell_desc_10K_df = pd.merge(russell_desc_10K_df, ticker_to_gics_df, on='Ticker')\n",
    "russell_desc_10K_df = russell_desc_10K_df[['Ticker', 'Description', 'GICS']]\n",
    "russell_desc_10K_df.GICS = pd.Categorical(russell_desc_10K_df.GICS)"
   ]
  },
  {
   "cell_type": "code",
   "execution_count": 83,
   "metadata": {},
   "outputs": [
    {
     "data": {
      "text/html": [
       "<div>\n",
       "<style scoped>\n",
       "    .dataframe tbody tr th:only-of-type {\n",
       "        vertical-align: middle;\n",
       "    }\n",
       "\n",
       "    .dataframe tbody tr th {\n",
       "        vertical-align: top;\n",
       "    }\n",
       "\n",
       "    .dataframe thead th {\n",
       "        text-align: right;\n",
       "    }\n",
       "</style>\n",
       "<table border=\"1\" class=\"dataframe\">\n",
       "  <thead>\n",
       "    <tr style=\"text-align: right;\">\n",
       "      <th></th>\n",
       "      <th>Ticker</th>\n",
       "      <th>Description</th>\n",
       "      <th>GICS</th>\n",
       "    </tr>\n",
       "  </thead>\n",
       "  <tbody>\n",
       "    <tr>\n",
       "      <th>0</th>\n",
       "      <td>AAL</td>\n",
       "      <td>PART I   ITEM 1. BUSINESS  Overview  American ...</td>\n",
       "      <td>203020</td>\n",
       "    </tr>\n",
       "    <tr>\n",
       "      <th>1</th>\n",
       "      <td>AAN</td>\n",
       "      <td>PART I  ITEM 1. BUSINESS  Unless otherwise ind...</td>\n",
       "      <td>255040</td>\n",
       "    </tr>\n",
       "    <tr>\n",
       "      <th>2</th>\n",
       "      <td>AAOI</td>\n",
       "      <td>PART I    Item 1. Business   BUSINESS    Overv...</td>\n",
       "      <td>452010</td>\n",
       "    </tr>\n",
       "    <tr>\n",
       "      <th>3</th>\n",
       "      <td>AAON</td>\n",
       "      <td>PART I  Item 1. Business.  General Development...</td>\n",
       "      <td>201020</td>\n",
       "    </tr>\n",
       "    <tr>\n",
       "      <th>4</th>\n",
       "      <td>AAPL</td>\n",
       "      <td>PART I  Item 1.Business  Company Background  T...</td>\n",
       "      <td>452020</td>\n",
       "    </tr>\n",
       "    <tr>\n",
       "      <th>...</th>\n",
       "      <td>...</td>\n",
       "      <td>...</td>\n",
       "      <td>...</td>\n",
       "    </tr>\n",
       "    <tr>\n",
       "      <th>2823</th>\n",
       "      <td>ZUMZ</td>\n",
       "      <td>Item 1.    BUSINESS   Zumiez Inc.  including i...</td>\n",
       "      <td>255040</td>\n",
       "    </tr>\n",
       "    <tr>\n",
       "      <th>2824</th>\n",
       "      <td>ZUO</td>\n",
       "      <td>PART I  Item 1. Business  Overview  Zuora is a...</td>\n",
       "      <td>451030</td>\n",
       "    </tr>\n",
       "    <tr>\n",
       "      <th>2825</th>\n",
       "      <td>ZYNE</td>\n",
       "      <td>PART I     Item 1. Business     Unless the con...</td>\n",
       "      <td>352020</td>\n",
       "    </tr>\n",
       "    <tr>\n",
       "      <th>2826</th>\n",
       "      <td>ZYXI</td>\n",
       "      <td>PART I   ITEM 1. BUSINESS   History   Zynex  I...</td>\n",
       "      <td>351010</td>\n",
       "    </tr>\n",
       "    <tr>\n",
       "      <th>2827</th>\n",
       "      <td>Z</td>\n",
       "      <td>PART I  Item 1. Business.  Overview  Our missi...</td>\n",
       "      <td>502030</td>\n",
       "    </tr>\n",
       "  </tbody>\n",
       "</table>\n",
       "<p>2828 rows × 3 columns</p>\n",
       "</div>"
      ],
      "text/plain": [
       "     Ticker                                        Description    GICS\n",
       "0       AAL  PART I   ITEM 1. BUSINESS  Overview  American ...  203020\n",
       "1       AAN  PART I  ITEM 1. BUSINESS  Unless otherwise ind...  255040\n",
       "2      AAOI  PART I    Item 1. Business   BUSINESS    Overv...  452010\n",
       "3      AAON  PART I  Item 1. Business.  General Development...  201020\n",
       "4      AAPL  PART I  Item 1.Business  Company Background  T...  452020\n",
       "...     ...                                                ...     ...\n",
       "2823   ZUMZ  Item 1.    BUSINESS   Zumiez Inc.  including i...  255040\n",
       "2824    ZUO  PART I  Item 1. Business  Overview  Zuora is a...  451030\n",
       "2825   ZYNE  PART I     Item 1. Business     Unless the con...  352020\n",
       "2826   ZYXI  PART I   ITEM 1. BUSINESS   History   Zynex  I...  351010\n",
       "2827      Z  PART I  Item 1. Business.  Overview  Our missi...  502030\n",
       "\n",
       "[2828 rows x 3 columns]"
      ]
     },
     "execution_count": 83,
     "metadata": {},
     "output_type": "execute_result"
    }
   ],
   "source": [
    "russell_desc_10K_df"
   ]
  },
  {
   "cell_type": "code",
   "execution_count": 84,
   "metadata": {},
   "outputs": [
    {
     "name": "stdout",
     "output_type": "stream",
     "text": [
      "69\n"
     ]
    }
   ],
   "source": [
    "print(len(set(russell_desc_10K_df.GICS)))"
   ]
  },
  {
   "cell_type": "markdown",
   "metadata": {},
   "source": [
    "##### Russell Descriptions (from yahoo)"
   ]
  },
  {
   "cell_type": "code",
   "execution_count": 115,
   "metadata": {},
   "outputs": [],
   "source": [
    "russell_desc_yahoo_df = pd.read_csv('yahoo_spiders/data_out/russell_desc_yahoo.csv', ).dropna().reset_index(drop=True)\n",
    "\n",
    "russell_desc_yahoo_df = pd.merge(russell_desc_yahoo_df, ticker_to_gics_df, on='Ticker')\n",
    "\n",
    "russell_desc_yahoo_df.GICS = pd.Categorical(russell_desc_yahoo_df.GICS)\n",
    "russell_desc_yahoo_df.Industry = pd.Categorical(russell_desc_yahoo_df.Industry)\n",
    "russell_desc_yahoo_df.Sector = pd.Categorical(russell_desc_yahoo_df.Sector)"
   ]
  },
  {
   "cell_type": "code",
   "execution_count": 116,
   "metadata": {},
   "outputs": [
    {
     "data": {
      "text/html": [
       "<div>\n",
       "<style scoped>\n",
       "    .dataframe tbody tr th:only-of-type {\n",
       "        vertical-align: middle;\n",
       "    }\n",
       "\n",
       "    .dataframe tbody tr th {\n",
       "        vertical-align: top;\n",
       "    }\n",
       "\n",
       "    .dataframe thead th {\n",
       "        text-align: right;\n",
       "    }\n",
       "</style>\n",
       "<table border=\"1\" class=\"dataframe\">\n",
       "  <thead>\n",
       "    <tr style=\"text-align: right;\">\n",
       "      <th></th>\n",
       "      <th>Ticker</th>\n",
       "      <th>Description</th>\n",
       "      <th>Sector</th>\n",
       "      <th>Industry</th>\n",
       "      <th>GICS</th>\n",
       "    </tr>\n",
       "  </thead>\n",
       "  <tbody>\n",
       "    <tr>\n",
       "      <th>0</th>\n",
       "      <td>A</td>\n",
       "      <td>Agilent Technologies, Inc. provides applicatio...</td>\n",
       "      <td>Healthcare</td>\n",
       "      <td>Diagnostics &amp; Research</td>\n",
       "      <td>352030</td>\n",
       "    </tr>\n",
       "    <tr>\n",
       "      <th>1</th>\n",
       "      <td>AAL</td>\n",
       "      <td>American Airlines Group Inc., through its subs...</td>\n",
       "      <td>Industrials</td>\n",
       "      <td>Airlines</td>\n",
       "      <td>203020</td>\n",
       "    </tr>\n",
       "    <tr>\n",
       "      <th>2</th>\n",
       "      <td>AAON</td>\n",
       "      <td>AAON, Inc., together with its subsidiaries, en...</td>\n",
       "      <td>Industrials</td>\n",
       "      <td>Building Products &amp; Equipment</td>\n",
       "      <td>201020</td>\n",
       "    </tr>\n",
       "    <tr>\n",
       "      <th>3</th>\n",
       "      <td>AAP</td>\n",
       "      <td>Advance Auto Parts, Inc. provides automotive r...</td>\n",
       "      <td>Consumer Cyclical</td>\n",
       "      <td>Specialty Retail</td>\n",
       "      <td>255040</td>\n",
       "    </tr>\n",
       "    <tr>\n",
       "      <th>4</th>\n",
       "      <td>AAN</td>\n",
       "      <td>Aaron's, Inc. operates as an omnichannel provi...</td>\n",
       "      <td>Industrials</td>\n",
       "      <td>Rental &amp; Leasing Services</td>\n",
       "      <td>255040</td>\n",
       "    </tr>\n",
       "    <tr>\n",
       "      <th>...</th>\n",
       "      <td>...</td>\n",
       "      <td>...</td>\n",
       "      <td>...</td>\n",
       "      <td>...</td>\n",
       "      <td>...</td>\n",
       "    </tr>\n",
       "    <tr>\n",
       "      <th>2067</th>\n",
       "      <td>ZIXI</td>\n",
       "      <td>Zix Corporation provides email encryption, dat...</td>\n",
       "      <td>Technology</td>\n",
       "      <td>Software—Infrastructure</td>\n",
       "      <td>451030</td>\n",
       "    </tr>\n",
       "    <tr>\n",
       "      <th>2068</th>\n",
       "      <td>ZTS</td>\n",
       "      <td>Zoetis Inc. discovers, develops, manufactures,...</td>\n",
       "      <td>Healthcare</td>\n",
       "      <td>Drug Manufacturers—Specialty &amp; Generic</td>\n",
       "      <td>352020</td>\n",
       "    </tr>\n",
       "    <tr>\n",
       "      <th>2069</th>\n",
       "      <td>ZUMZ</td>\n",
       "      <td>Zumiez Inc., together with its subsidiaries, o...</td>\n",
       "      <td>Consumer Cyclical</td>\n",
       "      <td>Apparel Retail</td>\n",
       "      <td>255040</td>\n",
       "    </tr>\n",
       "    <tr>\n",
       "      <th>2070</th>\n",
       "      <td>ZYNE</td>\n",
       "      <td>Zynerba Pharmaceuticals, Inc. operates as a cl...</td>\n",
       "      <td>Healthcare</td>\n",
       "      <td>Drug Manufacturers—Specialty &amp; Generic</td>\n",
       "      <td>352020</td>\n",
       "    </tr>\n",
       "    <tr>\n",
       "      <th>2071</th>\n",
       "      <td>ZNGA</td>\n",
       "      <td>Zynga Inc. develops, markets, and operates soc...</td>\n",
       "      <td>Communication Services</td>\n",
       "      <td>Electronic Gaming &amp; Multimedia</td>\n",
       "      <td>502020</td>\n",
       "    </tr>\n",
       "  </tbody>\n",
       "</table>\n",
       "<p>2072 rows × 5 columns</p>\n",
       "</div>"
      ],
      "text/plain": [
       "     Ticker                                        Description  \\\n",
       "0         A  Agilent Technologies, Inc. provides applicatio...   \n",
       "1       AAL  American Airlines Group Inc., through its subs...   \n",
       "2      AAON  AAON, Inc., together with its subsidiaries, en...   \n",
       "3       AAP  Advance Auto Parts, Inc. provides automotive r...   \n",
       "4       AAN  Aaron's, Inc. operates as an omnichannel provi...   \n",
       "...     ...                                                ...   \n",
       "2067   ZIXI  Zix Corporation provides email encryption, dat...   \n",
       "2068    ZTS  Zoetis Inc. discovers, develops, manufactures,...   \n",
       "2069   ZUMZ  Zumiez Inc., together with its subsidiaries, o...   \n",
       "2070   ZYNE  Zynerba Pharmaceuticals, Inc. operates as a cl...   \n",
       "2071   ZNGA  Zynga Inc. develops, markets, and operates soc...   \n",
       "\n",
       "                      Sector                                Industry    GICS  \n",
       "0                 Healthcare                  Diagnostics & Research  352030  \n",
       "1                Industrials                                Airlines  203020  \n",
       "2                Industrials           Building Products & Equipment  201020  \n",
       "3          Consumer Cyclical                        Specialty Retail  255040  \n",
       "4                Industrials               Rental & Leasing Services  255040  \n",
       "...                      ...                                     ...     ...  \n",
       "2067              Technology                 Software—Infrastructure  451030  \n",
       "2068              Healthcare  Drug Manufacturers—Specialty & Generic  352020  \n",
       "2069       Consumer Cyclical                          Apparel Retail  255040  \n",
       "2070              Healthcare  Drug Manufacturers—Specialty & Generic  352020  \n",
       "2071  Communication Services          Electronic Gaming & Multimedia  502020  \n",
       "\n",
       "[2072 rows x 5 columns]"
      ]
     },
     "execution_count": 116,
     "metadata": {},
     "output_type": "execute_result"
    }
   ],
   "source": [
    "russell_desc_yahoo_df"
   ]
  },
  {
   "cell_type": "code",
   "execution_count": 117,
   "metadata": {},
   "outputs": [
    {
     "data": {
      "text/plain": [
       "(2072, 5)"
      ]
     },
     "execution_count": 117,
     "metadata": {},
     "output_type": "execute_result"
    }
   ],
   "source": [
    "russell_desc_yahoo_df.shape"
   ]
  },
  {
   "cell_type": "code",
   "execution_count": 118,
   "metadata": {},
   "outputs": [
    {
     "name": "stdout",
     "output_type": "stream",
     "text": [
      "68\n",
      "11\n",
      "141\n"
     ]
    }
   ],
   "source": [
    "print(len(set(russell_desc_yahoo_df.GICS)))\n",
    "print(len(set(russell_desc_yahoo_df.Sector)))\n",
    "print(len(set(russell_desc_yahoo_df.Industry)))"
   ]
  },
  {
   "cell_type": "markdown",
   "metadata": {},
   "source": [
    "### Global Vars: Tickers, Description, Classifier to be used"
   ]
  },
  {
   "cell_type": "code",
   "execution_count": 119,
   "metadata": {},
   "outputs": [
    {
     "name": "stdout",
     "output_type": "stream",
     "text": [
      "68\n"
     ]
    }
   ],
   "source": [
    "desc_df = russell_desc_yahoo_df\n",
    "desc_list = desc_df['Description']\n",
    "NUM_INDUSTRIES =  len(set(desc_df.GICS))#69\n",
    "\n",
    "print(NUM_INDUSTRIES)"
   ]
  },
  {
   "cell_type": "markdown",
   "metadata": {},
   "source": [
    "##### Pre Processing"
   ]
  },
  {
   "cell_type": "code",
   "execution_count": 120,
   "metadata": {},
   "outputs": [],
   "source": [
    "def preprocess_data(doc_list):\n",
    "    \"\"\"\n",
    "    Input  : docuemnt list\n",
    "    Purpose: preprocess text (tokenize, removing stopwords, and stemming)\n",
    "    Output : preprocessed text\n",
    "    \"\"\"\n",
    "    tokenizer = RegexpTokenizer(r'\\w+')\n",
    "    en_stop = set(stopwords.words('english'))# create English stop words list\n",
    "    p_stemmer = PorterStemmer()\n",
    "    processed_doc_list = []\n",
    "\n",
    "    for doc in doc_list:\n",
    "        lower_doc = doc.lower()\n",
    "        token_list = tokenizer.tokenize(lower_doc)\n",
    "        stopped_token_list = [i for i in token_list if not i in en_stop]\n",
    "        stemmed_token_list = [p_stemmer.stem(i) for i in stopped_token_list]\n",
    "        processed_doc = ' '.join(stemmed_token_list) # Untokenize\n",
    "        processed_doc_list.append(processed_doc)\n",
    "    \n",
    "    return processed_doc_list"
   ]
  },
  {
   "cell_type": "code",
   "execution_count": 121,
   "metadata": {},
   "outputs": [],
   "source": [
    "preped_desc_list = preprocess_data(desc_list)"
   ]
  },
  {
   "cell_type": "code",
   "execution_count": 122,
   "metadata": {},
   "outputs": [
    {
     "data": {
      "text/plain": [
       "2072"
      ]
     },
     "execution_count": 122,
     "metadata": {},
     "output_type": "execute_result"
    }
   ],
   "source": [
    "len(preped_desc_list)"
   ]
  },
  {
   "cell_type": "markdown",
   "metadata": {},
   "source": [
    "##### Tdidf vectorization"
   ]
  },
  {
   "cell_type": "code",
   "execution_count": 123,
   "metadata": {},
   "outputs": [
    {
     "data": {
      "text/plain": [
       "(2072, 16855)"
      ]
     },
     "execution_count": 123,
     "metadata": {},
     "output_type": "execute_result"
    }
   ],
   "source": [
    "vectorizer = TfidfVectorizer(stop_words='english', max_features= None, max_df = 0.5, smooth_idf=True)\n",
    "dtm = vectorizer.fit_transform(preped_desc_list) # dtm - Document Matrix (sparse matrix)\n",
    "dtm.shape"
   ]
  },
  {
   "cell_type": "markdown",
   "metadata": {},
   "source": [
    "| Descriptions | Unique Words (features)\n",
    "| :- | -: | \n",
    "| SnP (10K) | 25834 |\n",
    "| SnP (yahoo) | 7263 |\n",
    "| Russell (10K) | 78546 |\n",
    "| Russell (yahoo) | 16855 |\n",
    "| Russell (10K, from previous project) | 20025 |\n",
    "\n",
    "\n"
   ]
  },
  {
   "cell_type": "markdown",
   "metadata": {},
   "source": [
    "# Clustering Algos"
   ]
  },
  {
   "cell_type": "markdown",
   "metadata": {},
   "source": [
    "### K - Means"
   ]
  },
  {
   "cell_type": "code",
   "execution_count": null,
   "metadata": {
    "scrolled": true
   },
   "outputs": [],
   "source": [
    "# defining the kmeans function with initialization as k-means++\n",
    "kmeans = KMeans(n_clusters=NUM_INDUSTRIES, init='k-means++')\n",
    "# fitting the k means algorithm on scaled data\n",
    "kmeans.fit(dtm_lsa)\n",
    "pred = kmeans.predict(dtm_lsa)\n",
    "# pd.concat([df[['company']], pd.DataFrame(pred)], axis=1).head()\n",
    "pred"
   ]
  },
  {
   "cell_type": "code",
   "execution_count": 16,
   "metadata": {},
   "outputs": [],
   "source": [
    "def kmeans_cluster(dtm):\n",
    "    '''\n",
    "    input: Document Matrix\n",
    "    output: list indicating clusters\n",
    "    '''\n",
    "    kmeans = KMeans(n_clusters=NUM_INDUSTRIES, init='k-means++')\n",
    "    kmeans.fit(dtm)\n",
    "    pred = kmeans.predict(dtm)\n",
    "    return pred"
   ]
  },
  {
   "cell_type": "markdown",
   "metadata": {},
   "source": [
    "### Gaussian Mixture"
   ]
  },
  {
   "cell_type": "code",
   "execution_count": 17,
   "metadata": {},
   "outputs": [],
   "source": [
    "def gmm_cluster(dtm):\n",
    "    '''\n",
    "    input: Document Matrix\n",
    "    output: list indicating clusters\n",
    "    '''\n",
    "    gmm = GaussianMixture(n_components=NUM_INDUSTRIES)\n",
    "    gmm.fit(dtm)\n",
    "    pred = gmm.predict(dtm)\n",
    "    return pred"
   ]
  },
  {
   "cell_type": "markdown",
   "metadata": {},
   "source": [
    "### Cosine Similarity\n",
    "\n",
    "- taking too long to run"
   ]
  },
  {
   "cell_type": "code",
   "execution_count": null,
   "metadata": {},
   "outputs": [],
   "source": [
    "x = [((1,),(2,),3), ((4,),(1458,),6)]\n",
    "\n",
    "mcorr = ((1458,), (1830,), 1.0000000000000004)\n",
    "list(filter(lambda tup: (tup[0] not in mcorr) and (tup[1] not in mcorr), x))"
   ]
  },
  {
   "cell_type": "code",
   "execution_count": null,
   "metadata": {},
   "outputs": [],
   "source": [
    "((1,2), (4,)) in (1,)"
   ]
  },
  {
   "cell_type": "code",
   "execution_count": null,
   "metadata": {},
   "outputs": [],
   "source": [
    "def cosine_similarity(dtm):\n",
    "    '''\n",
    "    input: Doc Matrix\n",
    "    output: list of lists indicating clusters\n",
    "    '''\n",
    "    corr = np.asarray(np.asmatrix(dtm) * np.asmatrix(dtm).T)\n",
    "    L = corr.shape[0]\n",
    "    \n",
    "    cluster_corrs = []\n",
    "    for i in range(L):\n",
    "        for j in range(i+1,L):\n",
    "            corr_tuple = ((i,), (j,), corr[i][j])\n",
    "            cluster_corrs.append(corr_tuple)\n",
    "            \n",
    "    cluster_list = [(i,) for i in range(L)]\n",
    "    \n",
    "    num_iter = L - NUM_INDUSTRIES\n",
    "    for x in range(num_iter):\n",
    "        max_corr_tup = max(cluster_corrs, key = lambda tup: tup[2])\n",
    "        # filters ur max_corr_tup also\n",
    "        print(max_corr_tup)\n",
    "        cluster_corrs = list(filter(lambda tup: (tup[0] not in max_corr_tup) and (tup[1] not in max_corr_tup),cluster_corrs))\n",
    "        new_cluster = max_corr_tup[0] + max_corr_tup[1] # concatenate tups\n",
    "        cluster_list.remove(max_corr_tup[0])\n",
    "        cluster_list.remove(max_corr_tup[1])\n",
    "        for cluster in cluster_list:\n",
    "            # Similarity\n",
    "            n = len(new_cluster) * len(cluster)\n",
    "            total_similarity = 0\n",
    "            for cpy_1 in new_cluster:\n",
    "                for cpy_2 in cluster:\n",
    "                    total_similarity += corr[cpy_1][cpy_2]\n",
    "            similarity = total_similarity / n\n",
    "            corr_tuple = (new_cluster, cluster, similarity)\n",
    "            cluster_corrs.append(corr_tuple)\n",
    "        cluster_list.append(new_cluster)\n",
    "    \n",
    "    if len(cluster_list) != NUM_INDUSTRIES:\n",
    "        raise Exception()\n",
    "        \n",
    "    pred = np.full(N, -1)\n",
    "    for i in range(NUM_INDUSTRIES):\n",
    "        cluster = list(cluster_list[i])\n",
    "        pred[cluster] = [i] * len(cluster)\n",
    "    return pred"
   ]
  },
  {
   "cell_type": "code",
   "execution_count": null,
   "metadata": {},
   "outputs": [],
   "source": [
    "cosine_similarity(dtm_lsa)"
   ]
  },
  {
   "cell_type": "code",
   "execution_count": null,
   "metadata": {},
   "outputs": [],
   "source": [
    "dtmx = dtm_lsa\n",
    "corr = np.asarray(np.asmatrix(dtmx) * np.asmatrix(dtmx).T)\n",
    "L = corr.shape[0]\n",
    "\n",
    "cluster_corrs = []\n",
    "for i in range(L):\n",
    "    for j in range(i+1,L):\n",
    "        corr_tuple = ((i,), (j,), corr[i][j])\n",
    "        cluster_corrs.append(corr_tuple)\n",
    "\n",
    "cluster_list = [(i,) for i in range(L)]\n",
    "\n",
    "num_iter = L - NUM_INDUSTRIES\n",
    "for x in range(num_iter):\n",
    "    max_corr_tup = max(cluster_corrs, key = lambda tup: tup[2])\n",
    "    # filters ur max_corr_tup also\n",
    "    print(max_corr_tup)\n",
    "    cluster_corrs = list(filter(lambda tup: (tup[0] not in max_corr_tup) and (tup[1] not in max_corr_tup),cluster_corrs))\n",
    "    new_cluster = max_corr_tup[0] + max_corr_tup[1] # concatenate tups\n",
    "    cluster_list.remove(max_corr_tup[0])\n",
    "    cluster_list.remove(max_corr_tup[1])\n",
    "    for cluster in cluster_list:\n",
    "        # Similarity\n",
    "        n = len(new_cluster) * len(cluster)\n",
    "        total_similarity = 0\n",
    "        for cpy_1 in new_cluster:\n",
    "            for cpy_2 in cluster:\n",
    "                total_similarity += corr[cpy_1][cpy_2]\n",
    "        similarity = total_similarity / n\n",
    "        corr_tuple = (new_cluster, cluster, similarity)\n",
    "        cluster_corrs.append(corr_tuple)\n",
    "    cluster_list.append(new_cluster)\n",
    "\n",
    "if len(cluster_list) != NUM_INDUSTRIES:\n",
    "    raise Exception()\n",
    "\n",
    "pred = np.full(N, -1)\n",
    "for i in range(NUM_INDUSTRIES):\n",
    "    cluster = list(cluster_list[i])\n",
    "    pred[cluster] = [i] * len(cluster)"
   ]
  },
  {
   "cell_type": "code",
   "execution_count": null,
   "metadata": {},
   "outputs": [],
   "source": [
    "def t(tup):\n",
    "    print((tup[0] not in max_corr_tup), (tup[1] not in max_corr_tup))\n",
    "    return (tup[0] not in max_corr_tup) and (tup[1] not in max_corr_tup)\n",
    "list(filter(t,cluster_corrs))"
   ]
  },
  {
   "cell_type": "markdown",
   "metadata": {},
   "source": [
    "### Run all Clustering algos"
   ]
  },
  {
   "cell_type": "code",
   "execution_count": 124,
   "metadata": {},
   "outputs": [
    {
     "data": {
      "text/plain": [
       "(2072, 16855)"
      ]
     },
     "execution_count": 124,
     "metadata": {},
     "output_type": "execute_result"
    }
   ],
   "source": [
    "dtm.shape"
   ]
  },
  {
   "cell_type": "code",
   "execution_count": 125,
   "metadata": {
    "scrolled": true
   },
   "outputs": [
    {
     "data": {
      "application/vnd.jupyter.widget-view+json": {
       "model_id": "b8d16c5596f842ae88b8d9f80306fb00",
       "version_major": 2,
       "version_minor": 0
      },
      "text/plain": [
       "HBox(children=(FloatProgress(value=0.0, max=8.0), HTML(value='')))"
      ]
     },
     "metadata": {},
     "output_type": "display_data"
    },
    {
     "name": "stdout",
     "output_type": "stream",
     "text": [
      "\n"
     ]
    }
   ],
   "source": [
    "gics_df = pd.DataFrame(desc_df.GICS.cat.codes, columns=['GICS'])\n",
    "cluster_dfs_list = [desc_df[['Ticker']], gics_df]\n",
    "for k in tnrange(50, 401, 50):\n",
    "    # LSI Embedding\n",
    "    lsa_k = TruncatedSVD(k, algorithm = 'arpack')\n",
    "    dtm_lsa_k = lsa_k.fit_transform(dtm)\n",
    "    dtm_lsa_k = Normalizer(copy=False).fit_transform(dtm_lsa_k)\n",
    "    # K-Means\n",
    "    clusters_k = kmeans_cluster(dtm_lsa_k)\n",
    "    cluster_dfs_list.append(pd.DataFrame(clusters_k, columns=['lsi_{}_kmeans'.format(str(k))]))\n",
    "    # GMM\n",
    "    clusters_k = gmm_cluster(dtm_lsa_k)\n",
    "    cluster_dfs_list.append(pd.DataFrame(clusters_k, columns=['lsi_{}_gmm'.format(str(k))]))\n",
    "    # Cosine_similarity\n",
    "    \n",
    "all_cluster = pd.concat(cluster_dfs_list, axis=1)"
   ]
  },
  {
   "cell_type": "code",
   "execution_count": 126,
   "metadata": {},
   "outputs": [
    {
     "data": {
      "text/html": [
       "<div>\n",
       "<style scoped>\n",
       "    .dataframe tbody tr th:only-of-type {\n",
       "        vertical-align: middle;\n",
       "    }\n",
       "\n",
       "    .dataframe tbody tr th {\n",
       "        vertical-align: top;\n",
       "    }\n",
       "\n",
       "    .dataframe thead th {\n",
       "        text-align: right;\n",
       "    }\n",
       "</style>\n",
       "<table border=\"1\" class=\"dataframe\">\n",
       "  <thead>\n",
       "    <tr style=\"text-align: right;\">\n",
       "      <th></th>\n",
       "      <th>Ticker</th>\n",
       "      <th>GICS</th>\n",
       "      <th>lsi_50_kmeans</th>\n",
       "      <th>lsi_50_gmm</th>\n",
       "      <th>lsi_100_kmeans</th>\n",
       "      <th>lsi_100_gmm</th>\n",
       "      <th>lsi_150_kmeans</th>\n",
       "      <th>lsi_150_gmm</th>\n",
       "      <th>lsi_200_kmeans</th>\n",
       "      <th>lsi_200_gmm</th>\n",
       "      <th>lsi_250_kmeans</th>\n",
       "      <th>lsi_250_gmm</th>\n",
       "      <th>lsi_300_kmeans</th>\n",
       "      <th>lsi_300_gmm</th>\n",
       "      <th>lsi_350_kmeans</th>\n",
       "      <th>lsi_350_gmm</th>\n",
       "      <th>lsi_400_kmeans</th>\n",
       "      <th>lsi_400_gmm</th>\n",
       "    </tr>\n",
       "  </thead>\n",
       "  <tbody>\n",
       "    <tr>\n",
       "      <th>0</th>\n",
       "      <td>A</td>\n",
       "      <td>42</td>\n",
       "      <td>14</td>\n",
       "      <td>31</td>\n",
       "      <td>34</td>\n",
       "      <td>2</td>\n",
       "      <td>35</td>\n",
       "      <td>27</td>\n",
       "      <td>3</td>\n",
       "      <td>55</td>\n",
       "      <td>23</td>\n",
       "      <td>48</td>\n",
       "      <td>57</td>\n",
       "      <td>43</td>\n",
       "      <td>42</td>\n",
       "      <td>2</td>\n",
       "      <td>50</td>\n",
       "      <td>56</td>\n",
       "    </tr>\n",
       "    <tr>\n",
       "      <th>1</th>\n",
       "      <td>AAL</td>\n",
       "      <td>17</td>\n",
       "      <td>0</td>\n",
       "      <td>17</td>\n",
       "      <td>58</td>\n",
       "      <td>36</td>\n",
       "      <td>48</td>\n",
       "      <td>30</td>\n",
       "      <td>29</td>\n",
       "      <td>4</td>\n",
       "      <td>50</td>\n",
       "      <td>45</td>\n",
       "      <td>34</td>\n",
       "      <td>58</td>\n",
       "      <td>49</td>\n",
       "      <td>42</td>\n",
       "      <td>11</td>\n",
       "      <td>45</td>\n",
       "    </tr>\n",
       "    <tr>\n",
       "      <th>2</th>\n",
       "      <td>AAON</td>\n",
       "      <td>8</td>\n",
       "      <td>25</td>\n",
       "      <td>41</td>\n",
       "      <td>12</td>\n",
       "      <td>4</td>\n",
       "      <td>66</td>\n",
       "      <td>50</td>\n",
       "      <td>14</td>\n",
       "      <td>64</td>\n",
       "      <td>62</td>\n",
       "      <td>64</td>\n",
       "      <td>53</td>\n",
       "      <td>38</td>\n",
       "      <td>24</td>\n",
       "      <td>41</td>\n",
       "      <td>20</td>\n",
       "      <td>7</td>\n",
       "    </tr>\n",
       "    <tr>\n",
       "      <th>3</th>\n",
       "      <td>AAP</td>\n",
       "      <td>30</td>\n",
       "      <td>5</td>\n",
       "      <td>58</td>\n",
       "      <td>48</td>\n",
       "      <td>61</td>\n",
       "      <td>46</td>\n",
       "      <td>5</td>\n",
       "      <td>4</td>\n",
       "      <td>64</td>\n",
       "      <td>29</td>\n",
       "      <td>14</td>\n",
       "      <td>53</td>\n",
       "      <td>38</td>\n",
       "      <td>46</td>\n",
       "      <td>53</td>\n",
       "      <td>36</td>\n",
       "      <td>29</td>\n",
       "    </tr>\n",
       "    <tr>\n",
       "      <th>4</th>\n",
       "      <td>AAN</td>\n",
       "      <td>30</td>\n",
       "      <td>43</td>\n",
       "      <td>16</td>\n",
       "      <td>50</td>\n",
       "      <td>59</td>\n",
       "      <td>29</td>\n",
       "      <td>39</td>\n",
       "      <td>0</td>\n",
       "      <td>9</td>\n",
       "      <td>22</td>\n",
       "      <td>27</td>\n",
       "      <td>38</td>\n",
       "      <td>14</td>\n",
       "      <td>61</td>\n",
       "      <td>1</td>\n",
       "      <td>51</td>\n",
       "      <td>31</td>\n",
       "    </tr>\n",
       "    <tr>\n",
       "      <th>...</th>\n",
       "      <td>...</td>\n",
       "      <td>...</td>\n",
       "      <td>...</td>\n",
       "      <td>...</td>\n",
       "      <td>...</td>\n",
       "      <td>...</td>\n",
       "      <td>...</td>\n",
       "      <td>...</td>\n",
       "      <td>...</td>\n",
       "      <td>...</td>\n",
       "      <td>...</td>\n",
       "      <td>...</td>\n",
       "      <td>...</td>\n",
       "      <td>...</td>\n",
       "      <td>...</td>\n",
       "      <td>...</td>\n",
       "      <td>...</td>\n",
       "      <td>...</td>\n",
       "    </tr>\n",
       "    <tr>\n",
       "      <th>2067</th>\n",
       "      <td>ZIXI</td>\n",
       "      <td>51</td>\n",
       "      <td>41</td>\n",
       "      <td>26</td>\n",
       "      <td>44</td>\n",
       "      <td>54</td>\n",
       "      <td>9</td>\n",
       "      <td>15</td>\n",
       "      <td>5</td>\n",
       "      <td>16</td>\n",
       "      <td>41</td>\n",
       "      <td>17</td>\n",
       "      <td>25</td>\n",
       "      <td>24</td>\n",
       "      <td>57</td>\n",
       "      <td>58</td>\n",
       "      <td>8</td>\n",
       "      <td>53</td>\n",
       "    </tr>\n",
       "    <tr>\n",
       "      <th>2068</th>\n",
       "      <td>ZTS</td>\n",
       "      <td>41</td>\n",
       "      <td>14</td>\n",
       "      <td>31</td>\n",
       "      <td>34</td>\n",
       "      <td>2</td>\n",
       "      <td>19</td>\n",
       "      <td>27</td>\n",
       "      <td>3</td>\n",
       "      <td>31</td>\n",
       "      <td>67</td>\n",
       "      <td>48</td>\n",
       "      <td>57</td>\n",
       "      <td>43</td>\n",
       "      <td>38</td>\n",
       "      <td>32</td>\n",
       "      <td>53</td>\n",
       "      <td>56</td>\n",
       "    </tr>\n",
       "    <tr>\n",
       "      <th>2069</th>\n",
       "      <td>ZUMZ</td>\n",
       "      <td>30</td>\n",
       "      <td>29</td>\n",
       "      <td>16</td>\n",
       "      <td>13</td>\n",
       "      <td>39</td>\n",
       "      <td>47</td>\n",
       "      <td>38</td>\n",
       "      <td>65</td>\n",
       "      <td>21</td>\n",
       "      <td>54</td>\n",
       "      <td>26</td>\n",
       "      <td>4</td>\n",
       "      <td>30</td>\n",
       "      <td>65</td>\n",
       "      <td>22</td>\n",
       "      <td>6</td>\n",
       "      <td>57</td>\n",
       "    </tr>\n",
       "    <tr>\n",
       "      <th>2070</th>\n",
       "      <td>ZYNE</td>\n",
       "      <td>41</td>\n",
       "      <td>17</td>\n",
       "      <td>11</td>\n",
       "      <td>17</td>\n",
       "      <td>10</td>\n",
       "      <td>65</td>\n",
       "      <td>4</td>\n",
       "      <td>36</td>\n",
       "      <td>54</td>\n",
       "      <td>3</td>\n",
       "      <td>13</td>\n",
       "      <td>21</td>\n",
       "      <td>13</td>\n",
       "      <td>13</td>\n",
       "      <td>67</td>\n",
       "      <td>2</td>\n",
       "      <td>46</td>\n",
       "    </tr>\n",
       "    <tr>\n",
       "      <th>2071</th>\n",
       "      <td>ZNGA</td>\n",
       "      <td>59</td>\n",
       "      <td>60</td>\n",
       "      <td>33</td>\n",
       "      <td>38</td>\n",
       "      <td>14</td>\n",
       "      <td>28</td>\n",
       "      <td>58</td>\n",
       "      <td>49</td>\n",
       "      <td>60</td>\n",
       "      <td>26</td>\n",
       "      <td>42</td>\n",
       "      <td>63</td>\n",
       "      <td>15</td>\n",
       "      <td>17</td>\n",
       "      <td>46</td>\n",
       "      <td>61</td>\n",
       "      <td>58</td>\n",
       "    </tr>\n",
       "  </tbody>\n",
       "</table>\n",
       "<p>2072 rows × 18 columns</p>\n",
       "</div>"
      ],
      "text/plain": [
       "     Ticker  GICS  lsi_50_kmeans  lsi_50_gmm  lsi_100_kmeans  lsi_100_gmm  \\\n",
       "0         A    42             14          31              34            2   \n",
       "1       AAL    17              0          17              58           36   \n",
       "2      AAON     8             25          41              12            4   \n",
       "3       AAP    30              5          58              48           61   \n",
       "4       AAN    30             43          16              50           59   \n",
       "...     ...   ...            ...         ...             ...          ...   \n",
       "2067   ZIXI    51             41          26              44           54   \n",
       "2068    ZTS    41             14          31              34            2   \n",
       "2069   ZUMZ    30             29          16              13           39   \n",
       "2070   ZYNE    41             17          11              17           10   \n",
       "2071   ZNGA    59             60          33              38           14   \n",
       "\n",
       "      lsi_150_kmeans  lsi_150_gmm  lsi_200_kmeans  lsi_200_gmm  \\\n",
       "0                 35           27               3           55   \n",
       "1                 48           30              29            4   \n",
       "2                 66           50              14           64   \n",
       "3                 46            5               4           64   \n",
       "4                 29           39               0            9   \n",
       "...              ...          ...             ...          ...   \n",
       "2067               9           15               5           16   \n",
       "2068              19           27               3           31   \n",
       "2069              47           38              65           21   \n",
       "2070              65            4              36           54   \n",
       "2071              28           58              49           60   \n",
       "\n",
       "      lsi_250_kmeans  lsi_250_gmm  lsi_300_kmeans  lsi_300_gmm  \\\n",
       "0                 23           48              57           43   \n",
       "1                 50           45              34           58   \n",
       "2                 62           64              53           38   \n",
       "3                 29           14              53           38   \n",
       "4                 22           27              38           14   \n",
       "...              ...          ...             ...          ...   \n",
       "2067              41           17              25           24   \n",
       "2068              67           48              57           43   \n",
       "2069              54           26               4           30   \n",
       "2070               3           13              21           13   \n",
       "2071              26           42              63           15   \n",
       "\n",
       "      lsi_350_kmeans  lsi_350_gmm  lsi_400_kmeans  lsi_400_gmm  \n",
       "0                 42            2              50           56  \n",
       "1                 49           42              11           45  \n",
       "2                 24           41              20            7  \n",
       "3                 46           53              36           29  \n",
       "4                 61            1              51           31  \n",
       "...              ...          ...             ...          ...  \n",
       "2067              57           58               8           53  \n",
       "2068              38           32              53           56  \n",
       "2069              65           22               6           57  \n",
       "2070              13           67               2           46  \n",
       "2071              17           46              61           58  \n",
       "\n",
       "[2072 rows x 18 columns]"
      ]
     },
     "execution_count": 126,
     "metadata": {},
     "output_type": "execute_result"
    }
   ],
   "source": [
    "all_cluster"
   ]
  },
  {
   "cell_type": "markdown",
   "metadata": {},
   "source": [
    "## Evaluation"
   ]
  },
  {
   "cell_type": "markdown",
   "metadata": {},
   "source": [
    "### Method 1 - Ticker returns correlations\n",
    "\n",
    "- regression of the daily return series of each stock with the return of the industry that the stock belongs to\n",
    "- criterion is the the average of all R2s from the universe\n",
    "- 5 years of daily returns used (same as previous project)"
   ]
  },
  {
   "cell_type": "code",
   "execution_count": 127,
   "metadata": {},
   "outputs": [],
   "source": [
    "ticker_price_df = pd.read_csv('data_in/russell_price.csv', index_col=0) \n",
    "# Can use this path for SnP: 'data_out/ticker_price_df.csv'"
   ]
  },
  {
   "cell_type": "code",
   "execution_count": 128,
   "metadata": {},
   "outputs": [
    {
     "data": {
      "text/html": [
       "<div>\n",
       "<style scoped>\n",
       "    .dataframe tbody tr th:only-of-type {\n",
       "        vertical-align: middle;\n",
       "    }\n",
       "\n",
       "    .dataframe tbody tr th {\n",
       "        vertical-align: top;\n",
       "    }\n",
       "\n",
       "    .dataframe thead th {\n",
       "        text-align: right;\n",
       "    }\n",
       "</style>\n",
       "<table border=\"1\" class=\"dataframe\">\n",
       "  <thead>\n",
       "    <tr style=\"text-align: right;\">\n",
       "      <th></th>\n",
       "      <th>A</th>\n",
       "      <th>AA</th>\n",
       "      <th>AAL</th>\n",
       "      <th>AAN</th>\n",
       "      <th>AAOI</th>\n",
       "      <th>AAON</th>\n",
       "      <th>AAP</th>\n",
       "      <th>AAPL</th>\n",
       "      <th>AAT</th>\n",
       "      <th>AAWW</th>\n",
       "      <th>...</th>\n",
       "      <th>ZION</th>\n",
       "      <th>ZIOP</th>\n",
       "      <th>ZIXI</th>\n",
       "      <th>ZNGA</th>\n",
       "      <th>ZS</th>\n",
       "      <th>ZTS</th>\n",
       "      <th>ZUMZ</th>\n",
       "      <th>ZUO</th>\n",
       "      <th>ZYNE</th>\n",
       "      <th>ZYXI</th>\n",
       "    </tr>\n",
       "  </thead>\n",
       "  <tbody>\n",
       "    <tr>\n",
       "      <th>20150102</th>\n",
       "      <td>NaN</td>\n",
       "      <td>NaN</td>\n",
       "      <td>NaN</td>\n",
       "      <td>NaN</td>\n",
       "      <td>NaN</td>\n",
       "      <td>NaN</td>\n",
       "      <td>NaN</td>\n",
       "      <td>NaN</td>\n",
       "      <td>NaN</td>\n",
       "      <td>NaN</td>\n",
       "      <td>...</td>\n",
       "      <td>NaN</td>\n",
       "      <td>NaN</td>\n",
       "      <td>NaN</td>\n",
       "      <td>NaN</td>\n",
       "      <td>NaN</td>\n",
       "      <td>NaN</td>\n",
       "      <td>NaN</td>\n",
       "      <td>NaN</td>\n",
       "      <td>NaN</td>\n",
       "      <td>NaN</td>\n",
       "    </tr>\n",
       "    <tr>\n",
       "      <th>20150105</th>\n",
       "      <td>-0.018737</td>\n",
       "      <td>-0.057933</td>\n",
       "      <td>-0.000650</td>\n",
       "      <td>-0.003919</td>\n",
       "      <td>-0.012975</td>\n",
       "      <td>-0.033973</td>\n",
       "      <td>-0.013177</td>\n",
       "      <td>-0.028175</td>\n",
       "      <td>0.011396</td>\n",
       "      <td>-0.036555</td>\n",
       "      <td>...</td>\n",
       "      <td>-0.037468</td>\n",
       "      <td>-0.011696</td>\n",
       "      <td>-0.019718</td>\n",
       "      <td>-0.007326</td>\n",
       "      <td>1.062500</td>\n",
       "      <td>-0.006004</td>\n",
       "      <td>0.019105</td>\n",
       "      <td>0.428571</td>\n",
       "      <td>0.160714</td>\n",
       "      <td>-0.111803</td>\n",
       "    </tr>\n",
       "    <tr>\n",
       "      <th>20150106</th>\n",
       "      <td>-0.015577</td>\n",
       "      <td>0.007351</td>\n",
       "      <td>-0.015498</td>\n",
       "      <td>-0.037378</td>\n",
       "      <td>-0.037559</td>\n",
       "      <td>-0.015815</td>\n",
       "      <td>-0.000704</td>\n",
       "      <td>0.000093</td>\n",
       "      <td>0.007836</td>\n",
       "      <td>-0.021222</td>\n",
       "      <td>...</td>\n",
       "      <td>-0.038192</td>\n",
       "      <td>-0.021696</td>\n",
       "      <td>-0.025862</td>\n",
       "      <td>-0.003690</td>\n",
       "      <td>-0.154545</td>\n",
       "      <td>-0.009754</td>\n",
       "      <td>-0.012327</td>\n",
       "      <td>0.030000</td>\n",
       "      <td>0.188923</td>\n",
       "      <td>-0.062550</td>\n",
       "    </tr>\n",
       "    <tr>\n",
       "      <th>20150107</th>\n",
       "      <td>0.013273</td>\n",
       "      <td>0.025880</td>\n",
       "      <td>-0.000565</td>\n",
       "      <td>0.030317</td>\n",
       "      <td>-0.039024</td>\n",
       "      <td>0.009115</td>\n",
       "      <td>0.021485</td>\n",
       "      <td>0.014021</td>\n",
       "      <td>0.018955</td>\n",
       "      <td>0.017959</td>\n",
       "      <td>...</td>\n",
       "      <td>0.009356</td>\n",
       "      <td>0.012097</td>\n",
       "      <td>-0.002950</td>\n",
       "      <td>-0.007407</td>\n",
       "      <td>0.088889</td>\n",
       "      <td>0.020642</td>\n",
       "      <td>0.047322</td>\n",
       "      <td>0.000000</td>\n",
       "      <td>0.270186</td>\n",
       "      <td>-0.020018</td>\n",
       "    </tr>\n",
       "    <tr>\n",
       "      <th>20150108</th>\n",
       "      <td>0.029974</td>\n",
       "      <td>0.028461</td>\n",
       "      <td>0.012260</td>\n",
       "      <td>0.016196</td>\n",
       "      <td>0.011168</td>\n",
       "      <td>0.024715</td>\n",
       "      <td>0.008769</td>\n",
       "      <td>0.038426</td>\n",
       "      <td>0.005963</td>\n",
       "      <td>0.037220</td>\n",
       "      <td>...</td>\n",
       "      <td>0.014184</td>\n",
       "      <td>-0.005976</td>\n",
       "      <td>0.076923</td>\n",
       "      <td>-0.037313</td>\n",
       "      <td>0.023041</td>\n",
       "      <td>0.015398</td>\n",
       "      <td>0.027805</td>\n",
       "      <td>-0.050971</td>\n",
       "      <td>0.431948</td>\n",
       "      <td>-0.013616</td>\n",
       "    </tr>\n",
       "    <tr>\n",
       "      <th>...</th>\n",
       "      <td>...</td>\n",
       "      <td>...</td>\n",
       "      <td>...</td>\n",
       "      <td>...</td>\n",
       "      <td>...</td>\n",
       "      <td>...</td>\n",
       "      <td>...</td>\n",
       "      <td>...</td>\n",
       "      <td>...</td>\n",
       "      <td>...</td>\n",
       "      <td>...</td>\n",
       "      <td>...</td>\n",
       "      <td>...</td>\n",
       "      <td>...</td>\n",
       "      <td>...</td>\n",
       "      <td>...</td>\n",
       "      <td>...</td>\n",
       "      <td>...</td>\n",
       "      <td>...</td>\n",
       "      <td>...</td>\n",
       "      <td>...</td>\n",
       "    </tr>\n",
       "    <tr>\n",
       "      <th>20200518</th>\n",
       "      <td>0.025371</td>\n",
       "      <td>0.171171</td>\n",
       "      <td>0.091814</td>\n",
       "      <td>0.066134</td>\n",
       "      <td>0.024540</td>\n",
       "      <td>0.069529</td>\n",
       "      <td>0.040060</td>\n",
       "      <td>0.023561</td>\n",
       "      <td>0.066448</td>\n",
       "      <td>0.084015</td>\n",
       "      <td>...</td>\n",
       "      <td>0.119171</td>\n",
       "      <td>0.102041</td>\n",
       "      <td>0.032833</td>\n",
       "      <td>-0.009950</td>\n",
       "      <td>0.000000</td>\n",
       "      <td>0.030826</td>\n",
       "      <td>0.087572</td>\n",
       "      <td>0.000000</td>\n",
       "      <td>0.000000</td>\n",
       "      <td>0.000000</td>\n",
       "    </tr>\n",
       "    <tr>\n",
       "      <th>20200519</th>\n",
       "      <td>-0.020201</td>\n",
       "      <td>-0.007692</td>\n",
       "      <td>-0.023303</td>\n",
       "      <td>-0.032964</td>\n",
       "      <td>0.010778</td>\n",
       "      <td>-0.022518</td>\n",
       "      <td>0.035924</td>\n",
       "      <td>-0.005779</td>\n",
       "      <td>-0.034615</td>\n",
       "      <td>0.007802</td>\n",
       "      <td>...</td>\n",
       "      <td>-0.033730</td>\n",
       "      <td>-0.074074</td>\n",
       "      <td>0.019074</td>\n",
       "      <td>0.010050</td>\n",
       "      <td>0.000000</td>\n",
       "      <td>0.022219</td>\n",
       "      <td>-0.034716</td>\n",
       "      <td>0.000000</td>\n",
       "      <td>0.000000</td>\n",
       "      <td>0.000000</td>\n",
       "    </tr>\n",
       "    <tr>\n",
       "      <th>20200520</th>\n",
       "      <td>-0.003172</td>\n",
       "      <td>0.078811</td>\n",
       "      <td>0.023859</td>\n",
       "      <td>0.046173</td>\n",
       "      <td>0.020142</td>\n",
       "      <td>0.008213</td>\n",
       "      <td>-0.000736</td>\n",
       "      <td>0.019448</td>\n",
       "      <td>0.028287</td>\n",
       "      <td>0.028645</td>\n",
       "      <td>...</td>\n",
       "      <td>0.065024</td>\n",
       "      <td>0.080000</td>\n",
       "      <td>0.074866</td>\n",
       "      <td>0.012438</td>\n",
       "      <td>0.000000</td>\n",
       "      <td>-0.007444</td>\n",
       "      <td>-0.000999</td>\n",
       "      <td>0.000000</td>\n",
       "      <td>0.000000</td>\n",
       "      <td>0.000000</td>\n",
       "    </tr>\n",
       "    <tr>\n",
       "      <th>20200521</th>\n",
       "      <td>-0.011749</td>\n",
       "      <td>-0.008383</td>\n",
       "      <td>0.002026</td>\n",
       "      <td>-0.001777</td>\n",
       "      <td>0.005807</td>\n",
       "      <td>0.029009</td>\n",
       "      <td>-0.006852</td>\n",
       "      <td>-0.007455</td>\n",
       "      <td>0.004649</td>\n",
       "      <td>-0.006774</td>\n",
       "      <td>...</td>\n",
       "      <td>-0.012532</td>\n",
       "      <td>0.047138</td>\n",
       "      <td>0.023217</td>\n",
       "      <td>-0.000614</td>\n",
       "      <td>0.000000</td>\n",
       "      <td>-0.022574</td>\n",
       "      <td>0.092000</td>\n",
       "      <td>0.000000</td>\n",
       "      <td>0.000000</td>\n",
       "      <td>0.000000</td>\n",
       "    </tr>\n",
       "    <tr>\n",
       "      <th>20200522</th>\n",
       "      <td>0.052384</td>\n",
       "      <td>-0.008454</td>\n",
       "      <td>-0.019211</td>\n",
       "      <td>0.008309</td>\n",
       "      <td>-0.005774</td>\n",
       "      <td>-0.001738</td>\n",
       "      <td>-0.009719</td>\n",
       "      <td>0.006438</td>\n",
       "      <td>-0.029310</td>\n",
       "      <td>-0.007830</td>\n",
       "      <td>...</td>\n",
       "      <td>-0.017572</td>\n",
       "      <td>0.099678</td>\n",
       "      <td>0.009724</td>\n",
       "      <td>0.030117</td>\n",
       "      <td>0.000000</td>\n",
       "      <td>-0.001688</td>\n",
       "      <td>-0.021978</td>\n",
       "      <td>0.000000</td>\n",
       "      <td>0.000000</td>\n",
       "      <td>0.000000</td>\n",
       "    </tr>\n",
       "  </tbody>\n",
       "</table>\n",
       "<p>1357 rows × 2964 columns</p>\n",
       "</div>"
      ],
      "text/plain": [
       "                 A        AA       AAL       AAN      AAOI      AAON  \\\n",
       "20150102       NaN       NaN       NaN       NaN       NaN       NaN   \n",
       "20150105 -0.018737 -0.057933 -0.000650 -0.003919 -0.012975 -0.033973   \n",
       "20150106 -0.015577  0.007351 -0.015498 -0.037378 -0.037559 -0.015815   \n",
       "20150107  0.013273  0.025880 -0.000565  0.030317 -0.039024  0.009115   \n",
       "20150108  0.029974  0.028461  0.012260  0.016196  0.011168  0.024715   \n",
       "...            ...       ...       ...       ...       ...       ...   \n",
       "20200518  0.025371  0.171171  0.091814  0.066134  0.024540  0.069529   \n",
       "20200519 -0.020201 -0.007692 -0.023303 -0.032964  0.010778 -0.022518   \n",
       "20200520 -0.003172  0.078811  0.023859  0.046173  0.020142  0.008213   \n",
       "20200521 -0.011749 -0.008383  0.002026 -0.001777  0.005807  0.029009   \n",
       "20200522  0.052384 -0.008454 -0.019211  0.008309 -0.005774 -0.001738   \n",
       "\n",
       "               AAP      AAPL       AAT      AAWW  ...      ZION      ZIOP  \\\n",
       "20150102       NaN       NaN       NaN       NaN  ...       NaN       NaN   \n",
       "20150105 -0.013177 -0.028175  0.011396 -0.036555  ... -0.037468 -0.011696   \n",
       "20150106 -0.000704  0.000093  0.007836 -0.021222  ... -0.038192 -0.021696   \n",
       "20150107  0.021485  0.014021  0.018955  0.017959  ...  0.009356  0.012097   \n",
       "20150108  0.008769  0.038426  0.005963  0.037220  ...  0.014184 -0.005976   \n",
       "...            ...       ...       ...       ...  ...       ...       ...   \n",
       "20200518  0.040060  0.023561  0.066448  0.084015  ...  0.119171  0.102041   \n",
       "20200519  0.035924 -0.005779 -0.034615  0.007802  ... -0.033730 -0.074074   \n",
       "20200520 -0.000736  0.019448  0.028287  0.028645  ...  0.065024  0.080000   \n",
       "20200521 -0.006852 -0.007455  0.004649 -0.006774  ... -0.012532  0.047138   \n",
       "20200522 -0.009719  0.006438 -0.029310 -0.007830  ... -0.017572  0.099678   \n",
       "\n",
       "              ZIXI      ZNGA        ZS       ZTS      ZUMZ       ZUO  \\\n",
       "20150102       NaN       NaN       NaN       NaN       NaN       NaN   \n",
       "20150105 -0.019718 -0.007326  1.062500 -0.006004  0.019105  0.428571   \n",
       "20150106 -0.025862 -0.003690 -0.154545 -0.009754 -0.012327  0.030000   \n",
       "20150107 -0.002950 -0.007407  0.088889  0.020642  0.047322  0.000000   \n",
       "20150108  0.076923 -0.037313  0.023041  0.015398  0.027805 -0.050971   \n",
       "...            ...       ...       ...       ...       ...       ...   \n",
       "20200518  0.032833 -0.009950  0.000000  0.030826  0.087572  0.000000   \n",
       "20200519  0.019074  0.010050  0.000000  0.022219 -0.034716  0.000000   \n",
       "20200520  0.074866  0.012438  0.000000 -0.007444 -0.000999  0.000000   \n",
       "20200521  0.023217 -0.000614  0.000000 -0.022574  0.092000  0.000000   \n",
       "20200522  0.009724  0.030117  0.000000 -0.001688 -0.021978  0.000000   \n",
       "\n",
       "              ZYNE      ZYXI  \n",
       "20150102       NaN       NaN  \n",
       "20150105  0.160714 -0.111803  \n",
       "20150106  0.188923 -0.062550  \n",
       "20150107  0.270186 -0.020018  \n",
       "20150108  0.431948 -0.013616  \n",
       "...            ...       ...  \n",
       "20200518  0.000000  0.000000  \n",
       "20200519  0.000000  0.000000  \n",
       "20200520  0.000000  0.000000  \n",
       "20200521  0.000000  0.000000  \n",
       "20200522  0.000000  0.000000  \n",
       "\n",
       "[1357 rows x 2964 columns]"
      ]
     },
     "execution_count": 128,
     "metadata": {},
     "output_type": "execute_result"
    }
   ],
   "source": [
    "ticker_price_df.columns = ticker_price_df.columns.str.replace('/', '-')\n",
    "ticker_return_df = ticker_price_df.pct_change()\n",
    "ticker_return_df"
   ]
  },
  {
   "cell_type": "code",
   "execution_count": 129,
   "metadata": {
    "scrolled": true
   },
   "outputs": [
    {
     "name": "stdout",
     "output_type": "stream",
     "text": [
      "[]\n"
     ]
    }
   ],
   "source": [
    "# Tickers to remove if no ticker data\n",
    "tickers_with_no_data = [ticker for ticker in all_cluster.Ticker if ticker not in ticker_return_df.columns]\n",
    "print(tickers_with_no_data)"
   ]
  },
  {
   "cell_type": "code",
   "execution_count": 130,
   "metadata": {},
   "outputs": [
    {
     "data": {
      "text/html": [
       "<div>\n",
       "<style scoped>\n",
       "    .dataframe tbody tr th:only-of-type {\n",
       "        vertical-align: middle;\n",
       "    }\n",
       "\n",
       "    .dataframe tbody tr th {\n",
       "        vertical-align: top;\n",
       "    }\n",
       "\n",
       "    .dataframe thead th {\n",
       "        text-align: right;\n",
       "    }\n",
       "</style>\n",
       "<table border=\"1\" class=\"dataframe\">\n",
       "  <thead>\n",
       "    <tr style=\"text-align: right;\">\n",
       "      <th></th>\n",
       "      <th>Ticker</th>\n",
       "      <th>GICS</th>\n",
       "      <th>lsi_50_kmeans</th>\n",
       "      <th>lsi_50_gmm</th>\n",
       "      <th>lsi_100_kmeans</th>\n",
       "      <th>lsi_100_gmm</th>\n",
       "      <th>lsi_150_kmeans</th>\n",
       "      <th>lsi_150_gmm</th>\n",
       "      <th>lsi_200_kmeans</th>\n",
       "      <th>lsi_200_gmm</th>\n",
       "      <th>lsi_250_kmeans</th>\n",
       "      <th>lsi_250_gmm</th>\n",
       "      <th>lsi_300_kmeans</th>\n",
       "      <th>lsi_300_gmm</th>\n",
       "      <th>lsi_350_kmeans</th>\n",
       "      <th>lsi_350_gmm</th>\n",
       "      <th>lsi_400_kmeans</th>\n",
       "      <th>lsi_400_gmm</th>\n",
       "    </tr>\n",
       "  </thead>\n",
       "  <tbody>\n",
       "    <tr>\n",
       "      <th>0</th>\n",
       "      <td>A</td>\n",
       "      <td>42</td>\n",
       "      <td>14</td>\n",
       "      <td>31</td>\n",
       "      <td>34</td>\n",
       "      <td>2</td>\n",
       "      <td>35</td>\n",
       "      <td>27</td>\n",
       "      <td>3</td>\n",
       "      <td>55</td>\n",
       "      <td>23</td>\n",
       "      <td>48</td>\n",
       "      <td>57</td>\n",
       "      <td>43</td>\n",
       "      <td>42</td>\n",
       "      <td>2</td>\n",
       "      <td>50</td>\n",
       "      <td>56</td>\n",
       "    </tr>\n",
       "    <tr>\n",
       "      <th>1</th>\n",
       "      <td>AAL</td>\n",
       "      <td>17</td>\n",
       "      <td>0</td>\n",
       "      <td>17</td>\n",
       "      <td>58</td>\n",
       "      <td>36</td>\n",
       "      <td>48</td>\n",
       "      <td>30</td>\n",
       "      <td>29</td>\n",
       "      <td>4</td>\n",
       "      <td>50</td>\n",
       "      <td>45</td>\n",
       "      <td>34</td>\n",
       "      <td>58</td>\n",
       "      <td>49</td>\n",
       "      <td>42</td>\n",
       "      <td>11</td>\n",
       "      <td>45</td>\n",
       "    </tr>\n",
       "    <tr>\n",
       "      <th>2</th>\n",
       "      <td>AAON</td>\n",
       "      <td>8</td>\n",
       "      <td>25</td>\n",
       "      <td>41</td>\n",
       "      <td>12</td>\n",
       "      <td>4</td>\n",
       "      <td>66</td>\n",
       "      <td>50</td>\n",
       "      <td>14</td>\n",
       "      <td>64</td>\n",
       "      <td>62</td>\n",
       "      <td>64</td>\n",
       "      <td>53</td>\n",
       "      <td>38</td>\n",
       "      <td>24</td>\n",
       "      <td>41</td>\n",
       "      <td>20</td>\n",
       "      <td>7</td>\n",
       "    </tr>\n",
       "    <tr>\n",
       "      <th>3</th>\n",
       "      <td>AAP</td>\n",
       "      <td>30</td>\n",
       "      <td>5</td>\n",
       "      <td>58</td>\n",
       "      <td>48</td>\n",
       "      <td>61</td>\n",
       "      <td>46</td>\n",
       "      <td>5</td>\n",
       "      <td>4</td>\n",
       "      <td>64</td>\n",
       "      <td>29</td>\n",
       "      <td>14</td>\n",
       "      <td>53</td>\n",
       "      <td>38</td>\n",
       "      <td>46</td>\n",
       "      <td>53</td>\n",
       "      <td>36</td>\n",
       "      <td>29</td>\n",
       "    </tr>\n",
       "    <tr>\n",
       "      <th>4</th>\n",
       "      <td>AAN</td>\n",
       "      <td>30</td>\n",
       "      <td>43</td>\n",
       "      <td>16</td>\n",
       "      <td>50</td>\n",
       "      <td>59</td>\n",
       "      <td>29</td>\n",
       "      <td>39</td>\n",
       "      <td>0</td>\n",
       "      <td>9</td>\n",
       "      <td>22</td>\n",
       "      <td>27</td>\n",
       "      <td>38</td>\n",
       "      <td>14</td>\n",
       "      <td>61</td>\n",
       "      <td>1</td>\n",
       "      <td>51</td>\n",
       "      <td>31</td>\n",
       "    </tr>\n",
       "  </tbody>\n",
       "</table>\n",
       "</div>"
      ],
      "text/plain": [
       "  Ticker  GICS  lsi_50_kmeans  lsi_50_gmm  lsi_100_kmeans  lsi_100_gmm  \\\n",
       "0      A    42             14          31              34            2   \n",
       "1    AAL    17              0          17              58           36   \n",
       "2   AAON     8             25          41              12            4   \n",
       "3    AAP    30              5          58              48           61   \n",
       "4    AAN    30             43          16              50           59   \n",
       "\n",
       "   lsi_150_kmeans  lsi_150_gmm  lsi_200_kmeans  lsi_200_gmm  lsi_250_kmeans  \\\n",
       "0              35           27               3           55              23   \n",
       "1              48           30              29            4              50   \n",
       "2              66           50              14           64              62   \n",
       "3              46            5               4           64              29   \n",
       "4              29           39               0            9              22   \n",
       "\n",
       "   lsi_250_gmm  lsi_300_kmeans  lsi_300_gmm  lsi_350_kmeans  lsi_350_gmm  \\\n",
       "0           48              57           43              42            2   \n",
       "1           45              34           58              49           42   \n",
       "2           64              53           38              24           41   \n",
       "3           14              53           38              46           53   \n",
       "4           27              38           14              61            1   \n",
       "\n",
       "   lsi_400_kmeans  lsi_400_gmm  \n",
       "0              50           56  \n",
       "1              11           45  \n",
       "2              20            7  \n",
       "3              36           29  \n",
       "4              51           31  "
      ]
     },
     "execution_count": 130,
     "metadata": {},
     "output_type": "execute_result"
    }
   ],
   "source": [
    "all_cluster_filtered = all_cluster[~all_cluster.Ticker.isin(tickers_with_no_data)].reset_index(drop=True)\n",
    "all_cluster_filtered.head()"
   ]
  },
  {
   "cell_type": "code",
   "execution_count": 131,
   "metadata": {
    "scrolled": true
   },
   "outputs": [
    {
     "data": {
      "application/vnd.jupyter.widget-view+json": {
       "model_id": "095ab62c837648b8bd958f0f3b7436e6",
       "version_major": 2,
       "version_minor": 0
      },
      "text/plain": [
       "HBox(children=(FloatProgress(value=0.0, max=18.0), HTML(value='')))"
      ]
     },
     "metadata": {},
     "output_type": "display_data"
    },
    {
     "name": "stdout",
     "output_type": "stream",
     "text": [
      "\n"
     ]
    }
   ],
   "source": [
    "R2_dict = {}\n",
    "\n",
    "for cluster_mtd in tqdm(all_cluster_filtered.columns):\n",
    "    if cluster_mtd == 'Ticker':\n",
    "        continue\n",
    "    \n",
    "    R2_list = []\n",
    "    for i in range(NUM_INDUSTRIES):\n",
    "        cluster_tickers = all_cluster_filtered[all_cluster_filtered[cluster_mtd] == i].Ticker\n",
    "        cluster_ticker_returns = ticker_return_df[cluster_tickers]\n",
    "        mean_return = cluster_ticker_returns.mean(axis=1)\n",
    "        cluster_R2 = [mean_return.corr(ticker_returns) for _, ticker_returns in cluster_ticker_returns.iteritems()]\n",
    "        R2_list.extend(cluster_R2)\n",
    "    avg_R2 = sum(R2_list)/len(R2_list)\n",
    "    R2_dict[cluster_mtd] = avg_R2\n",
    "\n",
    "avg_R2_df = pd.DataFrame.from_dict(R2_dict, orient='index', columns=['Average R2'])"
   ]
  },
  {
   "cell_type": "code",
   "execution_count": 132,
   "metadata": {},
   "outputs": [
    {
     "name": "stdout",
     "output_type": "stream",
     "text": [
      "0.5390955173193318\n"
     ]
    },
    {
     "data": {
      "text/html": [
       "<div>\n",
       "<style scoped>\n",
       "    .dataframe tbody tr th:only-of-type {\n",
       "        vertical-align: middle;\n",
       "    }\n",
       "\n",
       "    .dataframe tbody tr th {\n",
       "        vertical-align: top;\n",
       "    }\n",
       "\n",
       "    .dataframe thead th {\n",
       "        text-align: right;\n",
       "    }\n",
       "</style>\n",
       "<table border=\"1\" class=\"dataframe\">\n",
       "  <thead>\n",
       "    <tr style=\"text-align: right;\">\n",
       "      <th></th>\n",
       "      <th>kmeans</th>\n",
       "      <th>gmm</th>\n",
       "    </tr>\n",
       "  </thead>\n",
       "  <tbody>\n",
       "    <tr>\n",
       "      <th>50</th>\n",
       "      <td>0.545376</td>\n",
       "      <td>0.544600</td>\n",
       "    </tr>\n",
       "    <tr>\n",
       "      <th>100</th>\n",
       "      <td>0.537682</td>\n",
       "      <td>0.537158</td>\n",
       "    </tr>\n",
       "    <tr>\n",
       "      <th>150</th>\n",
       "      <td>0.544405</td>\n",
       "      <td>0.544511</td>\n",
       "    </tr>\n",
       "    <tr>\n",
       "      <th>200</th>\n",
       "      <td>0.540864</td>\n",
       "      <td>0.543550</td>\n",
       "    </tr>\n",
       "    <tr>\n",
       "      <th>250</th>\n",
       "      <td>0.544499</td>\n",
       "      <td>0.535519</td>\n",
       "    </tr>\n",
       "    <tr>\n",
       "      <th>300</th>\n",
       "      <td>0.540311</td>\n",
       "      <td>0.545846</td>\n",
       "    </tr>\n",
       "    <tr>\n",
       "      <th>350</th>\n",
       "      <td>0.543500</td>\n",
       "      <td>0.546790</td>\n",
       "    </tr>\n",
       "    <tr>\n",
       "      <th>400</th>\n",
       "      <td>0.539665</td>\n",
       "      <td>0.547992</td>\n",
       "    </tr>\n",
       "  </tbody>\n",
       "</table>\n",
       "</div>"
      ],
      "text/plain": [
       "       kmeans       gmm\n",
       "50   0.545376  0.544600\n",
       "100  0.537682  0.537158\n",
       "150  0.544405  0.544511\n",
       "200  0.540864  0.543550\n",
       "250  0.544499  0.535519\n",
       "300  0.540311  0.545846\n",
       "350  0.543500  0.546790\n",
       "400  0.539665  0.547992"
      ]
     },
     "execution_count": 132,
     "metadata": {},
     "output_type": "execute_result"
    }
   ],
   "source": [
    "GICS_R2 = R2_dict['GICS']\n",
    "MTDS = ['kmeans', 'gmm']\n",
    "list_of_dfs = []\n",
    "\n",
    "for mtd in MTDS:\n",
    "    mtd_df = avg_R2_df.filter(regex=mtd, axis=0)\n",
    "    mtd_df.index = mtd_df.index.map(lambda s: s.split('_')[1])\n",
    "    mtd_df.columns = [mtd]  #(columns = {'test':'TEST'}, inplace = True) \n",
    "    list_of_dfs.append(mtd_df)\n",
    "\n",
    "avg_R2_pivot_df = pd.concat(list_of_dfs, axis=1)\n",
    "print(GICS_R2)\n",
    "avg_R2_pivot_df"
   ]
  },
  {
   "cell_type": "code",
   "execution_count": 29,
   "metadata": {},
   "outputs": [
    {
     "data": {
      "image/png": "[encoded data removed]",
      "text/plain": [
       "<matplotlib.figure.Figure at 0x240d2c96e48>"
      ]
     },
     "metadata": {
      "needs_background": "light"
     },
     "output_type": "display_data"
    }
   ],
   "source": [
    "ax = sns.lineplot(data=avg_R2_pivot_df, sort=False)\n",
    "ax.axhline(GICS_R2, color=\"red\", linestyle=\"--\")\n",
    "ax.set(xlabel='k, LSI Embedding Parameter', ylabel='R2 (Average Correlation)', title='R2 results - Clustering SnP using 10K reports')\n",
    "plt.savefig('data_out/images/1_1.png')"
   ]
  },
  {
   "cell_type": "code",
   "execution_count": 65,
   "metadata": {},
   "outputs": [
    {
     "data": {
      "image/png": "[encoded data removed]",
      "text/plain": [
       "<matplotlib.figure.Figure at 0x240d2b01198>"
      ]
     },
     "metadata": {
      "needs_background": "light"
     },
     "output_type": "display_data"
    }
   ],
   "source": [
    "ax = sns.lineplot(data=avg_R2_pivot_df, sort=False)\n",
    "ax.axhline(GICS_R2, color=\"red\", linestyle=\"--\")\n",
    "ax.set(xlabel='k, LSI Embedding Parameter', ylabel='R2 (Average Correlation)', title='R2 results - Clustering SnP using yahoo desc')\n",
    "plt.savefig('data_out/images/1_2.png')"
   ]
  },
  {
   "cell_type": "code",
   "execution_count": 99,
   "metadata": {},
   "outputs": [
    {
     "data": {
      "image/png": "[encoded data removed]",
      "text/plain": [
       "<matplotlib.figure.Figure at 0x240db910c18>"
      ]
     },
     "metadata": {
      "needs_background": "light"
     },
     "output_type": "display_data"
    }
   ],
   "source": [
    "ax = sns.lineplot(data=avg_R2_pivot_df, sort=False)\n",
    "ax.axhline(GICS_R2, color=\"red\", linestyle=\"--\")\n",
    "ax.set(xlabel='k, LSI Embedding Parameter', ylabel='R2 (Average Correlation)', title='R2 results - Clustering Russell using 10K reports')\n",
    "plt.savefig('data_out/images/1_3.png')"
   ]
  },
  {
   "cell_type": "code",
   "execution_count": 133,
   "metadata": {},
   "outputs": [
    {
     "data": {
      "image/png": "[encoded data removed]",
      "text/plain": [
       "<matplotlib.figure.Figure at 0x240d2bc8748>"
      ]
     },
     "metadata": {
      "needs_background": "light"
     },
     "output_type": "display_data"
    }
   ],
   "source": [
    "ax = sns.lineplot(data=avg_R2_pivot_df, sort=False)\n",
    "ax.axhline(GICS_R2, color=\"red\", linestyle=\"--\")\n",
    "ax.set(xlabel='k, LSI Embedding Parameter', ylabel='R2 (Average Correlation)', title='R2 results - Clustering Russell using yahoo desc')\n",
    "plt.savefig('data_out/images/1_4.png')"
   ]
  },
  {
   "cell_type": "markdown",
   "metadata": {},
   "source": [
    "### Method 2a - Inter Industry Variation of firm ratios\n",
    "\n",
    "- The second criterion used is the across-industry variation (Hoberg and Phillips)\n",
    "- Need to handle missing values of ratios\n",
    "- in previous paper they removed outlier so higher score\n",
    "- The higher the score the better"
   ]
  },
  {
   "cell_type": "code",
   "execution_count": 134,
   "metadata": {},
   "outputs": [],
   "source": [
    "ticker_ratios_df = pd.read_csv('data_in/russell_ratios.csv')"
   ]
  },
  {
   "cell_type": "code",
   "execution_count": 135,
   "metadata": {},
   "outputs": [],
   "source": [
    "def percentage_to_float(s):\n",
    "    if type(s) == float:\n",
    "        return s\n",
    "    return float(s.strip('%').replace(',',''))/100\n",
    "\n",
    "def mkt_cap_converter(s):\n",
    "    if type(s) == float:\n",
    "        return s\n",
    "    multiplier = s[-1]\n",
    "    if multiplier == 'M':\n",
    "        return float(s[:-1])* 1000\n",
    "    if multiplier == 'B':\n",
    "        return float(s[:-1]) * 1000\n",
    "    if multiplier == 'T':\n",
    "        return float(s[:-1]) * 1000000\n",
    "    else:\n",
    "        raise Exception(s)\n",
    "        \n",
    "def pb_ratio_converter(s):\n",
    "    if type(s) == float:\n",
    "        return s\n",
    "    multiplier = s[-1]\n",
    "    if multiplier == 'k':\n",
    "        return float(s[:-1]) * 1000\n",
    "    else:\n",
    "        return float(s)\n",
    "    \n",
    "def remove_commas(s):\n",
    "    if type(s) == float:\n",
    "        return s\n",
    "    return float(s.replace(',',''))"
   ]
  },
  {
   "cell_type": "code",
   "execution_count": 136,
   "metadata": {},
   "outputs": [
    {
     "data": {
      "text/html": [
       "<div>\n",
       "<style scoped>\n",
       "    .dataframe tbody tr th:only-of-type {\n",
       "        vertical-align: middle;\n",
       "    }\n",
       "\n",
       "    .dataframe tbody tr th {\n",
       "        vertical-align: top;\n",
       "    }\n",
       "\n",
       "    .dataframe thead th {\n",
       "        text-align: right;\n",
       "    }\n",
       "</style>\n",
       "<table border=\"1\" class=\"dataframe\">\n",
       "  <thead>\n",
       "    <tr style=\"text-align: right;\">\n",
       "      <th></th>\n",
       "      <th>Ticker</th>\n",
       "      <th>mkt_cap</th>\n",
       "      <th>pb_ratio</th>\n",
       "      <th>beta</th>\n",
       "      <th>profit_margin</th>\n",
       "      <th>ROA</th>\n",
       "      <th>ROE</th>\n",
       "    </tr>\n",
       "  </thead>\n",
       "  <tbody>\n",
       "    <tr>\n",
       "      <th>0</th>\n",
       "      <td>MMM</td>\n",
       "      <td>78520.0</td>\n",
       "      <td>7.80</td>\n",
       "      <td>1.00</td>\n",
       "      <td>0.1537</td>\n",
       "      <td>0.1040</td>\n",
       "      <td>0.4992</td>\n",
       "    </tr>\n",
       "    <tr>\n",
       "      <th>1</th>\n",
       "      <td>ABT</td>\n",
       "      <td>139580.0</td>\n",
       "      <td>4.49</td>\n",
       "      <td>0.97</td>\n",
       "      <td>0.1115</td>\n",
       "      <td>0.0459</td>\n",
       "      <td>0.1156</td>\n",
       "    </tr>\n",
       "    <tr>\n",
       "      <th>2</th>\n",
       "      <td>ABBV</td>\n",
       "      <td>112510.0</td>\n",
       "      <td>NaN</td>\n",
       "      <td>0.78</td>\n",
       "      <td>0.2477</td>\n",
       "      <td>0.1180</td>\n",
       "      <td>NaN</td>\n",
       "    </tr>\n",
       "    <tr>\n",
       "      <th>3</th>\n",
       "      <td>ABMD</td>\n",
       "      <td>6530.0</td>\n",
       "      <td>6.24</td>\n",
       "      <td>0.86</td>\n",
       "      <td>0.2414</td>\n",
       "      <td>0.1372</td>\n",
       "      <td>0.2028</td>\n",
       "    </tr>\n",
       "    <tr>\n",
       "      <th>4</th>\n",
       "      <td>ACN</td>\n",
       "      <td>114850.0</td>\n",
       "      <td>7.59</td>\n",
       "      <td>1.03</td>\n",
       "      <td>0.1113</td>\n",
       "      <td>0.1344</td>\n",
       "      <td>0.3401</td>\n",
       "    </tr>\n",
       "    <tr>\n",
       "      <th>...</th>\n",
       "      <td>...</td>\n",
       "      <td>...</td>\n",
       "      <td>...</td>\n",
       "      <td>...</td>\n",
       "      <td>...</td>\n",
       "      <td>...</td>\n",
       "      <td>...</td>\n",
       "    </tr>\n",
       "    <tr>\n",
       "      <th>2886</th>\n",
       "      <td>PMT</td>\n",
       "      <td>1060.0</td>\n",
       "      <td>0.49</td>\n",
       "      <td>1.09</td>\n",
       "      <td>0.0000</td>\n",
       "      <td>-0.0433</td>\n",
       "      <td>-0.2376</td>\n",
       "    </tr>\n",
       "    <tr>\n",
       "      <th>2887</th>\n",
       "      <td>COLL</td>\n",
       "      <td>560220.0</td>\n",
       "      <td>6.41</td>\n",
       "      <td>1.07</td>\n",
       "      <td>-0.0421</td>\n",
       "      <td>-0.0117</td>\n",
       "      <td>-0.1106</td>\n",
       "    </tr>\n",
       "    <tr>\n",
       "      <th>2888</th>\n",
       "      <td>FLIC</td>\n",
       "      <td>412810.0</td>\n",
       "      <td>1.06</td>\n",
       "      <td>0.52</td>\n",
       "      <td>0.3688</td>\n",
       "      <td>0.0096</td>\n",
       "      <td>0.1045</td>\n",
       "    </tr>\n",
       "    <tr>\n",
       "      <th>2889</th>\n",
       "      <td>GWR</td>\n",
       "      <td>6300.0</td>\n",
       "      <td>1.81</td>\n",
       "      <td>1.31</td>\n",
       "      <td>0.0928</td>\n",
       "      <td>0.0308</td>\n",
       "      <td>0.0580</td>\n",
       "    </tr>\n",
       "    <tr>\n",
       "      <th>2890</th>\n",
       "      <td>AVX</td>\n",
       "      <td>3460.0</td>\n",
       "      <td>1.43</td>\n",
       "      <td>NaN</td>\n",
       "      <td>NaN</td>\n",
       "      <td>NaN</td>\n",
       "      <td>NaN</td>\n",
       "    </tr>\n",
       "  </tbody>\n",
       "</table>\n",
       "<p>2891 rows × 7 columns</p>\n",
       "</div>"
      ],
      "text/plain": [
       "     Ticker   mkt_cap  pb_ratio  beta  profit_margin     ROA     ROE\n",
       "0       MMM   78520.0      7.80  1.00         0.1537  0.1040  0.4992\n",
       "1       ABT  139580.0      4.49  0.97         0.1115  0.0459  0.1156\n",
       "2      ABBV  112510.0       NaN  0.78         0.2477  0.1180     NaN\n",
       "3      ABMD    6530.0      6.24  0.86         0.2414  0.1372  0.2028\n",
       "4       ACN  114850.0      7.59  1.03         0.1113  0.1344  0.3401\n",
       "...     ...       ...       ...   ...            ...     ...     ...\n",
       "2886    PMT    1060.0      0.49  1.09         0.0000 -0.0433 -0.2376\n",
       "2887   COLL  560220.0      6.41  1.07        -0.0421 -0.0117 -0.1106\n",
       "2888   FLIC  412810.0      1.06  0.52         0.3688  0.0096  0.1045\n",
       "2889    GWR    6300.0      1.81  1.31         0.0928  0.0308  0.0580\n",
       "2890    AVX    3460.0      1.43   NaN            NaN     NaN     NaN\n",
       "\n",
       "[2891 rows x 7 columns]"
      ]
     },
     "execution_count": 136,
     "metadata": {},
     "output_type": "execute_result"
    }
   ],
   "source": [
    "ticker_ratios_df.columns = ['Ticker', 'mkt_cap', 'pb_ratio', 'beta', 'profit_margin', 'ROA', 'ROE']\n",
    "\n",
    "ticker_ratios_df.mkt_cap = ticker_ratios_df.mkt_cap.apply(mkt_cap_converter)\n",
    "ticker_ratios_df.pb_ratio = ticker_ratios_df.pb_ratio.apply(pb_ratio_converter)\n",
    "ticker_ratios_df.beta = ticker_ratios_df.beta.apply(remove_commas)\n",
    "ticker_ratios_df.profit_margin = ticker_ratios_df.profit_margin.apply(percentage_to_float)\n",
    "ticker_ratios_df.ROA = ticker_ratios_df.ROA.apply(percentage_to_float)\n",
    "ticker_ratios_df.ROE = ticker_ratios_df.ROE.apply(percentage_to_float)\n",
    "\n",
    "ticker_ratios_df"
   ]
  },
  {
   "cell_type": "code",
   "execution_count": 137,
   "metadata": {},
   "outputs": [],
   "source": [
    "# ticker_ratios_df = pd.read_csv('data_out/snp_ratios_df.csv', index_col=0)\n",
    "# ticker_ratios_df"
   ]
  },
  {
   "cell_type": "code",
   "execution_count": 138,
   "metadata": {},
   "outputs": [
    {
     "data": {
      "text/html": [
       "<div>\n",
       "<style scoped>\n",
       "    .dataframe tbody tr th:only-of-type {\n",
       "        vertical-align: middle;\n",
       "    }\n",
       "\n",
       "    .dataframe tbody tr th {\n",
       "        vertical-align: top;\n",
       "    }\n",
       "\n",
       "    .dataframe thead th {\n",
       "        text-align: right;\n",
       "    }\n",
       "</style>\n",
       "<table border=\"1\" class=\"dataframe\">\n",
       "  <thead>\n",
       "    <tr style=\"text-align: right;\">\n",
       "      <th></th>\n",
       "      <th>Ticker</th>\n",
       "      <th>mkt_cap</th>\n",
       "      <th>pb_ratio</th>\n",
       "      <th>beta</th>\n",
       "      <th>profit_margin</th>\n",
       "      <th>ROA</th>\n",
       "      <th>ROE</th>\n",
       "    </tr>\n",
       "  </thead>\n",
       "  <tbody>\n",
       "    <tr>\n",
       "      <th>0</th>\n",
       "      <td>MMM</td>\n",
       "      <td>78520.0</td>\n",
       "      <td>7.80</td>\n",
       "      <td>1.00</td>\n",
       "      <td>0.1537</td>\n",
       "      <td>0.1040</td>\n",
       "      <td>0.4992</td>\n",
       "    </tr>\n",
       "    <tr>\n",
       "      <th>1</th>\n",
       "      <td>ABT</td>\n",
       "      <td>139580.0</td>\n",
       "      <td>4.49</td>\n",
       "      <td>0.97</td>\n",
       "      <td>0.1115</td>\n",
       "      <td>0.0459</td>\n",
       "      <td>0.1156</td>\n",
       "    </tr>\n",
       "    <tr>\n",
       "      <th>2</th>\n",
       "      <td>ABBV</td>\n",
       "      <td>112510.0</td>\n",
       "      <td>NaN</td>\n",
       "      <td>0.78</td>\n",
       "      <td>0.2477</td>\n",
       "      <td>0.1180</td>\n",
       "      <td>NaN</td>\n",
       "    </tr>\n",
       "    <tr>\n",
       "      <th>3</th>\n",
       "      <td>ABMD</td>\n",
       "      <td>6530.0</td>\n",
       "      <td>6.24</td>\n",
       "      <td>0.86</td>\n",
       "      <td>0.2414</td>\n",
       "      <td>0.1372</td>\n",
       "      <td>0.2028</td>\n",
       "    </tr>\n",
       "    <tr>\n",
       "      <th>4</th>\n",
       "      <td>ACN</td>\n",
       "      <td>114850.0</td>\n",
       "      <td>7.59</td>\n",
       "      <td>1.03</td>\n",
       "      <td>0.1113</td>\n",
       "      <td>0.1344</td>\n",
       "      <td>0.3401</td>\n",
       "    </tr>\n",
       "    <tr>\n",
       "      <th>...</th>\n",
       "      <td>...</td>\n",
       "      <td>...</td>\n",
       "      <td>...</td>\n",
       "      <td>...</td>\n",
       "      <td>...</td>\n",
       "      <td>...</td>\n",
       "      <td>...</td>\n",
       "    </tr>\n",
       "    <tr>\n",
       "      <th>2886</th>\n",
       "      <td>PMT</td>\n",
       "      <td>1060.0</td>\n",
       "      <td>0.49</td>\n",
       "      <td>1.09</td>\n",
       "      <td>0.0000</td>\n",
       "      <td>-0.0433</td>\n",
       "      <td>-0.2376</td>\n",
       "    </tr>\n",
       "    <tr>\n",
       "      <th>2887</th>\n",
       "      <td>COLL</td>\n",
       "      <td>560220.0</td>\n",
       "      <td>6.41</td>\n",
       "      <td>1.07</td>\n",
       "      <td>-0.0421</td>\n",
       "      <td>-0.0117</td>\n",
       "      <td>-0.1106</td>\n",
       "    </tr>\n",
       "    <tr>\n",
       "      <th>2888</th>\n",
       "      <td>FLIC</td>\n",
       "      <td>412810.0</td>\n",
       "      <td>1.06</td>\n",
       "      <td>0.52</td>\n",
       "      <td>0.3688</td>\n",
       "      <td>0.0096</td>\n",
       "      <td>0.1045</td>\n",
       "    </tr>\n",
       "    <tr>\n",
       "      <th>2889</th>\n",
       "      <td>GWR</td>\n",
       "      <td>6300.0</td>\n",
       "      <td>1.81</td>\n",
       "      <td>1.31</td>\n",
       "      <td>0.0928</td>\n",
       "      <td>0.0308</td>\n",
       "      <td>0.0580</td>\n",
       "    </tr>\n",
       "    <tr>\n",
       "      <th>2890</th>\n",
       "      <td>AVX</td>\n",
       "      <td>3460.0</td>\n",
       "      <td>1.43</td>\n",
       "      <td>NaN</td>\n",
       "      <td>NaN</td>\n",
       "      <td>NaN</td>\n",
       "      <td>NaN</td>\n",
       "    </tr>\n",
       "  </tbody>\n",
       "</table>\n",
       "<p>2891 rows × 7 columns</p>\n",
       "</div>"
      ],
      "text/plain": [
       "     Ticker   mkt_cap  pb_ratio  beta  profit_margin     ROA     ROE\n",
       "0       MMM   78520.0      7.80  1.00         0.1537  0.1040  0.4992\n",
       "1       ABT  139580.0      4.49  0.97         0.1115  0.0459  0.1156\n",
       "2      ABBV  112510.0       NaN  0.78         0.2477  0.1180     NaN\n",
       "3      ABMD    6530.0      6.24  0.86         0.2414  0.1372  0.2028\n",
       "4       ACN  114850.0      7.59  1.03         0.1113  0.1344  0.3401\n",
       "...     ...       ...       ...   ...            ...     ...     ...\n",
       "2886    PMT    1060.0      0.49  1.09         0.0000 -0.0433 -0.2376\n",
       "2887   COLL  560220.0      6.41  1.07        -0.0421 -0.0117 -0.1106\n",
       "2888   FLIC  412810.0      1.06  0.52         0.3688  0.0096  0.1045\n",
       "2889    GWR    6300.0      1.81  1.31         0.0928  0.0308  0.0580\n",
       "2890    AVX    3460.0      1.43   NaN            NaN     NaN     NaN\n",
       "\n",
       "[2891 rows x 7 columns]"
      ]
     },
     "execution_count": 138,
     "metadata": {},
     "output_type": "execute_result"
    }
   ],
   "source": [
    "# Normalise values\n",
    "ticker_ratios_normalised_df = ticker_ratios_df.copy()\n",
    "# for header in ticker_ratios_df.columns[1:]:\n",
    "#     col = ticker_ratios_df[header]\n",
    "#     ticker_ratios_normalised_df[header] = (col - col.mean())/col.std()\n",
    "ticker_ratios_normalised_df"
   ]
  },
  {
   "cell_type": "code",
   "execution_count": 139,
   "metadata": {
    "scrolled": true
   },
   "outputs": [
    {
     "name": "stdout",
     "output_type": "stream",
     "text": [
      "['ADPT', 'ARNC', 'AVTR', 'BEAM', 'CE', 'LB', 'NOVA', 'PPD', 'STSA']\n"
     ]
    }
   ],
   "source": [
    "# Tickers to remove if no ratio data\n",
    "tickers_with_no_data = [ticker for ticker in all_cluster.Ticker if ticker not in list(ticker_ratios_df.Ticker)]\n",
    "print(tickers_with_no_data)"
   ]
  },
  {
   "cell_type": "code",
   "execution_count": 140,
   "metadata": {},
   "outputs": [
    {
     "data": {
      "text/html": [
       "<div>\n",
       "<style scoped>\n",
       "    .dataframe tbody tr th:only-of-type {\n",
       "        vertical-align: middle;\n",
       "    }\n",
       "\n",
       "    .dataframe tbody tr th {\n",
       "        vertical-align: top;\n",
       "    }\n",
       "\n",
       "    .dataframe thead th {\n",
       "        text-align: right;\n",
       "    }\n",
       "</style>\n",
       "<table border=\"1\" class=\"dataframe\">\n",
       "  <thead>\n",
       "    <tr style=\"text-align: right;\">\n",
       "      <th></th>\n",
       "      <th>Ticker</th>\n",
       "      <th>GICS</th>\n",
       "      <th>lsi_50_kmeans</th>\n",
       "      <th>lsi_50_gmm</th>\n",
       "      <th>lsi_100_kmeans</th>\n",
       "      <th>lsi_100_gmm</th>\n",
       "      <th>lsi_150_kmeans</th>\n",
       "      <th>lsi_150_gmm</th>\n",
       "      <th>lsi_200_kmeans</th>\n",
       "      <th>lsi_200_gmm</th>\n",
       "      <th>lsi_250_kmeans</th>\n",
       "      <th>lsi_250_gmm</th>\n",
       "      <th>lsi_300_kmeans</th>\n",
       "      <th>lsi_300_gmm</th>\n",
       "      <th>lsi_350_kmeans</th>\n",
       "      <th>lsi_350_gmm</th>\n",
       "      <th>lsi_400_kmeans</th>\n",
       "      <th>lsi_400_gmm</th>\n",
       "    </tr>\n",
       "  </thead>\n",
       "  <tbody>\n",
       "    <tr>\n",
       "      <th>0</th>\n",
       "      <td>A</td>\n",
       "      <td>42</td>\n",
       "      <td>14</td>\n",
       "      <td>31</td>\n",
       "      <td>34</td>\n",
       "      <td>2</td>\n",
       "      <td>35</td>\n",
       "      <td>27</td>\n",
       "      <td>3</td>\n",
       "      <td>55</td>\n",
       "      <td>23</td>\n",
       "      <td>48</td>\n",
       "      <td>57</td>\n",
       "      <td>43</td>\n",
       "      <td>42</td>\n",
       "      <td>2</td>\n",
       "      <td>50</td>\n",
       "      <td>56</td>\n",
       "    </tr>\n",
       "    <tr>\n",
       "      <th>1</th>\n",
       "      <td>AAL</td>\n",
       "      <td>17</td>\n",
       "      <td>0</td>\n",
       "      <td>17</td>\n",
       "      <td>58</td>\n",
       "      <td>36</td>\n",
       "      <td>48</td>\n",
       "      <td>30</td>\n",
       "      <td>29</td>\n",
       "      <td>4</td>\n",
       "      <td>50</td>\n",
       "      <td>45</td>\n",
       "      <td>34</td>\n",
       "      <td>58</td>\n",
       "      <td>49</td>\n",
       "      <td>42</td>\n",
       "      <td>11</td>\n",
       "      <td>45</td>\n",
       "    </tr>\n",
       "    <tr>\n",
       "      <th>2</th>\n",
       "      <td>AAON</td>\n",
       "      <td>8</td>\n",
       "      <td>25</td>\n",
       "      <td>41</td>\n",
       "      <td>12</td>\n",
       "      <td>4</td>\n",
       "      <td>66</td>\n",
       "      <td>50</td>\n",
       "      <td>14</td>\n",
       "      <td>64</td>\n",
       "      <td>62</td>\n",
       "      <td>64</td>\n",
       "      <td>53</td>\n",
       "      <td>38</td>\n",
       "      <td>24</td>\n",
       "      <td>41</td>\n",
       "      <td>20</td>\n",
       "      <td>7</td>\n",
       "    </tr>\n",
       "    <tr>\n",
       "      <th>3</th>\n",
       "      <td>AAP</td>\n",
       "      <td>30</td>\n",
       "      <td>5</td>\n",
       "      <td>58</td>\n",
       "      <td>48</td>\n",
       "      <td>61</td>\n",
       "      <td>46</td>\n",
       "      <td>5</td>\n",
       "      <td>4</td>\n",
       "      <td>64</td>\n",
       "      <td>29</td>\n",
       "      <td>14</td>\n",
       "      <td>53</td>\n",
       "      <td>38</td>\n",
       "      <td>46</td>\n",
       "      <td>53</td>\n",
       "      <td>36</td>\n",
       "      <td>29</td>\n",
       "    </tr>\n",
       "    <tr>\n",
       "      <th>4</th>\n",
       "      <td>AAN</td>\n",
       "      <td>30</td>\n",
       "      <td>43</td>\n",
       "      <td>16</td>\n",
       "      <td>50</td>\n",
       "      <td>59</td>\n",
       "      <td>29</td>\n",
       "      <td>39</td>\n",
       "      <td>0</td>\n",
       "      <td>9</td>\n",
       "      <td>22</td>\n",
       "      <td>27</td>\n",
       "      <td>38</td>\n",
       "      <td>14</td>\n",
       "      <td>61</td>\n",
       "      <td>1</td>\n",
       "      <td>51</td>\n",
       "      <td>31</td>\n",
       "    </tr>\n",
       "  </tbody>\n",
       "</table>\n",
       "</div>"
      ],
      "text/plain": [
       "  Ticker  GICS  lsi_50_kmeans  lsi_50_gmm  lsi_100_kmeans  lsi_100_gmm  \\\n",
       "0      A    42             14          31              34            2   \n",
       "1    AAL    17              0          17              58           36   \n",
       "2   AAON     8             25          41              12            4   \n",
       "3    AAP    30              5          58              48           61   \n",
       "4    AAN    30             43          16              50           59   \n",
       "\n",
       "   lsi_150_kmeans  lsi_150_gmm  lsi_200_kmeans  lsi_200_gmm  lsi_250_kmeans  \\\n",
       "0              35           27               3           55              23   \n",
       "1              48           30              29            4              50   \n",
       "2              66           50              14           64              62   \n",
       "3              46            5               4           64              29   \n",
       "4              29           39               0            9              22   \n",
       "\n",
       "   lsi_250_gmm  lsi_300_kmeans  lsi_300_gmm  lsi_350_kmeans  lsi_350_gmm  \\\n",
       "0           48              57           43              42            2   \n",
       "1           45              34           58              49           42   \n",
       "2           64              53           38              24           41   \n",
       "3           14              53           38              46           53   \n",
       "4           27              38           14              61            1   \n",
       "\n",
       "   lsi_400_kmeans  lsi_400_gmm  \n",
       "0              50           56  \n",
       "1              11           45  \n",
       "2              20            7  \n",
       "3              36           29  \n",
       "4              51           31  "
      ]
     },
     "execution_count": 140,
     "metadata": {},
     "output_type": "execute_result"
    }
   ],
   "source": [
    "all_cluster_filtered = all_cluster[~all_cluster.Ticker.isin(tickers_with_no_data)].reset_index(drop=True)\n",
    "all_cluster_filtered.head()"
   ]
  },
  {
   "cell_type": "markdown",
   "metadata": {},
   "source": [
    "<font size=\"5\">\n",
    "$$\n",
    "\\sigma_v = \\frac\n",
    "                {\\sqrt{\\sum_{i=0}^{N} n_i \\frac{v_m - v_i}{N}}}\n",
    "                {\\sqrt{\\sum_{j=0}^{F} \\frac{v_m - f_j}{N}}            }\n",
    "$$\n",
    "</font>\n",
    "\n",
    "- $N$ - num industries\n",
    "- $F$ - num firms\n",
    "- $n_i$ - num firms in industry i\n",
    "- $v_m$ - overall mean value of characteristic\n",
    "- $v_i$ - mean value of characteristic in industry i\n",
    "- $f_j$ - value of characteristic for firm j\n",
    "\n",
    "\n",
    "- numerator is weighted average, while denomenator is simple average\n"
   ]
  },
  {
   "cell_type": "markdown",
   "metadata": {},
   "source": [
    "- recheck method for Na values"
   ]
  },
  {
   "cell_type": "code",
   "execution_count": 141,
   "metadata": {},
   "outputs": [],
   "source": [
    "def cluster_variation(s):\n",
    "    '''\n",
    "    input: series\n",
    "    output: sum(x - x_bar), sum of absolute distances to cluster center\n",
    "    '''\n",
    "    mean = s.mean() # ignores NaN values\n",
    "    n  = s.count() # count non-NaN values\n",
    "    variation = n * (v_m[s.name] - mean)**2\n",
    "    return variation"
   ]
  },
  {
   "cell_type": "code",
   "execution_count": 142,
   "metadata": {},
   "outputs": [
    {
     "data": {
      "application/vnd.jupyter.widget-view+json": {
       "model_id": "95793a74420f40f5aed3cc2adaf87a15",
       "version_major": 2,
       "version_minor": 0
      },
      "text/plain": [
       "HBox(children=(FloatProgress(value=0.0, max=18.0), HTML(value='')))"
      ]
     },
     "metadata": {},
     "output_type": "display_data"
    },
    {
     "name": "stdout",
     "output_type": "stream",
     "text": [
      "\n"
     ]
    }
   ],
   "source": [
    "RATIO_NAMES_LIST = list(ticker_ratios_df.columns[1:])\n",
    "all_cluster_with_ratio = pd.merge(all_cluster_filtered, ticker_ratios_normalised_df, on='Ticker')\n",
    "ratio_variation_dict = {}\n",
    "\n",
    "for cluster_mtd in tqdm(all_cluster_filtered.columns):\n",
    "    if cluster_mtd == 'Ticker':\n",
    "        continue\n",
    "    filter_df = all_cluster_with_ratio[[cluster_mtd] + RATIO_NAMES_LIST]\n",
    "    v_m = all_cluster_with_ratio[RATIO_NAMES_LIST].mean()\n",
    "    variation_df = filter_df.groupby(cluster_mtd).aggregate(cluster_variation)\n",
    "    variation_series = variation_df.sum()\n",
    "    N_ratios = ticker_ratios_normalised_df[RATIO_NAMES_LIST].count() # count non-NaN values\n",
    "\n",
    "    normaliser_series = ticker_ratios_normalised_df[RATIO_NAMES_LIST].std()\n",
    "\n",
    "    sigma_v = list(np.sqrt(variation_series/N_ratios) / normaliser_series)\n",
    "    ratio_variation_dict[cluster_mtd] = sigma_v\n",
    "\n",
    "ratio_variation_df = pd.DataFrame.from_dict(ratio_variation_dict, orient='index', columns=RATIO_NAMES_LIST)\n",
    "ratio_variation_df['Average Ratio Variation'] = ratio_variation_df.mean(axis=1)"
   ]
  },
  {
   "cell_type": "code",
   "execution_count": 143,
   "metadata": {
    "scrolled": true
   },
   "outputs": [
    {
     "data": {
      "text/html": [
       "<div>\n",
       "<style scoped>\n",
       "    .dataframe tbody tr th:only-of-type {\n",
       "        vertical-align: middle;\n",
       "    }\n",
       "\n",
       "    .dataframe tbody tr th {\n",
       "        vertical-align: top;\n",
       "    }\n",
       "\n",
       "    .dataframe thead th {\n",
       "        text-align: right;\n",
       "    }\n",
       "</style>\n",
       "<table border=\"1\" class=\"dataframe\">\n",
       "  <thead>\n",
       "    <tr style=\"text-align: right;\">\n",
       "      <th></th>\n",
       "      <th>mkt_cap</th>\n",
       "      <th>pb_ratio</th>\n",
       "      <th>beta</th>\n",
       "      <th>profit_margin</th>\n",
       "      <th>ROA</th>\n",
       "      <th>ROE</th>\n",
       "      <th>Average Ratio Variation</th>\n",
       "    </tr>\n",
       "  </thead>\n",
       "  <tbody>\n",
       "    <tr>\n",
       "      <th>GICS</th>\n",
       "      <td>0.198667</td>\n",
       "      <td>0.259348</td>\n",
       "      <td>0.118535</td>\n",
       "      <td>0.093269</td>\n",
       "      <td>0.329647</td>\n",
       "      <td>0.201335</td>\n",
       "      <td>0.200134</td>\n",
       "    </tr>\n",
       "    <tr>\n",
       "      <th>lsi_50_kmeans</th>\n",
       "      <td>0.188293</td>\n",
       "      <td>0.218069</td>\n",
       "      <td>0.265772</td>\n",
       "      <td>0.147319</td>\n",
       "      <td>0.352848</td>\n",
       "      <td>0.215210</td>\n",
       "      <td>0.231252</td>\n",
       "    </tr>\n",
       "    <tr>\n",
       "      <th>lsi_50_gmm</th>\n",
       "      <td>0.188692</td>\n",
       "      <td>0.207690</td>\n",
       "      <td>0.256582</td>\n",
       "      <td>0.168182</td>\n",
       "      <td>0.348304</td>\n",
       "      <td>0.250548</td>\n",
       "      <td>0.236666</td>\n",
       "    </tr>\n",
       "    <tr>\n",
       "      <th>lsi_100_kmeans</th>\n",
       "      <td>0.171022</td>\n",
       "      <td>0.204348</td>\n",
       "      <td>0.206985</td>\n",
       "      <td>0.197716</td>\n",
       "      <td>0.338590</td>\n",
       "      <td>0.215295</td>\n",
       "      <td>0.222326</td>\n",
       "    </tr>\n",
       "    <tr>\n",
       "      <th>lsi_100_gmm</th>\n",
       "      <td>0.194861</td>\n",
       "      <td>0.205186</td>\n",
       "      <td>0.211749</td>\n",
       "      <td>0.200230</td>\n",
       "      <td>0.347759</td>\n",
       "      <td>0.191913</td>\n",
       "      <td>0.225283</td>\n",
       "    </tr>\n",
       "    <tr>\n",
       "      <th>lsi_150_kmeans</th>\n",
       "      <td>0.178235</td>\n",
       "      <td>0.220257</td>\n",
       "      <td>0.172146</td>\n",
       "      <td>0.197905</td>\n",
       "      <td>0.351959</td>\n",
       "      <td>0.260301</td>\n",
       "      <td>0.230134</td>\n",
       "    </tr>\n",
       "    <tr>\n",
       "      <th>lsi_150_gmm</th>\n",
       "      <td>0.195024</td>\n",
       "      <td>0.202254</td>\n",
       "      <td>0.177321</td>\n",
       "      <td>0.138844</td>\n",
       "      <td>0.345159</td>\n",
       "      <td>0.250676</td>\n",
       "      <td>0.218213</td>\n",
       "    </tr>\n",
       "    <tr>\n",
       "      <th>lsi_200_kmeans</th>\n",
       "      <td>0.198151</td>\n",
       "      <td>0.241975</td>\n",
       "      <td>0.151487</td>\n",
       "      <td>0.194977</td>\n",
       "      <td>0.341516</td>\n",
       "      <td>0.234392</td>\n",
       "      <td>0.227083</td>\n",
       "    </tr>\n",
       "    <tr>\n",
       "      <th>lsi_200_gmm</th>\n",
       "      <td>0.195358</td>\n",
       "      <td>0.259674</td>\n",
       "      <td>0.163760</td>\n",
       "      <td>0.183324</td>\n",
       "      <td>0.343760</td>\n",
       "      <td>0.184392</td>\n",
       "      <td>0.221711</td>\n",
       "    </tr>\n",
       "    <tr>\n",
       "      <th>lsi_250_kmeans</th>\n",
       "      <td>0.190992</td>\n",
       "      <td>0.249581</td>\n",
       "      <td>0.151493</td>\n",
       "      <td>0.190024</td>\n",
       "      <td>0.344858</td>\n",
       "      <td>0.191861</td>\n",
       "      <td>0.219802</td>\n",
       "    </tr>\n",
       "    <tr>\n",
       "      <th>lsi_250_gmm</th>\n",
       "      <td>0.182883</td>\n",
       "      <td>0.222109</td>\n",
       "      <td>0.172364</td>\n",
       "      <td>0.173867</td>\n",
       "      <td>0.346567</td>\n",
       "      <td>0.195459</td>\n",
       "      <td>0.215541</td>\n",
       "    </tr>\n",
       "    <tr>\n",
       "      <th>lsi_300_kmeans</th>\n",
       "      <td>0.186464</td>\n",
       "      <td>0.223733</td>\n",
       "      <td>0.293721</td>\n",
       "      <td>0.197724</td>\n",
       "      <td>0.340488</td>\n",
       "      <td>0.216300</td>\n",
       "      <td>0.243072</td>\n",
       "    </tr>\n",
       "    <tr>\n",
       "      <th>lsi_300_gmm</th>\n",
       "      <td>0.186308</td>\n",
       "      <td>0.209060</td>\n",
       "      <td>0.199035</td>\n",
       "      <td>0.273105</td>\n",
       "      <td>0.350042</td>\n",
       "      <td>0.221336</td>\n",
       "      <td>0.239814</td>\n",
       "    </tr>\n",
       "    <tr>\n",
       "      <th>lsi_350_kmeans</th>\n",
       "      <td>0.201103</td>\n",
       "      <td>0.226345</td>\n",
       "      <td>0.292281</td>\n",
       "      <td>0.202060</td>\n",
       "      <td>0.355746</td>\n",
       "      <td>0.166961</td>\n",
       "      <td>0.240749</td>\n",
       "    </tr>\n",
       "    <tr>\n",
       "      <th>lsi_350_gmm</th>\n",
       "      <td>0.204997</td>\n",
       "      <td>0.228714</td>\n",
       "      <td>0.165867</td>\n",
       "      <td>0.220597</td>\n",
       "      <td>0.350539</td>\n",
       "      <td>0.260326</td>\n",
       "      <td>0.238507</td>\n",
       "    </tr>\n",
       "    <tr>\n",
       "      <th>lsi_400_kmeans</th>\n",
       "      <td>0.211653</td>\n",
       "      <td>0.219433</td>\n",
       "      <td>0.161727</td>\n",
       "      <td>0.185651</td>\n",
       "      <td>0.345602</td>\n",
       "      <td>0.172119</td>\n",
       "      <td>0.216031</td>\n",
       "    </tr>\n",
       "    <tr>\n",
       "      <th>lsi_400_gmm</th>\n",
       "      <td>0.189987</td>\n",
       "      <td>0.248722</td>\n",
       "      <td>0.279861</td>\n",
       "      <td>0.155096</td>\n",
       "      <td>0.354404</td>\n",
       "      <td>0.251544</td>\n",
       "      <td>0.246602</td>\n",
       "    </tr>\n",
       "  </tbody>\n",
       "</table>\n",
       "</div>"
      ],
      "text/plain": [
       "                 mkt_cap  pb_ratio      beta  profit_margin       ROA  \\\n",
       "GICS            0.198667  0.259348  0.118535       0.093269  0.329647   \n",
       "lsi_50_kmeans   0.188293  0.218069  0.265772       0.147319  0.352848   \n",
       "lsi_50_gmm      0.188692  0.207690  0.256582       0.168182  0.348304   \n",
       "lsi_100_kmeans  0.171022  0.204348  0.206985       0.197716  0.338590   \n",
       "lsi_100_gmm     0.194861  0.205186  0.211749       0.200230  0.347759   \n",
       "lsi_150_kmeans  0.178235  0.220257  0.172146       0.197905  0.351959   \n",
       "lsi_150_gmm     0.195024  0.202254  0.177321       0.138844  0.345159   \n",
       "lsi_200_kmeans  0.198151  0.241975  0.151487       0.194977  0.341516   \n",
       "lsi_200_gmm     0.195358  0.259674  0.163760       0.183324  0.343760   \n",
       "lsi_250_kmeans  0.190992  0.249581  0.151493       0.190024  0.344858   \n",
       "lsi_250_gmm     0.182883  0.222109  0.172364       0.173867  0.346567   \n",
       "lsi_300_kmeans  0.186464  0.223733  0.293721       0.197724  0.340488   \n",
       "lsi_300_gmm     0.186308  0.209060  0.199035       0.273105  0.350042   \n",
       "lsi_350_kmeans  0.201103  0.226345  0.292281       0.202060  0.355746   \n",
       "lsi_350_gmm     0.204997  0.228714  0.165867       0.220597  0.350539   \n",
       "lsi_400_kmeans  0.211653  0.219433  0.161727       0.185651  0.345602   \n",
       "lsi_400_gmm     0.189987  0.248722  0.279861       0.155096  0.354404   \n",
       "\n",
       "                     ROE  Average Ratio Variation  \n",
       "GICS            0.201335                 0.200134  \n",
       "lsi_50_kmeans   0.215210                 0.231252  \n",
       "lsi_50_gmm      0.250548                 0.236666  \n",
       "lsi_100_kmeans  0.215295                 0.222326  \n",
       "lsi_100_gmm     0.191913                 0.225283  \n",
       "lsi_150_kmeans  0.260301                 0.230134  \n",
       "lsi_150_gmm     0.250676                 0.218213  \n",
       "lsi_200_kmeans  0.234392                 0.227083  \n",
       "lsi_200_gmm     0.184392                 0.221711  \n",
       "lsi_250_kmeans  0.191861                 0.219802  \n",
       "lsi_250_gmm     0.195459                 0.215541  \n",
       "lsi_300_kmeans  0.216300                 0.243072  \n",
       "lsi_300_gmm     0.221336                 0.239814  \n",
       "lsi_350_kmeans  0.166961                 0.240749  \n",
       "lsi_350_gmm     0.260326                 0.238507  \n",
       "lsi_400_kmeans  0.172119                 0.216031  \n",
       "lsi_400_gmm     0.251544                 0.246602  "
      ]
     },
     "execution_count": 143,
     "metadata": {},
     "output_type": "execute_result"
    }
   ],
   "source": [
    "ratio_variation_df"
   ]
  },
  {
   "cell_type": "code",
   "execution_count": 144,
   "metadata": {},
   "outputs": [
    {
     "name": "stdout",
     "output_type": "stream",
     "text": [
      "0.2001335291958745\n"
     ]
    },
    {
     "data": {
      "text/html": [
       "<div>\n",
       "<style scoped>\n",
       "    .dataframe tbody tr th:only-of-type {\n",
       "        vertical-align: middle;\n",
       "    }\n",
       "\n",
       "    .dataframe tbody tr th {\n",
       "        vertical-align: top;\n",
       "    }\n",
       "\n",
       "    .dataframe thead th {\n",
       "        text-align: right;\n",
       "    }\n",
       "</style>\n",
       "<table border=\"1\" class=\"dataframe\">\n",
       "  <thead>\n",
       "    <tr style=\"text-align: right;\">\n",
       "      <th></th>\n",
       "      <th>kmeans</th>\n",
       "      <th>gmm</th>\n",
       "    </tr>\n",
       "  </thead>\n",
       "  <tbody>\n",
       "    <tr>\n",
       "      <th>50</th>\n",
       "      <td>0.231252</td>\n",
       "      <td>0.236666</td>\n",
       "    </tr>\n",
       "    <tr>\n",
       "      <th>100</th>\n",
       "      <td>0.222326</td>\n",
       "      <td>0.225283</td>\n",
       "    </tr>\n",
       "    <tr>\n",
       "      <th>150</th>\n",
       "      <td>0.230134</td>\n",
       "      <td>0.218213</td>\n",
       "    </tr>\n",
       "    <tr>\n",
       "      <th>200</th>\n",
       "      <td>0.227083</td>\n",
       "      <td>0.221711</td>\n",
       "    </tr>\n",
       "    <tr>\n",
       "      <th>250</th>\n",
       "      <td>0.219802</td>\n",
       "      <td>0.215541</td>\n",
       "    </tr>\n",
       "    <tr>\n",
       "      <th>300</th>\n",
       "      <td>0.243072</td>\n",
       "      <td>0.239814</td>\n",
       "    </tr>\n",
       "    <tr>\n",
       "      <th>350</th>\n",
       "      <td>0.240749</td>\n",
       "      <td>0.238507</td>\n",
       "    </tr>\n",
       "    <tr>\n",
       "      <th>400</th>\n",
       "      <td>0.216031</td>\n",
       "      <td>0.246602</td>\n",
       "    </tr>\n",
       "  </tbody>\n",
       "</table>\n",
       "</div>"
      ],
      "text/plain": [
       "       kmeans       gmm\n",
       "50   0.231252  0.236666\n",
       "100  0.222326  0.225283\n",
       "150  0.230134  0.218213\n",
       "200  0.227083  0.221711\n",
       "250  0.219802  0.215541\n",
       "300  0.243072  0.239814\n",
       "350  0.240749  0.238507\n",
       "400  0.216031  0.246602"
      ]
     },
     "execution_count": 144,
     "metadata": {},
     "output_type": "execute_result"
    }
   ],
   "source": [
    "avg_ratio_df = ratio_variation_df[['Average Ratio Variation']]\n",
    "GICS_RATIO = ratio_variation_df.loc['GICS', 'Average Ratio Variation']\n",
    "MTDS = ['kmeans', 'gmm']\n",
    "list_of_dfs = []\n",
    "\n",
    "for mtd in MTDS:\n",
    "    mtd_df = avg_ratio_df.filter(regex=mtd, axis=0)\n",
    "    mtd_df.index = mtd_df.index.map(lambda s: s.split('_')[1])\n",
    "    mtd_df.columns = [mtd]  #(columns = {'test':'TEST'}, inplace = True) \n",
    "    list_of_dfs.append(mtd_df)\n",
    "\n",
    "avg_ratio_pivot_df = pd.concat(list_of_dfs, axis=1)\n",
    "print(GICS_RATIO)\n",
    "avg_ratio_pivot_df"
   ]
  },
  {
   "cell_type": "code",
   "execution_count": 42,
   "metadata": {},
   "outputs": [
    {
     "data": {
      "image/png": "[encoded data removed]",
      "text/plain": [
       "<matplotlib.figure.Figure at 0x240d2fe0dd8>"
      ]
     },
     "metadata": {
      "needs_background": "light"
     },
     "output_type": "display_data"
    }
   ],
   "source": [
    "ax = sns.lineplot(data=avg_ratio_pivot_df, sort=False)\n",
    "ax.axhline(GICS_RATIO, color=\"red\", linestyle=\"--\")\n",
    "ax.set(xlabel='k, LSI Embedding Parameter', ylabel='Average Variation', title='Variation results - Clustering SnP using 10K reports')\n",
    "plt.savefig('data_out/images/2_1.png')"
   ]
  },
  {
   "cell_type": "code",
   "execution_count": 77,
   "metadata": {},
   "outputs": [
    {
     "data": {
      "image/png": "[encoded data removed]",
      "text/plain": [
       "<matplotlib.figure.Figure at 0x240d2e3ea90>"
      ]
     },
     "metadata": {
      "needs_background": "light"
     },
     "output_type": "display_data"
    }
   ],
   "source": [
    "ax = sns.lineplot(data=avg_ratio_pivot_df, sort=False)\n",
    "ax.axhline(GICS_RATIO, color=\"red\", linestyle=\"--\")\n",
    "ax.set(xlabel='k, LSI Embedding Parameter', ylabel='Average Ratio', title='Variation results - Clustering SnP using yahoo desc')\n",
    "plt.savefig('data_out/images/2_2.png')"
   ]
  },
  {
   "cell_type": "code",
   "execution_count": 111,
   "metadata": {},
   "outputs": [
    {
     "data": {
      "image/png": "[encoded data removed]",
      "text/plain": [
       "<matplotlib.figure.Figure at 0x240d37383c8>"
      ]
     },
     "metadata": {
      "needs_background": "light"
     },
     "output_type": "display_data"
    }
   ],
   "source": [
    "ax = sns.lineplot(data=avg_ratio_pivot_df, sort=False)\n",
    "ax.axhline(GICS_RATIO, color=\"red\", linestyle=\"--\")\n",
    "ax.set(xlabel='k, LSI Embedding Parameter', ylabel='Average Ratio', title='Variation results - Clustering Russell using 10K reports')\n",
    "plt.savefig('data_out/images/2_3.png')"
   ]
  },
  {
   "cell_type": "code",
   "execution_count": 145,
   "metadata": {},
   "outputs": [
    {
     "data": {
      "image/png": "[encoded data removed]",
      "text/plain": [
       "<matplotlib.figure.Figure at 0x240d61c0518>"
      ]
     },
     "metadata": {
      "needs_background": "light"
     },
     "output_type": "display_data"
    }
   ],
   "source": [
    "ax = sns.lineplot(data=avg_ratio_pivot_df, sort=False)\n",
    "ax.axhline(GICS_RATIO, color=\"red\", linestyle=\"--\")\n",
    "ax.set(xlabel='k, LSI Embedding Parameter', ylabel='Average Ratio', title='Variation results - Clustering Russell using yahoo desc')\n",
    "plt.savefig('data_out/images/2_4.png')"
   ]
  },
  {
   "cell_type": "markdown",
   "metadata": {},
   "source": [
    "### Method 2b - Absolute distances to cluster center (my method)\n",
    "\n",
    "- not a good guage i think"
   ]
  },
  {
   "cell_type": "code",
   "execution_count": null,
   "metadata": {},
   "outputs": [],
   "source": [
    "def cluster_distance(s):\n",
    "    '''\n",
    "    input: series\n",
    "    output: sum(x - x_bar), sum of absolute distances to cluster center\n",
    "    '''\n",
    "    mean = s.mean() #ignores NaN values\n",
    "    abs_dist = abs(s-mean).sum()\n",
    "    return abs_dist"
   ]
  },
  {
   "cell_type": "code",
   "execution_count": null,
   "metadata": {},
   "outputs": [],
   "source": [
    "RATIO_NAMES_LIST = list(ticker_ratios_df.columns[1:])\n",
    "all_cluster_with_ratio = pd.merge(all_cluster_filtered, ticker_ratios_normalised_df, on='Ticker')\n",
    "ratio_distances_dict = {}\n",
    "\n",
    "for cluster_mtd in tqdm(all_cluster_filtered.columns):\n",
    "    if cluster_mtd == 'Ticker':\n",
    "        continue\n",
    "    \n",
    "    filter_df = all_cluster_with_ratio[[cluster_mtd] + RATIO_NAMES_LIST]\n",
    "    ratio_distance_sum = filter_df.groupby(cluster_mtd).aggregate(cluster_distance).sum()\n",
    "    non_na_count_series = filter_df.count()[1:]\n",
    "    ratio_distance_avg_list = list(ratio_distance_sum/non_na_count_series)\n",
    "    ratio_distances_dict[cluster_mtd] = ratio_distance_avg_list\n",
    "    \n",
    "ratio_distances_df = pd.DataFrame.from_dict(ratio_distances_dict, orient='index', columns=RATIO_NAMES_LIST)"
   ]
  },
  {
   "cell_type": "code",
   "execution_count": null,
   "metadata": {
    "scrolled": true
   },
   "outputs": [],
   "source": [
    "ratio_distances_df['Average Ratio Cluster Spread'] = ratio_distances_df.mean(axis=1)\n",
    "ratio_distances_df"
   ]
  },
  {
   "cell_type": "code",
   "execution_count": null,
   "metadata": {},
   "outputs": [],
   "source": [
    "avg_ratio_df = ratio_distances_df[['Average Ratio Cluster Spread']]\n",
    "GICS_RATIO = ratio_distances_df.loc['GICS', 'Average Ratio Cluster Spread']\n",
    "MTDS = ['kmeans', 'gmm']\n",
    "list_of_dfs = []\n",
    "\n",
    "for mtd in MTDS:\n",
    "    mtd_df = avg_ratio_df.filter(regex=mtd, axis=0)\n",
    "    mtd_df.index = mtd_df.index.map(lambda s: s.split('_')[1])\n",
    "    mtd_df.columns = [mtd]  #(columns = {'test':'TEST'}, inplace = True) \n",
    "    list_of_dfs.append(mtd_df)\n",
    "\n",
    "avg_ratio_pivot_df = pd.concat(list_of_dfs, axis=1)\n",
    "print(GICS_RATIO)\n",
    "avg_ratio_pivot_df"
   ]
  },
  {
   "cell_type": "code",
   "execution_count": null,
   "metadata": {},
   "outputs": [],
   "source": [
    "ax = sns.lineplot(data=avg_ratio_pivot_df, sort=False)\n",
    "ax.axhline(GICS_RATIO, color=\"red\", linestyle=\"--\")\n",
    "ax.set(xlabel='k, LSI Embedding Parameter', ylabel='Average Ratio')"
   ]
  },
  {
   "cell_type": "markdown",
   "metadata": {},
   "source": [
    "### Method 2b - Financial Ratio average cluster distance (averaged by mkt cap)"
   ]
  },
  {
   "cell_type": "code",
   "execution_count": null,
   "metadata": {},
   "outputs": [],
   "source": []
  },
  {
   "cell_type": "markdown",
   "metadata": {},
   "source": [
    "### Method 3a - Similarity to GICS by probability (among ticker with same GICS classification)\n",
    "\n",
    "- probability that if GICS classifies 2 elements in the same industry, they are in the same categorisation in the clustering method\n",
    "- if you include same or different industry similarity, the similarity scores will be very high because most of the time the classifications will be different\n",
    "- in this case you can do the first method because the number of classes is fixed, so you cant put all as the same class"
   ]
  },
  {
   "cell_type": "code",
   "execution_count": 146,
   "metadata": {
    "scrolled": true
   },
   "outputs": [],
   "source": [
    "temp_df = pd.merge(all_cluster, all_cluster, on='GICS')\n",
    "cross_df = temp_df[temp_df.Ticker_x != temp_df.Ticker_y]\n",
    "similarity_dict = {}\n",
    "\n",
    "for mtd in all_cluster.columns:\n",
    "    if mtd not in ['Ticker', 'GICS']:\n",
    "        mtd_x = mtd + '_x'\n",
    "        mtd_y = mtd + '_y'\n",
    "        similarity_dict[mtd] = sum(cross_df[mtd_x] == cross_df[mtd_y])/len(cross_df)\n",
    "\n",
    "similarity_df = pd.DataFrame.from_dict(similarity_dict, orient='index', columns=['Similarity Probability'])"
   ]
  },
  {
   "cell_type": "code",
   "execution_count": 147,
   "metadata": {},
   "outputs": [
    {
     "data": {
      "text/html": [
       "<div>\n",
       "<style scoped>\n",
       "    .dataframe tbody tr th:only-of-type {\n",
       "        vertical-align: middle;\n",
       "    }\n",
       "\n",
       "    .dataframe tbody tr th {\n",
       "        vertical-align: top;\n",
       "    }\n",
       "\n",
       "    .dataframe thead th {\n",
       "        text-align: right;\n",
       "    }\n",
       "</style>\n",
       "<table border=\"1\" class=\"dataframe\">\n",
       "  <thead>\n",
       "    <tr style=\"text-align: right;\">\n",
       "      <th></th>\n",
       "      <th>kmeans</th>\n",
       "      <th>gmm</th>\n",
       "    </tr>\n",
       "  </thead>\n",
       "  <tbody>\n",
       "    <tr>\n",
       "      <th>50</th>\n",
       "      <td>0.301530</td>\n",
       "      <td>0.302560</td>\n",
       "    </tr>\n",
       "    <tr>\n",
       "      <th>100</th>\n",
       "      <td>0.341883</td>\n",
       "      <td>0.358963</td>\n",
       "    </tr>\n",
       "    <tr>\n",
       "      <th>150</th>\n",
       "      <td>0.295130</td>\n",
       "      <td>0.296619</td>\n",
       "    </tr>\n",
       "    <tr>\n",
       "      <th>200</th>\n",
       "      <td>0.282312</td>\n",
       "      <td>0.297601</td>\n",
       "    </tr>\n",
       "    <tr>\n",
       "      <th>250</th>\n",
       "      <td>0.348078</td>\n",
       "      <td>0.323062</td>\n",
       "    </tr>\n",
       "    <tr>\n",
       "      <th>300</th>\n",
       "      <td>0.326024</td>\n",
       "      <td>0.333360</td>\n",
       "    </tr>\n",
       "    <tr>\n",
       "      <th>350</th>\n",
       "      <td>0.251909</td>\n",
       "      <td>0.330191</td>\n",
       "    </tr>\n",
       "    <tr>\n",
       "      <th>400</th>\n",
       "      <td>0.278368</td>\n",
       "      <td>0.307519</td>\n",
       "    </tr>\n",
       "  </tbody>\n",
       "</table>\n",
       "</div>"
      ],
      "text/plain": [
       "       kmeans       gmm\n",
       "50   0.301530  0.302560\n",
       "100  0.341883  0.358963\n",
       "150  0.295130  0.296619\n",
       "200  0.282312  0.297601\n",
       "250  0.348078  0.323062\n",
       "300  0.326024  0.333360\n",
       "350  0.251909  0.330191\n",
       "400  0.278368  0.307519"
      ]
     },
     "execution_count": 147,
     "metadata": {},
     "output_type": "execute_result"
    }
   ],
   "source": [
    "MTDS = ['kmeans', 'gmm']\n",
    "list_of_dfs = []\n",
    "\n",
    "for mtd in MTDS:\n",
    "    mtd_df = similarity_df.filter(regex=mtd, axis=0)\n",
    "    mtd_df.index = mtd_df.index.map(lambda s: s.split('_')[1])\n",
    "    mtd_df.columns = [mtd] \n",
    "    list_of_dfs.append(mtd_df)\n",
    "\n",
    "similarity_pivot_df = pd.concat(list_of_dfs, axis=1)\n",
    "similarity_pivot_df"
   ]
  },
  {
   "cell_type": "code",
   "execution_count": 45,
   "metadata": {},
   "outputs": [
    {
     "data": {
      "image/png": "[encoded data removed]",
      "text/plain": [
       "<matplotlib.figure.Figure at 0x240d300d828>"
      ]
     },
     "metadata": {
      "needs_background": "light"
     },
     "output_type": "display_data"
    }
   ],
   "source": [
    "ax = sns.lineplot(data=similarity_pivot_df, sort=False)\n",
    "ax.set(xlabel='k, LSI Embedding Parameter', ylabel='Similarity probability with GICS'\n",
    "       , title='Similarity Probability results - Clustering SnP using 10K reports')\n",
    "plt.savefig('data_out/images/3_1.png')"
   ]
  },
  {
   "cell_type": "code",
   "execution_count": 80,
   "metadata": {},
   "outputs": [
    {
     "data": {
      "image/png": "[encoded data removed]",
      "text/plain": [
       "<matplotlib.figure.Figure at 0x240d2e3ea20>"
      ]
     },
     "metadata": {
      "needs_background": "light"
     },
     "output_type": "display_data"
    }
   ],
   "source": [
    "ax = sns.lineplot(data=similarity_pivot_df, sort=False)\n",
    "ax.set(xlabel='k, LSI Embedding Parameter', ylabel='Similarity probability with GICS'\n",
    "       , title='Similarity Probability results - Clustering SnP using yahoo desc')\n",
    "plt.savefig('data_out/images/3_2.png')"
   ]
  },
  {
   "cell_type": "code",
   "execution_count": 114,
   "metadata": {},
   "outputs": [
    {
     "data": {
      "image/png": "[encoded data removed]",
      "text/plain": [
       "<matplotlib.figure.Figure at 0x240d6133048>"
      ]
     },
     "metadata": {
      "needs_background": "light"
     },
     "output_type": "display_data"
    }
   ],
   "source": [
    "ax = sns.lineplot(data=similarity_pivot_df, sort=False)\n",
    "ax.set(xlabel='k, LSI Embedding Parameter', ylabel='Similarity probability with GICS'\n",
    "       , title='Similarity Probability results - Clustering Russell using 10K reports')\n",
    "plt.savefig('data_out/images/3_3.png')"
   ]
  },
  {
   "cell_type": "code",
   "execution_count": 148,
   "metadata": {},
   "outputs": [
    {
     "data": {
      "image/png": "[encoded data removed]",
      "text/plain": [
       "<matplotlib.figure.Figure at 0x240d61c2160>"
      ]
     },
     "metadata": {
      "needs_background": "light"
     },
     "output_type": "display_data"
    }
   ],
   "source": [
    "ax = sns.lineplot(data=similarity_pivot_df, sort=False)\n",
    "ax.set(xlabel='k, LSI Embedding Parameter', ylabel='Similarity probability with GICS'\n",
    "       , title='Similarity Probability results - Clustering Russell using yahoo desc')\n",
    "plt.savefig('data_out/images/3_4.png')"
   ]
  },
  {
   "cell_type": "markdown",
   "metadata": {},
   "source": [
    "### Method 3b - Similarity to GICS by probability of similar classification type among ANY 2 tickers\n",
    "\n",
    "- takes much longer"
   ]
  },
  {
   "cell_type": "code",
   "execution_count": null,
   "metadata": {},
   "outputs": [],
   "source": [
    "L = len(all_cluster)\n",
    "similarity_series = pd.Series(0, all_cluster.columns)\n",
    "\n",
    "for i in tnrange(L):\n",
    "    for j in range(L):\n",
    "        if i != j:\n",
    "            similarity = (all_cluster.iloc[i] == all_cluster.iloc[j])\n",
    "            if not similarity.GICS:\n",
    "                similarity = ~similarity\n",
    "            similarity_series += similarity.astype(int)"
   ]
  },
  {
   "cell_type": "code",
   "execution_count": null,
   "metadata": {},
   "outputs": [],
   "source": [
    "similarity_df = pd.DataFrame((similarity_series/similarity_series.GICS)[2:], columns=['Similarity Probability'])"
   ]
  },
  {
   "cell_type": "code",
   "execution_count": null,
   "metadata": {},
   "outputs": [],
   "source": [
    "MTDS = ['kmeans', 'gmm']\n",
    "list_of_dfs = []\n",
    "\n",
    "for mtd in MTDS:\n",
    "    mtd_df = similarity_df.filter(regex=mtd, axis=0)\n",
    "    mtd_df.index = mtd_df.index.map(lambda s: s.split('_')[1])\n",
    "    mtd_df.columns = [mtd] \n",
    "    list_of_dfs.append(mtd_df)\n",
    "\n",
    "similarity_pivot_df = pd.concat(list_of_dfs, axis=1)\n",
    "similarity_pivot_df"
   ]
  },
  {
   "cell_type": "code",
   "execution_count": null,
   "metadata": {},
   "outputs": [],
   "source": [
    "ax = sns.lineplot(data=similarity_pivot_df, sort=False)\n",
    "ax.set(xlabel='k, LSI Embedding Parameter', ylabel='Similarity probability with GICS')"
   ]
  },
  {
   "cell_type": "markdown",
   "metadata": {},
   "source": [
    "### Method 4 - Majority element ratios (my method)"
   ]
  },
  {
   "cell_type": "code",
   "execution_count": null,
   "metadata": {
    "scrolled": true
   },
   "outputs": [],
   "source": [
    "all_cluster.head()"
   ]
  },
  {
   "cell_type": "code",
   "execution_count": null,
   "metadata": {},
   "outputs": [],
   "source": [
    "# Test\n",
    "all_cluster[all_cluster.GICS == 3]"
   ]
  },
  {
   "cell_type": "code",
   "execution_count": null,
   "metadata": {},
   "outputs": [],
   "source": [
    "def majority_element_proportion(s):\n",
    "    '''\n",
    "    input: series\n",
    "    output: proportion of majority element in series\n",
    "    '''\n",
    "    l = len(s)\n",
    "    n = s.value_counts().iloc[0]\n",
    "    return n/l"
   ]
  },
  {
   "cell_type": "code",
   "execution_count": null,
   "metadata": {},
   "outputs": [],
   "source": [
    "correctness_ratios_df = all_cluster.iloc[:,1:].groupby('GICS').aggregate(majority_element_proportion)"
   ]
  },
  {
   "cell_type": "code",
   "execution_count": null,
   "metadata": {},
   "outputs": [],
   "source": [
    "correctness_ratios_df.plot.bar()\n",
    "# sns.barplot(correctness_ratios_df)"
   ]
  },
  {
   "cell_type": "code",
   "execution_count": null,
   "metadata": {
    "scrolled": false
   },
   "outputs": [],
   "source": [
    "sns.distplot(correctness_ratios_df.iloc[:,0], bins=15)"
   ]
  },
  {
   "cell_type": "markdown",
   "metadata": {},
   "source": [
    "- Since most of the ratios seem to be above the 0.5 ratio, the clustring seems to have clustered pretty closely to GICS standard"
   ]
  },
  {
   "cell_type": "code",
   "execution_count": null,
   "metadata": {},
   "outputs": [],
   "source": []
  },
  {
   "cell_type": "code",
   "execution_count": null,
   "metadata": {},
   "outputs": [],
   "source": []
  },
  {
   "cell_type": "markdown",
   "metadata": {},
   "source": [
    "# Extra"
   ]
  },
  {
   "cell_type": "markdown",
   "metadata": {},
   "source": [
    "### Tests"
   ]
  },
  {
   "cell_type": "markdown",
   "metadata": {},
   "source": [
    "##### LSA Word Embedding (Test, Actual For loop is below)"
   ]
  },
  {
   "cell_type": "code",
   "execution_count": null,
   "metadata": {},
   "outputs": [],
   "source": [
    "lsa = TruncatedSVD(200, algorithm = 'arpack')\n",
    "dtm_lsa = lsa.fit_transform(dtm)\n",
    "dtm_lsa = Normalizer(copy=False).fit_transform(dtm_lsa) # normalisae so each vector is len 1"
   ]
  },
  {
   "cell_type": "code",
   "execution_count": null,
   "metadata": {
    "scrolled": true
   },
   "outputs": [],
   "source": [
    "pd.DataFrame(dtm_lsa).head()"
   ]
  },
  {
   "cell_type": "markdown",
   "metadata": {},
   "source": [
    "### Random"
   ]
  },
  {
   "cell_type": "code",
   "execution_count": null,
   "metadata": {
    "scrolled": true
   },
   "outputs": [],
   "source": [
    "# Plotting for 2D\n",
    "%pylab inline\n",
    "\n",
    "xs = [w[0] for w in dtm_lsa]\n",
    "ys = [w[1] for w in dtm_lsa]\n",
    "xs, ys\n",
    "\n",
    "figure()\n",
    "plt.scatter(xs,ys)\n",
    "xlabel('First principal component')\n",
    "ylabel('Second principal component')\n",
    "title('Plot of points against LSA principal components')"
   ]
  },
  {
   "cell_type": "code",
   "execution_count": null,
   "metadata": {},
   "outputs": [],
   "source": [
    "def cosine_similarity(dtm):\n",
    "    '''\n",
    "    input: Doc Matrix\n",
    "    output: list of lists indicating clusters\n",
    "    '''\n",
    "    corr = np.asarray(numpy.asmatrix(dtm_lsa) * numpy.asmatrix(dtm_lsa).T)\n",
    "    \n",
    "    L = dtm.shape[0]\n",
    "    clusters = [[i] for i in range(L)]\n",
    "    \n",
    "    while (len(clusters) != NUM_INDUSTRIES):\n",
    "        L = len(clusters)\n",
    "        max_similarity = -1\n",
    "        max_similarity_clusters = (None, None)\n",
    "        for i in range(L):\n",
    "            for j in range(i+1,L):\n",
    "                cluster_1 = clusters[i]\n",
    "                cluster_2 = clusters[j]\n",
    "                n = len(cluster_1) * len(cluster_2)\n",
    "                \n",
    "                # Similarity\n",
    "                total_similarity = 0\n",
    "                for cpy_1 in cluster_1:\n",
    "                    for cpy_2 in cluster_2:\n",
    "                        print(cpy_1, cpy_2)\n",
    "                        total_similarity += corr[cpy_1][cpy_2]\n",
    "                similarity = total_similarity / n\n",
    "                \n",
    "                if similarity > max_similarity:\n",
    "                    max_similarity = similarity \n",
    "                    max_similarity_clusters = (i, j)\n",
    "        \n",
    "        # Merge max_similarity clusters\n",
    "        cluster_merge = clusters.pop(max_similarity_clusters[1])\n",
    "        clusters[max_similarity_clusters[0]].append(cluster_merge)\n",
    "        print(L)\n",
    "    return clusters"
   ]
  },
  {
   "cell_type": "markdown",
   "metadata": {},
   "source": [
    "|Embedding model|R2|proportion of right classification|\n",
    "|----------------|--------|--------|\n",
    "| LSI length 200 | 0.4537 | 0.4962 |\n",
    "| LSI length 300 | 0.4459 | 0.4768 |\n",
    "| LSI length 400 | 0.4421 | 0.4072 |\n",
    "| LSI length 500 | 0.4554 | 0.4244 |\n",
    "| LSI length 600 | 0.4362 | 0.4409 |\n",
    "| LSI length 700 | 0.4407 | 0.3842 |\n",
    "| LSI length 800 | 0.4417 | 0.4921 |\n",
    "| LSI length 900 | 0.4478 | 0.4005 |\n",
    "| LSI length 1000 | 0.4403 | 0.4068 |\n",
    "| LSI length 1100 | 0.4380 | 0.3933 |"
   ]
  },
  {
   "cell_type": "code",
   "execution_count": null,
   "metadata": {},
   "outputs": [],
   "source": []
  },
  {
   "cell_type": "code",
   "execution_count": null,
   "metadata": {},
   "outputs": [],
   "source": []
  }
 ],
 "metadata": {
  "kernelspec": {
   "display_name": "Python 3",
   "language": "python",
   "name": "python3"
  },
  "language_info": {
   "codemirror_mode": {
    "name": "ipython",
    "version": 3
   },
   "file_extension": ".py",
   "mimetype": "text/x-python",
   "name": "python",
   "nbconvert_exporter": "python",
   "pygments_lexer": "ipython3",
   "version": "3.6.2"
  }
 },
 "nbformat": 4,
 "nbformat_minor": 2
}

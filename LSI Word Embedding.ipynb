{
 "cells": [
  {
   "cell_type": "markdown",
   "metadata": {},
   "source": [
    "# NLP to perform Company Clustering using company descriptions\n",
    "\n",
    "Industry classification\n",
    "\n",
    "- Aim: Cluster companies from different Indexes using various methods with description data from various sources and compare performance with GICS classification\n",
    "- Indexes: Snp, Russell\n",
    "- Data Sources: 10K, YahooFinance, Wikipedia, Morning Star, Reuters, Reuters India, Bloomberg\n",
    "- Methods\n",
    "    - Topics Modelling: LSI, LDA, NMF\n",
    "    - Clustering Techniques: K-means, K-medioids, Gaussian Mixture Model, Hierarchical Clustering\n",
    "- Evaluation Metrics\n",
    "\n",
    "\n",
    "### Contents\n",
    "\n",
    "- [test](# Read and Merge Data)\n"
   ]
  },
  {
   "cell_type": "code",
   "execution_count": 25,
   "metadata": {},
   "outputs": [],
   "source": [
    "import os.path\n",
    "\n",
    "from gensim import corpora\n",
    "from gensim.models import LsiModel\n",
    "from gensim.models import LdaMulticore\n",
    "from gensim.models.coherencemodel import CoherenceModel\n",
    "\n",
    "import pyLDAvis\n",
    "\n",
    "import nltk\n",
    "from nltk.tokenize import RegexpTokenizer\n",
    "from nltk.tokenize import word_tokenize\n",
    "from nltk.corpus import stopwords\n",
    "from nltk.stem.porter import PorterStemmer\n",
    "from nltk.stem.snowball import SnowballStemmer\n",
    "from nltk.stem import LancasterStemmer\n",
    "from nltk.stem import WordNetLemmatizer \n",
    "from nltk.corpus import wordnet\n",
    "import re\n",
    "\n",
    "from sklearn.decomposition import TruncatedSVD\n",
    "from sklearn.decomposition import PCA\n",
    "from sklearn.preprocessing import Normalizer\n",
    "from sklearn.feature_extraction.text import TfidfVectorizer\n",
    "from sklearn.cluster import KMeans\n",
    "from sklearn.cluster import AgglomerativeClustering\n",
    "from sklearn.mixture import GaussianMixture\n",
    "from sklearn import metrics\n",
    "\n",
    "from pyclustering.cluster.kmedoids import kmedoids\n",
    "from pyclustering.cluster.kmedians import kmedians\n",
    "from pyclustering.utils.metric import distance_metric\n",
    "from pyclustering.utils.metric import type_metric\n",
    "from scipy.spatial import distance\n",
    "\n",
    "from tqdm.notebook import tqdm, tnrange\n",
    "import numpy as np\n",
    "import matplotlib.pyplot as plt\n",
    "import pandas as pd\n",
    "import seaborn as sns\n",
    "import math\n",
    "import functools\n",
    "from scipy import stats"
   ]
  },
  {
   "cell_type": "code",
   "execution_count": 26,
   "metadata": {},
   "outputs": [],
   "source": [
    "# Download if not downloaded\n",
    "# nltk.download('wordnet')\n",
    "# nltk.download('averaged_perceptron_tagger')\n",
    "# nltk.download('punkt')"
   ]
  },
  {
   "cell_type": "code",
   "execution_count": 27,
   "metadata": {},
   "outputs": [],
   "source": [
    "pd.set_option('display.max_rows', 200)\n",
    "plt.rcParams['figure.figsize'] = [17, 6]\n",
    "plt.rcParams.update({'font.size': 12})"
   ]
  },
  {
   "cell_type": "code",
   "execution_count": 28,
   "metadata": {},
   "outputs": [
    {
     "data": {
      "text/html": [
       "<style>\n",
       "table {float:center}\n",
       "</style>"
      ],
      "text/plain": [
       "<IPython.core.display.HTML object>"
      ]
     },
     "metadata": {},
     "output_type": "display_data"
    }
   ],
   "source": [
    "%%html\n",
    "<style>\n",
    "table {float:center}\n",
    "</style>"
   ]
  },
  {
   "cell_type": "markdown",
   "metadata": {},
   "source": [
    "# Read and Merge Data"
   ]
  },
  {
   "cell_type": "markdown",
   "metadata": {},
   "source": [
    "##### Ticker to GICS (version 1)\n",
    "\n",
    "- data from prof (bloomberg)"
   ]
  },
  {
   "cell_type": "code",
   "execution_count": 29,
   "metadata": {},
   "outputs": [],
   "source": [
    "# ticker_to_gics_df = pd.read_csv('data_out/ticker_to_gics_bloomberg.csv')\n",
    "# ticker_to_gics_df.Ticker = ticker_to_gics_df.Ticker.str.replace('/','-')\n",
    "# ticker_to_gics_df"
   ]
  },
  {
   "cell_type": "markdown",
   "metadata": {},
   "source": [
    "##### Ticker to GICS (version 2 - better)\n",
    "\n",
    "- data from previous code (not sure where origin)\n",
    "- more data"
   ]
  },
  {
   "cell_type": "code",
   "execution_count": 30,
   "metadata": {},
   "outputs": [],
   "source": [
    "ticker_to_gics_df = pd.read_csv('data_in/ticker_to_gics.csv', names=['Ticker', 'GICS'])\n",
    "ticker_to_gics_df.Ticker = ticker_to_gics_df.Ticker.str.replace('/','-')\n",
    "ticker_to_gics_df.GICS = ticker_to_gics_df.GICS.apply(lambda x: int(str(x)[:6]))"
   ]
  },
  {
   "cell_type": "markdown",
   "metadata": {},
   "source": [
    "##### Map GICS code to name"
   ]
  },
  {
   "cell_type": "code",
   "execution_count": 31,
   "metadata": {},
   "outputs": [
    {
     "data": {
      "text/html": [
       "<div>\n",
       "<style scoped>\n",
       "    .dataframe tbody tr th:only-of-type {\n",
       "        vertical-align: middle;\n",
       "    }\n",
       "\n",
       "    .dataframe tbody tr th {\n",
       "        vertical-align: top;\n",
       "    }\n",
       "\n",
       "    .dataframe thead th {\n",
       "        text-align: right;\n",
       "    }\n",
       "</style>\n",
       "<table border=\"1\" class=\"dataframe\">\n",
       "  <thead>\n",
       "    <tr style=\"text-align: right;\">\n",
       "      <th></th>\n",
       "      <th>Ticker</th>\n",
       "      <th>GICS</th>\n",
       "    </tr>\n",
       "  </thead>\n",
       "  <tbody>\n",
       "    <tr>\n",
       "      <th>0</th>\n",
       "      <td>A</td>\n",
       "      <td>Life Sciences Tools &amp; Services</td>\n",
       "    </tr>\n",
       "    <tr>\n",
       "      <th>1</th>\n",
       "      <td>ADPT</td>\n",
       "      <td>Life Sciences Tools &amp; Services</td>\n",
       "    </tr>\n",
       "    <tr>\n",
       "      <th>2</th>\n",
       "      <td>AVTR</td>\n",
       "      <td>Life Sciences Tools &amp; Services</td>\n",
       "    </tr>\n",
       "    <tr>\n",
       "      <th>3</th>\n",
       "      <td>BIO</td>\n",
       "      <td>Life Sciences Tools &amp; Services</td>\n",
       "    </tr>\n",
       "    <tr>\n",
       "      <th>4</th>\n",
       "      <td>BRKR</td>\n",
       "      <td>Life Sciences Tools &amp; Services</td>\n",
       "    </tr>\n",
       "    <tr>\n",
       "      <th>...</th>\n",
       "      <td>...</td>\n",
       "      <td>...</td>\n",
       "    </tr>\n",
       "    <tr>\n",
       "      <th>2959</th>\n",
       "      <td>PYX</td>\n",
       "      <td>Tobacco</td>\n",
       "    </tr>\n",
       "    <tr>\n",
       "      <th>2960</th>\n",
       "      <td>TPB</td>\n",
       "      <td>Tobacco</td>\n",
       "    </tr>\n",
       "    <tr>\n",
       "      <th>2961</th>\n",
       "      <td>UVV</td>\n",
       "      <td>Tobacco</td>\n",
       "    </tr>\n",
       "    <tr>\n",
       "      <th>2962</th>\n",
       "      <td>VGR</td>\n",
       "      <td>Tobacco</td>\n",
       "    </tr>\n",
       "    <tr>\n",
       "      <th>2963</th>\n",
       "      <td>XXII</td>\n",
       "      <td>Tobacco</td>\n",
       "    </tr>\n",
       "  </tbody>\n",
       "</table>\n",
       "<p>2964 rows × 2 columns</p>\n",
       "</div>"
      ],
      "text/plain": [
       "     Ticker                            GICS\n",
       "0         A  Life Sciences Tools & Services\n",
       "1      ADPT  Life Sciences Tools & Services\n",
       "2      AVTR  Life Sciences Tools & Services\n",
       "3       BIO  Life Sciences Tools & Services\n",
       "4      BRKR  Life Sciences Tools & Services\n",
       "...     ...                             ...\n",
       "2959    PYX                         Tobacco\n",
       "2960    TPB                         Tobacco\n",
       "2961    UVV                         Tobacco\n",
       "2962    VGR                         Tobacco\n",
       "2963   XXII                         Tobacco\n",
       "\n",
       "[2964 rows x 2 columns]"
      ]
     },
     "execution_count": 31,
     "metadata": {},
     "output_type": "execute_result"
    }
   ],
   "source": [
    "gics_code_to_industry_df = pd.read_csv('data_out/gics_code_to_industry.csv')\n",
    "ticker_to_gics_df = pd.merge(ticker_to_gics_df, gics_code_to_industry_df, on='GICS')[['Ticker', 'GICS Industry']]\n",
    "ticker_to_gics_df.rename({'GICS Industry':'GICS'}, axis=1, inplace=True)\n",
    "ticker_to_gics_df"
   ]
  },
  {
   "cell_type": "markdown",
   "metadata": {},
   "source": [
    "### Helper functions"
   ]
  },
  {
   "cell_type": "code",
   "execution_count": 32,
   "metadata": {},
   "outputs": [],
   "source": [
    "# For testing purposes\n",
    "def longest_and_shortest_description(df):\n",
    "    desc_len = df.Description.map(lambda s: len(s))\n",
    "    max_i, max_n = desc_len.idxmax(), desc_len.max()\n",
    "    min_i, min_n = desc_len.idxmin(), desc_len.min()\n",
    "    print(\"LONGEST DESCRIPTION:\")\n",
    "    print(df.iloc[max_i].Description)\n",
    "    print(\"SHORTEST DESCRIPTION:\")\n",
    "    print(df.iloc[min_i].Description)\n",
    "    \n",
    "def description_length_stats(df):\n",
    "    desc_len = df.Description.map(lambda s: len(s))\n",
    "    print('MEAN: %d'%desc_len.mean())\n",
    "    print('MEDIAN: %d'%desc_len.median())\n",
    "    print('MIN: %d'%desc_len.min())\n",
    "    print('MAX: %d'%desc_len.max())\n",
    "    "
   ]
  },
  {
   "cell_type": "markdown",
   "metadata": {},
   "source": [
    "### AIM of Project\n",
    "\n",
    "- offer a classification scheme which can classify more frequently as existing schemes are updated infrequently even as products offered by companies change\n",
    "- offer a classificatoin scheme which classifies by products than production process"
   ]
  },
  {
   "cell_type": "markdown",
   "metadata": {},
   "source": [
    "### Background info of Data\n",
    "\n",
    "- Indexes\n",
    "    - SnP 500\n",
    "        - market-capitalization-weighted index of the 500 largest U.S. publicly traded companies\n",
    "    - Russell 3000\n",
    "        - market-capitalization-weighted equity index that provides exposure to entire U.S. stock market\n",
    "        - more than 98% of total stock market capitalization\n",
    "    - Both considered large-cap stock indices, with stocks of companies valued at more than USD 10 billion\n",
    "    - Russell 3000 includes the S&P 500\n",
    "\n",
    "\n",
    "- Classification schemes\n",
    "    - NAICS (updated, modern version of SIC), GICS, ICB\n",
    "    - We try to use 10K reports to classify (specifically the business desc section which details company products), to see if it is different from the existing schemes which classify by production processes"
   ]
  },
  {
   "cell_type": "markdown",
   "metadata": {},
   "source": [
    "### SnP Data\n",
    "\n",
    "- 505 tickers"
   ]
  },
  {
   "cell_type": "markdown",
   "metadata": {},
   "source": [
    "##### SnP Descriptions (from 10K)\n",
    "\n",
    "- not used, as we will be filtering from the russell_desc_10K_df, which contains the tickers for snp\n",
    "    - actually the russell_desc_10K_df is not russell ticker but all the tickers we have GICS clssification for"
   ]
  },
  {
   "cell_type": "code",
   "execution_count": 33,
   "metadata": {},
   "outputs": [],
   "source": [
    "snp_desc_10K_df = pd.read_pickle('data_out/snp_desc_10K.pkl')"
   ]
  },
  {
   "cell_type": "code",
   "execution_count": 34,
   "metadata": {},
   "outputs": [],
   "source": [
    "snp_desc_10K_df = pd.merge(snp_desc_10K_df, ticker_to_gics_df, on='Ticker')\n",
    "snp_desc_10K_df = snp_desc_10K_df[['Ticker', 'Description', 'GICS']]"
   ]
  },
  {
   "cell_type": "code",
   "execution_count": 35,
   "metadata": {
    "scrolled": false
   },
   "outputs": [
    {
     "data": {
      "text/html": [
       "<div>\n",
       "<style scoped>\n",
       "    .dataframe tbody tr th:only-of-type {\n",
       "        vertical-align: middle;\n",
       "    }\n",
       "\n",
       "    .dataframe tbody tr th {\n",
       "        vertical-align: top;\n",
       "    }\n",
       "\n",
       "    .dataframe thead th {\n",
       "        text-align: right;\n",
       "    }\n",
       "</style>\n",
       "<table border=\"1\" class=\"dataframe\">\n",
       "  <thead>\n",
       "    <tr style=\"text-align: right;\">\n",
       "      <th></th>\n",
       "      <th>Ticker</th>\n",
       "      <th>Description</th>\n",
       "      <th>GICS</th>\n",
       "    </tr>\n",
       "  </thead>\n",
       "  <tbody>\n",
       "    <tr>\n",
       "      <th>0</th>\n",
       "      <td>AAL</td>\n",
       "      <td>PART I   ITEM 1. BUSINESS  Overview  American ...</td>\n",
       "      <td>Airlines</td>\n",
       "    </tr>\n",
       "    <tr>\n",
       "      <th>1</th>\n",
       "      <td>AAPL</td>\n",
       "      <td>PART I  Item 1.Business  Company Background  T...</td>\n",
       "      <td>Technology Hardware, Storage &amp; Peripherals</td>\n",
       "    </tr>\n",
       "    <tr>\n",
       "      <th>2</th>\n",
       "      <td>AAP</td>\n",
       "      <td>PART I  Item 1. Business.  Unless the context ...</td>\n",
       "      <td>Specialty Retail</td>\n",
       "    </tr>\n",
       "    <tr>\n",
       "      <th>3</th>\n",
       "      <td>ABBV</td>\n",
       "      <td>PART I  ITEM 1. BUSINESS  Overview  AbbVie(1) ...</td>\n",
       "      <td>Biotechnology</td>\n",
       "    </tr>\n",
       "    <tr>\n",
       "      <th>4</th>\n",
       "      <td>ABC</td>\n",
       "      <td>PART I  ITEM 1. BUSINESS  As used herein  the ...</td>\n",
       "      <td>Health Care Providers &amp; Services</td>\n",
       "    </tr>\n",
       "  </tbody>\n",
       "</table>\n",
       "</div>"
      ],
      "text/plain": [
       "  Ticker                                        Description  \\\n",
       "0    AAL  PART I   ITEM 1. BUSINESS  Overview  American ...   \n",
       "1   AAPL  PART I  Item 1.Business  Company Background  T...   \n",
       "2    AAP  PART I  Item 1. Business.  Unless the context ...   \n",
       "3   ABBV  PART I  ITEM 1. BUSINESS  Overview  AbbVie(1) ...   \n",
       "4    ABC  PART I  ITEM 1. BUSINESS  As used herein  the ...   \n",
       "\n",
       "                                         GICS  \n",
       "0                                    Airlines  \n",
       "1  Technology Hardware, Storage & Peripherals  \n",
       "2                            Specialty Retail  \n",
       "3                               Biotechnology  \n",
       "4            Health Care Providers & Services  "
      ]
     },
     "execution_count": 35,
     "metadata": {},
     "output_type": "execute_result"
    }
   ],
   "source": [
    "snp_desc_10K_df.head()"
   ]
  },
  {
   "cell_type": "code",
   "execution_count": 36,
   "metadata": {},
   "outputs": [
    {
     "data": {
      "text/plain": [
       "(411, 3)"
      ]
     },
     "execution_count": 36,
     "metadata": {},
     "output_type": "execute_result"
    }
   ],
   "source": [
    "snp_desc_10K_df.shape"
   ]
  },
  {
   "cell_type": "code",
   "execution_count": 37,
   "metadata": {},
   "outputs": [
    {
     "name": "stdout",
     "output_type": "stream",
     "text": [
      "60\n"
     ]
    }
   ],
   "source": [
    "print(len(set(snp_desc_10K_df.GICS)))"
   ]
  },
  {
   "cell_type": "code",
   "execution_count": 38,
   "metadata": {},
   "outputs": [
    {
     "name": "stdout",
     "output_type": "stream",
     "text": [
      "MEAN: 46021\n",
      "MEDIAN: 38593\n",
      "MIN: 5278\n",
      "MAX: 169539\n"
     ]
    }
   ],
   "source": [
    "description_length_stats(snp_desc_10K_df)"
   ]
  },
  {
   "cell_type": "markdown",
   "metadata": {},
   "source": [
    "##### SnP Descriptions (from yahoo)"
   ]
  },
  {
   "cell_type": "code",
   "execution_count": 39,
   "metadata": {},
   "outputs": [],
   "source": [
    "snp_desc_yahoo_df = pd.read_csv('scrapy_spiders/data_out/snp_desc_yahoo.csv').dropna().reset_index(drop=True)\n",
    "snp_desc_yahoo_df = pd.merge(snp_desc_yahoo_df, ticker_to_gics_df, on='Ticker')\n",
    "snp_desc_yahoo_df.Industry = pd.Categorical(snp_desc_yahoo_df.Industry)\n",
    "snp_desc_yahoo_df.Sector = pd.Categorical(snp_desc_yahoo_df.Sector)"
   ]
  },
  {
   "cell_type": "code",
   "execution_count": 40,
   "metadata": {},
   "outputs": [
    {
     "data": {
      "text/html": [
       "<div>\n",
       "<style scoped>\n",
       "    .dataframe tbody tr th:only-of-type {\n",
       "        vertical-align: middle;\n",
       "    }\n",
       "\n",
       "    .dataframe tbody tr th {\n",
       "        vertical-align: top;\n",
       "    }\n",
       "\n",
       "    .dataframe thead th {\n",
       "        text-align: right;\n",
       "    }\n",
       "</style>\n",
       "<table border=\"1\" class=\"dataframe\">\n",
       "  <thead>\n",
       "    <tr style=\"text-align: right;\">\n",
       "      <th></th>\n",
       "      <th>Ticker</th>\n",
       "      <th>Description</th>\n",
       "      <th>Sector</th>\n",
       "      <th>Industry</th>\n",
       "      <th>GICS</th>\n",
       "    </tr>\n",
       "  </thead>\n",
       "  <tbody>\n",
       "    <tr>\n",
       "      <th>0</th>\n",
       "      <td>ABT</td>\n",
       "      <td>Abbott Laboratories discovers, develops, manuf...</td>\n",
       "      <td>Healthcare</td>\n",
       "      <td>Medical Devices</td>\n",
       "      <td>Health Care Equipment &amp; Supplies</td>\n",
       "    </tr>\n",
       "    <tr>\n",
       "      <th>1</th>\n",
       "      <td>ABBV</td>\n",
       "      <td>AbbVie Inc. discovers, develops, manufactures,...</td>\n",
       "      <td>Healthcare</td>\n",
       "      <td>Drug Manufacturers—General</td>\n",
       "      <td>Biotechnology</td>\n",
       "    </tr>\n",
       "    <tr>\n",
       "      <th>2</th>\n",
       "      <td>ADBE</td>\n",
       "      <td>Adobe Inc. operates as a diversified software ...</td>\n",
       "      <td>Technology</td>\n",
       "      <td>Software—Infrastructure</td>\n",
       "      <td>Software</td>\n",
       "    </tr>\n",
       "    <tr>\n",
       "      <th>3</th>\n",
       "      <td>MMM</td>\n",
       "      <td>3M Company develops, manufactures, and markets...</td>\n",
       "      <td>Industrials</td>\n",
       "      <td>Specialty Industrial Machinery</td>\n",
       "      <td>Industrial Conglomerates</td>\n",
       "    </tr>\n",
       "    <tr>\n",
       "      <th>4</th>\n",
       "      <td>AMD</td>\n",
       "      <td>Advanced Micro Devices, Inc. operates as a sem...</td>\n",
       "      <td>Technology</td>\n",
       "      <td>Semiconductors</td>\n",
       "      <td>Semiconductors &amp; Semiconductor Equipment</td>\n",
       "    </tr>\n",
       "  </tbody>\n",
       "</table>\n",
       "</div>"
      ],
      "text/plain": [
       "  Ticker                                        Description       Sector  \\\n",
       "0    ABT  Abbott Laboratories discovers, develops, manuf...   Healthcare   \n",
       "1   ABBV  AbbVie Inc. discovers, develops, manufactures,...   Healthcare   \n",
       "2   ADBE  Adobe Inc. operates as a diversified software ...   Technology   \n",
       "3    MMM  3M Company develops, manufactures, and markets...  Industrials   \n",
       "4    AMD  Advanced Micro Devices, Inc. operates as a sem...   Technology   \n",
       "\n",
       "                         Industry                                      GICS  \n",
       "0                 Medical Devices          Health Care Equipment & Supplies  \n",
       "1      Drug Manufacturers—General                             Biotechnology  \n",
       "2         Software—Infrastructure                                  Software  \n",
       "3  Specialty Industrial Machinery                  Industrial Conglomerates  \n",
       "4                  Semiconductors  Semiconductors & Semiconductor Equipment  "
      ]
     },
     "execution_count": 40,
     "metadata": {},
     "output_type": "execute_result"
    }
   ],
   "source": [
    "snp_desc_yahoo_df.head()"
   ]
  },
  {
   "cell_type": "code",
   "execution_count": 41,
   "metadata": {
    "scrolled": false
   },
   "outputs": [
    {
     "data": {
      "text/plain": [
       "(499, 5)"
      ]
     },
     "execution_count": 41,
     "metadata": {},
     "output_type": "execute_result"
    }
   ],
   "source": [
    "snp_desc_yahoo_df.shape"
   ]
  },
  {
   "cell_type": "code",
   "execution_count": 42,
   "metadata": {
    "scrolled": true
   },
   "outputs": [
    {
     "name": "stdout",
     "output_type": "stream",
     "text": [
      "63\n",
      "11\n",
      "113\n"
     ]
    }
   ],
   "source": [
    "print(len(set(snp_desc_yahoo_df.GICS)))\n",
    "print(len(set(snp_desc_yahoo_df.Sector)))\n",
    "print(len(set(snp_desc_yahoo_df.Industry)))"
   ]
  },
  {
   "cell_type": "code",
   "execution_count": 43,
   "metadata": {},
   "outputs": [
    {
     "name": "stdout",
     "output_type": "stream",
     "text": [
      "MEAN: 1459\n",
      "MEDIAN: 1584\n",
      "MIN: 209\n",
      "MAX: 2386\n"
     ]
    }
   ],
   "source": [
    "description_length_stats(snp_desc_yahoo_df)\n",
    "# longest_and_shortest_description(snp_desc_yahoo_df)"
   ]
  },
  {
   "cell_type": "markdown",
   "metadata": {},
   "source": [
    "##### SnP Descriptions (from Wiki)\n",
    "\n",
    "- drop na?"
   ]
  },
  {
   "cell_type": "code",
   "execution_count": 44,
   "metadata": {},
   "outputs": [],
   "source": [
    "snp_desc_wiki_df = pd.read_csv('data_out/snp_desc_wiki.csv').dropna()"
   ]
  },
  {
   "cell_type": "code",
   "execution_count": 45,
   "metadata": {},
   "outputs": [],
   "source": [
    "snp_desc_wiki_df = pd.merge(snp_desc_wiki_df, ticker_to_gics_df, on='Ticker')\n",
    "snp_desc_wiki_df = snp_desc_wiki_df[['Ticker', 'Description', 'GICS']]"
   ]
  },
  {
   "cell_type": "code",
   "execution_count": 46,
   "metadata": {
    "scrolled": false
   },
   "outputs": [
    {
     "data": {
      "text/html": [
       "<div>\n",
       "<style scoped>\n",
       "    .dataframe tbody tr th:only-of-type {\n",
       "        vertical-align: middle;\n",
       "    }\n",
       "\n",
       "    .dataframe tbody tr th {\n",
       "        vertical-align: top;\n",
       "    }\n",
       "\n",
       "    .dataframe thead th {\n",
       "        text-align: right;\n",
       "    }\n",
       "</style>\n",
       "<table border=\"1\" class=\"dataframe\">\n",
       "  <thead>\n",
       "    <tr style=\"text-align: right;\">\n",
       "      <th></th>\n",
       "      <th>Ticker</th>\n",
       "      <th>Description</th>\n",
       "      <th>GICS</th>\n",
       "    </tr>\n",
       "  </thead>\n",
       "  <tbody>\n",
       "    <tr>\n",
       "      <th>0</th>\n",
       "      <td>MMM</td>\n",
       "      <td>The 3M Company is an American multinational co...</td>\n",
       "      <td>Industrial Conglomerates</td>\n",
       "    </tr>\n",
       "    <tr>\n",
       "      <th>1</th>\n",
       "      <td>ABT</td>\n",
       "      <td>Abbott Laboratories is an American multination...</td>\n",
       "      <td>Health Care Equipment &amp; Supplies</td>\n",
       "    </tr>\n",
       "    <tr>\n",
       "      <th>2</th>\n",
       "      <td>ABBV</td>\n",
       "      <td>AbbVie is an American publicly traded biopharm...</td>\n",
       "      <td>Biotechnology</td>\n",
       "    </tr>\n",
       "    <tr>\n",
       "      <th>3</th>\n",
       "      <td>ABMD</td>\n",
       "      <td>Abiomed is a publicly-traded medical devices c...</td>\n",
       "      <td>Health Care Equipment &amp; Supplies</td>\n",
       "    </tr>\n",
       "    <tr>\n",
       "      <th>4</th>\n",
       "      <td>ACN</td>\n",
       "      <td>Accenture plc is a multinational professional ...</td>\n",
       "      <td>IT Services</td>\n",
       "    </tr>\n",
       "  </tbody>\n",
       "</table>\n",
       "</div>"
      ],
      "text/plain": [
       "  Ticker                                        Description  \\\n",
       "0    MMM  The 3M Company is an American multinational co...   \n",
       "1    ABT  Abbott Laboratories is an American multination...   \n",
       "2   ABBV  AbbVie is an American publicly traded biopharm...   \n",
       "3   ABMD  Abiomed is a publicly-traded medical devices c...   \n",
       "4    ACN  Accenture plc is a multinational professional ...   \n",
       "\n",
       "                               GICS  \n",
       "0          Industrial Conglomerates  \n",
       "1  Health Care Equipment & Supplies  \n",
       "2                     Biotechnology  \n",
       "3  Health Care Equipment & Supplies  \n",
       "4                       IT Services  "
      ]
     },
     "execution_count": 46,
     "metadata": {},
     "output_type": "execute_result"
    }
   ],
   "source": [
    "snp_desc_wiki_df.head()"
   ]
  },
  {
   "cell_type": "code",
   "execution_count": 47,
   "metadata": {},
   "outputs": [
    {
     "data": {
      "text/plain": [
       "(499, 3)"
      ]
     },
     "execution_count": 47,
     "metadata": {},
     "output_type": "execute_result"
    }
   ],
   "source": [
    "snp_desc_wiki_df.shape"
   ]
  },
  {
   "cell_type": "code",
   "execution_count": 48,
   "metadata": {},
   "outputs": [
    {
     "data": {
      "text/plain": [
       "Ticker         499\n",
       "Description    499\n",
       "GICS           499\n",
       "dtype: int64"
      ]
     },
     "execution_count": 48,
     "metadata": {},
     "output_type": "execute_result"
    }
   ],
   "source": [
    "snp_desc_wiki_df.count()"
   ]
  },
  {
   "cell_type": "code",
   "execution_count": 49,
   "metadata": {},
   "outputs": [
    {
     "name": "stdout",
     "output_type": "stream",
     "text": [
      "63\n"
     ]
    }
   ],
   "source": [
    "print(len(set(snp_desc_wiki_df.GICS)))"
   ]
  },
  {
   "cell_type": "code",
   "execution_count": 50,
   "metadata": {
    "scrolled": true
   },
   "outputs": [
    {
     "name": "stdout",
     "output_type": "stream",
     "text": [
      "MEAN: 861\n",
      "MEDIAN: 701\n",
      "MIN: 69\n",
      "MAX: 4427\n"
     ]
    }
   ],
   "source": [
    "description_length_stats(snp_desc_wiki_df)\n",
    "# longest_and_shortest_description(snp_desc_wiki_df)"
   ]
  },
  {
   "cell_type": "markdown",
   "metadata": {},
   "source": [
    "##### SnP Descriptions (from business insider)"
   ]
  },
  {
   "cell_type": "code",
   "execution_count": 55,
   "metadata": {},
   "outputs": [],
   "source": [
    "snp_desc_bi_df = pd.read_csv('scrapy_spiders/data_out/snp_desc_businessinsider.csv').dropna().reset_index(drop=True)\n",
    "snp_desc_bi_df = pd.merge(snp_desc_bi_df, ticker_to_gics_df, on='Ticker')"
   ]
  },
  {
   "cell_type": "code",
   "execution_count": 56,
   "metadata": {
    "scrolled": true
   },
   "outputs": [
    {
     "data": {
      "text/html": [
       "<div>\n",
       "<style scoped>\n",
       "    .dataframe tbody tr th:only-of-type {\n",
       "        vertical-align: middle;\n",
       "    }\n",
       "\n",
       "    .dataframe tbody tr th {\n",
       "        vertical-align: top;\n",
       "    }\n",
       "\n",
       "    .dataframe thead th {\n",
       "        text-align: right;\n",
       "    }\n",
       "</style>\n",
       "<table border=\"1\" class=\"dataframe\">\n",
       "  <thead>\n",
       "    <tr style=\"text-align: right;\">\n",
       "      <th></th>\n",
       "      <th>Ticker</th>\n",
       "      <th>Description</th>\n",
       "      <th>GICS</th>\n",
       "    </tr>\n",
       "  </thead>\n",
       "  <tbody>\n",
       "    <tr>\n",
       "      <th>0</th>\n",
       "      <td>MMM</td>\n",
       "      <td>3M Co. is a technology company, which manufact...</td>\n",
       "      <td>Industrial Conglomerates</td>\n",
       "    </tr>\n",
       "    <tr>\n",
       "      <th>1</th>\n",
       "      <td>AFL</td>\n",
       "      <td>Aflac, Inc. is a holding company, which engage...</td>\n",
       "      <td>Insurance</td>\n",
       "    </tr>\n",
       "    <tr>\n",
       "      <th>2</th>\n",
       "      <td>AMD</td>\n",
       "      <td>Advanced Micro Devices, Inc. engages in the pr...</td>\n",
       "      <td>Semiconductors &amp; Semiconductor Equipment</td>\n",
       "    </tr>\n",
       "    <tr>\n",
       "      <th>3</th>\n",
       "      <td>ABT</td>\n",
       "      <td>Abbott Laboratories engages in the discovery, ...</td>\n",
       "      <td>Health Care Equipment &amp; Supplies</td>\n",
       "    </tr>\n",
       "    <tr>\n",
       "      <th>4</th>\n",
       "      <td>AAP</td>\n",
       "      <td>Advance Auto Parts, Inc. engages in the supply...</td>\n",
       "      <td>Specialty Retail</td>\n",
       "    </tr>\n",
       "  </tbody>\n",
       "</table>\n",
       "</div>"
      ],
      "text/plain": [
       "  Ticker                                        Description  \\\n",
       "0    MMM  3M Co. is a technology company, which manufact...   \n",
       "1    AFL  Aflac, Inc. is a holding company, which engage...   \n",
       "2    AMD  Advanced Micro Devices, Inc. engages in the pr...   \n",
       "3    ABT  Abbott Laboratories engages in the discovery, ...   \n",
       "4    AAP  Advance Auto Parts, Inc. engages in the supply...   \n",
       "\n",
       "                                       GICS  \n",
       "0                  Industrial Conglomerates  \n",
       "1                                 Insurance  \n",
       "2  Semiconductors & Semiconductor Equipment  \n",
       "3          Health Care Equipment & Supplies  \n",
       "4                          Specialty Retail  "
      ]
     },
     "execution_count": 56,
     "metadata": {},
     "output_type": "execute_result"
    }
   ],
   "source": [
    "snp_desc_bi_df.head()"
   ]
  },
  {
   "cell_type": "code",
   "execution_count": 57,
   "metadata": {
    "scrolled": true
   },
   "outputs": [
    {
     "data": {
      "text/plain": [
       "(498, 3)"
      ]
     },
     "execution_count": 57,
     "metadata": {},
     "output_type": "execute_result"
    }
   ],
   "source": [
    "snp_desc_bi_df.shape"
   ]
  },
  {
   "cell_type": "code",
   "execution_count": 58,
   "metadata": {
    "scrolled": true
   },
   "outputs": [
    {
     "name": "stdout",
     "output_type": "stream",
     "text": [
      "63\n"
     ]
    }
   ],
   "source": [
    "print(len(set(snp_desc_bi_df.GICS)))"
   ]
  },
  {
   "cell_type": "code",
   "execution_count": 59,
   "metadata": {
    "scrolled": true
   },
   "outputs": [
    {
     "name": "stdout",
     "output_type": "stream",
     "text": [
      "MEAN: 747\n",
      "MEDIAN: 724\n",
      "MIN: 146\n",
      "MAX: 2677\n"
     ]
    }
   ],
   "source": [
    "description_length_stats(snp_desc_bi_df)\n",
    "# longest_and_shortest_description(snp_desc_bi_df)"
   ]
  },
  {
   "cell_type": "markdown",
   "metadata": {},
   "source": [
    "##### SnP Descriptions (from morning star)"
   ]
  },
  {
   "cell_type": "code",
   "execution_count": 60,
   "metadata": {},
   "outputs": [],
   "source": [
    "snp_desc_ms_df = pd.read_csv('scrapy_spiders/data_out/snp_desc_morningstar.csv').dropna().reset_index(drop=True)\n",
    "snp_desc_ms_df = pd.merge(snp_desc_ms_df, ticker_to_gics_df, on='Ticker')"
   ]
  },
  {
   "cell_type": "code",
   "execution_count": 61,
   "metadata": {},
   "outputs": [
    {
     "data": {
      "text/html": [
       "<div>\n",
       "<style scoped>\n",
       "    .dataframe tbody tr th:only-of-type {\n",
       "        vertical-align: middle;\n",
       "    }\n",
       "\n",
       "    .dataframe tbody tr th {\n",
       "        vertical-align: top;\n",
       "    }\n",
       "\n",
       "    .dataframe thead th {\n",
       "        text-align: right;\n",
       "    }\n",
       "</style>\n",
       "<table border=\"1\" class=\"dataframe\">\n",
       "  <thead>\n",
       "    <tr style=\"text-align: right;\">\n",
       "      <th></th>\n",
       "      <th>Ticker</th>\n",
       "      <th>Description</th>\n",
       "      <th>GICS</th>\n",
       "    </tr>\n",
       "  </thead>\n",
       "  <tbody>\n",
       "    <tr>\n",
       "      <th>0</th>\n",
       "      <td>ABMD</td>\n",
       "      <td>Abiomed Inc provides temporary mechanical circ...</td>\n",
       "      <td>Health Care Equipment &amp; Supplies</td>\n",
       "    </tr>\n",
       "    <tr>\n",
       "      <th>1</th>\n",
       "      <td>ATVI</td>\n",
       "      <td>Activision Blizzard was formed in 2008 by the ...</td>\n",
       "      <td>Entertainment</td>\n",
       "    </tr>\n",
       "    <tr>\n",
       "      <th>2</th>\n",
       "      <td>AKAM</td>\n",
       "      <td>Akamai operates a content delivery network, or...</td>\n",
       "      <td>IT Services</td>\n",
       "    </tr>\n",
       "    <tr>\n",
       "      <th>3</th>\n",
       "      <td>ACN</td>\n",
       "      <td>Accenture is a leading global IT services firm...</td>\n",
       "      <td>IT Services</td>\n",
       "    </tr>\n",
       "    <tr>\n",
       "      <th>4</th>\n",
       "      <td>ABT</td>\n",
       "      <td>Abbott manufactures and markets medical device...</td>\n",
       "      <td>Health Care Equipment &amp; Supplies</td>\n",
       "    </tr>\n",
       "  </tbody>\n",
       "</table>\n",
       "</div>"
      ],
      "text/plain": [
       "  Ticker                                        Description  \\\n",
       "0   ABMD  Abiomed Inc provides temporary mechanical circ...   \n",
       "1   ATVI  Activision Blizzard was formed in 2008 by the ...   \n",
       "2   AKAM  Akamai operates a content delivery network, or...   \n",
       "3    ACN  Accenture is a leading global IT services firm...   \n",
       "4    ABT  Abbott manufactures and markets medical device...   \n",
       "\n",
       "                               GICS  \n",
       "0  Health Care Equipment & Supplies  \n",
       "1                     Entertainment  \n",
       "2                       IT Services  \n",
       "3                       IT Services  \n",
       "4  Health Care Equipment & Supplies  "
      ]
     },
     "execution_count": 61,
     "metadata": {},
     "output_type": "execute_result"
    }
   ],
   "source": [
    "snp_desc_ms_df.head()"
   ]
  },
  {
   "cell_type": "code",
   "execution_count": 62,
   "metadata": {
    "scrolled": true
   },
   "outputs": [
    {
     "data": {
      "text/plain": [
       "(497, 3)"
      ]
     },
     "execution_count": 62,
     "metadata": {},
     "output_type": "execute_result"
    }
   ],
   "source": [
    "snp_desc_ms_df.shape"
   ]
  },
  {
   "cell_type": "code",
   "execution_count": 63,
   "metadata": {
    "scrolled": true
   },
   "outputs": [
    {
     "name": "stdout",
     "output_type": "stream",
     "text": [
      "62\n"
     ]
    }
   ],
   "source": [
    "print(len(set(snp_desc_ms_df.GICS)))"
   ]
  },
  {
   "cell_type": "code",
   "execution_count": 64,
   "metadata": {
    "scrolled": true
   },
   "outputs": [
    {
     "name": "stdout",
     "output_type": "stream",
     "text": [
      "MEAN: 526\n",
      "MEDIAN: 519\n",
      "MIN: 145\n",
      "MAX: 800\n",
      "LONGEST DESCRIPTION:\n",
      "Cisco Systems, Inc. is the world's largest hardware and software supplier within the networking solutions sector. The infrastructure platforms group includes hardware and software products for switching, routing, data center, and wireless applications. Its applications portfolio contains collaboration, analytics, and Internet of Things products. The security segment contains Cisco's firewall and software-defined security products. Services are Cisco's technical support and advanced services offerings. The company’s wide array of hardware is complemented with solutions for software-defined networking, analytics, and intent-based networking. In collaboration with Cisco's initiative on growing software and services, its revenue model is focused on increasing subscriptions and recurring sales.\n",
      "SHORTEST DESCRIPTION:\n",
      "Capital One is a diversified financial-services holding company, primarily involved in credit card lending, auto lending, and commercial lending.\n"
     ]
    }
   ],
   "source": [
    "description_length_stats(snp_desc_ms_df)\n",
    "longest_and_shortest_description(snp_desc_ms_df)"
   ]
  },
  {
   "cell_type": "markdown",
   "metadata": {},
   "source": [
    "##### SnP Descriptions (from reuters)"
   ]
  },
  {
   "cell_type": "code",
   "execution_count": 65,
   "metadata": {},
   "outputs": [],
   "source": [
    "snp_desc_reuters_df = pd.read_csv('scrapy_spiders/data_out/snp_desc_reuters.csv').dropna().reset_index(drop=True)\n",
    "snp_desc_reuters_df = pd.merge(snp_desc_reuters_df, ticker_to_gics_df, on='Ticker')"
   ]
  },
  {
   "cell_type": "code",
   "execution_count": 66,
   "metadata": {},
   "outputs": [
    {
     "data": {
      "text/html": [
       "<div>\n",
       "<style scoped>\n",
       "    .dataframe tbody tr th:only-of-type {\n",
       "        vertical-align: middle;\n",
       "    }\n",
       "\n",
       "    .dataframe tbody tr th {\n",
       "        vertical-align: top;\n",
       "    }\n",
       "\n",
       "    .dataframe thead th {\n",
       "        text-align: right;\n",
       "    }\n",
       "</style>\n",
       "<table border=\"1\" class=\"dataframe\">\n",
       "  <thead>\n",
       "    <tr style=\"text-align: right;\">\n",
       "      <th></th>\n",
       "      <th>Ticker</th>\n",
       "      <th>Description</th>\n",
       "      <th>GICS</th>\n",
       "    </tr>\n",
       "  </thead>\n",
       "  <tbody>\n",
       "    <tr>\n",
       "      <th>0</th>\n",
       "      <td>ABT</td>\n",
       "      <td>Abbott Laboratories is engaged in the discover...</td>\n",
       "      <td>Health Care Equipment &amp; Supplies</td>\n",
       "    </tr>\n",
       "    <tr>\n",
       "      <th>1</th>\n",
       "      <td>MMM</td>\n",
       "      <td>3M Co is a technology company. The Company ope...</td>\n",
       "      <td>Industrial Conglomerates</td>\n",
       "    </tr>\n",
       "    <tr>\n",
       "      <th>2</th>\n",
       "      <td>ACN</td>\n",
       "      <td>Accenture plc is a professional services compa...</td>\n",
       "      <td>IT Services</td>\n",
       "    </tr>\n",
       "    <tr>\n",
       "      <th>3</th>\n",
       "      <td>AAP</td>\n",
       "      <td>Advance Auto Parts, Inc. provides automotive a...</td>\n",
       "      <td>Specialty Retail</td>\n",
       "    </tr>\n",
       "    <tr>\n",
       "      <th>4</th>\n",
       "      <td>AES</td>\n",
       "      <td>The AES Corporation is a holding company. The ...</td>\n",
       "      <td>Independent Power and Renewable Electricity Pr...</td>\n",
       "    </tr>\n",
       "  </tbody>\n",
       "</table>\n",
       "</div>"
      ],
      "text/plain": [
       "  Ticker                                        Description  \\\n",
       "0    ABT  Abbott Laboratories is engaged in the discover...   \n",
       "1    MMM  3M Co is a technology company. The Company ope...   \n",
       "2    ACN  Accenture plc is a professional services compa...   \n",
       "3    AAP  Advance Auto Parts, Inc. provides automotive a...   \n",
       "4    AES  The AES Corporation is a holding company. The ...   \n",
       "\n",
       "                                                GICS  \n",
       "0                   Health Care Equipment & Supplies  \n",
       "1                           Industrial Conglomerates  \n",
       "2                                        IT Services  \n",
       "3                                   Specialty Retail  \n",
       "4  Independent Power and Renewable Electricity Pr...  "
      ]
     },
     "execution_count": 66,
     "metadata": {},
     "output_type": "execute_result"
    }
   ],
   "source": [
    "snp_desc_reuters_df.head()"
   ]
  },
  {
   "cell_type": "code",
   "execution_count": 67,
   "metadata": {
    "scrolled": true
   },
   "outputs": [
    {
     "data": {
      "text/plain": [
       "(496, 3)"
      ]
     },
     "execution_count": 67,
     "metadata": {},
     "output_type": "execute_result"
    }
   ],
   "source": [
    "snp_desc_reuters_df.shape"
   ]
  },
  {
   "cell_type": "code",
   "execution_count": 68,
   "metadata": {
    "scrolled": true
   },
   "outputs": [
    {
     "name": "stdout",
     "output_type": "stream",
     "text": [
      "62\n"
     ]
    }
   ],
   "source": [
    "print(len(set(snp_desc_reuters_df.GICS)))"
   ]
  },
  {
   "cell_type": "code",
   "execution_count": 69,
   "metadata": {
    "scrolled": true
   },
   "outputs": [
    {
     "name": "stdout",
     "output_type": "stream",
     "text": [
      "MEAN: 939\n",
      "MEDIAN: 971\n",
      "MIN: 384\n",
      "MAX: 1000\n",
      "LONGEST DESCRIPTION:\n",
      "AvalonBay Communities, Inc. is a real estate investment trust (REIT). The Company is focused on the development, redevelopment, acquisition, ownership and operation of multifamily communities primarily in New England, the New York/New Jersey metro area, the Mid-Atlantic, the Pacific Northwest, and Northern and Southern California. Its segments include Established Communities, Other Stabilized Communities and Development/Redevelopment Communities. As of June 30, 2017, the Company owned or held a direct or indirect ownership interest in 287 apartment communities containing 83,123 apartment homes in 10 states and the District of Columbia, of which 23 communities were under development and nine communities were under redevelopment. It operates its apartment communities under three core brands: Avalon, AVA and Eaves by Avalon. Its real estate investments consist of operating apartment communities, communities in various stages of development (Development Communities) and Development Rights.\n",
      "SHORTEST DESCRIPTION:\n",
      "Evergy, Inc., is an energy company. The Company provides electricity generation, transmission and distribution services. It serves the customers under Westar and KCP&L brand names. It owns, operates and maintains more than 51,000 miles of distribution lines and 13,000 megawatts of generation. Its subsidiaries include Kansas City Power & Light Company (KCP&L) and Westar Energy, Inc.\n"
     ]
    }
   ],
   "source": [
    "description_length_stats(snp_desc_reuters_df)\n",
    "longest_and_shortest_description(snp_desc_reuters_df)"
   ]
  },
  {
   "cell_type": "markdown",
   "metadata": {},
   "source": [
    "##### SnP Descriptions (from reuters india)"
   ]
  },
  {
   "cell_type": "code",
   "execution_count": 70,
   "metadata": {},
   "outputs": [],
   "source": [
    "snp_desc_ri_df = pd.read_csv('scrapy_spiders/data_out/snp_desc_reutersindia.csv').dropna().reset_index(drop=True)\n",
    "snp_desc_ri_df = pd.merge(snp_desc_ri_df, ticker_to_gics_df, on='Ticker')"
   ]
  },
  {
   "cell_type": "code",
   "execution_count": 71,
   "metadata": {},
   "outputs": [
    {
     "data": {
      "text/html": [
       "<div>\n",
       "<style scoped>\n",
       "    .dataframe tbody tr th:only-of-type {\n",
       "        vertical-align: middle;\n",
       "    }\n",
       "\n",
       "    .dataframe tbody tr th {\n",
       "        vertical-align: top;\n",
       "    }\n",
       "\n",
       "    .dataframe thead th {\n",
       "        text-align: right;\n",
       "    }\n",
       "</style>\n",
       "<table border=\"1\" class=\"dataframe\">\n",
       "  <thead>\n",
       "    <tr style=\"text-align: right;\">\n",
       "      <th></th>\n",
       "      <th>Ticker</th>\n",
       "      <th>Description</th>\n",
       "      <th>GICS</th>\n",
       "    </tr>\n",
       "  </thead>\n",
       "  <tbody>\n",
       "    <tr>\n",
       "      <th>0</th>\n",
       "      <td>MMM</td>\n",
       "      <td>3M Co, incorporated on June 25, 1929, is a tec...</td>\n",
       "      <td>Industrial Conglomerates</td>\n",
       "    </tr>\n",
       "    <tr>\n",
       "      <th>1</th>\n",
       "      <td>ACN</td>\n",
       "      <td>Accenture plc, incorporated on June 10, 2009, ...</td>\n",
       "      <td>IT Services</td>\n",
       "    </tr>\n",
       "    <tr>\n",
       "      <th>2</th>\n",
       "      <td>AAP</td>\n",
       "      <td>Advance Auto Parts, Inc., incorporated on Augu...</td>\n",
       "      <td>Specialty Retail</td>\n",
       "    </tr>\n",
       "    <tr>\n",
       "      <th>3</th>\n",
       "      <td>AFL</td>\n",
       "      <td>Aflac Incorporated, incorporated on April 27, ...</td>\n",
       "      <td>Insurance</td>\n",
       "    </tr>\n",
       "    <tr>\n",
       "      <th>4</th>\n",
       "      <td>AES</td>\n",
       "      <td>The AES Corporation, incorporated on January 2...</td>\n",
       "      <td>Independent Power and Renewable Electricity Pr...</td>\n",
       "    </tr>\n",
       "  </tbody>\n",
       "</table>\n",
       "</div>"
      ],
      "text/plain": [
       "  Ticker                                        Description  \\\n",
       "0    MMM  3M Co, incorporated on June 25, 1929, is a tec...   \n",
       "1    ACN  Accenture plc, incorporated on June 10, 2009, ...   \n",
       "2    AAP  Advance Auto Parts, Inc., incorporated on Augu...   \n",
       "3    AFL  Aflac Incorporated, incorporated on April 27, ...   \n",
       "4    AES  The AES Corporation, incorporated on January 2...   \n",
       "\n",
       "                                                GICS  \n",
       "0                           Industrial Conglomerates  \n",
       "1                                        IT Services  \n",
       "2                                   Specialty Retail  \n",
       "3                                          Insurance  \n",
       "4  Independent Power and Renewable Electricity Pr...  "
      ]
     },
     "execution_count": 71,
     "metadata": {},
     "output_type": "execute_result"
    }
   ],
   "source": [
    "snp_desc_ri_df.head()"
   ]
  },
  {
   "cell_type": "code",
   "execution_count": 72,
   "metadata": {
    "scrolled": true
   },
   "outputs": [
    {
     "data": {
      "text/plain": [
       "(489, 3)"
      ]
     },
     "execution_count": 72,
     "metadata": {},
     "output_type": "execute_result"
    }
   ],
   "source": [
    "snp_desc_ri_df.shape"
   ]
  },
  {
   "cell_type": "code",
   "execution_count": 73,
   "metadata": {
    "scrolled": true
   },
   "outputs": [
    {
     "name": "stdout",
     "output_type": "stream",
     "text": [
      "62\n"
     ]
    }
   ],
   "source": [
    "print(len(set(snp_desc_ri_df.GICS)))"
   ]
  },
  {
   "cell_type": "code",
   "execution_count": 74,
   "metadata": {
    "scrolled": true
   },
   "outputs": [
    {
     "name": "stdout",
     "output_type": "stream",
     "text": [
      "MEAN: 4843\n",
      "MEDIAN: 4122\n",
      "MIN: 393\n",
      "MAX: 15920\n"
     ]
    }
   ],
   "source": [
    "description_length_stats(snp_desc_ri_df)\n",
    "# longest_and_shortest_description(snp_desc_ri_df)"
   ]
  },
  {
   "cell_type": "markdown",
   "metadata": {},
   "source": [
    "###### SnP Descriptions (from Bloomberg)\n",
    "\n",
    "- we use russell data, but we will filter this to snp tickers in the next step"
   ]
  },
  {
   "cell_type": "code",
   "execution_count": 75,
   "metadata": {},
   "outputs": [],
   "source": [
    "snp_desc_bloomberg_df = pd.read_csv('data_in/russell_desc_bloomberg.csv', names=['Ticker', 'Company', 'Description'])\n",
    "snp_desc_bloomberg_df = snp_desc_bloomberg_df[['Ticker', 'Description']]\n",
    "snp_desc_bloomberg_df = pd.merge(snp_desc_bloomberg_df, ticker_to_gics_df, on='Ticker')"
   ]
  },
  {
   "cell_type": "code",
   "execution_count": 76,
   "metadata": {
    "scrolled": true
   },
   "outputs": [
    {
     "data": {
      "text/html": [
       "<div>\n",
       "<style scoped>\n",
       "    .dataframe tbody tr th:only-of-type {\n",
       "        vertical-align: middle;\n",
       "    }\n",
       "\n",
       "    .dataframe tbody tr th {\n",
       "        vertical-align: top;\n",
       "    }\n",
       "\n",
       "    .dataframe thead th {\n",
       "        text-align: right;\n",
       "    }\n",
       "</style>\n",
       "<table border=\"1\" class=\"dataframe\">\n",
       "  <thead>\n",
       "    <tr style=\"text-align: right;\">\n",
       "      <th></th>\n",
       "      <th>Ticker</th>\n",
       "      <th>Description</th>\n",
       "      <th>GICS</th>\n",
       "    </tr>\n",
       "  </thead>\n",
       "  <tbody>\n",
       "    <tr>\n",
       "      <th>0</th>\n",
       "      <td>A</td>\n",
       "      <td>Agilent Technologies, Inc. provides core bio-a...</td>\n",
       "      <td>Life Sciences Tools &amp; Services</td>\n",
       "    </tr>\n",
       "    <tr>\n",
       "      <th>1</th>\n",
       "      <td>AA</td>\n",
       "      <td>Alcoa Corporation manufactures metal products....</td>\n",
       "      <td>Metals &amp; Mining</td>\n",
       "    </tr>\n",
       "    <tr>\n",
       "      <th>2</th>\n",
       "      <td>AAL</td>\n",
       "      <td>American Airlines Group Inc. operates an airli...</td>\n",
       "      <td>Airlines</td>\n",
       "    </tr>\n",
       "    <tr>\n",
       "      <th>3</th>\n",
       "      <td>AAN</td>\n",
       "      <td>Aaron's, Inc. rents and sells office and resid...</td>\n",
       "      <td>Specialty Retail</td>\n",
       "    </tr>\n",
       "    <tr>\n",
       "      <th>4</th>\n",
       "      <td>AAOI</td>\n",
       "      <td>Applied Optoelectronics, Inc. manufactures and...</td>\n",
       "      <td>Communications Equipment</td>\n",
       "    </tr>\n",
       "  </tbody>\n",
       "</table>\n",
       "</div>"
      ],
      "text/plain": [
       "  Ticker                                        Description  \\\n",
       "0      A  Agilent Technologies, Inc. provides core bio-a...   \n",
       "1     AA  Alcoa Corporation manufactures metal products....   \n",
       "2    AAL  American Airlines Group Inc. operates an airli...   \n",
       "3    AAN  Aaron's, Inc. rents and sells office and resid...   \n",
       "4   AAOI  Applied Optoelectronics, Inc. manufactures and...   \n",
       "\n",
       "                             GICS  \n",
       "0  Life Sciences Tools & Services  \n",
       "1                 Metals & Mining  \n",
       "2                        Airlines  \n",
       "3                Specialty Retail  \n",
       "4        Communications Equipment  "
      ]
     },
     "execution_count": 76,
     "metadata": {},
     "output_type": "execute_result"
    }
   ],
   "source": [
    "snp_desc_bloomberg_df.head()"
   ]
  },
  {
   "cell_type": "code",
   "execution_count": 77,
   "metadata": {},
   "outputs": [
    {
     "data": {
      "text/plain": [
       "(2757, 3)"
      ]
     },
     "execution_count": 77,
     "metadata": {},
     "output_type": "execute_result"
    }
   ],
   "source": [
    "snp_desc_bloomberg_df.shape"
   ]
  },
  {
   "cell_type": "code",
   "execution_count": 78,
   "metadata": {
    "scrolled": true
   },
   "outputs": [
    {
     "name": "stdout",
     "output_type": "stream",
     "text": [
      "69\n"
     ]
    }
   ],
   "source": [
    "print(len(set(snp_desc_bloomberg_df.GICS)))"
   ]
  },
  {
   "cell_type": "code",
   "execution_count": 79,
   "metadata": {
    "scrolled": true
   },
   "outputs": [
    {
     "name": "stdout",
     "output_type": "stream",
     "text": [
      "MEAN: 280\n",
      "MEDIAN: 281\n",
      "MIN: 41\n",
      "MAX: 395\n",
      "LONGEST DESCRIPTION:\n",
      "Cornerstone OnDemand, Inc. develops and markets on demand employee development computer software. The Company offers software includes learning development, enterprise social networking, performance management, and succession planning. Cornerstone markets to multi-national corporations, large domestic enterprises, midmarket companies, state and local public sector organizations, and colleges.\n",
      "SHORTEST DESCRIPTION:\n",
      "Cimpress PLC serves customers in Ireland.\n"
     ]
    }
   ],
   "source": [
    "description_length_stats(snp_desc_bloomberg_df)\n",
    "longest_and_shortest_description(snp_desc_bloomberg_df)"
   ]
  },
  {
   "cell_type": "markdown",
   "metadata": {},
   "source": [
    "### Russell Data\n",
    "\n",
    "- 2964 tickers"
   ]
  },
  {
   "cell_type": "markdown",
   "metadata": {},
   "source": [
    "##### Russell Descriptions (from 10K)"
   ]
  },
  {
   "cell_type": "code",
   "execution_count": 80,
   "metadata": {},
   "outputs": [],
   "source": [
    "russell_desc_10K_df = pd.read_pickle('data_out/russell_desc_10K.pkl')"
   ]
  },
  {
   "cell_type": "code",
   "execution_count": 81,
   "metadata": {},
   "outputs": [],
   "source": [
    "russell_desc_10K_df = pd.merge(russell_desc_10K_df, ticker_to_gics_df, on='Ticker')\n",
    "russell_desc_10K_df = russell_desc_10K_df[['Ticker', 'Description', 'GICS']]"
   ]
  },
  {
   "cell_type": "code",
   "execution_count": 82,
   "metadata": {},
   "outputs": [
    {
     "data": {
      "text/html": [
       "<div>\n",
       "<style scoped>\n",
       "    .dataframe tbody tr th:only-of-type {\n",
       "        vertical-align: middle;\n",
       "    }\n",
       "\n",
       "    .dataframe tbody tr th {\n",
       "        vertical-align: top;\n",
       "    }\n",
       "\n",
       "    .dataframe thead th {\n",
       "        text-align: right;\n",
       "    }\n",
       "</style>\n",
       "<table border=\"1\" class=\"dataframe\">\n",
       "  <thead>\n",
       "    <tr style=\"text-align: right;\">\n",
       "      <th></th>\n",
       "      <th>Ticker</th>\n",
       "      <th>Description</th>\n",
       "      <th>GICS</th>\n",
       "    </tr>\n",
       "  </thead>\n",
       "  <tbody>\n",
       "    <tr>\n",
       "      <th>0</th>\n",
       "      <td>A</td>\n",
       "      <td>PART I  Item 1. Business   Overview  Agilent T...</td>\n",
       "      <td>Life Sciences Tools &amp; Services</td>\n",
       "    </tr>\n",
       "    <tr>\n",
       "      <th>1</th>\n",
       "      <td>AA</td>\n",
       "      <td>PART I   Item 1. Business.   (dollars in milli...</td>\n",
       "      <td>Metals &amp; Mining</td>\n",
       "    </tr>\n",
       "    <tr>\n",
       "      <th>2</th>\n",
       "      <td>AAL</td>\n",
       "      <td>PART I   ITEM 1. BUSINESS  Overview  American ...</td>\n",
       "      <td>Airlines</td>\n",
       "    </tr>\n",
       "    <tr>\n",
       "      <th>3</th>\n",
       "      <td>AAN</td>\n",
       "      <td>PART I  ITEM 1. BUSINESS  Unless otherwise ind...</td>\n",
       "      <td>Specialty Retail</td>\n",
       "    </tr>\n",
       "    <tr>\n",
       "      <th>4</th>\n",
       "      <td>AAOI</td>\n",
       "      <td>PART I    Item 1. Business   BUSINESS    Overv...</td>\n",
       "      <td>Communications Equipment</td>\n",
       "    </tr>\n",
       "  </tbody>\n",
       "</table>\n",
       "</div>"
      ],
      "text/plain": [
       "  Ticker                                        Description  \\\n",
       "0      A  PART I  Item 1. Business   Overview  Agilent T...   \n",
       "1     AA  PART I   Item 1. Business.   (dollars in milli...   \n",
       "2    AAL  PART I   ITEM 1. BUSINESS  Overview  American ...   \n",
       "3    AAN  PART I  ITEM 1. BUSINESS  Unless otherwise ind...   \n",
       "4   AAOI  PART I    Item 1. Business   BUSINESS    Overv...   \n",
       "\n",
       "                             GICS  \n",
       "0  Life Sciences Tools & Services  \n",
       "1                 Metals & Mining  \n",
       "2                        Airlines  \n",
       "3                Specialty Retail  \n",
       "4        Communications Equipment  "
      ]
     },
     "execution_count": 82,
     "metadata": {},
     "output_type": "execute_result"
    }
   ],
   "source": [
    "russell_desc_10K_df.head()"
   ]
  },
  {
   "cell_type": "code",
   "execution_count": 83,
   "metadata": {
    "scrolled": true
   },
   "outputs": [
    {
     "data": {
      "text/plain": [
       "(2807, 3)"
      ]
     },
     "execution_count": 83,
     "metadata": {},
     "output_type": "execute_result"
    }
   ],
   "source": [
    "russell_desc_10K_df.shape"
   ]
  },
  {
   "cell_type": "code",
   "execution_count": 84,
   "metadata": {},
   "outputs": [
    {
     "name": "stdout",
     "output_type": "stream",
     "text": [
      "69\n"
     ]
    }
   ],
   "source": [
    "print(len(set(russell_desc_10K_df.GICS)))"
   ]
  },
  {
   "cell_type": "markdown",
   "metadata": {},
   "source": [
    "##### Russell Descriptions (from yahoo)\n",
    "\n",
    "- alternative data source: data_out/russell_desc_yahoo_df.csv\n",
    "    - but this only has 2871 rows"
   ]
  },
  {
   "cell_type": "code",
   "execution_count": 85,
   "metadata": {},
   "outputs": [],
   "source": [
    "russell_desc_yahoo_df = pd.read_csv('scrapy_spiders/data_out/russell_desc_yahoo.csv').dropna().reset_index(drop=True)\n",
    "russell_desc_yahoo_df = pd.merge(russell_desc_yahoo_df, ticker_to_gics_df, on='Ticker')\n",
    "\n",
    "russell_desc_yahoo_df.Industry = pd.Categorical(russell_desc_yahoo_df.Industry)\n",
    "russell_desc_yahoo_df.Sector = pd.Categorical(russell_desc_yahoo_df.Sector)"
   ]
  },
  {
   "cell_type": "code",
   "execution_count": 86,
   "metadata": {
    "scrolled": false
   },
   "outputs": [
    {
     "data": {
      "text/html": [
       "<div>\n",
       "<style scoped>\n",
       "    .dataframe tbody tr th:only-of-type {\n",
       "        vertical-align: middle;\n",
       "    }\n",
       "\n",
       "    .dataframe tbody tr th {\n",
       "        vertical-align: top;\n",
       "    }\n",
       "\n",
       "    .dataframe thead th {\n",
       "        text-align: right;\n",
       "    }\n",
       "</style>\n",
       "<table border=\"1\" class=\"dataframe\">\n",
       "  <thead>\n",
       "    <tr style=\"text-align: right;\">\n",
       "      <th></th>\n",
       "      <th>Ticker</th>\n",
       "      <th>Description</th>\n",
       "      <th>Sector</th>\n",
       "      <th>Industry</th>\n",
       "      <th>GICS</th>\n",
       "    </tr>\n",
       "  </thead>\n",
       "  <tbody>\n",
       "    <tr>\n",
       "      <th>0</th>\n",
       "      <td>AAL</td>\n",
       "      <td>American Airlines Group Inc., through its subs...</td>\n",
       "      <td>Industrials</td>\n",
       "      <td>Airlines</td>\n",
       "      <td>Airlines</td>\n",
       "    </tr>\n",
       "    <tr>\n",
       "      <th>1</th>\n",
       "      <td>AAPL</td>\n",
       "      <td>Apple Inc. designs, manufactures, and markets ...</td>\n",
       "      <td>Technology</td>\n",
       "      <td>Consumer Electronics</td>\n",
       "      <td>Technology Hardware, Storage &amp; Peripherals</td>\n",
       "    </tr>\n",
       "    <tr>\n",
       "      <th>2</th>\n",
       "      <td>A</td>\n",
       "      <td>Agilent Technologies, Inc. provides applicatio...</td>\n",
       "      <td>Healthcare</td>\n",
       "      <td>Diagnostics &amp; Research</td>\n",
       "      <td>Life Sciences Tools &amp; Services</td>\n",
       "    </tr>\n",
       "    <tr>\n",
       "      <th>3</th>\n",
       "      <td>AAOI</td>\n",
       "      <td>Applied Optoelectronics, Inc. designs, manufac...</td>\n",
       "      <td>Technology</td>\n",
       "      <td>Semiconductors</td>\n",
       "      <td>Communications Equipment</td>\n",
       "    </tr>\n",
       "    <tr>\n",
       "      <th>4</th>\n",
       "      <td>AAON</td>\n",
       "      <td>AAON, Inc., together with its subsidiaries, en...</td>\n",
       "      <td>Industrials</td>\n",
       "      <td>Building Products &amp; Equipment</td>\n",
       "      <td>Building Products</td>\n",
       "    </tr>\n",
       "  </tbody>\n",
       "</table>\n",
       "</div>"
      ],
      "text/plain": [
       "  Ticker                                        Description       Sector  \\\n",
       "0    AAL  American Airlines Group Inc., through its subs...  Industrials   \n",
       "1   AAPL  Apple Inc. designs, manufactures, and markets ...   Technology   \n",
       "2      A  Agilent Technologies, Inc. provides applicatio...   Healthcare   \n",
       "3   AAOI  Applied Optoelectronics, Inc. designs, manufac...   Technology   \n",
       "4   AAON  AAON, Inc., together with its subsidiaries, en...  Industrials   \n",
       "\n",
       "                        Industry                                        GICS  \n",
       "0                       Airlines                                    Airlines  \n",
       "1           Consumer Electronics  Technology Hardware, Storage & Peripherals  \n",
       "2         Diagnostics & Research              Life Sciences Tools & Services  \n",
       "3                 Semiconductors                    Communications Equipment  \n",
       "4  Building Products & Equipment                           Building Products  "
      ]
     },
     "execution_count": 86,
     "metadata": {},
     "output_type": "execute_result"
    }
   ],
   "source": [
    "russell_desc_yahoo_df.head()"
   ]
  },
  {
   "cell_type": "code",
   "execution_count": 87,
   "metadata": {},
   "outputs": [
    {
     "data": {
      "text/plain": [
       "(2878, 5)"
      ]
     },
     "execution_count": 87,
     "metadata": {},
     "output_type": "execute_result"
    }
   ],
   "source": [
    "russell_desc_yahoo_df.shape"
   ]
  },
  {
   "cell_type": "code",
   "execution_count": 88,
   "metadata": {},
   "outputs": [
    {
     "name": "stdout",
     "output_type": "stream",
     "text": [
      "69\n",
      "11\n",
      "142\n"
     ]
    }
   ],
   "source": [
    "print(len(set(russell_desc_yahoo_df.GICS)))\n",
    "print(len(set(russell_desc_yahoo_df.Sector)))\n",
    "print(len(set(russell_desc_yahoo_df.Industry)))"
   ]
  },
  {
   "cell_type": "markdown",
   "metadata": {},
   "source": [
    "##### Russell Descriptions (from Wiki)\n",
    "\n",
    "- very little data"
   ]
  },
  {
   "cell_type": "code",
   "execution_count": 89,
   "metadata": {},
   "outputs": [],
   "source": [
    "russell_desc_wiki_df = pd.read_csv('data_out/russell_desc_wiki.csv').dropna().reset_index(drop=True)"
   ]
  },
  {
   "cell_type": "code",
   "execution_count": 90,
   "metadata": {},
   "outputs": [],
   "source": [
    "russell_desc_wiki_df = pd.merge(russell_desc_wiki_df, ticker_to_gics_df, on='Ticker')\n",
    "russell_desc_wiki_df = russell_desc_wiki_df[['Ticker', 'Description', 'GICS']]"
   ]
  },
  {
   "cell_type": "code",
   "execution_count": 91,
   "metadata": {
    "scrolled": false
   },
   "outputs": [
    {
     "data": {
      "text/html": [
       "<div>\n",
       "<style scoped>\n",
       "    .dataframe tbody tr th:only-of-type {\n",
       "        vertical-align: middle;\n",
       "    }\n",
       "\n",
       "    .dataframe tbody tr th {\n",
       "        vertical-align: top;\n",
       "    }\n",
       "\n",
       "    .dataframe thead th {\n",
       "        text-align: right;\n",
       "    }\n",
       "</style>\n",
       "<table border=\"1\" class=\"dataframe\">\n",
       "  <thead>\n",
       "    <tr style=\"text-align: right;\">\n",
       "      <th></th>\n",
       "      <th>Ticker</th>\n",
       "      <th>Description</th>\n",
       "      <th>GICS</th>\n",
       "    </tr>\n",
       "  </thead>\n",
       "  <tbody>\n",
       "    <tr>\n",
       "      <th>0</th>\n",
       "      <td>A</td>\n",
       "      <td>Agilent Technologies, Inc. is a global analyti...</td>\n",
       "      <td>Life Sciences Tools &amp; Services</td>\n",
       "    </tr>\n",
       "    <tr>\n",
       "      <th>1</th>\n",
       "      <td>AA</td>\n",
       "      <td>Alcoa Corporation (a portmanteau of Aluminum C...</td>\n",
       "      <td>Metals &amp; Mining</td>\n",
       "    </tr>\n",
       "    <tr>\n",
       "      <th>2</th>\n",
       "      <td>AAL</td>\n",
       "      <td>American Airlines Group Inc. is an American pu...</td>\n",
       "      <td>Airlines</td>\n",
       "    </tr>\n",
       "    <tr>\n",
       "      <th>3</th>\n",
       "      <td>AAON</td>\n",
       "      <td>AAON Inc. (NASDAQ: AAON) designs, manufactures...</td>\n",
       "      <td>Building Products</td>\n",
       "    </tr>\n",
       "    <tr>\n",
       "      <th>4</th>\n",
       "      <td>AAP</td>\n",
       "      <td>Advance Auto Parts, Inc. (Advance) is an Ameri...</td>\n",
       "      <td>Specialty Retail</td>\n",
       "    </tr>\n",
       "  </tbody>\n",
       "</table>\n",
       "</div>"
      ],
      "text/plain": [
       "  Ticker                                        Description  \\\n",
       "0      A  Agilent Technologies, Inc. is a global analyti...   \n",
       "1     AA  Alcoa Corporation (a portmanteau of Aluminum C...   \n",
       "2    AAL  American Airlines Group Inc. is an American pu...   \n",
       "3   AAON  AAON Inc. (NASDAQ: AAON) designs, manufactures...   \n",
       "4    AAP  Advance Auto Parts, Inc. (Advance) is an Ameri...   \n",
       "\n",
       "                             GICS  \n",
       "0  Life Sciences Tools & Services  \n",
       "1                 Metals & Mining  \n",
       "2                        Airlines  \n",
       "3               Building Products  \n",
       "4                Specialty Retail  "
      ]
     },
     "execution_count": 91,
     "metadata": {},
     "output_type": "execute_result"
    }
   ],
   "source": [
    "russell_desc_wiki_df.head()"
   ]
  },
  {
   "cell_type": "code",
   "execution_count": 92,
   "metadata": {},
   "outputs": [
    {
     "data": {
      "text/plain": [
       "(2278, 3)"
      ]
     },
     "execution_count": 92,
     "metadata": {},
     "output_type": "execute_result"
    }
   ],
   "source": [
    "russell_desc_wiki_df.shape"
   ]
  },
  {
   "cell_type": "code",
   "execution_count": 93,
   "metadata": {},
   "outputs": [
    {
     "name": "stdout",
     "output_type": "stream",
     "text": [
      "69\n"
     ]
    }
   ],
   "source": [
    "print(len(set(russell_desc_wiki_df.GICS)))"
   ]
  },
  {
   "cell_type": "markdown",
   "metadata": {},
   "source": [
    "##### Russell Descriptions (from business insider)"
   ]
  },
  {
   "cell_type": "code",
   "execution_count": 96,
   "metadata": {},
   "outputs": [],
   "source": [
    "russell_desc_bi_df = pd.read_csv('scrapy_spiders/data_out/russell_desc_businessinsider.csv').dropna().reset_index(drop=True)\n",
    "russell_desc_bi_df = pd.merge(russell_desc_bi_df, ticker_to_gics_df, on='Ticker')"
   ]
  },
  {
   "cell_type": "code",
   "execution_count": 97,
   "metadata": {
    "scrolled": true
   },
   "outputs": [
    {
     "data": {
      "text/html": [
       "<div>\n",
       "<style scoped>\n",
       "    .dataframe tbody tr th:only-of-type {\n",
       "        vertical-align: middle;\n",
       "    }\n",
       "\n",
       "    .dataframe tbody tr th {\n",
       "        vertical-align: top;\n",
       "    }\n",
       "\n",
       "    .dataframe thead th {\n",
       "        text-align: right;\n",
       "    }\n",
       "</style>\n",
       "<table border=\"1\" class=\"dataframe\">\n",
       "  <thead>\n",
       "    <tr style=\"text-align: right;\">\n",
       "      <th></th>\n",
       "      <th>Ticker</th>\n",
       "      <th>Description</th>\n",
       "      <th>GICS</th>\n",
       "    </tr>\n",
       "  </thead>\n",
       "  <tbody>\n",
       "    <tr>\n",
       "      <th>0</th>\n",
       "      <td>AAOI</td>\n",
       "      <td>Applied Optoelectronics, Inc. engages in the d...</td>\n",
       "      <td>Communications Equipment</td>\n",
       "    </tr>\n",
       "    <tr>\n",
       "      <th>1</th>\n",
       "      <td>AAXN</td>\n",
       "      <td>Axon Enterprise, Inc. engages in the developme...</td>\n",
       "      <td>Aerospace &amp; Defense</td>\n",
       "    </tr>\n",
       "    <tr>\n",
       "      <th>2</th>\n",
       "      <td>AAON</td>\n",
       "      <td>AAON, Inc. engages in the engineering, manufac...</td>\n",
       "      <td>Building Products</td>\n",
       "    </tr>\n",
       "    <tr>\n",
       "      <th>3</th>\n",
       "      <td>AAPL</td>\n",
       "      <td>Apple, Inc. engages in the design, manufacture...</td>\n",
       "      <td>Technology Hardware, Storage &amp; Peripherals</td>\n",
       "    </tr>\n",
       "    <tr>\n",
       "      <th>4</th>\n",
       "      <td>A</td>\n",
       "      <td>Agilent Technologies, Inc. engages in the prov...</td>\n",
       "      <td>Life Sciences Tools &amp; Services</td>\n",
       "    </tr>\n",
       "  </tbody>\n",
       "</table>\n",
       "</div>"
      ],
      "text/plain": [
       "  Ticker                                        Description  \\\n",
       "0   AAOI  Applied Optoelectronics, Inc. engages in the d...   \n",
       "1   AAXN  Axon Enterprise, Inc. engages in the developme...   \n",
       "2   AAON  AAON, Inc. engages in the engineering, manufac...   \n",
       "3   AAPL  Apple, Inc. engages in the design, manufacture...   \n",
       "4      A  Agilent Technologies, Inc. engages in the prov...   \n",
       "\n",
       "                                         GICS  \n",
       "0                    Communications Equipment  \n",
       "1                         Aerospace & Defense  \n",
       "2                           Building Products  \n",
       "3  Technology Hardware, Storage & Peripherals  \n",
       "4              Life Sciences Tools & Services  "
      ]
     },
     "execution_count": 97,
     "metadata": {},
     "output_type": "execute_result"
    }
   ],
   "source": [
    "russell_desc_bi_df.head()"
   ]
  },
  {
   "cell_type": "code",
   "execution_count": 98,
   "metadata": {
    "scrolled": true
   },
   "outputs": [
    {
     "data": {
      "text/plain": [
       "(2891, 3)"
      ]
     },
     "execution_count": 98,
     "metadata": {},
     "output_type": "execute_result"
    }
   ],
   "source": [
    "russell_desc_bi_df.shape"
   ]
  },
  {
   "cell_type": "code",
   "execution_count": 99,
   "metadata": {
    "scrolled": true
   },
   "outputs": [
    {
     "name": "stdout",
     "output_type": "stream",
     "text": [
      "69\n"
     ]
    }
   ],
   "source": [
    "print(len(set(russell_desc_bi_df.GICS)))"
   ]
  },
  {
   "cell_type": "code",
   "execution_count": 100,
   "metadata": {
    "scrolled": true
   },
   "outputs": [
    {
     "name": "stdout",
     "output_type": "stream",
     "text": [
      "MEAN: 607\n",
      "MEDIAN: 549\n",
      "MIN: 120\n",
      "MAX: 2677\n"
     ]
    }
   ],
   "source": [
    "description_length_stats(russell_desc_bi_df)\n",
    "# longest_and_shortest_description(russell_desc_bi_df)"
   ]
  },
  {
   "cell_type": "markdown",
   "metadata": {},
   "source": [
    "##### Russell Descriptions (from morning star)"
   ]
  },
  {
   "cell_type": "code",
   "execution_count": 101,
   "metadata": {},
   "outputs": [],
   "source": [
    "russell_desc_ms_df = pd.read_csv('scrapy_spiders/data_out/russell_desc_morningstar.csv').dropna().reset_index(drop=True)\n",
    "russell_desc_ms_df = pd.merge(russell_desc_ms_df, ticker_to_gics_df, on='Ticker')"
   ]
  },
  {
   "cell_type": "code",
   "execution_count": 102,
   "metadata": {},
   "outputs": [
    {
     "data": {
      "text/html": [
       "<div>\n",
       "<style scoped>\n",
       "    .dataframe tbody tr th:only-of-type {\n",
       "        vertical-align: middle;\n",
       "    }\n",
       "\n",
       "    .dataframe tbody tr th {\n",
       "        vertical-align: top;\n",
       "    }\n",
       "\n",
       "    .dataframe thead th {\n",
       "        text-align: right;\n",
       "    }\n",
       "</style>\n",
       "<table border=\"1\" class=\"dataframe\">\n",
       "  <thead>\n",
       "    <tr style=\"text-align: right;\">\n",
       "      <th></th>\n",
       "      <th>Ticker</th>\n",
       "      <th>Description</th>\n",
       "      <th>GICS</th>\n",
       "    </tr>\n",
       "  </thead>\n",
       "  <tbody>\n",
       "    <tr>\n",
       "      <th>0</th>\n",
       "      <td>AAPL</td>\n",
       "      <td>Apple designs a wide variety of consumer elect...</td>\n",
       "      <td>Technology Hardware, Storage &amp; Peripherals</td>\n",
       "    </tr>\n",
       "    <tr>\n",
       "      <th>1</th>\n",
       "      <td>AAL</td>\n",
       "      <td>American Airlines is the world’s largest airli...</td>\n",
       "      <td>Airlines</td>\n",
       "    </tr>\n",
       "    <tr>\n",
       "      <th>2</th>\n",
       "      <td>AAON</td>\n",
       "      <td>AAON is a manufacturer of air-conditioning and...</td>\n",
       "      <td>Building Products</td>\n",
       "    </tr>\n",
       "    <tr>\n",
       "      <th>3</th>\n",
       "      <td>AAOI</td>\n",
       "      <td>Applied Optoelectronics Inc is a provider of f...</td>\n",
       "      <td>Communications Equipment</td>\n",
       "    </tr>\n",
       "    <tr>\n",
       "      <th>4</th>\n",
       "      <td>AAWW</td>\n",
       "      <td>Atlas Air Worldwide Holdings Inc, together wit...</td>\n",
       "      <td>Air Freight &amp; Logistics</td>\n",
       "    </tr>\n",
       "  </tbody>\n",
       "</table>\n",
       "</div>"
      ],
      "text/plain": [
       "  Ticker                                        Description  \\\n",
       "0   AAPL  Apple designs a wide variety of consumer elect...   \n",
       "1    AAL  American Airlines is the world’s largest airli...   \n",
       "2   AAON  AAON is a manufacturer of air-conditioning and...   \n",
       "3   AAOI  Applied Optoelectronics Inc is a provider of f...   \n",
       "4   AAWW  Atlas Air Worldwide Holdings Inc, together wit...   \n",
       "\n",
       "                                         GICS  \n",
       "0  Technology Hardware, Storage & Peripherals  \n",
       "1                                    Airlines  \n",
       "2                           Building Products  \n",
       "3                    Communications Equipment  \n",
       "4                     Air Freight & Logistics  "
      ]
     },
     "execution_count": 102,
     "metadata": {},
     "output_type": "execute_result"
    }
   ],
   "source": [
    "russell_desc_ms_df.head()"
   ]
  },
  {
   "cell_type": "code",
   "execution_count": 103,
   "metadata": {
    "scrolled": true
   },
   "outputs": [
    {
     "data": {
      "text/plain": [
       "(2836, 3)"
      ]
     },
     "execution_count": 103,
     "metadata": {},
     "output_type": "execute_result"
    }
   ],
   "source": [
    "russell_desc_ms_df.shape"
   ]
  },
  {
   "cell_type": "code",
   "execution_count": 104,
   "metadata": {
    "scrolled": true
   },
   "outputs": [
    {
     "name": "stdout",
     "output_type": "stream",
     "text": [
      "69\n"
     ]
    }
   ],
   "source": [
    "print(len(set(russell_desc_ms_df.GICS)))"
   ]
  },
  {
   "cell_type": "code",
   "execution_count": 105,
   "metadata": {
    "scrolled": true
   },
   "outputs": [
    {
     "name": "stdout",
     "output_type": "stream",
     "text": [
      "MEAN: 565\n",
      "MEDIAN: 572\n",
      "MIN: 132\n",
      "MAX: 800\n",
      "LONGEST DESCRIPTION:\n",
      "Cisco Systems, Inc. is the world's largest hardware and software supplier within the networking solutions sector. The infrastructure platforms group includes hardware and software products for switching, routing, data center, and wireless applications. Its applications portfolio contains collaboration, analytics, and Internet of Things products. The security segment contains Cisco's firewall and software-defined security products. Services are Cisco's technical support and advanced services offerings. The company’s wide array of hardware is complemented with solutions for software-defined networking, analytics, and intent-based networking. In collaboration with Cisco's initiative on growing software and services, its revenue model is focused on increasing subscriptions and recurring sales.\n",
      "SHORTEST DESCRIPTION:\n",
      "Berkshire Hills Bancorp Inc is a holding company. It offers deposit, lending, investment, wealth management, and insurance services.\n"
     ]
    }
   ],
   "source": [
    "description_length_stats(russell_desc_ms_df)\n",
    "longest_and_shortest_description(russell_desc_ms_df)"
   ]
  },
  {
   "cell_type": "markdown",
   "metadata": {},
   "source": [
    "##### Russell Descriptions (from reuters)"
   ]
  },
  {
   "cell_type": "code",
   "execution_count": 106,
   "metadata": {},
   "outputs": [],
   "source": [
    "russell_desc_reuters_df = pd.read_csv('scrapy_spiders/data_out/russell_desc_reuters.csv').dropna().reset_index(drop=True)\n",
    "russell_desc_reuters_df = pd.merge(russell_desc_reuters_df, ticker_to_gics_df, on='Ticker')"
   ]
  },
  {
   "cell_type": "code",
   "execution_count": 107,
   "metadata": {},
   "outputs": [
    {
     "data": {
      "text/html": [
       "<div>\n",
       "<style scoped>\n",
       "    .dataframe tbody tr th:only-of-type {\n",
       "        vertical-align: middle;\n",
       "    }\n",
       "\n",
       "    .dataframe tbody tr th {\n",
       "        vertical-align: top;\n",
       "    }\n",
       "\n",
       "    .dataframe thead th {\n",
       "        text-align: right;\n",
       "    }\n",
       "</style>\n",
       "<table border=\"1\" class=\"dataframe\">\n",
       "  <thead>\n",
       "    <tr style=\"text-align: right;\">\n",
       "      <th></th>\n",
       "      <th>Ticker</th>\n",
       "      <th>Description</th>\n",
       "      <th>GICS</th>\n",
       "    </tr>\n",
       "  </thead>\n",
       "  <tbody>\n",
       "    <tr>\n",
       "      <th>0</th>\n",
       "      <td>A</td>\n",
       "      <td>Agilent Technologies, Inc. provides applicatio...</td>\n",
       "      <td>Life Sciences Tools &amp; Services</td>\n",
       "    </tr>\n",
       "    <tr>\n",
       "      <th>1</th>\n",
       "      <td>AA</td>\n",
       "      <td>Alcoa Corporation (Alcoa) is engaged in the pr...</td>\n",
       "      <td>Metals &amp; Mining</td>\n",
       "    </tr>\n",
       "    <tr>\n",
       "      <th>2</th>\n",
       "      <td>AAP</td>\n",
       "      <td>Advance Auto Parts, Inc. provides automotive a...</td>\n",
       "      <td>Specialty Retail</td>\n",
       "    </tr>\n",
       "    <tr>\n",
       "      <th>3</th>\n",
       "      <td>AAN</td>\n",
       "      <td>Aaron's Holdings Company, Inc. is a holding co...</td>\n",
       "      <td>Specialty Retail</td>\n",
       "    </tr>\n",
       "    <tr>\n",
       "      <th>4</th>\n",
       "      <td>AAT</td>\n",
       "      <td>American Assets Trust, Inc. is a full service,...</td>\n",
       "      <td>Equity Real Estate Investment Trusts (REITs)</td>\n",
       "    </tr>\n",
       "  </tbody>\n",
       "</table>\n",
       "</div>"
      ],
      "text/plain": [
       "  Ticker                                        Description  \\\n",
       "0      A  Agilent Technologies, Inc. provides applicatio...   \n",
       "1     AA  Alcoa Corporation (Alcoa) is engaged in the pr...   \n",
       "2    AAP  Advance Auto Parts, Inc. provides automotive a...   \n",
       "3    AAN  Aaron's Holdings Company, Inc. is a holding co...   \n",
       "4    AAT  American Assets Trust, Inc. is a full service,...   \n",
       "\n",
       "                                           GICS  \n",
       "0                Life Sciences Tools & Services  \n",
       "1                               Metals & Mining  \n",
       "2                              Specialty Retail  \n",
       "3                              Specialty Retail  \n",
       "4  Equity Real Estate Investment Trusts (REITs)  "
      ]
     },
     "execution_count": 107,
     "metadata": {},
     "output_type": "execute_result"
    }
   ],
   "source": [
    "russell_desc_reuters_df.head()"
   ]
  },
  {
   "cell_type": "code",
   "execution_count": 108,
   "metadata": {
    "scrolled": true
   },
   "outputs": [
    {
     "data": {
      "text/plain": [
       "(2867, 3)"
      ]
     },
     "execution_count": 108,
     "metadata": {},
     "output_type": "execute_result"
    }
   ],
   "source": [
    "russell_desc_reuters_df.shape"
   ]
  },
  {
   "cell_type": "code",
   "execution_count": 109,
   "metadata": {
    "scrolled": true
   },
   "outputs": [
    {
     "name": "stdout",
     "output_type": "stream",
     "text": [
      "69\n"
     ]
    }
   ],
   "source": [
    "print(len(set(russell_desc_reuters_df.GICS)))"
   ]
  },
  {
   "cell_type": "code",
   "execution_count": 110,
   "metadata": {
    "scrolled": true
   },
   "outputs": [
    {
     "name": "stdout",
     "output_type": "stream",
     "text": [
      "MEAN: 917\n",
      "MEDIAN: 962\n",
      "MIN: 244\n",
      "MAX: 1000\n",
      "LONGEST DESCRIPTION:\n",
      "Amerant Bancorp Inc., formerly Mercantil Bank Holding Corporation, is a bank holding company. It operates through its subsidiary, Mercantil Bank, N.A (The Bank). The Bank provides individuals and businesses with a wide range of deposits, credit, banking, investment, wealth management and fiduciary services, both in the United States and to select international customers. Its primary markets are South Florida, where it operates over 15 banking centers in Miami-Dade, Broward and Palm Beach counties; the greater Houston, Texas area where it has seven banking centers in Harris and Montgomery counties; and the New York City area where it has a loan production office in Midtown Manhattan. The Bank provides a variety of banking services through traditional channels, such as banking centers and automotive teller machines, as well as via Website, mobile devices and telephone. It operates through four segments, such as Personal and Commercial Banking, Corporate LATAM, Treasury and Institutional.\n",
      "SHORTEST DESCRIPTION:\n",
      "cbdMD Inc, formerly Level Brands, Inc., owns and operates consumer hemp-based cannabidiol (CBD) brand, cbdMD. The Company’s products categories include CBD gummies, CBD tinctures, CBD topical, CBD bath bombs, CBD Vape oils and CBD pet products.\n"
     ]
    }
   ],
   "source": [
    "description_length_stats(russell_desc_reuters_df)\n",
    "longest_and_shortest_description(russell_desc_reuters_df)"
   ]
  },
  {
   "cell_type": "markdown",
   "metadata": {},
   "source": [
    "##### Russell Descriptions (from reuters india)"
   ]
  },
  {
   "cell_type": "code",
   "execution_count": 111,
   "metadata": {
    "scrolled": true
   },
   "outputs": [],
   "source": [
    "russell_desc_ri_df = pd.read_csv('scrapy_spiders/data_out/russell_desc_reutersindia.csv').dropna().reset_index(drop=True)\n",
    "russell_desc_ri_df = pd.merge(russell_desc_ri_df, ticker_to_gics_df, on='Ticker')"
   ]
  },
  {
   "cell_type": "code",
   "execution_count": 112,
   "metadata": {},
   "outputs": [
    {
     "data": {
      "text/html": [
       "<div>\n",
       "<style scoped>\n",
       "    .dataframe tbody tr th:only-of-type {\n",
       "        vertical-align: middle;\n",
       "    }\n",
       "\n",
       "    .dataframe tbody tr th {\n",
       "        vertical-align: top;\n",
       "    }\n",
       "\n",
       "    .dataframe thead th {\n",
       "        text-align: right;\n",
       "    }\n",
       "</style>\n",
       "<table border=\"1\" class=\"dataframe\">\n",
       "  <thead>\n",
       "    <tr style=\"text-align: right;\">\n",
       "      <th></th>\n",
       "      <th>Ticker</th>\n",
       "      <th>Description</th>\n",
       "      <th>GICS</th>\n",
       "    </tr>\n",
       "  </thead>\n",
       "  <tbody>\n",
       "    <tr>\n",
       "      <th>0</th>\n",
       "      <td>A</td>\n",
       "      <td>Agilent Technologies, Inc., incorporated on Ma...</td>\n",
       "      <td>Life Sciences Tools &amp; Services</td>\n",
       "    </tr>\n",
       "    <tr>\n",
       "      <th>1</th>\n",
       "      <td>AAN</td>\n",
       "      <td>Aaron's Holdings Company, Inc. is a holding co...</td>\n",
       "      <td>Specialty Retail</td>\n",
       "    </tr>\n",
       "    <tr>\n",
       "      <th>2</th>\n",
       "      <td>AAT</td>\n",
       "      <td>American Assets Trust, Inc., incorporated on J...</td>\n",
       "      <td>Equity Real Estate Investment Trusts (REITs)</td>\n",
       "    </tr>\n",
       "    <tr>\n",
       "      <th>3</th>\n",
       "      <td>AAP</td>\n",
       "      <td>Advance Auto Parts, Inc., incorporated on Augu...</td>\n",
       "      <td>Specialty Retail</td>\n",
       "    </tr>\n",
       "    <tr>\n",
       "      <th>4</th>\n",
       "      <td>ABC</td>\n",
       "      <td>AmerisourceBergen Corporation, incorporated on...</td>\n",
       "      <td>Health Care Providers &amp; Services</td>\n",
       "    </tr>\n",
       "  </tbody>\n",
       "</table>\n",
       "</div>"
      ],
      "text/plain": [
       "  Ticker                                        Description  \\\n",
       "0      A  Agilent Technologies, Inc., incorporated on Ma...   \n",
       "1    AAN  Aaron's Holdings Company, Inc. is a holding co...   \n",
       "2    AAT  American Assets Trust, Inc., incorporated on J...   \n",
       "3    AAP  Advance Auto Parts, Inc., incorporated on Augu...   \n",
       "4    ABC  AmerisourceBergen Corporation, incorporated on...   \n",
       "\n",
       "                                           GICS  \n",
       "0                Life Sciences Tools & Services  \n",
       "1                              Specialty Retail  \n",
       "2  Equity Real Estate Investment Trusts (REITs)  \n",
       "3                              Specialty Retail  \n",
       "4              Health Care Providers & Services  "
      ]
     },
     "execution_count": 112,
     "metadata": {},
     "output_type": "execute_result"
    }
   ],
   "source": [
    "russell_desc_ri_df.head()"
   ]
  },
  {
   "cell_type": "code",
   "execution_count": 113,
   "metadata": {
    "scrolled": true
   },
   "outputs": [
    {
     "data": {
      "text/plain": [
       "(2912, 3)"
      ]
     },
     "execution_count": 113,
     "metadata": {},
     "output_type": "execute_result"
    }
   ],
   "source": [
    "russell_desc_ri_df.shape"
   ]
  },
  {
   "cell_type": "code",
   "execution_count": 114,
   "metadata": {
    "scrolled": true
   },
   "outputs": [
    {
     "name": "stdout",
     "output_type": "stream",
     "text": [
      "69\n"
     ]
    }
   ],
   "source": [
    "print(len(set(russell_desc_ri_df.GICS)))"
   ]
  },
  {
   "cell_type": "code",
   "execution_count": 115,
   "metadata": {
    "scrolled": true
   },
   "outputs": [
    {
     "name": "stdout",
     "output_type": "stream",
     "text": [
      "MEAN: 3610\n",
      "MEDIAN: 3030\n",
      "MIN: 323\n",
      "MAX: 16352\n"
     ]
    }
   ],
   "source": [
    "description_length_stats(russell_desc_ri_df)\n",
    "# longest_and_shortest_description(russell_desc_ri_df)"
   ]
  },
  {
   "cell_type": "markdown",
   "metadata": {},
   "source": [
    "###### Russell Descriptions (from Bloomberg)"
   ]
  },
  {
   "cell_type": "code",
   "execution_count": 116,
   "metadata": {},
   "outputs": [],
   "source": [
    "russell_desc_bloomberg_df = pd.read_csv('data_in/russell_desc_bloomberg.csv', names=['Ticker', 'Company', 'Description'])\n",
    "russell_desc_bloomberg_df = russell_desc_bloomberg_df[['Ticker', 'Description']]\n",
    "russell_desc_bloomberg_df = pd.merge(russell_desc_bloomberg_df, ticker_to_gics_df, on='Ticker')"
   ]
  },
  {
   "cell_type": "code",
   "execution_count": 117,
   "metadata": {},
   "outputs": [
    {
     "data": {
      "text/plain": [
       "(2757, 3)"
      ]
     },
     "execution_count": 117,
     "metadata": {},
     "output_type": "execute_result"
    }
   ],
   "source": [
    "russell_desc_bloomberg_df.shape"
   ]
  },
  {
   "cell_type": "code",
   "execution_count": 118,
   "metadata": {},
   "outputs": [
    {
     "data": {
      "text/html": [
       "<div>\n",
       "<style scoped>\n",
       "    .dataframe tbody tr th:only-of-type {\n",
       "        vertical-align: middle;\n",
       "    }\n",
       "\n",
       "    .dataframe tbody tr th {\n",
       "        vertical-align: top;\n",
       "    }\n",
       "\n",
       "    .dataframe thead th {\n",
       "        text-align: right;\n",
       "    }\n",
       "</style>\n",
       "<table border=\"1\" class=\"dataframe\">\n",
       "  <thead>\n",
       "    <tr style=\"text-align: right;\">\n",
       "      <th></th>\n",
       "      <th>Ticker</th>\n",
       "      <th>Description</th>\n",
       "      <th>GICS</th>\n",
       "    </tr>\n",
       "  </thead>\n",
       "  <tbody>\n",
       "    <tr>\n",
       "      <th>0</th>\n",
       "      <td>A</td>\n",
       "      <td>Agilent Technologies, Inc. provides core bio-a...</td>\n",
       "      <td>Life Sciences Tools &amp; Services</td>\n",
       "    </tr>\n",
       "    <tr>\n",
       "      <th>1</th>\n",
       "      <td>AA</td>\n",
       "      <td>Alcoa Corporation manufactures metal products....</td>\n",
       "      <td>Metals &amp; Mining</td>\n",
       "    </tr>\n",
       "    <tr>\n",
       "      <th>2</th>\n",
       "      <td>AAL</td>\n",
       "      <td>American Airlines Group Inc. operates an airli...</td>\n",
       "      <td>Airlines</td>\n",
       "    </tr>\n",
       "    <tr>\n",
       "      <th>3</th>\n",
       "      <td>AAN</td>\n",
       "      <td>Aaron's, Inc. rents and sells office and resid...</td>\n",
       "      <td>Specialty Retail</td>\n",
       "    </tr>\n",
       "    <tr>\n",
       "      <th>4</th>\n",
       "      <td>AAOI</td>\n",
       "      <td>Applied Optoelectronics, Inc. manufactures and...</td>\n",
       "      <td>Communications Equipment</td>\n",
       "    </tr>\n",
       "  </tbody>\n",
       "</table>\n",
       "</div>"
      ],
      "text/plain": [
       "  Ticker                                        Description  \\\n",
       "0      A  Agilent Technologies, Inc. provides core bio-a...   \n",
       "1     AA  Alcoa Corporation manufactures metal products....   \n",
       "2    AAL  American Airlines Group Inc. operates an airli...   \n",
       "3    AAN  Aaron's, Inc. rents and sells office and resid...   \n",
       "4   AAOI  Applied Optoelectronics, Inc. manufactures and...   \n",
       "\n",
       "                             GICS  \n",
       "0  Life Sciences Tools & Services  \n",
       "1                 Metals & Mining  \n",
       "2                        Airlines  \n",
       "3                Specialty Retail  \n",
       "4        Communications Equipment  "
      ]
     },
     "execution_count": 118,
     "metadata": {},
     "output_type": "execute_result"
    }
   ],
   "source": [
    "russell_desc_bloomberg_df.head()"
   ]
  },
  {
   "cell_type": "code",
   "execution_count": 119,
   "metadata": {},
   "outputs": [
    {
     "data": {
      "text/plain": [
       "(2757, 3)"
      ]
     },
     "execution_count": 119,
     "metadata": {},
     "output_type": "execute_result"
    }
   ],
   "source": [
    "russell_desc_bloomberg_df.shape"
   ]
  },
  {
   "cell_type": "code",
   "execution_count": 120,
   "metadata": {
    "scrolled": true
   },
   "outputs": [
    {
     "name": "stdout",
     "output_type": "stream",
     "text": [
      "69\n"
     ]
    }
   ],
   "source": [
    "print(len(set(russell_desc_bloomberg_df.GICS)))"
   ]
  },
  {
   "cell_type": "code",
   "execution_count": 121,
   "metadata": {
    "scrolled": false
   },
   "outputs": [
    {
     "name": "stdout",
     "output_type": "stream",
     "text": [
      "MEAN: 280\n",
      "MEDIAN: 281\n",
      "MIN: 41\n",
      "MAX: 395\n",
      "LONGEST DESCRIPTION:\n",
      "Cornerstone OnDemand, Inc. develops and markets on demand employee development computer software. The Company offers software includes learning development, enterprise social networking, performance management, and succession planning. Cornerstone markets to multi-national corporations, large domestic enterprises, midmarket companies, state and local public sector organizations, and colleges.\n",
      "SHORTEST DESCRIPTION:\n",
      "Cimpress PLC serves customers in Ireland.\n"
     ]
    }
   ],
   "source": [
    "description_length_stats(russell_desc_bloomberg_df)\n",
    "longest_and_shortest_description(russell_desc_bloomberg_df)"
   ]
  },
  {
   "cell_type": "markdown",
   "metadata": {},
   "source": [
    "## Filter descriptions to contain same tickers for each index from all data sources (ie 10K, yahoo, wiki etc.)"
   ]
  },
  {
   "cell_type": "code",
   "execution_count": 122,
   "metadata": {},
   "outputs": [],
   "source": [
    "def filter_common_tickers(df_list):\n",
    "    '''\n",
    "    input: list of dfs with Ticker column\n",
    "    output: list of filtered dfs (index reseted and sorted by ticker) in same order\n",
    "    Note this wont change the original dfs in the df_list\n",
    "    '''\n",
    "    df_0 = df_list[0]\n",
    "    df_filter_list = [df_0.Ticker.isin(df_1.Ticker) for df_1 in df_list[1:]]\n",
    "    df_filter = functools.reduce(lambda x,y: x & y, df_filter_list)\n",
    "    df_0 = df_0[df_filter].sort_values('Ticker').reset_index(drop=True)\n",
    "    result_list = [df_0]\n",
    "    \n",
    "    for df_1 in df_list[1:]:\n",
    "        df_1 = df_1[df_1.Ticker.isin(df_0.Ticker)].sort_values('Ticker').reset_index(drop=True)\n",
    "        result_list.append(df_1)\n",
    "    return result_list"
   ]
  },
  {
   "cell_type": "markdown",
   "metadata": {},
   "source": [
    "### Russell Filtering"
   ]
  },
  {
   "cell_type": "code",
   "execution_count": 129,
   "metadata": {},
   "outputs": [],
   "source": [
    "RUSSELL_DATA_SRCS = ['Yahoo', '10K', 'Wiki', 'Morning Star', 'Reuters', 'Reuters India', 'Bloomberg']\n",
    "RUSSELL_DESC_DFS = [russell_desc_yahoo_df, russell_desc_10K_df, russell_desc_wiki_df, russell_desc_ms_df,\n",
    "                    russell_desc_reuters_df, russell_desc_ri_df, russell_desc_bloomberg_df]\n",
    "\n",
    "RUSSELL_DATA_SRCS = ['Yahoo', '10K']\n",
    "RUSSELL_DESC_DFS = [russell_desc_yahoo_df, russell_desc_10K_df]\n",
    "RUSSELL_DESC_DFS = filter_common_tickers(RUSSELL_DESC_DFS)"
   ]
  },
  {
   "cell_type": "markdown",
   "metadata": {},
   "source": [
    "### Snp Filtering\n",
    "\n",
    "- note that we take russell_desc_10K_df as snp_desc_10K_df  (as it is the scraped descriptions of all tickers which have GICS classification)\n",
    "- filter with russell data as well"
   ]
  },
  {
   "cell_type": "code",
   "execution_count": 130,
   "metadata": {},
   "outputs": [],
   "source": [
    "SNP_DATA_SRCS = ['Yahoo', '10K', 'Wiki', 'Morning Star', 'Reuters', 'Reuters India', 'Bloomberg']\n",
    "SNP_DESC_DFS = [snp_desc_yahoo_df, russell_desc_10K_df, snp_desc_wiki_df, snp_desc_ms_df, snp_desc_reuters_df,\n",
    "                 snp_desc_ri_df, snp_desc_bloomberg_df, RUSSELL_DESC_DFS[0]] # the last elemnt is to ensure snp isin russell\n",
    "\n",
    "SNP_DATA_SRCS = ['Yahoo', '10K']\n",
    "SNP_DESC_DFS = [snp_desc_yahoo_df, russell_desc_10K_df, RUSSELL_DESC_DFS[0]]\n",
    "SNP_DESC_DFS = filter_common_tickers(SNP_DESC_DFS)[:-1]"
   ]
  },
  {
   "cell_type": "markdown",
   "metadata": {},
   "source": [
    "### Russell2 Filtering\n",
    "\n",
    "- These are the tickers in russell but not in snp"
   ]
  },
  {
   "cell_type": "code",
   "execution_count": 131,
   "metadata": {},
   "outputs": [],
   "source": [
    "RUSSELL2_DATA_SRCS = ['Yahoo', '10K', 'Wiki', 'Morning Star', 'Reuters', 'Reuters India', 'Bloomberg']\n",
    "RUSSELL2_DESC_DFS = [df[~df.Ticker.isin(SNP_DESC_DFS[0].Ticker)].reset_index(drop=True) for df in RUSSELL_DESC_DFS]"
   ]
  },
  {
   "cell_type": "markdown",
   "metadata": {},
   "source": [
    "##### Test"
   ]
  },
  {
   "cell_type": "code",
   "execution_count": 132,
   "metadata": {},
   "outputs": [
    {
     "name": "stdout",
     "output_type": "stream",
     "text": [
      "[(465, 5), (465, 3)]\n",
      "[(2732, 5), (2732, 3)]\n",
      "[(2267, 5), (2267, 3)]\n"
     ]
    }
   ],
   "source": [
    "print([df.shape for df in SNP_DESC_DFS])\n",
    "print([df.shape for df in RUSSELL_DESC_DFS])\n",
    "print([df.shape for df in RUSSELL2_DESC_DFS])"
   ]
  },
  {
   "cell_type": "markdown",
   "metadata": {},
   "source": [
    "# Data Src Analytics"
   ]
  },
  {
   "cell_type": "code",
   "execution_count": 171,
   "metadata": {},
   "outputs": [
    {
     "data": {
      "text/plain": [
       "<matplotlib.text.Text at 0x2ade9b687b8>"
      ]
     },
     "execution_count": 171,
     "metadata": {},
     "output_type": "execute_result"
    },
    {
     "data": {
      "image/png": "[encoded data removed]",
      "text/plain": [
       "<matplotlib.figure.Figure at 0x2ade988ac18>"
      ]
     },
     "metadata": {
      "needs_background": "light"
     },
     "output_type": "display_data"
    }
   ],
   "source": [
    "desc_lens = [df.Description.apply(len) for df in SNP_DESC_DFS]\n",
    "len_df = pd.concat(desc_lens, axis=1)\n",
    "len_df.columns = SNP_DATA_SRCS\n",
    "# len_df.drop('10K', axis=1, inplace=True)\n",
    "ax = sns.boxplot(data=len_df)\n",
    "ax.set(ylabel=\"Num Characters\", xlabel='Data Source')\n",
    "ax.set_title('Num Characters in each data source')"
   ]
  },
  {
   "cell_type": "code",
   "execution_count": 174,
   "metadata": {},
   "outputs": [
    {
     "data": {
      "text/plain": [
       "<matplotlib.text.Text at 0x2ade3fd3c88>"
      ]
     },
     "execution_count": 174,
     "metadata": {},
     "output_type": "execute_result"
    },
    {
     "data": {
      "image/png": "[encoded data removed]",
      "text/plain": [
       "<matplotlib.figure.Figure at 0x2ade3ff6438>"
      ]
     },
     "metadata": {
      "needs_background": "light"
     },
     "output_type": "display_data"
    }
   ],
   "source": [
    "ticker_ratios_df = pd.read_csv('data_out/russell_ratios_clean.csv')\n",
    "ticker_ratios_df.mkt_cap = np.log(ticker_ratios_df.mkt_cap)\n",
    "ticker_ratios_df['snp']=ticker_ratios_df.Ticker.isin(snp_desc_yahoo_df.Ticker.values)\n",
    "ticker_ratios_df['rus']=ticker_ratios_df.Ticker.isin(russell_desc_yahoo_df.Ticker.values)\n",
    "ax = sns.boxplot(data=ticker_ratios_df, x='snp', y='mkt_cap')\n",
    "ax.set_title('lg(Mkt Cap) distribution for snp and non-snp tickers')"
   ]
  },
  {
   "cell_type": "markdown",
   "metadata": {},
   "source": [
    "# -----------------------------------------------------------------------------------------------------------------"
   ]
  },
  {
   "cell_type": "markdown",
   "metadata": {},
   "source": [
    "# Global Vars: Tickers, Description, Classifier to be used\n",
    "\n",
    "- put yahoo as 1st data_src as it also has sector and sub-industry classification (cos the STANDARD CLASSIFIER  will be used from the first element of DESC_DFS)\n",
    "- if you just change the STANDARD_CLASSIFIER variable you can go jump to the 'Run all Clustering algos' header to continue running"
   ]
  },
  {
   "cell_type": "code",
   "execution_count": 179,
   "metadata": {},
   "outputs": [],
   "source": [
    "# To Set\n",
    "# INDEX = 'russell'\n",
    "# DATA_SRCS = RUSSELL_DATA_SRCS\n",
    "# DESC_DFS = RUSSELL_DESC_DFS\n",
    "\n",
    "INDEX = 'snp'\n",
    "DATA_SRCS = SNP_DATA_SRCS\n",
    "DESC_DFS = SNP_DESC_DFS\n",
    "\n",
    "STANDARD_CLASSIFIER = 'GICS' #GICS, Sector, Industry"
   ]
  },
  {
   "cell_type": "code",
   "execution_count": 180,
   "metadata": {},
   "outputs": [
    {
     "name": "stdout",
     "output_type": "stream",
     "text": [
      "63\n"
     ]
    }
   ],
   "source": [
    "desc_lists = [desc_df['Description'] for desc_df in DESC_DFS]\n",
    "NUM_INDUSTRIES =  len(set(DESC_DFS[0][STANDARD_CLASSIFIER])) #69 for GICS\n",
    "\n",
    "print(NUM_INDUSTRIES)"
   ]
  },
  {
   "cell_type": "markdown",
   "metadata": {},
   "source": [
    "### Pre Processing\n",
    "\n",
    "- Used Snowball stemmer as it is a slightly improved version of Porter stemmer\n",
    "- lemmatization takes longer, and increases feature size"
   ]
  },
  {
   "cell_type": "code",
   "execution_count": 181,
   "metadata": {
    "scrolled": true
   },
   "outputs": [
    {
     "data": {
      "text/plain": [
       "12766"
      ]
     },
     "execution_count": 181,
     "metadata": {},
     "output_type": "execute_result"
    }
   ],
   "source": [
    "STOP_FILES = ['StopWords_GenericLong.txt', 'StopWords_DatesandNumbers.txt', 'StopWords_Geographic.txt', \n",
    "              'StopWords_Currencies.txt', 'StopWords_Names.txt']\n",
    "STOP_WORDS = []\n",
    "\n",
    "for file in STOP_FILES:\n",
    "    df = pd.read_csv('data_in/Stop Words/%s'%file, sep='|',header=None,encoding='latin1')\n",
    "    file_stop_words = list(df[0].str.lower().str.strip())\n",
    "    STOP_WORDS.extend(file_stop_words)\n",
    "\n",
    "STOP_WORDS.extend(stopwords.words('english'))\n",
    "STOP_WORDS = set(STOP_WORDS)\n",
    "len(STOP_WORDS)"
   ]
  },
  {
   "cell_type": "markdown",
   "metadata": {},
   "source": [
    "- Note for finance jargon we dont have much apostrophes (we can use the TweetTokeniser for that)"
   ]
  },
  {
   "cell_type": "code",
   "execution_count": 182,
   "metadata": {},
   "outputs": [],
   "source": [
    "def get_wordnet_pos(nltk_pos):\n",
    "    \"\"\"Map POS tag to so lemmatize() accepts input\"\"\"\n",
    "    tag = nltk_pos[0]\n",
    "    NLTK_TO_WORDNET_POS = {\"J\": wordnet.ADJ,\n",
    "                            \"N\": wordnet.NOUN,\n",
    "                            \"V\": wordnet.VERB,\n",
    "                            \"R\": wordnet.ADV}\n",
    "    return NLTK_TO_WORDNET_POS.get(tag, wordnet.NOUN)\n",
    "\n",
    "def preprocess_data(doc_list):\n",
    "    \"\"\"\n",
    "    Input  : document list\n",
    "    Purpose: preprocess text (tokenize, removing stopwords, and stemming)\n",
    "    Output : preprocessed document list\n",
    "    \"\"\"\n",
    "    tokenizer = RegexpTokenizer(r'\\w+')\n",
    "    p_stemmer = PorterStemmer()\n",
    "    s_stemmer = SnowballStemmer(language='english')\n",
    "    lemmatizer = WordNetLemmatizer()\n",
    "    processed_doc_list = []\n",
    "\n",
    "    for doc in tqdm(doc_list):\n",
    "        lower_doc = doc.lower()\n",
    "        clean_doc = lower_doc.replace(\"_\", \"\").replace('\\n', ' ').replace(',', ' ')\n",
    "        rem_num_doc = re.sub('[0-9]+', '', clean_doc)\n",
    "        \n",
    "        token_list = tokenizer.tokenize(rem_num_doc) # tokeniser removes special characters (except _)\n",
    "        token_list = [i for i in token_list if len(i)>=3]\n",
    "        stopped_token_list = [i for i in token_list if not i in STOP_WORDS]\n",
    "#         word_reduced_token_list = [p_stemmer.stem(i) for i in stopped_token_list]\n",
    "#         word_reduced_token_list = [s_stemmer.stem(i) for i in stopped_token_list]\n",
    "        word_reduced_token_list = [lemmatizer.lemmatize(w, get_wordnet_pos(pos)) \n",
    "                                     for w, pos in nltk.pos_tag(stopped_token_list)]\n",
    "        processed_doc = ' '.join(word_reduced_token_list) # Untokenize\n",
    "        processed_doc_list.append(processed_doc)\n",
    "    \n",
    "    return processed_doc_list"
   ]
  },
  {
   "cell_type": "code",
   "execution_count": 183,
   "metadata": {
    "scrolled": false
   },
   "outputs": [
    {
     "data": {
      "application/vnd.jupyter.widget-view+json": {
       "model_id": "9823306e999e46ceb3cc75d183d14a5c",
       "version_major": 2,
       "version_minor": 0
      },
      "text/plain": [
       "HBox(children=(FloatProgress(value=0.0, max=465.0), HTML(value='')))"
      ]
     },
     "metadata": {},
     "output_type": "display_data"
    },
    {
     "name": "stdout",
     "output_type": "stream",
     "text": [
      "\n"
     ]
    },
    {
     "data": {
      "application/vnd.jupyter.widget-view+json": {
       "model_id": "26c4c5c4195c44fbb395d86df5dc3e7d",
       "version_major": 2,
       "version_minor": 0
      },
      "text/plain": [
       "HBox(children=(FloatProgress(value=0.0, max=465.0), HTML(value='')))"
      ]
     },
     "metadata": {},
     "output_type": "display_data"
    },
    {
     "name": "stdout",
     "output_type": "stream",
     "text": [
      "\n"
     ]
    }
   ],
   "source": [
    "preped_desc_lists = [preprocess_data(desc_list) for desc_list in desc_lists]"
   ]
  },
  {
   "cell_type": "code",
   "execution_count": 186,
   "metadata": {},
   "outputs": [
    {
     "name": "stdout",
     "output_type": "stream",
     "text": [
      "465\n"
     ]
    },
    {
     "data": {
      "text/plain": [
       "'agilent technology application focus solution life science diagnostics applied chemical market worldwide operate segment life science apply market diagnostics genomics agilent crosslab life science apply market segment offer liquid gas chromatography system component liquid gas chromatography mass spectrometry system inductively couple plasma mass spectrometry instrument atomic absorption instrument microwave plasma atomic emission spectrometry instrument inductively couple plasma optical emission spectrometry instrument raman spectroscopy cell analysis plate base assay flow cytometer time cell analyzer cell image system microplate reader laboratory software information management analytics laboratory automation robotic system dissolution test vacuum pump measurement technology diagnostics genomics segment reagent instrument software consumables array dna mutation detection genotyping copy number determination identification rearrangement dna methylation profile expression profile sequence target enrichment genetic data management interpretation support software equipment focus production synthesize oligonucleotides active pharmaceutical ingredient agilent crosslab segment offer columns preparation product custom chemistry laboratory instrument supply startup operational training compliance support software service asset management consultation service company market product direct distributor resellers manufacturer representative electronic commerce company found headquarter'"
      ]
     },
     "execution_count": 186,
     "metadata": {},
     "output_type": "execute_result"
    }
   ],
   "source": [
    "#Test\n",
    "print(len(preped_desc_lists[0]))\n",
    "preped_desc_lists[0][0]"
   ]
  },
  {
   "cell_type": "markdown",
   "metadata": {},
   "source": [
    "### Tdidf vectorization\n",
    "\n",
    "- using max_df and min_df significantly reduced feature size\n",
    "- using lemmatization increased feature size\n",
    "- normalisation of vectors is done in this step (account for diff lengths of desc)\n",
    "\n",
    "<font size=\"5\">\n",
    "$$\n",
    "idf(t,D) = log(\\frac{1 + |D|}{1 + \\mid d \\in D: t \\in d \\mid}) + 1\n",
    "$$\n",
    "</font>\n",
    "\n",
    "- sk learns implementation (different from classic formulation)\n",
    "- a term appearing in 1/2 docs have a bigger impact in idf than eg 30/31 docs which is how it should be"
   ]
  },
  {
   "cell_type": "code",
   "execution_count": 282,
   "metadata": {},
   "outputs": [],
   "source": [
    "vectorizer = TfidfVectorizer(stop_words='english', max_features= None, max_df = 0.5, min_df=2, smooth_idf=True,\n",
    "                             ngram_range=(1,1), norm='l2')\n",
    "# Note attributes of vectorizer will be from the last prepped_desc_only\n",
    "# dtm - Document Matrix (sparse matrix)\n",
    "dtms = [vectorizer.fit_transform(preped_desc_list) for preped_desc_list in preped_desc_lists]"
   ]
  },
  {
   "cell_type": "code",
   "execution_count": 283,
   "metadata": {},
   "outputs": [
    {
     "data": {
      "text/html": [
       "<div>\n",
       "<style scoped>\n",
       "    .dataframe tbody tr th:only-of-type {\n",
       "        vertical-align: middle;\n",
       "    }\n",
       "\n",
       "    .dataframe tbody tr th {\n",
       "        vertical-align: top;\n",
       "    }\n",
       "\n",
       "    .dataframe thead th {\n",
       "        text-align: right;\n",
       "    }\n",
       "</style>\n",
       "<table border=\"1\" class=\"dataframe\">\n",
       "  <thead>\n",
       "    <tr style=\"text-align: right;\">\n",
       "      <th></th>\n",
       "      <th>num_row</th>\n",
       "      <th>num_col (vector length)</th>\n",
       "    </tr>\n",
       "  </thead>\n",
       "  <tbody>\n",
       "    <tr>\n",
       "      <th>Yahoo</th>\n",
       "      <td>465</td>\n",
       "      <td>2976</td>\n",
       "    </tr>\n",
       "    <tr>\n",
       "      <th>10K</th>\n",
       "      <td>465</td>\n",
       "      <td>13880</td>\n",
       "    </tr>\n",
       "  </tbody>\n",
       "</table>\n",
       "</div>"
      ],
      "text/plain": [
       "       num_row  num_col (vector length)\n",
       "Yahoo      465                     2976\n",
       "10K        465                    13880"
      ]
     },
     "execution_count": 283,
     "metadata": {},
     "output_type": "execute_result"
    }
   ],
   "source": [
    "shapes = [dtm.shape for dtm in dtms]\n",
    "pd.DataFrame(shapes, index=DATA_SRCS, columns=['num_row', 'num_col (vector length)'])"
   ]
  },
  {
   "cell_type": "markdown",
   "metadata": {},
   "source": [
    "| Descriptions | Unique Words (features)\n",
    "| :- | -: | \n",
    "| SnP (10K) | 25834 |\n",
    "| SnP (yahoo) | 7263 |\n",
    "| Russell (10K) | 78546 |\n",
    "| Russell (yahoo) | 16855 |\n",
    "| Russell (10K, from previous project) | 20025 |\n",
    "\n",
    "\n",
    "- df = (0.5.2)\n",
    "    - p_stem = 10870\n",
    "    - s_stem = 10877\n",
    "    - lemma = 14315"
   ]
  },
  {
   "cell_type": "markdown",
   "metadata": {},
   "source": [
    "###### Check if words used in tdidf model are meaningful by looking at most infrequent and frequent words"
   ]
  },
  {
   "cell_type": "code",
   "execution_count": 189,
   "metadata": {
    "scrolled": true
   },
   "outputs": [
    {
     "data": {
      "text/html": [
       "<div>\n",
       "<style scoped>\n",
       "    .dataframe tbody tr th:only-of-type {\n",
       "        vertical-align: middle;\n",
       "    }\n",
       "\n",
       "    .dataframe tbody tr th {\n",
       "        vertical-align: top;\n",
       "    }\n",
       "\n",
       "    .dataframe thead th {\n",
       "        text-align: right;\n",
       "    }\n",
       "</style>\n",
       "<table border=\"1\" class=\"dataframe\">\n",
       "  <thead>\n",
       "    <tr style=\"text-align: right;\">\n",
       "      <th></th>\n",
       "      <th>IDF</th>\n",
       "    </tr>\n",
       "  </thead>\n",
       "  <tbody>\n",
       "    <tr>\n",
       "      <th>govern</th>\n",
       "      <td>1.693147</td>\n",
       "    </tr>\n",
       "    <tr>\n",
       "      <th>administration</th>\n",
       "      <td>1.693147</td>\n",
       "    </tr>\n",
       "    <tr>\n",
       "      <th>restriction</th>\n",
       "      <td>1.693147</td>\n",
       "    </tr>\n",
       "    <tr>\n",
       "      <th>professional</th>\n",
       "      <td>1.697448</td>\n",
       "    </tr>\n",
       "    <tr>\n",
       "      <th>tool</th>\n",
       "      <td>1.697448</td>\n",
       "    </tr>\n",
       "    <tr>\n",
       "      <th>joint</th>\n",
       "      <td>1.697448</td>\n",
       "    </tr>\n",
       "    <tr>\n",
       "      <th>senior</th>\n",
       "      <td>1.697448</td>\n",
       "    </tr>\n",
       "    <tr>\n",
       "      <th>secure</th>\n",
       "      <td>1.697448</td>\n",
       "    </tr>\n",
       "    <tr>\n",
       "      <th>promote</th>\n",
       "      <td>1.697448</td>\n",
       "    </tr>\n",
       "    <tr>\n",
       "      <th>domestic</th>\n",
       "      <td>1.697448</td>\n",
       "    </tr>\n",
       "    <tr>\n",
       "      <th>unique</th>\n",
       "      <td>1.701768</td>\n",
       "    </tr>\n",
       "    <tr>\n",
       "      <th>aggregate</th>\n",
       "      <td>1.701768</td>\n",
       "    </tr>\n",
       "    <tr>\n",
       "      <th>administrative</th>\n",
       "      <td>1.701768</td>\n",
       "    </tr>\n",
       "    <tr>\n",
       "      <th>approval</th>\n",
       "      <td>1.701768</td>\n",
       "    </tr>\n",
       "    <tr>\n",
       "      <th>response</th>\n",
       "      <td>1.701768</td>\n",
       "    </tr>\n",
       "    <tr>\n",
       "      <th>earnings</th>\n",
       "      <td>1.701768</td>\n",
       "    </tr>\n",
       "    <tr>\n",
       "      <th>committee</th>\n",
       "      <td>1.701768</td>\n",
       "    </tr>\n",
       "    <tr>\n",
       "      <th>permit</th>\n",
       "      <td>1.701768</td>\n",
       "    </tr>\n",
       "    <tr>\n",
       "      <th>rely</th>\n",
       "      <td>1.706106</td>\n",
       "    </tr>\n",
       "    <tr>\n",
       "      <th>disclosure</th>\n",
       "      <td>1.706106</td>\n",
       "    </tr>\n",
       "    <tr>\n",
       "      <th>audit</th>\n",
       "      <td>1.710464</td>\n",
       "    </tr>\n",
       "    <tr>\n",
       "      <th>success</th>\n",
       "      <td>1.710464</td>\n",
       "    </tr>\n",
       "    <tr>\n",
       "      <th>goal</th>\n",
       "      <td>1.710464</td>\n",
       "    </tr>\n",
       "    <tr>\n",
       "      <th>medium</th>\n",
       "      <td>1.710464</td>\n",
       "    </tr>\n",
       "    <tr>\n",
       "      <th>release</th>\n",
       "      <td>1.710464</td>\n",
       "    </tr>\n",
       "    <tr>\n",
       "      <th>rule</th>\n",
       "      <td>1.714840</td>\n",
       "    </tr>\n",
       "    <tr>\n",
       "      <th>expansion</th>\n",
       "      <td>1.714840</td>\n",
       "    </tr>\n",
       "    <tr>\n",
       "      <th>coverage</th>\n",
       "      <td>1.714840</td>\n",
       "    </tr>\n",
       "    <tr>\n",
       "      <th>impose</th>\n",
       "      <td>1.714840</td>\n",
       "    </tr>\n",
       "    <tr>\n",
       "      <th>human</th>\n",
       "      <td>1.719236</td>\n",
       "    </tr>\n",
       "    <tr>\n",
       "      <th>reporting</th>\n",
       "      <td>1.719236</td>\n",
       "    </tr>\n",
       "    <tr>\n",
       "      <th>insurance</th>\n",
       "      <td>1.719236</td>\n",
       "    </tr>\n",
       "    <tr>\n",
       "      <th>home</th>\n",
       "      <td>1.719236</td>\n",
       "    </tr>\n",
       "    <tr>\n",
       "      <th>active</th>\n",
       "      <td>1.723651</td>\n",
       "    </tr>\n",
       "    <tr>\n",
       "      <th>feature</th>\n",
       "      <td>1.723651</td>\n",
       "    </tr>\n",
       "    <tr>\n",
       "      <th>guideline</th>\n",
       "      <td>1.723651</td>\n",
       "    </tr>\n",
       "    <tr>\n",
       "      <th>aspect</th>\n",
       "      <td>1.723651</td>\n",
       "    </tr>\n",
       "    <tr>\n",
       "      <th>table</th>\n",
       "      <td>1.728085</td>\n",
       "    </tr>\n",
       "    <tr>\n",
       "      <th>chain</th>\n",
       "      <td>1.732540</td>\n",
       "    </tr>\n",
       "    <tr>\n",
       "      <th>leadership</th>\n",
       "      <td>1.732540</td>\n",
       "    </tr>\n",
       "    <tr>\n",
       "      <th>participate</th>\n",
       "      <td>1.737014</td>\n",
       "    </tr>\n",
       "    <tr>\n",
       "      <th>connect</th>\n",
       "      <td>1.741508</td>\n",
       "    </tr>\n",
       "    <tr>\n",
       "      <th>challenge</th>\n",
       "      <td>1.741508</td>\n",
       "    </tr>\n",
       "    <tr>\n",
       "      <th>claim</th>\n",
       "      <td>1.746023</td>\n",
       "    </tr>\n",
       "    <tr>\n",
       "      <th>communication</th>\n",
       "      <td>1.750558</td>\n",
       "    </tr>\n",
       "    <tr>\n",
       "      <th>increasingly</th>\n",
       "      <td>1.750558</td>\n",
       "    </tr>\n",
       "    <tr>\n",
       "      <th>manager</th>\n",
       "      <td>1.750558</td>\n",
       "    </tr>\n",
       "    <tr>\n",
       "      <th>percentage</th>\n",
       "      <td>1.755114</td>\n",
       "    </tr>\n",
       "    <tr>\n",
       "      <th>seasonality</th>\n",
       "      <td>1.755114</td>\n",
       "    </tr>\n",
       "    <tr>\n",
       "      <th>presence</th>\n",
       "      <td>1.755114</td>\n",
       "    </tr>\n",
       "    <tr>\n",
       "      <th>reduction</th>\n",
       "      <td>1.755114</td>\n",
       "    </tr>\n",
       "    <tr>\n",
       "      <th>labor</th>\n",
       "      <td>1.755114</td>\n",
       "    </tr>\n",
       "    <tr>\n",
       "      <th>profit</th>\n",
       "      <td>1.759691</td>\n",
       "    </tr>\n",
       "    <tr>\n",
       "      <th>procedure</th>\n",
       "      <td>1.759691</td>\n",
       "    </tr>\n",
       "    <tr>\n",
       "      <th>user</th>\n",
       "      <td>1.759691</td>\n",
       "    </tr>\n",
       "    <tr>\n",
       "      <th>fee</th>\n",
       "      <td>1.764288</td>\n",
       "    </tr>\n",
       "    <tr>\n",
       "      <th>force</th>\n",
       "      <td>1.768907</td>\n",
       "    </tr>\n",
       "    <tr>\n",
       "      <th>introduce</th>\n",
       "      <td>1.768907</td>\n",
       "    </tr>\n",
       "    <tr>\n",
       "      <th>role</th>\n",
       "      <td>1.768907</td>\n",
       "    </tr>\n",
       "    <tr>\n",
       "      <th>store</th>\n",
       "      <td>1.773548</td>\n",
       "    </tr>\n",
       "    <tr>\n",
       "      <th>social</th>\n",
       "      <td>1.773548</td>\n",
       "    </tr>\n",
       "    <tr>\n",
       "      <th>inventory</th>\n",
       "      <td>1.773548</td>\n",
       "    </tr>\n",
       "    <tr>\n",
       "      <th>bring</th>\n",
       "      <td>1.773548</td>\n",
       "    </tr>\n",
       "    <tr>\n",
       "      <th>dependent</th>\n",
       "      <td>1.778210</td>\n",
       "    </tr>\n",
       "    <tr>\n",
       "      <th>occur</th>\n",
       "      <td>1.778210</td>\n",
       "    </tr>\n",
       "    <tr>\n",
       "      <th>help</th>\n",
       "      <td>1.778210</td>\n",
       "    </tr>\n",
       "    <tr>\n",
       "      <th>schedule</th>\n",
       "      <td>1.778210</td>\n",
       "    </tr>\n",
       "    <tr>\n",
       "      <th>affiliate</th>\n",
       "      <td>1.782893</td>\n",
       "    </tr>\n",
       "    <tr>\n",
       "      <th>manner</th>\n",
       "      <td>1.782893</td>\n",
       "    </tr>\n",
       "    <tr>\n",
       "      <th>compare</th>\n",
       "      <td>1.782893</td>\n",
       "    </tr>\n",
       "    <tr>\n",
       "      <th>personnel</th>\n",
       "      <td>1.782893</td>\n",
       "    </tr>\n",
       "    <tr>\n",
       "      <th>globally</th>\n",
       "      <td>1.787599</td>\n",
       "    </tr>\n",
       "    <tr>\n",
       "      <th>fully</th>\n",
       "      <td>1.787599</td>\n",
       "    </tr>\n",
       "    <tr>\n",
       "      <th>enterprise</th>\n",
       "      <td>1.792328</td>\n",
       "    </tr>\n",
       "    <tr>\n",
       "      <th>fix</th>\n",
       "      <td>1.792328</td>\n",
       "    </tr>\n",
       "    <tr>\n",
       "      <th>average</th>\n",
       "      <td>1.797078</td>\n",
       "    </tr>\n",
       "    <tr>\n",
       "      <th>diverse</th>\n",
       "      <td>1.797078</td>\n",
       "    </tr>\n",
       "    <tr>\n",
       "      <th>respective</th>\n",
       "      <td>1.797078</td>\n",
       "    </tr>\n",
       "    <tr>\n",
       "      <th>generation</th>\n",
       "      <td>1.797078</td>\n",
       "    </tr>\n",
       "    <tr>\n",
       "      <th>contain</th>\n",
       "      <td>1.797078</td>\n",
       "    </tr>\n",
       "    <tr>\n",
       "      <th>storage</th>\n",
       "      <td>1.801851</td>\n",
       "    </tr>\n",
       "    <tr>\n",
       "      <th>approve</th>\n",
       "      <td>1.801851</td>\n",
       "    </tr>\n",
       "    <tr>\n",
       "      <th>software</th>\n",
       "      <td>1.806648</td>\n",
       "    </tr>\n",
       "    <tr>\n",
       "      <th>mobile</th>\n",
       "      <td>1.806648</td>\n",
       "    </tr>\n",
       "    <tr>\n",
       "      <th>allow</th>\n",
       "      <td>1.806648</td>\n",
       "    </tr>\n",
       "    <tr>\n",
       "      <th>seasonal</th>\n",
       "      <td>1.806648</td>\n",
       "    </tr>\n",
       "    <tr>\n",
       "      <th>register</th>\n",
       "      <td>1.811467</td>\n",
       "    </tr>\n",
       "    <tr>\n",
       "      <th>chief</th>\n",
       "      <td>1.816309</td>\n",
       "    </tr>\n",
       "    <tr>\n",
       "      <th>manufacturing</th>\n",
       "      <td>1.816309</td>\n",
       "    </tr>\n",
       "    <tr>\n",
       "      <th>family</th>\n",
       "      <td>1.816309</td>\n",
       "    </tr>\n",
       "    <tr>\n",
       "      <th>incur</th>\n",
       "      <td>1.816309</td>\n",
       "    </tr>\n",
       "    <tr>\n",
       "      <th>handle</th>\n",
       "      <td>1.816309</td>\n",
       "    </tr>\n",
       "    <tr>\n",
       "      <th>consider</th>\n",
       "      <td>1.816309</td>\n",
       "    </tr>\n",
       "    <tr>\n",
       "      <th>commit</th>\n",
       "      <td>1.821176</td>\n",
       "    </tr>\n",
       "    <tr>\n",
       "      <th>package</th>\n",
       "      <td>1.821176</td>\n",
       "    </tr>\n",
       "    <tr>\n",
       "      <th>electronic</th>\n",
       "      <td>1.821176</td>\n",
       "    </tr>\n",
       "    <tr>\n",
       "      <th>device</th>\n",
       "      <td>1.821176</td>\n",
       "    </tr>\n",
       "    <tr>\n",
       "      <th>materially</th>\n",
       "      <td>1.826066</td>\n",
       "    </tr>\n",
       "    <tr>\n",
       "      <th>online</th>\n",
       "      <td>1.826066</td>\n",
       "    </tr>\n",
       "    <tr>\n",
       "      <th>collective</th>\n",
       "      <td>1.835918</td>\n",
       "    </tr>\n",
       "  </tbody>\n",
       "</table>\n",
       "</div>"
      ],
      "text/plain": [
       "                     IDF\n",
       "govern          1.693147\n",
       "administration  1.693147\n",
       "restriction     1.693147\n",
       "professional    1.697448\n",
       "tool            1.697448\n",
       "joint           1.697448\n",
       "senior          1.697448\n",
       "secure          1.697448\n",
       "promote         1.697448\n",
       "domestic        1.697448\n",
       "unique          1.701768\n",
       "aggregate       1.701768\n",
       "administrative  1.701768\n",
       "approval        1.701768\n",
       "response        1.701768\n",
       "earnings        1.701768\n",
       "committee       1.701768\n",
       "permit          1.701768\n",
       "rely            1.706106\n",
       "disclosure      1.706106\n",
       "audit           1.710464\n",
       "success         1.710464\n",
       "goal            1.710464\n",
       "medium          1.710464\n",
       "release         1.710464\n",
       "rule            1.714840\n",
       "expansion       1.714840\n",
       "coverage        1.714840\n",
       "impose          1.714840\n",
       "human           1.719236\n",
       "reporting       1.719236\n",
       "insurance       1.719236\n",
       "home            1.719236\n",
       "active          1.723651\n",
       "feature         1.723651\n",
       "guideline       1.723651\n",
       "aspect          1.723651\n",
       "table           1.728085\n",
       "chain           1.732540\n",
       "leadership      1.732540\n",
       "participate     1.737014\n",
       "connect         1.741508\n",
       "challenge       1.741508\n",
       "claim           1.746023\n",
       "communication   1.750558\n",
       "increasingly    1.750558\n",
       "manager         1.750558\n",
       "percentage      1.755114\n",
       "seasonality     1.755114\n",
       "presence        1.755114\n",
       "reduction       1.755114\n",
       "labor           1.755114\n",
       "profit          1.759691\n",
       "procedure       1.759691\n",
       "user            1.759691\n",
       "fee             1.764288\n",
       "force           1.768907\n",
       "introduce       1.768907\n",
       "role            1.768907\n",
       "store           1.773548\n",
       "social          1.773548\n",
       "inventory       1.773548\n",
       "bring           1.773548\n",
       "dependent       1.778210\n",
       "occur           1.778210\n",
       "help            1.778210\n",
       "schedule        1.778210\n",
       "affiliate       1.782893\n",
       "manner          1.782893\n",
       "compare         1.782893\n",
       "personnel       1.782893\n",
       "globally        1.787599\n",
       "fully           1.787599\n",
       "enterprise      1.792328\n",
       "fix             1.792328\n",
       "average         1.797078\n",
       "diverse         1.797078\n",
       "respective      1.797078\n",
       "generation      1.797078\n",
       "contain         1.797078\n",
       "storage         1.801851\n",
       "approve         1.801851\n",
       "software        1.806648\n",
       "mobile          1.806648\n",
       "allow           1.806648\n",
       "seasonal        1.806648\n",
       "register        1.811467\n",
       "chief           1.816309\n",
       "manufacturing   1.816309\n",
       "family          1.816309\n",
       "incur           1.816309\n",
       "handle          1.816309\n",
       "consider        1.816309\n",
       "commit          1.821176\n",
       "package         1.821176\n",
       "electronic      1.821176\n",
       "device          1.821176\n",
       "materially      1.826066\n",
       "online          1.826066\n",
       "collective      1.835918"
      ]
     },
     "metadata": {},
     "output_type": "display_data"
    },
    {
     "data": {
      "text/html": [
       "<div>\n",
       "<style scoped>\n",
       "    .dataframe tbody tr th:only-of-type {\n",
       "        vertical-align: middle;\n",
       "    }\n",
       "\n",
       "    .dataframe tbody tr th {\n",
       "        vertical-align: top;\n",
       "    }\n",
       "\n",
       "    .dataframe thead th {\n",
       "        text-align: right;\n",
       "    }\n",
       "</style>\n",
       "<table border=\"1\" class=\"dataframe\">\n",
       "  <thead>\n",
       "    <tr style=\"text-align: right;\">\n",
       "      <th></th>\n",
       "      <th>IDF</th>\n",
       "    </tr>\n",
       "  </thead>\n",
       "  <tbody>\n",
       "    <tr>\n",
       "      <th>flutter</th>\n",
       "      <td>6.045573</td>\n",
       "    </tr>\n",
       "    <tr>\n",
       "      <th>puppet</th>\n",
       "      <td>6.045573</td>\n",
       "    </tr>\n",
       "    <tr>\n",
       "      <th>fmt</th>\n",
       "      <td>6.045573</td>\n",
       "    </tr>\n",
       "    <tr>\n",
       "      <th>fnma</th>\n",
       "      <td>6.045573</td>\n",
       "    </tr>\n",
       "    <tr>\n",
       "      <th>pwg</th>\n",
       "      <td>6.045573</td>\n",
       "    </tr>\n",
       "    <tr>\n",
       "      <th>radv</th>\n",
       "      <td>6.045573</td>\n",
       "    </tr>\n",
       "    <tr>\n",
       "      <th>pwi</th>\n",
       "      <td>6.045573</td>\n",
       "    </tr>\n",
       "    <tr>\n",
       "      <th>floral</th>\n",
       "      <td>6.045573</td>\n",
       "    </tr>\n",
       "    <tr>\n",
       "      <th>fleas</th>\n",
       "      <td>6.045573</td>\n",
       "    </tr>\n",
       "    <tr>\n",
       "      <th>flier</th>\n",
       "      <td>6.045573</td>\n",
       "    </tr>\n",
       "    <tr>\n",
       "      <th>flip</th>\n",
       "      <td>6.045573</td>\n",
       "    </tr>\n",
       "    <tr>\n",
       "      <th>flir</th>\n",
       "      <td>6.045573</td>\n",
       "    </tr>\n",
       "    <tr>\n",
       "      <th>quaker</th>\n",
       "      <td>6.045573</td>\n",
       "    </tr>\n",
       "    <tr>\n",
       "      <th>floater</th>\n",
       "      <td>6.045573</td>\n",
       "    </tr>\n",
       "    <tr>\n",
       "      <th>quadro</th>\n",
       "      <td>6.045573</td>\n",
       "    </tr>\n",
       "    <tr>\n",
       "      <th>quadrennial</th>\n",
       "      <td>6.045573</td>\n",
       "    </tr>\n",
       "    <tr>\n",
       "      <th>flocculants</th>\n",
       "      <td>6.045573</td>\n",
       "    </tr>\n",
       "    <tr>\n",
       "      <th>qtof</th>\n",
       "      <td>6.045573</td>\n",
       "    </tr>\n",
       "    <tr>\n",
       "      <th>qpcr</th>\n",
       "      <td>6.045573</td>\n",
       "    </tr>\n",
       "    <tr>\n",
       "      <th>qlc</th>\n",
       "      <td>6.045573</td>\n",
       "    </tr>\n",
       "    <tr>\n",
       "      <th>qip</th>\n",
       "      <td>6.045573</td>\n",
       "    </tr>\n",
       "    <tr>\n",
       "      <th>qiagen</th>\n",
       "      <td>6.045573</td>\n",
       "    </tr>\n",
       "    <tr>\n",
       "      <th>floorplan</th>\n",
       "      <td>6.045573</td>\n",
       "    </tr>\n",
       "    <tr>\n",
       "      <th>qantas</th>\n",
       "      <td>6.045573</td>\n",
       "    </tr>\n",
       "    <tr>\n",
       "      <th>receipts</th>\n",
       "      <td>6.045573</td>\n",
       "    </tr>\n",
       "    <tr>\n",
       "      <th>radware</th>\n",
       "      <td>6.045573</td>\n",
       "    </tr>\n",
       "    <tr>\n",
       "      <th>finer</th>\n",
       "      <td>6.045573</td>\n",
       "    </tr>\n",
       "    <tr>\n",
       "      <th>fdcpa</th>\n",
       "      <td>6.045573</td>\n",
       "    </tr>\n",
       "    <tr>\n",
       "      <th>fdd</th>\n",
       "      <td>6.045573</td>\n",
       "    </tr>\n",
       "    <tr>\n",
       "      <th>realm</th>\n",
       "      <td>6.045573</td>\n",
       "    </tr>\n",
       "    <tr>\n",
       "      <th>fe</th>\n",
       "      <td>6.045573</td>\n",
       "    </tr>\n",
       "    <tr>\n",
       "      <th>fecal</th>\n",
       "      <td>6.045573</td>\n",
       "    </tr>\n",
       "    <tr>\n",
       "      <th>fedramp</th>\n",
       "      <td>6.045573</td>\n",
       "    </tr>\n",
       "    <tr>\n",
       "      <th>rear</th>\n",
       "      <td>6.045573</td>\n",
       "    </tr>\n",
       "    <tr>\n",
       "      <th>fehb</th>\n",
       "      <td>6.045573</td>\n",
       "    </tr>\n",
       "    <tr>\n",
       "      <th>realigned</th>\n",
       "      <td>6.045573</td>\n",
       "    </tr>\n",
       "    <tr>\n",
       "      <th>realestate</th>\n",
       "      <td>6.045573</td>\n",
       "    </tr>\n",
       "    <tr>\n",
       "      <th>realcommerical</th>\n",
       "      <td>6.045573</td>\n",
       "    </tr>\n",
       "    <tr>\n",
       "      <th>realcommercial</th>\n",
       "      <td>6.045573</td>\n",
       "    </tr>\n",
       "    <tr>\n",
       "      <th>fem</th>\n",
       "      <td>6.045573</td>\n",
       "    </tr>\n",
       "    <tr>\n",
       "      <th>readout</th>\n",
       "      <td>6.045573</td>\n",
       "    </tr>\n",
       "    <tr>\n",
       "      <th>feld</th>\n",
       "      <td>6.045573</td>\n",
       "    </tr>\n",
       "    <tr>\n",
       "      <th>rearrangement</th>\n",
       "      <td>6.045573</td>\n",
       "    </tr>\n",
       "    <tr>\n",
       "      <th>fdasia</th>\n",
       "      <td>6.045573</td>\n",
       "    </tr>\n",
       "    <tr>\n",
       "      <th>reassign</th>\n",
       "      <td>6.045573</td>\n",
       "    </tr>\n",
       "    <tr>\n",
       "      <th>recapture</th>\n",
       "      <td>6.045573</td>\n",
       "    </tr>\n",
       "    <tr>\n",
       "      <th>recapitalizations</th>\n",
       "      <td>6.045573</td>\n",
       "    </tr>\n",
       "    <tr>\n",
       "      <th>farming</th>\n",
       "      <td>6.045573</td>\n",
       "    </tr>\n",
       "    <tr>\n",
       "      <th>farmington</th>\n",
       "      <td>6.045573</td>\n",
       "    </tr>\n",
       "    <tr>\n",
       "      <th>farmland</th>\n",
       "      <td>6.045573</td>\n",
       "    </tr>\n",
       "    <tr>\n",
       "      <th>rebuttable</th>\n",
       "      <td>6.045573</td>\n",
       "    </tr>\n",
       "    <tr>\n",
       "      <th>rebut</th>\n",
       "      <td>6.045573</td>\n",
       "    </tr>\n",
       "    <tr>\n",
       "      <th>rebuilders</th>\n",
       "      <td>6.045573</td>\n",
       "    </tr>\n",
       "    <tr>\n",
       "      <th>fastest</th>\n",
       "      <td>6.045573</td>\n",
       "    </tr>\n",
       "    <tr>\n",
       "      <th>rebar</th>\n",
       "      <td>6.045573</td>\n",
       "    </tr>\n",
       "    <tr>\n",
       "      <th>fatal</th>\n",
       "      <td>6.045573</td>\n",
       "    </tr>\n",
       "    <tr>\n",
       "      <th>fatca</th>\n",
       "      <td>6.045573</td>\n",
       "    </tr>\n",
       "    <tr>\n",
       "      <th>father</th>\n",
       "      <td>6.045573</td>\n",
       "    </tr>\n",
       "    <tr>\n",
       "      <th>reauthorize</th>\n",
       "      <td>6.045573</td>\n",
       "    </tr>\n",
       "    <tr>\n",
       "      <th>fatty</th>\n",
       "      <td>6.045573</td>\n",
       "    </tr>\n",
       "    <tr>\n",
       "      <th>readjustment</th>\n",
       "      <td>6.045573</td>\n",
       "    </tr>\n",
       "    <tr>\n",
       "      <th>femininity</th>\n",
       "      <td>6.045573</td>\n",
       "    </tr>\n",
       "    <tr>\n",
       "      <th>fems</th>\n",
       "      <td>6.045573</td>\n",
       "    </tr>\n",
       "    <tr>\n",
       "      <th>readership</th>\n",
       "      <td>6.045573</td>\n",
       "    </tr>\n",
       "    <tr>\n",
       "      <th>raritan</th>\n",
       "      <td>6.045573</td>\n",
       "    </tr>\n",
       "    <tr>\n",
       "      <th>raptor</th>\n",
       "      <td>6.045573</td>\n",
       "    </tr>\n",
       "    <tr>\n",
       "      <th>fide</th>\n",
       "      <td>6.045573</td>\n",
       "    </tr>\n",
       "    <tr>\n",
       "      <th>rap</th>\n",
       "      <td>6.045573</td>\n",
       "    </tr>\n",
       "    <tr>\n",
       "      <th>fifra</th>\n",
       "      <td>6.045573</td>\n",
       "    </tr>\n",
       "    <tr>\n",
       "      <th>fiji</th>\n",
       "      <td>6.045573</td>\n",
       "    </tr>\n",
       "    <tr>\n",
       "      <th>filling</th>\n",
       "      <td>6.045573</td>\n",
       "    </tr>\n",
       "    <tr>\n",
       "      <th>filmmaker</th>\n",
       "      <td>6.045573</td>\n",
       "    </tr>\n",
       "    <tr>\n",
       "      <th>filtering</th>\n",
       "      <td>6.045573</td>\n",
       "    </tr>\n",
       "    <tr>\n",
       "      <th>finalizes</th>\n",
       "      <td>6.045573</td>\n",
       "    </tr>\n",
       "    <tr>\n",
       "      <th>raj</th>\n",
       "      <td>6.045573</td>\n",
       "    </tr>\n",
       "    <tr>\n",
       "      <th>raisin</th>\n",
       "      <td>6.045573</td>\n",
       "    </tr>\n",
       "    <tr>\n",
       "      <th>rainy</th>\n",
       "      <td>6.045573</td>\n",
       "    </tr>\n",
       "    <tr>\n",
       "      <th>fincantieri</th>\n",
       "      <td>6.045573</td>\n",
       "    </tr>\n",
       "    <tr>\n",
       "      <th>railways</th>\n",
       "      <td>6.045573</td>\n",
       "    </tr>\n",
       "    <tr>\n",
       "      <th>fibrotic</th>\n",
       "      <td>6.045573</td>\n",
       "    </tr>\n",
       "    <tr>\n",
       "      <th>finest</th>\n",
       "      <td>6.045573</td>\n",
       "    </tr>\n",
       "    <tr>\n",
       "      <th>ratable</th>\n",
       "      <td>6.045573</td>\n",
       "    </tr>\n",
       "    <tr>\n",
       "      <th>rater</th>\n",
       "      <td>6.045573</td>\n",
       "    </tr>\n",
       "    <tr>\n",
       "      <th>femsa</th>\n",
       "      <td>6.045573</td>\n",
       "    </tr>\n",
       "    <tr>\n",
       "      <th>fertilization</th>\n",
       "      <td>6.045573</td>\n",
       "    </tr>\n",
       "    <tr>\n",
       "      <th>reactivation</th>\n",
       "      <td>6.045573</td>\n",
       "    </tr>\n",
       "    <tr>\n",
       "      <th>fet</th>\n",
       "      <td>6.045573</td>\n",
       "    </tr>\n",
       "    <tr>\n",
       "      <th>reacquire</th>\n",
       "      <td>6.045573</td>\n",
       "    </tr>\n",
       "    <tr>\n",
       "      <th>rdc</th>\n",
       "      <td>6.045573</td>\n",
       "    </tr>\n",
       "    <tr>\n",
       "      <th>fetal</th>\n",
       "      <td>6.045573</td>\n",
       "    </tr>\n",
       "    <tr>\n",
       "      <th>rci</th>\n",
       "      <td>6.045573</td>\n",
       "    </tr>\n",
       "    <tr>\n",
       "      <th>rbi</th>\n",
       "      <td>6.045573</td>\n",
       "    </tr>\n",
       "    <tr>\n",
       "      <th>rayados</th>\n",
       "      <td>6.045573</td>\n",
       "    </tr>\n",
       "    <tr>\n",
       "      <th>fgd</th>\n",
       "      <td>6.045573</td>\n",
       "    </tr>\n",
       "    <tr>\n",
       "      <th>fgp</th>\n",
       "      <td>6.045573</td>\n",
       "    </tr>\n",
       "    <tr>\n",
       "      <th>ration</th>\n",
       "      <td>6.045573</td>\n",
       "    </tr>\n",
       "    <tr>\n",
       "      <th>fhlbs</th>\n",
       "      <td>6.045573</td>\n",
       "    </tr>\n",
       "    <tr>\n",
       "      <th>fhlmc</th>\n",
       "      <td>6.045573</td>\n",
       "    </tr>\n",
       "    <tr>\n",
       "      <th>ratchet</th>\n",
       "      <td>6.045573</td>\n",
       "    </tr>\n",
       "    <tr>\n",
       "      <th>ørsted</th>\n",
       "      <td>6.045573</td>\n",
       "    </tr>\n",
       "  </tbody>\n",
       "</table>\n",
       "</div>"
      ],
      "text/plain": [
       "                        IDF\n",
       "flutter            6.045573\n",
       "puppet             6.045573\n",
       "fmt                6.045573\n",
       "fnma               6.045573\n",
       "pwg                6.045573\n",
       "radv               6.045573\n",
       "pwi                6.045573\n",
       "floral             6.045573\n",
       "fleas              6.045573\n",
       "flier              6.045573\n",
       "flip               6.045573\n",
       "flir               6.045573\n",
       "quaker             6.045573\n",
       "floater            6.045573\n",
       "quadro             6.045573\n",
       "quadrennial        6.045573\n",
       "flocculants        6.045573\n",
       "qtof               6.045573\n",
       "qpcr               6.045573\n",
       "qlc                6.045573\n",
       "qip                6.045573\n",
       "qiagen             6.045573\n",
       "floorplan          6.045573\n",
       "qantas             6.045573\n",
       "receipts           6.045573\n",
       "radware            6.045573\n",
       "finer              6.045573\n",
       "fdcpa              6.045573\n",
       "fdd                6.045573\n",
       "realm              6.045573\n",
       "fe                 6.045573\n",
       "fecal              6.045573\n",
       "fedramp            6.045573\n",
       "rear               6.045573\n",
       "fehb               6.045573\n",
       "realigned          6.045573\n",
       "realestate         6.045573\n",
       "realcommerical     6.045573\n",
       "realcommercial     6.045573\n",
       "fem                6.045573\n",
       "readout            6.045573\n",
       "feld               6.045573\n",
       "rearrangement      6.045573\n",
       "fdasia             6.045573\n",
       "reassign           6.045573\n",
       "recapture          6.045573\n",
       "recapitalizations  6.045573\n",
       "farming            6.045573\n",
       "farmington         6.045573\n",
       "farmland           6.045573\n",
       "rebuttable         6.045573\n",
       "rebut              6.045573\n",
       "rebuilders         6.045573\n",
       "fastest            6.045573\n",
       "rebar              6.045573\n",
       "fatal              6.045573\n",
       "fatca              6.045573\n",
       "father             6.045573\n",
       "reauthorize        6.045573\n",
       "fatty              6.045573\n",
       "readjustment       6.045573\n",
       "femininity         6.045573\n",
       "fems               6.045573\n",
       "readership         6.045573\n",
       "raritan            6.045573\n",
       "raptor             6.045573\n",
       "fide               6.045573\n",
       "rap                6.045573\n",
       "fifra              6.045573\n",
       "fiji               6.045573\n",
       "filling            6.045573\n",
       "filmmaker          6.045573\n",
       "filtering          6.045573\n",
       "finalizes          6.045573\n",
       "raj                6.045573\n",
       "raisin             6.045573\n",
       "rainy              6.045573\n",
       "fincantieri        6.045573\n",
       "railways           6.045573\n",
       "fibrotic           6.045573\n",
       "finest             6.045573\n",
       "ratable            6.045573\n",
       "rater              6.045573\n",
       "femsa              6.045573\n",
       "fertilization      6.045573\n",
       "reactivation       6.045573\n",
       "fet                6.045573\n",
       "reacquire          6.045573\n",
       "rdc                6.045573\n",
       "fetal              6.045573\n",
       "rci                6.045573\n",
       "rbi                6.045573\n",
       "rayados            6.045573\n",
       "fgd                6.045573\n",
       "fgp                6.045573\n",
       "ration             6.045573\n",
       "fhlbs              6.045573\n",
       "fhlmc              6.045573\n",
       "ratchet            6.045573\n",
       "ørsted             6.045573"
      ]
     },
     "metadata": {},
     "output_type": "display_data"
    },
    {
     "data": {
      "text/html": [
       "<div>\n",
       "<style scoped>\n",
       "    .dataframe tbody tr th:only-of-type {\n",
       "        vertical-align: middle;\n",
       "    }\n",
       "\n",
       "    .dataframe tbody tr th {\n",
       "        vertical-align: top;\n",
       "    }\n",
       "\n",
       "    .dataframe thead th {\n",
       "        text-align: right;\n",
       "    }\n",
       "</style>\n",
       "<table border=\"1\" class=\"dataframe\">\n",
       "  <thead>\n",
       "    <tr style=\"text-align: right;\">\n",
       "      <th></th>\n",
       "      <th>IDF</th>\n",
       "    </tr>\n",
       "  </thead>\n",
       "  <tbody>\n",
       "    <tr>\n",
       "      <th>govern</th>\n",
       "      <td>1.693147</td>\n",
       "    </tr>\n",
       "    <tr>\n",
       "      <th>administration</th>\n",
       "      <td>1.693147</td>\n",
       "    </tr>\n",
       "    <tr>\n",
       "      <th>restriction</th>\n",
       "      <td>1.693147</td>\n",
       "    </tr>\n",
       "    <tr>\n",
       "      <th>professional</th>\n",
       "      <td>1.697448</td>\n",
       "    </tr>\n",
       "    <tr>\n",
       "      <th>tool</th>\n",
       "      <td>1.697448</td>\n",
       "    </tr>\n",
       "    <tr>\n",
       "      <th>...</th>\n",
       "      <td>...</td>\n",
       "    </tr>\n",
       "    <tr>\n",
       "      <th>ration</th>\n",
       "      <td>6.045573</td>\n",
       "    </tr>\n",
       "    <tr>\n",
       "      <th>fhlbs</th>\n",
       "      <td>6.045573</td>\n",
       "    </tr>\n",
       "    <tr>\n",
       "      <th>fhlmc</th>\n",
       "      <td>6.045573</td>\n",
       "    </tr>\n",
       "    <tr>\n",
       "      <th>ratchet</th>\n",
       "      <td>6.045573</td>\n",
       "    </tr>\n",
       "    <tr>\n",
       "      <th>ørsted</th>\n",
       "      <td>6.045573</td>\n",
       "    </tr>\n",
       "  </tbody>\n",
       "</table>\n",
       "<p>13880 rows × 1 columns</p>\n",
       "</div>"
      ],
      "text/plain": [
       "                     IDF\n",
       "govern          1.693147\n",
       "administration  1.693147\n",
       "restriction     1.693147\n",
       "professional    1.697448\n",
       "tool            1.697448\n",
       "...                  ...\n",
       "ration          6.045573\n",
       "fhlbs           6.045573\n",
       "fhlmc           6.045573\n",
       "ratchet         6.045573\n",
       "ørsted          6.045573\n",
       "\n",
       "[13880 rows x 1 columns]"
      ]
     },
     "metadata": {},
     "output_type": "display_data"
    }
   ],
   "source": [
    "features = vectorizer.get_feature_names()\n",
    "features_df = pd.DataFrame(vectorizer.idf_, columns=['IDF'], index=features)\n",
    "features_df.sort_values('IDF', inplace=True)\n",
    "display(features_df.head(100))\n",
    "display(features_df.tail(100))\n",
    "display(features_df)"
   ]
  },
  {
   "cell_type": "markdown",
   "metadata": {},
   "source": [
    "# DTM Visualisation\n",
    "\n",
    "- visualise data in 2D using PCA and LSI to see which clustering approach will work best\n",
    "- look at GICS Sector classification (for easier visualisation as there are only 11 classes)"
   ]
  },
  {
   "cell_type": "code",
   "execution_count": 275,
   "metadata": {},
   "outputs": [
    {
     "data": {
      "text/plain": [
       "array([1.41421356])"
      ]
     },
     "execution_count": 275,
     "metadata": {},
     "output_type": "execute_result"
    }
   ],
   "source": [
    "x= np.array([[1,1]])\n",
    "x = Normalizer(norm='l2').fit_transform(x) #maybe L1 better?\n",
    "sum(x.T)"
   ]
  },
  {
   "cell_type": "code",
   "execution_count": 284,
   "metadata": {
    "scrolled": true
   },
   "outputs": [],
   "source": [
    "dtm = dtms[0].toarray()\n",
    "# dtm = Normalizer(norm='l2').fit_transform(dtm)\n",
    "\n",
    "pca = PCA(n_components=2, random_state=0)\n",
    "dtm_pca = pca.fit_transform(dtm)\n",
    "dtm_pca = StandardScaler().fit_transform(dtm_pca) \n",
    "\n",
    "lsa = TruncatedSVD(2, algorithm = 'arpack', random_state=0)\n",
    "dtm_lsa = lsa.fit_transform(dtm)\n",
    "dtm_lsa_normalised = Normalizer(norm='l2').fit_transform(dtm_lsa) # normalisae so each vector is len 1 (sample norm) #not good!!"
   ]
  },
  {
   "cell_type": "code",
   "execution_count": 191,
   "metadata": {},
   "outputs": [],
   "source": [
    "#not used\n",
    "from sklearn.preprocessing import StandardScaler\n",
    "X = StandardScaler().fit_transform(dtm) # z-score of features (not samples)"
   ]
  },
  {
   "cell_type": "code",
   "execution_count": 193,
   "metadata": {},
   "outputs": [
    {
     "data": {
      "text/plain": [
       "86"
      ]
     },
     "execution_count": 193,
     "metadata": {},
     "output_type": "execute_result"
    }
   ],
   "source": [
    "pca2 = PCA(n_components=0.5, random_state=0) #Choose components to explain 50% of the variance\n",
    "dtm_pca2 = pca2.fit_transform(dtm)\n",
    "len(pca2.explained_variance_ratio_)"
   ]
  },
  {
   "cell_type": "markdown",
   "metadata": {},
   "source": [
    "- ~85 components required to explain 50% of variance in data\n",
    "- Possible idea is to weight features by the explained variance when calculating distances"
   ]
  },
  {
   "cell_type": "code",
   "execution_count": 224,
   "metadata": {},
   "outputs": [
    {
     "data": {
      "text/plain": [
       "11"
      ]
     },
     "execution_count": 224,
     "metadata": {},
     "output_type": "execute_result"
    }
   ],
   "source": [
    "MARKERS = ['D','o','v','^','<','X','*','h','s','p','P']\n",
    "len(markers)"
   ]
  },
  {
   "cell_type": "code",
   "execution_count": 252,
   "metadata": {
    "scrolled": false
   },
   "outputs": [
    {
     "data": {
      "text/plain": [
       "<matplotlib.lines.Line2D at 0x2adecb8e8d0>"
      ]
     },
     "execution_count": 252,
     "metadata": {},
     "output_type": "execute_result"
    },
    {
     "data": {
      "image/png": "[encoded data removed]",
      "text/plain": [
       "<matplotlib.figure.Figure at 0x2adecc8c208>"
      ]
     },
     "metadata": {
      "needs_background": "light"
     },
     "output_type": "display_data"
    }
   ],
   "source": [
    "df = pd.DataFrame(X, columns=['x', 'y'])\n",
    "df['cluster'] = DESC_DFS[0].Sector\n",
    "# plt.figure(figsize=(14,10))\n",
    "ax = sns.scatterplot(x='x', y='y', hue='cluster', style='cluster', markers=MARKERS , data=df) #relplot(col='cluster',col_wrap=3)\n",
    "ax.axhline(0, color='black')\n",
    "ax.axvline(0, color='black')"
   ]
  },
  {
   "cell_type": "markdown",
   "metadata": {},
   "source": [
    "- seems distance to center matters, so scaling (the output) might remove important information\n",
    "- but normalising the output is important to account for the different scales of features after LSI so that distancing makes sense\n",
    "- the clusters seem to be spread from the (0,0) point (not sure how to implement distance measure to make it robust to handle such a clustering pattern)\n",
    "\n",
    "- Normalising\n",
    "    - scale vectors to unit length (L1/L2 defn)\n",
    "    - Normaliser() has got nothing to do with normal distribution\n",
    "    - sklearn documnetation does this after SVD (https://scikit-learn.org/stable/auto_examples/text/plot_document_clustering.html#sphx-glr-auto-examples-text-plot-document-clustering-py)\n",
    "        - but i think this is not good for this problem\n",
    "    - vectors are also normalised after TDIDF\n",
    "- Standardising (StandardScaler())\n",
    "    - Z score fof FEATURES!\n",
    "\n",
    "- Distance metrics\n",
    "    - cosine distance\n",
    "        - i think cosine distance can be uninformative for points near the center\n",
    "    - correlation distance\n",
    "        - 1-r\n",
    "        - diff with cosine dist is that this is invariance to scaling AND translation\n",
    "    - Manhattan distance (L1 dist)\n",
    "        - good for sparse features (like dtms for text mining) since most of the features are 0\n",
    "    - others (usu for distributions)\n",
    "        - hellinger\n",
    "        - KL distance\n",
    "        - Jaccard Similarity\n",
    "        \n",
    "- normalising before SVD seems to separate points better\n",
    "- You use MinMaxScaler when you do not assume that the shape of all your features follows a normal distribution\n",
    "        "
   ]
  },
  {
   "cell_type": "code",
   "execution_count": 229,
   "metadata": {},
   "outputs": [
    {
     "data": {
      "text/plain": [
       "<matplotlib.lines.Line2D at 0x2adf3936fd0>"
      ]
     },
     "execution_count": 229,
     "metadata": {},
     "output_type": "execute_result"
    },
    {
     "data": {
      "image/png": "[encoded data removed]",
      "text/plain": [
       "<matplotlib.figure.Figure at 0x2adf3982080>"
      ]
     },
     "metadata": {
      "needs_background": "light"
     },
     "output_type": "display_data"
    }
   ],
   "source": [
    "df = pd.DataFrame(dtm_lsa, columns=['x', 'y'])\n",
    "df['cluster'] = DESC_DFS[0].Sector\n",
    "# plt.figure(figsize=(14,10))\n",
    "ax = sns.scatterplot(x='x', y='y', hue='cluster', style='cluster', markers=MARKERS, data=df)\n",
    "ax.axhline(0, color='black')\n",
    "ax.axvline(0, color='black')"
   ]
  },
  {
   "cell_type": "code",
   "execution_count": 242,
   "metadata": {
    "scrolled": false
   },
   "outputs": [
    {
     "data": {
      "text/plain": [
       "<matplotlib.lines.Line2D at 0x2adf36e6cc0>"
      ]
     },
     "execution_count": 242,
     "metadata": {},
     "output_type": "execute_result"
    },
    {
     "data": {
      "image/png": "[encoded data removed]",
      "text/plain": [
       "<matplotlib.figure.Figure at 0x2adeb952668>"
      ]
     },
     "metadata": {
      "needs_background": "light"
     },
     "output_type": "display_data"
    }
   ],
   "source": [
    "df = pd.DataFrame(dtm_lsa_normalised, columns=['x', 'y'])\n",
    "df['cluster'] = DESC_DFS[0].Sector\n",
    "# plt.figure(figsize=(14,10))\n",
    "ax = sns.scatterplot(x='x', y='y', hue='cluster', style='cluster', markers=MARKERS, data=df)\n",
    "ax.axhline(0, color='black')\n",
    "ax.axvline(0, color='black')"
   ]
  },
  {
   "cell_type": "markdown",
   "metadata": {},
   "source": [
    "# Determine Optimal Number of Topics\n",
    "\n",
    "We will try: \n",
    "- Top n words (human eye balling)\n",
    "- Coherence score"
   ]
  },
  {
   "cell_type": "markdown",
   "metadata": {},
   "source": [
    "### Top n words"
   ]
  },
  {
   "cell_type": "code",
   "execution_count": 507,
   "metadata": {},
   "outputs": [
    {
     "data": {
      "text/plain": [
       "[(0,\n",
       "  '0.028*\"service\" + 0.019*\"company\" + 0.013*\"coating\" + 0.012*\"marketing\" + 0.011*\"offer\"'),\n",
       " (1,\n",
       "  '0.034*\"product\" + 0.023*\"insurance\" + 0.021*\"company\" + 0.018*\"segment\" + 0.013*\"offer\"'),\n",
       " (2,\n",
       "  '0.057*\"service\" + 0.023*\"company\" + 0.020*\"segment\" + 0.020*\"management\" + 0.018*\"product\"'),\n",
       " (3,\n",
       "  '0.020*\"product\" + 0.020*\"system\" + 0.018*\"segment\" + 0.016*\"company\" + 0.012*\"solution\"'),\n",
       " (4,\n",
       "  '0.023*\"product\" + 0.023*\"service\" + 0.022*\"system\" + 0.021*\"solution\" + 0.016*\"software\"'),\n",
       " (5,\n",
       "  '0.035*\"product\" + 0.022*\"company\" + 0.021*\"care\" + 0.014*\"health\" + 0.013*\"segment\"'),\n",
       " (6,\n",
       "  '0.023*\"product\" + 0.021*\"equipment\" + 0.017*\"company\" + 0.015*\"system\" + 0.014*\"segment\"'),\n",
       " (7,\n",
       "  '0.039*\"company\" + 0.038*\"gas\" + 0.026*\"natural\" + 0.021*\"operate\" + 0.017*\"service\"'),\n",
       " (8,\n",
       "  '0.043*\"product\" + 0.027*\"company\" + 0.020*\"segment\" + 0.020*\"store\" + 0.017*\"food\"'),\n",
       " (9,\n",
       "  '0.021*\"company\" + 0.018*\"square\" + 0.017*\"foot\" + 0.013*\"space\" + 0.012*\"hotel\"'),\n",
       " (10,\n",
       "  '0.024*\"system\" + 0.022*\"company\" + 0.019*\"service\" + 0.014*\"product\" + 0.014*\"segment\"')]"
      ]
     },
     "execution_count": 507,
     "metadata": {},
     "output_type": "execute_result"
    }
   ],
   "source": [
    "# Test\n",
    "NUM_TOPICS = 11\n",
    "tokenized_desc_list = [word_tokenize(doc) for doc in preped_desc_lists[0]]\n",
    "dictionary = corpora.Dictionary(tokenized_desc_list)\n",
    "dtm_gensim = [dictionary.doc2bow(doc) for doc in tokenized_desc_list] #this dtm has a unique structure\n",
    "# model = LsiModel(dtm_gensim, num_topics=num_topics, id2word=dictionary)\n",
    "model = LdaMulticore(corpus=dtm_gensim, id2word=dictionary, num_topics=NUM_TOPICS, random_state=0, chunksize=100, passes=10, per_word_topics=True)\n",
    "model.print_topics(num_topics=NUM_TOPICS, num_words=5)"
   ]
  },
  {
   "cell_type": "markdown",
   "metadata": {},
   "source": [
    "##### Important words for each Topic"
   ]
  },
  {
   "cell_type": "code",
   "execution_count": null,
   "metadata": {},
   "outputs": [],
   "source": [
    "lsa_test = TruncatedSVD(n_components=200, algorithm = 'arpack')\n",
    "dtm_lsa_test = lsa_test.fit_transform(dtm)\n",
    "dtm_lsa_test = Normalizer().fit_transform(dtm_lsa_test) # normalisae so each vector is len 1"
   ]
  },
  {
   "cell_type": "code",
   "execution_count": null,
   "metadata": {},
   "outputs": [],
   "source": [
    "features = vectorizer.get_feature_names()\n",
    "topic_words = []\n",
    "for i, comp in enumerate(lsa_test.components_):\n",
    "    terms_comp = zip(features, comp)\n",
    "    sorted_words = sorted(terms_comp, key= lambda x:x[1], reverse=True)[:7]\n",
    "    sorted_words_clean = [tup[0] for tup in sorted_words]\n",
    "    topic_words.append(sorted_words_clean)\n",
    "topic_df = pd.DataFrame(topic_words, index=['Topic '+str(i) for i in range(lsa_test.components_.shape[0])])"
   ]
  },
  {
   "cell_type": "code",
   "execution_count": null,
   "metadata": {
    "scrolled": true
   },
   "outputs": [],
   "source": [
    "topic_df.head(50)"
   ]
  },
  {
   "cell_type": "markdown",
   "metadata": {},
   "source": [
    "- words seem pretty sensible\n",
    "- n_components is the number of topics to be extracted, so you shd use 64"
   ]
  },
  {
   "cell_type": "code",
   "execution_count": null,
   "metadata": {},
   "outputs": [],
   "source": []
  },
  {
   "cell_type": "markdown",
   "metadata": {},
   "source": [
    "### Coherence Score\n",
    "\n",
    "- Topic Coherence measures degree of semantic similarity between high scoring words in each topic\n",
    "- there are various coherence measures\n",
    "    - coherence values are calculated as the sum of pairwise scores of top n words used to describe a topic for all measures\n",
    "    - c_v\n",
    "        - [0,1]\n",
    "        - 0.7 is a good topic coherence score to aim for\n",
    "        - uses normalised pointwise mutual information (NPMI)\n",
    "    - UCI\n",
    "        - extrinsic measure\n",
    "        - using external information (eg wikipedia) to determine word similarities\n",
    "        - pointwise mutual information (PMI)\n",
    "    - u_mass\n",
    "        - intrinsic measure\n",
    "        - similar, using pairwise score function\n",
    "        \n",
    "\n",
    "- Choosing ‘k’ that marks end of rapid growth of topic coherence usually offers meaningful and interpretable topics\n",
    "- We use Gensim as sklearn does not have inbuilt coherence score calculator"
   ]
  },
  {
   "cell_type": "code",
   "execution_count": 508,
   "metadata": {
    "scrolled": true
   },
   "outputs": [
    {
     "data": {
      "text/html": [
       "\n",
       "<link rel=\"stylesheet\" type=\"text/css\" href=\"https://cdn.rawgit.com/bmabey/pyLDAvis/files/ldavis.v1.0.0.css\">\n",
       "\n",
       "\n",
       "<div id=\"ldavis_el1505229442798598721668515155\"></div>\n",
       "<script type=\"text/javascript\">\n",
       "\n",
       "var ldavis_el1505229442798598721668515155_data = {\"mdsDat\": {\"x\": [-0.10386188640936837, 0.11126052923210097, 0.0714508628976302, -0.05862902997096853, 0.14958008604926606, -0.13100794796053963, -0.008547267825061072, -0.09750381037670383, -0.057192564798159706, 0.03663421249256642, 0.08781681666923734], \"y\": [0.1190145181143879, -0.048294395467164894, -0.12151472777548414, 0.051207920735501775, 0.16263557016769892, 0.0007186662248222704, -0.029897377308365912, -0.014473880187827519, -0.11856642101999, 0.062306258936662494, -0.06313613242024124], \"topics\": [1, 2, 3, 4, 5, 6, 7, 8, 9, 10, 11], \"cluster\": [1, 1, 1, 1, 1, 1, 1, 1, 1, 1, 1], \"Freq\": [27.358398466698002, 9.832774316311706, 9.452410827345748, 9.421519046607266, 8.360331880307333, 8.1555347270293, 7.493128257697861, 7.465660395321093, 5.955657835464037, 3.580996225030695, 2.923588022186959]}, \"tinfo\": {\"Term\": [\"gas\", \"insurance\", \"system\", \"natural\", \"product\", \"service\", \"care\", \"investment\", \"company\", \"store\", \"equipment\", \"solution\", \"software\", \"food\", \"estate\", \"electric\", \"banking\", \"energy\", \"property\", \"health\", \"operate\", \"distribution\", \"control\", \"test\", \"approximately\", \"management\", \"financial\", \"storage\", \"space\", \"customer\", \"banking\", \"bank\", \"loan\", \"retirement\", \"wealth\", \"credit\", \"investor\", \"fund\", \"lending\", \"advisory\", \"mutual\", \"brokerage\", \"deposit\", \"lend\", \"foreign\", \"tax\", \"capital\", \"advice\", \"custody\", \"treasury\", \"affluent\", \"payroll\", \"svb\", \"mortgage\", \"saving\", \"oracle\", \"equity\", \"financial\", \"payment\", \"connection\", \"investment\", \"institutional\", \"corporate\", \"exchange\", \"manager\", \"management\", \"asset\", \"service\", \"account\", \"plan\", \"finance\", \"income\", \"business\", \"risk\", \"solution\", \"individual\", \"segment\", \"offer\", \"company\", \"security\", \"insurance\", \"commercial\", \"product\", \"data\", \"include\", \"consumer\", \"market\", \"operate\", \"found\", \"technology\", \"customer\", \"software\", \"network\", \"group\", \"meat\", \"frozen\", \"fresh\", \"coors\", \"snack\", \"molson\", \"grocery\", \"fruit\", \"foodservice\", \"meal\", \"flavor\", \"refrigerate\", \"vegetable\", \"pet\", \"juice\", \"smucker\", \"cryovac\", \"tortilla\", \"pulp\", \"perishable\", \"corrugate\", \"hygiene\", \"cereal\", \"bake\", \"sandwich\", \"flour\", \"seafood\", \"walgreens\", \"cookware\", \"carling\", \"paper\", \"merchandise\", \"packaging\", \"household\", \"dairy\", \"food\", \"beverage\", \"store\", \"convenience\", \"beauty\", \"dry\", \"retailer\", \"brand\", \"product\", \"item\", \"outdoor\", \"drug\", \"retail\", \"company\", \"segment\", \"supply\", \"consumer\", \"operate\", \"manufacture\", \"home\", \"care\", \"offer\", \"distributor\", \"found\", \"include\", \"market\", \"health\", \"corporation\", \"state\", \"specialty\", \"international\", \"solution\", \"biib\", \"nike\", \"dialysis\", \"medicine\", \"outpatient\", \"macular\", \"infection\", \"inflammatory\", \"diabetes\", \"unum\", \"nonferrous\", \"edema\", \"lymphoma\", \"pain\", \"medicaid\", \"behavioral\", \"pepsi\", \"arthritis\", \"metastatic\", \"adult\", \"vornado\", \"pfizer\", \"ferrous\", \"retinal\", \"marshall\", \"occlusion\", \"vein\", \"tjx\", \"homesense\", \"wrench\", \"cardiovascular\", \"vaccine\", \"disease\", \"therapeutic\", \"chronic\", \"care\", \"prevent\", \"acute\", \"injection\", \"hospital\", \"health\", \"agreement\", \"therapy\", \"pharmacy\", \"apparel\", \"pharmaceutical\", \"product\", \"patient\", \"clinical\", \"collaboration\", \"store\", \"company\", \"medical\", \"brand\", \"healthcare\", \"segment\", \"offer\", \"life\", \"group\", \"home\", \"specialty\", \"operate\", \"service\", \"develop\", \"found\", \"state\", \"include\", \"television\", \"missile\", \"transit\", \"aircraft\", \"audience\", \"disney\", \"studio\", \"subway\", \"marlboro\", \"raytheon\", \"mapmyfitness\", \"myfitnesspal\", \"paycom\", \"hcm\", \"textron\", \"nortonlifelock\", \"command\", \"weapon\", \"broadcast\", \"strike\", \"heets\", \"listen\", \"request\", \"locomotive\", \"overhaul\", \"satellite\", \"dexcom\", \"publisher\", \"fit\", \"fleece\", \"restraint\", \"cargo\", \"mission\", \"entertainment\", \"defense\", \"subscription\", \"content\", \"stream\", \"freight\", \"news\", \"sport\", \"airline\", \"measurement\", \"video\", \"advertising\", \"system\", \"space\", \"network\", \"car\", \"aviation\", \"digital\", \"train\", \"channel\", \"program\", \"produce\", \"logistics\", \"company\", \"medium\", \"service\", \"military\", \"segment\", \"offer\", \"operate\", \"product\", \"include\", \"business\", \"air\", \"headquarter\", \"found\", \"solution\", \"device\", \"application\", \"brand\", \"market\", \"netapp\", \"capacity\", \"electricity\", \"crude\", \"ngl\", \"ulta\", \"generate\", \"overhead\", \"transmits\", \"regulate\", \"solar\", \"hydroelectric\", \"nuclear\", \"pipeline\", \"substation\", \"interstate\", \"lng\", \"sempra\", \"natural\", \"electric\", \"regulated\", \"gather\", \"midstream\", \"gas\", \"biomass\", \"megawatts\", \"underground\", \"aggregate\", \"plant\", \"hut\", \"transmission\", \"renewable\", \"refine\", \"coal\", \"wind\", \"generation\", \"energy\", \"approximately\", \"utility\", \"distribution\", \"oil\", \"storage\", \"facility\", \"own\", \"customer\", \"company\", \"operate\", \"state\", \"segment\", \"wholesale\", \"service\", \"distribute\", \"industrial\", \"line\", \"found\", \"product\", \"headquarter\", \"include\", \"commercial\", \"completion\", \"trane\", \"reservoir\", \"ssds\", \"drill\", \"udr\", \"homebuilding\", \"norfolk\", \"subsea\", \"refrigeration\", \"calibration\", \"downhole\", \"architecture\", \"move\", \"configure\", \"hole\", \"detach\", \"hdds\", \"oilwell\", \"nvhomes\", \"preventers\", \"blowout\", \"varco\", \"thermo\", \"heartland\", \"aflac\", \"calibrators\", \"unitary\", \"schlumberger\", \"oilfield\", \"campus\", \"coil\", \"dispense\", \"rig\", \"flash\", \"valves\", \"automation\", \"drive\", \"production\", \"tube\", \"meter\", \"power\", \"control\", \"simulation\", \"pipe\", \"software\", \"unit\", \"pressure\", \"system\", \"heat\", \"solution\", \"equipment\", \"technology\", \"pump\", \"design\", \"monitoring\", \"device\", \"data\", \"product\", \"storage\", \"service\", \"offer\", \"base\", \"industrial\", \"fluid\", \"segment\", \"information\", \"company\", \"management\", \"worldwide\", \"safety\", \"market\", \"process\", \"tool\", \"include\", \"manufacture\", \"home\", \"polo\", \"walmart\", \"paypal\", \"seat\", \"cystic\", \"fibrosis\", \"steer\", \"hose\", \"wheel\", \"invisalign\", \"clutch\", \"alternator\", \"exhaust\", \"ignition\", \"hoist\", \"airframe\", \"purple\", \"forklifts\", \"aerial\", \"conductance\", \"transmembrane\", \"vertex\", \"resmed\", \"forestry\", \"reciprocate\", \"xylem\", \"lifts\", \"wiper\", \"skid\", \"backhoe\", \"pneumatic\", \"belt\", \"hydraulic\", \"engine\", \"sleep\", \"loader\", \"founded\", \"part\", \"furniture\", \"filtration\", \"trench\", \"bed\", \"fluid\", \"vehicle\", \"battery\", \"equipment\", \"tool\", \"component\", \"heavy\", \"shop\", \"pump\", \"truck\", \"construction\", \"repair\", \"automotive\", \"rental\", \"fuel\", \"water\", \"system\", \"accessory\", \"control\", \"product\", \"industrial\", \"company\", \"segment\", \"manufacture\", \"offer\", \"include\", \"solution\", \"operate\", \"service\", \"store\", \"market\", \"found\", \"liability\", \"analog\", \"allstate\", \"cruise\", \"implant\", \"itinerary\", \"practitioner\", \"length\", \"nvidia\", \"agx\", \"dentsply\", \"umbrella\", \"spine\", \"microcontrollers\", \"fpga\", \"silicon\", \"sirona\", \"uwb\", \"neurotechnology\", \"ethernet\", \"surety\", \"trauma\", \"gate\", \"excess\", \"ic\", \"celebrity\", \"gpu\", \"macao\", \"injury\", \"canal\", \"reinsurance\", \"accident\", \"dental\", \"casualty\", \"embed\", \"coverage\", \"semiconductor\", \"amplifier\", \"insurance\", \"integrated\", \"programmable\", \"specific\", \"processor\", \"property\", \"signal\", \"game\", \"personal\", \"test\", \"caribbean\", \"switch\", \"product\", \"design\", \"fiber\", \"segment\", \"company\", \"system\", \"offer\", \"device\", \"include\", \"manufacturer\", \"professional\", \"medical\", \"solution\", \"commercial\", \"found\", \"operate\", \"market\", \"service\", \"equipment\", \"corporation\", \"application\", \"business\", \"analyzer\", \"varian\", \"reagent\", \"proton\", \"ventas\", \"university\", \"genetic\", \"chromatography\", \"spectrometry\", \"acetate\", \"phosphate\", \"dna\", \"synthesizer\", \"brachytherapy\", \"perkinelmer\", \"modulate\", \"stereotactic\", \"calorimetry\", \"rheometry\", \"stent\", \"potash\", \"teledyne\", \"academic\", \"chipotle\", \"cola\", \"coca\", \"implantable\", \"acetyl\", \"ablation\", \"assay\", \"diagnostics\", \"laboratory\", \"subsystems\", \"instrument\", \"image\", \"breast\", \"analytical\", \"radiotherapy\", \"research\", \"medical\", \"cancer\", \"test\", \"diagnostic\", \"clinical\", \"instrumentation\", \"discovery\", \"pharmaceutical\", \"biotechnology\", \"animal\", \"science\", \"system\", \"quality\", \"chemical\", \"environmental\", \"water\", \"industrial\", \"application\", \"segment\", \"manufacture\", \"product\", \"solution\", \"market\", \"company\", \"offer\", \"technology\", \"device\", \"software\", \"service\", \"include\", \"development\", \"develop\", \"relation\", \"twitter\", \"promote\", \"etsy\", \"expedia\", \"modelo\", \"wec\", \"intermodal\", \"half\", \"landfill\", \"monster\", \"spirit\", \"termite\", \"pse\", \"decoration\", \"mva\", \"sundries\", \"audit\", \"waste\", \"disposal\", \"coating\", \"seller\", \"conversation\", \"rodent\", \"omaha\", \"silica\", \"appliances\", \"port\", \"carbonate\", \"recycle\", \"temporary\", \"headquarters\", \"marketing\", \"finish\", \"railroad\", \"container\", \"rail\", \"paint\", \"travel\", \"grain\", \"full\", \"place\", \"contractor\", \"transportation\", \"service\", \"material\", \"company\", \"state\", \"public\", \"offer\", \"online\", \"product\", \"headquarter\", \"industrial\", \"found\", \"include\", \"serve\", \"operate\", \"customer\", \"addition\", \"group\", \"energy\", \"subsidiary\", \"brand\", \"amd\", \"casino\", \"realty\", \"convention\", \"reit\", \"impella\", \"slot\", \"lithium\", \"large\", \"healthpeak\", \"poker\", \"dividend\", \"alxn\", \"foot\", \"ryzen\", \"catalyst\", \"square\", \"apartment\", \"wed\", \"villas\", \"casinos\", \"radeon\", \"kla\", \"microprocessor\", \"gaming\", \"nyse\", \"visible\", \"athlon\", \"gpus\", \"bromine\", \"meet\", \"room\", \"hotel\", \"resort\", \"salon\", \"table\", \"space\", \"ownership\", \"tenant\", \"luxury\", \"estate\", \"property\", \"interest\", \"company\", \"game\", \"suite\", \"operate\", \"own\", \"include\", \"investment\", \"retail\", \"segment\", \"develop\", \"food\", \"trust\"], \"Freq\": [205.0, 211.0, 483.0, 137.0, 1245.0, 1380.0, 174.0, 187.0, 1261.0, 217.0, 245.0, 493.0, 204.0, 132.0, 83.0, 75.0, 126.0, 119.0, 101.0, 159.0, 513.0, 119.0, 147.0, 102.0, 115.0, 398.0, 162.0, 89.0, 49.0, 228.0, 125.86869330431978, 68.6743785909556, 66.78757801614198, 50.233210619649405, 45.19860890570872, 83.83506498638418, 40.08561267971686, 87.11228204213573, 32.489389468157235, 42.02082870811377, 29.628524423125768, 46.902713196374, 42.96703322539026, 22.635803699838664, 20.73733653737279, 27.96888948226884, 61.98262219250105, 18.81186095893987, 16.60840193189806, 16.60647402386266, 14.019523284538916, 20.26205675175241, 12.801259785357376, 43.37938248122691, 12.745211480080195, 11.841035003906072, 81.06009541423586, 152.61917677446232, 64.76934686965863, 14.731236471393611, 169.48252639798426, 51.09506871779022, 74.15140775864066, 44.215949400126426, 33.28821966742162, 309.6913006286469, 89.78974089381573, 870.0510097745015, 62.20204609841474, 74.95999611134043, 59.806206988369084, 45.786863394064866, 165.18272142725604, 62.78923483779265, 228.4839760648644, 63.765517552976846, 310.02078347555687, 237.74527095334776, 352.97617489815485, 71.0254420811377, 110.32687949521465, 117.00033050424216, 280.8152109172889, 88.41818215061254, 145.97194814727175, 98.10358848133033, 124.63085242129112, 137.15425976372796, 104.89618385287632, 83.85580637347582, 83.52406456361527, 80.51963675796402, 77.2471713139361, 72.81066721844967, 22.102232495647197, 16.812798011890408, 14.748005250640745, 13.306862321067207, 21.22604316757091, 11.836738406212506, 24.498922056498852, 8.005766216641387, 25.013056493720914, 7.422820709444751, 7.4008775453235724, 6.83538756526761, 6.542727207185512, 16.317195676567422, 6.4867994029958895, 5.95422894117293, 5.952899129562374, 5.657526337558838, 5.62110986018152, 5.36756187028723, 13.30575393263391, 5.342456426881618, 5.073263107948105, 5.0712031724987385, 5.053329295533213, 4.781585474283473, 4.779641976884217, 5.0278004121147655, 7.5027124823847995, 4.489621835681546, 36.74525261913874, 23.31037334284629, 31.35681016147178, 12.945507331060645, 13.553114162761377, 90.24087845729147, 42.30660621749393, 108.05664838189753, 10.696241067119384, 19.13626649115373, 8.016250731339353, 33.01096855030455, 58.516327664988474, 234.94925234432827, 15.025415405525802, 13.483122805448247, 23.96008239190134, 48.324758375630765, 150.09886260027292, 110.34898399890989, 33.694674964898, 46.608611677541134, 74.61356359334087, 42.74435474874923, 36.74953855742042, 38.82204422601131, 60.55819549210974, 28.884750187155966, 40.8525634790245, 44.83765383525064, 37.08679914260949, 29.46045044803231, 31.086528814856905, 28.9947236985285, 25.871811927955452, 24.777294256912697, 25.02394186072254, 10.566309554232314, 10.291015895867645, 9.394932823680064, 17.30633843876813, 9.540632773459873, 7.372224541173686, 7.351553478543299, 6.202428341050107, 7.481030971655462, 5.917024548221237, 5.9151449158654685, 5.914034140610645, 5.897936462661051, 10.772452559701119, 5.614645956454107, 5.599211930019648, 5.8134447557088835, 5.473620315318222, 4.725090218039574, 16.911823608586946, 4.4579723181790945, 4.701864249991015, 4.4564049384486495, 4.4559238675577255, 4.455579502762315, 4.4556443387628715, 4.455615284894697, 4.455408849515566, 4.455390805534279, 4.446931236612557, 8.926632178223576, 12.104241507216155, 40.07463772264113, 19.091124288966693, 14.25501434735086, 111.99450715489625, 6.926675826969232, 14.533678254423723, 11.436926146389828, 29.135583554565567, 73.71279770546704, 22.312025104859433, 20.211298317230074, 23.85234497997699, 24.333029301539852, 27.798408325721244, 182.2301477038543, 21.190692591831382, 20.867268601279708, 20.51608990920661, 52.25755710487272, 114.9431408079975, 28.497724534445087, 36.65233916252789, 24.363262450931618, 67.14075645173266, 55.307442571070084, 25.11447437315783, 26.691317713041943, 27.17042395081766, 24.50897218727755, 40.42043380334723, 53.95609394783987, 24.3730074241474, 29.597609787817216, 26.574627591888675, 27.62323613206564, 29.565648709357255, 13.433024277720564, 9.385146981004144, 32.19527680596547, 8.511649744009345, 8.219456109237127, 7.635613876977339, 7.349393094864705, 6.479117308666397, 7.2199211339830525, 5.896340764520209, 5.896352348086661, 5.895353722726204, 5.895225084172446, 5.893474746315381, 5.8930870016699295, 7.125961339536841, 5.598565070040824, 21.801118273026574, 4.731557678566208, 4.443117424155196, 4.442111178027337, 4.440198060578549, 6.137878243874232, 4.407840891847847, 15.043952083548865, 4.150654319047618, 3.8536160100221224, 4.062629578254671, 4.0513057275555715, 4.288885894812692, 8.735889300681901, 16.0675174722387, 42.9863322211765, 28.37042949771944, 17.538832819248544, 36.35163115419965, 11.730038820989781, 21.865749696538636, 17.97269103308543, 35.0745612426879, 10.372944755135194, 23.02129458341632, 27.14735851503943, 12.61637552690474, 127.88991883258763, 24.95360661147635, 59.629010347449764, 17.26328537912951, 13.69535669750183, 41.17575494126945, 13.129914046059252, 25.00845175032049, 32.373551551632964, 26.416706161564633, 16.748676294570263, 117.00203943370974, 25.98449525280953, 97.9518182241407, 16.46784552882625, 72.5328790197927, 61.257181816095624, 55.36301937172982, 72.86412024741385, 47.082890980061705, 32.93126979323611, 20.16760495126208, 28.82962645833978, 29.746505980682198, 30.16958416178184, 24.488310598288233, 24.454401231652938, 23.871994142310434, 24.482055472404053, 41.53312299940772, 19.528383204434117, 46.0320256654947, 13.559202375157394, 11.439997161466142, 10.904823531568058, 33.949478673656, 9.810791618120275, 9.544267312531026, 16.759687226008722, 19.69930006138848, 8.189363383611678, 15.686838416681145, 43.81610288646475, 8.163556957195748, 6.837573948778036, 6.028422217995776, 5.487398294708277, 120.0713825728783, 65.7959245647825, 5.21498258029614, 8.988891938990673, 5.1606290592276665, 176.59527052009128, 4.67293509911214, 4.404367194181434, 12.512548424893573, 7.889447936115508, 10.298668433716255, 4.1374447180785365, 42.96834592761992, 14.034712101158219, 11.619833903514333, 17.896653389869922, 12.123679737074873, 32.16093567780436, 71.67086557457992, 65.94380163119975, 31.279477047331365, 65.10912370814023, 42.257905860699886, 49.94454001936539, 47.0885667955241, 49.93359898612075, 69.7588421121528, 182.09369370188878, 98.03713704446113, 43.354779066997786, 75.39682405898456, 22.078336420893336, 76.78765963080554, 27.26153623012098, 31.91357008222923, 24.872136617410316, 33.26332917203879, 44.45906170720187, 29.65039917822629, 32.364621535238065, 26.9922604364442, 10.272731725547429, 7.371451297175861, 7.05573123058027, 6.502444148480089, 26.487123967466342, 5.918671624085879, 6.713154463532108, 4.459155346922854, 4.163251926072871, 8.45615010098205, 3.8491206214484417, 3.803695644771201, 6.702397534364791, 4.733913272120772, 3.5286635585222883, 3.2795305880733383, 3.238167364098657, 2.9999192998235027, 2.999525077869522, 2.9992625271036517, 2.999248805857596, 2.9992007814964015, 2.999158298407653, 2.998717899183293, 2.9985875473457653, 2.994453758101415, 2.9983830480055143, 2.9970605309818525, 2.9957348475167933, 2.9832437639441487, 3.2122439722479803, 7.945131317355984, 5.196193134277067, 5.916886806618192, 9.115596880593305, 4.675589004800735, 26.1726541174825, 19.760502628670945, 39.36852210540705, 8.754705416502384, 12.202091965624986, 5.031548736415152, 60.73746719400608, 10.222340977148663, 6.159521183839141, 71.56987588039371, 17.18284095496087, 11.19329223437506, 101.64684723415438, 11.336673978253204, 97.0762790634421, 59.03603268311816, 51.00742341572115, 18.900921448275103, 39.958493466576975, 9.7740900336037, 36.75863555759529, 35.044174306798325, 105.74900161798328, 24.578893390833862, 103.96616000972827, 57.11264329603569, 32.16512335251721, 29.6521679087637, 15.031761210832649, 56.28719846486512, 19.940240397193964, 60.9122589810663, 35.144955803595856, 22.163780986261067, 14.135499973288928, 27.539427437075613, 18.109539082697193, 17.023749439829587, 24.337099703803933, 18.913899636082718, 18.21498580315361, 15.164562535153657, 11.683677497805753, 7.330549024640106, 7.316411002382284, 5.880467386642568, 5.879974267476775, 5.578615908138256, 5.296276820459765, 12.186594073494984, 4.136637522351868, 4.135323022786022, 3.8477424226372974, 3.847413918964903, 3.840446974290662, 3.538973941714474, 5.29862604598412, 2.9812476798673866, 2.9800767036772284, 2.9799273617863093, 2.9800274887359026, 2.9799983961597496, 2.9799693035835966, 2.979731956649815, 2.975337765460038, 2.974404621079931, 2.974707911186326, 2.967562774483148, 4.717558082975073, 2.6892367652468288, 2.6889533550674716, 7.584451573757843, 7.030195328931406, 14.377464826839182, 24.81567653275179, 7.329342652482295, 7.3248468797141175, 4.865145206675537, 38.08122794778581, 6.737258300636643, 10.478203330845067, 5.880141064913385, 7.442555442829176, 25.216097053396368, 42.23048485992032, 14.081800854406346, 89.27801762499121, 38.037705453860916, 33.402466754615844, 8.363904237935577, 15.587480344937354, 22.655804889051158, 22.09263467889144, 27.464658385251976, 23.675443437566756, 25.52402063742008, 12.457089088545317, 18.47400114222175, 23.135966221426045, 63.69589911299358, 25.36487842734791, 31.262337333092642, 95.63308529807702, 33.417342758555414, 72.60316151672868, 60.10124755659935, 26.910489418153997, 38.169452154722336, 30.42298935800737, 30.020755400115924, 28.238664434297597, 34.678886077783254, 21.596982519467613, 22.33466745693875, 19.527831225737437, 30.33617418627227, 12.820544615961236, 6.702407006746919, 14.280653850349106, 6.149947735349102, 5.684559783149155, 6.361133426500713, 5.176998751624902, 5.1766731430076005, 5.176594880995727, 5.1755890692134985, 5.172874053739855, 6.503972226344654, 4.903878340052038, 4.394339984980877, 4.144310248602623, 3.899290730280801, 3.8986056961274866, 3.8983885431994794, 5.412227788881093, 7.1693901513123395, 3.865951596321447, 3.6288029658295766, 9.51311663076014, 5.95100763356153, 3.1340008161855093, 3.13252108444249, 3.130330231208865, 3.13100753578076, 3.1289524333208174, 25.55985519599293, 10.28529988218522, 34.07449541729172, 22.237393174930666, 12.181264753662846, 14.912126835413675, 19.15939076063614, 9.464859887759749, 94.08589501222563, 8.610671574658523, 10.774755335431681, 13.067647739574484, 13.303702392746057, 37.64473883273681, 12.149036263933725, 18.304852683975675, 27.968471994557312, 33.60842098164195, 9.728602867774093, 12.093410331247402, 141.5710248178202, 35.70334624505838, 10.646643320587478, 73.76940137223463, 85.68776663645555, 46.80913926254132, 52.58007180396755, 27.80973537812856, 37.3141485002102, 18.530017323124678, 18.17165846934807, 18.576908828806825, 30.073107544632144, 23.867188944025866, 26.19748382646055, 29.15046412608337, 25.888410716210824, 34.92151067883554, 22.9484277077451, 21.67485163076863, 20.52967163075353, 21.770748682651192, 6.755923442579818, 6.1566267797219805, 12.351342936876772, 4.638241694408355, 4.638138795974874, 7.366861887754372, 4.3313153220945315, 4.331098734380615, 4.019224373349752, 6.725735277443662, 3.7235752068804655, 3.411021407878722, 3.1212973798571433, 3.120470531209086, 3.1204730362271293, 3.120341811820388, 3.1202872795045176, 3.119496849964939, 3.1194340318201554, 3.1166814023777185, 3.1150506356313867, 3.1158661153514005, 9.80243697723419, 2.5128710823928486, 2.5123964778204493, 2.5121766143137068, 2.5107138764699863, 2.5105019134047657, 2.510375891727807, 2.5082179150301624, 23.31035059867811, 33.2747759165524, 5.572324384097872, 34.4095537149157, 18.012089447874818, 3.584107363839005, 15.420296037777605, 4.638363091436617, 28.120777598713254, 36.56102353184556, 11.89951861317792, 35.65365512534692, 16.33353158192156, 19.143608410457198, 9.067960291450616, 11.497666701735554, 22.451944889470727, 6.291540885347713, 9.503323948891802, 14.947027988851438, 65.54022533836098, 8.670986613607463, 14.00712672032791, 11.297471825895688, 16.810392982884306, 26.718044571820254, 26.060854244264927, 58.87555777616964, 27.446815211888083, 65.9633375306324, 39.80913012779547, 33.791873302717555, 53.5201282597393, 34.00220540849846, 22.396270285372406, 17.94923738900072, 18.49675571428639, 26.827383599383822, 19.831569608884344, 14.125621010759456, 14.29688716745797, 6.406614503588657, 5.938391868500646, 5.228583184308413, 4.76471094170301, 4.2901881856595745, 3.592981828897119, 3.5894586922557226, 4.736786770162095, 3.3470243003966904, 8.495450333005213, 7.584631455960733, 2.865456661416414, 2.4171062410148565, 2.4157606178580173, 2.4162692527519836, 2.415214907072008, 2.4159826097616253, 2.4149421675411658, 16.259515666443708, 7.203268366956706, 25.589330216062663, 1.8948874353768939, 1.7102113743507248, 1.7054744656935676, 1.7054536105042932, 1.7035767593317737, 1.6822665793448608, 5.331063730607458, 2.8228407042047685, 7.987493000965955, 5.9407118924452424, 3.586745200406818, 23.826251052763887, 8.382192751786537, 4.139199396005933, 7.812552258155167, 10.894516371849196, 9.126593243254987, 8.726670426142832, 3.5476920046961893, 7.35054354257358, 3.825509542402233, 5.761497226179186, 12.42591662784632, 55.57183107897248, 12.228936121010507, 38.20645463435368, 16.08719062781656, 10.5412646876409, 22.110401014544216, 9.31241112589392, 19.057523865055305, 11.910320735148881, 10.904719657339458, 11.927950321815379, 12.517105711223637, 9.377767581490206, 12.054679428407916, 9.887540705342273, 8.930884439516253, 8.72796715546704, 8.534331820990817, 8.147785985727813, 7.9932545945894535, 13.136922842602008, 8.857753356539607, 8.325652739745589, 7.0937771504102995, 11.665099390035106, 6.103007985877589, 5.598167997452345, 5.595707851360104, 5.310921914841059, 3.843141698377154, 3.841053109261625, 6.858857035759693, 3.588524523549699, 28.21305224792064, 3.084689479452507, 3.0702942951780767, 29.207172235860437, 7.099124241240128, 2.5854801683683397, 2.5839931837263057, 2.583898024276567, 2.5821821272405305, 2.5810784289706032, 2.569035556024297, 4.342816212417398, 9.014579156649102, 2.0810410604082956, 2.079662667265565, 2.079219031262312, 2.0785932112628402, 5.58958283675826, 10.444842712757726, 18.8892968229472, 11.495327364350079, 7.611709414302125, 5.600048106023914, 20.814559783112102, 6.395102470830612, 3.369077373263303, 5.420686353684344, 16.04928328817334, 15.312597043426212, 8.137633558501596, 33.49582966769476, 7.807112817498775, 7.204178760280858, 15.646182561935516, 9.577138364711248, 12.164024736240433, 10.17901904654916, 7.981693895295827, 9.346981141326273, 7.293466701704904, 7.092815339987895, 6.790162128973649], \"Total\": [205.0, 211.0, 483.0, 137.0, 1245.0, 1380.0, 174.0, 187.0, 1261.0, 217.0, 245.0, 493.0, 204.0, 132.0, 83.0, 75.0, 126.0, 119.0, 101.0, 159.0, 513.0, 119.0, 147.0, 102.0, 115.0, 398.0, 162.0, 89.0, 49.0, 228.0, 126.72447048788175, 69.51074395761253, 67.60303074031098, 51.07496253468294, 45.99294358020024, 85.33213797026963, 40.90319703711505, 89.11078305321365, 33.280235007465535, 43.112869593264975, 30.418616444492784, 48.3460892753528, 44.3474654651059, 23.425966483790674, 21.520154795580485, 29.08801559828496, 64.46921698812017, 19.608700236212886, 17.388634147272107, 17.387000202705387, 14.837249001373912, 21.472587841103337, 13.576314426495763, 46.13507979387409, 13.564794916811744, 12.620811098622015, 86.4866355243245, 162.8580302924996, 69.29602751199427, 15.773677373310719, 187.0131290013291, 56.086089851615554, 82.59010507030278, 48.88160565095811, 36.63680676279568, 398.552853592744, 109.25914541110919, 1380.4435579885312, 73.92654265729475, 91.12536235366986, 72.58002194643636, 53.87124417988018, 259.73574621668166, 79.63792525697336, 493.6457699261392, 85.92501267405443, 898.8723250305912, 639.6838855800518, 1261.539511138062, 102.46587423851582, 211.7010619667805, 239.3251945451039, 1245.6838288663248, 153.4738476120596, 434.4672882482577, 204.06243226183625, 345.8316135770928, 513.8075127709252, 331.61773388687453, 202.07703139027458, 228.8325192467615, 204.1874850173176, 172.77371390781494, 134.68048706313343, 22.907400402704077, 17.61475840263486, 15.555282989666424, 14.090838687867508, 22.599151098091717, 12.6208875278547, 26.709472047209978, 8.79619748134113, 27.5929277933111, 8.207627911529451, 8.20450343054585, 7.61991165685654, 7.326586854347743, 18.327761931371526, 7.317680568636282, 6.7399066762247735, 6.740975217337657, 6.4459991225134115, 6.439070469883429, 6.151263265827961, 15.267725704103555, 6.1512717967563795, 5.856766520993375, 5.856512986794157, 5.856587569777011, 5.563861542473563, 5.564019394886345, 5.853772643697874, 8.794281386075014, 5.270968373897628, 44.16298003292317, 28.186737862693093, 39.85887194824929, 15.830074809722982, 16.808502400014188, 132.15379310660035, 67.71209609871244, 217.84661008992248, 14.062596489718446, 31.62213947971573, 10.246417277568348, 73.02078059978494, 168.44916646468357, 1245.6838288663248, 25.015490367571044, 22.529099375211157, 55.53544340185787, 185.33405890009195, 1261.539511138062, 898.8723250305912, 112.43968727919228, 204.06243226183625, 513.8075127709252, 191.97365441096352, 150.76150261181522, 174.12344736542624, 639.6838855800518, 106.52566883403455, 331.61773388687453, 434.4672882482577, 345.8316135770928, 159.50081771080824, 205.2223318689857, 227.5113653688581, 115.03179911732009, 92.19233761392692, 493.6457699261392, 11.361848439284795, 11.075779608616116, 10.194635185803667, 18.9347161189616, 10.488893618105529, 8.15736755130005, 8.153536512349472, 6.989117980226689, 8.442943200872323, 6.69786447904228, 6.697956993933037, 6.698048574497524, 6.6955395895334355, 12.265763684010508, 6.403283802131111, 6.40494771044886, 6.698292020924892, 6.399763076257106, 5.526313631160142, 19.824573989071183, 5.2384616991328725, 5.525851060999698, 5.238715189365121, 5.238802862714317, 5.238601768619524, 5.238786927688373, 5.238810404793812, 5.238592579991165, 5.238602931125405, 5.2370052987594065, 10.519344478858077, 14.877856027219176, 53.65232382021864, 24.75090093122498, 18.37377800299458, 174.12344736542624, 8.47984857825959, 19.203310983339865, 15.731960408307485, 48.122644303877934, 159.50081771080824, 36.76930857854378, 33.81416102631574, 47.07921985657216, 50.96629032821632, 69.99040152202133, 1245.6838288663248, 47.633988250502945, 48.34760225677665, 47.34521180678942, 217.84661008992248, 1261.539511138062, 97.33624496674898, 168.44916646468357, 80.64126299348767, 898.8723250305912, 639.6838855800518, 107.90479116540578, 134.68048706313343, 150.76150261181522, 115.03179911732009, 513.8075127709252, 1380.4435579885312, 123.48120247596142, 331.61773388687453, 227.5113653688581, 434.4672882482577, 30.860402349384685, 14.239236192227498, 10.171278387616127, 35.04049824030357, 9.298311516420123, 9.004135830167462, 8.422505651171738, 8.134868537355675, 7.261553456478626, 8.117032114240455, 6.680510866309555, 6.680533404773404, 6.67968243073088, 6.679689149446311, 6.680283186196664, 6.680402531892188, 8.103499851315917, 6.387663014135797, 25.220570707185537, 5.515181483051337, 5.225469511168486, 5.225542019631269, 5.223721574873928, 7.259770202006198, 5.224726615204898, 17.83769418557342, 4.931912714055835, 4.641437222823596, 4.940460225670368, 4.932519087326894, 5.224367841617655, 10.74728327349538, 20.297902443259744, 58.425330923509826, 41.70767579949399, 25.86509268464443, 60.72938059267583, 16.335785390084496, 34.51072280779572, 27.807403793999978, 64.95737480422683, 14.339607975364281, 41.217945929572416, 52.73552057555588, 19.15140272309923, 483.00896942933366, 49.77759909950038, 172.77371390781494, 30.247973131721917, 21.85078435793561, 120.13329740947285, 20.65958342060245, 57.11915748408483, 90.94714017060078, 66.5366539395398, 31.17193125850281, 1261.539511138062, 76.15404702070589, 1380.4435579885312, 33.38186396497983, 898.8723250305912, 639.6838855800518, 513.8075127709252, 1245.6838288663248, 434.4672882482577, 259.73574621668166, 55.804515301129655, 244.5987382277455, 331.61773388687453, 493.6457699261392, 157.7251971013097, 168.23811566560195, 168.44916646468357, 345.8316135770928, 42.93244184428819, 20.3576338939329, 48.346039863529825, 14.403444408929072, 12.236862625093298, 11.695506269835585, 36.45914547412219, 10.610135477406095, 10.339625126214349, 18.24653545469364, 21.545845723071558, 8.985543835740637, 17.213434157741695, 48.2085182374129, 8.983191977710446, 7.631153748424231, 6.820045129941188, 6.278572022327143, 137.79932920243618, 75.65725973693213, 6.007135264792392, 10.378770930685052, 6.0072153698565245, 205.65440518220927, 5.4652839410082406, 5.194144663153749, 14.766639853466911, 9.341183787590916, 12.19551560922122, 4.923965111601775, 51.16821799326892, 16.738322130111385, 13.908265772061663, 22.369445251716353, 15.601015650060065, 47.562142994328575, 119.5241375068315, 115.60643695169463, 47.7174556520286, 119.68110514846046, 71.77363518541388, 89.14958427576447, 87.1904119244051, 110.29730050083603, 228.8325192467615, 1261.539511138062, 513.8075127709252, 227.5113653688581, 898.8723250305912, 60.16063634239806, 1380.4435579885312, 104.95193398065899, 174.72119592475184, 96.73433740598941, 331.61773388687453, 1245.6838288663248, 244.5987382277455, 434.4672882482577, 239.3251945451039, 11.079418499577018, 8.161152157261002, 7.865767472315392, 7.285347151945565, 29.89643752403808, 6.70159109594587, 7.843295518609167, 5.2408103351105, 4.948971065607552, 10.196141997218284, 4.656744483543762, 4.6432686520701845, 8.212854567397331, 5.802130465287625, 4.368786834979239, 4.073301316129105, 4.070702314564872, 3.7813465736300795, 3.78123542475703, 3.781146531976264, 3.7811967023407793, 3.7812143784506005, 3.7811975809857867, 3.7810902278536487, 3.7811327979419933, 3.776157492705259, 3.781205336708509, 3.781029920746104, 3.781787495044067, 3.7796685141552575, 4.072488229186128, 10.329518790646745, 6.6974473718479555, 7.721459256264567, 12.209271997095255, 6.114139727249486, 40.624229861142524, 31.24954374010646, 71.40336128336835, 12.784529610745016, 19.80364450004434, 6.983901830876729, 147.13493539134004, 17.18499308063133, 9.132728936188236, 204.1874850173176, 35.49095364581806, 20.09388523545124, 483.00896942933366, 21.895817350176582, 493.6457699261392, 245.17716738513255, 202.07703139027458, 49.24091182137066, 160.11743496516215, 17.88299336680928, 157.7251971013097, 153.4738476120596, 1245.6838288663248, 89.14958427576447, 1380.4435579885312, 639.6838855800518, 197.57517118229515, 174.72119592475184, 41.89011543287475, 898.8723250305912, 83.81076882033265, 1261.539511138062, 398.552853592744, 150.7872016764053, 41.46111110529996, 345.8316135770928, 96.24259650315851, 83.51039138106766, 434.4672882482577, 191.97365441096352, 150.76150261181522, 15.947790191836383, 12.466126154632471, 8.11338014659087, 8.112812923916955, 6.664056165669143, 6.664081407797409, 6.369422981176812, 6.082393270470438, 14.439686132190968, 4.920832435907388, 4.920652094614494, 4.631621261168216, 4.631639625710958, 4.63070752536164, 4.341970240009191, 6.664961523332136, 3.7625215353134203, 3.762472914556876, 3.762465903162005, 3.7626087554451892, 3.7626334134232056, 3.7626302244929777, 3.7624775009278664, 3.760624411198854, 3.7598414462358623, 3.762336258820557, 3.7623011792628427, 6.088772404609574, 3.4717029102385557, 3.4716858065832534, 9.857093295458482, 9.177131658331229, 19.16177490360207, 34.000370512904475, 9.583191158750957, 9.629644284001364, 6.3208887512373115, 57.12749012822149, 8.987642228670836, 14.599797299251078, 7.939367572064672, 10.33522414904854, 41.89011543287475, 89.75458018843807, 23.74716066052874, 245.17716738513255, 83.51039138106766, 74.35829342642081, 12.665717338930724, 29.076247123291616, 49.24091182137066, 48.65409947325315, 71.55990983626037, 57.9443553225703, 66.03576775238051, 23.50181239477208, 44.45535951075129, 67.81750632061737, 483.00896942933366, 98.51165736765003, 147.13493539134004, 1245.6838288663248, 174.72119592475184, 1261.539511138062, 898.8723250305912, 191.97365441096352, 639.6838855800518, 434.4672882482577, 493.6457699261392, 513.8075127709252, 1380.4435579885312, 217.84661008992248, 345.8316135770928, 331.61773388687453, 32.2256735516851, 13.629879795580964, 7.497616991297104, 16.09718173901515, 6.997549051168525, 6.479316246201472, 7.2561523643868995, 5.968958840059402, 5.969083805825984, 5.969078663012596, 5.969183136471601, 5.967722030176954, 7.5274191928321486, 5.715373551561207, 5.2047691100726325, 4.947170726852443, 4.692190932408233, 4.692224968257752, 4.6923134722904924, 6.523819309252758, 8.654431920736954, 4.696700841702324, 4.439038251098715, 11.662674569671719, 7.323284234272415, 3.925535654977824, 3.9254876071335554, 3.9242671501861968, 3.9258151724460353, 3.925352814126051, 32.282222117579614, 13.404169748572716, 48.10671510897707, 31.02733173310673, 16.618355442536238, 21.032510847500337, 28.71289617028117, 13.35613757032925, 211.7010619667805, 12.107364067137356, 16.57047400868096, 22.19087278668985, 22.847418450732338, 101.19573248308427, 20.523858736781442, 39.34288760062717, 75.255655958326, 102.51613428403935, 15.85591576884418, 22.98214676193088, 1245.6838288663248, 160.11743496516215, 19.15080348282708, 898.8723250305912, 1261.539511138062, 483.00896942933366, 639.6838855800518, 157.7251971013097, 434.4672882482577, 79.94128191555009, 82.47169286654142, 97.33624496674898, 493.6457699261392, 239.3251945451039, 331.61773388687453, 513.8075127709252, 345.8316135770928, 1380.4435579885312, 245.17716738513255, 205.2223318689857, 168.23811566560195, 259.73574621668166, 7.541248780297731, 6.937363442610825, 14.184187100929469, 5.418358691639596, 5.418452919708163, 8.62008678518611, 5.113375137538825, 5.114015287752392, 4.809019008111132, 8.121175506223228, 4.504900448621281, 4.201393912789923, 3.8994270823848445, 3.8993352140325883, 3.8993945051601306, 3.89932382855295, 3.899330378474499, 3.89958130212312, 3.899598696522478, 3.8975504893262305, 3.8972853361618354, 3.8991326857934476, 12.333953010446074, 3.2900049770896285, 3.29030464694845, 3.2902965424911303, 3.290314756016726, 3.2900414003799634, 3.2903139492761286, 3.2900309094509543, 31.816778622218283, 50.90816376388178, 7.861853975733372, 64.86778776247007, 31.029811268293848, 5.020932720889906, 28.917277770532888, 6.877861736909206, 64.00344011224023, 97.33624496674898, 23.21053269324602, 102.51613428403935, 36.01625525452643, 48.34760225677665, 17.375791453569825, 25.78171817569709, 69.99040152202133, 11.015129753876806, 20.952072815514246, 42.56906177102467, 483.00896942933366, 18.737892969434764, 43.46315027074075, 30.535069319394964, 67.81750632061737, 174.72119592475184, 168.23811566560195, 898.8723250305912, 191.97365441096352, 1245.6838288663248, 493.6457699261392, 345.8316135770928, 1261.539511138062, 639.6838855800518, 202.07703139027458, 157.7251971013097, 204.1874850173176, 1380.4435579885312, 434.4672882482577, 85.13519097041744, 123.48120247596142, 7.21566900756758, 6.745282525637537, 6.039878878356806, 5.565222721409327, 5.095785587874501, 4.390664105170232, 4.387653119508267, 5.865711316960613, 4.157500360802727, 10.70938079064321, 9.664103918430786, 3.6905807482059636, 3.214409389453245, 3.213427860733988, 3.2146236689682097, 3.2135192149143865, 3.2147210238933344, 3.215048723076401, 21.879886157837735, 9.712755907938996, 34.7643399631132, 2.758657579648646, 2.50844037500249, 2.5083210497943034, 2.5091362106236854, 2.5088719029882163, 2.5145431337358013, 8.055822281490743, 4.283993444444173, 12.38517253455913, 9.673372519995269, 5.843030150279749, 51.05510542253661, 15.511783641546586, 7.165212226793432, 16.09166348431324, 24.599145585892266, 20.843410829505896, 27.07711299079235, 6.163358320624584, 22.56140895562775, 7.25322696014551, 15.196870760072304, 69.59324284425244, 1380.4435579885312, 71.4523170651691, 1261.539511138062, 227.5113653688581, 81.44701484796711, 639.6838855800518, 70.18265079861845, 1245.6838288663248, 244.5987382277455, 174.72119592475184, 331.61773388687453, 434.4672882482577, 121.3115364826231, 513.8075127709252, 228.8325192467615, 135.97503060926792, 134.68048706313343, 119.5241375068315, 110.20392290778135, 168.44916646468357, 13.943624852629645, 9.669504843064168, 9.168739455643333, 7.908085893886169, 13.040369573764957, 6.89945138411525, 6.398236794264806, 6.395554725223091, 6.149333263304577, 4.637057818369328, 4.636704255635646, 8.289082906259218, 4.383647969773686, 35.02984478402239, 3.8804068032915677, 3.87972535199749, 37.33852634895418, 9.262983286255349, 3.378221477743347, 3.3783202821864164, 3.378303810481104, 3.377215803391019, 3.3765398012316314, 3.36779616525311, 5.721513244887494, 12.272334871269019, 2.873608684329494, 2.8740367842433217, 2.8740756306699247, 2.8736800952663524, 7.859438287565322, 15.738814022171738, 29.73352092982793, 18.439878704629095, 13.015533117111278, 9.021096075570417, 49.77759909950038, 12.221730951056951, 5.001556531702084, 12.1715494344953, 83.73194588885518, 101.19573248308427, 29.339553496694933, 1261.539511138062, 39.34288760062717, 33.215003761848024, 513.8075127709252, 110.29730050083603, 434.4672882482577, 187.0131290013291, 185.33405890009195, 898.8723250305912, 123.48120247596142, 132.15379310660035, 56.068018191548724], \"Category\": [\"Default\", \"Default\", \"Default\", \"Default\", \"Default\", \"Default\", \"Default\", \"Default\", \"Default\", \"Default\", \"Default\", \"Default\", \"Default\", \"Default\", \"Default\", \"Default\", \"Default\", \"Default\", \"Default\", \"Default\", \"Default\", \"Default\", \"Default\", \"Default\", \"Default\", \"Default\", \"Default\", \"Default\", \"Default\", \"Default\", \"Topic1\", \"Topic1\", \"Topic1\", \"Topic1\", \"Topic1\", \"Topic1\", \"Topic1\", \"Topic1\", \"Topic1\", \"Topic1\", \"Topic1\", \"Topic1\", \"Topic1\", \"Topic1\", \"Topic1\", \"Topic1\", \"Topic1\", \"Topic1\", \"Topic1\", \"Topic1\", \"Topic1\", \"Topic1\", \"Topic1\", \"Topic1\", \"Topic1\", \"Topic1\", \"Topic1\", \"Topic1\", \"Topic1\", \"Topic1\", \"Topic1\", \"Topic1\", \"Topic1\", \"Topic1\", \"Topic1\", \"Topic1\", \"Topic1\", \"Topic1\", \"Topic1\", \"Topic1\", \"Topic1\", \"Topic1\", \"Topic1\", \"Topic1\", \"Topic1\", \"Topic1\", \"Topic1\", \"Topic1\", \"Topic1\", \"Topic1\", \"Topic1\", \"Topic1\", \"Topic1\", \"Topic1\", \"Topic1\", \"Topic1\", \"Topic1\", \"Topic1\", \"Topic1\", \"Topic1\", \"Topic1\", \"Topic1\", \"Topic1\", \"Topic1\", \"Topic2\", \"Topic2\", \"Topic2\", \"Topic2\", \"Topic2\", \"Topic2\", \"Topic2\", \"Topic2\", \"Topic2\", \"Topic2\", \"Topic2\", \"Topic2\", \"Topic2\", \"Topic2\", \"Topic2\", \"Topic2\", \"Topic2\", \"Topic2\", \"Topic2\", \"Topic2\", \"Topic2\", \"Topic2\", \"Topic2\", \"Topic2\", \"Topic2\", \"Topic2\", \"Topic2\", \"Topic2\", \"Topic2\", \"Topic2\", \"Topic2\", \"Topic2\", \"Topic2\", \"Topic2\", \"Topic2\", \"Topic2\", \"Topic2\", \"Topic2\", \"Topic2\", \"Topic2\", \"Topic2\", \"Topic2\", \"Topic2\", \"Topic2\", \"Topic2\", \"Topic2\", \"Topic2\", \"Topic2\", \"Topic2\", \"Topic2\", \"Topic2\", \"Topic2\", \"Topic2\", \"Topic2\", \"Topic2\", \"Topic2\", \"Topic2\", \"Topic2\", \"Topic2\", \"Topic2\", \"Topic2\", \"Topic2\", \"Topic2\", \"Topic2\", \"Topic2\", \"Topic2\", \"Topic2\", \"Topic3\", \"Topic3\", \"Topic3\", \"Topic3\", \"Topic3\", \"Topic3\", \"Topic3\", \"Topic3\", \"Topic3\", \"Topic3\", \"Topic3\", \"Topic3\", \"Topic3\", \"Topic3\", \"Topic3\", \"Topic3\", \"Topic3\", \"Topic3\", \"Topic3\", \"Topic3\", \"Topic3\", \"Topic3\", \"Topic3\", \"Topic3\", \"Topic3\", \"Topic3\", \"Topic3\", \"Topic3\", \"Topic3\", \"Topic3\", \"Topic3\", \"Topic3\", \"Topic3\", \"Topic3\", \"Topic3\", \"Topic3\", \"Topic3\", \"Topic3\", \"Topic3\", \"Topic3\", \"Topic3\", \"Topic3\", \"Topic3\", \"Topic3\", \"Topic3\", \"Topic3\", \"Topic3\", \"Topic3\", \"Topic3\", \"Topic3\", \"Topic3\", \"Topic3\", \"Topic3\", \"Topic3\", \"Topic3\", \"Topic3\", \"Topic3\", \"Topic3\", \"Topic3\", \"Topic3\", \"Topic3\", \"Topic3\", \"Topic3\", \"Topic3\", \"Topic3\", \"Topic3\", \"Topic3\", \"Topic4\", \"Topic4\", \"Topic4\", \"Topic4\", \"Topic4\", \"Topic4\", \"Topic4\", \"Topic4\", \"Topic4\", \"Topic4\", \"Topic4\", \"Topic4\", \"Topic4\", \"Topic4\", \"Topic4\", \"Topic4\", \"Topic4\", \"Topic4\", \"Topic4\", \"Topic4\", \"Topic4\", \"Topic4\", \"Topic4\", \"Topic4\", \"Topic4\", \"Topic4\", \"Topic4\", \"Topic4\", \"Topic4\", \"Topic4\", \"Topic4\", \"Topic4\", \"Topic4\", \"Topic4\", \"Topic4\", \"Topic4\", \"Topic4\", \"Topic4\", \"Topic4\", \"Topic4\", \"Topic4\", \"Topic4\", \"Topic4\", \"Topic4\", \"Topic4\", \"Topic4\", \"Topic4\", \"Topic4\", \"Topic4\", \"Topic4\", \"Topic4\", \"Topic4\", \"Topic4\", \"Topic4\", \"Topic4\", \"Topic4\", \"Topic4\", \"Topic4\", \"Topic4\", \"Topic4\", \"Topic4\", \"Topic4\", \"Topic4\", \"Topic4\", \"Topic4\", \"Topic4\", \"Topic4\", \"Topic4\", \"Topic4\", \"Topic4\", \"Topic4\", \"Topic4\", \"Topic4\", \"Topic4\", \"Topic5\", \"Topic5\", \"Topic5\", \"Topic5\", \"Topic5\", \"Topic5\", \"Topic5\", \"Topic5\", \"Topic5\", \"Topic5\", \"Topic5\", \"Topic5\", \"Topic5\", \"Topic5\", \"Topic5\", \"Topic5\", \"Topic5\", \"Topic5\", \"Topic5\", \"Topic5\", \"Topic5\", \"Topic5\", \"Topic5\", \"Topic5\", \"Topic5\", \"Topic5\", \"Topic5\", \"Topic5\", \"Topic5\", \"Topic5\", \"Topic5\", \"Topic5\", \"Topic5\", \"Topic5\", \"Topic5\", \"Topic5\", \"Topic5\", \"Topic5\", \"Topic5\", \"Topic5\", \"Topic5\", \"Topic5\", \"Topic5\", \"Topic5\", \"Topic5\", \"Topic5\", \"Topic5\", \"Topic5\", \"Topic5\", \"Topic5\", \"Topic5\", \"Topic5\", \"Topic5\", \"Topic5\", \"Topic5\", \"Topic5\", \"Topic5\", \"Topic5\", \"Topic5\", \"Topic6\", \"Topic6\", \"Topic6\", \"Topic6\", \"Topic6\", \"Topic6\", \"Topic6\", \"Topic6\", \"Topic6\", \"Topic6\", \"Topic6\", \"Topic6\", \"Topic6\", \"Topic6\", \"Topic6\", \"Topic6\", \"Topic6\", \"Topic6\", \"Topic6\", \"Topic6\", \"Topic6\", \"Topic6\", \"Topic6\", \"Topic6\", \"Topic6\", \"Topic6\", \"Topic6\", \"Topic6\", \"Topic6\", \"Topic6\", \"Topic6\", \"Topic6\", \"Topic6\", \"Topic6\", \"Topic6\", \"Topic6\", \"Topic6\", \"Topic6\", \"Topic6\", \"Topic6\", \"Topic6\", \"Topic6\", \"Topic6\", \"Topic6\", \"Topic6\", \"Topic6\", \"Topic6\", \"Topic6\", \"Topic6\", \"Topic6\", \"Topic6\", \"Topic6\", \"Topic6\", \"Topic6\", \"Topic6\", \"Topic6\", \"Topic6\", \"Topic6\", \"Topic6\", \"Topic6\", \"Topic6\", \"Topic6\", \"Topic6\", \"Topic6\", \"Topic6\", \"Topic6\", \"Topic6\", \"Topic6\", \"Topic6\", \"Topic6\", \"Topic6\", \"Topic6\", \"Topic6\", \"Topic6\", \"Topic6\", \"Topic6\", \"Topic6\", \"Topic7\", \"Topic7\", \"Topic7\", \"Topic7\", \"Topic7\", \"Topic7\", \"Topic7\", \"Topic7\", \"Topic7\", \"Topic7\", \"Topic7\", \"Topic7\", \"Topic7\", \"Topic7\", \"Topic7\", \"Topic7\", \"Topic7\", \"Topic7\", \"Topic7\", \"Topic7\", \"Topic7\", \"Topic7\", \"Topic7\", \"Topic7\", \"Topic7\", \"Topic7\", \"Topic7\", \"Topic7\", \"Topic7\", \"Topic7\", \"Topic7\", \"Topic7\", \"Topic7\", \"Topic7\", \"Topic7\", \"Topic7\", \"Topic7\", \"Topic7\", \"Topic7\", \"Topic7\", \"Topic7\", \"Topic7\", \"Topic7\", \"Topic7\", \"Topic7\", \"Topic7\", \"Topic7\", \"Topic7\", \"Topic7\", \"Topic7\", \"Topic7\", \"Topic7\", \"Topic7\", \"Topic7\", \"Topic7\", \"Topic7\", \"Topic7\", \"Topic7\", \"Topic7\", \"Topic7\", \"Topic7\", \"Topic7\", \"Topic7\", \"Topic7\", \"Topic7\", \"Topic7\", \"Topic7\", \"Topic7\", \"Topic7\", \"Topic7\", \"Topic7\", \"Topic7\", \"Topic7\", \"Topic7\", \"Topic8\", \"Topic8\", \"Topic8\", \"Topic8\", \"Topic8\", \"Topic8\", \"Topic8\", \"Topic8\", \"Topic8\", \"Topic8\", \"Topic8\", \"Topic8\", \"Topic8\", \"Topic8\", \"Topic8\", \"Topic8\", \"Topic8\", \"Topic8\", \"Topic8\", \"Topic8\", \"Topic8\", \"Topic8\", \"Topic8\", \"Topic8\", \"Topic8\", \"Topic8\", \"Topic8\", \"Topic8\", \"Topic8\", \"Topic8\", \"Topic8\", \"Topic8\", \"Topic8\", \"Topic8\", \"Topic8\", \"Topic8\", \"Topic8\", \"Topic8\", \"Topic8\", \"Topic8\", \"Topic8\", \"Topic8\", \"Topic8\", \"Topic8\", \"Topic8\", \"Topic8\", \"Topic8\", \"Topic8\", \"Topic8\", \"Topic8\", \"Topic8\", \"Topic8\", \"Topic8\", \"Topic8\", \"Topic8\", \"Topic8\", \"Topic8\", \"Topic8\", \"Topic8\", \"Topic8\", \"Topic8\", \"Topic8\", \"Topic8\", \"Topic8\", \"Topic8\", \"Topic8\", \"Topic8\", \"Topic8\", \"Topic8\", \"Topic8\", \"Topic8\", \"Topic8\", \"Topic9\", \"Topic9\", \"Topic9\", \"Topic9\", \"Topic9\", \"Topic9\", \"Topic9\", \"Topic9\", \"Topic9\", \"Topic9\", \"Topic9\", \"Topic9\", \"Topic9\", \"Topic9\", \"Topic9\", \"Topic9\", \"Topic9\", \"Topic9\", \"Topic9\", \"Topic9\", \"Topic9\", \"Topic9\", \"Topic9\", \"Topic9\", \"Topic9\", \"Topic9\", \"Topic9\", \"Topic9\", \"Topic9\", \"Topic9\", \"Topic9\", \"Topic9\", \"Topic9\", \"Topic9\", \"Topic9\", \"Topic9\", \"Topic9\", \"Topic9\", \"Topic9\", \"Topic9\", \"Topic9\", \"Topic9\", \"Topic9\", \"Topic9\", \"Topic9\", \"Topic9\", \"Topic9\", \"Topic9\", \"Topic9\", \"Topic9\", \"Topic9\", \"Topic9\", \"Topic9\", \"Topic9\", \"Topic9\", \"Topic9\", \"Topic9\", \"Topic9\", \"Topic9\", \"Topic9\", \"Topic9\", \"Topic9\", \"Topic9\", \"Topic9\", \"Topic9\", \"Topic9\", \"Topic9\", \"Topic9\", \"Topic9\", \"Topic9\", \"Topic9\", \"Topic10\", \"Topic10\", \"Topic10\", \"Topic10\", \"Topic10\", \"Topic10\", \"Topic10\", \"Topic10\", \"Topic10\", \"Topic10\", \"Topic10\", \"Topic10\", \"Topic10\", \"Topic10\", \"Topic10\", \"Topic10\", \"Topic10\", \"Topic10\", \"Topic10\", \"Topic10\", \"Topic10\", \"Topic10\", \"Topic10\", \"Topic10\", \"Topic10\", \"Topic10\", \"Topic10\", \"Topic10\", \"Topic10\", \"Topic10\", \"Topic10\", \"Topic10\", \"Topic10\", \"Topic10\", \"Topic10\", \"Topic10\", \"Topic10\", \"Topic10\", \"Topic10\", \"Topic10\", \"Topic10\", \"Topic10\", \"Topic10\", \"Topic10\", \"Topic10\", \"Topic10\", \"Topic10\", \"Topic10\", \"Topic10\", \"Topic10\", \"Topic10\", \"Topic10\", \"Topic10\", \"Topic10\", \"Topic10\", \"Topic10\", \"Topic10\", \"Topic10\", \"Topic10\", \"Topic10\", \"Topic10\", \"Topic10\", \"Topic10\", \"Topic10\", \"Topic11\", \"Topic11\", \"Topic11\", \"Topic11\", \"Topic11\", \"Topic11\", \"Topic11\", \"Topic11\", \"Topic11\", \"Topic11\", \"Topic11\", \"Topic11\", \"Topic11\", \"Topic11\", \"Topic11\", \"Topic11\", \"Topic11\", \"Topic11\", \"Topic11\", \"Topic11\", \"Topic11\", \"Topic11\", \"Topic11\", \"Topic11\", \"Topic11\", \"Topic11\", \"Topic11\", \"Topic11\", \"Topic11\", \"Topic11\", \"Topic11\", \"Topic11\", \"Topic11\", \"Topic11\", \"Topic11\", \"Topic11\", \"Topic11\", \"Topic11\", \"Topic11\", \"Topic11\", \"Topic11\", \"Topic11\", \"Topic11\", \"Topic11\", \"Topic11\", \"Topic11\", \"Topic11\", \"Topic11\", \"Topic11\", \"Topic11\", \"Topic11\", \"Topic11\", \"Topic11\", \"Topic11\", \"Topic11\"], \"logprob\": [30.0, 29.0, 28.0, 27.0, 26.0, 25.0, 24.0, 23.0, 22.0, 21.0, 20.0, 19.0, 18.0, 17.0, 16.0, 15.0, 14.0, 13.0, 12.0, 11.0, 10.0, 9.0, 8.0, 7.0, 6.0, 5.0, 4.0, 3.0, 2.0, 1.0, -4.794300079345703, -5.400100231170654, -5.427999973297119, -5.712800025939941, -5.81850004196167, -5.200699806213379, -5.938499927520752, -5.162300109863281, -6.148600101470947, -5.89139986038208, -6.240799903869629, -5.781400203704834, -5.869100093841553, -6.510000228881836, -6.597599983215332, -6.298399925231934, -5.502699851989746, -6.695000171661377, -6.8196001052856445, -6.819699764251709, -6.989099979400635, -6.620800018310547, -7.079999923706055, -5.859499931335449, -7.084400177001953, -7.1579999923706055, -5.234300136566162, -4.601600170135498, -5.458700180053711, -6.939599990844727, -4.496799945831299, -5.695799827575684, -5.323400020599365, -5.840400218963623, -6.124300003051758, -3.893899917602539, -5.1321001052856445, -2.8610000610351562, -5.499100208282471, -5.312600135803223, -5.538400173187256, -5.805500030517578, -4.522500038146973, -5.489699840545654, -4.1981000900268555, -5.474299907684326, -3.892899990081787, -4.158299922943115, -3.7630999088287354, -5.366499900817871, -4.92609977722168, -4.867300033569336, -3.99180006980896, -5.14739990234375, -4.646100044250488, -5.043499946594238, -4.804200172424316, -4.708399772644043, -4.976600170135498, -5.200399875640869, -5.204400062561035, -5.241000175476074, -5.28249979019165, -5.341700077056885, -5.510499954223633, -5.78410005569458, -5.91510009765625, -6.017899990081787, -5.551000118255615, -6.135000228881836, -5.407599925994873, -6.526100158691406, -5.3867998123168945, -6.6016998291015625, -6.604599952697754, -6.684100151062012, -6.72790002822876, -5.814000129699707, -6.736400127410889, -6.8221001625061035, -6.822299957275391, -6.873199939727783, -6.879700183868408, -6.92579984664917, -6.01800012588501, -6.930500030517578, -6.9822001457214355, -6.982600212097168, -6.986199855804443, -7.041399955749512, -7.041900157928467, -6.991199970245361, -6.591000080108643, -7.104499816894531, -5.002200126647949, -5.457300186157227, -5.160799980163574, -6.045499801635742, -5.999599933624268, -4.103700160980225, -4.861299991607666, -3.9235999584198, -6.236299991607666, -5.654600143432617, -6.524700164794922, -5.109399795532227, -4.536900043487549, -3.146899938583374, -5.896500110626221, -6.004799842834473, -5.429800033569336, -4.728300094604492, -3.594899892807007, -3.902600049972534, -5.088900089263916, -4.764400005340576, -4.293900012969971, -4.85099983215332, -5.002099990844727, -4.947199821472168, -4.502600193023682, -5.2428998947143555, -4.896299839019775, -4.803199768066406, -4.993000030517578, -5.223199844360352, -5.169400215148926, -5.239099979400635, -5.353099822998047, -5.396299839019775, -5.38640022277832, -6.209099769592285, -6.235499858856201, -6.326600074768066, -5.715700149536133, -6.311200141906738, -6.568999767303467, -6.571899890899658, -6.741799831390381, -6.5543999671936035, -6.788899898529053, -6.789299964904785, -6.789400100708008, -6.792200088500977, -6.189799785614014, -6.841400146484375, -6.844099998474121, -6.806600093841553, -6.866799831390381, -7.013899803161621, -5.738800048828125, -7.0721001625061035, -7.018799781799316, -7.072400093078613, -7.072500228881836, -7.0725998878479, -7.0725998878479, -7.0725998878479, -7.0725998878479, -7.072700023651123, -7.0746002197265625, -6.377699851989746, -6.073200225830078, -4.875999927520752, -5.617499828338623, -5.9096999168396, -3.848299980163574, -6.631400108337402, -5.8902997970581055, -6.129899978637695, -5.194799900054932, -4.266600131988525, -5.461599826812744, -5.560500144958496, -5.394899845123291, -5.374899864196777, -5.241799831390381, -3.3615000247955322, -5.513199806213379, -5.528600215911865, -5.545599937438965, -4.610599994659424, -3.8222999572753906, -5.216899871826172, -4.9653000831604, -5.373700141906738, -4.360000133514404, -4.553899765014648, -5.343299865722656, -5.282400131225586, -5.264599800109863, -5.367700099945068, -4.867400169372559, -4.57859992980957, -5.373300075531006, -5.179100036621094, -5.286799907684326, -5.2480998039245605, -5.1768999099731445, -5.965799808502197, -6.324399948120117, -5.091700077056885, -6.422100067138672, -6.456999778747559, -6.530700206756592, -6.568900108337402, -6.694900035858154, -6.586699962615967, -6.7891998291015625, -6.7891998291015625, -6.789299964904785, -6.789400100708008, -6.789599895477295, -6.789700031280518, -6.599800109863281, -6.841000080108643, -5.481500148773193, -7.009200096130371, -7.0721001625061035, -7.072400093078613, -7.072800159454346, -6.749000072479248, -7.080100059509277, -5.852499961853027, -7.140200138092041, -7.2144999504089355, -7.1616997718811035, -7.1645002365112305, -7.107500076293945, -6.396100044250488, -5.7866997718811035, -4.802599906921387, -5.218100070953369, -5.699100017547607, -4.970300197601318, -6.10129976272583, -5.478600025177002, -5.674600124359131, -5.00600004196167, -6.224299907684326, -5.42710018157959, -5.262199878692627, -6.028500080108643, -3.7123000621795654, -5.346499919891357, -4.475399971008301, -5.714900016784668, -5.946400165557861, -4.845600128173828, -5.98859977722168, -5.344299793243408, -5.08620023727417, -5.2895002365112305, -5.745200157165527, -3.801300048828125, -5.306000232696533, -3.9790000915527344, -5.7621002197265625, -4.2795000076293945, -4.448400020599365, -4.549600124359131, -4.274899959564209, -4.711599826812744, -5.0690999031066895, -5.5594000816345215, -5.202099800109863, -5.17080020904541, -5.156700134277344, -5.365300178527832, -5.366700172424316, -5.3907999992370605, -5.365600109100342, -4.71750020980835, -5.472099781036377, -4.614699840545654, -5.836900234222412, -6.006899833679199, -6.054800033569336, -4.919099807739258, -6.1605000495910645, -6.1880998611450195, -5.625, -5.463399887084961, -6.34119987487793, -5.691199779510498, -4.664000034332275, -6.344299793243408, -6.521599769592285, -6.647500038146973, -6.741499900817871, -3.655900001525879, -4.257400035858154, -6.792500019073486, -6.248000144958496, -6.8028998374938965, -3.2701001167297363, -6.902200222015381, -6.961400032043457, -5.917300224304199, -6.378499984741211, -6.111999988555908, -7.023900032043457, -4.683499813079834, -5.802499771118164, -5.991300106048584, -5.5594000816345215, -5.948800086975098, -4.973199844360352, -4.171899795532227, -4.255199909210205, -5.000999927520752, -4.267899990081787, -4.700200080871582, -4.533100128173828, -4.5920000076293945, -4.533299922943115, -4.198999881744385, -3.239500045776367, -3.8587000370025635, -4.674600124359131, -4.121200084686279, -5.349400043487549, -4.103000164031982, -5.138500213623047, -4.980999946594238, -5.230199813842773, -4.939499855041504, -4.649400234222412, -5.054500102996826, -4.966899871826172, -5.148399829864502, -6.089700222015381, -6.421599864959717, -6.465400218963623, -6.546999931335449, -5.142499923706055, -6.64109992980957, -6.515100002288818, -6.924200057983398, -6.9928998947143555, -6.284299850463867, -7.071400165557861, -7.083199977874756, -6.51669979095459, -6.8643999099731445, -7.158299922943115, -7.231500148773193, -7.244200229644775, -7.3206000328063965, -7.320700168609619, -7.320799827575684, -7.320799827575684, -7.320799827575684, -7.320899963378906, -7.321000099182129, -7.321100234985352, -7.322400093078613, -7.321100234985352, -7.321599960327148, -7.322000026702881, -7.326200008392334, -7.252200126647949, -6.34660005569458, -6.771299839019775, -6.64139986038208, -6.209199905395508, -6.876800060272217, -5.1545000076293945, -5.435500144958496, -4.746200084686279, -6.249599933624268, -5.917600154876709, -6.803500175476074, -4.312600135803223, -6.094600200653076, -6.601200103759766, -4.148499965667725, -5.575300216674805, -6.003900051116943, -3.7976999282836914, -5.991199970245361, -3.8436999320983887, -4.341000080108643, -4.487199783325195, -5.480000019073486, -4.731400012969971, -6.139500141143799, -4.814799785614014, -4.862599849700928, -3.7581000328063965, -5.217299938201904, -3.775099992752075, -4.374199867248535, -4.948299884796143, -5.029699802398682, -5.709000110626221, -4.388700008392334, -5.426499843597412, -4.309800148010254, -4.8597002029418945, -5.320700168609619, -5.770500183105469, -5.103600025177002, -5.522799968719482, -5.58459997177124, -5.227200031280518, -5.479300022125244, -5.517000198364258, -5.615499973297119, -5.876299858093262, -6.342400074005127, -6.344399929046631, -6.56279993057251, -6.562900066375732, -6.615499973297119, -6.667500019073486, -5.834099769592285, -6.914599895477295, -6.914899826049805, -6.986999988555908, -6.987100124359131, -6.988900184631348, -7.0706000328063965, -6.666999816894531, -7.242099761962891, -7.242499828338623, -7.242599964141846, -7.242599964141846, -7.242599964141846, -7.242599964141846, -7.242700099945068, -7.244100093841553, -7.2444000244140625, -7.24429988861084, -7.246699810028076, -6.783199787139893, -7.345200061798096, -7.345300197601318, -6.3084001541137695, -6.384300231933594, -5.668799877166748, -5.123000144958496, -6.342599868774414, -6.343200206756592, -6.752399921417236, -4.694799900054932, -6.426799774169922, -5.985199928283691, -6.562900066375732, -6.327300071716309, -5.10699987411499, -4.591300010681152, -5.689599990844727, -3.8427000045776367, -4.695899963378906, -4.825900077819824, -6.210599899291992, -5.5879998207092285, -5.214099884033203, -5.239200115203857, -5.021599769592285, -5.170000076293945, -5.094900131225586, -5.81220006942749, -5.418099880218506, -5.1930999755859375, -4.1803998947143555, -5.101099967956543, -4.892099857330322, -3.7739999294281006, -4.825399875640869, -4.049499988555908, -4.238500118255615, -5.041999816894531, -4.692399978637695, -4.919300079345703, -4.932600021362305, -4.993800163269043, -4.788400173187256, -5.261899948120117, -5.228300094604492, -5.362599849700928, -4.918499946594238, -5.779799938201904, -6.428299903869629, -5.671899795532227, -6.514400005340576, -6.593100070953369, -6.480599880218506, -6.686600208282471, -6.686600208282471, -6.686699867248535, -6.6869001388549805, -6.687399864196777, -6.458399772644043, -6.740799903869629, -6.850500106811523, -6.90910005569458, -6.96999979019165, -6.970200061798096, -6.970200061798096, -6.642199993133545, -6.361000061035156, -6.978600025177002, -7.041900157928467, -6.078100204467773, -6.547299861907959, -7.188499927520752, -7.189000129699707, -7.189700126647949, -7.189499855041504, -7.190100193023682, -5.089799880981445, -6.000100135803223, -4.802299976348877, -5.229000091552734, -5.830900192260742, -5.628600120544434, -5.377999782562256, -6.083199977874756, -3.786600112915039, -6.177800178527832, -5.95359992980957, -5.760700225830078, -5.742800235748291, -4.702600002288818, -5.833600044250488, -5.423600196838379, -4.99970006942749, -4.815999984741211, -6.055699825286865, -5.838200092315674, -3.378000020980835, -4.7555999755859375, -5.96560001373291, -4.029900074005127, -3.8801000118255615, -4.4847002029418945, -4.368500232696533, -5.00540018081665, -4.711400032043457, -5.411399841308594, -5.4309000968933105, -5.408899784088135, -4.927199840545654, -5.158299922943115, -5.065100193023682, -4.9583001136779785, -5.077000141143799, -4.777699947357178, -5.1975998878479, -5.254700183868408, -5.308899879455566, -5.250199794769287, -6.194399833679199, -6.287300109863281, -5.591100215911865, -6.570499897003174, -6.570499897003174, -6.107800006866455, -6.638999938964844, -6.638999938964844, -6.713799953460693, -6.19890022277832, -6.790200233459473, -6.877799987792969, -6.966599941253662, -6.966899871826172, -6.966899871826172, -6.966899871826172, -6.966899871826172, -6.967199802398682, -6.967199802398682, -6.968100070953369, -6.968599796295166, -6.968299865722656, -5.822199821472168, -7.1834001541137695, -7.183599948883057, -7.183700084686279, -7.184299945831299, -7.1844000816345215, -7.1844000816345215, -7.185299873352051, -4.955900192260742, -4.599999904632568, -6.38700008392334, -4.566500186920166, -5.213799953460693, -6.8282999992370605, -5.369200229644775, -6.570499897003174, -4.7683000564575195, -4.505899906158447, -5.628300189971924, -4.531000137329102, -5.311600208282471, -5.152900218963623, -5.900100231170654, -5.662700176239014, -4.993500232696533, -6.265600204467773, -5.8531999588012695, -5.400300025939941, -3.9221999645233154, -5.944900035858154, -5.4653000831604, -5.680300235748291, -5.282800197601318, -4.819499969482422, -4.844399929046631, -4.029399871826172, -4.792600154876709, -3.9156999588012695, -4.4207000732421875, -4.58459997177124, -4.124800205230713, -4.578400135040283, -4.9959001541137695, -5.217299938201904, -5.18720006942749, -4.815400123596191, -5.117599964141846, -5.4567999839782715, -5.444799900054932, -5.738800048828125, -5.814700126647949, -5.941999912261963, -6.034900188446045, -6.139800071716309, -6.317200183868408, -6.3180999755859375, -6.040800094604492, -6.3881001472473145, -5.456600189208984, -5.570000171661377, -6.543399810791016, -6.713600158691406, -6.714099884033203, -6.713900089263916, -6.714399814605713, -6.714000225067139, -6.7144999504089355, -4.807499885559082, -5.621600151062012, -4.354000091552734, -6.956999778747559, -7.059500217437744, -7.062300205230713, -7.062300205230713, -7.063399791717529, -7.076000213623047, -5.922599792480469, -6.5584001541137695, -5.5183000564575195, -5.814300060272217, -6.318900108337402, -4.4253997802734375, -5.46999979019165, -6.175600051879883, -5.54040002822876, -5.207900047302246, -5.384900093078613, -5.429800033569336, -6.329800128936768, -5.601399898529053, -6.25439977645874, -5.844900131225586, -5.076399803161621, -3.5785000324249268, -5.092299938201904, -3.9530999660491943, -4.8180999755859375, -5.240799903869629, -4.500100135803223, -5.364799976348877, -4.64870023727417, -5.11870002746582, -5.206900119781494, -5.117300033569336, -5.068999767303467, -5.357800006866455, -5.1066999435424805, -5.304900169372559, -5.406599998474121, -5.429599761962891, -5.452000141143799, -5.4984002113342285, -5.517499923706055, -4.81790018081665, -5.211999893188477, -5.27400016784668, -5.434100151062012, -4.936699867248535, -5.584499835968018, -5.670899868011475, -5.671299934387207, -5.723499774932861, -6.046999931335449, -6.047599792480469, -5.467800140380859, -6.115600109100342, -4.053500175476074, -6.266900062561035, -6.271500110626221, -4.018899917602539, -5.433300018310547, -6.443399906158447, -6.443999767303467, -6.443999767303467, -6.444699764251709, -6.445099830627441, -6.44980001449585, -5.924799919128418, -5.194499969482422, -6.660399913787842, -6.661099910736084, -6.661300182342529, -6.661600112915039, -5.672399997711182, -5.0472002029418945, -4.454699993133545, -4.951399803161621, -5.36359977722168, -5.670499801635742, -4.357699871063232, -5.537799835205078, -6.178699970245361, -5.703100204467773, -4.617599964141846, -4.664599895477295, -5.296800136566162, -3.8819000720977783, -5.3383002281188965, -5.418600082397461, -4.643099784851074, -5.133900165557861, -4.894800186157227, -5.072999954223633, -5.316199779510498, -5.158299922943115, -5.406300067901611, -5.434199810028076, -5.477799892425537], \"loglift\": [30.0, 29.0, 28.0, 27.0, 26.0, 25.0, 24.0, 23.0, 22.0, 21.0, 20.0, 19.0, 18.0, 17.0, 16.0, 15.0, 14.0, 13.0, 12.0, 11.0, 10.0, 9.0, 8.0, 7.0, 6.0, 5.0, 4.0, 3.0, 2.0, 1.0, 1.2894, 1.284, 1.284, 1.2795, 1.2787, 1.2784, 1.276, 1.2735, 1.2721, 1.2705, 1.2698, 1.2658, 1.2645, 1.2618, 1.2591, 1.2569, 1.2568, 1.2547, 1.2502, 1.2502, 1.2395, 1.2381, 1.2374, 1.2346, 1.2338, 1.2324, 1.2313, 1.2312, 1.2286, 1.2278, 1.1977, 1.2029, 1.1884, 1.1958, 1.2003, 1.0439, 1.0999, 0.8345, 1.1235, 1.1009, 1.1026, 1.1335, 0.8435, 1.0584, 0.5258, 0.9979, 0.2316, 0.3064, 0.0225, 0.9297, 0.6444, 0.5805, -0.1936, 0.7447, 0.2054, 0.5637, 0.2756, -0.0246, 0.1451, 0.4166, 0.2883, 0.3656, 0.4912, 0.6811, 2.2837, 2.2729, 2.2662, 2.2622, 2.2568, 2.2553, 2.2331, 2.2253, 2.2213, 2.2189, 2.2164, 2.2108, 2.2063, 2.2033, 2.1989, 2.1955, 2.1951, 2.189, 2.1836, 2.1832, 2.1819, 2.1785, 2.1758, 2.1755, 2.1719, 2.1679, 2.1675, 2.1673, 2.1606, 2.159, 2.1356, 2.1295, 2.0795, 2.1183, 2.1042, 1.938, 1.8491, 1.6183, 2.0458, 1.8172, 2.074, 1.5255, 1.2621, 0.6514, 1.8097, 1.8061, 1.4788, 0.9752, 0.1907, 0.222, 1.1144, 0.8428, 0.3899, 0.8173, 0.9079, 0.8187, -0.0379, 1.0144, 0.2254, 0.0484, 0.0868, 0.6304, 0.4321, 0.2594, 0.8274, 1.0055, -0.6625, 2.2863, 2.2854, 2.2772, 2.269, 2.2641, 2.2577, 2.2554, 2.2395, 2.2379, 2.2349, 2.2346, 2.2344, 2.2321, 2.2291, 2.2275, 2.2245, 2.2172, 2.2026, 2.2023, 2.2, 2.1976, 2.1974, 2.1972, 2.197, 2.197, 2.197, 2.197, 2.197, 2.197, 2.1954, 2.1947, 2.1526, 2.0671, 2.0993, 2.1051, 1.9176, 2.1566, 2.0803, 2.0401, 1.8571, 1.587, 1.8594, 1.8443, 1.679, 1.6196, 1.4355, 0.4367, 1.5489, 1.5187, 1.5226, 0.9313, -0.0368, 1.1306, 0.8337, 1.162, -0.2354, -0.0892, 0.9011, 0.7403, 0.6453, 0.8127, -0.1836, -0.8831, 0.7363, -0.0574, 0.2117, -0.3966, 2.3193, 2.3039, 2.2817, 2.2775, 2.2738, 2.271, 2.2641, 2.2606, 2.2482, 2.2451, 2.2373, 2.2373, 2.2373, 2.2372, 2.2369, 2.2368, 2.2336, 2.2303, 2.2165, 2.2089, 2.2, 2.1997, 2.1997, 2.1943, 2.1922, 2.1918, 2.1897, 2.1762, 2.1665, 2.1654, 2.1649, 2.155, 2.1285, 2.0553, 1.9768, 1.9737, 1.849, 2.031, 1.9058, 1.9257, 1.7459, 2.0383, 1.7797, 1.6982, 1.9448, 1.0333, 1.6716, 1.2983, 1.8013, 1.895, 1.2914, 1.9089, 1.5362, 1.3292, 1.4384, 1.741, -0.0157, 1.2869, -0.2835, 1.6556, -0.1549, 0.0163, 0.1342, -0.4767, 0.14, 0.2969, 1.3444, 0.224, -0.0491, -0.4328, 0.4995, 0.4336, 0.4082, -0.2858, 2.4485, 2.4401, 2.4326, 2.4213, 2.4143, 2.4117, 2.4104, 2.4033, 2.4016, 2.3967, 2.3921, 2.3889, 2.3888, 2.3861, 2.386, 2.3719, 2.3583, 2.347, 2.344, 2.342, 2.3403, 2.3379, 2.3298, 2.3293, 2.325, 2.3167, 2.316, 2.3128, 2.3126, 2.3076, 2.307, 2.3055, 2.3019, 2.2586, 2.2295, 2.0904, 1.9702, 1.9203, 2.0593, 1.8729, 1.9519, 1.9023, 1.8656, 1.6892, 1.2937, 0.5461, 0.8252, 0.8239, 0.0033, 1.4793, -0.4074, 1.1336, 0.7815, 1.1235, 0.1821, -0.8512, 0.3715, -0.1154, 0.2994, 2.4309, 2.4047, 2.3978, 2.3928, 2.3854, 2.3822, 2.3509, 2.345, 2.3336, 2.3194, 2.316, 2.307, 2.3032, 2.303, 2.2929, 2.2897, 2.2777, 2.275, 2.2749, 2.2748, 2.2748, 2.2748, 2.2748, 2.2746, 2.2746, 2.2745, 2.2745, 2.2741, 2.2735, 2.2698, 2.2692, 2.244, 2.2527, 2.2403, 2.2143, 2.2382, 2.0668, 2.0482, 1.9111, 2.1278, 2.0222, 2.1786, 1.6217, 1.987, 2.1126, 1.4581, 1.7811, 1.9214, 0.9479, 1.8482, 0.8802, 1.0826, 1.1298, 1.549, 1.1184, 1.9024, 1.05, 1.0296, 0.0401, 1.218, -0.0796, 0.0905, 0.6912, 0.7328, 1.4816, -0.2642, 1.0707, -0.5242, 0.0781, 0.5891, 1.4304, -0.0239, 0.836, 0.9161, -0.3756, 0.189, 0.393, 2.5408, 2.5264, 2.4897, 2.4879, 2.4661, 2.466, 2.4586, 2.4528, 2.4215, 2.4176, 2.4173, 2.4058, 2.4057, 2.4041, 2.3867, 2.3618, 2.3584, 2.3581, 2.358, 2.358, 2.358, 2.358, 2.3579, 2.357, 2.3569, 2.3563, 2.3539, 2.336, 2.3358, 2.3357, 2.3291, 2.3247, 2.3039, 2.2763, 2.3231, 2.3176, 2.3294, 2.1856, 2.303, 2.2595, 2.2909, 2.2628, 2.0836, 1.8372, 2.0686, 1.581, 1.8048, 1.7909, 2.1762, 1.9677, 1.8149, 1.8017, 1.6335, 1.6961, 1.6406, 1.9564, 1.7131, 1.5158, 0.5653, 1.2344, 1.0422, 0.0243, 0.9371, -0.2639, -0.1139, 0.6263, -0.2278, -0.0677, -0.2087, -0.31, -1.0928, 0.2799, -0.1486, -0.241, 2.5344, 2.5336, 2.4827, 2.4751, 2.4657, 2.464, 2.4632, 2.4525, 2.4524, 2.4524, 2.4522, 2.4519, 2.4487, 2.4417, 2.4256, 2.4178, 2.4098, 2.4096, 2.4095, 2.4081, 2.4066, 2.4002, 2.3933, 2.3911, 2.3874, 2.3697, 2.3692, 2.3688, 2.3686, 2.3681, 2.3614, 2.33, 2.25, 2.2618, 2.2842, 2.251, 2.1903, 2.2505, 1.7839, 2.254, 2.1644, 2.0653, 2.0541, 1.606, 2.0705, 1.8297, 1.605, 1.4796, 2.1064, 1.9528, 0.4202, 1.0942, 2.0078, 0.0947, -0.0945, 0.2609, 0.0962, 0.8594, 0.1401, 1.133, 1.0823, 0.9386, -0.2033, 0.2895, 0.0565, -0.2745, 0.0027, -1.0822, 0.2261, 0.3469, 0.4913, 0.1158, 2.7109, 2.7014, 2.6825, 2.6654, 2.6653, 2.6637, 2.6548, 2.6547, 2.6414, 2.6323, 2.6303, 2.6124, 2.5982, 2.598, 2.598, 2.598, 2.5979, 2.5976, 2.5976, 2.5972, 2.5968, 2.5966, 2.5911, 2.5514, 2.5511, 2.551, 2.5504, 2.5504, 2.5503, 2.5495, 2.5097, 2.3956, 2.4766, 2.1868, 2.2769, 2.4837, 2.1921, 2.4269, 1.9984, 1.8416, 2.1527, 1.7647, 2.0301, 1.8944, 2.1705, 2.0133, 1.6838, 2.2608, 2.0302, 1.7742, 0.8235, 2.0503, 1.6885, 1.8265, 1.426, 0.943, 0.9559, 0.0951, 0.8757, -0.1175, 0.3031, 0.4951, -0.3392, -0.1137, 0.6211, 0.6475, 0.4194, -1.1199, -0.266, 1.0246, 0.6648, 3.2106, 3.2021, 3.1853, 3.1742, 3.1574, 3.129, 3.1287, 3.1158, 3.1127, 3.0979, 3.0872, 3.0765, 3.0445, 3.0442, 3.044, 3.044, 3.0439, 3.0434, 3.0326, 3.0306, 3.0231, 2.9539, 2.9465, 2.9438, 2.9434, 2.9424, 2.9276, 2.9167, 2.9124, 2.8909, 2.842, 2.8415, 2.5674, 2.714, 2.7808, 2.607, 2.5151, 2.5037, 2.1972, 2.7772, 2.2081, 2.6898, 2.3596, 1.6066, 0.117, 1.5643, -0.1676, 0.6804, 1.2849, -0.0354, 1.3098, -0.8504, 0.3073, 0.5555, 0.0044, -0.2175, 0.7695, -0.4229, 0.1878, 0.6066, 0.5932, 0.6901, 0.7249, 0.2815, 3.4728, 3.4447, 3.4359, 3.4237, 3.4209, 3.4097, 3.3988, 3.3988, 3.3858, 3.3446, 3.3441, 3.343, 3.3322, 3.3159, 3.3029, 3.2984, 3.2867, 3.2663, 3.2649, 3.2643, 3.2643, 3.2639, 3.2637, 3.2616, 3.2566, 3.2239, 3.2097, 3.2088, 3.2086, 3.2085, 3.1915, 3.1223, 3.0787, 3.0598, 2.9959, 3.0556, 2.6604, 2.8847, 3.1372, 2.7235, 1.8804, 1.644, 2.2499, -0.0963, 1.9151, 2.004, 0.0407, 1.0886, -0.0433, 0.6215, 0.3873, -1.0337, 0.7032, 0.6075, 1.4213]}, \"token.table\": {\"Topic\": [9, 6, 9, 1, 2, 3, 4, 5, 6, 7, 8, 9, 10, 3, 8, 1, 2, 3, 7, 8, 9, 10, 6, 9, 9, 3, 6, 8, 9, 1, 2, 3, 4, 5, 6, 7, 8, 9, 10, 11, 2, 3, 4, 1, 4, 10, 1, 1, 7, 1, 6, 1, 5, 1, 3, 4, 8, 9, 11, 8, 2, 3, 4, 6, 7, 9, 11, 4, 10, 4, 7, 4, 6, 10, 8, 7, 11, 11, 8, 9, 8, 1, 4, 6, 9, 9, 1, 2, 4, 5, 9, 10, 6, 11, 2, 3, 4, 5, 7, 10, 1, 2, 3, 4, 6, 7, 8, 9, 10, 1, 2, 3, 4, 5, 7, 8, 10, 11, 1, 6, 3, 9, 1, 4, 5, 6, 11, 11, 4, 10, 1, 2, 6, 8, 9, 1, 2, 6, 7, 8, 9, 10, 4, 6, 7, 8, 10, 7, 2, 1, 1, 1, 2, 3, 4, 5, 6, 7, 8, 9, 10, 11, 2, 5, 7, 8, 9, 10, 2, 3, 5, 2, 5, 7, 3, 5, 7, 1, 2, 6, 7, 9, 10, 11, 3, 5, 6, 7, 9, 6, 9, 1, 2, 3, 4, 5, 6, 8, 10, 11, 9, 1, 4, 1, 10, 11, 1, 2, 3, 4, 5, 6, 7, 8, 10, 11, 6, 6, 9, 6, 8, 3, 9, 5, 1, 5, 3, 4, 7, 8, 10, 2, 10, 3, 9, 1, 2, 3, 4, 6, 8, 9, 10, 3, 4, 7, 1, 5, 8, 10, 11, 2, 11, 11, 1, 8, 11, 8, 2, 1, 2, 3, 4, 6, 11, 1, 2, 5, 6, 7, 9, 10, 11, 9, 9, 3, 7, 9, 1, 3, 7, 9, 11, 7, 5, 8, 10, 2, 6, 7, 9, 10, 9, 1, 6, 9, 1, 3, 6, 7, 9, 4, 1, 2, 3, 4, 5, 6, 7, 8, 9, 10, 11, 1, 2, 3, 4, 5, 6, 7, 8, 9, 10, 11, 6, 2, 3, 4, 6, 7, 8, 9, 7, 6, 1, 1, 3, 5, 6, 7, 8, 9, 10, 1, 2, 3, 4, 5, 6, 7, 8, 9, 10, 1, 2, 3, 6, 10, 1, 4, 6, 8, 10, 1, 2, 3, 6, 7, 8, 10, 1, 2, 3, 4, 6, 7, 8, 9, 10, 11, 2, 3, 6, 11, 10, 2, 3, 2, 1, 3, 4, 5, 10, 1, 2, 3, 4, 5, 6, 7, 8, 9, 10, 11, 2, 10, 1, 8, 1, 7, 5, 8, 10, 2, 1, 1, 2, 3, 4, 5, 6, 7, 8, 9, 10, 7, 2, 9, 1, 4, 5, 6, 7, 8, 9, 10, 10, 1, 4, 6, 7, 8, 9, 1, 2, 3, 7, 8, 8, 1, 4, 1, 2, 3, 4, 6, 7, 8, 9, 10, 11, 6, 1, 2, 3, 4, 5, 6, 7, 8, 9, 10, 11, 1, 2, 3, 4, 5, 6, 8, 9, 11, 1, 2, 3, 4, 6, 7, 8, 9, 11, 4, 3, 3, 6, 7, 8, 9, 3, 6, 7, 9, 3, 1, 2, 3, 4, 5, 6, 7, 8, 9, 10, 4, 6, 9, 3, 7, 9, 11, 4, 3, 6, 1, 3, 10, 1, 2, 3, 4, 5, 7, 8, 9, 10, 1, 2, 3, 4, 5, 6, 7, 10, 1, 2, 3, 4, 5, 6, 7, 8, 9, 10, 11, 1, 11, 9, 6, 6, 7, 8, 9, 1, 6, 7, 8, 2, 3, 9, 2, 7, 3, 3, 5, 7, 5, 7, 6, 8, 1, 2, 3, 4, 5, 6, 8, 9, 10, 1, 4, 6, 7, 1, 4, 6, 8, 1, 6, 8, 9, 10, 1, 2, 3, 4, 5, 6, 7, 8, 9, 10, 1, 4, 11, 1, 2, 3, 6, 11, 8, 10, 5, 8, 1, 4, 9, 7, 10, 1, 2, 3, 4, 5, 6, 8, 9, 10, 3, 2, 4, 8, 11, 7, 2, 7, 9, 1, 2, 3, 4, 7, 10, 1, 3, 6, 7, 10, 3, 6, 7, 9, 10, 4, 6, 8, 2, 4, 2, 6, 7, 9, 1, 2, 4, 5, 6, 7, 9, 10, 11, 2, 6, 2, 5, 8, 11, 1, 7, 7, 1, 2, 3, 4, 5, 6, 7, 8, 9, 10, 11, 5, 7, 8, 1, 2, 3, 4, 5, 6, 8, 10, 2, 2, 2, 2, 4, 5, 6, 7, 10, 1, 2, 3, 4, 5, 6, 10, 11, 1, 6, 3, 7, 1, 4, 6, 7, 8, 11, 3, 11, 1, 5, 6, 7, 8, 9, 10, 8, 4, 5, 3, 5, 1, 3, 5, 6, 7, 8, 9, 9, 8, 11, 2, 10, 2, 3, 1, 3, 4, 5, 6, 7, 8, 10, 10, 4, 6, 1, 2, 3, 4, 5, 6, 7, 8, 9, 10, 11, 4, 10, 1, 2, 3, 4, 6, 8, 9, 11, 1, 2, 3, 4, 5, 6, 7, 8, 9, 11, 11, 6, 2, 4, 6, 7, 9, 1, 3, 7, 10, 4, 7, 6, 1, 2, 3, 4, 5, 6, 7, 8, 9, 10, 11, 6, 3, 7, 2, 3, 7, 8, 9, 11, 1, 2, 8, 10, 11, 2, 3, 5, 6, 7, 5, 2, 2, 8, 7, 1, 6, 8, 9, 11, 11, 8, 9, 1, 2, 3, 4, 5, 6, 7, 8, 9, 10, 11, 1, 3, 11, 1, 2, 3, 4, 8, 1, 2, 4, 5, 6, 7, 8, 9, 10, 3, 3, 1, 3, 4, 6, 9, 10, 2, 3, 6, 8, 1, 4, 6, 1, 2, 3, 4, 6, 8, 9, 6, 8, 9, 1, 2, 3, 8, 9, 10, 1, 8, 1, 5, 11, 10, 1, 2, 3, 4, 5, 6, 8, 10, 5, 1, 5, 6, 11, 1, 7, 1, 2, 4, 5, 7, 10, 8, 2, 11, 3, 6, 8, 9, 5, 10, 11, 1, 1, 8, 1, 8, 1, 2, 3, 4, 6, 8, 9, 11, 7, 1, 2, 3, 4, 5, 6, 7, 8, 4, 11, 5, 7, 9, 1, 4, 1, 2, 3, 4, 5, 6, 3, 5, 6, 10, 11, 3, 8, 3, 1, 3, 4, 5, 6, 7, 8, 9, 10, 11, 1, 8, 10, 1, 2, 3, 4, 5, 6, 7, 8, 9, 10, 1, 2, 3, 4, 5, 6, 7, 8, 9, 10, 4, 1, 2, 3, 4, 5, 6, 7, 8, 9, 10, 11, 1, 2, 3, 4, 5, 9, 10, 4, 3, 1, 2, 3, 5, 6, 7, 8, 9, 10, 2, 4, 6, 7, 9, 2, 3, 1, 3, 5, 6, 7, 8, 9, 11, 2, 3, 1, 2, 3, 4, 6, 7, 8, 10, 6, 11, 5, 1, 2, 4, 3, 1, 4, 5, 6, 9, 10, 8, 11, 5, 2, 3, 4, 7, 9, 10, 4, 1, 4, 10, 9, 2, 1, 3, 4, 6, 9, 8, 10, 1, 6, 6, 1, 10, 4, 2, 3, 5, 7, 1, 5, 1, 2, 3, 4, 5, 6, 7, 8, 10, 8, 1, 4, 5, 3, 3, 6, 4, 1, 5, 6, 8, 6, 11, 3, 1, 2, 3, 4, 5, 6, 7, 8, 9, 10, 11, 1, 2, 5, 6, 7, 9, 10, 6, 6, 10, 1, 2, 4, 6, 8, 10, 1, 2, 3, 4, 5, 6, 7, 8, 9, 10, 11, 1, 2, 3, 4, 7, 3, 4, 5, 1, 2, 3, 4, 5, 6, 7, 8, 9, 11, 1, 5, 6, 11, 2, 5, 6, 7, 9, 10, 3, 9, 2, 7, 8, 9, 10, 1, 2, 3, 1, 3, 4, 5, 6, 7, 9, 10, 3, 4, 7, 8, 9, 11, 4, 1, 6, 7, 10, 7, 1, 3, 2, 9, 1, 2, 3, 6, 8, 2, 5, 10, 3, 2, 3, 6, 7, 9, 11, 2, 3, 6, 7, 9, 5, 6, 5, 7, 6, 10, 1, 3, 6, 9, 5, 7, 10, 4, 7, 11, 7, 6, 10, 9, 6, 7, 8, 3, 4, 6, 7, 9, 3, 9, 6, 1, 2, 3, 4, 5, 6, 7, 8, 9, 10, 11, 1, 2, 3, 5, 8, 10, 11, 1, 2, 3, 4, 5, 7, 9, 10, 11, 1, 2, 3, 4, 5, 6, 7, 8, 9, 10, 11, 1, 2, 4, 5, 6, 9, 1, 2, 3, 4, 5, 6, 7, 8, 10, 1, 3, 4, 7, 8, 10, 6, 8, 10, 1, 3, 4, 5, 6, 8, 9, 10, 11, 9, 10, 1, 2, 3, 4, 5, 6, 8, 9, 10, 11, 4, 2, 3, 6, 7, 9, 11, 7, 3, 6, 9, 11, 11, 6, 9, 4, 5, 6, 7, 10, 4, 7, 10, 4, 6, 9, 11, 7, 2, 7, 10, 2, 3, 5, 2, 6, 7, 3, 5, 5, 1, 3, 8, 11, 10, 1, 5, 10, 1, 5, 6, 7, 10, 1, 3, 4, 5, 6, 7, 8, 10, 4, 1, 3, 4, 6, 9, 6, 7, 4, 11, 4, 1, 2, 3, 4, 5, 7, 8, 10, 11, 1, 2, 3, 4, 5, 6, 7, 8, 9, 10, 3, 1, 9, 6, 8, 1, 3, 5, 8, 9, 10, 10, 3, 4, 11, 11, 1, 2, 4, 6, 7, 9, 5, 11, 2, 1, 2, 4, 1, 6, 1, 3, 4, 6, 8, 9, 11, 2, 7, 1, 2, 3, 4, 5, 6, 7, 8, 1, 2, 3, 4, 5, 6, 7, 8, 9, 10, 11, 10, 6, 8, 9, 5, 1, 2, 3, 4, 5, 6, 7, 8, 9, 10, 11, 1, 2, 3, 4, 5, 6, 7, 8, 9, 10, 11, 3, 5, 6, 7, 10, 1, 4, 6, 8, 10, 8, 4, 6, 8, 8, 7, 2, 7, 11, 2, 2, 7, 1, 4, 5, 6, 7, 8, 9, 10, 5, 9, 1, 2, 3, 4, 5, 6, 7, 8, 9, 11, 3, 4, 5, 8, 11, 1, 2, 3, 4, 5, 6, 7, 8, 9, 10, 11, 1, 7, 8, 9, 9, 8, 10, 1, 2, 3, 4, 7, 8, 11, 2, 3, 4, 5, 11, 6, 1, 2, 3, 4, 5, 6, 7, 8, 9, 10, 11, 7, 9, 9, 1, 2, 4, 5, 6, 8, 1, 2, 3, 4, 5, 7, 4, 5, 6, 8, 4, 4, 1, 4, 6, 6, 1, 2, 3, 4, 5, 7, 8, 9, 10, 5, 8, 9, 4, 1, 6, 9, 10, 11, 10, 1, 2, 3, 4, 5, 6, 7, 8, 9, 10, 1, 8, 1, 4, 5, 8, 9, 9, 1, 2, 3, 4, 5, 6, 7, 8, 9, 10, 11, 3, 4, 11, 1, 1, 2, 3, 4, 5, 6, 7, 8, 9, 11, 9, 1, 4, 2, 6, 10, 3, 11, 10, 1, 3, 4, 6, 7, 8, 9, 4, 3, 7, 3, 7, 8, 9, 6, 3, 1, 2, 4, 5, 6, 7, 8, 10, 2, 1, 2, 4, 5, 6, 8, 6, 4, 7, 5, 7, 5, 1, 2, 3, 4, 5, 6, 7, 8, 9, 10, 8, 1, 2, 4, 5, 8, 10, 1, 7, 8, 1, 2, 4, 5, 6, 7, 8, 10, 1, 6, 11, 6, 7, 10, 10, 6, 5, 8, 5, 7, 1, 3, 5, 6, 8, 11, 6, 9, 10, 3, 1, 4, 5, 6, 7, 8, 3, 6, 3, 6, 6, 9, 2, 1, 3, 4, 6, 7, 8, 10, 3, 9, 7, 1, 4, 6, 7, 8, 10, 11, 11, 3, 2, 7, 1, 6, 10, 2, 5, 6, 7, 8, 9, 10, 11, 1, 4, 10, 11, 6, 7, 1, 2, 3, 4, 5, 7, 8, 10, 5, 6, 8, 2, 7, 1, 2, 3, 4, 5, 6, 7, 8, 9, 10, 11, 3, 7], \"Freq\": [0.9117670976837946, 0.1621540148812086, 0.8107700744060429, 0.010151082894361974, 0.10151082894361975, 0.18271949209851554, 0.16241732630979158, 0.2030216578872395, 0.040604331577447896, 0.25377707235904934, 0.010151082894361974, 0.030453248683085923, 0.010151082894361974, 0.14920730172138869, 0.7460365086069435, 0.8386703580528139, 0.027053882517832705, 0.027053882517832705, 0.013526941258916353, 0.040580823776749056, 0.013526941258916353, 0.040580823776749056, 0.1231348835194737, 0.8619441846363158, 0.9118426289874447, 0.7811152989718017, 0.05207435326478677, 0.05207435326478677, 0.10414870652957355, 0.34565169641371296, 0.05148003989140405, 0.11031437119586583, 0.0956057883697504, 0.0956057883697504, 0.0661886227175195, 0.044125748478346334, 0.08825149695669267, 0.03677145706528861, 0.0661886227175195, 0.007354291413057722, 0.05044244585287312, 0.857521579498843, 0.05044244585287312, 0.20886198561191807, 0.6788014532387336, 0.10443099280595904, 0.9689576448780245, 0.9741870674867157, 0.7973494184967304, 0.9435711430537842, 0.7944583894594884, 0.1070528128702946, 0.8564225029623568, 0.10878638067005005, 0.5983250936852752, 0.02719659516751251, 0.05439319033502502, 0.13598297583756255, 0.05439319033502502, 0.8376502107406469, 0.10751818141637978, 0.07167878761091986, 0.3583939380545993, 0.14335757522183973, 0.2508757566382195, 0.03583939380545993, 0.05375909070818989, 0.9132290237583897, 0.057076813984899354, 0.15003837554039648, 0.7501918777019824, 0.6973691343013135, 0.06973691343013136, 0.13947382686026272, 0.9336299797822808, 0.8636284735835882, 0.9124820303959096, 0.9323257142527264, 0.6738475066319742, 0.22461583554399142, 0.9537868414815235, 0.2766512139725722, 0.06916280349314305, 0.10374420523971459, 0.5187210261985729, 0.9282282290286196, 0.14318392392081652, 0.1909118985610887, 0.047727974640272175, 0.09545594928054435, 0.47727974640272175, 0.047727974640272175, 0.10795658041225505, 0.7556960628857853, 0.25507055577876436, 0.470899487591565, 0.13734568388087312, 0.03924162396596375, 0.09810405991490938, 0.795373112979233, 0.3031417690231981, 0.023775825021427305, 0.01783186876607048, 0.14265495012856383, 0.09510330008570922, 0.09510330008570922, 0.12482308136249336, 0.1545428626392775, 0.04160769378749778, 0.1297505605701493, 0.03460014948537315, 0.08650037371343286, 0.10380044845611944, 0.570902466508657, 0.017300074742686574, 0.008650037371343287, 0.017300074742686574, 0.02595011211402986, 0.12176034432287554, 0.8523224102601288, 0.7812789224260228, 0.9118455365821, 0.8237296718856546, 0.009152551909840607, 0.10983062291808729, 0.027457655729521822, 0.027457655729521822, 0.695885317461781, 0.9679176680741093, 0.6220745538457187, 0.17231095885206107, 0.04923170252916031, 0.640012132879084, 0.09846340505832062, 0.024615851264580154, 0.04542992535877428, 0.04542992535877428, 0.16657639298217236, 0.39372601977604377, 0.1817197014350971, 0.06057323381169904, 0.10600315917047332, 0.6407092656568908, 0.04576494754692077, 0.09152989509384155, 0.1830597901876831, 0.04576494754692077, 0.8641334980000754, 0.8537503479074482, 0.9926523019531487, 0.9942831050302079, 0.30874324762051, 0.11641138844707753, 0.06579774129617426, 0.0911045648716259, 0.030368188290541966, 0.1619636708828905, 0.07592047072635491, 0.07085910601126459, 0.04049091772072262, 0.015184094145270983, 0.025306823575451637, 0.08422059498356337, 0.12633089247534504, 0.5895441648849435, 0.08422059498356337, 0.08422059498356337, 0.04211029749178168, 0.6008448609932828, 0.1264936549459543, 0.2529873098919086, 0.09675648883648642, 0.19351297767297285, 0.6772954218554049, 0.9367757975934388, 0.10896650906083222, 0.7627655634258255, 0.029536820084322134, 0.6202732217707648, 0.0443052301264832, 0.05907364016864427, 0.05907364016864427, 0.07384205021080534, 0.10337887029512748, 0.968152326514613, 0.9148655502567714, 0.1815684467353727, 0.1815684467353727, 0.5447053402061182, 0.7933959039977223, 0.7693619130778654, 0.05936509042979778, 0.3502540335358069, 0.21965083459025178, 0.14247621703151467, 0.09498414468767645, 0.02968254521489889, 0.023746036171919113, 0.047492072343838225, 0.02968254521489889, 0.7966647279215172, 0.11895051998745122, 0.8723038132413089, 0.9721572252165792, 0.020684196281203812, 0.695971692637077, 0.6352610389728589, 0.02310040141719487, 0.02695046832006068, 0.12705220779457177, 0.02695046832006068, 0.0038500669028658117, 0.01925033451432906, 0.08470147186304786, 0.02695046832006068, 0.02310040141719487, 0.8589691820402432, 0.7933978011920034, 0.7693133615054148, 0.7366503796131387, 0.7642625114369309, 0.47392277227660806, 0.5170066606653906, 0.9824324429942969, 0.9616992868305633, 0.03102255763969559, 0.06612013278676655, 0.5620211286875156, 0.16530033196691638, 0.06612013278676655, 0.1322402655735331, 0.23342706121478324, 0.7002811836443497, 0.85556661996271, 0.09506295777363444, 0.02297220770965643, 0.22397902516915016, 0.64322181587038, 0.017229155782242322, 0.017229155782242322, 0.005743051927414107, 0.05743051927414107, 0.005743051927414107, 0.09304677047697898, 0.8374209342928108, 0.09304677047697898, 0.12613588701889214, 0.06306794350944607, 0.6306794350944608, 0.12613588701889214, 0.06306794350944607, 0.7588738380234659, 0.9307612071217487, 0.8880196004552859, 0.25783718912135306, 0.709052270083721, 0.77325061127212, 0.7642269141526744, 0.8537133898163218, 0.2801161765114987, 0.19257987135165539, 0.03501452206393734, 0.43768152579921676, 0.03501452206393734, 0.01750726103196867, 0.023007996285837495, 0.06902398885751249, 0.11503998142918748, 0.20707196657253746, 0.06902398885751249, 0.32211194800172493, 0.11503998142918748, 0.06902398885751249, 0.9118527238988648, 0.7821642632902646, 0.7619554344086591, 0.16327616451614124, 0.054425388172047076, 0.020683548993576713, 0.434354528865111, 0.10341774496788357, 0.39298743087795757, 0.04136709798715343, 0.8129003886248898, 0.8046690383892691, 0.044703835466070506, 0.08940767093214101, 0.08629532455335434, 0.05753021636890289, 0.08629532455335434, 0.028765108184451445, 0.7478928127957376, 0.9117719212410736, 0.1936198617316981, 0.7744794469267924, 0.9117696754257424, 0.27457898072251874, 0.4435506611671457, 0.1267287603334702, 0.04224292011115673, 0.10560730027789182, 0.8638242893116459, 0.48887456342566493, 0.06267622608021346, 0.012535245216042691, 0.07521147129625615, 0.11281720694438423, 0.020892075360071153, 0.06685464115222768, 0.10028196172834153, 0.012535245216042691, 0.02924890550409961, 0.01671366028805692, 0.27981684036320914, 0.11890234009768094, 0.0911584607415554, 0.09274382527619114, 0.14426817265185288, 0.048353618306390254, 0.05786580551420473, 0.06817067498933707, 0.04280484243516514, 0.03012192615807917, 0.026158514821489808, 0.9025744447131203, 0.06724199507009411, 0.013448399014018822, 0.13448399014018822, 0.21517438422430116, 0.44379716746262116, 0.013448399014018822, 0.10758719211215058, 0.7973191461000154, 0.9155859855586221, 0.9509513631475821, 0.09782013443025617, 0.027948609837216046, 0.15371735410468826, 0.15371735410468826, 0.3773062328024166, 0.06987152459304012, 0.04192291475582407, 0.05589721967443209, 0.48024518238739017, 0.2303216691041565, 0.03430322731338501, 0.10290968194015504, 0.024502305223846436, 0.024502305223846436, 0.0392036883581543, 0.01960184417907715, 0.01960184417907715, 0.01960184417907715, 0.12428795829279399, 0.12428795829279399, 0.12428795829279399, 0.12428795829279399, 0.49715183317117595, 0.24699741465515707, 0.592793795172377, 0.04939948293103141, 0.016466494310343804, 0.08233247155171902, 0.1316060412420382, 0.1316060412420382, 0.1316060412420382, 0.0658030206210191, 0.0658030206210191, 0.0658030206210191, 0.3948181237261146, 0.05437185926457313, 0.040778894448429845, 0.013592964816143282, 0.15631909538564773, 0.4145854268923701, 0.21069095465022086, 0.033982412040358206, 0.040778894448429845, 0.040778894448429845, 0.006796482408071641, 0.7822168550482412, 0.1422212463724075, 0.07111062318620374, 0.8851699505959817, 0.7973081680277191, 0.9096820591466758, 0.11371025739333447, 0.9225852547154101, 0.895991111005481, 0.012107987986560554, 0.03632396395968166, 0.012107987986560554, 0.03632396395968166, 0.3508390112532438, 0.1510556854007022, 0.03410934831628759, 0.07796422472294307, 0.1169463370844146, 0.043854876406655474, 0.048727640451839416, 0.10720080899404671, 0.043854876406655474, 0.024363820225919708, 0.004872764045183942, 0.8514693184791726, 0.06549763988301328, 0.23772720414853551, 0.7131816124456065, 0.984388789476554, 0.011718914160435166, 0.9719897270767424, 0.869717459054826, 0.06212267564677328, 0.8900789287235646, 0.9776501050064892, 0.3670806941098202, 0.05244009915854574, 0.01748003305284858, 0.09177017352745505, 0.30590057842485013, 0.01748003305284858, 0.043700082632121454, 0.043700082632121454, 0.01748003305284858, 0.043700082632121454, 0.9003525556867115, 0.8329118006365744, 0.1784811001364088, 0.573387592539155, 0.0977365214555378, 0.01954730429110756, 0.22805188339625485, 0.01954730429110756, 0.026063072388143413, 0.01954730429110756, 0.013031536194071706, 0.6221568077491122, 0.023976401965130175, 0.6713392550236449, 0.023976401965130175, 0.023976401965130175, 0.16783481375591122, 0.07192920589539052, 0.12472271254456024, 0.020787118757426705, 0.12472271254456024, 0.020787118757426705, 0.706762037752508, 0.8376355500721849, 0.9696157277315852, 0.02254920297050198, 0.15613540152850577, 0.037472496366841385, 0.037472496366841385, 0.08743582485596323, 0.24981664244560922, 0.062454160611402305, 0.2248349782010483, 0.08119040879482299, 0.018736248183420692, 0.037472496366841385, 0.7369735657815297, 0.1781647696885915, 0.008098398622208704, 0.1943615669330089, 0.1862631683108002, 0.06478718897766964, 0.06478718897766964, 0.024295195866626113, 0.08908238484429574, 0.11337758071092185, 0.008098398622208704, 0.05668879035546093, 0.3523807212745235, 0.10571421638235706, 0.011746024042484118, 0.058730120212420585, 0.04698409616993647, 0.1292062644673253, 0.0704761442549047, 0.16444433659477764, 0.04698409616993647, 0.14582324462226978, 0.012680282141066937, 0.08876197498746856, 0.15216338569280324, 0.23458521960973833, 0.06974155177586815, 0.17752394997493712, 0.11412253926960243, 0.0063401410705334685, 0.811044361876092, 0.8290947639298061, 0.27765240803992874, 0.08329572241197863, 0.13882620401996437, 0.027765240803992876, 0.444243852863886, 0.1257198300146804, 0.0314299575036701, 0.0628599150073402, 0.7228890225844123, 0.882817269668734, 0.349611647275805, 0.041620434199500594, 0.04994452103940072, 0.3412875604359049, 0.01664817367980024, 0.10821312891870155, 0.02497226051970036, 0.04994452103940072, 0.00832408683990012, 0.00832408683990012, 0.46544609316657937, 0.07757434886109656, 0.42665891873603107, 0.7455408666740019, 0.05591556500055014, 0.14910817333480036, 0.03727704333370009, 0.8884805994592836, 0.14931061708725016, 0.7465530854362508, 0.10295739020710092, 0.10295739020710092, 0.7207017314497064, 0.17150708250233027, 0.10480988375142404, 0.06669719875090621, 0.20961976750284808, 0.2572606237534954, 0.12386622625168296, 0.009528171250129459, 0.009528171250129459, 0.04764085625064729, 0.11697752943234825, 0.10862199161575195, 0.03342215126638522, 0.12533306724894455, 0.5431099580787597, 0.008355537816596304, 0.050133226899577825, 0.008355537816596304, 0.018774817580502322, 0.27223485491728366, 0.10326149669276277, 0.06571186153175812, 0.056324452741506964, 0.11264890548301393, 0.15019854064401858, 0.11264890548301393, 0.07509927032200929, 0.028162226370753482, 0.009387408790251161, 0.1206406078101697, 0.8444842546711879, 0.7140487329377452, 0.8614621077797457, 0.8696688352615535, 0.033448801356213594, 0.033448801356213594, 0.033448801356213594, 0.12800186886781, 0.64000934433905, 0.1600023360847625, 0.064000934433905, 0.43215644874453474, 0.3061108178607121, 0.23408474306995633, 0.7807607072097047, 0.19519017680242617, 0.8957832916955383, 0.026435004478806135, 0.8723551478006024, 0.07930501343641841, 0.9514740013835223, 0.041368434842761835, 0.24069770404366397, 0.7220931121309919, 0.10876464178005028, 0.008366510906157714, 0.008366510906157714, 0.025099532718473143, 0.6023887852433554, 0.058565576343104, 0.041832554530788574, 0.08366510906157715, 0.07529859815541942, 0.02941144419648194, 0.17646866517889165, 0.05882288839296388, 0.7352861049120485, 0.08557931843888017, 0.7359821385743694, 0.0513475910633281, 0.11981104581443223, 0.2619938378498666, 0.1637461486561666, 0.06549845946246664, 0.36024152704356655, 0.09824768919369997, 0.07341629806712383, 0.04486551548546456, 0.0693376148411725, 0.07749498129307514, 0.008157366451902646, 0.24064231033112807, 0.36300280710966776, 0.09380971419688043, 0.016314732903805293, 0.008157366451902646, 0.9365608860714512, 0.011562480074956187, 0.04624992029982475, 0.7046295099640455, 0.02388574610047612, 0.02388574610047612, 0.04777149220095224, 0.19108596880380896, 0.7664222080627648, 0.8984366395193989, 0.08574362544595532, 0.8574362544595532, 0.9001340977664382, 0.040915186262110825, 0.040915186262110825, 0.8636250492796055, 0.7849623833306606, 0.10322235898831496, 0.05734575499350831, 0.1261606609857183, 0.04587660399480665, 0.5390500969389781, 0.03440745299610499, 0.022938301997403324, 0.04587660399480665, 0.03440745299610499, 0.7635459946591904, 0.36551991180302407, 0.052217130257574865, 0.5743884328333235, 0.052217130257574865, 0.9003491453420136, 0.06849410163052722, 0.684941016305272, 0.13698820326105443, 0.8266737649139821, 0.013777896081899704, 0.013777896081899704, 0.09644527257329792, 0.027555792163799407, 0.013777896081899704, 0.9394685648918008, 0.012280634835186937, 0.018420952252780405, 0.024561269670373875, 0.006140317417593469, 0.1934013566283141, 0.06446711887610469, 0.12893423775220939, 0.06446711887610469, 0.5157369510088375, 0.8096411705161016, 0.73714468824523, 0.16380993072116223, 0.8531899656399176, 0.8109446571179395, 0.8986564388475269, 0.35807970078373713, 0.5967995013062286, 0.023871980052249143, 0.015133882675518235, 0.6810247203983205, 0.02270082401327735, 0.015133882675518235, 0.02270082401327735, 0.06810247203983205, 0.08323635471535029, 0.0454016480265547, 0.05296858936431382, 0.9060292618190497, 0.07248234094552398, 0.028547086239334815, 0.08564125871800445, 0.05709417247866963, 0.7993184147013749, 0.975829411985117, 0.797739862312819, 0.797347932630453, 0.316629628847952, 0.1236363312644384, 0.090465608242272, 0.090465608242272, 0.0995121690664992, 0.0512638446706208, 0.060310405494848, 0.0784035271433024, 0.0422172838463936, 0.0361862432969088, 0.015077601373712, 0.15820560040773546, 0.7910280020386772, 0.7685259260125336, 0.0869295035258526, 0.0289765011752842, 0.0579530023505684, 0.6374830258562524, 0.0579530023505684, 0.0289765011752842, 0.0289765011752842, 0.0579530023505684, 0.9643026108856196, 0.9650998107051584, 0.9094839010799771, 0.0449889512088258, 0.15746132923089032, 0.2924281828573677, 0.0674834268132387, 0.4049005608794322, 0.0224944756044129, 0.2659408378173718, 0.04432347296956197, 0.04432347296956197, 0.1329704189086859, 0.04432347296956197, 0.04432347296956197, 0.3102643107869338, 0.08864694593912394, 0.9763128211772848, 0.011221986450313618, 0.2225277719244256, 0.7788472017354896, 0.025417554759861065, 0.22875799283874956, 0.05083510951972213, 0.05083510951972213, 0.4575159856774991, 0.20334043807888852, 0.17477893648040724, 0.699115745921629, 0.0048625265241170135, 0.8606671947687115, 0.053487791765287146, 0.03890021219293611, 0.0048625265241170135, 0.009725053048234027, 0.019450106096468054, 0.9010960874261338, 0.09635052229965681, 0.8671547006969114, 0.05485592089423904, 0.9325506552020636, 0.04205024992752082, 0.06307537489128123, 0.6728039988403332, 0.08410049985504164, 0.06307537489128123, 0.02102512496376041, 0.04205024992752082, 0.7822621834714995, 0.7642362682659546, 0.695875911774046, 0.32449841400707713, 0.6489968280141543, 0.8985576336956086, 0.03743990140398369, 0.5420235818257785, 0.20047447546980848, 0.022274941718867607, 0.03712490286477935, 0.01484996114591174, 0.00742498057295587, 0.11137470859433804, 0.06682482515660283, 0.7215874298615244, 0.898245392227174, 0.7933681670231064, 0.29435965418987936, 0.08994322766912981, 0.07767824207788483, 0.11856152738203475, 0.12264985591244974, 0.049059942364979896, 0.07358991354746984, 0.07358991354746984, 0.04088328530414991, 0.049059942364979896, 0.016353314121659964, 0.34228815333158, 0.68457630666316, 0.16927812902472913, 0.1818172496932276, 0.4639474647344428, 0.01880868100274768, 0.02507824133699691, 0.03761736200549536, 0.07523472401099073, 0.02507824133699691, 0.27281318748413763, 0.06200299715548582, 0.2976143863463319, 0.012400599431097163, 0.012400599431097163, 0.03720179829329149, 0.03720179829329149, 0.06200299715548582, 0.16120779260426313, 0.03720179829329149, 0.8626159424095003, 0.7934130220532982, 0.09134164612420238, 0.22835411531050595, 0.5023790536831131, 0.09134164612420238, 0.04567082306210119, 0.07895328572715668, 0.07895328572715668, 0.6316262858172534, 0.15790657145431336, 0.7654814541450737, 0.9212407683364344, 0.7365033340698024, 0.20562278474909895, 0.24542074308763423, 0.17909081252340878, 0.04643095139495783, 0.033164965282112734, 0.11939387501560585, 0.07296292362064802, 0.05969693750780292, 0.013265986112845093, 0.019898979169267642, 0.0066329930564225465, 0.8924819909426661, 0.763562356718012, 0.8220448395329227, 0.08312095184839338, 0.602626900900852, 0.10390118981049173, 0.020780237962098345, 0.14546166573468844, 0.020780237962098345, 0.06726414960138978, 0.06726414960138978, 0.03363207480069489, 0.16816037400347444, 0.6390094212132029, 0.8212216402170934, 0.12634179080262975, 0.8123534406397922, 0.20874892958105212, 0.7306212535336825, 0.8903189552288904, 0.8128400378335655, 0.13655075619215704, 0.8193045371529423, 0.863798885611463, 0.1289082929127315, 0.1289082929127315, 0.06445414645636575, 0.5800873181072917, 0.06445414645636575, 0.86963436162677, 0.8574430784444529, 0.9117668741308559, 0.33604371134283084, 0.10357511650977663, 0.06444673916163879, 0.10817845502132226, 0.07365341618473005, 0.055240062138547534, 0.06905007767318443, 0.08516176246359412, 0.04603338511545628, 0.029921700325046582, 0.027620031069273767, 0.8538878338581248, 0.055688336990747274, 0.07425111598766303, 0.7448355025884702, 0.011638054727944847, 0.16293276619122785, 0.023276109455889694, 0.05819027363972423, 0.05151063643060273, 0.09157446476551596, 0.03434042428706849, 0.18314892953103193, 0.17170212143534244, 0.1888723335788767, 0.06295744452629223, 0.1545319092918082, 0.06295744452629223, 0.8585231683696629, 0.85847742404334, 0.5607871239166787, 0.023863281868794838, 0.10738476840957677, 0.2386328186879484, 0.035794922803192256, 0.011931640934397419, 0.12712973768633892, 0.6992135572748641, 0.12712973768633892, 0.7641725013077493, 0.9093163765726655, 0.07131893149589533, 0.01782973287397383, 0.0462479160070213, 0.030831944004680867, 0.061663888009361734, 0.07707986001170217, 0.1849916640280852, 0.061663888009361734, 0.5241430480795747, 0.3453080117836768, 0.05755133529727947, 0.5179620176755152, 0.5196006055806224, 0.004723641868914749, 0.023618209344573742, 0.4440223356779864, 0.004723641868914749, 0.004723641868914749, 0.24778308336682525, 0.7433492501004758, 0.34083681611332256, 0.34083681611332256, 0.272669452890658, 0.8524115371212656, 0.24947843384031443, 0.27117221069599395, 0.16270332641759638, 0.14100954956191686, 0.010846888427839757, 0.010846888427839757, 0.11931577270623733, 0.032540665283519274, 0.9172924869251181, 0.9036798694427434, 0.021388872649532386, 0.010694436324766193, 0.05347218162383097, 0.9779186688929108, 0.8128705970176794, 0.07995046151854412, 0.599628461389081, 0.03997523075927206, 0.07995046151854412, 0.15990092303708825, 0.03997523075927206, 0.9260236376820666, 0.8199319365915088, 0.8884835294717142, 0.13750250416547818, 0.11785928928469558, 0.0785728595231304, 0.6482260910658257, 0.09337608023740274, 0.7470086418992219, 0.8130962798579989, 0.9818164819758699, 0.9615316716610219, 0.8376670260219521, 0.031031159004206738, 0.9309347701262022, 0.4077668797167032, 0.046337145422352635, 0.2316857271117632, 0.037069716337882114, 0.018534858168941057, 0.12047657809811686, 0.12047657809811686, 0.018534858168941057, 0.7973843286485102, 0.37215327013519217, 0.051687954185443356, 0.031012772511266013, 0.041350363348354686, 0.25843977092721676, 0.041350363348354686, 0.020675181674177343, 0.18607663506759609, 0.7654708324940908, 0.9381516158929758, 0.879759574267178, 0.726921970693119, 0.20769199162660543, 0.991079826840494, 0.8264724410067322, 0.06416028520704688, 0.09624042781057032, 0.03208014260352344, 0.5453624242598984, 0.06416028520704688, 0.16040071301761719, 0.08215880857090448, 0.16431761714180895, 0.16431761714180895, 0.08215880857090448, 0.41079404285452237, 0.8961189639412015, 0.7644739476662942, 0.8581199701960716, 0.7778140269364862, 0.020072620049973837, 0.027599852568714025, 0.010036310024986918, 0.08781771271863553, 0.015054465037480378, 0.017563542543727106, 0.025090775062467294, 0.010036310024986918, 0.007527232518740189, 0.900733522265133, 0.02729495522015555, 0.0545899104403111, 0.06771762531628703, 0.22398906835387247, 0.09376286582255126, 0.09897191392380411, 0.04688143291127563, 0.09897191392380411, 0.14064429873382692, 0.08334476962004557, 0.14064429873382692, 0.010418096202505696, 0.05003672575860864, 0.11258263295686943, 0.10007345151721728, 0.13760099583617375, 0.02501836287930432, 0.0625459071982608, 0.18763772159478237, 0.23767444735339102, 0.05003672575860864, 0.05003672575860864, 0.8981349061579355, 0.3614475805351294, 0.1069884838383983, 0.052048451597058634, 0.06939793546274484, 0.0578316128856207, 0.08096425803986898, 0.06361477417418278, 0.07518109675130691, 0.0983137419055552, 0.020241064509967245, 0.014457903221405175, 0.15669343807619798, 0.05876003927857424, 0.019586679759524748, 0.05876003927857424, 0.19586679759524747, 0.019586679759524748, 0.4700803142285939, 0.8262694802097628, 0.7635625261612661, 0.013995347401931498, 0.0979674318135205, 0.055981389607725994, 0.139953474019315, 0.0979674318135205, 0.139953474019315, 0.12595812661738348, 0.16794416882317798, 0.16794416882317798, 0.8528651731600713, 0.5580093690088112, 0.24261276913426572, 0.07278383074027972, 0.09704510765370629, 0.9603883292406691, 0.9370192209820699, 0.01027366527588577, 0.28766262772480156, 0.02054733055177154, 0.04109466110354308, 0.04109466110354308, 0.19519964024182962, 0.3801256152077735, 0.02054733055177154, 0.05281304423669601, 0.8978217520238322, 0.4202009118609201, 0.013131278495653754, 0.013131278495653754, 0.3414132408869976, 0.07878767097392252, 0.026262556991307508, 0.03939383548696126, 0.06565639247826877, 0.2544711119068479, 0.7634133357205437, 0.7700979197547617, 0.03547767765363023, 0.8159865860334954, 0.10643303296089071, 0.9047622581185909, 0.050495755970460944, 0.10099151194092189, 0.15148726791138284, 0.6059490716455314, 0.050495755970460944, 0.050495755970460944, 0.8748334566223067, 0.8907902535646874, 0.8323324023122912, 0.11982554372027611, 0.029956385930069027, 0.47930217488110444, 0.17973831558041417, 0.08986915779020709, 0.059912771860138055, 0.9129703183866045, 0.14779852294522186, 0.7882587890411832, 0.9110239144210087, 0.7693641595069339, 0.9508047649989447, 0.055919049987234994, 0.167757149961705, 0.11183809997446999, 0.5591904998723499, 0.11183809997446999, 0.10347570850235388, 0.827805668018831, 0.9320456405867023, 0.04335096002728848, 0.8617524252364667, 0.9862381497443624, 0.622370636751672, 0.8981318760733767, 0.08708315250483709, 0.00725692937540309, 0.8708315250483708, 0.02902771750161236, 0.02329240912098369, 0.9782811830813148, 0.44566964648965113, 0.02893958743439293, 0.03472750492127152, 0.3472750492127151, 0.023151669947514344, 0.04630333989502869, 0.04630333989502869, 0.01736375246063576, 0.011575834973757172, 0.8524579663360494, 0.3236548103042232, 0.6473096206084464, 0.8989232237880199, 0.9028709809484434, 0.8957955396600424, 0.7632407479435452, 0.8981494709871222, 0.05809416010983798, 0.9295065617574076, 0.7934101401862392, 0.8376494890421655, 0.16296817361806476, 0.7333567812812914, 0.7635355388971716, 0.37205877053505365, 0.09535960085142131, 0.08597996798078972, 0.09535960085142131, 0.028138898611894815, 0.08910651227100025, 0.05940434151400016, 0.08285342369057917, 0.05315125293357909, 0.034391987192315884, 0.004689816435315803, 0.027865385316396065, 0.027865385316396065, 0.5851730916443174, 0.09752884860738623, 0.2089903898729705, 0.013932692658198033, 0.027865385316396065, 0.7937203986975798, 0.7933914879666003, 0.7970870579014395, 0.47020167554927417, 0.08549121373623166, 0.22797656996328444, 0.04274560686811583, 0.028497071245410555, 0.1282368206043475, 0.2666368174750294, 0.1459690606615124, 0.07785016568613996, 0.10704397781844244, 0.1907329059310429, 0.025301303847995487, 0.05449511598029797, 0.05644137012245147, 0.01946254142153499, 0.02335504970584199, 0.031140066274455983, 0.9508105228918451, 0.5770314997280337, 0.08877407688123595, 0.26632223064370786, 0.044387038440617976, 0.9533894006454962, 0.7655902967935734, 0.9424950342335066, 0.11786326538337594, 0.018132810058980913, 0.09973045532439502, 0.15412888550133774, 0.4533202514745228, 0.009066405029490457, 0.018132810058980913, 0.018132810058980913, 0.009066405029490457, 0.09066405029490457, 0.1636429412502357, 0.08182147062511785, 0.1636429412502357, 0.4909288237507071, 0.7777440375193961, 0.02508851733933536, 0.05017703467867072, 0.07526555201800608, 0.02508851733933536, 0.02508851733933536, 0.8968051466978333, 0.08152774060889394, 0.19190717069864627, 0.2878607560479694, 0.04797679267466157, 0.04797679267466157, 0.4317911340719541, 0.11321699750045258, 0.8378057815033491, 0.022643399500090516, 0.01750470741416296, 0.01750470741416296, 0.10502824448497776, 0.05251412224248888, 0.0875235370708148, 0.6651788817381925, 0.03500941482832592, 0.01750470741416296, 0.4408616782110045, 0.020993413248143074, 0.27291437222585996, 0.10496706624071536, 0.10496706624071536, 0.020993413248143074, 0.8982462957215003, 0.9380047072503445, 0.0144308416500053, 0.0288616833000106, 0.0144308416500053, 0.8627723431572848, 0.9314201039948955, 0.8957507348524836, 0.8128411651272415, 0.7693502147654084, 0.31891290686895846, 0.18603252900689243, 0.03986411335861981, 0.06644018893103301, 0.37206505801378487, 0.8729925705010873, 0.05456203565631795, 0.05456203565631795, 0.9048379959584787, 0.1428767342741085, 0.4000548559675038, 0.028575346854821698, 0.08572604056446509, 0.3143288154030387, 0.014287673427410849, 0.3823342879265498, 0.5097790505687331, 0.04248158754739442, 0.06372238132109163, 0.8879219520209809, 0.21899259399619803, 0.6569777819885941, 0.9127017715689336, 0.0829728883244485, 0.41360900692673425, 0.5514786759023124, 0.8230419947074104, 0.09876503936488924, 0.03292167978829642, 0.03292167978829642, 0.819973531290374, 0.0819973531290374, 0.0819973531290374, 0.2028995709030645, 0.811598283612258, 0.8626817194860404, 0.9405691835398265, 0.12413382086365346, 0.6206691043182673, 0.769766578844979, 0.7159321710242771, 0.1431864342048554, 0.826884511059597, 0.04976638356805781, 0.04976638356805781, 0.5474302192486359, 0.24883191784028905, 0.04976638356805781, 0.8254864382774963, 0.11792663403964233, 0.7933996129169442, 0.3221026980395592, 0.10390409614179329, 0.05195204807089664, 0.020780819228358657, 0.09351368652761395, 0.1870273730552279, 0.031171228842537986, 0.020780819228358657, 0.10390409614179329, 0.020780819228358657, 0.031171228842537986, 0.0875372420876676, 0.0875372420876676, 0.0437686210438338, 0.0875372420876676, 0.5689920735698394, 0.0437686210438338, 0.0437686210438338, 0.015029310023745333, 0.12023448018996266, 0.045087930071236, 0.39076206061737867, 0.24046896037992532, 0.06011724009498133, 0.06011724009498133, 0.045087930071236, 0.015029310023745333, 0.2255789097428785, 0.18865140138639305, 0.14610448958435548, 0.05860235021790082, 0.03532196451489913, 0.08509382360407516, 0.07706610439614354, 0.113993612752629, 0.05298294677234869, 0.015252666495070077, 0.001605543841586324, 0.05601977173211454, 0.02800988586605727, 0.1260444863972577, 0.18206425812937224, 0.5461927743881168, 0.02800988586605727, 0.33951043111617196, 0.06062686269931642, 0.0727522352391797, 0.02425074507972657, 0.03637611761958985, 0.0727522352391797, 0.10912835285876955, 0.2182567057175391, 0.04850149015945314, 0.21990795931002924, 0.15393557151702045, 0.3518527348960468, 0.07696778575851022, 0.10995397965501462, 0.07696778575851022, 0.30174151912495645, 0.6638313420749042, 0.8278311702436469, 0.3261007079079766, 0.009881839633575048, 0.019763679267150096, 0.009881839633575048, 0.049409198167875236, 0.37550990607585183, 0.049409198167875236, 0.029645518900725143, 0.14822759450362571, 0.9227886680361133, 0.6223883300567309, 0.6016181205838635, 0.012277920828242113, 0.012277920828242113, 0.07366752496945268, 0.0982233666259369, 0.012277920828242113, 0.024555841656484226, 0.024555841656484226, 0.13505712911066323, 0.024555841656484226, 0.8618020255300619, 0.9318115134883159, 0.020308316052872075, 0.3858580050045694, 0.4670912692160577, 0.020308316052872075, 0.10154158026436037, 0.7973376289924938, 0.1067355867205773, 0.2134711734411546, 0.4803101402425979, 0.2134711734411546, 0.8883056857035131, 0.2907880496153687, 0.7269701240384218, 0.1626072737377521, 0.08130363686887605, 0.1626072737377521, 0.12195545530331407, 0.4471700027788183, 0.27912641477962724, 0.13956320738981362, 0.5582528295592545, 0.8623841696670458, 0.07050104407706745, 0.8460125289248094, 0.872529974125944, 0.7979059869674632, 0.16148341853286852, 0.16148341853286852, 0.6459336741314741, 0.07189969018342732, 0.07189969018342732, 0.8627962822011277, 0.9186458210051908, 0.7846104930847926, 0.09807631163559907, 0.05480492461064796, 0.9316837183810154, 0.8323435014531508, 0.12390720767086721, 0.06195360383543361, 0.8053968498606369, 0.9202193183345043, 0.8315237289442432, 0.05974314463700344, 0.8364040249180482, 0.05974314463700344, 0.08509981980984986, 0.08509981980984986, 0.17019963961969972, 0.5105989188590991, 0.12764972971477478, 0.05177380925716244, 0.10354761851432488, 0.06903174567621659, 0.10354761851432488, 0.20709523702864976, 0.41419047405729953, 0.05177380925716244, 0.017257936419054147, 0.765737595824398, 0.390604004349743, 0.06249664069595889, 0.0781208008699486, 0.015624160173989722, 0.4374764848717122, 0.8899322316147057, 0.7973469606822017, 0.32538174985358104, 0.5965332080648985, 0.7656428722602071, 0.34532238909471297, 0.2589917918210347, 0.08093493494407335, 0.04856096096644401, 0.11330890892170269, 0.07014361028486357, 0.02697831164802445, 0.00539566232960489, 0.04316529863683912, 0.02738946343180958, 0.451926146624858, 0.1232525854431431, 0.1506420488749527, 0.06847365857952395, 0.02738946343180958, 0.06847365857952395, 0.02738946343180958, 0.01369473171590479, 0.041084195147714365, 0.7635332164279091, 0.9789532388995298, 0.7693099299359424, 0.7770551913658141, 0.129509198560969, 0.7910803778063457, 0.012556831393751518, 0.012556831393751518, 0.16323880811876973, 0.012556831393751518, 0.025113662787503037, 0.7973460973682023, 0.19061156677839958, 0.06353718892613319, 0.6353718892613319, 0.773114818130728, 0.024118987005926386, 0.09647594802370554, 0.07235696101777916, 0.3376658180829694, 0.28942784407111666, 0.1688329090414847, 0.384156373389469, 0.6146501974231504, 0.8537394754929576, 0.0560610575333649, 0.0560610575333649, 0.8409158630004735, 0.9583631805511665, 0.7932756676390255, 0.09396495561766563, 0.2584036279485805, 0.09396495561766563, 0.07047371671324923, 0.046982477808832815, 0.3523685835662461, 0.07047371671324923, 0.8986309437733608, 0.8628326655189681, 0.6929136215119693, 0.03903738712743489, 0.029278040345576167, 0.13663085494602212, 0.009759346781858722, 0.03903738712743489, 0.019518693563717444, 0.048796733909293614, 0.34487656518899923, 0.12237555538964488, 0.07453783828278371, 0.08121286857676434, 0.08343787867475788, 0.06230028274381921, 0.0667503029398063, 0.0823253736257611, 0.06563779789080953, 0.005562525244983858, 0.010012545440970945, 0.7249903049782381, 0.10448266807390551, 0.6617235644680682, 0.20896533614781101, 0.7963594241205754, 0.2637836509851126, 0.10716210821270197, 0.03297295637313907, 0.0741891518395629, 0.16486478186569534, 0.0247297172798543, 0.10716210821270197, 0.08243239093284767, 0.05770267365299337, 0.0741891518395629, 0.008243239093284768, 0.6302322141063793, 0.01593690656360959, 0.03911786156522354, 0.07099167469244272, 0.055779172972633566, 0.07533810375524534, 0.02535416953301526, 0.02535416953301526, 0.01955893078261177, 0.04056667125282441, 0.002897619375201744, 0.10317700173888125, 0.17196166956480208, 0.13756933565184168, 0.5502773426073667, 0.03439233391296042, 0.04872378107962072, 0.09744756215924144, 0.2436189053981036, 0.5846853729554486, 0.797171030381376, 0.8085429472422786, 0.23276122261045745, 0.5819030565261436, 0.11638061130522873, 0.8524802288782883, 0.8641292407690084, 0.20869874834685795, 0.7304456192140029, 0.9377583532666728, 0.8902200413494126, 0.9292384439065612, 0.04424944970983625, 0.3966942439842981, 0.04407713822047756, 0.004897459802275285, 0.3526171057638205, 0.04897459802275285, 0.0636669774295787, 0.08815427644095512, 0.004897459802275285, 0.9282531889005291, 0.046412659445026455, 0.4618696520667321, 0.05064360220029957, 0.022283184968131812, 0.060772322640359484, 0.002025744088011983, 0.19649717653716234, 0.060772322640359484, 0.060772322640359484, 0.08102976352047932, 0.002025744088011983, 0.020089357825416636, 0.5022339456354159, 0.04017871565083327, 0.020089357825416636, 0.42187651433374934, 0.05215949021088198, 0.22602445758048859, 0.21733120921200827, 0.06085273857936231, 0.05215949021088198, 0.03477299347392132, 0.10431898042176396, 0.14778522226416563, 0.05215949021088198, 0.04346624184240165, 0.00869324836848033, 0.22531786144973145, 0.09012714457989258, 0.5858264397693018, 0.09012714457989258, 0.831770469872005, 0.9299335961873395, 0.8128801954701402, 0.030789421617295074, 0.06157884323459015, 0.1693418188951229, 0.5388148783026638, 0.09236826485188522, 0.06157884323459015, 0.015394710808647537, 0.053563977895341286, 0.026781988947670643, 0.026781988947670643, 0.10712795579068257, 0.7766776794824486, 0.9608327309606155, 0.2725138583713436, 0.12746615956078974, 0.11867538993590769, 0.04834923293685128, 0.1890015469349641, 0.03076769368708718, 0.03955846331196923, 0.057140002561733336, 0.03076769368708718, 0.07032615699905641, 0.017581539249764102, 0.9420005576221666, 0.7697142110707103, 0.7693628671632753, 0.06730261334074572, 0.056085511117288094, 0.011217102223457618, 0.5608551111728809, 0.28042755558644045, 0.022434204446915237, 0.022951929332001565, 0.4957616735712338, 0.2387000650528163, 0.09180771732800626, 0.04131347279760282, 0.10098848906080689, 0.7345835975100264, 0.061215299792502204, 0.12243059958500441, 0.061215299792502204, 0.9065884804272466, 0.9498361095058501, 0.2706350247936964, 0.6959186351837906, 0.038662146399099484, 0.8082488151522356, 0.22685217858278967, 0.09074087143311586, 0.09981495857642746, 0.09981495857642746, 0.22685217858278967, 0.04537043571655793, 0.09074087143311586, 0.04537043571655793, 0.07259269714649269, 0.8905520465164285, 0.25439292133550917, 0.7631787640065276, 0.860493315639422, 0.5118168922060103, 0.1505343800605913, 0.06021375202423652, 0.03010687601211826, 0.21074813208482782, 0.622137966291647, 0.12451119652474162, 0.3023843344172296, 0.09783022584086841, 0.053361941367746406, 0.09783022584086841, 0.133404853419366, 0.08893656894624401, 0.0177873137892488, 0.0711492551569952, 0.0088936568946244, 0.1155477342890516, 0.8088341400233612, 0.9575500089058767, 0.3045842528338238, 0.08702407223823537, 0.5221444334294122, 0.08702407223823537, 0.7693437873353526, 0.082814197109547, 0.0165628394219094, 0.018633194349648077, 0.2650054307505504, 0.031055323916080124, 0.21117620262934486, 0.1325027153752752, 0.09730668160371772, 0.13664342523075254, 0.010351774638693375, 0.002070354927738675, 0.22170254958442365, 0.11085127479221182, 0.6651076487532709, 0.9625957434391258, 0.41568306611635375, 0.009897215859913185, 0.0049486079299565925, 0.07917772687930548, 0.0049486079299565925, 0.2523790044277862, 0.03958886343965274, 0.07422911894934889, 0.10886937445904503, 0.009897215859913185, 0.7694018751735605, 0.03240398451966193, 0.9721195355898579, 0.20675312522762002, 0.20675312522762002, 0.62025937568286, 0.19993775810821218, 0.5998132743246366, 0.6221982820738929, 0.03901824847313577, 0.04877281059141971, 0.029263686354851826, 0.10730018330112337, 0.08779105906455548, 0.33165511202165404, 0.3511642362582219, 0.8981655167549903, 0.7676488242910859, 0.2020128484976542, 0.5914681717057856, 0.05914681717057856, 0.02957340858528928, 0.2957340858528928, 0.7934219548373386, 0.7635638654699018, 0.17961836547446233, 0.023949115396594976, 0.011974557698297488, 0.035923673094892465, 0.2035674808710573, 0.45503319253530455, 0.04789823079318995, 0.035923673094892465, 0.9308099312400296, 0.0968073730860193, 0.04840368654300965, 0.6292479250591254, 0.04840368654300965, 0.0968073730860193, 0.04840368654300965, 0.8577220305557076, 0.8848445256358142, 0.7973139209622419, 0.8403654003674033, 0.1368036698272517, 0.9671530522558998, 0.07184605567511558, 0.05747684454009246, 0.02873842227004623, 0.15806132248525429, 0.21553816702534673, 0.12932290021520804, 0.08621526681013869, 0.02873842227004623, 0.05747684454009246, 0.17243053362027738, 0.8516616524696932, 0.0738631182977338, 0.1477262365954676, 0.1477262365954676, 0.1107946774466007, 0.1477262365954676, 0.33238403233980207, 0.9777419797438566, 0.7557277006686907, 0.12595461677811512, 0.08221301068780318, 0.061659758015852384, 0.04110650534390159, 0.04110650534390159, 0.10276626335975397, 0.4521715587829175, 0.20553252671950795, 0.020553252671950795, 0.820432065974711, 0.05350643908530724, 0.1248483578657169, 0.703975842211337, 0.15643907604696378, 0.07821953802348189, 0.889510554553518, 0.8953097725747102, 0.9405321793012589, 0.8378406324417461, 0.8803627723708491, 0.13544042651859217, 0.02817619413610294, 0.05635238827220588, 0.22540955308882352, 0.4789953003137499, 0.08452858240830881, 0.11270477654441176, 0.7934346098504333, 0.8120567895012054, 0.11600811278588649, 0.8958079129212142, 0.08382676622930857, 0.08382676622930857, 0.6496574382771414, 0.06287007467198143, 0.12574014934396285, 0.8524740452683839, 0.8065678265770209, 0.13442797109617013, 0.16355530697854384, 0.8177765348927192, 0.7933994285529712, 0.8648818891549878, 0.9554244205603132, 0.12255641970477389, 0.01114149270043399, 0.2339713467091138, 0.08913194160347192, 0.4679426934182276, 0.04456597080173596, 0.02228298540086798, 0.7635321172035107, 0.9227726205415289, 0.7973145967072159, 0.2844382654478402, 0.5119888778061122, 0.07585020411942404, 0.03792510205971202, 0.05688765308956803, 0.01896255102985601, 0.8880152707304675, 0.6959889879601561, 0.7635829428059241, 0.8541500164655286, 0.9626085803359806, 0.04570407692188945, 0.1828163076875578, 0.7312652307502312, 0.014745455181916466, 0.11796364145533172, 0.14745455181916464, 0.3391454691840787, 0.014745455181916466, 0.2506727380925799, 0.0884727310914988, 0.02949091036383293, 0.9784109582273465, 0.9393106660013365, 0.9116490960088222, 0.8880412429335452, 0.06925358285805536, 0.8310429942966643, 0.23271030446420884, 0.2160881398596225, 0.016622164604586348, 0.06648865841834539, 0.36568762130089966, 0.04986649381375904, 0.033244329209172696, 0.016622164604586348, 0.7691806911272343, 0.12819678185453906, 0.06409839092726953, 0.16423671859420114, 0.8211835929710057, 0.30506567857607464, 0.08621421351062979, 0.07958235093288904, 0.1127416638215928, 0.01989558773322226, 0.14590097671029656, 0.06631862577740753, 0.07958235093288904, 0.07295048835514828, 0.01989558773322226, 0.013263725155481507, 0.7637952936476042, 0.7973768939357007], \"Term\": [\"ablation\", \"academic\", \"academic\", \"accessory\", \"accessory\", \"accessory\", \"accessory\", \"accessory\", \"accessory\", \"accessory\", \"accessory\", \"accessory\", \"accessory\", \"accident\", \"accident\", \"account\", \"account\", \"account\", \"account\", \"account\", \"account\", \"account\", \"acetate\", \"acetate\", \"acetyl\", \"acute\", \"acute\", \"acute\", \"acute\", \"addition\", \"addition\", \"addition\", \"addition\", \"addition\", \"addition\", \"addition\", \"addition\", \"addition\", \"addition\", \"addition\", \"adult\", \"adult\", \"adult\", \"advertising\", \"advertising\", \"advertising\", \"advice\", \"advisory\", \"aerial\", \"affluent\", \"aflac\", \"aggregate\", \"aggregate\", \"agreement\", \"agreement\", \"agreement\", \"agreement\", \"agreement\", \"agreement\", \"agx\", \"air\", \"air\", \"air\", \"air\", \"air\", \"air\", \"air\", \"aircraft\", \"aircraft\", \"airframe\", \"airframe\", \"airline\", \"airline\", \"airline\", \"allstate\", \"alternator\", \"alxn\", \"amd\", \"amplifier\", \"amplifier\", \"analog\", \"analytical\", \"analytical\", \"analytical\", \"analytical\", \"analyzer\", \"animal\", \"animal\", \"animal\", \"animal\", \"animal\", \"animal\", \"apartment\", \"apartment\", \"apparel\", \"apparel\", \"apparel\", \"apparel\", \"apparel\", \"appliances\", \"application\", \"application\", \"application\", \"application\", \"application\", \"application\", \"application\", \"application\", \"application\", \"approximately\", \"approximately\", \"approximately\", \"approximately\", \"approximately\", \"approximately\", \"approximately\", \"approximately\", \"approximately\", \"architecture\", \"architecture\", \"arthritis\", \"assay\", \"asset\", \"asset\", \"asset\", \"asset\", \"asset\", \"athlon\", \"audience\", \"audit\", \"automation\", \"automation\", \"automation\", \"automation\", \"automation\", \"automotive\", \"automotive\", \"automotive\", \"automotive\", \"automotive\", \"automotive\", \"automotive\", \"aviation\", \"aviation\", \"aviation\", \"aviation\", \"aviation\", \"backhoe\", \"bake\", \"bank\", \"banking\", \"base\", \"base\", \"base\", \"base\", \"base\", \"base\", \"base\", \"base\", \"base\", \"base\", \"base\", \"battery\", \"battery\", \"battery\", \"battery\", \"battery\", \"battery\", \"beauty\", \"beauty\", \"beauty\", \"bed\", \"bed\", \"bed\", \"behavioral\", \"belt\", \"belt\", \"beverage\", \"beverage\", \"beverage\", \"beverage\", \"beverage\", \"beverage\", \"beverage\", \"biib\", \"biomass\", \"biotechnology\", \"biotechnology\", \"biotechnology\", \"blowout\", \"brachytherapy\", \"brand\", \"brand\", \"brand\", \"brand\", \"brand\", \"brand\", \"brand\", \"brand\", \"brand\", \"breast\", \"broadcast\", \"broadcast\", \"brokerage\", \"brokerage\", \"bromine\", \"business\", \"business\", \"business\", \"business\", \"business\", \"business\", \"business\", \"business\", \"business\", \"business\", \"calibration\", \"calibrators\", \"calorimetry\", \"campus\", \"canal\", \"cancer\", \"cancer\", \"capacity\", \"capital\", \"capital\", \"car\", \"car\", \"car\", \"car\", \"car\", \"carbonate\", \"carbonate\", \"cardiovascular\", \"cardiovascular\", \"care\", \"care\", \"care\", \"care\", \"care\", \"care\", \"care\", \"care\", \"cargo\", \"cargo\", \"cargo\", \"caribbean\", \"caribbean\", \"caribbean\", \"caribbean\", \"caribbean\", \"carling\", \"casino\", \"casinos\", \"casualty\", \"casualty\", \"catalyst\", \"celebrity\", \"cereal\", \"channel\", \"channel\", \"channel\", \"channel\", \"channel\", \"channel\", \"chemical\", \"chemical\", \"chemical\", \"chemical\", \"chemical\", \"chemical\", \"chemical\", \"chemical\", \"chipotle\", \"chromatography\", \"chronic\", \"chronic\", \"chronic\", \"clinical\", \"clinical\", \"clinical\", \"clinical\", \"clinical\", \"clutch\", \"coal\", \"coal\", \"coal\", \"coating\", \"coating\", \"coating\", \"coating\", \"coating\", \"coca\", \"coil\", \"coil\", \"cola\", \"collaboration\", \"collaboration\", \"collaboration\", \"collaboration\", \"collaboration\", \"command\", \"commercial\", \"commercial\", \"commercial\", \"commercial\", \"commercial\", \"commercial\", \"commercial\", \"commercial\", \"commercial\", \"commercial\", \"commercial\", \"company\", \"company\", \"company\", \"company\", \"company\", \"company\", \"company\", \"company\", \"company\", \"company\", \"company\", \"completion\", \"component\", \"component\", \"component\", \"component\", \"component\", \"component\", \"component\", \"conductance\", \"configure\", \"connection\", \"construction\", \"construction\", \"construction\", \"construction\", \"construction\", \"construction\", \"construction\", \"construction\", \"consumer\", \"consumer\", \"consumer\", \"consumer\", \"consumer\", \"consumer\", \"consumer\", \"consumer\", \"consumer\", \"consumer\", \"container\", \"container\", \"container\", \"container\", \"container\", \"content\", \"content\", \"content\", \"content\", \"content\", \"contractor\", \"contractor\", \"contractor\", \"contractor\", \"contractor\", \"contractor\", \"contractor\", \"control\", \"control\", \"control\", \"control\", \"control\", \"control\", \"control\", \"control\", \"control\", \"control\", \"convenience\", \"convenience\", \"convenience\", \"convention\", \"conversation\", \"cookware\", \"cookware\", \"coors\", \"corporate\", \"corporate\", \"corporate\", \"corporate\", \"corporate\", \"corporation\", \"corporation\", \"corporation\", \"corporation\", \"corporation\", \"corporation\", \"corporation\", \"corporation\", \"corporation\", \"corporation\", \"corporation\", \"corrugate\", \"corrugate\", \"coverage\", \"coverage\", \"credit\", \"credit\", \"crude\", \"cruise\", \"cruise\", \"cryovac\", \"custody\", \"customer\", \"customer\", \"customer\", \"customer\", \"customer\", \"customer\", \"customer\", \"customer\", \"customer\", \"customer\", \"cystic\", \"dairy\", \"dairy\", \"data\", \"data\", \"data\", \"data\", \"data\", \"data\", \"data\", \"data\", \"decoration\", \"defense\", \"defense\", \"defense\", \"defense\", \"defense\", \"defense\", \"dental\", \"dental\", \"dental\", \"dental\", \"dental\", \"dentsply\", \"deposit\", \"deposit\", \"design\", \"design\", \"design\", \"design\", \"design\", \"design\", \"design\", \"design\", \"design\", \"design\", \"detach\", \"develop\", \"develop\", \"develop\", \"develop\", \"develop\", \"develop\", \"develop\", \"develop\", \"develop\", \"develop\", \"develop\", \"development\", \"development\", \"development\", \"development\", \"development\", \"development\", \"development\", \"development\", \"development\", \"device\", \"device\", \"device\", \"device\", \"device\", \"device\", \"device\", \"device\", \"device\", \"dexcom\", \"diabetes\", \"diagnostic\", \"diagnostic\", \"diagnostic\", \"diagnostic\", \"diagnostic\", \"diagnostics\", \"diagnostics\", \"diagnostics\", \"diagnostics\", \"dialysis\", \"digital\", \"digital\", \"digital\", \"digital\", \"digital\", \"digital\", \"digital\", \"digital\", \"digital\", \"digital\", \"discovery\", \"discovery\", \"discovery\", \"disease\", \"disease\", \"disease\", \"disease\", \"disney\", \"dispense\", \"dispense\", \"disposal\", \"disposal\", \"disposal\", \"distribute\", \"distribute\", \"distribute\", \"distribute\", \"distribute\", \"distribute\", \"distribute\", \"distribute\", \"distribute\", \"distribution\", \"distribution\", \"distribution\", \"distribution\", \"distribution\", \"distribution\", \"distribution\", \"distribution\", \"distributor\", \"distributor\", \"distributor\", \"distributor\", \"distributor\", \"distributor\", \"distributor\", \"distributor\", \"distributor\", \"distributor\", \"distributor\", \"dividend\", \"dividend\", \"dna\", \"downhole\", \"drill\", \"drill\", \"drill\", \"drill\", \"drive\", \"drive\", \"drive\", \"drive\", \"drug\", \"drug\", \"drug\", \"dry\", \"dry\", \"edema\", \"electric\", \"electric\", \"electric\", \"electricity\", \"electricity\", \"embed\", \"embed\", \"energy\", \"energy\", \"energy\", \"energy\", \"energy\", \"energy\", \"energy\", \"energy\", \"energy\", \"engine\", \"engine\", \"engine\", \"engine\", \"entertainment\", \"entertainment\", \"entertainment\", \"entertainment\", \"environmental\", \"environmental\", \"environmental\", \"environmental\", \"environmental\", \"equipment\", \"equipment\", \"equipment\", \"equipment\", \"equipment\", \"equipment\", \"equipment\", \"equipment\", \"equipment\", \"equipment\", \"equity\", \"equity\", \"equity\", \"estate\", \"estate\", \"estate\", \"estate\", \"estate\", \"ethernet\", \"etsy\", \"excess\", \"excess\", \"exchange\", \"exchange\", \"exchange\", \"exhaust\", \"expedia\", \"facility\", \"facility\", \"facility\", \"facility\", \"facility\", \"facility\", \"facility\", \"facility\", \"facility\", \"ferrous\", \"fiber\", \"fiber\", \"fiber\", \"fiber\", \"fibrosis\", \"filtration\", \"filtration\", \"filtration\", \"finance\", \"finance\", \"finance\", \"finance\", \"finance\", \"finance\", \"financial\", \"financial\", \"financial\", \"financial\", \"financial\", \"finish\", \"finish\", \"finish\", \"finish\", \"finish\", \"fit\", \"flash\", \"flash\", \"flavor\", \"fleece\", \"flour\", \"fluid\", \"fluid\", \"fluid\", \"food\", \"food\", \"food\", \"food\", \"food\", \"food\", \"food\", \"food\", \"food\", \"foodservice\", \"foodservice\", \"foot\", \"foot\", \"foot\", \"foot\", \"foreign\", \"forestry\", \"forklifts\", \"found\", \"found\", \"found\", \"found\", \"found\", \"found\", \"found\", \"found\", \"found\", \"found\", \"found\", \"founded\", \"founded\", \"fpga\", \"freight\", \"freight\", \"freight\", \"freight\", \"freight\", \"freight\", \"freight\", \"freight\", \"fresh\", \"frozen\", \"fruit\", \"fuel\", \"fuel\", \"fuel\", \"fuel\", \"fuel\", \"fuel\", \"full\", \"full\", \"full\", \"full\", \"full\", \"full\", \"full\", \"full\", \"fund\", \"fund\", \"furniture\", \"furniture\", \"game\", \"game\", \"game\", \"game\", \"game\", \"game\", \"gaming\", \"gaming\", \"gas\", \"gas\", \"gas\", \"gas\", \"gas\", \"gas\", \"gas\", \"gate\", \"gather\", \"gather\", \"generate\", \"generate\", \"generation\", \"generation\", \"generation\", \"generation\", \"generation\", \"generation\", \"generation\", \"genetic\", \"gpu\", \"gpus\", \"grain\", \"grain\", \"grocery\", \"grocery\", \"group\", \"group\", \"group\", \"group\", \"group\", \"group\", \"group\", \"group\", \"half\", \"hcm\", \"hdds\", \"headquarter\", \"headquarter\", \"headquarter\", \"headquarter\", \"headquarter\", \"headquarter\", \"headquarter\", \"headquarter\", \"headquarter\", \"headquarter\", \"headquarter\", \"headquarters\", \"headquarters\", \"health\", \"health\", \"health\", \"health\", \"health\", \"health\", \"health\", \"health\", \"healthcare\", \"healthcare\", \"healthcare\", \"healthcare\", \"healthcare\", \"healthcare\", \"healthcare\", \"healthcare\", \"healthcare\", \"healthcare\", \"healthpeak\", \"heartland\", \"heat\", \"heat\", \"heat\", \"heat\", \"heat\", \"heavy\", \"heavy\", \"heavy\", \"heavy\", \"heets\", \"hoist\", \"hole\", \"home\", \"home\", \"home\", \"home\", \"home\", \"home\", \"home\", \"home\", \"home\", \"home\", \"home\", \"homebuilding\", \"homesense\", \"hose\", \"hospital\", \"hospital\", \"hospital\", \"hospital\", \"hospital\", \"hospital\", \"hotel\", \"hotel\", \"hotel\", \"hotel\", \"hotel\", \"household\", \"household\", \"hut\", \"hydraulic\", \"hydraulic\", \"hydroelectric\", \"hygiene\", \"ic\", \"ic\", \"ignition\", \"image\", \"image\", \"image\", \"image\", \"image\", \"impella\", \"implant\", \"implantable\", \"include\", \"include\", \"include\", \"include\", \"include\", \"include\", \"include\", \"include\", \"include\", \"include\", \"include\", \"income\", \"income\", \"income\", \"individual\", \"individual\", \"individual\", \"individual\", \"individual\", \"industrial\", \"industrial\", \"industrial\", \"industrial\", \"industrial\", \"industrial\", \"industrial\", \"industrial\", \"industrial\", \"infection\", \"inflammatory\", \"information\", \"information\", \"information\", \"information\", \"information\", \"information\", \"injection\", \"injection\", \"injection\", \"injury\", \"institutional\", \"institutional\", \"institutional\", \"instrument\", \"instrument\", \"instrument\", \"instrument\", \"instrument\", \"instrument\", \"instrument\", \"instrumentation\", \"instrumentation\", \"instrumentation\", \"insurance\", \"insurance\", \"insurance\", \"insurance\", \"insurance\", \"insurance\", \"integrated\", \"integrated\", \"interest\", \"interest\", \"interest\", \"intermodal\", \"international\", \"international\", \"international\", \"international\", \"international\", \"international\", \"international\", \"international\", \"interstate\", \"investment\", \"investment\", \"investment\", \"investment\", \"investor\", \"invisalign\", \"item\", \"item\", \"item\", \"item\", \"item\", \"item\", \"itinerary\", \"juice\", \"kla\", \"laboratory\", \"laboratory\", \"laboratory\", \"laboratory\", \"landfill\", \"landfill\", \"large\", \"lend\", \"lending\", \"length\", \"liability\", \"liability\", \"life\", \"life\", \"life\", \"life\", \"life\", \"life\", \"life\", \"life\", \"lifts\", \"line\", \"line\", \"line\", \"line\", \"line\", \"line\", \"line\", \"line\", \"listen\", \"lithium\", \"lng\", \"loader\", \"loader\", \"loan\", \"locomotive\", \"logistics\", \"logistics\", \"logistics\", \"logistics\", \"logistics\", \"logistics\", \"luxury\", \"luxury\", \"luxury\", \"luxury\", \"luxury\", \"lymphoma\", \"macao\", \"macular\", \"management\", \"management\", \"management\", \"management\", \"management\", \"management\", \"management\", \"management\", \"management\", \"management\", \"manager\", \"manager\", \"manager\", \"manufacture\", \"manufacture\", \"manufacture\", \"manufacture\", \"manufacture\", \"manufacture\", \"manufacture\", \"manufacture\", \"manufacture\", \"manufacture\", \"manufacturer\", \"manufacturer\", \"manufacturer\", \"manufacturer\", \"manufacturer\", \"manufacturer\", \"manufacturer\", \"manufacturer\", \"manufacturer\", \"manufacturer\", \"mapmyfitness\", \"market\", \"market\", \"market\", \"market\", \"market\", \"market\", \"market\", \"market\", \"market\", \"market\", \"market\", \"marketing\", \"marketing\", \"marketing\", \"marketing\", \"marketing\", \"marketing\", \"marketing\", \"marlboro\", \"marshall\", \"material\", \"material\", \"material\", \"material\", \"material\", \"material\", \"material\", \"material\", \"material\", \"meal\", \"measurement\", \"measurement\", \"measurement\", \"measurement\", \"meat\", \"medicaid\", \"medical\", \"medical\", \"medical\", \"medical\", \"medical\", \"medical\", \"medical\", \"medical\", \"medicine\", \"medicine\", \"medium\", \"medium\", \"medium\", \"medium\", \"medium\", \"medium\", \"medium\", \"medium\", \"meet\", \"meet\", \"megawatts\", \"merchandise\", \"merchandise\", \"merchandise\", \"metastatic\", \"meter\", \"meter\", \"meter\", \"meter\", \"meter\", \"meter\", \"microcontrollers\", \"microprocessor\", \"midstream\", \"military\", \"military\", \"military\", \"military\", \"military\", \"military\", \"missile\", \"mission\", \"mission\", \"modelo\", \"modulate\", \"molson\", \"monitoring\", \"monitoring\", \"monitoring\", \"monitoring\", \"monitoring\", \"monster\", \"monster\", \"mortgage\", \"mortgage\", \"move\", \"mutual\", \"mva\", \"myfitnesspal\", \"natural\", \"natural\", \"natural\", \"natural\", \"netapp\", \"netapp\", \"network\", \"network\", \"network\", \"network\", \"network\", \"network\", \"network\", \"network\", \"network\", \"neurotechnology\", \"news\", \"news\", \"ngl\", \"nike\", \"nonferrous\", \"norfolk\", \"nortonlifelock\", \"nuclear\", \"nuclear\", \"nvhomes\", \"nvidia\", \"nyse\", \"nyse\", \"occlusion\", \"offer\", \"offer\", \"offer\", \"offer\", \"offer\", \"offer\", \"offer\", \"offer\", \"offer\", \"offer\", \"offer\", \"oil\", \"oil\", \"oil\", \"oil\", \"oil\", \"oil\", \"oil\", \"oilfield\", \"oilwell\", \"omaha\", \"online\", \"online\", \"online\", \"online\", \"online\", \"online\", \"operate\", \"operate\", \"operate\", \"operate\", \"operate\", \"operate\", \"operate\", \"operate\", \"operate\", \"operate\", \"operate\", \"oracle\", \"outdoor\", \"outdoor\", \"outdoor\", \"outdoor\", \"outpatient\", \"overhaul\", \"overhead\", \"own\", \"own\", \"own\", \"own\", \"own\", \"own\", \"own\", \"own\", \"own\", \"own\", \"ownership\", \"ownership\", \"ownership\", \"ownership\", \"packaging\", \"packaging\", \"packaging\", \"packaging\", \"packaging\", \"packaging\", \"pain\", \"pain\", \"paint\", \"paint\", \"paint\", \"paint\", \"paint\", \"paper\", \"paper\", \"paper\", \"part\", \"part\", \"part\", \"part\", \"part\", \"part\", \"part\", \"part\", \"patient\", \"patient\", \"patient\", \"patient\", \"patient\", \"patient\", \"paycom\", \"payment\", \"payment\", \"payment\", \"payment\", \"paypal\", \"payroll\", \"pepsi\", \"perishable\", \"perkinelmer\", \"personal\", \"personal\", \"personal\", \"personal\", \"personal\", \"pet\", \"pet\", \"pet\", \"pfizer\", \"pharmaceutical\", \"pharmaceutical\", \"pharmaceutical\", \"pharmaceutical\", \"pharmaceutical\", \"pharmaceutical\", \"pharmacy\", \"pharmacy\", \"pharmacy\", \"pharmacy\", \"phosphate\", \"pipe\", \"pipe\", \"pipeline\", \"pipeline\", \"place\", \"place\", \"plan\", \"plan\", \"plan\", \"plan\", \"plant\", \"plant\", \"plant\", \"pneumatic\", \"pneumatic\", \"poker\", \"polo\", \"port\", \"port\", \"potash\", \"power\", \"power\", \"practitioner\", \"pressure\", \"pressure\", \"pressure\", \"pressure\", \"pressure\", \"prevent\", \"prevent\", \"preventers\", \"process\", \"process\", \"process\", \"process\", \"process\", \"process\", \"process\", \"process\", \"process\", \"process\", \"process\", \"processor\", \"processor\", \"processor\", \"processor\", \"processor\", \"processor\", \"processor\", \"produce\", \"produce\", \"produce\", \"produce\", \"produce\", \"produce\", \"produce\", \"produce\", \"produce\", \"product\", \"product\", \"product\", \"product\", \"product\", \"product\", \"product\", \"product\", \"product\", \"product\", \"product\", \"production\", \"production\", \"production\", \"production\", \"production\", \"production\", \"professional\", \"professional\", \"professional\", \"professional\", \"professional\", \"professional\", \"professional\", \"professional\", \"professional\", \"program\", \"program\", \"program\", \"program\", \"program\", \"program\", \"programmable\", \"programmable\", \"promote\", \"property\", \"property\", \"property\", \"property\", \"property\", \"property\", \"property\", \"property\", \"property\", \"proton\", \"pse\", \"public\", \"public\", \"public\", \"public\", \"public\", \"public\", \"public\", \"public\", \"public\", \"public\", \"publisher\", \"pulp\", \"pump\", \"pump\", \"pump\", \"pump\", \"pump\", \"purple\", \"quality\", \"quality\", \"quality\", \"quality\", \"radeon\", \"radiotherapy\", \"radiotherapy\", \"rail\", \"rail\", \"rail\", \"rail\", \"rail\", \"railroad\", \"railroad\", \"railroad\", \"raytheon\", \"reagent\", \"reagent\", \"realty\", \"reciprocate\", \"recycle\", \"recycle\", \"recycle\", \"refine\", \"refine\", \"refine\", \"refrigerate\", \"refrigeration\", \"refrigeration\", \"regulate\", \"regulate\", \"regulated\", \"reinsurance\", \"reinsurance\", \"reinsurance\", \"reit\", \"relation\", \"renewable\", \"renewable\", \"renewable\", \"rental\", \"rental\", \"rental\", \"rental\", \"rental\", \"repair\", \"repair\", \"repair\", \"repair\", \"repair\", \"repair\", \"repair\", \"repair\", \"request\", \"research\", \"research\", \"research\", \"research\", \"research\", \"reservoir\", \"resmed\", \"resort\", \"resort\", \"restraint\", \"retail\", \"retail\", \"retail\", \"retail\", \"retail\", \"retail\", \"retail\", \"retail\", \"retail\", \"retailer\", \"retailer\", \"retailer\", \"retailer\", \"retailer\", \"retailer\", \"retailer\", \"retailer\", \"retailer\", \"retailer\", \"retinal\", \"retirement\", \"rheometry\", \"rig\", \"rig\", \"risk\", \"risk\", \"risk\", \"risk\", \"risk\", \"risk\", \"rodent\", \"room\", \"room\", \"room\", \"ryzen\", \"safety\", \"safety\", \"safety\", \"safety\", \"safety\", \"safety\", \"salon\", \"salon\", \"sandwich\", \"satellite\", \"satellite\", \"satellite\", \"saving\", \"schlumberger\", \"science\", \"science\", \"science\", \"science\", \"science\", \"science\", \"science\", \"seafood\", \"seat\", \"security\", \"security\", \"security\", \"security\", \"security\", \"security\", \"security\", \"security\", \"segment\", \"segment\", \"segment\", \"segment\", \"segment\", \"segment\", \"segment\", \"segment\", \"segment\", \"segment\", \"segment\", \"seller\", \"semiconductor\", \"semiconductor\", \"semiconductor\", \"sempra\", \"serve\", \"serve\", \"serve\", \"serve\", \"serve\", \"serve\", \"serve\", \"serve\", \"serve\", \"serve\", \"serve\", \"service\", \"service\", \"service\", \"service\", \"service\", \"service\", \"service\", \"service\", \"service\", \"service\", \"service\", \"shop\", \"shop\", \"shop\", \"shop\", \"shop\", \"signal\", \"signal\", \"signal\", \"signal\", \"silica\", \"silicon\", \"simulation\", \"simulation\", \"simulation\", \"sirona\", \"skid\", \"sleep\", \"sleep\", \"slot\", \"smucker\", \"snack\", \"snack\", \"software\", \"software\", \"software\", \"software\", \"software\", \"software\", \"software\", \"software\", \"solar\", \"solar\", \"solution\", \"solution\", \"solution\", \"solution\", \"solution\", \"solution\", \"solution\", \"solution\", \"solution\", \"solution\", \"space\", \"space\", \"space\", \"space\", \"space\", \"specialty\", \"specialty\", \"specialty\", \"specialty\", \"specialty\", \"specialty\", \"specialty\", \"specialty\", \"specialty\", \"specialty\", \"specialty\", \"specific\", \"specific\", \"specific\", \"specific\", \"spectrometry\", \"spine\", \"spirit\", \"sport\", \"sport\", \"sport\", \"sport\", \"sport\", \"sport\", \"sport\", \"square\", \"square\", \"square\", \"square\", \"square\", \"ssds\", \"state\", \"state\", \"state\", \"state\", \"state\", \"state\", \"state\", \"state\", \"state\", \"state\", \"state\", \"steer\", \"stent\", \"stereotactic\", \"storage\", \"storage\", \"storage\", \"storage\", \"storage\", \"storage\", \"store\", \"store\", \"store\", \"store\", \"store\", \"store\", \"stream\", \"stream\", \"stream\", \"stream\", \"strike\", \"studio\", \"subscription\", \"subscription\", \"subscription\", \"subsea\", \"subsidiary\", \"subsidiary\", \"subsidiary\", \"subsidiary\", \"subsidiary\", \"subsidiary\", \"subsidiary\", \"subsidiary\", \"subsidiary\", \"substation\", \"subsystems\", \"subsystems\", \"subway\", \"suite\", \"suite\", \"suite\", \"suite\", \"suite\", \"sundries\", \"supply\", \"supply\", \"supply\", \"supply\", \"supply\", \"supply\", \"supply\", \"supply\", \"supply\", \"supply\", \"surety\", \"surety\", \"svb\", \"switch\", \"switch\", \"switch\", \"switch\", \"synthesizer\", \"system\", \"system\", \"system\", \"system\", \"system\", \"system\", \"system\", \"system\", \"system\", \"system\", \"system\", \"table\", \"table\", \"table\", \"tax\", \"technology\", \"technology\", \"technology\", \"technology\", \"technology\", \"technology\", \"technology\", \"technology\", \"technology\", \"technology\", \"teledyne\", \"television\", \"television\", \"temporary\", \"temporary\", \"temporary\", \"tenant\", \"tenant\", \"termite\", \"test\", \"test\", \"test\", \"test\", \"test\", \"test\", \"test\", \"textron\", \"therapeutic\", \"therapeutic\", \"therapy\", \"therapy\", \"therapy\", \"therapy\", \"thermo\", \"tjx\", \"tool\", \"tool\", \"tool\", \"tool\", \"tool\", \"tool\", \"tool\", \"tool\", \"tortilla\", \"train\", \"train\", \"train\", \"train\", \"train\", \"train\", \"trane\", \"transit\", \"transmembrane\", \"transmission\", \"transmission\", \"transmits\", \"transportation\", \"transportation\", \"transportation\", \"transportation\", \"transportation\", \"transportation\", \"transportation\", \"transportation\", \"transportation\", \"transportation\", \"trauma\", \"travel\", \"travel\", \"travel\", \"travel\", \"travel\", \"travel\", \"treasury\", \"trench\", \"trench\", \"truck\", \"truck\", \"truck\", \"truck\", \"truck\", \"truck\", \"truck\", \"truck\", \"trust\", \"trust\", \"trust\", \"tube\", \"tube\", \"tube\", \"twitter\", \"udr\", \"ulta\", \"umbrella\", \"underground\", \"underground\", \"unit\", \"unit\", \"unit\", \"unit\", \"unit\", \"unit\", \"unitary\", \"university\", \"university\", \"unum\", \"utility\", \"utility\", \"utility\", \"utility\", \"utility\", \"uwb\", \"vaccine\", \"vaccine\", \"valves\", \"valves\", \"varco\", \"varian\", \"vegetable\", \"vehicle\", \"vehicle\", \"vehicle\", \"vehicle\", \"vehicle\", \"vehicle\", \"vehicle\", \"vein\", \"ventas\", \"vertex\", \"video\", \"video\", \"video\", \"video\", \"video\", \"video\", \"villas\", \"visible\", \"vornado\", \"walgreens\", \"walmart\", \"waste\", \"waste\", \"waste\", \"water\", \"water\", \"water\", \"water\", \"water\", \"water\", \"water\", \"water\", \"wealth\", \"weapon\", \"wec\", \"wed\", \"wheel\", \"wheel\", \"wholesale\", \"wholesale\", \"wholesale\", \"wholesale\", \"wholesale\", \"wholesale\", \"wholesale\", \"wholesale\", \"wind\", \"wind\", \"wind\", \"wiper\", \"wiper\", \"worldwide\", \"worldwide\", \"worldwide\", \"worldwide\", \"worldwide\", \"worldwide\", \"worldwide\", \"worldwide\", \"worldwide\", \"worldwide\", \"worldwide\", \"wrench\", \"xylem\"]}, \"R\": 30, \"lambda.step\": 0.01, \"plot.opts\": {\"xlab\": \"PC1\", \"ylab\": \"PC2\"}, \"topic.order\": [3, 9, 6, 11, 8, 5, 7, 2, 4, 1, 10]};\n",
       "\n",
       "function LDAvis_load_lib(url, callback){\n",
       "  var s = document.createElement('script');\n",
       "  s.src = url;\n",
       "  s.async = true;\n",
       "  s.onreadystatechange = s.onload = callback;\n",
       "  s.onerror = function(){console.warn(\"failed to load library \" + url);};\n",
       "  document.getElementsByTagName(\"head\")[0].appendChild(s);\n",
       "}\n",
       "\n",
       "if(typeof(LDAvis) !== \"undefined\"){\n",
       "   // already loaded: just create the visualization\n",
       "   !function(LDAvis){\n",
       "       new LDAvis(\"#\" + \"ldavis_el1505229442798598721668515155\", ldavis_el1505229442798598721668515155_data);\n",
       "   }(LDAvis);\n",
       "}else if(typeof define === \"function\" && define.amd){\n",
       "   // require.js is available: use it to load d3/LDAvis\n",
       "   require.config({paths: {d3: \"https://cdnjs.cloudflare.com/ajax/libs/d3/3.5.5/d3.min\"}});\n",
       "   require([\"d3\"], function(d3){\n",
       "      window.d3 = d3;\n",
       "      LDAvis_load_lib(\"https://cdn.rawgit.com/bmabey/pyLDAvis/files/ldavis.v1.0.0.js\", function(){\n",
       "        new LDAvis(\"#\" + \"ldavis_el1505229442798598721668515155\", ldavis_el1505229442798598721668515155_data);\n",
       "      });\n",
       "    });\n",
       "}else{\n",
       "    // require.js not available: dynamically load d3 & LDAvis\n",
       "    LDAvis_load_lib(\"https://cdnjs.cloudflare.com/ajax/libs/d3/3.5.5/d3.min.js\", function(){\n",
       "         LDAvis_load_lib(\"https://cdn.rawgit.com/bmabey/pyLDAvis/files/ldavis.v1.0.0.js\", function(){\n",
       "                 new LDAvis(\"#\" + \"ldavis_el1505229442798598721668515155\", ldavis_el1505229442798598721668515155_data);\n",
       "            })\n",
       "         });\n",
       "}\n",
       "</script>"
      ],
      "text/plain": [
       "PreparedData(topic_coordinates=              x         y  topics  cluster       Freq\n",
       "topic                                                \n",
       "2     -0.103862  0.119015       1        1  27.358398\n",
       "8      0.111261 -0.048294       2        1   9.832774\n",
       "5      0.071451 -0.121515       3        1   9.452411\n",
       "10    -0.058629  0.051208       4        1   9.421519\n",
       "7      0.149580  0.162636       5        1   8.360332\n",
       "4     -0.131008  0.000719       6        1   8.155535\n",
       "6     -0.008547 -0.029897       7        1   7.493128\n",
       "1     -0.097504 -0.014474       8        1   7.465660\n",
       "3     -0.057193 -0.118566       9        1   5.955658\n",
       "0      0.036634  0.062306      10        1   3.580996\n",
       "9      0.087817 -0.063136      11        1   2.923588, topic_info=           Term         Freq        Total Category  logprob  loglift\n",
       "47          gas   205.000000   205.000000  Default  30.0000  30.0000\n",
       "642   insurance   211.000000   211.000000  Default  29.0000  29.0000\n",
       "104      system   483.000000   483.000000  Default  28.0000  28.0000\n",
       "811     natural   137.000000   137.000000  Default  27.0000  27.0000\n",
       "81      product  1245.000000  1245.000000  Default  26.0000  26.0000\n",
       "...         ...          ...          ...      ...      ...      ...\n",
       "310      retail     7.981694   185.334059  Topic11  -5.3162   0.3873\n",
       "93      segment     9.346981   898.872325  Topic11  -5.1583  -1.0337\n",
       "275     develop     7.293467   123.481202  Topic11  -5.4063   0.7032\n",
       "796        food     7.092815   132.153793  Topic11  -5.4342   0.6075\n",
       "1044      trust     6.790162    56.068018  Topic11  -5.4778   1.4213\n",
       "\n",
       "[774 rows x 6 columns], token_table=      Topic      Freq       Term\n",
       "term                            \n",
       "2362      9  0.911767   ablation\n",
       "1563      6  0.162154   academic\n",
       "1563      9  0.810770   academic\n",
       "140       1  0.010151  accessory\n",
       "140       2  0.101511  accessory\n",
       "...     ...       ...        ...\n",
       "111       9  0.072950  worldwide\n",
       "111      10  0.019896  worldwide\n",
       "111      11  0.013264  worldwide\n",
       "6480      3  0.763795     wrench\n",
       "7173      7  0.797377      xylem\n",
       "\n",
       "[1922 rows x 3 columns], R=30, lambda_step=0.01, plot_opts={'xlab': 'PC1', 'ylab': 'PC2'}, topic_order=[3, 9, 6, 11, 8, 5, 7, 2, 4, 1, 10])"
      ]
     },
     "execution_count": 508,
     "metadata": {},
     "output_type": "execute_result"
    }
   ],
   "source": [
    "# Visualize the topics\n",
    "pyLDAvis.enable_notebook()\n",
    "LDAvis_prepared = pyLDAvis.gensim.prepare(model, dtm_gensim, dictionary)\n",
    "LDAvis_prepared"
   ]
  },
  {
   "cell_type": "code",
   "execution_count": 577,
   "metadata": {
    "scrolled": true
   },
   "outputs": [
    {
     "data": {
      "application/vnd.jupyter.widget-view+json": {
       "model_id": "",
       "version_major": 2,
       "version_minor": 0
      },
      "text/plain": [
       "HBox(children=(FloatProgress(value=0.0, max=148.0), HTML(value='')))"
      ]
     },
     "metadata": {},
     "output_type": "display_data"
    },
    {
     "name": "stdout",
     "output_type": "stream",
     "text": [
      "\n"
     ]
    }
   ],
   "source": [
    "coherence_values = []\n",
    "NUM_TOPICS_RNG = range(2,150, 1)\n",
    "for num_topics in tqdm(NUM_TOPICS_RNG):\n",
    "    model = LsiModel(dtm_gensim, num_topics=num_topics, id2word = dictionary)\n",
    "    coherencemodel = CoherenceModel(model=model, texts=tokenized_desc_list, dictionary=dictionary, coherence='c_v') # randomness exists\n",
    "    lsi_cv = coherencemodel.get_coherence()\n",
    "    coherencemodel = CoherenceModel(model=model, texts=tokenized_desc_list, dictionary=dictionary, coherence='u_mass')\n",
    "    lsi_um = coherencemodel.get_coherence()\n",
    "    \n",
    "    model = gensim.models.LdaMulticore(corpus=dtm_gensim, id2word=dictionary, num_topics=num_topics, random_state=0,\n",
    "                                       chunksize=100, passes=10, per_word_topics=True)\n",
    "    coherencemodel = CoherenceModel(model=model, texts=tokenized_desc_list, dictionary=dictionary, coherence='c_v')\n",
    "    lda_cv = coherencemodel.get_coherence()\n",
    "    coherencemodel = CoherenceModel(model=model, texts=tokenized_desc_list, dictionary=dictionary, coherence='u_mass')\n",
    "    lda_um = coherencemodel.get_coherence()\n",
    "    coherence_values.append([lsi_cv, lsi_um, lda_cv, lda_um])\n",
    "    \n",
    "coherence_df = pd.DataFrame(coherence_values, columns=['lsi_cv', 'lsi_umass', 'lda_cv', 'lda_umass'], index=NUM_TOPICS_RNG)"
   ]
  },
  {
   "cell_type": "code",
   "execution_count": 579,
   "metadata": {
    "scrolled": false
   },
   "outputs": [
    {
     "data": {
      "image/png": "[encoded data removed]",
      "text/plain": [
       "<matplotlib.figure.Figure at 0x2ad81e1d4a8>"
      ]
     },
     "metadata": {
      "needs_background": "light"
     },
     "output_type": "display_data"
    }
   ],
   "source": [
    "TITLE = 'Coherence score for different topic sizes'\n",
    "plt.figure(figsize=(17,13))\n",
    "\n",
    "plt.subplot(211)\n",
    "ax = sns.lineplot(data=coherence_df[['lsi_cv', 'lda_cv']])\n",
    "ax.set(ylabel='c_v score')\n",
    "ax.grid()\n",
    "plt.title(TITLE)\n",
    "\n",
    "plt.subplot(212)\n",
    "ax = sns.lineplot(data=coherence_df[['lsi_umass', 'lda_umass']])\n",
    "ax.set(ylabel='u_mass score', xlabel='Number of Topics, k')\n",
    "ax.grid()\n",
    "plt.savefig('data_out/images/' + TITLE)"
   ]
  },
  {
   "cell_type": "markdown",
   "metadata": {},
   "source": [
    "- LSI performs very well for topics less than 10\n",
    "    - 2,7 topics seems to be best for LSI\n",
    "- LDA seems to perform slightly better for topics greater than 10"
   ]
  },
  {
   "cell_type": "code",
   "execution_count": null,
   "metadata": {},
   "outputs": [],
   "source": []
  },
  {
   "cell_type": "code",
   "execution_count": null,
   "metadata": {},
   "outputs": [],
   "source": []
  },
  {
   "cell_type": "markdown",
   "metadata": {},
   "source": [
    "# Topic Modelling\n",
    "\n",
    "Methods\n",
    "- Latent Semantic Indexing/Analysis (LSA/LSI)\n",
    "    - uses SVD\n",
    "- PCA\n",
    "    - also SVD\n",
    "- Latent Dirichlet Allocation\n",
    "     - relies on probabilistic graphical modelling\n",
    "     - only uses BOW (not TDIDF) \n",
    "\n",
    "- Non Negative Matrix Factorization (NMF)\n",
    "    - relies on Linear Algebra\n"
   ]
  },
  {
   "cell_type": "code",
   "execution_count": null,
   "metadata": {},
   "outputs": [],
   "source": []
  },
  {
   "cell_type": "code",
   "execution_count": null,
   "metadata": {},
   "outputs": [],
   "source": []
  },
  {
   "cell_type": "markdown",
   "metadata": {},
   "source": [
    "# Clustering Algos"
   ]
  },
  {
   "cell_type": "markdown",
   "metadata": {},
   "source": [
    "### K-Means\n",
    "\n",
    "- uses Euclidean distances by implementation (cant change)\n",
    "- sklearn also has MiniBatchKMeans, which is faster but results are not as good\n",
    "- since k means choses centroids to minimises inertia (within cluster sum of squares - shows how coherent clusters are) it works better with convex clusters. Works poorly with elongated, irregular shaped clusters"
   ]
  },
  {
   "cell_type": "code",
   "execution_count": 290,
   "metadata": {},
   "outputs": [],
   "source": [
    "def kmeans_cluster(dtm, n_clusters=NUM_INDUSTRIES):\n",
    "    '''\n",
    "    input: Document Matrix\n",
    "    output: list indicating clusters\n",
    "    '''\n",
    "    kmeans = KMeans(n_clusters=n_clusters, init='k-means++', n_init=10, max_iter=300, random_state=0)\n",
    "    kmeans.fit(dtm)\n",
    "    return kmeans.labels_"
   ]
  },
  {
   "cell_type": "markdown",
   "metadata": {},
   "source": [
    "### K-medioids\n",
    "\n",
    "- aka partitioning around medoids (PAM)\n",
    "- K-means choses point average as cluster center while k-medoids chooses data points as centers (medoids)\n",
    "    - thus k-medioids works with arbitraty distances while k-means only works with euclidean dist\n",
    "    - A medoid is an element in a cluster whose average dissimilarity to all objects in cluster is minimal (i.e most centrally located point in cluster)\n",
    "- more robust to noise and outliers as compared to k-means because it minimizes a sum of pairwise dissimilarities instead of a sum of squared Euclidean distances"
   ]
  },
  {
   "cell_type": "code",
   "execution_count": 292,
   "metadata": {},
   "outputs": [],
   "source": [
    "def get_cluster_allocation_from_clusters(clusters):\n",
    "    num_elemts = max(functools.reduce(lambda x,y: x+y, clusters)) + 1\n",
    "    idx_clusters = np.zeros(num_elemts).astype(int)\n",
    "    i = 0\n",
    "    for cluster in clusters:\n",
    "        idx_clusters[cluster] = i\n",
    "        i +=1\n",
    "    return idx_clusters"
   ]
  },
  {
   "cell_type": "code",
   "execution_count": 293,
   "metadata": {},
   "outputs": [],
   "source": [
    "def kmedioids_cluster(dtm, n_clusters=NUM_INDUSTRIES):\n",
    "    '''\n",
    "    input: Document Matrix\n",
    "    output: list indicating clusters\n",
    "    '''\n",
    "#     cosine_distance = lambda x, y: distance.cosine(x,y)\n",
    "#     metric = distance_metric(type_metric.USER_DEFINED, func=cosine_distance)\n",
    "    metric = distance_metric(type_metric.EUCLIDEAN)\n",
    "    initial_medoids = list(range(n_clusters))\n",
    "    \n",
    "    kmedoids_instance = kmedoids(dtm, initial_medoids, metric=metric)\n",
    "    kmedoids_instance.process()\n",
    "    clusters = kmedoids_instance.get_clusters()\n",
    "    cluster_allocation = get_cluster_allocation_from_clusters(clusters)\n",
    "    return cluster_allocation"
   ]
  },
  {
   "cell_type": "markdown",
   "metadata": {},
   "source": [
    "### K-medians"
   ]
  },
  {
   "cell_type": "code",
   "execution_count": 294,
   "metadata": {},
   "outputs": [],
   "source": [
    "def kmedians_cluster(dtm):\n",
    "    initial_medians = dtm[:NUM_INDUSTRIES]\n",
    "    kmedians_instance = kmedians(dtm, initial_medians)\n",
    "    kmedians_instance.process()\n",
    "    clusters = kmedians_instance.get_clusters()\n",
    "    medians = kmedians_instance.get_medians()\n",
    "    cluster_allocation = get_cluster_allocation_from_clusters(clusters)\n",
    "    return cluster_allocation"
   ]
  },
  {
   "cell_type": "markdown",
   "metadata": {},
   "source": [
    "### DBSCAN\n",
    "\n",
    "- Usecase: Non-flat geometry, uneven cluster sizes"
   ]
  },
  {
   "cell_type": "code",
   "execution_count": null,
   "metadata": {},
   "outputs": [],
   "source": [
    "# from sklearn.cluster import DBSCAN\n",
    "# from sklearn.preprocessing import StandardScaler\n",
    "\n",
    "# X = StandardScaler().fit_transform(dtm)\n",
    "\n",
    "# db = DBSCAN(eps=0.3, min_samples=10).fit(X)\n",
    "# core_samples_mask = np.zeros_like(db.labels_, dtype=bool)\n",
    "# core_samples_mask[db.core_sample_indices_] = True\n",
    "# labels = db.labels_"
   ]
  },
  {
   "cell_type": "markdown",
   "metadata": {},
   "source": [
    "### Gaussian Mixture\n",
    "\n",
    "- kmeans is a distance based model, while gmm is a distribution based model"
   ]
  },
  {
   "cell_type": "code",
   "execution_count": 295,
   "metadata": {},
   "outputs": [],
   "source": [
    "def gmm_cluster(dtm, n_clusters=NUM_INDUSTRIES):\n",
    "    '''\n",
    "    input: Document Matrix\n",
    "    output: list indicating clusters\n",
    "    '''\n",
    "    gmm = GaussianMixture(n_components=n_clusters, random_state=0)\n",
    "    gmm.fit(dtm)\n",
    "    pred = gmm.predict(dtm)\n",
    "    return pred"
   ]
  },
  {
   "cell_type": "markdown",
   "metadata": {},
   "source": [
    "### Agglomerative Clustering\n",
    "\n",
    "- before applying Hierarchical Clustering, normalize data so that scale of variable are same (If variable scale not same, model might be biased to variables with a higher magnitude)\n",
    "    - dont think this is important if you use cosine distance"
   ]
  },
  {
   "cell_type": "code",
   "execution_count": 296,
   "metadata": {},
   "outputs": [],
   "source": [
    "def agglomerative_cluster(dtm, n_clusters=NUM_INDUSTRIES):\n",
    "    ac = AgglomerativeClustering(n_clusters=n_clusters, affinity='euclidean', linkage='ward')\n",
    "    ac.fit(dtm)\n",
    "    return ac.labels_"
   ]
  },
  {
   "cell_type": "markdown",
   "metadata": {},
   "source": [
    "## Test Cluster Allocation for different clustering algos"
   ]
  },
  {
   "cell_type": "markdown",
   "metadata": {},
   "source": [
    "### Clustering Evaluation Metrics\n",
    "\n",
    "** Based on ground truth ** \n",
    "- Adjusted Random Index\n",
    "    - similarity between 2 clusterings (ignoring permutations, with chance normalization)\n",
    "    - [-1,1]\n",
    "    - random assignment will have value 0\n",
    "- Adjusted Mutual Information/ Normalised Mutual Info (AMI/NMI)\n",
    "    - similar to ARI, but diff mathematical expression\n",
    "    - UB of 1, if <=0 means independent labelling\n",
    "- homogeneity and completeness score\n",
    "    - homogenety: each prediciton cluster contains only members of a single true class\n",
    "    - completeness: each true class contains only members of one prediction class\n",
    "    - [0,1]\n",
    "    - not normalised wrt randomised labelling\n",
    "        - random labelling wont yield 0 scores esp when n_cluster is large (better to use ARI)\n",
    "        - good for large sample size and small n_clusters\n",
    "    - order matters\n",
    "        - homogeneity_score(a, b) == completeness_score(b, a)\n",
    "- V measure\n",
    "    - Harmonic mean of abv 2 scores\n",
    " \n",
    "** Not based on ground truth ** \n",
    "\n",
    "- Silhoutte Score\n",
    "    - measure of how similar an object is to its own cluster (cohesion) compared to other clusters (separation)\n",
    "    - find silhoutte coefficient for each sample and average\n",
    "        - near 1: far from neighbouring clusters\n",
    "        - 0: close to decision boundary between clusters\n",
    "        - -ve: sample might be assigned to wrong cluster\n",
    "    - [-1,1]\n",
    "    - used in silhoutte analysis to determine number of clusters\n",
    "    - generall higher for convex clusters than other concepts of clusters (eg density based clusters)\n",
    "- inertia\n",
    "    "
   ]
  },
  {
   "cell_type": "code",
   "execution_count": 456,
   "metadata": {},
   "outputs": [],
   "source": [
    "def perp_cluster_names(cluster_allocation):\n",
    "    return list(map(lambda j: 'Cluster ' + str(j), cluster_allocation))\n",
    "\n",
    "dtm = dtms[0].toarray()\n",
    "\n",
    "# Topic Modelling\n",
    "TOPICS = 10\n",
    "# model = PCA(n_components=TOPICS, random_state=0)\n",
    "model = TruncatedSVD(TOPICS, algorithm = 'arpack', random_state=0)\n",
    "dtm = model.fit_transform(dtm)\n",
    "\n",
    "# dtm = StandardScaler().fit_transform(dtm) # not good Silhouette Coefficient\n",
    "dtm = Normalizer(norm='l2').fit_transform(dtm)\n",
    "\n",
    "# Clustering\n",
    "cluster_allocation = kmeans_cluster(dtm, n_clusters=11)\n",
    "# cluster_allocation = kmedioids_cluster(dtm, n_clusters=11)\n",
    "# cluster_allocation = gmm_cluster(dtm, n_clusters=11)\n",
    "# cluster_allocation = agglomerative_cluster(dtm, n_clusters=11)\n",
    "cluster_allocation_names = perp_cluster_names(cluster_allocation)\n",
    "\n",
    "# cluster_allocation_names = DESC_DFS[0].Sector\n",
    "\n",
    "# Graphing\n",
    "pca = PCA(n_components=2, random_state=0)\n",
    "dtm_pca = pca.fit_transform(dtm)"
   ]
  },
  {
   "cell_type": "code",
   "execution_count": 455,
   "metadata": {
    "scrolled": true
   },
   "outputs": [
    {
     "name": "stdout",
     "output_type": "stream",
     "text": [
      "Adjusted Rand-Index: 0.404\n",
      "Adjusted Mutual Info: 0.573\n",
      "Homogeneity: 0.611\n",
      "Completeness: 0.594\n",
      "V-measure: 0.603\n",
      "Silhouette Coefficient: 0.186\n",
      "Silhouette Coefficient: 0.368\n"
     ]
    }
   ],
   "source": [
    "print(\"Adjusted Rand-Index: %.3f\" % metrics.adjusted_rand_score(DESC_DFS[0].Sector, cluster_allocation))\n",
    "print(\"Adjusted Mutual Info: %.3f\" % metrics.adjusted_mutual_info_score(DESC_DFS[0].Sector, cluster_allocation))\n",
    "print(\"Homogeneity: %0.3f\" % metrics.homogeneity_score(DESC_DFS[0].Sector, cluster_allocation))\n",
    "print(\"Completeness: %0.3f\" % metrics.completeness_score(DESC_DFS[0].Sector, cluster_allocation))\n",
    "print(\"V-measure: %0.3f\" % metrics.v_measure_score(DESC_DFS[0].Sector, cluster_allocation))\n",
    "\n",
    "print(\"Silhouette Coefficient: %0.3f\" % metrics.silhouette_score(dtm, DESC_DFS[0].Sector))\n",
    "print(\"Silhouette Coefficient: %0.3f\" % metrics.silhouette_score(dtm, cluster_allocation))"
   ]
  },
  {
   "cell_type": "markdown",
   "metadata": {},
   "source": [
    "- PCA does not give good silhouette score for GICS classification \n",
    "- adding Normalizer after SVD_10 makes similarity with GICS better and silhouette for both clustering better"
   ]
  },
  {
   "cell_type": "code",
   "execution_count": 458,
   "metadata": {
    "scrolled": false
   },
   "outputs": [
    {
     "data": {
      "text/plain": [
       "<matplotlib.lines.Line2D at 0x2ad8068f9e8>"
      ]
     },
     "execution_count": 458,
     "metadata": {},
     "output_type": "execute_result"
    },
    {
     "data": {
      "image/png": "[encoded data removed]",
      "text/plain": [
       "<matplotlib.figure.Figure at 0x2ad8068aa20>"
      ]
     },
     "metadata": {
      "needs_background": "light"
     },
     "output_type": "display_data"
    }
   ],
   "source": [
    "df = pd.DataFrame(dtm_pca, columns=['x', 'y'])\n",
    "df['cluster'] = cluster_allocation_names\n",
    "# plt.figure(figsize=(14,10))\n",
    "ax = sns.scatterplot(x='x', y='y', hue='cluster', style='cluster', markers=MARKERS, data=df)\n",
    "ax.axhline(0, color='black')\n",
    "ax.axvline(0, color='black')"
   ]
  },
  {
   "cell_type": "markdown",
   "metadata": {},
   "source": [
    "# Determine Optimal Number of Clusters\n",
    "\n",
    "- using kmeans"
   ]
  },
  {
   "cell_type": "code",
   "execution_count": null,
   "metadata": {
    "scrolled": true
   },
   "outputs": [],
   "source": [
    "kmeans_kwargs = {\n",
    "    \"init\": \"random\",\n",
    "    \"n_init\": 10,\n",
    "    \"max_iter\": 300,\n",
    "    \"random_state\": 42,\n",
    "}\n",
    "\n",
    "gics_sil_score = metrics.silhouette_score(dtm_lsa_test, desc_df.GICS)\n",
    "\n",
    "silhouette_coefficients = []\n",
    "sse = []\n",
    "iters = []\n",
    "a,b = 2,200\n",
    "for k in tnrange(a,b):\n",
    "    kmeans = KMeans(n_clusters=k, **kmeans_kwargs)\n",
    "    kmeans.fit(dtm_lsa_test)\n",
    "    score = metrics.silhouette_score(dtm_lsa_test, kmeans.labels_)\n",
    "    silhouette_coefficients.append(score)\n",
    "    sse.append(kmeans.inertia_)\n",
    "    iters.append(kmeans.n_iter_) # dosent give much information usu from [4,20]\n"
   ]
  },
  {
   "cell_type": "code",
   "execution_count": null,
   "metadata": {},
   "outputs": [],
   "source": [
    "plt.plot(range(a, b), sse)\n",
    "plt.xticks(range(a, b,10))\n",
    "plt.xlabel(\"Number of Clusters\")\n",
    "plt.ylabel(\"Sum of Squared Errors (SSE)\")\n",
    "plt.grid()\n",
    "plt.show()"
   ]
  },
  {
   "cell_type": "markdown",
   "metadata": {},
   "source": [
    "- can see there is a slight elbow at 11"
   ]
  },
  {
   "cell_type": "code",
   "execution_count": null,
   "metadata": {},
   "outputs": [],
   "source": [
    "plt.plot(range(a,b), silhouette_coefficients, label='k-means')\n",
    "plt.axhline(gics_sil_score, label='GICS', color='r')\n",
    "plt.xticks(range(a,b,10))\n",
    "plt.xlabel(\"Number of Clusters\")\n",
    "plt.ylabel(\"Silhouette Coefficient\")\n",
    "plt.legend()\n",
    "plt.grid()\n",
    "plt.show()"
   ]
  },
  {
   "cell_type": "markdown",
   "metadata": {},
   "source": [
    "- best score at 112, which is the number of subindustries\n",
    "- k-means easily outperforms GICS for silhouette coefficient, which makes sense as k-means is clustering wrt to the given vectors so it should in a sense optimise the silhouette coefficient"
   ]
  },
  {
   "cell_type": "markdown",
   "metadata": {},
   "source": [
    "# Run all Clustering algos"
   ]
  },
  {
   "cell_type": "markdown",
   "metadata": {},
   "source": [
    "##### Abit about LSI\n",
    "\n",
    "- leveraging the idea that meaning can be extracted from context (ie words from the same document should have some similarity)\n",
    "\n",
    "- Why not PCA\n",
    "    - both use SVD and leverage the idea that meaning can be extracted from context\n",
    "    - but PCA does SVD on the covariance matrix\n",
    "    - PCA is more general and can be used on high dimentional datasets  while LSI is more specific to text corpora\n",
    "    \n",
    "- not sure if i should do the normalising before LSI or after (note we are doing samplewise normalisation not feature wise normalisation)\n",
    "    - some suggest normalising before and after"
   ]
  },
  {
   "cell_type": "code",
   "execution_count": null,
   "metadata": {
    "scrolled": false
   },
   "outputs": [],
   "source": [
    "#Test\n",
    "dtms[0].shape"
   ]
  },
  {
   "cell_type": "code",
   "execution_count": null,
   "metadata": {
    "scrolled": true
   },
   "outputs": [],
   "source": [
    "std_class_df = pd.DataFrame(DESC_DFS[0][STANDARD_CLASSIFIER].cat.codes, columns=[STANDARD_CLASSIFIER])\n",
    "cluster_dfs_list = [DESC_DFS[0][['Ticker']], std_class_df]\n",
    "for i in tnrange(len(DATA_SRCS)):\n",
    "    data_src = DATA_SRCS[i]\n",
    "    for k in tnrange(25, 301, 50):\n",
    "        # LSI Embedding\n",
    "        lsa_k = TruncatedSVD(k, algorithm = 'arpack', random_state=0)\n",
    "        dtm_lsa_k = lsa_k.fit_transform(dtms[i])\n",
    "        dtm_lsa_k = Normalizer().fit_transform(dtm_lsa_k)\n",
    "        # K-Means\n",
    "        clusters_k = kmeans_cluster(dtm_lsa_k)\n",
    "        cluster_dfs_list.append(pd.DataFrame(clusters_k, columns=['{}_lsi_{}_kmeans'.format(data_src, str(k))]))\n",
    "        # K-Medioids\n",
    "        clusters_k = kmedioids_cluster(dtm_lsa_k)\n",
    "        cluster_dfs_list.append(pd.DataFrame(clusters_k, columns=['{}_lsi_{}_kmediods'.format(data_src, str(k))]))\n",
    "        # K-Medians\n",
    "        pass\n",
    "        # GMM\n",
    "        clusters_k = gmm_cluster(dtm_lsa_k)\n",
    "        cluster_dfs_list.append(pd.DataFrame(clusters_k, columns=['{}_lsi_{}_gmm'.format(data_src, str(k))]))\n",
    "        # Cosine_similarity\n",
    "        pass\n",
    "    \n",
    "all_cluster = pd.concat(cluster_dfs_list, axis=1)"
   ]
  },
  {
   "cell_type": "code",
   "execution_count": null,
   "metadata": {
    "scrolled": true
   },
   "outputs": [],
   "source": [
    "all_cluster.head()"
   ]
  },
  {
   "cell_type": "markdown",
   "metadata": {},
   "source": [
    "###### Save clustering to the next available file by index"
   ]
  },
  {
   "cell_type": "code",
   "execution_count": null,
   "metadata": {},
   "outputs": [],
   "source": [
    "def smart_save(df, folder, start_word, data_name):\n",
    "    file_list = os.listdir(folder)\n",
    "    max_idx = -1\n",
    "    for file in file_list:\n",
    "        split_list = file.split('_')\n",
    "        if split_list[0] == start_word:\n",
    "            idx = int(split_list[-1][:-4])\n",
    "            max_idx = max(max_idx, idx)\n",
    "\n",
    "    savepath = '%s/%s_%s_%d.csv'%(folder, start_word, data_name, max_idx + 1)\n",
    "    df.to_csv(savepath, index=False)\n",
    "    print('Saved to: %s'%savepath)"
   ]
  },
  {
   "cell_type": "code",
   "execution_count": null,
   "metadata": {},
   "outputs": [],
   "source": [
    "smart_save(all_cluster, 'data_out/all_clusters', INDEX, 'clusters')"
   ]
  },
  {
   "cell_type": "markdown",
   "metadata": {},
   "source": [
    "# Evaluation"
   ]
  },
  {
   "cell_type": "code",
   "execution_count": null,
   "metadata": {},
   "outputs": [],
   "source": [
    "# all_cluster = pd.read_csv('data_out/all_clusters/snp_clusters_2.csv')\n",
    "# all_cluster.head()"
   ]
  },
  {
   "cell_type": "markdown",
   "metadata": {},
   "source": [
    "### Method 1 - Ticker returns correlations\n",
    "\n",
    "- regression of the daily return series of each stock with the return of the industry that the stock belongs to\n",
    "- criterion is the the average of all R2s from the universe\n",
    "- 5 years of daily returns used (same as previous project)"
   ]
  },
  {
   "cell_type": "code",
   "execution_count": null,
   "metadata": {},
   "outputs": [],
   "source": [
    "ticker_price_df = pd.read_csv('data_in/russell_price.csv', index_col=0) \n",
    "# Can use this path for SnP: 'data_out/ticker_price_df.csv'"
   ]
  },
  {
   "cell_type": "code",
   "execution_count": null,
   "metadata": {},
   "outputs": [],
   "source": [
    "ticker_price_df.columns = ticker_price_df.columns.str.replace('/', '-')\n",
    "ticker_return_df = ticker_price_df.pct_change()\n",
    "ticker_return_df"
   ]
  },
  {
   "cell_type": "code",
   "execution_count": null,
   "metadata": {
    "scrolled": true
   },
   "outputs": [],
   "source": [
    "# Tickers to remove if no ticker data\n",
    "tickers_with_no_data = [ticker for ticker in all_cluster.Ticker if ticker not in ticker_return_df.columns]\n",
    "print(tickers_with_no_data)"
   ]
  },
  {
   "cell_type": "code",
   "execution_count": null,
   "metadata": {},
   "outputs": [],
   "source": [
    "all_cluster_filtered = all_cluster[~all_cluster.Ticker.isin(tickers_with_no_data)].reset_index(drop=True)\n",
    "print(all_cluster_filtered.shape)\n",
    "all_cluster_filtered.head()"
   ]
  },
  {
   "cell_type": "code",
   "execution_count": null,
   "metadata": {
    "scrolled": true
   },
   "outputs": [],
   "source": [
    "mtds_R2_list = []\n",
    "\n",
    "for cluster_mtd in tqdm(all_cluster_filtered.columns):\n",
    "    if cluster_mtd == 'Ticker':\n",
    "        continue\n",
    "    \n",
    "    R2_list = []\n",
    "    for i in range(NUM_INDUSTRIES):\n",
    "        cluster_tickers = all_cluster_filtered[all_cluster_filtered[cluster_mtd] == i].Ticker\n",
    "        cluster_ticker_returns = ticker_return_df[cluster_tickers]\n",
    "        mean_return = cluster_ticker_returns.mean(axis=1)\n",
    "        cluster_R2 = [mean_return.corr(ticker_returns) for _, ticker_returns in cluster_ticker_returns.iteritems()]\n",
    "        R2_list.extend(cluster_R2)\n",
    "    avg_R2 = sum(R2_list)/len(R2_list)\n",
    "    if cluster_mtd == STANDARD_CLASSIFIER:\n",
    "        STANDARD_CLASSIFIER_R2 = avg_R2\n",
    "    else:\n",
    "        data_src, _, k, clustering_mtd = cluster_mtd.split('_')\n",
    "        mtds_R2_list.append([data_src, int(k), clustering_mtd, avg_R2])\n",
    "\n",
    "avg_R2_df = pd.DataFrame(mtds_R2_list, columns=['Data_src', 'k', 'Clustering mtd', 'Average R2'])"
   ]
  },
  {
   "cell_type": "code",
   "execution_count": null,
   "metadata": {
    "scrolled": true
   },
   "outputs": [],
   "source": [
    "avg_R2_df.head()"
   ]
  },
  {
   "cell_type": "code",
   "execution_count": null,
   "metadata": {},
   "outputs": [],
   "source": [
    "folder = 'data_out/results'\n",
    "os.listdir(folder)"
   ]
  },
  {
   "cell_type": "code",
   "execution_count": null,
   "metadata": {},
   "outputs": [],
   "source": [
    "smart_save(avg_R2_df, 'data_out/results', INDEX, 'R2')"
   ]
  },
  {
   "cell_type": "code",
   "execution_count": null,
   "metadata": {},
   "outputs": [],
   "source": [
    "grp_df = avg_R2_df.groupby('Data_src')\n",
    "best_R2_df = grp_df.apply(lambda df: df[df['Average R2'] == df['Average R2'].max()])\n",
    "best_R2_df = best_R2_df.droplevel(level=1).drop('Data_src', axis=1)\n",
    "best_R2_df['pct_cng'] = (best_R2_df['Average R2'] - STANDARD_CLASSIFIER_R2)/STANDARD_CLASSIFIER_R2 * 100\n",
    "best_R2_df['abs_cng'] = best_R2_df['Average R2'] - STANDARD_CLASSIFIER_R2\n",
    "best_R2_df.sort_values('pct_cng', inplace=True, ascending=False)\n",
    "best_R2_df"
   ]
  },
  {
   "cell_type": "markdown",
   "metadata": {},
   "source": [
    "- best values occur at low k values, and usually k means"
   ]
  },
  {
   "cell_type": "code",
   "execution_count": null,
   "metadata": {},
   "outputs": [],
   "source": [
    "TITLE = 'R2 results - Clustering SnP (by GICS)'\n",
    "print('GICS R2: %.3f'%STANDARD_CLASSIFIER_R2)\n",
    "plt.figure(figsize=(16,10))\n",
    "ax = sns.lineplot(data=avg_R2_df, x='k', y='Average R2', hue='Data_src', style='Clustering mtd')\n",
    "ax.axhline(STANDARD_CLASSIFIER_R2, color=\"black\", linestyle=\"--\", label=STANDARD_CLASSIFIER+' R2')\n",
    "ax.set(xlabel='k, LSI Embedding Parameter', ylabel='R2 (Average Correlation)', title=TITLE)\n",
    "plt.legend()\n",
    "# plt.savefig(TITLE)"
   ]
  },
  {
   "cell_type": "code",
   "execution_count": null,
   "metadata": {},
   "outputs": [],
   "source": []
  },
  {
   "cell_type": "code",
   "execution_count": null,
   "metadata": {},
   "outputs": [],
   "source": [
    "grp_df = avg_R2_df.groupby('Data_src')\n",
    "best_R2_df = grp_df.apply(lambda df: df[df['Average R2'] == df['Average R2'].max()])\n",
    "best_R2_df = best_R2_df.droplevel(level=1).drop('Data_src', axis=1)\n",
    "best_R2_df['pct_cng'] = (best_R2_df['Average R2'] - STANDARD_CLASSIFIER_R2)/STANDARD_CLASSIFIER_R2 * 100\n",
    "best_R2_df['abs_cng'] = best_R2_df['Average R2'] - STANDARD_CLASSIFIER_R2\n",
    "best_R2_df.sort_values('pct_cng', inplace=True, ascending=False)\n",
    "best_R2_df"
   ]
  },
  {
   "cell_type": "code",
   "execution_count": null,
   "metadata": {},
   "outputs": [],
   "source": [
    "TITLE = 'R2 results - Clustering SnP (by GICS)'\n",
    "print('GICS R2: %.3f'%STANDARD_CLASSIFIER_R2)\n",
    "plt.figure(figsize=(16,10))\n",
    "ax = sns.lineplot(data=avg_R2_df, x='k', y='Average R2', hue='Data_src', style='Clustering mtd')\n",
    "ax.axhline(STANDARD_CLASSIFIER_R2, color=\"black\", linestyle=\"--\", label=STANDARD_CLASSIFIER+' R2')\n",
    "ax.set(xlabel='k, LSI Embedding Parameter', ylabel='R2 (Average Correlation)', title=TITLE)\n",
    "plt.legend()\n",
    "# plt.savefig(TITLE)"
   ]
  },
  {
   "cell_type": "code",
   "execution_count": null,
   "metadata": {},
   "outputs": [],
   "source": []
  },
  {
   "cell_type": "code",
   "execution_count": null,
   "metadata": {},
   "outputs": [],
   "source": [
    "grp_df = avg_R2_df.groupby('Data_src')\n",
    "best_R2_df = grp_df.apply(lambda df: df[df['Average R2'] == df['Average R2'].max()])\n",
    "best_R2_df = best_R2_df.droplevel(level=1).drop('Data_src', axis=1)\n",
    "best_R2_df['pct_cng'] = (best_R2_df['Average R2'] - STANDARD_CLASSIFIER_R2)/STANDARD_CLASSIFIER_R2 * 100\n",
    "best_R2_df.sort_values('pct_cng', inplace=True, ascending=False)\n",
    "best_R2_df"
   ]
  },
  {
   "cell_type": "code",
   "execution_count": null,
   "metadata": {},
   "outputs": [],
   "source": [
    "TITLE = 'R2 results - Clustering SnP (by GICS)'\n",
    "print('GICS R2: %.3f'%STANDARD_CLASSIFIER_R2)\n",
    "plt.figure(figsize=(16,10))\n",
    "ax = sns.lineplot(data=avg_R2_df, x='k', y='Average R2', hue='Data_src', style='Clustering mtd')\n",
    "ax.axhline(STANDARD_CLASSIFIER_R2, color=\"black\", linestyle=\"--\", label=STANDARD_CLASSIFIER+' R2')\n",
    "ax.set(xlabel='k, LSI Embedding Parameter', ylabel='R2 (Average Correlation)', title=TITLE)\n",
    "plt.legend()\n",
    "# plt.savefig(TITLE)"
   ]
  },
  {
   "cell_type": "code",
   "execution_count": null,
   "metadata": {},
   "outputs": [],
   "source": []
  },
  {
   "cell_type": "code",
   "execution_count": null,
   "metadata": {},
   "outputs": [],
   "source": []
  },
  {
   "cell_type": "code",
   "execution_count": null,
   "metadata": {},
   "outputs": [],
   "source": []
  },
  {
   "cell_type": "code",
   "execution_count": null,
   "metadata": {},
   "outputs": [],
   "source": []
  },
  {
   "cell_type": "code",
   "execution_count": null,
   "metadata": {},
   "outputs": [],
   "source": []
  },
  {
   "cell_type": "code",
   "execution_count": null,
   "metadata": {},
   "outputs": [],
   "source": [
    "TITLE = 'R2 results - Clustering SnP (by Sector)'\n",
    "plt.figure(figsize=(16,10))\n",
    "ax = sns.lineplot(data=avg_R2_df, x='k', y='Average R2', hue='Data_src', style='Clustering mtd', sort=False)\n",
    "ax.axhline(STANDARD_CLASSIFIER_R2, color=\"red\", linestyle=\"--\", label=STANDARD_CLASSIFIER+' R2')\n",
    "ax.set(xlabel='k, LSI Embedding Parameter', ylabel='R2 (Average Correlation)', title=TITLE)\n",
    "plt.legend()\n",
    "# plt.savefig(TITLE)"
   ]
  },
  {
   "cell_type": "code",
   "execution_count": null,
   "metadata": {},
   "outputs": [],
   "source": [
    "TITLE = 'R2 results - Clustering SnP (by Industry)'\n",
    "plt.figure(figsize=(16,10))\n",
    "ax = sns.lineplot(data=avg_R2_df, x='k', y='Average R2', hue='Data_src', style='Clustering mtd', sort=False)\n",
    "ax.axhline(STANDARD_CLASSIFIER_R2, color=\"red\", linestyle=\"--\", label=STANDARD_CLASSIFIER+' R2')\n",
    "ax.set(xlabel='k, LSI Embedding Parameter', ylabel='R2 (Average Correlation)', title=TITLE)\n",
    "plt.legend()\n",
    "# plt.savefig(TITLE)"
   ]
  },
  {
   "cell_type": "code",
   "execution_count": null,
   "metadata": {},
   "outputs": [],
   "source": [
    "ax = sns.lineplot(data=avg_R2_df, x='k', y='Average R2', hue='Clustering mtd', style='Data_src', sort=False)\n",
    "ax.axhline(STANDARD_CLASSIFIER_R2, color=\"red\", linestyle=\"--\", label='GICS R2')\n",
    "ax.set(xlabel='k, LSI Embedding Parameter', ylabel='R2 (Average Correlation)', title='R2 results - Clustering Russell')"
   ]
  },
  {
   "cell_type": "markdown",
   "metadata": {},
   "source": [
    "### Method 2a - Inter Industry Variation of firm ratios\n",
    "\n",
    "- The second criterion used is the across-industry variation (Hoberg and Phillips)\n",
    "- Need to handle missing values of ratios\n",
    "- in previous paper they removed outlier so higher score\n",
    "- The higher the score the better"
   ]
  },
  {
   "cell_type": "code",
   "execution_count": 157,
   "metadata": {},
   "outputs": [
    {
     "name": "stdout",
     "output_type": "stream",
     "text": [
      "(2891, 7)\n"
     ]
    },
    {
     "data": {
      "text/html": [
       "<div>\n",
       "<style scoped>\n",
       "    .dataframe tbody tr th:only-of-type {\n",
       "        vertical-align: middle;\n",
       "    }\n",
       "\n",
       "    .dataframe tbody tr th {\n",
       "        vertical-align: top;\n",
       "    }\n",
       "\n",
       "    .dataframe thead th {\n",
       "        text-align: right;\n",
       "    }\n",
       "</style>\n",
       "<table border=\"1\" class=\"dataframe\">\n",
       "  <thead>\n",
       "    <tr style=\"text-align: right;\">\n",
       "      <th></th>\n",
       "      <th>Ticker</th>\n",
       "      <th>mkt_cap</th>\n",
       "      <th>pb_ratio</th>\n",
       "      <th>beta</th>\n",
       "      <th>profit_margin</th>\n",
       "      <th>ROA</th>\n",
       "      <th>ROE</th>\n",
       "    </tr>\n",
       "  </thead>\n",
       "  <tbody>\n",
       "    <tr>\n",
       "      <th>0</th>\n",
       "      <td>MMM</td>\n",
       "      <td>78520.0</td>\n",
       "      <td>7.80</td>\n",
       "      <td>1.00</td>\n",
       "      <td>0.1537</td>\n",
       "      <td>0.1040</td>\n",
       "      <td>0.4992</td>\n",
       "    </tr>\n",
       "    <tr>\n",
       "      <th>1</th>\n",
       "      <td>ABT</td>\n",
       "      <td>139580.0</td>\n",
       "      <td>4.49</td>\n",
       "      <td>0.97</td>\n",
       "      <td>0.1115</td>\n",
       "      <td>0.0459</td>\n",
       "      <td>0.1156</td>\n",
       "    </tr>\n",
       "    <tr>\n",
       "      <th>2</th>\n",
       "      <td>ABBV</td>\n",
       "      <td>112510.0</td>\n",
       "      <td>NaN</td>\n",
       "      <td>0.78</td>\n",
       "      <td>0.2477</td>\n",
       "      <td>0.1180</td>\n",
       "      <td>NaN</td>\n",
       "    </tr>\n",
       "    <tr>\n",
       "      <th>3</th>\n",
       "      <td>ABMD</td>\n",
       "      <td>6530.0</td>\n",
       "      <td>6.24</td>\n",
       "      <td>0.86</td>\n",
       "      <td>0.2414</td>\n",
       "      <td>0.1372</td>\n",
       "      <td>0.2028</td>\n",
       "    </tr>\n",
       "    <tr>\n",
       "      <th>4</th>\n",
       "      <td>ACN</td>\n",
       "      <td>114850.0</td>\n",
       "      <td>7.59</td>\n",
       "      <td>1.03</td>\n",
       "      <td>0.1113</td>\n",
       "      <td>0.1344</td>\n",
       "      <td>0.3401</td>\n",
       "    </tr>\n",
       "  </tbody>\n",
       "</table>\n",
       "</div>"
      ],
      "text/plain": [
       "  Ticker   mkt_cap  pb_ratio  beta  profit_margin     ROA     ROE\n",
       "0    MMM   78520.0      7.80  1.00         0.1537  0.1040  0.4992\n",
       "1    ABT  139580.0      4.49  0.97         0.1115  0.0459  0.1156\n",
       "2   ABBV  112510.0       NaN  0.78         0.2477  0.1180     NaN\n",
       "3   ABMD    6530.0      6.24  0.86         0.2414  0.1372  0.2028\n",
       "4    ACN  114850.0      7.59  1.03         0.1113  0.1344  0.3401"
      ]
     },
     "execution_count": 157,
     "metadata": {},
     "output_type": "execute_result"
    }
   ],
   "source": [
    "ticker_ratios_df = pd.read_csv('data_out/russell_ratios_clean.csv') #'data_out/snp_ratios_df.csv'\n",
    "print(ticker_ratios_df.shape)\n",
    "ticker_ratios_df.head()"
   ]
  },
  {
   "cell_type": "code",
   "execution_count": 158,
   "metadata": {
    "scrolled": true
   },
   "outputs": [],
   "source": [
    "df2 = pd.merge(ticker_ratios_df, russell_desc_yahoo_df, on='Ticker').iloc[:,[1,2,3,4,5,6,8]]\n",
    "df2.pb_ratio = np.log(df2.pb_ratio)\n",
    "df2.mkt_cap = np.log(df2.mkt_cap)\n",
    "df2.dropna(inplace=True)\n",
    "\n",
    "df2 = df2[(np.abs(stats.zscore(df2.iloc[:,:-1])) < 1.5).all(axis=1)]\n",
    "\n",
    "# s = StandardScaler()\n",
    "# df2.iloc[:,:-1] = s.fit_transform(df2.iloc[:,:-1])\n",
    "\n",
    "# sns.pairplot(df2.iloc[:,:-1])\n",
    "\n",
    "# for i in range(1,7):\n",
    "#     sns.boxplot(x='Sector', y=ticker_ratios_df.columns[i], data=df2)\n",
    "#     plt.show()"
   ]
  },
  {
   "cell_type": "code",
   "execution_count": null,
   "metadata": {
    "scrolled": false
   },
   "outputs": [],
   "source": [
    "sns.boxplot(data=df2.iloc[:,:-1])"
   ]
  },
  {
   "cell_type": "code",
   "execution_count": null,
   "metadata": {},
   "outputs": [],
   "source": [
    "# Normalise values\n",
    "ticker_ratios_normalised_df = ticker_ratios_df.copy()\n",
    "# for header in ticker_ratios_df.columns[1:]:\n",
    "#     col = ticker_ratios_df[header]\n",
    "#     ticker_ratios_normalised_df[header] = (col - col.mean())/col.std()\n",
    "ticker_ratios_normalised_df"
   ]
  },
  {
   "cell_type": "code",
   "execution_count": null,
   "metadata": {
    "scrolled": true
   },
   "outputs": [],
   "source": [
    "# Tickers to remove if no ratio data\n",
    "tickers_with_no_data = [ticker for ticker in all_cluster.Ticker if ticker not in list(ticker_ratios_df.Ticker)]\n",
    "print(tickers_with_no_data)\n",
    "all_cluster_filtered = all_cluster[~all_cluster.Ticker.isin(tickers_with_no_data)].reset_index(drop=True)"
   ]
  },
  {
   "cell_type": "code",
   "execution_count": null,
   "metadata": {},
   "outputs": [],
   "source": [
    "all_cluster_filtered = all_cluster[~all_cluster.Ticker.isin(tickers_with_no_data)].reset_index(drop=True)\n",
    "print(all_cluster_filtered.shape)\n",
    "all_cluster_filtered.head()"
   ]
  },
  {
   "cell_type": "markdown",
   "metadata": {},
   "source": [
    "<font size=\"5\">\n",
    "$$\n",
    "\\sigma_v = \\frac\n",
    "                {\\sqrt{\\sum_{i=0}^{K} n_i \\frac{(v_m - v_i)^2}{N}}}\n",
    "                {\\sqrt{\\sum_{j=0}^{N} \\frac{(v_m - f_j)^2}{N}}            }\n",
    "$$\n",
    "</font>\n",
    "\n",
    "- $K$ - num industries\n",
    "- $N$ - num firms\n",
    "- $n_i$ - num firms in industry i\n",
    "- $v_m$ - overall mean value of characteristic\n",
    "- $v_i$ - mean value of characteristic in industry i\n",
    "- $f_j$ - value of characteristic for firm j\n",
    "\n",
    "\n",
    "- numerator is weighted average, while denomenator is simple average\n",
    "- N will cancel out eventually\n",
    "- the larger this number the more will spread out the avg industry ratios are from the mean ratio\n",
    "- larger the better\n",
    "- should be lesser than 1 (as avg industry ratio shd vary less)\n",
    "- actually normalisation not required, as now the updated method does not combines the 5 ratios together\n"
   ]
  },
  {
   "cell_type": "markdown",
   "metadata": {},
   "source": [
    "- recheck method for Na values"
   ]
  },
  {
   "cell_type": "code",
   "execution_count": null,
   "metadata": {},
   "outputs": [],
   "source": [
    "def cluster_variation(s):\n",
    "    '''\n",
    "    input: series of values from a cluster\n",
    "    output: sum(x - x_bar), sum of absolute distances to cluster center\n",
    "    '''\n",
    "    mean = s.mean() # ignores NaN values\n",
    "    n  = s.count() # count non-NaN values\n",
    "    variation = n * (v_m[s.name] - mean)**2\n",
    "    return variation"
   ]
  },
  {
   "cell_type": "code",
   "execution_count": null,
   "metadata": {},
   "outputs": [],
   "source": [
    "RATIO_NAMES_LIST = list(ticker_ratios_df.columns[1:])\n",
    "all_cluster_with_ratio = pd.merge(all_cluster_filtered, ticker_ratios_normalised_df, on='Ticker')\n",
    "ratio_variation_list = []\n",
    "\n",
    "for cluster_mtd in tqdm(all_cluster_filtered.columns):\n",
    "    if cluster_mtd == 'Ticker':\n",
    "        continue\n",
    "        \n",
    "    filter_df = all_cluster_with_ratio[[cluster_mtd] + RATIO_NAMES_LIST]\n",
    "    v_m = all_cluster_with_ratio[RATIO_NAMES_LIST].mean()\n",
    "    variation_df = filter_df.groupby(cluster_mtd).aggregate(cluster_variation)\n",
    "    variation_series = variation_df.sum()\n",
    "    N_ratios = ticker_ratios_normalised_df[RATIO_NAMES_LIST].count() # count non-NaN values\n",
    "    weighted_deviation_series = np.sqrt(variation_series/N_ratios)\n",
    "\n",
    "    normaliser_series = ticker_ratios_normalised_df[RATIO_NAMES_LIST].std()\n",
    "\n",
    "    sigma_v = list(weighted_deviation_series/normaliser_series)\n",
    "    avg_sigma_v = sum(sigma_v)/len(sigma_v) # mean\n",
    "    if cluster_mtd == STANDARD_CLASSIFIER:\n",
    "        STANDARD_CLASSIFIER_RV = pd.Series(STANDARD_CLASSIFIER_RV, index=RATIO_NAMES_LIST)\n",
    "        STANDARD_CLASSIFIER_AVG_RV = avg_sigma_v\n",
    "    else:\n",
    "        data_src, _, k, clustering_mtd = cluster_mtd.split('_')\n",
    "        row = [data_src, int(k), clustering_mtd] + sigma_v + [avg_sigma_v]\n",
    "        ratio_variation_list.append(row)\n",
    "\n",
    "cols = ['Data_src', 'k', 'Clustering mtd'] + RATIO_NAMES_LIST + ['Average Ratio Variation']\n",
    "ratio_variation_df = pd.DataFrame(ratio_variation_list, columns= cols)"
   ]
  },
  {
   "cell_type": "code",
   "execution_count": null,
   "metadata": {
    "scrolled": true
   },
   "outputs": [],
   "source": [
    "ratio_variation_df.head()"
   ]
  },
  {
   "cell_type": "code",
   "execution_count": null,
   "metadata": {},
   "outputs": [],
   "source": [
    "smart_save(ratio_variation_df, 'data_out/results', INDEX, 'RV')"
   ]
  },
  {
   "cell_type": "code",
   "execution_count": null,
   "metadata": {
    "scrolled": true
   },
   "outputs": [],
   "source": [
    "SELECTED_RATIOS = ['beta', 'profit_margin', 'ROA', 'ROE']\n",
    "for ratio in RATIO_NAMES_LIST:\n",
    "    print(ratio)\n",
    "    grp_df = ratio_variation_df.groupby('Data_src')\n",
    "    best_ratio_df = grp_df.apply(lambda df: df[df[ratio] == df[ratio].max()])\n",
    "    best_ratio_df = best_ratio_df.droplevel(level=1).drop('Data_src', axis=1)\n",
    "    std_ratio = STANDARD_CLASSIFIER_RV[ratio]\n",
    "    print('%.2g'%std_ratio)\n",
    "    best_ratio_df['abs_cng'] = best_ratio_df[ratio] - std_ratio\n",
    "    best_ratio_df['pct_cng'] = (best_ratio_df[ratio] - std_ratio)/std_ratio * 100\n",
    "    best_ratio_df.sort_values('pct_cng', inplace=True, ascending=False)\n",
    "    display(best_ratio_df[:3])\n",
    "    \n",
    "    plt.figure(figsize=(16,10))\n",
    "    ax = sns.lineplot(data=ratio_variation_df, x='k', y=ratio, hue='Data_src', style='Clustering mtd')\n",
    "    ax.axhline(STANDARD_CLASSIFIER_RV[ratio], color=\"black\", linestyle=\"--\", label=STANDARD_CLASSIFIER+' RV')\n",
    "    ax.set(xlabel='k, LSI Embedding Parameter', ylabel='RV', title=TITLE)\n",
    "    plt.legend()\n",
    "    plt.plot()"
   ]
  },
  {
   "cell_type": "code",
   "execution_count": null,
   "metadata": {},
   "outputs": [],
   "source": [
    "corr = ratio_variation_df.iloc[:,3:-1].corr()\n",
    "sns.heatmap(corr)"
   ]
  },
  {
   "cell_type": "code",
   "execution_count": null,
   "metadata": {},
   "outputs": [],
   "source": [
    "TITLE = 'Avg Ratio Variation results - Clustering SnP (by GICS)'\n",
    "print('GICS Ratio Variation (beta): %.2g'%STANDARD_CLASSIFIER_RV[5])\n",
    "plt.figure(figsize=(16,10))\n",
    "ax = sns.lineplot(data=ratio_variation_df, x='k', y='ROE', hue='Data_src', style='Clustering mtd')\n",
    "ax.axhline(STANDARD_CLASSIFIER_RV[5], color=\"black\", linestyle=\"--\", label=STANDARD_CLASSIFIER+' RV')\n",
    "ax.set(xlabel='k, LSI Embedding Parameter', ylabel='RV', title=TITLE)\n",
    "plt.legend()\n",
    "# plt.savefig(TITLE)"
   ]
  },
  {
   "cell_type": "code",
   "execution_count": null,
   "metadata": {},
   "outputs": [],
   "source": [
    "TITLE = 'Avg Ratio Variation results - Clustering Russell (by Sector)'\n",
    "plt.figure(figsize=(16,10))\n",
    "ax = sns.lineplot(data=ratio_variation_df, x='k', y='Average Ratio Variation', hue='Data_src', style='Clustering mtd', sort=False)\n",
    "ax.axhline(STANDARD_CLASSIFIER_AVG_RV, color=\"red\", linestyle=\"--\", label=STANDARD_CLASSIFIER+' RV')\n",
    "ax.set(xlabel='k, LSI Embedding Parameter', ylabel='RV', title=TITLE)\n",
    "plt.legend()\n",
    "# plt.savefig(TITLE)"
   ]
  },
  {
   "cell_type": "code",
   "execution_count": null,
   "metadata": {},
   "outputs": [],
   "source": [
    "TITLE = 'Avg Ratio Variation results - Clustering Russell (by Industry)'\n",
    "plt.figure(figsize=(16,10))\n",
    "ax = sns.lineplot(data=ratio_variation_df, x='k', y='Average Ratio Variation', hue='Data_src', style='Clustering mtd', sort=False)\n",
    "ax.axhline(STANDARD_CLASSIFIER_AVG_RV, color=\"red\", linestyle=\"--\", label=STANDARD_CLASSIFIER+' RV')\n",
    "ax.set(xlabel='k, LSI Embedding Parameter', ylabel='RV', title=TITLE)\n",
    "plt.legend()\n",
    "# plt.savefig(TITLE)"
   ]
  },
  {
   "cell_type": "code",
   "execution_count": null,
   "metadata": {},
   "outputs": [],
   "source": [
    "ax = sns.lineplot(data=avg_ratio_pivot_df, sort=False)\n",
    "ax.axhline(GICS_RATIO, color=\"red\", linestyle=\"--\")\n",
    "ax.set(xlabel='k, LSI Embedding Parameter', ylabel='Average Ratio', title='Variation results - Clustering Russell using yahoo desc')\n",
    "plt.savefig('data_out/images/2_4.png')"
   ]
  },
  {
   "cell_type": "markdown",
   "metadata": {},
   "source": [
    "### Method 3a - Similarity to GICS by probability (among ticker with same GICS classification)\n",
    "\n",
    "- probability that given GICS classifies 2 elements in the same industry, they are in the same categorisation in the clustering method\n",
    "- Note that if you classify all the items in the same class, you will get a score of 1\n",
    "- if you include same or different industry similarity, the similarity scores will be very high because most of the time the classifications will be different\n",
    "- in this case you can do the first method because the number of classes is fixed, so you cant put all as the same class"
   ]
  },
  {
   "cell_type": "code",
   "execution_count": null,
   "metadata": {},
   "outputs": [],
   "source": [
    "all_cluster.head()"
   ]
  },
  {
   "cell_type": "code",
   "execution_count": null,
   "metadata": {
    "scrolled": true
   },
   "outputs": [],
   "source": [
    "temp_df = pd.merge(all_cluster, all_cluster, on=STANDARD_CLASSIFIER)\n",
    "cross_df = temp_df[temp_df.Ticker_x != temp_df.Ticker_y]\n",
    "similarity_list = []\n",
    "\n",
    "for mtd in tqdm(all_cluster.columns):\n",
    "    if mtd not in ['Ticker', 'GICS']:\n",
    "        mtd_x = mtd + '_x'\n",
    "        mtd_y = mtd + '_y'\n",
    "        similarity_score = sum(cross_df[mtd_x] == cross_df[mtd_y])/len(cross_df)\n",
    "        data_src, _, k, clustering_mtd = mtd.split('_')\n",
    "        similarity_list.append([data_src, int(k), clustering_mtd, similarity_score])\n",
    "\n",
    "cols = ['Data_src', 'k', 'Clustering mtd', 'Similarity Probability']\n",
    "similarity_df = pd.DataFrame(similarity_list, columns= cols)"
   ]
  },
  {
   "cell_type": "code",
   "execution_count": null,
   "metadata": {},
   "outputs": [],
   "source": [
    "similarity_df.head()"
   ]
  },
  {
   "cell_type": "code",
   "execution_count": null,
   "metadata": {},
   "outputs": [],
   "source": [
    "grp_df = similarity_df.groupby('Data_src')\n",
    "best_similarity_df = grp_df.apply(lambda df: df[df['Similarity Probability'] == df['Similarity Probability'].max()])\n",
    "best_similarity_df = best_similarity_df.droplevel(level=1).drop('Data_src', axis=1)\n",
    "best_similarity_df.sort_values('Similarity Probability', inplace=True, ascending=False)\n",
    "display(best_similarity_df)"
   ]
  },
  {
   "cell_type": "code",
   "execution_count": null,
   "metadata": {
    "scrolled": false
   },
   "outputs": [],
   "source": [
    "TITLE = 'Similarity Probability'\n",
    "plt.figure(figsize=(16,10))\n",
    "ax = sns.lineplot(data=similarity_df, x='k', y='Similarity Probability', hue='Data_src', style='Clustering mtd')\n",
    "ax.set(xlabel='k, LSI Embedding Parameter', ylabel='Similarity Probability', title=TITLE)\n",
    "plt.legend()\n",
    "# plt.savefig(TITLE)"
   ]
  },
  {
   "cell_type": "markdown",
   "metadata": {},
   "source": [
    "### Method 3b - Adjusted random index\n",
    "\n",
    "- comparing similarity between clusterings\n",
    "- can plot heatmap\n",
    "\n",
    "<font size=\"5\">\n",
    "$$\n",
    "Rand Index, R = \\frac\n",
    "                {a + b}\n",
    "                {n \\choose 2}\n",
    "$$\n",
    "</font>\n",
    "\n",
    "- $a$ - no. of pairs of elements in  same subset in both partitions\n",
    "- $b$ - no. of pairs of elements in  diff subset in both partitions"
   ]
  },
  {
   "cell_type": "code",
   "execution_count": null,
   "metadata": {},
   "outputs": [],
   "source": [
    "mtds_clustering_similarity_list = []\n",
    "\n",
    "for cluster_mtd in tqdm(all_cluster.columns):\n",
    "    if cluster_mtd in ('Ticker', STANDARD_CLASSIFIER):\n",
    "        continue\n",
    "    \n",
    "    similarity_score = metrics.adjusted_rand_score(all_cluster[STANDARD_CLASSIFIER], all_cluster[cluster_mtd])\n",
    "    data_src, _, k, clustering_mtd = cluster_mtd.split('_')\n",
    "    mtds_clustering_similarity_list.append([data_src, int(k), clustering_mtd, similarity_score])\n",
    "\n",
    "clustering_similarity_df = pd.DataFrame(mtds_clustering_similarity_list, columns=['Data_src', 'k', 'Clustering mtd', 'Clustering Similarity'])"
   ]
  },
  {
   "cell_type": "code",
   "execution_count": null,
   "metadata": {},
   "outputs": [],
   "source": [
    "clustering_similarity_df.head()"
   ]
  },
  {
   "cell_type": "code",
   "execution_count": null,
   "metadata": {},
   "outputs": [],
   "source": [
    "grp_df = clustering_similarity_df.groupby('Data_src')\n",
    "best_similarity_df = grp_df.apply(lambda df: df[df['Clustering Similarity'] == df['Clustering Similarity'].max()])\n",
    "best_similarity_df = best_similarity_df.droplevel(level=1).drop('Data_src', axis=1)\n",
    "best_similarity_df.sort_values('Clustering Similarity', inplace=True, ascending=False)\n",
    "best_similarity_df"
   ]
  },
  {
   "cell_type": "code",
   "execution_count": null,
   "metadata": {},
   "outputs": [],
   "source": [
    "TITLE = 'Similarity results - Clustering SnP (by GICS)'\n",
    "plt.figure(figsize=(16,10))\n",
    "ax = sns.lineplot(data=clustering_similarity_df, x='k', y='Clustering Similarity', hue='Data_src', style='Clustering mtd')\n",
    "ax.set(xlabel='k, LSI Embedding Parameter', ylabel='Clustering Similarity to GICS', title=TITLE)\n",
    "plt.legend()\n",
    "# plt.savefig(TITLE)"
   ]
  },
  {
   "cell_type": "code",
   "execution_count": null,
   "metadata": {},
   "outputs": [],
   "source": []
  },
  {
   "cell_type": "code",
   "execution_count": null,
   "metadata": {},
   "outputs": [],
   "source": [
    "grp_df = clustering_similarity_df.groupby('Data_src')\n",
    "best_similarity_df = grp_df.apply(lambda df: df[df['Clustering Similarity'] == df['Clustering Similarity'].max()])\n",
    "best_similarity_df = best_similarity_df.droplevel(level=1).drop('Data_src', axis=1)\n",
    "best_similarity_df.sort_values('Clustering Similarity', inplace=True, ascending=False)\n",
    "best_similarity_df"
   ]
  },
  {
   "cell_type": "code",
   "execution_count": null,
   "metadata": {},
   "outputs": [],
   "source": [
    "TITLE = 'Similarity results - Clustering SnP (by GICS)'\n",
    "plt.figure(figsize=(16,10))\n",
    "ax = sns.lineplot(data=clustering_similarity_df, x='k', y='Clustering Similarity', hue='Data_src', style='Clustering mtd')\n",
    "ax.set(xlabel='k, LSI Embedding Parameter', ylabel='Clustering Similarity to GICS', title=TITLE)\n",
    "plt.legend()\n",
    "# plt.savefig(TITLE)"
   ]
  },
  {
   "cell_type": "code",
   "execution_count": null,
   "metadata": {},
   "outputs": [],
   "source": []
  },
  {
   "cell_type": "code",
   "execution_count": null,
   "metadata": {},
   "outputs": [],
   "source": [
    "grp_df = clustering_similarity_df.groupby('Data_src')\n",
    "best_similarity_df = grp_df.apply(lambda df: df[df['Clustering Similarity'] == df['Clustering Similarity'].max()])\n",
    "best_similarity_df = best_similarity_df.droplevel(level=1).drop('Data_src', axis=1)\n",
    "best_similarity_df.sort_values('Clustering Similarity', inplace=True, ascending=False)\n",
    "best_similarity_df"
   ]
  },
  {
   "cell_type": "code",
   "execution_count": null,
   "metadata": {},
   "outputs": [],
   "source": [
    "TITLE = 'Similarity results - Clustering SnP (by GICS)'\n",
    "plt.figure(figsize=(16,10))\n",
    "ax = sns.lineplot(data=clustering_similarity_df, x='k', y='Clustering Similarity', hue='Data_src', style='Clustering mtd')\n",
    "ax.set(xlabel='k, LSI Embedding Parameter', ylabel='Clustering Similarity to GICS', title=TITLE)\n",
    "plt.legend()\n",
    "# plt.savefig(TITLE)"
   ]
  },
  {
   "cell_type": "markdown",
   "metadata": {},
   "source": [
    "### Method 3c - Similarity to GICS by probability of similar classification type among ANY 2 tickers\n",
    "\n",
    "- might be better than Adjusted random index as the number of clusters is fixed so we are not facing cases where we have a clustering assigning all to one cluster\n",
    "- takes much longer\n",
    "\n",
    "<font size=\"5\">\n",
    "$$\n",
    "Similarity Probablity, S = \\frac\n",
    "                {a}\n",
    "                {n \\choose 2}\n",
    "$$\n",
    "</font>"
   ]
  },
  {
   "cell_type": "code",
   "execution_count": null,
   "metadata": {},
   "outputs": [],
   "source": [
    "L = len(all_cluster)\n",
    "similarity_series = pd.Series(0, all_cluster.columns)\n",
    "\n",
    "for i in tnrange(L):\n",
    "    for j in range(L):\n",
    "        if i != j:\n",
    "            similarity = (all_cluster.iloc[i] == all_cluster.iloc[j])\n",
    "            if not similarity.GICS:\n",
    "                similarity = ~similarity\n",
    "            similarity_series += similarity.astype(int)"
   ]
  },
  {
   "cell_type": "code",
   "execution_count": null,
   "metadata": {},
   "outputs": [],
   "source": [
    "similarity_df = pd.DataFrame((similarity_series/similarity_series.GICS)[2:], columns=['Similarity Probability'])"
   ]
  },
  {
   "cell_type": "code",
   "execution_count": null,
   "metadata": {},
   "outputs": [],
   "source": [
    "MTDS = ['kmeans', 'gmm']\n",
    "list_of_dfs = []\n",
    "\n",
    "for mtd in MTDS:\n",
    "    mtd_df = similarity_df.filter(regex=mtd, axis=0)\n",
    "    mtd_df.index = mtd_df.index.map(lambda s: s.split('_')[1])\n",
    "    mtd_df.columns = [mtd] \n",
    "    list_of_dfs.append(mtd_df)\n",
    "\n",
    "similarity_pivot_df = pd.concat(list_of_dfs, axis=1)\n",
    "similarity_pivot_df"
   ]
  },
  {
   "cell_type": "code",
   "execution_count": null,
   "metadata": {},
   "outputs": [],
   "source": [
    "ax = sns.lineplot(data=similarity_pivot_df, sort=False)\n",
    "ax.set(xlabel='k, LSI Embedding Parameter', ylabel='Similarity probability with GICS')"
   ]
  },
  {
   "cell_type": "markdown",
   "metadata": {},
   "source": [
    "## Removed evaluation methods"
   ]
  },
  {
   "cell_type": "markdown",
   "metadata": {},
   "source": [
    "### Method 4 - Majority element ratios (my method)"
   ]
  },
  {
   "cell_type": "code",
   "execution_count": null,
   "metadata": {
    "scrolled": true
   },
   "outputs": [],
   "source": [
    "all_cluster.head()"
   ]
  },
  {
   "cell_type": "code",
   "execution_count": null,
   "metadata": {},
   "outputs": [],
   "source": [
    "# Test\n",
    "all_cluster[all_cluster.GICS == 3]"
   ]
  },
  {
   "cell_type": "code",
   "execution_count": null,
   "metadata": {},
   "outputs": [],
   "source": [
    "def majority_element_proportion(s):\n",
    "    '''\n",
    "    input: series\n",
    "    output: proportion of majority element in series\n",
    "    '''\n",
    "    l = len(s)\n",
    "    n = s.value_counts().iloc[0]\n",
    "    return n/l"
   ]
  },
  {
   "cell_type": "code",
   "execution_count": null,
   "metadata": {},
   "outputs": [],
   "source": [
    "correctness_ratios_df = all_cluster.iloc[:,1:].groupby('GICS').aggregate(majority_element_proportion)"
   ]
  },
  {
   "cell_type": "code",
   "execution_count": null,
   "metadata": {},
   "outputs": [],
   "source": [
    "correctness_ratios_df.plot.bar()\n",
    "# sns.barplot(correctness_ratios_df)"
   ]
  },
  {
   "cell_type": "code",
   "execution_count": null,
   "metadata": {
    "scrolled": false
   },
   "outputs": [],
   "source": [
    "sns.distplot(correctness_ratios_df.iloc[:,0], bins=15)"
   ]
  },
  {
   "cell_type": "markdown",
   "metadata": {},
   "source": [
    "- Since most of the ratios seem to be above the 0.5 ratio, the clustring seems to have clustered pretty closely to GICS standard"
   ]
  },
  {
   "cell_type": "code",
   "execution_count": null,
   "metadata": {},
   "outputs": [],
   "source": []
  },
  {
   "cell_type": "markdown",
   "metadata": {},
   "source": [
    "### Method 2b - Ratio Spread (Absolute distance of to cluster average) (my method)\n",
    "\n",
    "- its like the R2 method applied to ratios, look at each firms ratios absolute distance to its cluster center's ratio\n",
    "- want to see how spread ratios in each cluster are, so the bigger this value the worse\n",
    "- not a good guage i think"
   ]
  },
  {
   "cell_type": "code",
   "execution_count": null,
   "metadata": {},
   "outputs": [],
   "source": [
    "def cluster_distance(s):\n",
    "    '''\n",
    "    input: series\n",
    "    output: sum(x - x_bar), sum of absolute distances to cluster center\n",
    "    '''\n",
    "    mean = s.mean() #ignores NaN values\n",
    "    abs_dist = abs(s-mean).sum()\n",
    "    return abs_dist"
   ]
  },
  {
   "cell_type": "code",
   "execution_count": null,
   "metadata": {},
   "outputs": [],
   "source": [
    "RATIO_NAMES_LIST = list(ticker_ratios_df.columns[1:])\n",
    "all_cluster_with_ratio = pd.merge(all_cluster_filtered, ticker_ratios_normalised_df, on='Ticker')\n",
    "ratio_distances_dict = {}\n",
    "\n",
    "for cluster_mtd in tqdm(all_cluster_filtered.columns):\n",
    "    if cluster_mtd == 'Ticker':\n",
    "        continue\n",
    "    \n",
    "    filter_df = all_cluster_with_ratio[[cluster_mtd] + RATIO_NAMES_LIST]\n",
    "    ratio_distance_sum = filter_df.groupby(cluster_mtd).aggregate(cluster_distance).sum()\n",
    "    non_na_count_series = filter_df.count()[1:]\n",
    "    ratio_distance_avg_list = list(ratio_distance_sum/non_na_count_series)\n",
    "    ratio_distances_dict[cluster_mtd] = ratio_distance_avg_list\n",
    "    \n",
    "ratio_distances_df = pd.DataFrame.from_dict(ratio_distances_dict, orient='index', columns=RATIO_NAMES_LIST)"
   ]
  },
  {
   "cell_type": "code",
   "execution_count": null,
   "metadata": {
    "scrolled": true
   },
   "outputs": [],
   "source": [
    "ratio_distances_df['Average Ratio Cluster Spread'] = ratio_distances_df.mean(axis=1)\n",
    "ratio_distances_df"
   ]
  },
  {
   "cell_type": "code",
   "execution_count": null,
   "metadata": {},
   "outputs": [],
   "source": []
  },
  {
   "cell_type": "markdown",
   "metadata": {},
   "source": [
    "# Extra"
   ]
  },
  {
   "cell_type": "markdown",
   "metadata": {},
   "source": [
    "### Cosine Similarity\n",
    "\n",
    "- taking too long to run"
   ]
  },
  {
   "cell_type": "code",
   "execution_count": null,
   "metadata": {},
   "outputs": [],
   "source": [
    "x = [((1,),(2,),3), ((4,),(1458,),6)]\n",
    "\n",
    "mcorr = ((1458,), (1830,), 1.0000000000000004)\n",
    "list(filter(lambda tup: (tup[0] not in mcorr) and (tup[1] not in mcorr), x))"
   ]
  },
  {
   "cell_type": "code",
   "execution_count": null,
   "metadata": {},
   "outputs": [],
   "source": [
    "((1,2), (4,)) in (1,)"
   ]
  },
  {
   "cell_type": "code",
   "execution_count": null,
   "metadata": {},
   "outputs": [],
   "source": [
    "def cosine_similarity(dtm):\n",
    "    '''\n",
    "    input: Doc Matrix\n",
    "    output: list of lists indicating clusters\n",
    "    '''\n",
    "    corr = np.asarray(np.asmatrix(dtm) * np.asmatrix(dtm).T)\n",
    "    L = corr.shape[0]\n",
    "    \n",
    "    cluster_corrs = []\n",
    "    for i in range(L):\n",
    "        for j in range(i+1,L):\n",
    "            corr_tuple = ((i,), (j,), corr[i][j])\n",
    "            cluster_corrs.append(corr_tuple)\n",
    "            \n",
    "    cluster_list = [(i,) for i in range(L)]\n",
    "    \n",
    "    num_iter = L - NUM_INDUSTRIES\n",
    "    for x in range(num_iter):\n",
    "        max_corr_tup = max(cluster_corrs, key = lambda tup: tup[2])\n",
    "        # filters ur max_corr_tup also\n",
    "        print(max_corr_tup)\n",
    "        cluster_corrs = list(filter(lambda tup: (tup[0] not in max_corr_tup) and (tup[1] not in max_corr_tup),cluster_corrs))\n",
    "        new_cluster = max_corr_tup[0] + max_corr_tup[1] # concatenate tups\n",
    "        cluster_list.remove(max_corr_tup[0])\n",
    "        cluster_list.remove(max_corr_tup[1])\n",
    "        for cluster in cluster_list:\n",
    "            # Similarity\n",
    "            n = len(new_cluster) * len(cluster)\n",
    "            total_similarity = 0\n",
    "            for cpy_1 in new_cluster:\n",
    "                for cpy_2 in cluster:\n",
    "                    total_similarity += corr[cpy_1][cpy_2]\n",
    "            similarity = total_similarity / n\n",
    "            corr_tuple = (new_cluster, cluster, similarity)\n",
    "            cluster_corrs.append(corr_tuple)\n",
    "        cluster_list.append(new_cluster)\n",
    "    \n",
    "    if len(cluster_list) != NUM_INDUSTRIES:\n",
    "        raise Exception()\n",
    "        \n",
    "    pred = np.full(N, -1)\n",
    "    for i in range(NUM_INDUSTRIES):\n",
    "        cluster = list(cluster_list[i])\n",
    "        pred[cluster] = [i] * len(cluster)\n",
    "    return pred"
   ]
  },
  {
   "cell_type": "code",
   "execution_count": null,
   "metadata": {},
   "outputs": [],
   "source": [
    "cosine_similarity(dtm_lsa)"
   ]
  },
  {
   "cell_type": "code",
   "execution_count": null,
   "metadata": {},
   "outputs": [],
   "source": [
    "dtmx = dtm_lsa\n",
    "corr = np.asarray(np.asmatrix(dtmx) * np.asmatrix(dtmx).T)\n",
    "L = corr.shape[0]\n",
    "\n",
    "cluster_corrs = []\n",
    "for i in range(L):\n",
    "    for j in range(i+1,L):\n",
    "        corr_tuple = ((i,), (j,), corr[i][j])\n",
    "        cluster_corrs.append(corr_tuple)\n",
    "\n",
    "cluster_list = [(i,) for i in range(L)]\n",
    "\n",
    "num_iter = L - NUM_INDUSTRIES\n",
    "for x in range(num_iter):\n",
    "    max_corr_tup = max(cluster_corrs, key = lambda tup: tup[2])\n",
    "    # filters ur max_corr_tup also\n",
    "    print(max_corr_tup)\n",
    "    cluster_corrs = list(filter(lambda tup: (tup[0] not in max_corr_tup) and (tup[1] not in max_corr_tup),cluster_corrs))\n",
    "    new_cluster = max_corr_tup[0] + max_corr_tup[1] # concatenate tups\n",
    "    cluster_list.remove(max_corr_tup[0])\n",
    "    cluster_list.remove(max_corr_tup[1])\n",
    "    for cluster in cluster_list:\n",
    "        # Similarity\n",
    "        n = len(new_cluster) * len(cluster)\n",
    "        total_similarity = 0\n",
    "        for cpy_1 in new_cluster:\n",
    "            for cpy_2 in cluster:\n",
    "                total_similarity += corr[cpy_1][cpy_2]\n",
    "        similarity = total_similarity / n\n",
    "        corr_tuple = (new_cluster, cluster, similarity)\n",
    "        cluster_corrs.append(corr_tuple)\n",
    "    cluster_list.append(new_cluster)\n",
    "\n",
    "if len(cluster_list) != NUM_INDUSTRIES:\n",
    "    raise Exception()\n",
    "\n",
    "pred = np.full(N, -1)\n",
    "for i in range(NUM_INDUSTRIES):\n",
    "    cluster = list(cluster_list[i])\n",
    "    pred[cluster] = [i] * len(cluster)"
   ]
  },
  {
   "cell_type": "code",
   "execution_count": null,
   "metadata": {},
   "outputs": [],
   "source": [
    "def t(tup):\n",
    "    print((tup[0] not in max_corr_tup), (tup[1] not in max_corr_tup))\n",
    "    return (tup[0] not in max_corr_tup) and (tup[1] not in max_corr_tup)\n",
    "list(filter(t,cluster_corrs))"
   ]
  },
  {
   "cell_type": "markdown",
   "metadata": {},
   "source": [
    "### Testing"
   ]
  },
  {
   "cell_type": "markdown",
   "metadata": {},
   "source": [
    "##### TDIDF"
   ]
  },
  {
   "cell_type": "code",
   "execution_count": 313,
   "metadata": {},
   "outputs": [
    {
     "data": {
      "text/plain": [
       "array([[0.45398158, 0.22699079, 0.31902763],\n",
       "       [0.5       , 0.5       , 0.        ]])"
      ]
     },
     "execution_count": 313,
     "metadata": {},
     "output_type": "execute_result"
    }
   ],
   "source": [
    "a='apple apple berry cat'\n",
    "b='apple apple berry berry'\n",
    "L = [a,b]\n",
    "v = TfidfVectorizer(stop_words='english', max_features= None, smooth_idf=True,\n",
    "                             ngram_range=(1,1), norm='l1')\n",
    "m = v.fit_transform(L)\n",
    "m.toarray()"
   ]
  },
  {
   "cell_type": "code",
   "execution_count": 314,
   "metadata": {},
   "outputs": [
    {
     "data": {
      "text/plain": [
       "array([1.        , 1.        , 1.40546511])"
      ]
     },
     "execution_count": 314,
     "metadata": {},
     "output_type": "execute_result"
    }
   ],
   "source": [
    "v.idf_"
   ]
  },
  {
   "cell_type": "markdown",
   "metadata": {},
   "source": [
    "##### Normalisation, Standardisation Testing"
   ]
  },
  {
   "cell_type": "code",
   "execution_count": 352,
   "metadata": {},
   "outputs": [
    {
     "name": "stderr",
     "output_type": "stream",
     "text": [
      "c:\\users\\sival\\appdata\\local\\programs\\python\\python36\\lib\\site-packages\\sklearn\\utils\\validation.py:475: DataConversionWarning: Data with input dtype int32 was converted to float64 by StandardScaler.\n",
      "  warnings.warn(msg, DataConversionWarning)\n",
      "c:\\users\\sival\\appdata\\local\\programs\\python\\python36\\lib\\site-packages\\sklearn\\utils\\validation.py:475: DataConversionWarning: Data with input dtype int32 was converted to float64 by StandardScaler.\n",
      "  warnings.warn(msg, DataConversionWarning)\n"
     ]
    },
    {
     "data": {
      "text/plain": [
       "array([1., 1.])"
      ]
     },
     "execution_count": 352,
     "metadata": {},
     "output_type": "execute_result"
    }
   ],
   "source": [
    "m = np.array([[1,2,3], [3,4,5]])\n",
    "m = StandardScaler().fit_transform(m)\n",
    "m.mean(axis=0).round(3) # Checks if StandardScaled (z score)\n",
    "\n",
    "m = Normalizer().fit_transform(m)\n",
    "np.linalg.norm(m, axis=1) # Checks L2 norm (shd be 1 if normalised)"
   ]
  },
  {
   "cell_type": "markdown",
   "metadata": {},
   "source": [
    "##### LSA Word Embedding (Test)"
   ]
  },
  {
   "cell_type": "code",
   "execution_count": null,
   "metadata": {},
   "outputs": [],
   "source": [
    "lsa = TruncatedSVD(200, algorithm = 'arpack')\n",
    "dtm_lsa = lsa.fit_transform(dtms[0])\n",
    "dtm_lsa = Normalizer().fit_transform(dtm_lsa) # normalisae so each vector is len 1"
   ]
  },
  {
   "cell_type": "code",
   "execution_count": null,
   "metadata": {
    "scrolled": true
   },
   "outputs": [],
   "source": [
    "pd.DataFrame(dtm_lsa).head()"
   ]
  },
  {
   "cell_type": "markdown",
   "metadata": {},
   "source": [
    "##### K - Means"
   ]
  },
  {
   "cell_type": "code",
   "execution_count": null,
   "metadata": {
    "scrolled": true
   },
   "outputs": [],
   "source": [
    "# defining the kmeans function with initialization as k-means++\n",
    "kmeans = KMeans(n_clusters=NUM_INDUSTRIES, init='k-means++')\n",
    "# fitting the k means algorithm on scaled data\n",
    "kmeans.fit(dtm_lsa)\n",
    "pred = kmeans.predict(dtm_lsa)\n",
    "# pd.concat([df[['company']], pd.DataFrame(pred)], axis=1).head()\n",
    "pred"
   ]
  },
  {
   "cell_type": "markdown",
   "metadata": {},
   "source": [
    "##### #d Visualisation"
   ]
  },
  {
   "cell_type": "code",
   "execution_count": null,
   "metadata": {},
   "outputs": [],
   "source": [
    "ax = plt.axes(projection='3d')\n",
    "ax.scatter(dtm_lsa[:,0], dtm_lsa[:,1], dtm_lsa[:,2], c=DESC_DFS[0].GICS, cmap='viridis')"
   ]
  },
  {
   "cell_type": "markdown",
   "metadata": {},
   "source": [
    "### Old Code"
   ]
  },
  {
   "cell_type": "markdown",
   "metadata": {},
   "source": [
    "##### R2 Evaluation (longer code)"
   ]
  },
  {
   "cell_type": "code",
   "execution_count": null,
   "metadata": {
    "scrolled": true
   },
   "outputs": [],
   "source": [
    "# R2_dict = {}\n",
    "\n",
    "# for cluster_mtd in tqdm(all_cluster_filtered.columns):\n",
    "#     if cluster_mtd == 'Ticker':\n",
    "#         continue\n",
    "    \n",
    "#     R2_list = []\n",
    "#     for i in range(NUM_INDUSTRIES):\n",
    "#         cluster_tickers = all_cluster_filtered[all_cluster_filtered[cluster_mtd] == i].Ticker\n",
    "#         cluster_ticker_returns = ticker_return_df[cluster_tickers]\n",
    "#         mean_return = cluster_ticker_returns.mean(axis=1)\n",
    "#         cluster_R2 = [mean_return.corr(ticker_returns) for _, ticker_returns in cluster_ticker_returns.iteritems()]\n",
    "#         R2_list.extend(cluster_R2)\n",
    "#     avg_R2 = sum(R2_list)/len(R2_list)\n",
    "#     R2_dict[cluster_mtd] = avg_R2\n",
    "\n",
    "# avg_R2_df = pd.DataFrame.from_dict(R2_dict, orient='index', columns=['Average R2'])"
   ]
  },
  {
   "cell_type": "code",
   "execution_count": null,
   "metadata": {},
   "outputs": [],
   "source": [
    "# GICS_R2 = R2_dict['GICS']\n",
    "# MTDS = ['kmeans', 'gmm']\n",
    "# list_of_dfs = []\n",
    "\n",
    "# for mtd in MTDS:\n",
    "#     mtd_df = avg_R2_df.filter(regex=mtd, axis=0)\n",
    "#     mtd_df.index = mtd_df.index.map(lambda s: s.split('_')[1])\n",
    "#     mtd_df.columns = [mtd]  #(columns = {'test':'TEST'}, inplace = True) \n",
    "#     list_of_dfs.append(mtd_df)\n",
    "\n",
    "# avg_R2_pivot_df = pd.concat(list_of_dfs, axis=1)\n",
    "# print(GICS_R2)\n",
    "# avg_R2_pivot_df"
   ]
  },
  {
   "cell_type": "markdown",
   "metadata": {},
   "source": [
    "##### RV Evaluation (longer code)"
   ]
  },
  {
   "cell_type": "code",
   "execution_count": null,
   "metadata": {},
   "outputs": [],
   "source": [
    "# RATIO_NAMES_LIST = list(ticker_ratios_df.columns[1:])\n",
    "# all_cluster_with_ratio = pd.merge(all_cluster_filtered, ticker_ratios_normalised_df, on='Ticker')\n",
    "# ratio_variation_dict = {}\n",
    "\n",
    "# for cluster_mtd in tqdm(all_cluster_filtered.columns):\n",
    "#     if cluster_mtd == 'Ticker':\n",
    "#         continue\n",
    "        \n",
    "#     filter_df = all_cluster_with_ratio[[cluster_mtd] + RATIO_NAMES_LIST]\n",
    "#     v_m = all_cluster_with_ratio[RATIO_NAMES_LIST].mean()\n",
    "#     variation_df = filter_df.groupby(cluster_mtd).aggregate(cluster_variation)\n",
    "#     variation_series = variation_df.sum()\n",
    "#     N_ratios = ticker_ratios_normalised_df[RATIO_NAMES_LIST].count() # count non-NaN values\n",
    "\n",
    "#     normaliser_series = ticker_ratios_normalised_df[RATIO_NAMES_LIST].std()\n",
    "\n",
    "#     sigma_v = list(np.sqrt(variation_series/N_ratios) / normaliser_series)\n",
    "#     ratio_variation_dict[cluster_mtd] = sigma_v\n",
    "\n",
    "# ratio_variation_df = pd.DataFrame.from_dict(ratio_variation_dict, orient='index', columns=RATIO_NAMES_LIST)\n",
    "# ratio_variation_df['Average Ratio Variation'] = ratio_variation_df.mean(axis=1)"
   ]
  },
  {
   "cell_type": "code",
   "execution_count": null,
   "metadata": {},
   "outputs": [],
   "source": [
    "# avg_ratio_df = ratio_variation_df[['Average Ratio Variation']]\n",
    "# GICS_RATIO = ratio_variation_df.loc['GICS', 'Average Ratio Variation']\n",
    "# MTDS = ['kmeans', 'gmm']\n",
    "# list_of_dfs = []\n",
    "\n",
    "# for mtd in MTDS:\n",
    "#     mtd_df = avg_ratio_df.filter(regex=mtd, axis=0)\n",
    "#     mtd_df.index = mtd_df.index.map(lambda s: s.split('_')[1])\n",
    "#     mtd_df.columns = [mtd]  #(columns = {'test':'TEST'}, inplace = True) \n",
    "#     list_of_dfs.append(mtd_df)\n",
    "\n",
    "# avg_ratio_pivot_df = pd.concat(list_of_dfs, axis=1)\n",
    "# print(GICS_RATIO)\n",
    "# avg_ratio_pivot_df"
   ]
  },
  {
   "cell_type": "markdown",
   "metadata": {},
   "source": [
    "### Random"
   ]
  },
  {
   "cell_type": "markdown",
   "metadata": {},
   "source": [
    "##### Cosine Similarity"
   ]
  },
  {
   "cell_type": "code",
   "execution_count": null,
   "metadata": {
    "scrolled": true
   },
   "outputs": [],
   "source": [
    "# Plotting for 2D\n",
    "%pylab inline\n",
    "\n",
    "xs = [w[0] for w in dtm_lsa]\n",
    "ys = [w[1] for w in dtm_lsa]\n",
    "xs, ys\n",
    "\n",
    "figure()\n",
    "plt.scatter(xs,ys)\n",
    "xlabel('First principal component')\n",
    "ylabel('Second principal component')\n",
    "title('Plot of points against LSA principal components')"
   ]
  },
  {
   "cell_type": "code",
   "execution_count": null,
   "metadata": {},
   "outputs": [],
   "source": [
    "def cosine_similarity(dtm):\n",
    "    '''\n",
    "    input: Doc Matrix\n",
    "    output: list of lists indicating clusters\n",
    "    '''\n",
    "    corr = np.asarray(numpy.asmatrix(dtm_lsa) * numpy.asmatrix(dtm_lsa).T)\n",
    "    \n",
    "    L = dtm.shape[0]\n",
    "    clusters = [[i] for i in range(L)]\n",
    "    \n",
    "    while (len(clusters) != NUM_INDUSTRIES):\n",
    "        L = len(clusters)\n",
    "        max_similarity = -1\n",
    "        max_similarity_clusters = (None, None)\n",
    "        for i in range(L):\n",
    "            for j in range(i+1,L):\n",
    "                cluster_1 = clusters[i]\n",
    "                cluster_2 = clusters[j]\n",
    "                n = len(cluster_1) * len(cluster_2)\n",
    "                \n",
    "                # Similarity\n",
    "                total_similarity = 0\n",
    "                for cpy_1 in cluster_1:\n",
    "                    for cpy_2 in cluster_2:\n",
    "                        print(cpy_1, cpy_2)\n",
    "                        total_similarity += corr[cpy_1][cpy_2]\n",
    "                similarity = total_similarity / n\n",
    "                \n",
    "                if similarity > max_similarity:\n",
    "                    max_similarity = similarity \n",
    "                    max_similarity_clusters = (i, j)\n",
    "        \n",
    "        # Merge max_similarity clusters\n",
    "        cluster_merge = clusters.pop(max_similarity_clusters[1])\n",
    "        clusters[max_similarity_clusters[0]].append(cluster_merge)\n",
    "        print(L)\n",
    "    return clusters"
   ]
  },
  {
   "cell_type": "markdown",
   "metadata": {},
   "source": [
    "|Embedding model|R2|proportion of right classification|\n",
    "|----------------|--------|--------|\n",
    "| LSI length 200 | 0.4537 | 0.4962 |\n",
    "| LSI length 300 | 0.4459 | 0.4768 |\n",
    "| LSI length 400 | 0.4421 | 0.4072 |\n",
    "| LSI length 500 | 0.4554 | 0.4244 |\n",
    "| LSI length 600 | 0.4362 | 0.4409 |\n",
    "| LSI length 700 | 0.4407 | 0.3842 |\n",
    "| LSI length 800 | 0.4417 | 0.4921 |\n",
    "| LSI length 900 | 0.4478 | 0.4005 |\n",
    "| LSI length 1000 | 0.4403 | 0.4068 |\n",
    "| LSI length 1100 | 0.4380 | 0.3933 |"
   ]
  },
  {
   "cell_type": "code",
   "execution_count": null,
   "metadata": {},
   "outputs": [],
   "source": []
  }
 ],
 "metadata": {
  "kernelspec": {
   "display_name": "Python 3",
   "language": "python",
   "name": "python3"
  },
  "language_info": {
   "codemirror_mode": {
    "name": "ipython",
    "version": 3
   },
   "file_extension": ".py",
   "mimetype": "text/x-python",
   "name": "python",
   "nbconvert_exporter": "python",
   "pygments_lexer": "ipython3",
   "version": "3.6.2"
  }
 },
 "nbformat": 4,
 "nbformat_minor": 2
}

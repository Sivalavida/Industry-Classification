{
 "cells": [
  {
   "cell_type": "markdown",
   "metadata": {},
   "source": [
    "# LSI Word Embedding using K-means, Gaussian Mixture and Cosine Similarity as Clustering"
   ]
  },
  {
   "cell_type": "code",
   "execution_count": 1,
   "metadata": {},
   "outputs": [],
   "source": [
    "import os.path\n",
    "\n",
    "from gensim import corpora\n",
    "from gensim.models import LsiModel\n",
    "from gensim.models.coherencemodel import CoherenceModel\n",
    "\n",
    "from nltk.tokenize import RegexpTokenizer\n",
    "from nltk.corpus import stopwords\n",
    "from nltk.stem.porter import PorterStemmer\n",
    "\n",
    "from sklearn.decomposition import TruncatedSVD\n",
    "from sklearn.preprocessing import Normalizer\n",
    "from sklearn.feature_extraction.text import TfidfVectorizer\n",
    "from sklearn.cluster import KMeans\n",
    "from sklearn.mixture import GaussianMixture\n",
    "\n",
    "# from clustering_class import *\n",
    "# from new_combine_models import *\n",
    "# from DEC import *\n",
    "# from generate_word_vector import *\n",
    "\n",
    "from tqdm.notebook import tqdm, tnrange\n",
    "import numpy as np\n",
    "import matplotlib.pyplot as plt\n",
    "import pandas as pd\n",
    "import seaborn as sns"
   ]
  },
  {
   "cell_type": "code",
   "execution_count": 2,
   "metadata": {},
   "outputs": [],
   "source": [
    "pd.set_option('display.max_rows', 50)\n",
    "plt.rcParams['figure.figsize'] = [17, 6]\n",
    "plt.rcParams.update({'font.size': 12})"
   ]
  },
  {
   "cell_type": "code",
   "execution_count": 3,
   "metadata": {},
   "outputs": [
    {
     "data": {
      "text/html": [
       "<style>\n",
       "table {float:center}\n",
       "</style>"
      ],
      "text/plain": [
       "<IPython.core.display.HTML object>"
      ]
     },
     "metadata": {},
     "output_type": "display_data"
    }
   ],
   "source": [
    "%%html\n",
    "<style>\n",
    "table {float:center}\n",
    "</style>"
   ]
  },
  {
   "cell_type": "markdown",
   "metadata": {},
   "source": [
    "# Read and Merge files"
   ]
  },
  {
   "cell_type": "markdown",
   "metadata": {},
   "source": [
    "##### Ticker to GICS"
   ]
  },
  {
   "cell_type": "code",
   "execution_count": 4,
   "metadata": {},
   "outputs": [],
   "source": [
    "ticker_to_gics_df = pd.read_csv('data_out/ticker_to_gics.csv', index_col=0)"
   ]
  },
  {
   "cell_type": "code",
   "execution_count": 5,
   "metadata": {},
   "outputs": [
    {
     "data": {
      "text/html": [
       "<div>\n",
       "<style scoped>\n",
       "    .dataframe tbody tr th:only-of-type {\n",
       "        vertical-align: middle;\n",
       "    }\n",
       "\n",
       "    .dataframe tbody tr th {\n",
       "        vertical-align: top;\n",
       "    }\n",
       "\n",
       "    .dataframe thead th {\n",
       "        text-align: right;\n",
       "    }\n",
       "</style>\n",
       "<table border=\"1\" class=\"dataframe\">\n",
       "  <thead>\n",
       "    <tr style=\"text-align: right;\">\n",
       "      <th></th>\n",
       "      <th>Ticker</th>\n",
       "      <th>GICS</th>\n",
       "    </tr>\n",
       "  </thead>\n",
       "  <tbody>\n",
       "    <tr>\n",
       "      <th>0</th>\n",
       "      <td>0910150D</td>\n",
       "      <td>253010</td>\n",
       "    </tr>\n",
       "    <tr>\n",
       "      <th>1</th>\n",
       "      <td>1284849D</td>\n",
       "      <td>352020</td>\n",
       "    </tr>\n",
       "    <tr>\n",
       "      <th>2</th>\n",
       "      <td>1288453D</td>\n",
       "      <td>302010</td>\n",
       "    </tr>\n",
       "    <tr>\n",
       "      <th>3</th>\n",
       "      <td>1317355D</td>\n",
       "      <td>451020</td>\n",
       "    </tr>\n",
       "    <tr>\n",
       "      <th>4</th>\n",
       "      <td>1448062D</td>\n",
       "      <td>502010</td>\n",
       "    </tr>\n",
       "    <tr>\n",
       "      <th>...</th>\n",
       "      <td>...</td>\n",
       "      <td>...</td>\n",
       "    </tr>\n",
       "    <tr>\n",
       "      <th>714</th>\n",
       "      <td>YUM</td>\n",
       "      <td>253010</td>\n",
       "    </tr>\n",
       "    <tr>\n",
       "      <th>715</th>\n",
       "      <td>ZBH</td>\n",
       "      <td>351010</td>\n",
       "    </tr>\n",
       "    <tr>\n",
       "      <th>716</th>\n",
       "      <td>ZBRA</td>\n",
       "      <td>452030</td>\n",
       "    </tr>\n",
       "    <tr>\n",
       "      <th>717</th>\n",
       "      <td>ZION</td>\n",
       "      <td>401010</td>\n",
       "    </tr>\n",
       "    <tr>\n",
       "      <th>718</th>\n",
       "      <td>ZTS</td>\n",
       "      <td>352020</td>\n",
       "    </tr>\n",
       "  </tbody>\n",
       "</table>\n",
       "<p>719 rows × 2 columns</p>\n",
       "</div>"
      ],
      "text/plain": [
       "       Ticker    GICS\n",
       "0    0910150D  253010\n",
       "1    1284849D  352020\n",
       "2    1288453D  302010\n",
       "3    1317355D  451020\n",
       "4    1448062D  502010\n",
       "..        ...     ...\n",
       "714       YUM  253010\n",
       "715       ZBH  351010\n",
       "716      ZBRA  452030\n",
       "717      ZION  401010\n",
       "718       ZTS  352020\n",
       "\n",
       "[719 rows x 2 columns]"
      ]
     },
     "execution_count": 5,
     "metadata": {},
     "output_type": "execute_result"
    }
   ],
   "source": [
    "ticker_to_gics_df"
   ]
  },
  {
   "cell_type": "markdown",
   "metadata": {},
   "source": [
    "##### SnP Descriptions (from 10K)"
   ]
  },
  {
   "cell_type": "code",
   "execution_count": 25,
   "metadata": {},
   "outputs": [],
   "source": [
    "snp_desc_10K_df = pd.read_pickle('data_out/snp_desc_10K.pkl')"
   ]
  },
  {
   "cell_type": "code",
   "execution_count": 26,
   "metadata": {
    "scrolled": true
   },
   "outputs": [],
   "source": [
    "# [ticker for ticker in snp_desc_10K_df.Ticker if ticker not in list(ticker_to_gics_df.Ticker)]"
   ]
  },
  {
   "cell_type": "code",
   "execution_count": 27,
   "metadata": {},
   "outputs": [],
   "source": [
    "snp_desc_10K_df = pd.merge(snp_desc_10K_df, ticker_to_gics_df, on='Ticker')\n",
    "snp_desc_10K_df = snp_desc_10K_df[['Ticker', 'Description', 'GICS']]\n",
    "snp_desc_10K_df.GICS = pd.Categorical(snp_desc_10K_df.GICS)"
   ]
  },
  {
   "cell_type": "code",
   "execution_count": 28,
   "metadata": {},
   "outputs": [
    {
     "data": {
      "text/html": [
       "<div>\n",
       "<style scoped>\n",
       "    .dataframe tbody tr th:only-of-type {\n",
       "        vertical-align: middle;\n",
       "    }\n",
       "\n",
       "    .dataframe tbody tr th {\n",
       "        vertical-align: top;\n",
       "    }\n",
       "\n",
       "    .dataframe thead th {\n",
       "        text-align: right;\n",
       "    }\n",
       "</style>\n",
       "<table border=\"1\" class=\"dataframe\">\n",
       "  <thead>\n",
       "    <tr style=\"text-align: right;\">\n",
       "      <th></th>\n",
       "      <th>Ticker</th>\n",
       "      <th>Description</th>\n",
       "      <th>GICS</th>\n",
       "    </tr>\n",
       "  </thead>\n",
       "  <tbody>\n",
       "    <tr>\n",
       "      <th>0</th>\n",
       "      <td>AAL</td>\n",
       "      <td>PART I   ITEM 1. BUSINESS  Overview  American ...</td>\n",
       "      <td>203020</td>\n",
       "    </tr>\n",
       "    <tr>\n",
       "      <th>1</th>\n",
       "      <td>AAPL</td>\n",
       "      <td>PART I  Item 1.Business  Company Background  T...</td>\n",
       "      <td>452020</td>\n",
       "    </tr>\n",
       "    <tr>\n",
       "      <th>2</th>\n",
       "      <td>AAP</td>\n",
       "      <td>PART I  Item 1. Business.  Unless the context ...</td>\n",
       "      <td>255040</td>\n",
       "    </tr>\n",
       "    <tr>\n",
       "      <th>3</th>\n",
       "      <td>ABBV</td>\n",
       "      <td>PART I  ITEM 1. BUSINESS  Overview  AbbVie(1) ...</td>\n",
       "      <td>352010</td>\n",
       "    </tr>\n",
       "    <tr>\n",
       "      <th>4</th>\n",
       "      <td>ABC</td>\n",
       "      <td>PART I  ITEM 1. BUSINESS  As used herein  the ...</td>\n",
       "      <td>351020</td>\n",
       "    </tr>\n",
       "    <tr>\n",
       "      <th>...</th>\n",
       "      <td>...</td>\n",
       "      <td>...</td>\n",
       "      <td>...</td>\n",
       "    </tr>\n",
       "    <tr>\n",
       "      <th>409</th>\n",
       "      <td>XYL</td>\n",
       "      <td>ITEM 1. BUSINESS  Business Overview  Xylem  wi...</td>\n",
       "      <td>201060</td>\n",
       "    </tr>\n",
       "    <tr>\n",
       "      <th>410</th>\n",
       "      <td>YUM</td>\n",
       "      <td>PART I  Item 1.Business.  Yum! Brands  Inc. (r...</td>\n",
       "      <td>253010</td>\n",
       "    </tr>\n",
       "    <tr>\n",
       "      <th>411</th>\n",
       "      <td>ZBH</td>\n",
       "      <td>PART I   Item 1.    Business   Overview   Zimm...</td>\n",
       "      <td>351010</td>\n",
       "    </tr>\n",
       "    <tr>\n",
       "      <th>412</th>\n",
       "      <td>ZION</td>\n",
       "      <td>ITEM 1. BUSINESS  DESCRIPTION OF BUSINESS  Zio...</td>\n",
       "      <td>401010</td>\n",
       "    </tr>\n",
       "    <tr>\n",
       "      <th>413</th>\n",
       "      <td>ZTS</td>\n",
       "      <td>PART I  Item 1. Business.  Overview   Zoetis I...</td>\n",
       "      <td>352020</td>\n",
       "    </tr>\n",
       "  </tbody>\n",
       "</table>\n",
       "<p>414 rows × 3 columns</p>\n",
       "</div>"
      ],
      "text/plain": [
       "    Ticker                                        Description    GICS\n",
       "0      AAL  PART I   ITEM 1. BUSINESS  Overview  American ...  203020\n",
       "1     AAPL  PART I  Item 1.Business  Company Background  T...  452020\n",
       "2      AAP  PART I  Item 1. Business.  Unless the context ...  255040\n",
       "3     ABBV  PART I  ITEM 1. BUSINESS  Overview  AbbVie(1) ...  352010\n",
       "4      ABC  PART I  ITEM 1. BUSINESS  As used herein  the ...  351020\n",
       "..     ...                                                ...     ...\n",
       "409    XYL  ITEM 1. BUSINESS  Business Overview  Xylem  wi...  201060\n",
       "410    YUM  PART I  Item 1.Business.  Yum! Brands  Inc. (r...  253010\n",
       "411    ZBH  PART I   Item 1.    Business   Overview   Zimm...  351010\n",
       "412   ZION  ITEM 1. BUSINESS  DESCRIPTION OF BUSINESS  Zio...  401010\n",
       "413    ZTS  PART I  Item 1. Business.  Overview   Zoetis I...  352020\n",
       "\n",
       "[414 rows x 3 columns]"
      ]
     },
     "execution_count": 28,
     "metadata": {},
     "output_type": "execute_result"
    }
   ],
   "source": [
    "snp_desc_10K_df"
   ]
  },
  {
   "cell_type": "code",
   "execution_count": 29,
   "metadata": {},
   "outputs": [
    {
     "name": "stdout",
     "output_type": "stream",
     "text": [
      "60\n"
     ]
    }
   ],
   "source": [
    "print(len(set(snp_desc_10K_df.GICS)))"
   ]
  },
  {
   "cell_type": "code",
   "execution_count": 43,
   "metadata": {
    "scrolled": true
   },
   "outputs": [
    {
     "data": {
      "text/plain": [
       "['ADS',\n",
       " 'AEE',\n",
       " 'AGN',\n",
       " 'AMG',\n",
       " 'AMP',\n",
       " 'AN',\n",
       " 'AYI',\n",
       " 'BBBY',\n",
       " 'BDX',\n",
       " 'BHI',\n",
       " 'BLK',\n",
       " 'CB',\n",
       " 'CMA',\n",
       " 'CNC',\n",
       " 'CRM',\n",
       " 'CSCO',\n",
       " 'CVS',\n",
       " 'DGX',\n",
       " 'DG',\n",
       " 'DLR',\n",
       " 'ENDP',\n",
       " 'EQIX',\n",
       " 'EQT',\n",
       " 'EXPD',\n",
       " 'FE',\n",
       " 'FL',\n",
       " 'FSLR',\n",
       " 'GD',\n",
       " 'GOOGL',\n",
       " 'GPS',\n",
       " 'GT',\n",
       " 'HD',\n",
       " 'HOG',\n",
       " 'HON',\n",
       " 'HP',\n",
       " 'ISRG',\n",
       " 'JWN',\n",
       " 'KR',\n",
       " 'LKQ',\n",
       " 'LVLT',\n",
       " 'MAA',\n",
       " 'MAC',\n",
       " 'MAT',\n",
       " 'MAT',\n",
       " 'MMC',\n",
       " 'MNK',\n",
       " 'MUR',\n",
       " 'MU',\n",
       " 'M',\n",
       " 'NAVI',\n",
       " 'NFLX',\n",
       " 'NOC',\n",
       " 'OMC',\n",
       " 'PBI',\n",
       " 'PCG',\n",
       " 'PDCO',\n",
       " 'PG',\n",
       " 'PG',\n",
       " 'PPG',\n",
       " 'PPL',\n",
       " 'RIG',\n",
       " 'RSG',\n",
       " 'RTN',\n",
       " 'R',\n",
       " 'SIG',\n",
       " 'SPG',\n",
       " 'SRCL',\n",
       " 'SWN',\n",
       " 'TDC',\n",
       " 'TDG',\n",
       " 'TGNA',\n",
       " 'TRIP',\n",
       " 'TXT',\n",
       " 'UDR',\n",
       " 'UNH',\n",
       " 'URBN',\n",
       " 'VIAB',\n",
       " 'VZ',\n",
       " 'WEC',\n",
       " 'WLTW',\n",
       " 'WMB',\n",
       " 'WM',\n",
       " 'WU',\n",
       " 'WYNN',\n",
       " 'XRX']"
      ]
     },
     "execution_count": 43,
     "metadata": {},
     "output_type": "execute_result"
    }
   ],
   "source": [
    "[t for t in snp_desc_10K_df.Ticker if t not in list(snp_desc_yahoo_df.Ticker)]"
   ]
  },
  {
   "cell_type": "code",
   "execution_count": 44,
   "metadata": {
    "scrolled": true
   },
   "outputs": [
    {
     "data": {
      "text/plain": [
       "['ABMD',\n",
       " 'AMD',\n",
       " 'ARE',\n",
       " 'ALGN',\n",
       " 'GOOG',\n",
       " 'ANSS',\n",
       " 'AOS',\n",
       " 'APA',\n",
       " 'APTV',\n",
       " 'ANET',\n",
       " 'ATO',\n",
       " 'BKR',\n",
       " 'BKNG',\n",
       " 'BR',\n",
       " 'AVGO',\n",
       " 'COG',\n",
       " 'CDNS',\n",
       " 'CAH',\n",
       " 'CBOE',\n",
       " 'CE',\n",
       " 'CI',\n",
       " 'C',\n",
       " 'COP',\n",
       " 'CPRT',\n",
       " 'CTVA',\n",
       " 'DVN',\n",
       " 'FANG',\n",
       " 'DISH',\n",
       " 'DISCA',\n",
       " 'DTE',\n",
       " 'DRE',\n",
       " 'DXC',\n",
       " 'EIX',\n",
       " 'ETR',\n",
       " 'EXC',\n",
       " 'RE',\n",
       " 'FRC',\n",
       " 'FLT',\n",
       " 'FTNT',\n",
       " 'FOXA',\n",
       " 'FOX',\n",
       " 'IT',\n",
       " 'GE',\n",
       " 'GL',\n",
       " 'PEAK',\n",
       " 'HES',\n",
       " 'HFC',\n",
       " 'HLT',\n",
       " 'HWM',\n",
       " 'INFO',\n",
       " 'IEX',\n",
       " 'ILMN',\n",
       " 'INCY',\n",
       " 'INTC',\n",
       " 'IQV',\n",
       " 'IPGP',\n",
       " 'J',\n",
       " 'KMI',\n",
       " 'LHX',\n",
       " 'LW',\n",
       " 'LDOS',\n",
       " 'LVS',\n",
       " 'LIN',\n",
       " 'LYV',\n",
       " 'LYB',\n",
       " 'MRO',\n",
       " 'MKTX',\n",
       " 'MXIM',\n",
       " 'MCD',\n",
       " 'MGM',\n",
       " 'MS',\n",
       " 'MSCI',\n",
       " 'NBL',\n",
       " 'NLOK',\n",
       " 'NCLH',\n",
       " 'OXY',\n",
       " 'ODFL',\n",
       " 'PKG',\n",
       " 'PSX',\n",
       " 'PHM',\n",
       " 'RJF',\n",
       " 'REG',\n",
       " 'RMD',\n",
       " 'ROL',\n",
       " 'NOW',\n",
       " 'STE',\n",
       " 'SNPS',\n",
       " 'TMUS',\n",
       " 'TTWO',\n",
       " 'TPR',\n",
       " 'FTI',\n",
       " 'TFX',\n",
       " 'TT',\n",
       " 'TFC',\n",
       " 'TWTR',\n",
       " 'VLO',\n",
       " 'WAB',\n",
       " 'DIS',\n",
       " 'WELL',\n",
       " 'WY',\n",
       " 'WRK',\n",
       " 'ZBRA']"
      ]
     },
     "execution_count": 44,
     "metadata": {},
     "output_type": "execute_result"
    }
   ],
   "source": [
    "[t for t in snp_desc_yahoo_df.Ticker if t not in list(snp_desc_10K_df.Ticker)]"
   ]
  },
  {
   "cell_type": "markdown",
   "metadata": {},
   "source": [
    "- There seems to be alot of non-overlapping tickers in both snp data"
   ]
  },
  {
   "cell_type": "markdown",
   "metadata": {},
   "source": [
    "##### SnP Descriptions (from yahoo)"
   ]
  },
  {
   "cell_type": "code",
   "execution_count": 11,
   "metadata": {},
   "outputs": [],
   "source": [
    "snp_desc_yahoo_df = pd.read_csv('yahoo_spiders/data_out/yahoo_desc.csv', ).dropna().reset_index(drop=True)\n",
    "\n",
    "snp_desc_yahoo_df = pd.merge(snp_desc_yahoo_df, ticker_to_gics_df, on='Ticker')\n",
    "\n",
    "snp_desc_yahoo_df.GICS = pd.Categorical(snp_desc_yahoo_df.GICS)\n",
    "snp_desc_yahoo_df.Industry = pd.Categorical(snp_desc_yahoo_df.Industry)\n",
    "snp_desc_yahoo_df.Sector = pd.Categorical(snp_desc_yahoo_df.Sector)"
   ]
  },
  {
   "cell_type": "code",
   "execution_count": 37,
   "metadata": {},
   "outputs": [
    {
     "data": {
      "text/html": [
       "<div>\n",
       "<style scoped>\n",
       "    .dataframe tbody tr th:only-of-type {\n",
       "        vertical-align: middle;\n",
       "    }\n",
       "\n",
       "    .dataframe tbody tr th {\n",
       "        vertical-align: top;\n",
       "    }\n",
       "\n",
       "    .dataframe thead th {\n",
       "        text-align: right;\n",
       "    }\n",
       "</style>\n",
       "<table border=\"1\" class=\"dataframe\">\n",
       "  <thead>\n",
       "    <tr style=\"text-align: right;\">\n",
       "      <th></th>\n",
       "      <th>Ticker</th>\n",
       "      <th>Description</th>\n",
       "      <th>Sector</th>\n",
       "      <th>Industry</th>\n",
       "      <th>GICS</th>\n",
       "    </tr>\n",
       "  </thead>\n",
       "  <tbody>\n",
       "    <tr>\n",
       "      <th>0</th>\n",
       "      <td>ABT</td>\n",
       "      <td>Abbott Laboratories discovers, develops, manuf...</td>\n",
       "      <td>Healthcare</td>\n",
       "      <td>Medical Devices</td>\n",
       "      <td>351010</td>\n",
       "    </tr>\n",
       "    <tr>\n",
       "      <th>1</th>\n",
       "      <td>ACN</td>\n",
       "      <td>Accenture plc provides consulting, technology,...</td>\n",
       "      <td>Technology</td>\n",
       "      <td>Information Technology Services</td>\n",
       "      <td>451020</td>\n",
       "    </tr>\n",
       "    <tr>\n",
       "      <th>2</th>\n",
       "      <td>MMM</td>\n",
       "      <td>3M Company develops, manufactures, and markets...</td>\n",
       "      <td>Industrials</td>\n",
       "      <td>Specialty Industrial Machinery</td>\n",
       "      <td>201050</td>\n",
       "    </tr>\n",
       "    <tr>\n",
       "      <th>3</th>\n",
       "      <td>ABMD</td>\n",
       "      <td>Abiomed, Inc. engages in the research, develop...</td>\n",
       "      <td>Healthcare</td>\n",
       "      <td>Medical Devices</td>\n",
       "      <td>351010</td>\n",
       "    </tr>\n",
       "    <tr>\n",
       "      <th>4</th>\n",
       "      <td>ADBE</td>\n",
       "      <td>Adobe Inc. operates as a diversified software ...</td>\n",
       "      <td>Technology</td>\n",
       "      <td>Software—Infrastructure</td>\n",
       "      <td>451030</td>\n",
       "    </tr>\n",
       "  </tbody>\n",
       "</table>\n",
       "</div>"
      ],
      "text/plain": [
       "  Ticker                                        Description       Sector  \\\n",
       "0    ABT  Abbott Laboratories discovers, develops, manuf...   Healthcare   \n",
       "1    ACN  Accenture plc provides consulting, technology,...   Technology   \n",
       "2    MMM  3M Company develops, manufactures, and markets...  Industrials   \n",
       "3   ABMD  Abiomed, Inc. engages in the research, develop...   Healthcare   \n",
       "4   ADBE  Adobe Inc. operates as a diversified software ...   Technology   \n",
       "\n",
       "                          Industry    GICS  \n",
       "0                  Medical Devices  351010  \n",
       "1  Information Technology Services  451020  \n",
       "2   Specialty Industrial Machinery  201050  \n",
       "3                  Medical Devices  351010  \n",
       "4          Software—Infrastructure  451030  "
      ]
     },
     "execution_count": 37,
     "metadata": {},
     "output_type": "execute_result"
    }
   ],
   "source": [
    "snp_desc_yahoo_df.head()"
   ]
  },
  {
   "cell_type": "code",
   "execution_count": 38,
   "metadata": {},
   "outputs": [
    {
     "data": {
      "text/plain": [
       "(431, 5)"
      ]
     },
     "execution_count": 38,
     "metadata": {},
     "output_type": "execute_result"
    }
   ],
   "source": [
    "snp_desc_yahoo_df.shape"
   ]
  },
  {
   "cell_type": "code",
   "execution_count": 39,
   "metadata": {},
   "outputs": [
    {
     "name": "stdout",
     "output_type": "stream",
     "text": [
      "62\n",
      "11\n",
      "109\n"
     ]
    }
   ],
   "source": [
    "print(len(set(snp_desc_yahoo_df.GICS)))\n",
    "print(len(set(snp_desc_yahoo_df.Sector)))\n",
    "print(len(set(snp_desc_yahoo_df.Industry)))"
   ]
  },
  {
   "cell_type": "code",
   "execution_count": 40,
   "metadata": {
    "scrolled": true
   },
   "outputs": [
    {
     "data": {
      "text/plain": [
       "\"Accenture plc provides consulting, technology, and outsourcing services worldwide. Its Communications, Media & Technology segment provides professional services for clients to accelerate and deliver digital transformation, develop industry-specific solutions, and enhance efficiencies and business results for communications, media, high tech, software, and platform companies. The company's Financial Services segment offers services for profitability pressures, industry consolidation, regulatory changes, and the need to continually adapt to new digital technologies for banking, capital market, and insurance industries. Its Health & Public Service segment provides consulting services and digital solutions to help clients deliver social, economic, and health outcomes for healthcare payers and providers, government departments and agencies, public service organizations, educational institutions, and non-profit organizations. The company's Products segment helps clients enhance their performance in distribution, sales, and marketing; in research and development, and manufacturing; and in business functions, such as finance, human resources, procurement, and supply chain. This segment serves clients in consumer goods, retail, and travel services industries; automotive, freight and logistics, industrial and electrical equipment, consumer durable and heavy equipment, and construction and infrastructure management companies; and pharmaceutical, medical technology, and biotechnology companies. Its Resources segment enables clients in chemicals, energy, forest products, metals and mining, and utilities industries to develop and implement strategies, improve operations, manage complex change initiatives, and integrate digital technologies. Accenture plc has alliance relationships with Amazon Web Services, Google, Microsoft, Oracle, Pegasystems, Salesforce, SAP, Workday, TradeIX, and Diebold Nixdorf, Incorporated. The company was founded in 1989 and is based in Dublin, Ireland.\""
      ]
     },
     "execution_count": 40,
     "metadata": {},
     "output_type": "execute_result"
    }
   ],
   "source": [
    "snp_desc_yahoo_df.iloc[1].Description"
   ]
  },
  {
   "cell_type": "code",
   "execution_count": 41,
   "metadata": {},
   "outputs": [
    {
     "data": {
      "text/html": [
       "<div>\n",
       "<style scoped>\n",
       "    .dataframe tbody tr th:only-of-type {\n",
       "        vertical-align: middle;\n",
       "    }\n",
       "\n",
       "    .dataframe tbody tr th {\n",
       "        vertical-align: top;\n",
       "    }\n",
       "\n",
       "    .dataframe thead th {\n",
       "        text-align: right;\n",
       "    }\n",
       "</style>\n",
       "<table border=\"1\" class=\"dataframe\">\n",
       "  <thead>\n",
       "    <tr style=\"text-align: right;\">\n",
       "      <th></th>\n",
       "      <th>Ticker</th>\n",
       "      <th>Description</th>\n",
       "      <th>Sector</th>\n",
       "      <th>Industry</th>\n",
       "      <th>GICS</th>\n",
       "    </tr>\n",
       "  </thead>\n",
       "  <tbody>\n",
       "  </tbody>\n",
       "</table>\n",
       "</div>"
      ],
      "text/plain": [
       "Empty DataFrame\n",
       "Columns: [Ticker, Description, Sector, Industry, GICS]\n",
       "Index: []"
      ]
     },
     "execution_count": 41,
     "metadata": {},
     "output_type": "execute_result"
    }
   ],
   "source": [
    "snp_desc_yahoo_df[snp_desc_yahoo_df.Ticker == 'ADS']"
   ]
  },
  {
   "cell_type": "markdown",
   "metadata": {},
   "source": [
    "##### Description to be used"
   ]
  },
  {
   "cell_type": "code",
   "execution_count": 12,
   "metadata": {},
   "outputs": [],
   "source": [
    "desc_list = snp_desc_10K_df['Description']"
   ]
  },
  {
   "cell_type": "markdown",
   "metadata": {},
   "source": [
    "##### Pre Processing"
   ]
  },
  {
   "cell_type": "code",
   "execution_count": 17,
   "metadata": {},
   "outputs": [],
   "source": [
    "def preprocess_data(doc_list):\n",
    "    \"\"\"\n",
    "    Input  : docuemnt list\n",
    "    Purpose: preprocess text (tokenize, removing stopwords, and stemming)\n",
    "    Output : preprocessed text\n",
    "    \"\"\"\n",
    "    tokenizer = RegexpTokenizer(r'\\w+')\n",
    "    en_stop = set(stopwords.words('english'))# create English stop words list\n",
    "    p_stemmer = PorterStemmer()\n",
    "    processed_doc_list = []\n",
    "\n",
    "    for doc in doc_list:\n",
    "        lower_doc = doc.lower()\n",
    "        token_list = tokenizer.tokenize(lower_doc)\n",
    "        stopped_token_list = [i for i in token_list if not i in en_stop]\n",
    "        stemmed_token_list = [p_stemmer.stem(i) for i in stopped_token_list]\n",
    "        processed_doc = ' '.join(stemmed_token_list) # Untokenize\n",
    "        processed_doc_list.append(processed_doc)\n",
    "    \n",
    "    return processed_doc_list"
   ]
  },
  {
   "cell_type": "code",
   "execution_count": 16,
   "metadata": {},
   "outputs": [],
   "source": [
    "preped_desc_list = preprocess_data(desc_list)"
   ]
  },
  {
   "cell_type": "code",
   "execution_count": 18,
   "metadata": {},
   "outputs": [
    {
     "data": {
      "text/plain": [
       "414"
      ]
     },
     "execution_count": 18,
     "metadata": {},
     "output_type": "execute_result"
    }
   ],
   "source": [
    "len(preped_desc_list)"
   ]
  },
  {
   "cell_type": "markdown",
   "metadata": {},
   "source": [
    "##### Tdidf vectorization"
   ]
  },
  {
   "cell_type": "code",
   "execution_count": 19,
   "metadata": {},
   "outputs": [
    {
     "data": {
      "text/plain": [
       "(414, 25834)"
      ]
     },
     "execution_count": 19,
     "metadata": {},
     "output_type": "execute_result"
    }
   ],
   "source": [
    "vectorizer = TfidfVectorizer(stop_words='english', max_features= None, max_df = 0.5, smooth_idf=True)\n",
    "dtm = vectorizer.fit_transform(preped_desc_list) # dtm - Document Matrix (sparse matrix)\n",
    "dtm.shape"
   ]
  },
  {
   "cell_type": "markdown",
   "metadata": {},
   "source": [
    "\n",
    "| Descriptions | Unique Words (features)\n",
    "| :- | -: | \n",
    "| Russell | 20025 |\n",
    "| SnP (yahoo) | 7263 |\n",
    "| SnP (10K) | 25834 |"
   ]
  },
  {
   "cell_type": "markdown",
   "metadata": {},
   "source": [
    "# Clustering Algos"
   ]
  },
  {
   "cell_type": "code",
   "execution_count": 20,
   "metadata": {
    "scrolled": true
   },
   "outputs": [],
   "source": [
    "NUM_INDUSTRIES = 62 #69"
   ]
  },
  {
   "cell_type": "markdown",
   "metadata": {},
   "source": [
    "### K - Means"
   ]
  },
  {
   "cell_type": "code",
   "execution_count": null,
   "metadata": {
    "scrolled": true
   },
   "outputs": [],
   "source": [
    "# defining the kmeans function with initialization as k-means++\n",
    "kmeans = KMeans(n_clusters=NUM_INDUSTRIES, init='k-means++')\n",
    "# fitting the k means algorithm on scaled data\n",
    "kmeans.fit(dtm_lsa)\n",
    "pred = kmeans.predict(dtm_lsa)\n",
    "# pd.concat([df[['company']], pd.DataFrame(pred)], axis=1).head()\n",
    "pred"
   ]
  },
  {
   "cell_type": "code",
   "execution_count": 21,
   "metadata": {},
   "outputs": [],
   "source": [
    "def kmeans_cluster(dtm):\n",
    "    '''\n",
    "    input: Document Matrix\n",
    "    output: list indicating clusters\n",
    "    '''\n",
    "    kmeans = KMeans(n_clusters=NUM_INDUSTRIES, init='k-means++')\n",
    "    kmeans.fit(dtm)\n",
    "    pred = kmeans.predict(dtm)\n",
    "    return pred"
   ]
  },
  {
   "cell_type": "markdown",
   "metadata": {},
   "source": [
    "### Gaussian Mixture"
   ]
  },
  {
   "cell_type": "code",
   "execution_count": 22,
   "metadata": {},
   "outputs": [],
   "source": [
    "def gmm_cluster(dtm):\n",
    "    '''\n",
    "    input: Document Matrix\n",
    "    output: list indicating clusters\n",
    "    '''\n",
    "    gmm = GaussianMixture(n_components=NUM_INDUSTRIES)\n",
    "    gmm.fit(dtm)\n",
    "    pred = gmm.predict(dtm)\n",
    "    return pred"
   ]
  },
  {
   "cell_type": "markdown",
   "metadata": {},
   "source": [
    "### Cosine Similarity"
   ]
  },
  {
   "cell_type": "code",
   "execution_count": null,
   "metadata": {},
   "outputs": [],
   "source": [
    "x = [((1,),(2,),3), ((4,),(1458,),6)]\n",
    "\n",
    "mcorr = ((1458,), (1830,), 1.0000000000000004)\n",
    "list(filter(lambda tup: (tup[0] not in mcorr) and (tup[1] not in mcorr), x))"
   ]
  },
  {
   "cell_type": "code",
   "execution_count": null,
   "metadata": {},
   "outputs": [],
   "source": [
    "((1,2), (4,)) in (1,)"
   ]
  },
  {
   "cell_type": "code",
   "execution_count": null,
   "metadata": {},
   "outputs": [],
   "source": [
    "def cosine_similarity(dtm):\n",
    "    '''\n",
    "    input: Doc Matrix\n",
    "    output: list of lists indicating clusters\n",
    "    '''\n",
    "    corr = np.asarray(np.asmatrix(dtm) * np.asmatrix(dtm).T)\n",
    "    L = corr.shape[0]\n",
    "    \n",
    "    cluster_corrs = []\n",
    "    for i in range(L):\n",
    "        for j in range(i+1,L):\n",
    "            corr_tuple = ((i,), (j,), corr[i][j])\n",
    "            cluster_corrs.append(corr_tuple)\n",
    "            \n",
    "    cluster_list = [(i,) for i in range(L)]\n",
    "    \n",
    "    num_iter = L - NUM_INDUSTRIES\n",
    "    for x in range(num_iter):\n",
    "        max_corr_tup = max(cluster_corrs, key = lambda tup: tup[2])\n",
    "        # filters ur max_corr_tup also\n",
    "        print(max_corr_tup)\n",
    "        cluster_corrs = list(filter(lambda tup: (tup[0] not in max_corr_tup) and (tup[1] not in max_corr_tup),cluster_corrs))\n",
    "        new_cluster = max_corr_tup[0] + max_corr_tup[1] # concatenate tups\n",
    "        cluster_list.remove(max_corr_tup[0])\n",
    "        cluster_list.remove(max_corr_tup[1])\n",
    "        for cluster in cluster_list:\n",
    "            # Similarity\n",
    "            n = len(new_cluster) * len(cluster)\n",
    "            total_similarity = 0\n",
    "            for cpy_1 in new_cluster:\n",
    "                for cpy_2 in cluster:\n",
    "                    total_similarity += corr[cpy_1][cpy_2]\n",
    "            similarity = total_similarity / n\n",
    "            corr_tuple = (new_cluster, cluster, similarity)\n",
    "            cluster_corrs.append(corr_tuple)\n",
    "        cluster_list.append(new_cluster)\n",
    "    \n",
    "    if len(cluster_list) != NUM_INDUSTRIES:\n",
    "        raise Exception()\n",
    "        \n",
    "    pred = np.full(N, -1)\n",
    "    for i in range(NUM_INDUSTRIES):\n",
    "        cluster = list(cluster_list[i])\n",
    "        pred[cluster] = [i] * len(cluster)\n",
    "    return pred"
   ]
  },
  {
   "cell_type": "code",
   "execution_count": null,
   "metadata": {},
   "outputs": [],
   "source": [
    "cosine_similarity(dtm_lsa)"
   ]
  },
  {
   "cell_type": "code",
   "execution_count": null,
   "metadata": {},
   "outputs": [],
   "source": [
    "dtmx = dtm_lsa\n",
    "corr = np.asarray(np.asmatrix(dtmx) * np.asmatrix(dtmx).T)\n",
    "L = corr.shape[0]\n",
    "\n",
    "cluster_corrs = []\n",
    "for i in range(L):\n",
    "    for j in range(i+1,L):\n",
    "        corr_tuple = ((i,), (j,), corr[i][j])\n",
    "        cluster_corrs.append(corr_tuple)\n",
    "\n",
    "cluster_list = [(i,) for i in range(L)]\n",
    "\n",
    "num_iter = L - NUM_INDUSTRIES\n",
    "for x in range(num_iter):\n",
    "    max_corr_tup = max(cluster_corrs, key = lambda tup: tup[2])\n",
    "    # filters ur max_corr_tup also\n",
    "    print(max_corr_tup)\n",
    "    cluster_corrs = list(filter(lambda tup: (tup[0] not in max_corr_tup) and (tup[1] not in max_corr_tup),cluster_corrs))\n",
    "    new_cluster = max_corr_tup[0] + max_corr_tup[1] # concatenate tups\n",
    "    cluster_list.remove(max_corr_tup[0])\n",
    "    cluster_list.remove(max_corr_tup[1])\n",
    "    for cluster in cluster_list:\n",
    "        # Similarity\n",
    "        n = len(new_cluster) * len(cluster)\n",
    "        total_similarity = 0\n",
    "        for cpy_1 in new_cluster:\n",
    "            for cpy_2 in cluster:\n",
    "                total_similarity += corr[cpy_1][cpy_2]\n",
    "        similarity = total_similarity / n\n",
    "        corr_tuple = (new_cluster, cluster, similarity)\n",
    "        cluster_corrs.append(corr_tuple)\n",
    "    cluster_list.append(new_cluster)\n",
    "\n",
    "if len(cluster_list) != NUM_INDUSTRIES:\n",
    "    raise Exception()\n",
    "\n",
    "pred = np.full(N, -1)\n",
    "for i in range(NUM_INDUSTRIES):\n",
    "    cluster = list(cluster_list[i])\n",
    "    pred[cluster] = [i] * len(cluster)"
   ]
  },
  {
   "cell_type": "code",
   "execution_count": null,
   "metadata": {},
   "outputs": [],
   "source": [
    "def t(tup):\n",
    "    print((tup[0] not in max_corr_tup), (tup[1] not in max_corr_tup))\n",
    "    return (tup[0] not in max_corr_tup) and (tup[1] not in max_corr_tup)\n",
    "list(filter(t,cluster_corrs))"
   ]
  },
  {
   "cell_type": "markdown",
   "metadata": {},
   "source": [
    "### Run all Clustering algos"
   ]
  },
  {
   "cell_type": "code",
   "execution_count": 23,
   "metadata": {},
   "outputs": [
    {
     "data": {
      "text/plain": [
       "(414, 25834)"
      ]
     },
     "execution_count": 23,
     "metadata": {},
     "output_type": "execute_result"
    }
   ],
   "source": [
    "dtm.shape"
   ]
  },
  {
   "cell_type": "code",
   "execution_count": 30,
   "metadata": {
    "scrolled": true
   },
   "outputs": [
    {
     "data": {
      "application/vnd.jupyter.widget-view+json": {
       "model_id": "c3cd182a17bb402fbf1fd0e6170ce1a6",
       "version_major": 2,
       "version_minor": 0
      },
      "text/plain": [
       "HBox(children=(FloatProgress(value=0.0, max=2.0), HTML(value='')))"
      ]
     },
     "metadata": {},
     "output_type": "display_data"
    },
    {
     "name": "stdout",
     "output_type": "stream",
     "text": [
      "\n"
     ]
    }
   ],
   "source": [
    "gics_df = pd.DataFrame(snp_desc_10K_df.GICS.cat.codes, columns=['GICS'])\n",
    "cluster_dfs_list = [snp_desc_10K_df[['Ticker']], gics_df]\n",
    "for k in tnrange(100, 300, 100):\n",
    "    # LSI Embedding\n",
    "    lsa_k = TruncatedSVD(k, algorithm = 'arpack')\n",
    "    dtm_lsa_k = lsa_k.fit_transform(dtm)\n",
    "    dtm_lsa_k = Normalizer(copy=False).fit_transform(dtm_lsa_k)\n",
    "    # K-Means\n",
    "    clusters_k = kmeans_cluster(dtm_lsa_k)\n",
    "    cluster_dfs_list.append(pd.DataFrame(clusters_k, columns=['lsi_{}_kmeans'.format(str(k))]))\n",
    "    # GMM\n",
    "    clusters_k = gmm_cluster(dtm_lsa_k)\n",
    "    cluster_dfs_list.append(pd.DataFrame(clusters_k, columns=['lsi_{}_gmm'.format(str(k))]))\n",
    "    # Cosine_similarity\n",
    "    \n",
    "all_cluster = pd.concat(cluster_dfs_list, axis=1)"
   ]
  },
  {
   "cell_type": "code",
   "execution_count": 35,
   "metadata": {},
   "outputs": [
    {
     "data": {
      "text/html": [
       "<div>\n",
       "<style scoped>\n",
       "    .dataframe tbody tr th:only-of-type {\n",
       "        vertical-align: middle;\n",
       "    }\n",
       "\n",
       "    .dataframe tbody tr th {\n",
       "        vertical-align: top;\n",
       "    }\n",
       "\n",
       "    .dataframe thead th {\n",
       "        text-align: right;\n",
       "    }\n",
       "</style>\n",
       "<table border=\"1\" class=\"dataframe\">\n",
       "  <thead>\n",
       "    <tr style=\"text-align: right;\">\n",
       "      <th></th>\n",
       "      <th>Ticker</th>\n",
       "      <th>GICS</th>\n",
       "      <th>lsi_100_kmeans</th>\n",
       "      <th>lsi_100_gmm</th>\n",
       "      <th>lsi_200_kmeans</th>\n",
       "      <th>lsi_200_gmm</th>\n",
       "    </tr>\n",
       "  </thead>\n",
       "  <tbody>\n",
       "    <tr>\n",
       "      <th>0</th>\n",
       "      <td>AAL</td>\n",
       "      <td>16</td>\n",
       "      <td>54</td>\n",
       "      <td>18</td>\n",
       "      <td>18</td>\n",
       "      <td>30</td>\n",
       "    </tr>\n",
       "    <tr>\n",
       "      <th>1</th>\n",
       "      <td>AAPL</td>\n",
       "      <td>48</td>\n",
       "      <td>42</td>\n",
       "      <td>13</td>\n",
       "      <td>41</td>\n",
       "      <td>4</td>\n",
       "    </tr>\n",
       "    <tr>\n",
       "      <th>2</th>\n",
       "      <td>AAP</td>\n",
       "      <td>28</td>\n",
       "      <td>40</td>\n",
       "      <td>11</td>\n",
       "      <td>27</td>\n",
       "      <td>40</td>\n",
       "    </tr>\n",
       "    <tr>\n",
       "      <th>3</th>\n",
       "      <td>ABBV</td>\n",
       "      <td>38</td>\n",
       "      <td>17</td>\n",
       "      <td>1</td>\n",
       "      <td>3</td>\n",
       "      <td>6</td>\n",
       "    </tr>\n",
       "    <tr>\n",
       "      <th>4</th>\n",
       "      <td>ABC</td>\n",
       "      <td>36</td>\n",
       "      <td>15</td>\n",
       "      <td>40</td>\n",
       "      <td>56</td>\n",
       "      <td>6</td>\n",
       "    </tr>\n",
       "    <tr>\n",
       "      <th>...</th>\n",
       "      <td>...</td>\n",
       "      <td>...</td>\n",
       "      <td>...</td>\n",
       "      <td>...</td>\n",
       "      <td>...</td>\n",
       "      <td>...</td>\n",
       "    </tr>\n",
       "    <tr>\n",
       "      <th>409</th>\n",
       "      <td>XYL</td>\n",
       "      <td>11</td>\n",
       "      <td>59</td>\n",
       "      <td>17</td>\n",
       "      <td>15</td>\n",
       "      <td>24</td>\n",
       "    </tr>\n",
       "    <tr>\n",
       "      <th>410</th>\n",
       "      <td>YUM</td>\n",
       "      <td>23</td>\n",
       "      <td>29</td>\n",
       "      <td>29</td>\n",
       "      <td>39</td>\n",
       "      <td>13</td>\n",
       "    </tr>\n",
       "    <tr>\n",
       "      <th>411</th>\n",
       "      <td>ZBH</td>\n",
       "      <td>35</td>\n",
       "      <td>53</td>\n",
       "      <td>36</td>\n",
       "      <td>43</td>\n",
       "      <td>28</td>\n",
       "    </tr>\n",
       "    <tr>\n",
       "      <th>412</th>\n",
       "      <td>ZION</td>\n",
       "      <td>41</td>\n",
       "      <td>12</td>\n",
       "      <td>3</td>\n",
       "      <td>26</td>\n",
       "      <td>9</td>\n",
       "    </tr>\n",
       "    <tr>\n",
       "      <th>413</th>\n",
       "      <td>ZTS</td>\n",
       "      <td>39</td>\n",
       "      <td>33</td>\n",
       "      <td>6</td>\n",
       "      <td>27</td>\n",
       "      <td>51</td>\n",
       "    </tr>\n",
       "  </tbody>\n",
       "</table>\n",
       "<p>414 rows × 6 columns</p>\n",
       "</div>"
      ],
      "text/plain": [
       "    Ticker  GICS  lsi_100_kmeans  lsi_100_gmm  lsi_200_kmeans  lsi_200_gmm\n",
       "0      AAL    16              54           18              18           30\n",
       "1     AAPL    48              42           13              41            4\n",
       "2      AAP    28              40           11              27           40\n",
       "3     ABBV    38              17            1               3            6\n",
       "4      ABC    36              15           40              56            6\n",
       "..     ...   ...             ...          ...             ...          ...\n",
       "409    XYL    11              59           17              15           24\n",
       "410    YUM    23              29           29              39           13\n",
       "411    ZBH    35              53           36              43           28\n",
       "412   ZION    41              12            3              26            9\n",
       "413    ZTS    39              33            6              27           51\n",
       "\n",
       "[414 rows x 6 columns]"
      ]
     },
     "execution_count": 35,
     "metadata": {},
     "output_type": "execute_result"
    }
   ],
   "source": [
    "all_cluster"
   ]
  },
  {
   "cell_type": "markdown",
   "metadata": {},
   "source": [
    "## Evaluation"
   ]
  },
  {
   "cell_type": "markdown",
   "metadata": {},
   "source": [
    "### Method 1 - Stock returns correlations"
   ]
  },
  {
   "cell_type": "code",
   "execution_count": 32,
   "metadata": {},
   "outputs": [],
   "source": [
    "stock_price_df = pd.read_csv('data_out/ticker_price_df.csv', index_col=0)"
   ]
  },
  {
   "cell_type": "code",
   "execution_count": 33,
   "metadata": {},
   "outputs": [
    {
     "data": {
      "text/html": [
       "<div>\n",
       "<style scoped>\n",
       "    .dataframe tbody tr th:only-of-type {\n",
       "        vertical-align: middle;\n",
       "    }\n",
       "\n",
       "    .dataframe tbody tr th {\n",
       "        vertical-align: top;\n",
       "    }\n",
       "\n",
       "    .dataframe thead th {\n",
       "        text-align: right;\n",
       "    }\n",
       "</style>\n",
       "<table border=\"1\" class=\"dataframe\">\n",
       "  <thead>\n",
       "    <tr style=\"text-align: right;\">\n",
       "      <th></th>\n",
       "      <th>A</th>\n",
       "      <th>AAL</th>\n",
       "      <th>AAP</th>\n",
       "      <th>AAPL</th>\n",
       "      <th>ABBV</th>\n",
       "      <th>ABC</th>\n",
       "      <th>ABMD</th>\n",
       "      <th>ABT</th>\n",
       "      <th>ACN</th>\n",
       "      <th>ADBE</th>\n",
       "      <th>...</th>\n",
       "      <th>XLNX</th>\n",
       "      <th>XOM</th>\n",
       "      <th>XRAY</th>\n",
       "      <th>XRX</th>\n",
       "      <th>XYL</th>\n",
       "      <th>YUM</th>\n",
       "      <th>ZBH</th>\n",
       "      <th>ZBRA</th>\n",
       "      <th>ZION</th>\n",
       "      <th>ZTS</th>\n",
       "    </tr>\n",
       "  </thead>\n",
       "  <tbody>\n",
       "    <tr>\n",
       "      <th>2018-12-31</th>\n",
       "      <td>NaN</td>\n",
       "      <td>NaN</td>\n",
       "      <td>NaN</td>\n",
       "      <td>NaN</td>\n",
       "      <td>NaN</td>\n",
       "      <td>NaN</td>\n",
       "      <td>NaN</td>\n",
       "      <td>NaN</td>\n",
       "      <td>NaN</td>\n",
       "      <td>NaN</td>\n",
       "      <td>...</td>\n",
       "      <td>NaN</td>\n",
       "      <td>NaN</td>\n",
       "      <td>NaN</td>\n",
       "      <td>NaN</td>\n",
       "      <td>NaN</td>\n",
       "      <td>NaN</td>\n",
       "      <td>NaN</td>\n",
       "      <td>NaN</td>\n",
       "      <td>NaN</td>\n",
       "      <td>NaN</td>\n",
       "    </tr>\n",
       "    <tr>\n",
       "      <th>2019-01-02</th>\n",
       "      <td>-0.026238</td>\n",
       "      <td>0.011523</td>\n",
       "      <td>0.002921</td>\n",
       "      <td>0.001141</td>\n",
       "      <td>-0.032108</td>\n",
       "      <td>0.000672</td>\n",
       "      <td>-0.046394</td>\n",
       "      <td>-0.039126</td>\n",
       "      <td>-0.002979</td>\n",
       "      <td>-0.007382</td>\n",
       "      <td>...</td>\n",
       "      <td>0.019725</td>\n",
       "      <td>0.021997</td>\n",
       "      <td>0.018275</td>\n",
       "      <td>0.018725</td>\n",
       "      <td>-0.003147</td>\n",
       "      <td>-0.005222</td>\n",
       "      <td>-0.013883</td>\n",
       "      <td>-0.018778</td>\n",
       "      <td>0.020618</td>\n",
       "      <td>-0.012392</td>\n",
       "    </tr>\n",
       "    <tr>\n",
       "      <th>2019-01-03</th>\n",
       "      <td>-0.036840</td>\n",
       "      <td>-0.074507</td>\n",
       "      <td>0.031218</td>\n",
       "      <td>-0.099607</td>\n",
       "      <td>-0.032949</td>\n",
       "      <td>-0.014506</td>\n",
       "      <td>-0.024745</td>\n",
       "      <td>-0.047194</td>\n",
       "      <td>-0.034142</td>\n",
       "      <td>-0.039498</td>\n",
       "      <td>...</td>\n",
       "      <td>-0.037651</td>\n",
       "      <td>-0.015354</td>\n",
       "      <td>0.000528</td>\n",
       "      <td>-0.021858</td>\n",
       "      <td>-0.034281</td>\n",
       "      <td>-0.025153</td>\n",
       "      <td>-0.018088</td>\n",
       "      <td>-0.059908</td>\n",
       "      <td>-0.005531</td>\n",
       "      <td>-0.034565</td>\n",
       "    </tr>\n",
       "    <tr>\n",
       "      <th>2019-01-04</th>\n",
       "      <td>0.034614</td>\n",
       "      <td>0.065868</td>\n",
       "      <td>-0.024808</td>\n",
       "      <td>0.042689</td>\n",
       "      <td>0.032217</td>\n",
       "      <td>0.011585</td>\n",
       "      <td>0.036885</td>\n",
       "      <td>0.028541</td>\n",
       "      <td>0.038884</td>\n",
       "      <td>0.048632</td>\n",
       "      <td>...</td>\n",
       "      <td>0.046303</td>\n",
       "      <td>0.036869</td>\n",
       "      <td>0.029016</td>\n",
       "      <td>0.038598</td>\n",
       "      <td>0.042192</td>\n",
       "      <td>0.026026</td>\n",
       "      <td>0.034153</td>\n",
       "      <td>0.041462</td>\n",
       "      <td>0.030713</td>\n",
       "      <td>0.039235</td>\n",
       "    </tr>\n",
       "    <tr>\n",
       "      <th>2019-01-07</th>\n",
       "      <td>0.021234</td>\n",
       "      <td>0.028402</td>\n",
       "      <td>0.014672</td>\n",
       "      <td>-0.002226</td>\n",
       "      <td>0.014595</td>\n",
       "      <td>0.007141</td>\n",
       "      <td>0.004339</td>\n",
       "      <td>0.014976</td>\n",
       "      <td>0.003473</td>\n",
       "      <td>0.013573</td>\n",
       "      <td>...</td>\n",
       "      <td>0.026415</td>\n",
       "      <td>0.005200</td>\n",
       "      <td>0.017944</td>\n",
       "      <td>0.021516</td>\n",
       "      <td>-0.014789</td>\n",
       "      <td>-0.001093</td>\n",
       "      <td>0.000385</td>\n",
       "      <td>0.015166</td>\n",
       "      <td>0.003989</td>\n",
       "      <td>0.006017</td>\n",
       "    </tr>\n",
       "  </tbody>\n",
       "</table>\n",
       "<p>5 rows × 501 columns</p>\n",
       "</div>"
      ],
      "text/plain": [
       "                   A       AAL       AAP      AAPL      ABBV       ABC  \\\n",
       "2018-12-31       NaN       NaN       NaN       NaN       NaN       NaN   \n",
       "2019-01-02 -0.026238  0.011523  0.002921  0.001141 -0.032108  0.000672   \n",
       "2019-01-03 -0.036840 -0.074507  0.031218 -0.099607 -0.032949 -0.014506   \n",
       "2019-01-04  0.034614  0.065868 -0.024808  0.042689  0.032217  0.011585   \n",
       "2019-01-07  0.021234  0.028402  0.014672 -0.002226  0.014595  0.007141   \n",
       "\n",
       "                ABMD       ABT       ACN      ADBE  ...      XLNX       XOM  \\\n",
       "2018-12-31       NaN       NaN       NaN       NaN  ...       NaN       NaN   \n",
       "2019-01-02 -0.046394 -0.039126 -0.002979 -0.007382  ...  0.019725  0.021997   \n",
       "2019-01-03 -0.024745 -0.047194 -0.034142 -0.039498  ... -0.037651 -0.015354   \n",
       "2019-01-04  0.036885  0.028541  0.038884  0.048632  ...  0.046303  0.036869   \n",
       "2019-01-07  0.004339  0.014976  0.003473  0.013573  ...  0.026415  0.005200   \n",
       "\n",
       "                XRAY       XRX       XYL       YUM       ZBH      ZBRA  \\\n",
       "2018-12-31       NaN       NaN       NaN       NaN       NaN       NaN   \n",
       "2019-01-02  0.018275  0.018725 -0.003147 -0.005222 -0.013883 -0.018778   \n",
       "2019-01-03  0.000528 -0.021858 -0.034281 -0.025153 -0.018088 -0.059908   \n",
       "2019-01-04  0.029016  0.038598  0.042192  0.026026  0.034153  0.041462   \n",
       "2019-01-07  0.017944  0.021516 -0.014789 -0.001093  0.000385  0.015166   \n",
       "\n",
       "                ZION       ZTS  \n",
       "2018-12-31       NaN       NaN  \n",
       "2019-01-02  0.020618 -0.012392  \n",
       "2019-01-03 -0.005531 -0.034565  \n",
       "2019-01-04  0.030713  0.039235  \n",
       "2019-01-07  0.003989  0.006017  \n",
       "\n",
       "[5 rows x 501 columns]"
      ]
     },
     "execution_count": 33,
     "metadata": {},
     "output_type": "execute_result"
    }
   ],
   "source": [
    "stock_return_df = stock_price_df.pct_change()\n",
    "stock_return_df.head()"
   ]
  },
  {
   "cell_type": "code",
   "execution_count": 34,
   "metadata": {
    "scrolled": true
   },
   "outputs": [
    {
     "data": {
      "text/plain": [
       "['ADS',\n",
       " 'AGN',\n",
       " 'AMG',\n",
       " 'AN',\n",
       " 'AYI',\n",
       " 'BBBY',\n",
       " 'BHI',\n",
       " 'ENDP',\n",
       " 'EQT',\n",
       " 'FL',\n",
       " 'FSLR',\n",
       " 'GT',\n",
       " 'HOG',\n",
       " 'HP',\n",
       " 'JWN',\n",
       " 'LVLT',\n",
       " 'MAC',\n",
       " 'MAT',\n",
       " 'MAT',\n",
       " 'MNK',\n",
       " 'MUR',\n",
       " 'M',\n",
       " 'NAVI',\n",
       " 'PBI',\n",
       " 'PCG',\n",
       " 'PDCO',\n",
       " 'RIG',\n",
       " 'RTN',\n",
       " 'R',\n",
       " 'SIG',\n",
       " 'SRCL',\n",
       " 'SWN',\n",
       " 'TDC',\n",
       " 'TGNA',\n",
       " 'TRIP',\n",
       " 'URBN',\n",
       " 'VIAB']"
      ]
     },
     "execution_count": 34,
     "metadata": {},
     "output_type": "execute_result"
    }
   ],
   "source": [
    "# Tickers to remove if no stock data\n",
    "tickers_with_no_data = [ticker for ticker in all_cluster.Ticker if ticker not in stock_return_df.columns]\n",
    "tickers_with_no_data"
   ]
  },
  {
   "cell_type": "code",
   "execution_count": 46,
   "metadata": {},
   "outputs": [
    {
     "data": {
      "text/html": [
       "<div>\n",
       "<style scoped>\n",
       "    .dataframe tbody tr th:only-of-type {\n",
       "        vertical-align: middle;\n",
       "    }\n",
       "\n",
       "    .dataframe tbody tr th {\n",
       "        vertical-align: top;\n",
       "    }\n",
       "\n",
       "    .dataframe thead th {\n",
       "        text-align: right;\n",
       "    }\n",
       "</style>\n",
       "<table border=\"1\" class=\"dataframe\">\n",
       "  <thead>\n",
       "    <tr style=\"text-align: right;\">\n",
       "      <th></th>\n",
       "      <th>Ticker</th>\n",
       "      <th>GICS</th>\n",
       "      <th>lsi_100_kmeans</th>\n",
       "      <th>lsi_100_gmm</th>\n",
       "      <th>lsi_200_kmeans</th>\n",
       "      <th>lsi_200_gmm</th>\n",
       "    </tr>\n",
       "  </thead>\n",
       "  <tbody>\n",
       "    <tr>\n",
       "      <th>0</th>\n",
       "      <td>AAL</td>\n",
       "      <td>16</td>\n",
       "      <td>54</td>\n",
       "      <td>18</td>\n",
       "      <td>18</td>\n",
       "      <td>30</td>\n",
       "    </tr>\n",
       "    <tr>\n",
       "      <th>1</th>\n",
       "      <td>AAPL</td>\n",
       "      <td>48</td>\n",
       "      <td>42</td>\n",
       "      <td>13</td>\n",
       "      <td>41</td>\n",
       "      <td>4</td>\n",
       "    </tr>\n",
       "    <tr>\n",
       "      <th>2</th>\n",
       "      <td>AAP</td>\n",
       "      <td>28</td>\n",
       "      <td>40</td>\n",
       "      <td>11</td>\n",
       "      <td>27</td>\n",
       "      <td>40</td>\n",
       "    </tr>\n",
       "    <tr>\n",
       "      <th>3</th>\n",
       "      <td>ABBV</td>\n",
       "      <td>38</td>\n",
       "      <td>17</td>\n",
       "      <td>1</td>\n",
       "      <td>3</td>\n",
       "      <td>6</td>\n",
       "    </tr>\n",
       "    <tr>\n",
       "      <th>4</th>\n",
       "      <td>ABC</td>\n",
       "      <td>36</td>\n",
       "      <td>15</td>\n",
       "      <td>40</td>\n",
       "      <td>56</td>\n",
       "      <td>6</td>\n",
       "    </tr>\n",
       "    <tr>\n",
       "      <th>...</th>\n",
       "      <td>...</td>\n",
       "      <td>...</td>\n",
       "      <td>...</td>\n",
       "      <td>...</td>\n",
       "      <td>...</td>\n",
       "      <td>...</td>\n",
       "    </tr>\n",
       "    <tr>\n",
       "      <th>372</th>\n",
       "      <td>XYL</td>\n",
       "      <td>11</td>\n",
       "      <td>59</td>\n",
       "      <td>17</td>\n",
       "      <td>15</td>\n",
       "      <td>24</td>\n",
       "    </tr>\n",
       "    <tr>\n",
       "      <th>373</th>\n",
       "      <td>YUM</td>\n",
       "      <td>23</td>\n",
       "      <td>29</td>\n",
       "      <td>29</td>\n",
       "      <td>39</td>\n",
       "      <td>13</td>\n",
       "    </tr>\n",
       "    <tr>\n",
       "      <th>374</th>\n",
       "      <td>ZBH</td>\n",
       "      <td>35</td>\n",
       "      <td>53</td>\n",
       "      <td>36</td>\n",
       "      <td>43</td>\n",
       "      <td>28</td>\n",
       "    </tr>\n",
       "    <tr>\n",
       "      <th>375</th>\n",
       "      <td>ZION</td>\n",
       "      <td>41</td>\n",
       "      <td>12</td>\n",
       "      <td>3</td>\n",
       "      <td>26</td>\n",
       "      <td>9</td>\n",
       "    </tr>\n",
       "    <tr>\n",
       "      <th>376</th>\n",
       "      <td>ZTS</td>\n",
       "      <td>39</td>\n",
       "      <td>33</td>\n",
       "      <td>6</td>\n",
       "      <td>27</td>\n",
       "      <td>51</td>\n",
       "    </tr>\n",
       "  </tbody>\n",
       "</table>\n",
       "<p>377 rows × 6 columns</p>\n",
       "</div>"
      ],
      "text/plain": [
       "    Ticker  GICS  lsi_100_kmeans  lsi_100_gmm  lsi_200_kmeans  lsi_200_gmm\n",
       "0      AAL    16              54           18              18           30\n",
       "1     AAPL    48              42           13              41            4\n",
       "2      AAP    28              40           11              27           40\n",
       "3     ABBV    38              17            1               3            6\n",
       "4      ABC    36              15           40              56            6\n",
       "..     ...   ...             ...          ...             ...          ...\n",
       "372    XYL    11              59           17              15           24\n",
       "373    YUM    23              29           29              39           13\n",
       "374    ZBH    35              53           36              43           28\n",
       "375   ZION    41              12            3              26            9\n",
       "376    ZTS    39              33            6              27           51\n",
       "\n",
       "[377 rows x 6 columns]"
      ]
     },
     "execution_count": 46,
     "metadata": {},
     "output_type": "execute_result"
    }
   ],
   "source": [
    "all_cluster_filtered = all_cluster[~all_cluster.Ticker.isin(tickers_with_no_data)].reset_index(drop=True)\n",
    "all_cluster_filtered.head()"
   ]
  },
  {
   "cell_type": "code",
   "execution_count": 47,
   "metadata": {
    "scrolled": true
   },
   "outputs": [
    {
     "data": {
      "application/vnd.jupyter.widget-view+json": {
       "model_id": "c96fe3bee691448ca0bb6bf5e2000d73",
       "version_major": 2,
       "version_minor": 0
      },
      "text/plain": [
       "HBox(children=(FloatProgress(value=0.0, max=6.0), HTML(value='')))"
      ]
     },
     "metadata": {},
     "output_type": "display_data"
    },
    {
     "name": "stdout",
     "output_type": "stream",
     "text": [
      "\n"
     ]
    }
   ],
   "source": [
    "R2_dict = {}\n",
    "\n",
    "for cluster_mtd in tqdm(all_cluster_filtered.columns):\n",
    "    if cluster_mtd == 'Ticker':\n",
    "        continue\n",
    "    \n",
    "    R2_list = []\n",
    "    for i in range(NUM_INDUSTRIES):\n",
    "        cluster_tickers = all_cluster_filtered[all_cluster_filtered[cluster_mtd] == i].Ticker\n",
    "        cluster_stock_returns = stock_return_df[cluster_tickers]\n",
    "        mean_return = cluster_stock_returns.mean(axis=1)\n",
    "        cluster_R2 = [mean_return.corr(ticker_returns) for _, ticker_returns in cluster_stock_returns.iteritems()]\n",
    "        R2_list.extend(cluster_R2)\n",
    "#     print(R2_list)\n",
    "    avg_R2 = sum(R2_list)/len(R2_list)\n",
    "    R2_dict[cluster_mtd] = avg_R2\n",
    "\n",
    "avg_R2_df = pd.DataFrame.from_dict(R2_dict, orient='index', columns=['Average R2'])"
   ]
  },
  {
   "cell_type": "code",
   "execution_count": 48,
   "metadata": {},
   "outputs": [
    {
     "data": {
      "text/html": [
       "<div>\n",
       "<style scoped>\n",
       "    .dataframe tbody tr th:only-of-type {\n",
       "        vertical-align: middle;\n",
       "    }\n",
       "\n",
       "    .dataframe tbody tr th {\n",
       "        vertical-align: top;\n",
       "    }\n",
       "\n",
       "    .dataframe thead th {\n",
       "        text-align: right;\n",
       "    }\n",
       "</style>\n",
       "<table border=\"1\" class=\"dataframe\">\n",
       "  <thead>\n",
       "    <tr style=\"text-align: right;\">\n",
       "      <th></th>\n",
       "      <th>Average R2</th>\n",
       "    </tr>\n",
       "  </thead>\n",
       "  <tbody>\n",
       "    <tr>\n",
       "      <th>GICS</th>\n",
       "      <td>0.743691</td>\n",
       "    </tr>\n",
       "    <tr>\n",
       "      <th>lsi_100_kmeans</th>\n",
       "      <td>0.731361</td>\n",
       "    </tr>\n",
       "    <tr>\n",
       "      <th>lsi_100_gmm</th>\n",
       "      <td>0.727401</td>\n",
       "    </tr>\n",
       "    <tr>\n",
       "      <th>lsi_200_kmeans</th>\n",
       "      <td>0.723066</td>\n",
       "    </tr>\n",
       "    <tr>\n",
       "      <th>lsi_200_gmm</th>\n",
       "      <td>0.719701</td>\n",
       "    </tr>\n",
       "  </tbody>\n",
       "</table>\n",
       "</div>"
      ],
      "text/plain": [
       "                Average R2\n",
       "GICS              0.743691\n",
       "lsi_100_kmeans    0.731361\n",
       "lsi_100_gmm       0.727401\n",
       "lsi_200_kmeans    0.723066\n",
       "lsi_200_gmm       0.719701"
      ]
     },
     "execution_count": 48,
     "metadata": {},
     "output_type": "execute_result"
    }
   ],
   "source": [
    "avg_R2_df"
   ]
  },
  {
   "cell_type": "code",
   "execution_count": 49,
   "metadata": {},
   "outputs": [
    {
     "data": {
      "text/plain": [
       "<matplotlib.axes._subplots.AxesSubplot at 0x1c5357b3a58>"
      ]
     },
     "execution_count": 49,
     "metadata": {},
     "output_type": "execute_result"
    },
    {
     "data": {
      "image/png": "[encoded data removed]",
      "text/plain": [
       "<matplotlib.figure.Figure at 0x1c5346dcbe0>"
      ]
     },
     "metadata": {
      "needs_background": "light"
     },
     "output_type": "display_data"
    },
    {
     "data": {
      "image/png": "[encoded data removed]",
      "text/plain": [
       "<matplotlib.figure.Figure at 0x1c5346dc2e8>"
      ]
     },
     "metadata": {
      "needs_background": "light"
     },
     "output_type": "display_data"
    }
   ],
   "source": [
    "avg_R2_df.filter(regex='kmeans', axis=0).plot(figsize=(13,5))\n",
    "avg_R2_df.filter(regex='gmm', axis=0).plot(figsize=(13,5))"
   ]
  },
  {
   "cell_type": "code",
   "execution_count": null,
   "metadata": {},
   "outputs": [],
   "source": []
  },
  {
   "cell_type": "markdown",
   "metadata": {},
   "source": [
    "### Method 2a - Financial Ratio average cluster distance (simple average)\n",
    "\n",
    "- Need to handle missing values of ratios"
   ]
  },
  {
   "cell_type": "code",
   "execution_count": 50,
   "metadata": {},
   "outputs": [],
   "source": [
    "stock_ratios_df = pd.read_csv('data_out/ticker_ratios_df.csv', index_col=0)"
   ]
  },
  {
   "cell_type": "code",
   "execution_count": 51,
   "metadata": {},
   "outputs": [
    {
     "data": {
      "text/html": [
       "<div>\n",
       "<style scoped>\n",
       "    .dataframe tbody tr th:only-of-type {\n",
       "        vertical-align: middle;\n",
       "    }\n",
       "\n",
       "    .dataframe tbody tr th {\n",
       "        vertical-align: top;\n",
       "    }\n",
       "\n",
       "    .dataframe thead th {\n",
       "        text-align: right;\n",
       "    }\n",
       "</style>\n",
       "<table border=\"1\" class=\"dataframe\">\n",
       "  <thead>\n",
       "    <tr style=\"text-align: right;\">\n",
       "      <th></th>\n",
       "      <th>Ticker</th>\n",
       "      <th>mkt_cap</th>\n",
       "      <th>pb_ratio</th>\n",
       "      <th>beta</th>\n",
       "      <th>profit_margin</th>\n",
       "      <th>ROA</th>\n",
       "      <th>ROE</th>\n",
       "    </tr>\n",
       "  </thead>\n",
       "  <tbody>\n",
       "    <tr>\n",
       "      <th>0</th>\n",
       "      <td>MMM</td>\n",
       "      <td>89.85</td>\n",
       "      <td>8.80</td>\n",
       "      <td>0.97</td>\n",
       "      <td>0.1637</td>\n",
       "      <td>0.0993</td>\n",
       "      <td>0.4881</td>\n",
       "    </tr>\n",
       "    <tr>\n",
       "      <th>1</th>\n",
       "      <td>ABT</td>\n",
       "      <td>161.88</td>\n",
       "      <td>5.36</td>\n",
       "      <td>0.95</td>\n",
       "      <td>0.0989</td>\n",
       "      <td>0.0401</td>\n",
       "      <td>0.0986</td>\n",
       "    </tr>\n",
       "    <tr>\n",
       "      <th>2</th>\n",
       "      <td>ABBV</td>\n",
       "      <td>173.22</td>\n",
       "      <td>NaN</td>\n",
       "      <td>0.72</td>\n",
       "      <td>0.1920</td>\n",
       "      <td>0.0823</td>\n",
       "      <td>2.2562</td>\n",
       "    </tr>\n",
       "    <tr>\n",
       "      <th>3</th>\n",
       "      <td>ABMD</td>\n",
       "      <td>10.88</td>\n",
       "      <td>10.21</td>\n",
       "      <td>1.14</td>\n",
       "      <td>0.1988</td>\n",
       "      <td>0.1176</td>\n",
       "      <td>0.1508</td>\n",
       "    </tr>\n",
       "    <tr>\n",
       "      <th>4</th>\n",
       "      <td>ACN</td>\n",
       "      <td>128.62</td>\n",
       "      <td>8.29</td>\n",
       "      <td>1.02</td>\n",
       "      <td>0.1111</td>\n",
       "      <td>0.1293</td>\n",
       "      <td>0.3282</td>\n",
       "    </tr>\n",
       "    <tr>\n",
       "      <th>...</th>\n",
       "      <td>...</td>\n",
       "      <td>...</td>\n",
       "      <td>...</td>\n",
       "      <td>...</td>\n",
       "      <td>...</td>\n",
       "      <td>...</td>\n",
       "      <td>...</td>\n",
       "    </tr>\n",
       "    <tr>\n",
       "      <th>498</th>\n",
       "      <td>YUM</td>\n",
       "      <td>26.16</td>\n",
       "      <td>NaN</td>\n",
       "      <td>0.86</td>\n",
       "      <td>0.1878</td>\n",
       "      <td>0.1981</td>\n",
       "      <td>NaN</td>\n",
       "    </tr>\n",
       "    <tr>\n",
       "      <th>499</th>\n",
       "      <td>ZBRA</td>\n",
       "      <td>13.65</td>\n",
       "      <td>7.90</td>\n",
       "      <td>1.52</td>\n",
       "      <td>0.1141</td>\n",
       "      <td>0.0904</td>\n",
       "      <td>0.2939</td>\n",
       "    </tr>\n",
       "    <tr>\n",
       "      <th>500</th>\n",
       "      <td>ZBH</td>\n",
       "      <td>24.70</td>\n",
       "      <td>2.08</td>\n",
       "      <td>1.38</td>\n",
       "      <td>0.0052</td>\n",
       "      <td>0.0224</td>\n",
       "      <td>0.0031</td>\n",
       "    </tr>\n",
       "    <tr>\n",
       "      <th>501</th>\n",
       "      <td>ZION</td>\n",
       "      <td>5.58</td>\n",
       "      <td>0.81</td>\n",
       "      <td>1.61</td>\n",
       "      <td>0.2046</td>\n",
       "      <td>0.0066</td>\n",
       "      <td>0.0639</td>\n",
       "    </tr>\n",
       "    <tr>\n",
       "      <th>502</th>\n",
       "      <td>ZTS</td>\n",
       "      <td>65.09</td>\n",
       "      <td>23.64</td>\n",
       "      <td>0.75</td>\n",
       "      <td>0.2551</td>\n",
       "      <td>0.1178</td>\n",
       "      <td>0.5987</td>\n",
       "    </tr>\n",
       "  </tbody>\n",
       "</table>\n",
       "<p>503 rows × 7 columns</p>\n",
       "</div>"
      ],
      "text/plain": [
       "    Ticker  mkt_cap  pb_ratio  beta  profit_margin     ROA     ROE\n",
       "0      MMM    89.85      8.80  0.97         0.1637  0.0993  0.4881\n",
       "1      ABT   161.88      5.36  0.95         0.0989  0.0401  0.0986\n",
       "2     ABBV   173.22       NaN  0.72         0.1920  0.0823  2.2562\n",
       "3     ABMD    10.88     10.21  1.14         0.1988  0.1176  0.1508\n",
       "4      ACN   128.62      8.29  1.02         0.1111  0.1293  0.3282\n",
       "..     ...      ...       ...   ...            ...     ...     ...\n",
       "498    YUM    26.16       NaN  0.86         0.1878  0.1981     NaN\n",
       "499   ZBRA    13.65      7.90  1.52         0.1141  0.0904  0.2939\n",
       "500    ZBH    24.70      2.08  1.38         0.0052  0.0224  0.0031\n",
       "501   ZION     5.58      0.81  1.61         0.2046  0.0066  0.0639\n",
       "502    ZTS    65.09     23.64  0.75         0.2551  0.1178  0.5987\n",
       "\n",
       "[503 rows x 7 columns]"
      ]
     },
     "execution_count": 51,
     "metadata": {},
     "output_type": "execute_result"
    }
   ],
   "source": [
    "stock_ratios_df"
   ]
  },
  {
   "cell_type": "code",
   "execution_count": 52,
   "metadata": {},
   "outputs": [
    {
     "data": {
      "text/html": [
       "<div>\n",
       "<style scoped>\n",
       "    .dataframe tbody tr th:only-of-type {\n",
       "        vertical-align: middle;\n",
       "    }\n",
       "\n",
       "    .dataframe tbody tr th {\n",
       "        vertical-align: top;\n",
       "    }\n",
       "\n",
       "    .dataframe thead th {\n",
       "        text-align: right;\n",
       "    }\n",
       "</style>\n",
       "<table border=\"1\" class=\"dataframe\">\n",
       "  <thead>\n",
       "    <tr style=\"text-align: right;\">\n",
       "      <th></th>\n",
       "      <th>Ticker</th>\n",
       "      <th>mkt_cap</th>\n",
       "      <th>pb_ratio</th>\n",
       "      <th>beta</th>\n",
       "      <th>profit_margin</th>\n",
       "      <th>ROA</th>\n",
       "      <th>ROE</th>\n",
       "    </tr>\n",
       "  </thead>\n",
       "  <tbody>\n",
       "    <tr>\n",
       "      <th>0</th>\n",
       "      <td>MMM</td>\n",
       "      <td>0.242888</td>\n",
       "      <td>-0.013788</td>\n",
       "      <td>-0.258392</td>\n",
       "      <td>0.254488</td>\n",
       "      <td>0.933246</td>\n",
       "      <td>0.027070</td>\n",
       "    </tr>\n",
       "    <tr>\n",
       "      <th>1</th>\n",
       "      <td>ABT</td>\n",
       "      <td>0.753927</td>\n",
       "      <td>-0.074094</td>\n",
       "      <td>-0.295916</td>\n",
       "      <td>-0.012938</td>\n",
       "      <td>-0.246306</td>\n",
       "      <td>-0.089322</td>\n",
       "    </tr>\n",
       "    <tr>\n",
       "      <th>2</th>\n",
       "      <td>ABBV</td>\n",
       "      <td>0.834382</td>\n",
       "      <td>NaN</td>\n",
       "      <td>-0.727440</td>\n",
       "      <td>0.371281</td>\n",
       "      <td>0.594524</td>\n",
       "      <td>0.555420</td>\n",
       "    </tr>\n",
       "    <tr>\n",
       "      <th>3</th>\n",
       "      <td>ABMD</td>\n",
       "      <td>-0.317389</td>\n",
       "      <td>0.010930</td>\n",
       "      <td>0.060560</td>\n",
       "      <td>0.399344</td>\n",
       "      <td>1.297871</td>\n",
       "      <td>-0.073724</td>\n",
       "    </tr>\n",
       "    <tr>\n",
       "      <th>4</th>\n",
       "      <td>ACN</td>\n",
       "      <td>0.517954</td>\n",
       "      <td>-0.022729</td>\n",
       "      <td>-0.164583</td>\n",
       "      <td>0.037411</td>\n",
       "      <td>1.530992</td>\n",
       "      <td>-0.020712</td>\n",
       "    </tr>\n",
       "    <tr>\n",
       "      <th>...</th>\n",
       "      <td>...</td>\n",
       "      <td>...</td>\n",
       "      <td>...</td>\n",
       "      <td>...</td>\n",
       "      <td>...</td>\n",
       "      <td>...</td>\n",
       "      <td>...</td>\n",
       "    </tr>\n",
       "    <tr>\n",
       "      <th>498</th>\n",
       "      <td>YUM</td>\n",
       "      <td>-0.208980</td>\n",
       "      <td>NaN</td>\n",
       "      <td>-0.464773</td>\n",
       "      <td>0.353947</td>\n",
       "      <td>2.901823</td>\n",
       "      <td>NaN</td>\n",
       "    </tr>\n",
       "    <tr>\n",
       "      <th>499</th>\n",
       "      <td>ZBRA</td>\n",
       "      <td>-0.297736</td>\n",
       "      <td>-0.029566</td>\n",
       "      <td>0.773512</td>\n",
       "      <td>0.049791</td>\n",
       "      <td>0.755915</td>\n",
       "      <td>-0.030962</td>\n",
       "    </tr>\n",
       "    <tr>\n",
       "      <th>500</th>\n",
       "      <td>ZBH</td>\n",
       "      <td>-0.219338</td>\n",
       "      <td>-0.131594</td>\n",
       "      <td>0.510846</td>\n",
       "      <td>-0.399633</td>\n",
       "      <td>-0.598976</td>\n",
       "      <td>-0.117860</td>\n",
       "    </tr>\n",
       "    <tr>\n",
       "      <th>501</th>\n",
       "      <td>ZION</td>\n",
       "      <td>-0.354991</td>\n",
       "      <td>-0.153858</td>\n",
       "      <td>0.942369</td>\n",
       "      <td>0.423280</td>\n",
       "      <td>-0.913789</td>\n",
       "      <td>-0.099691</td>\n",
       "    </tr>\n",
       "    <tr>\n",
       "      <th>502</th>\n",
       "      <td>ZTS</td>\n",
       "      <td>0.067221</td>\n",
       "      <td>0.246368</td>\n",
       "      <td>-0.671154</td>\n",
       "      <td>0.631691</td>\n",
       "      <td>1.301856</td>\n",
       "      <td>0.060120</td>\n",
       "    </tr>\n",
       "  </tbody>\n",
       "</table>\n",
       "<p>503 rows × 7 columns</p>\n",
       "</div>"
      ],
      "text/plain": [
       "    Ticker   mkt_cap  pb_ratio      beta  profit_margin       ROA       ROE\n",
       "0      MMM  0.242888 -0.013788 -0.258392       0.254488  0.933246  0.027070\n",
       "1      ABT  0.753927 -0.074094 -0.295916      -0.012938 -0.246306 -0.089322\n",
       "2     ABBV  0.834382       NaN -0.727440       0.371281  0.594524  0.555420\n",
       "3     ABMD -0.317389  0.010930  0.060560       0.399344  1.297871 -0.073724\n",
       "4      ACN  0.517954 -0.022729 -0.164583       0.037411  1.530992 -0.020712\n",
       "..     ...       ...       ...       ...            ...       ...       ...\n",
       "498    YUM -0.208980       NaN -0.464773       0.353947  2.901823       NaN\n",
       "499   ZBRA -0.297736 -0.029566  0.773512       0.049791  0.755915 -0.030962\n",
       "500    ZBH -0.219338 -0.131594  0.510846      -0.399633 -0.598976 -0.117860\n",
       "501   ZION -0.354991 -0.153858  0.942369       0.423280 -0.913789 -0.099691\n",
       "502    ZTS  0.067221  0.246368 -0.671154       0.631691  1.301856  0.060120\n",
       "\n",
       "[503 rows x 7 columns]"
      ]
     },
     "execution_count": 52,
     "metadata": {},
     "output_type": "execute_result"
    }
   ],
   "source": [
    "# Normalise values\n",
    "stock_ratios_normalised_df = stock_ratios_df.copy()\n",
    "for header in stock_ratios_df.columns[1:]:\n",
    "    col = stock_ratios_df[header]\n",
    "    stock_ratios_normalised_df[header] = (col - col.mean())/col.std()\n",
    "stock_ratios_normalised_df"
   ]
  },
  {
   "cell_type": "code",
   "execution_count": 53,
   "metadata": {},
   "outputs": [
    {
     "data": {
      "text/plain": [
       "['ADS',\n",
       " 'AGN',\n",
       " 'AMG',\n",
       " 'AN',\n",
       " 'AYI',\n",
       " 'BBBY',\n",
       " 'BHI',\n",
       " 'ENDP',\n",
       " 'EQT',\n",
       " 'FL',\n",
       " 'FSLR',\n",
       " 'GT',\n",
       " 'HOG',\n",
       " 'HP',\n",
       " 'JWN',\n",
       " 'LVLT',\n",
       " 'MAC',\n",
       " 'MAT',\n",
       " 'MAT',\n",
       " 'MNK',\n",
       " 'MUR',\n",
       " 'M',\n",
       " 'NAVI',\n",
       " 'PBI',\n",
       " 'PCG',\n",
       " 'PDCO',\n",
       " 'RIG',\n",
       " 'RTN',\n",
       " 'R',\n",
       " 'SIG',\n",
       " 'SRCL',\n",
       " 'SWN',\n",
       " 'TDC',\n",
       " 'TGNA',\n",
       " 'TRIP',\n",
       " 'URBN',\n",
       " 'VIAB']"
      ]
     },
     "execution_count": 53,
     "metadata": {},
     "output_type": "execute_result"
    }
   ],
   "source": [
    "# Tickers to remove if no ratio data\n",
    "tickers_with_no_data = [ticker for ticker in all_cluster.Ticker if ticker not in list(stock_ratios_df.Ticker)]\n",
    "tickers_with_no_data"
   ]
  },
  {
   "cell_type": "code",
   "execution_count": 54,
   "metadata": {},
   "outputs": [
    {
     "data": {
      "text/html": [
       "<div>\n",
       "<style scoped>\n",
       "    .dataframe tbody tr th:only-of-type {\n",
       "        vertical-align: middle;\n",
       "    }\n",
       "\n",
       "    .dataframe tbody tr th {\n",
       "        vertical-align: top;\n",
       "    }\n",
       "\n",
       "    .dataframe thead th {\n",
       "        text-align: right;\n",
       "    }\n",
       "</style>\n",
       "<table border=\"1\" class=\"dataframe\">\n",
       "  <thead>\n",
       "    <tr style=\"text-align: right;\">\n",
       "      <th></th>\n",
       "      <th>Ticker</th>\n",
       "      <th>GICS</th>\n",
       "      <th>lsi_100_kmeans</th>\n",
       "      <th>lsi_100_gmm</th>\n",
       "      <th>lsi_200_kmeans</th>\n",
       "      <th>lsi_200_gmm</th>\n",
       "    </tr>\n",
       "  </thead>\n",
       "  <tbody>\n",
       "    <tr>\n",
       "      <th>0</th>\n",
       "      <td>AAL</td>\n",
       "      <td>16</td>\n",
       "      <td>54</td>\n",
       "      <td>18</td>\n",
       "      <td>18</td>\n",
       "      <td>30</td>\n",
       "    </tr>\n",
       "    <tr>\n",
       "      <th>1</th>\n",
       "      <td>AAPL</td>\n",
       "      <td>48</td>\n",
       "      <td>42</td>\n",
       "      <td>13</td>\n",
       "      <td>41</td>\n",
       "      <td>4</td>\n",
       "    </tr>\n",
       "    <tr>\n",
       "      <th>2</th>\n",
       "      <td>AAP</td>\n",
       "      <td>28</td>\n",
       "      <td>40</td>\n",
       "      <td>11</td>\n",
       "      <td>27</td>\n",
       "      <td>40</td>\n",
       "    </tr>\n",
       "    <tr>\n",
       "      <th>3</th>\n",
       "      <td>ABBV</td>\n",
       "      <td>38</td>\n",
       "      <td>17</td>\n",
       "      <td>1</td>\n",
       "      <td>3</td>\n",
       "      <td>6</td>\n",
       "    </tr>\n",
       "    <tr>\n",
       "      <th>4</th>\n",
       "      <td>ABC</td>\n",
       "      <td>36</td>\n",
       "      <td>15</td>\n",
       "      <td>40</td>\n",
       "      <td>56</td>\n",
       "      <td>6</td>\n",
       "    </tr>\n",
       "  </tbody>\n",
       "</table>\n",
       "</div>"
      ],
      "text/plain": [
       "  Ticker  GICS  lsi_100_kmeans  lsi_100_gmm  lsi_200_kmeans  lsi_200_gmm\n",
       "0    AAL    16              54           18              18           30\n",
       "1   AAPL    48              42           13              41            4\n",
       "2    AAP    28              40           11              27           40\n",
       "3   ABBV    38              17            1               3            6\n",
       "4    ABC    36              15           40              56            6"
      ]
     },
     "execution_count": 54,
     "metadata": {},
     "output_type": "execute_result"
    }
   ],
   "source": [
    "all_cluster_filtered = all_cluster[~all_cluster.Ticker.isin(tickers_with_no_data)].reset_index(drop=True)\n",
    "all_cluster_filtered.head()"
   ]
  },
  {
   "cell_type": "code",
   "execution_count": 55,
   "metadata": {},
   "outputs": [],
   "source": [
    "def cluster_distance(s):\n",
    "    '''\n",
    "    input: series\n",
    "    output: sum(x - x_bar), sum of absolute distances to cluster center\n",
    "    '''\n",
    "    mean = s.mean() #ignores NaN values\n",
    "    abs_dist = abs(s-mean).sum()\n",
    "    return abs_dist"
   ]
  },
  {
   "cell_type": "code",
   "execution_count": 56,
   "metadata": {},
   "outputs": [
    {
     "data": {
      "application/vnd.jupyter.widget-view+json": {
       "model_id": "4704e12942014788856ca2958b5e9650",
       "version_major": 2,
       "version_minor": 0
      },
      "text/plain": [
       "HBox(children=(FloatProgress(value=0.0, max=6.0), HTML(value='')))"
      ]
     },
     "metadata": {},
     "output_type": "display_data"
    },
    {
     "name": "stdout",
     "output_type": "stream",
     "text": [
      "\n"
     ]
    }
   ],
   "source": [
    "RATIO_NAMES_LIST = list(stock_ratios_df.columns[1:])\n",
    "all_cluster_with_ratio = pd.merge(all_cluster_filtered, stock_ratios_df, on='Ticker')\n",
    "ratio_distances_dict = {}\n",
    "\n",
    "for cluster_mtd in tqdm(all_cluster_filtered.columns):\n",
    "    if cluster_mtd == 'Ticker':\n",
    "        continue\n",
    "    \n",
    "    filter_df = all_cluster_with_ratio[[cluster_mtd] + RATIO_NAMES_LIST]\n",
    "    ratio_distance_sum = filter_df.groupby(cluster_mtd).aggregate(cluster_distance).sum()\n",
    "    non_na_count_series = filter_df.count()[1:]\n",
    "    ratio_distance_avg_list = list(ratio_distance_sum/non_na_count_series)\n",
    "    ratio_distances_dict[cluster_mtd] = ratio_distance_avg_list\n",
    "    \n",
    "ratio_distances_df = pd.DataFrame.from_dict(ratio_distances_dict, orient='index', columns=RATIO_NAMES_LIST)"
   ]
  },
  {
   "cell_type": "code",
   "execution_count": 57,
   "metadata": {},
   "outputs": [
    {
     "data": {
      "text/html": [
       "<div>\n",
       "<style scoped>\n",
       "    .dataframe tbody tr th:only-of-type {\n",
       "        vertical-align: middle;\n",
       "    }\n",
       "\n",
       "    .dataframe tbody tr th {\n",
       "        vertical-align: top;\n",
       "    }\n",
       "\n",
       "    .dataframe thead th {\n",
       "        text-align: right;\n",
       "    }\n",
       "</style>\n",
       "<table border=\"1\" class=\"dataframe\">\n",
       "  <thead>\n",
       "    <tr style=\"text-align: right;\">\n",
       "      <th></th>\n",
       "      <th>mkt_cap</th>\n",
       "      <th>pb_ratio</th>\n",
       "      <th>beta</th>\n",
       "      <th>profit_margin</th>\n",
       "      <th>ROA</th>\n",
       "      <th>ROE</th>\n",
       "      <th>Average Ratio Cluster Spread</th>\n",
       "    </tr>\n",
       "  </thead>\n",
       "  <tbody>\n",
       "    <tr>\n",
       "      <th>GICS</th>\n",
       "      <td>51.640003</td>\n",
       "      <td>6.762250</td>\n",
       "      <td>0.240431</td>\n",
       "      <td>0.081658</td>\n",
       "      <td>0.025303</td>\n",
       "      <td>0.665147</td>\n",
       "      <td>9.902465</td>\n",
       "    </tr>\n",
       "    <tr>\n",
       "      <th>lsi_100_kmeans</th>\n",
       "      <td>48.787547</td>\n",
       "      <td>6.479985</td>\n",
       "      <td>0.243092</td>\n",
       "      <td>0.083953</td>\n",
       "      <td>0.026004</td>\n",
       "      <td>0.623042</td>\n",
       "      <td>9.373937</td>\n",
       "    </tr>\n",
       "    <tr>\n",
       "      <th>lsi_100_gmm</th>\n",
       "      <td>53.363695</td>\n",
       "      <td>6.622198</td>\n",
       "      <td>0.243999</td>\n",
       "      <td>0.082414</td>\n",
       "      <td>0.025667</td>\n",
       "      <td>0.652603</td>\n",
       "      <td>10.165096</td>\n",
       "    </tr>\n",
       "    <tr>\n",
       "      <th>lsi_200_kmeans</th>\n",
       "      <td>54.373125</td>\n",
       "      <td>6.744052</td>\n",
       "      <td>0.258279</td>\n",
       "      <td>0.079172</td>\n",
       "      <td>0.025483</td>\n",
       "      <td>0.696797</td>\n",
       "      <td>10.362818</td>\n",
       "    </tr>\n",
       "    <tr>\n",
       "      <th>lsi_200_gmm</th>\n",
       "      <td>54.500793</td>\n",
       "      <td>6.505511</td>\n",
       "      <td>0.250373</td>\n",
       "      <td>0.084229</td>\n",
       "      <td>0.025240</td>\n",
       "      <td>0.699294</td>\n",
       "      <td>10.344240</td>\n",
       "    </tr>\n",
       "  </tbody>\n",
       "</table>\n",
       "</div>"
      ],
      "text/plain": [
       "                  mkt_cap  pb_ratio      beta  profit_margin       ROA  \\\n",
       "GICS            51.640003  6.762250  0.240431       0.081658  0.025303   \n",
       "lsi_100_kmeans  48.787547  6.479985  0.243092       0.083953  0.026004   \n",
       "lsi_100_gmm     53.363695  6.622198  0.243999       0.082414  0.025667   \n",
       "lsi_200_kmeans  54.373125  6.744052  0.258279       0.079172  0.025483   \n",
       "lsi_200_gmm     54.500793  6.505511  0.250373       0.084229  0.025240   \n",
       "\n",
       "                     ROE  Average Ratio Cluster Spread  \n",
       "GICS            0.665147                      9.902465  \n",
       "lsi_100_kmeans  0.623042                      9.373937  \n",
       "lsi_100_gmm     0.652603                     10.165096  \n",
       "lsi_200_kmeans  0.696797                     10.362818  \n",
       "lsi_200_gmm     0.699294                     10.344240  "
      ]
     },
     "execution_count": 57,
     "metadata": {},
     "output_type": "execute_result"
    }
   ],
   "source": [
    "ratio_distances_df['Average Ratio Cluster Spread'] = ratio_distances_df.mean(axis=1)\n",
    "ratio_distances_df"
   ]
  },
  {
   "cell_type": "markdown",
   "metadata": {},
   "source": [
    "### Method 2b - Financial Ratio average cluster distance (averaged by mkt cap)"
   ]
  },
  {
   "cell_type": "code",
   "execution_count": null,
   "metadata": {},
   "outputs": [],
   "source": []
  },
  {
   "cell_type": "markdown",
   "metadata": {},
   "source": [
    "### Method 3 - Majority element ratios (my method)"
   ]
  },
  {
   "cell_type": "code",
   "execution_count": 58,
   "metadata": {
    "scrolled": true
   },
   "outputs": [
    {
     "data": {
      "text/html": [
       "<div>\n",
       "<style scoped>\n",
       "    .dataframe tbody tr th:only-of-type {\n",
       "        vertical-align: middle;\n",
       "    }\n",
       "\n",
       "    .dataframe tbody tr th {\n",
       "        vertical-align: top;\n",
       "    }\n",
       "\n",
       "    .dataframe thead th {\n",
       "        text-align: right;\n",
       "    }\n",
       "</style>\n",
       "<table border=\"1\" class=\"dataframe\">\n",
       "  <thead>\n",
       "    <tr style=\"text-align: right;\">\n",
       "      <th></th>\n",
       "      <th>Ticker</th>\n",
       "      <th>GICS</th>\n",
       "      <th>lsi_100_kmeans</th>\n",
       "      <th>lsi_100_gmm</th>\n",
       "      <th>lsi_200_kmeans</th>\n",
       "      <th>lsi_200_gmm</th>\n",
       "    </tr>\n",
       "  </thead>\n",
       "  <tbody>\n",
       "    <tr>\n",
       "      <th>0</th>\n",
       "      <td>AAL</td>\n",
       "      <td>16</td>\n",
       "      <td>54</td>\n",
       "      <td>18</td>\n",
       "      <td>18</td>\n",
       "      <td>30</td>\n",
       "    </tr>\n",
       "    <tr>\n",
       "      <th>1</th>\n",
       "      <td>AAPL</td>\n",
       "      <td>48</td>\n",
       "      <td>42</td>\n",
       "      <td>13</td>\n",
       "      <td>41</td>\n",
       "      <td>4</td>\n",
       "    </tr>\n",
       "    <tr>\n",
       "      <th>2</th>\n",
       "      <td>AAP</td>\n",
       "      <td>28</td>\n",
       "      <td>40</td>\n",
       "      <td>11</td>\n",
       "      <td>27</td>\n",
       "      <td>40</td>\n",
       "    </tr>\n",
       "    <tr>\n",
       "      <th>3</th>\n",
       "      <td>ABBV</td>\n",
       "      <td>38</td>\n",
       "      <td>17</td>\n",
       "      <td>1</td>\n",
       "      <td>3</td>\n",
       "      <td>6</td>\n",
       "    </tr>\n",
       "    <tr>\n",
       "      <th>4</th>\n",
       "      <td>ABC</td>\n",
       "      <td>36</td>\n",
       "      <td>15</td>\n",
       "      <td>40</td>\n",
       "      <td>56</td>\n",
       "      <td>6</td>\n",
       "    </tr>\n",
       "  </tbody>\n",
       "</table>\n",
       "</div>"
      ],
      "text/plain": [
       "  Ticker  GICS  lsi_100_kmeans  lsi_100_gmm  lsi_200_kmeans  lsi_200_gmm\n",
       "0    AAL    16              54           18              18           30\n",
       "1   AAPL    48              42           13              41            4\n",
       "2    AAP    28              40           11              27           40\n",
       "3   ABBV    38              17            1               3            6\n",
       "4    ABC    36              15           40              56            6"
      ]
     },
     "execution_count": 58,
     "metadata": {},
     "output_type": "execute_result"
    }
   ],
   "source": [
    "all_cluster.head()"
   ]
  },
  {
   "cell_type": "code",
   "execution_count": 59,
   "metadata": {},
   "outputs": [
    {
     "data": {
      "text/html": [
       "<div>\n",
       "<style scoped>\n",
       "    .dataframe tbody tr th:only-of-type {\n",
       "        vertical-align: middle;\n",
       "    }\n",
       "\n",
       "    .dataframe tbody tr th {\n",
       "        vertical-align: top;\n",
       "    }\n",
       "\n",
       "    .dataframe thead th {\n",
       "        text-align: right;\n",
       "    }\n",
       "</style>\n",
       "<table border=\"1\" class=\"dataframe\">\n",
       "  <thead>\n",
       "    <tr style=\"text-align: right;\">\n",
       "      <th></th>\n",
       "      <th>Ticker</th>\n",
       "      <th>GICS</th>\n",
       "      <th>lsi_100_kmeans</th>\n",
       "      <th>lsi_100_gmm</th>\n",
       "      <th>lsi_200_kmeans</th>\n",
       "      <th>lsi_200_gmm</th>\n",
       "    </tr>\n",
       "  </thead>\n",
       "  <tbody>\n",
       "    <tr>\n",
       "      <th>245</th>\n",
       "      <td>MLM</td>\n",
       "      <td>3</td>\n",
       "      <td>19</td>\n",
       "      <td>14</td>\n",
       "      <td>47</td>\n",
       "      <td>34</td>\n",
       "    </tr>\n",
       "    <tr>\n",
       "      <th>384</th>\n",
       "      <td>VMC</td>\n",
       "      <td>3</td>\n",
       "      <td>59</td>\n",
       "      <td>14</td>\n",
       "      <td>47</td>\n",
       "      <td>34</td>\n",
       "    </tr>\n",
       "  </tbody>\n",
       "</table>\n",
       "</div>"
      ],
      "text/plain": [
       "    Ticker  GICS  lsi_100_kmeans  lsi_100_gmm  lsi_200_kmeans  lsi_200_gmm\n",
       "245    MLM     3              19           14              47           34\n",
       "384    VMC     3              59           14              47           34"
      ]
     },
     "execution_count": 59,
     "metadata": {},
     "output_type": "execute_result"
    }
   ],
   "source": [
    "# Test\n",
    "all_cluster[all_cluster.GICS == 3]"
   ]
  },
  {
   "cell_type": "code",
   "execution_count": 60,
   "metadata": {},
   "outputs": [],
   "source": [
    "def majority_element_proportion(s):\n",
    "    '''\n",
    "    input: series\n",
    "    output: proportion of majority element in series\n",
    "    '''\n",
    "    l = len(s)\n",
    "    n = s.value_counts().iloc[0]\n",
    "    return n/l"
   ]
  },
  {
   "cell_type": "code",
   "execution_count": 61,
   "metadata": {},
   "outputs": [],
   "source": [
    "correctness_ratios_df = all_cluster.iloc[:,1:].groupby('GICS').aggregate(majority_element_proportion)"
   ]
  },
  {
   "cell_type": "code",
   "execution_count": 62,
   "metadata": {},
   "outputs": [
    {
     "data": {
      "text/plain": [
       "<matplotlib.axes._subplots.AxesSubplot at 0x1c5357f5fd0>"
      ]
     },
     "execution_count": 62,
     "metadata": {},
     "output_type": "execute_result"
    },
    {
     "data": {
      "image/png": "[encoded data removed]",
      "text/plain": [
       "<matplotlib.figure.Figure at 0x1c53a281f98>"
      ]
     },
     "metadata": {
      "needs_background": "light"
     },
     "output_type": "display_data"
    }
   ],
   "source": [
    "correctness_ratios_df.plot.bar()\n",
    "# sns.barplot(correctness_ratios_df)"
   ]
  },
  {
   "cell_type": "code",
   "execution_count": 63,
   "metadata": {
    "scrolled": false
   },
   "outputs": [
    {
     "name": "stderr",
     "output_type": "stream",
     "text": [
      "c:\\users\\sival\\appdata\\local\\programs\\python\\python36\\lib\\site-packages\\scipy\\stats\\stats.py:1713: FutureWarning: Using a non-tuple sequence for multidimensional indexing is deprecated; use `arr[tuple(seq)]` instead of `arr[seq]`. In the future this will be interpreted as an array index, `arr[np.array(seq)]`, which will result either in an error or a different result.\n",
      "  return np.add.reduce(sorted[indexer] * weights, axis=axis) / sumval\n"
     ]
    },
    {
     "data": {
      "text/plain": [
       "<matplotlib.axes._subplots.AxesSubplot at 0x1c53a0574e0>"
      ]
     },
     "execution_count": 63,
     "metadata": {},
     "output_type": "execute_result"
    },
    {
     "data": {
      "image/png": "[encoded data removed]",
      "text/plain": [
       "<matplotlib.figure.Figure at 0x1c539f93be0>"
      ]
     },
     "metadata": {
      "needs_background": "light"
     },
     "output_type": "display_data"
    }
   ],
   "source": [
    "sns.distplot(correctness_ratios_df.iloc[:,0], bins=15)"
   ]
  },
  {
   "cell_type": "markdown",
   "metadata": {},
   "source": [
    "- Since most of the ratios seem to be above the 0.5 ratio, the clustring seems to have clustered pretty closely to GICS standard"
   ]
  },
  {
   "cell_type": "code",
   "execution_count": null,
   "metadata": {},
   "outputs": [],
   "source": []
  },
  {
   "cell_type": "code",
   "execution_count": null,
   "metadata": {},
   "outputs": [],
   "source": []
  },
  {
   "cell_type": "markdown",
   "metadata": {},
   "source": [
    "# Extra"
   ]
  },
  {
   "cell_type": "markdown",
   "metadata": {},
   "source": [
    "### Tests"
   ]
  },
  {
   "cell_type": "markdown",
   "metadata": {},
   "source": [
    "##### LSA Word Embedding (Test, Actual For loop is below)"
   ]
  },
  {
   "cell_type": "code",
   "execution_count": null,
   "metadata": {},
   "outputs": [],
   "source": [
    "lsa = TruncatedSVD(200, algorithm = 'arpack')\n",
    "dtm_lsa = lsa.fit_transform(dtm)\n",
    "dtm_lsa = Normalizer(copy=False).fit_transform(dtm_lsa) # normalisae so each vector is len 1"
   ]
  },
  {
   "cell_type": "code",
   "execution_count": null,
   "metadata": {
    "scrolled": true
   },
   "outputs": [],
   "source": [
    "pd.DataFrame(dtm_lsa).head()"
   ]
  },
  {
   "cell_type": "markdown",
   "metadata": {},
   "source": [
    "### Random"
   ]
  },
  {
   "cell_type": "code",
   "execution_count": null,
   "metadata": {
    "scrolled": true
   },
   "outputs": [],
   "source": [
    "# Plotting for 2D\n",
    "%pylab inline\n",
    "\n",
    "xs = [w[0] for w in dtm_lsa]\n",
    "ys = [w[1] for w in dtm_lsa]\n",
    "xs, ys\n",
    "\n",
    "figure()\n",
    "plt.scatter(xs,ys)\n",
    "xlabel('First principal component')\n",
    "ylabel('Second principal component')\n",
    "title('Plot of points against LSA principal components')"
   ]
  },
  {
   "cell_type": "code",
   "execution_count": null,
   "metadata": {},
   "outputs": [],
   "source": [
    "def cosine_similarity(dtm):\n",
    "    '''\n",
    "    input: Doc Matrix\n",
    "    output: list of lists indicating clusters\n",
    "    '''\n",
    "    corr = np.asarray(numpy.asmatrix(dtm_lsa) * numpy.asmatrix(dtm_lsa).T)\n",
    "    \n",
    "    L = dtm.shape[0]\n",
    "    clusters = [[i] for i in range(L)]\n",
    "    \n",
    "    while (len(clusters) != NUM_INDUSTRIES):\n",
    "        L = len(clusters)\n",
    "        max_similarity = -1\n",
    "        max_similarity_clusters = (None, None)\n",
    "        for i in range(L):\n",
    "            for j in range(i+1,L):\n",
    "                cluster_1 = clusters[i]\n",
    "                cluster_2 = clusters[j]\n",
    "                n = len(cluster_1) * len(cluster_2)\n",
    "                \n",
    "                # Similarity\n",
    "                total_similarity = 0\n",
    "                for cpy_1 in cluster_1:\n",
    "                    for cpy_2 in cluster_2:\n",
    "                        print(cpy_1, cpy_2)\n",
    "                        total_similarity += corr[cpy_1][cpy_2]\n",
    "                similarity = total_similarity / n\n",
    "                \n",
    "                if similarity > max_similarity:\n",
    "                    max_similarity = similarity \n",
    "                    max_similarity_clusters = (i, j)\n",
    "        \n",
    "        # Merge max_similarity clusters\n",
    "        cluster_merge = clusters.pop(max_similarity_clusters[1])\n",
    "        clusters[max_similarity_clusters[0]].append(cluster_merge)\n",
    "        print(L)\n",
    "    return clusters"
   ]
  },
  {
   "cell_type": "markdown",
   "metadata": {},
   "source": [
    "|Embedding model|R2|proportion of right classification|\n",
    "|----------------|--------|--------|\n",
    "| LSI length 200 | 0.4537 | 0.4962 |\n",
    "| LSI length 300 | 0.4459 | 0.4768 |\n",
    "| LSI length 400 | 0.4421 | 0.4072 |\n",
    "| LSI length 500 | 0.4554 | 0.4244 |\n",
    "| LSI length 600 | 0.4362 | 0.4409 |\n",
    "| LSI length 700 | 0.4407 | 0.3842 |\n",
    "| LSI length 800 | 0.4417 | 0.4921 |\n",
    "| LSI length 900 | 0.4478 | 0.4005 |\n",
    "| LSI length 1000 | 0.4403 | 0.4068 |\n",
    "| LSI length 1100 | 0.4380 | 0.3933 |"
   ]
  },
  {
   "cell_type": "code",
   "execution_count": null,
   "metadata": {},
   "outputs": [],
   "source": []
  },
  {
   "cell_type": "code",
   "execution_count": null,
   "metadata": {},
   "outputs": [],
   "source": []
  }
 ],
 "metadata": {
  "kernelspec": {
   "display_name": "Python 3",
   "language": "python",
   "name": "python3"
  },
  "language_info": {
   "codemirror_mode": {
    "name": "ipython",
    "version": 3
   },
   "file_extension": ".py",
   "mimetype": "text/x-python",
   "name": "python",
   "nbconvert_exporter": "python",
   "pygments_lexer": "ipython3",
   "version": "3.6.2"
  }
 },
 "nbformat": 4,
 "nbformat_minor": 2
}
